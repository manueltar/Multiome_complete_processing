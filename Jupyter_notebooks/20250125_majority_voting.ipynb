{
 "cells": [
  {
   "cell_type": "code",
   "execution_count": null,
   "id": "34487ed8-fc47-4632-bfe8-4599126654d9",
   "metadata": {},
   "outputs": [],
   "source": []
  },
  {
   "cell_type": "code",
   "execution_count": 1,
   "id": "f965a241-e55d-4a24-a7f3-291ac3fa9fff",
   "metadata": {
    "execution": {
     "iopub.execute_input": "2025-01-26T18:52:31.031245Z",
     "iopub.status.busy": "2025-01-26T18:52:31.030966Z",
     "iopub.status.idle": "2025-01-26T18:52:39.145176Z",
     "shell.execute_reply": "2025-01-26T18:52:39.144732Z",
     "shell.execute_reply.started": "2025-01-26T18:52:31.031223Z"
    }
   },
   "outputs": [],
   "source": [
    "import pandas as pd"
   ]
  },
  {
   "cell_type": "code",
   "execution_count": 2,
   "id": "4ac39c1d-4262-482d-8389-55792e2fa38e",
   "metadata": {
    "execution": {
     "iopub.execute_input": "2025-01-26T18:52:39.146328Z",
     "iopub.status.busy": "2025-01-26T18:52:39.146041Z",
     "iopub.status.idle": "2025-01-26T18:53:00.972817Z",
     "shell.execute_reply": "2025-01-26T18:53:00.972343Z",
     "shell.execute_reply.started": "2025-01-26T18:52:39.146310Z"
    }
   },
   "outputs": [],
   "source": [
    "import scanpy as sc"
   ]
  },
  {
   "cell_type": "code",
   "execution_count": 31,
   "id": "20f87b46-7c21-40c4-9a4e-8bd6469d5418",
   "metadata": {
    "execution": {
     "iopub.execute_input": "2025-01-26T19:18:28.970139Z",
     "iopub.status.busy": "2025-01-26T19:18:28.969854Z",
     "iopub.status.idle": "2025-01-26T19:18:29.014525Z",
     "shell.execute_reply": "2025-01-26T19:18:29.014059Z",
     "shell.execute_reply.started": "2025-01-26T19:18:28.970120Z"
    }
   },
   "outputs": [],
   "source": [
    "obs = pd.read_csv('/group/soranzo/manuel.tardaguila/2025_hESC_MK_multiome/processing_outputs/Majority_voting_object.csv')"
   ]
  },
  {
   "cell_type": "code",
   "execution_count": 32,
   "id": "fc25d216-ee31-4e6f-8e0a-06ea6d10c49a",
   "metadata": {
    "execution": {
     "iopub.execute_input": "2025-01-26T19:18:29.174317Z",
     "iopub.status.busy": "2025-01-26T19:18:29.174037Z",
     "iopub.status.idle": "2025-01-26T19:18:29.180243Z",
     "shell.execute_reply": "2025-01-26T19:18:29.179869Z",
     "shell.execute_reply.started": "2025-01-26T19:18:29.174299Z"
    }
   },
   "outputs": [
    {
     "data": {
      "text/html": [
       "<div>\n",
       "<style scoped>\n",
       "    .dataframe tbody tr th:only-of-type {\n",
       "        vertical-align: middle;\n",
       "    }\n",
       "\n",
       "    .dataframe tbody tr th {\n",
       "        vertical-align: top;\n",
       "    }\n",
       "\n",
       "    .dataframe thead th {\n",
       "        text-align: right;\n",
       "    }\n",
       "</style>\n",
       "<table border=\"1\" class=\"dataframe\">\n",
       "  <thead>\n",
       "    <tr style=\"text-align: right;\">\n",
       "      <th></th>\n",
       "      <th>Unnamed: 0</th>\n",
       "      <th>seurat_clusters</th>\n",
       "      <th>CellTypist_BMA_label</th>\n",
       "      <th>CellTypist_IPSCs_label</th>\n",
       "      <th>CellID</th>\n",
       "    </tr>\n",
       "  </thead>\n",
       "  <tbody>\n",
       "    <tr>\n",
       "      <th>0</th>\n",
       "      <td>MCO_01326_AAACAGCCACAGCCAT-1</td>\n",
       "      <td>1</td>\n",
       "      <td>DC3</td>\n",
       "      <td>iPSCs</td>\n",
       "      <td>MCO_01326_AAACAGCCACAGCCAT-1</td>\n",
       "    </tr>\n",
       "    <tr>\n",
       "      <th>1</th>\n",
       "      <td>MCO_01326_AAACAGCCACCAGGTT-1</td>\n",
       "      <td>1</td>\n",
       "      <td>DC3</td>\n",
       "      <td>EarlyFibroblasts</td>\n",
       "      <td>MCO_01326_AAACAGCCACCAGGTT-1</td>\n",
       "    </tr>\n",
       "  </tbody>\n",
       "</table>\n",
       "</div>"
      ],
      "text/plain": [
       "                     Unnamed: 0  seurat_clusters CellTypist_BMA_label  \\\n",
       "0  MCO_01326_AAACAGCCACAGCCAT-1                1                  DC3   \n",
       "1  MCO_01326_AAACAGCCACCAGGTT-1                1                  DC3   \n",
       "\n",
       "  CellTypist_IPSCs_label                        CellID  \n",
       "0                  iPSCs  MCO_01326_AAACAGCCACAGCCAT-1  \n",
       "1       EarlyFibroblasts  MCO_01326_AAACAGCCACCAGGTT-1  "
      ]
     },
     "execution_count": 32,
     "metadata": {},
     "output_type": "execute_result"
    }
   ],
   "source": [
    "obs.head(2)"
   ]
  },
  {
   "cell_type": "code",
   "execution_count": 33,
   "id": "a68cb178-a5d7-41cd-abf9-9bd4a2e27a5a",
   "metadata": {
    "execution": {
     "iopub.execute_input": "2025-01-26T19:18:29.792327Z",
     "iopub.status.busy": "2025-01-26T19:18:29.792107Z",
     "iopub.status.idle": "2025-01-26T19:18:29.795970Z",
     "shell.execute_reply": "2025-01-26T19:18:29.795612Z",
     "shell.execute_reply.started": "2025-01-26T19:18:29.792311Z"
    },
    "scrolled": true
   },
   "outputs": [
    {
     "data": {
      "text/plain": [
       "0         1\n",
       "1         1\n",
       "2         1\n",
       "3         9\n",
       "4         1\n",
       "         ..\n",
       "37499    15\n",
       "37500     4\n",
       "37501     4\n",
       "37502     6\n",
       "37503     2\n",
       "Name: seurat_clusters, Length: 37504, dtype: int64"
      ]
     },
     "execution_count": 33,
     "metadata": {},
     "output_type": "execute_result"
    }
   ],
   "source": [
    "obs['seurat_clusters']"
   ]
  },
  {
   "cell_type": "markdown",
   "id": "14088afb-0c4b-48fd-97ea-1578b4483710",
   "metadata": {
    "execution": {
     "iopub.execute_input": "2025-01-26T19:03:17.320413Z",
     "iopub.status.busy": "2025-01-26T19:03:17.319873Z",
     "iopub.status.idle": "2025-01-26T19:03:17.323704Z",
     "shell.execute_reply": "2025-01-26T19:03:17.323207Z",
     "shell.execute_reply.started": "2025-01-26T19:03:17.320392Z"
    }
   },
   "source": [
    "## Majority voting for fetal bone marrow model"
   ]
  },
  {
   "cell_type": "code",
   "execution_count": 34,
   "id": "fc37f8f7-9ad1-4da2-ab2d-8731b9f2499d",
   "metadata": {
    "execution": {
     "iopub.execute_input": "2025-01-26T19:18:31.007914Z",
     "iopub.status.busy": "2025-01-26T19:18:31.007497Z",
     "iopub.status.idle": "2025-01-26T19:18:31.023435Z",
     "shell.execute_reply": "2025-01-26T19:18:31.023047Z",
     "shell.execute_reply.started": "2025-01-26T19:18:31.007897Z"
    }
   },
   "outputs": [],
   "source": [
    "votes = pd.crosstab(obs.CellTypist_BMA_label, obs.seurat_clusters)\n",
    "majority = votes.idxmax(axis=0)\n",
    "majority = majority[obs.seurat_clusters].reset_index()"
   ]
  },
  {
   "cell_type": "code",
   "execution_count": 35,
   "id": "5f2be836-8094-42ff-931f-ed90ea1dbeeb",
   "metadata": {
    "execution": {
     "iopub.execute_input": "2025-01-26T19:18:31.915106Z",
     "iopub.status.busy": "2025-01-26T19:18:31.914881Z",
     "iopub.status.idle": "2025-01-26T19:18:31.919491Z",
     "shell.execute_reply": "2025-01-26T19:18:31.919130Z",
     "shell.execute_reply.started": "2025-01-26T19:18:31.915090Z"
    }
   },
   "outputs": [
    {
     "data": {
      "text/html": [
       "<div>\n",
       "<style scoped>\n",
       "    .dataframe tbody tr th:only-of-type {\n",
       "        vertical-align: middle;\n",
       "    }\n",
       "\n",
       "    .dataframe tbody tr th {\n",
       "        vertical-align: top;\n",
       "    }\n",
       "\n",
       "    .dataframe thead th {\n",
       "        text-align: right;\n",
       "    }\n",
       "</style>\n",
       "<table border=\"1\" class=\"dataframe\">\n",
       "  <thead>\n",
       "    <tr style=\"text-align: right;\">\n",
       "      <th></th>\n",
       "      <th>seurat_clusters</th>\n",
       "      <th>0</th>\n",
       "    </tr>\n",
       "  </thead>\n",
       "  <tbody>\n",
       "    <tr>\n",
       "      <th>0</th>\n",
       "      <td>1</td>\n",
       "      <td>myelocyte</td>\n",
       "    </tr>\n",
       "    <tr>\n",
       "      <th>1</th>\n",
       "      <td>1</td>\n",
       "      <td>myelocyte</td>\n",
       "    </tr>\n",
       "  </tbody>\n",
       "</table>\n",
       "</div>"
      ],
      "text/plain": [
       "   seurat_clusters          0\n",
       "0                1  myelocyte\n",
       "1                1  myelocyte"
      ]
     },
     "execution_count": 35,
     "metadata": {},
     "output_type": "execute_result"
    }
   ],
   "source": [
    "majority.head(2)"
   ]
  },
  {
   "cell_type": "code",
   "execution_count": 36,
   "id": "f70ee168-1140-4e5d-8c85-9c50c34c731c",
   "metadata": {
    "execution": {
     "iopub.execute_input": "2025-01-26T19:18:32.316077Z",
     "iopub.status.busy": "2025-01-26T19:18:32.315866Z",
     "iopub.status.idle": "2025-01-26T19:18:32.319726Z",
     "shell.execute_reply": "2025-01-26T19:18:32.319363Z",
     "shell.execute_reply.started": "2025-01-26T19:18:32.316061Z"
    }
   },
   "outputs": [
    {
     "data": {
      "text/plain": [
       "0        myelocyte\n",
       "1        myelocyte\n",
       "2        myelocyte\n",
       "3         early MK\n",
       "4        myelocyte\n",
       "           ...    \n",
       "37499           MK\n",
       "37500           MK\n",
       "37501           MK\n",
       "37502           MK\n",
       "37503          DC3\n",
       "Name: 0, Length: 37504, dtype: object"
      ]
     },
     "execution_count": 36,
     "metadata": {},
     "output_type": "execute_result"
    }
   ],
   "source": [
    "majority[0]"
   ]
  },
  {
   "cell_type": "code",
   "execution_count": 37,
   "id": "d73f7d88-8582-4eed-8237-b5820884afdc",
   "metadata": {
    "execution": {
     "iopub.execute_input": "2025-01-26T19:18:36.317473Z",
     "iopub.status.busy": "2025-01-26T19:18:36.317231Z",
     "iopub.status.idle": "2025-01-26T19:18:36.324615Z",
     "shell.execute_reply": "2025-01-26T19:18:36.324219Z",
     "shell.execute_reply.started": "2025-01-26T19:18:36.317457Z"
    },
    "scrolled": true
   },
   "outputs": [],
   "source": [
    "maj_dict = dict(zip(majority['seurat_clusters'], majority[0]))"
   ]
  },
  {
   "cell_type": "code",
   "execution_count": 38,
   "id": "51ee6dac-5d44-45f5-a081-f551d96403f3",
   "metadata": {
    "execution": {
     "iopub.execute_input": "2025-01-26T19:18:36.506294Z",
     "iopub.status.busy": "2025-01-26T19:18:36.506084Z",
     "iopub.status.idle": "2025-01-26T19:18:36.509365Z",
     "shell.execute_reply": "2025-01-26T19:18:36.509008Z",
     "shell.execute_reply.started": "2025-01-26T19:18:36.506278Z"
    }
   },
   "outputs": [
    {
     "data": {
      "text/plain": [
       "{1: 'myelocyte',\n",
       " 9: 'early MK',\n",
       " 13: 'myelocyte',\n",
       " 16: 'myelocyte',\n",
       " 5: 'myelocyte',\n",
       " 18: 'myelocyte',\n",
       " 2: 'DC3',\n",
       " 12: 'tip EC',\n",
       " 3: 'MK',\n",
       " 4: 'MK',\n",
       " 11: 'DC3',\n",
       " 8: 'early erythroid',\n",
       " 10: 'DC3',\n",
       " 15: 'MK',\n",
       " 17: 'MK',\n",
       " 6: 'MK',\n",
       " 7: 'MK',\n",
       " 14: 'MK'}"
      ]
     },
     "execution_count": 38,
     "metadata": {},
     "output_type": "execute_result"
    }
   ],
   "source": [
    "maj_dict"
   ]
  },
  {
   "cell_type": "code",
   "execution_count": 39,
   "id": "106b06f8-c107-481b-a5db-c30bfb84fd86",
   "metadata": {
    "execution": {
     "iopub.execute_input": "2025-01-26T19:18:54.255521Z",
     "iopub.status.busy": "2025-01-26T19:18:54.255054Z",
     "iopub.status.idle": "2025-01-26T19:18:54.259159Z",
     "shell.execute_reply": "2025-01-26T19:18:54.258748Z",
     "shell.execute_reply.started": "2025-01-26T19:18:54.255502Z"
    }
   },
   "outputs": [],
   "source": [
    "obs['majority_voting_BMA'] = obs['seurat_clusters'].map(maj_dict)"
   ]
  },
  {
   "cell_type": "code",
   "execution_count": 28,
   "id": "5e6ee538-b733-48d2-a607-f508e9fb8269",
   "metadata": {
    "execution": {
     "iopub.execute_input": "2025-01-26T19:15:50.419959Z",
     "iopub.status.busy": "2025-01-26T19:15:50.419720Z",
     "iopub.status.idle": "2025-01-26T19:15:50.427612Z",
     "shell.execute_reply": "2025-01-26T19:15:50.427239Z",
     "shell.execute_reply.started": "2025-01-26T19:15:50.419943Z"
    }
   },
   "outputs": [
    {
     "data": {
      "text/html": [
       "<div>\n",
       "<style scoped>\n",
       "    .dataframe tbody tr th:only-of-type {\n",
       "        vertical-align: middle;\n",
       "    }\n",
       "\n",
       "    .dataframe tbody tr th {\n",
       "        vertical-align: top;\n",
       "    }\n",
       "\n",
       "    .dataframe thead th {\n",
       "        text-align: right;\n",
       "    }\n",
       "</style>\n",
       "<table border=\"1\" class=\"dataframe\">\n",
       "  <thead>\n",
       "    <tr style=\"text-align: right;\">\n",
       "      <th></th>\n",
       "      <th>Unnamed: 0</th>\n",
       "      <th>seurat_clusters</th>\n",
       "      <th>CellTypist_BMA_label</th>\n",
       "      <th>CellTypist_IPSCs_label</th>\n",
       "      <th>CellID</th>\n",
       "      <th>majority_voting</th>\n",
       "    </tr>\n",
       "  </thead>\n",
       "  <tbody>\n",
       "    <tr>\n",
       "      <th>0</th>\n",
       "      <td>MCO_01326_AAACAGCCACAGCCAT-1</td>\n",
       "      <td>1</td>\n",
       "      <td>DC3</td>\n",
       "      <td>iPSCs</td>\n",
       "      <td>MCO_01326_AAACAGCCACAGCCAT-1</td>\n",
       "      <td>myelocyte</td>\n",
       "    </tr>\n",
       "    <tr>\n",
       "      <th>1</th>\n",
       "      <td>MCO_01326_AAACAGCCACCAGGTT-1</td>\n",
       "      <td>1</td>\n",
       "      <td>DC3</td>\n",
       "      <td>EarlyFibroblasts</td>\n",
       "      <td>MCO_01326_AAACAGCCACCAGGTT-1</td>\n",
       "      <td>myelocyte</td>\n",
       "    </tr>\n",
       "    <tr>\n",
       "      <th>2</th>\n",
       "      <td>MCO_01326_AAACAGCCACGGTACT-1</td>\n",
       "      <td>1</td>\n",
       "      <td>myelocyte</td>\n",
       "      <td>PrimitiveStreak</td>\n",
       "      <td>MCO_01326_AAACAGCCACGGTACT-1</td>\n",
       "      <td>myelocyte</td>\n",
       "    </tr>\n",
       "    <tr>\n",
       "      <th>3</th>\n",
       "      <td>MCO_01326_AAACAGCCAGCCGCTA-1</td>\n",
       "      <td>9</td>\n",
       "      <td>myelocyte</td>\n",
       "      <td>iPSCs</td>\n",
       "      <td>MCO_01326_AAACAGCCAGCCGCTA-1</td>\n",
       "      <td>early MK</td>\n",
       "    </tr>\n",
       "    <tr>\n",
       "      <th>4</th>\n",
       "      <td>MCO_01326_AAACAGCCAGGAAGCC-1</td>\n",
       "      <td>1</td>\n",
       "      <td>sinusoidal EC</td>\n",
       "      <td>PrimitiveStreak</td>\n",
       "      <td>MCO_01326_AAACAGCCAGGAAGCC-1</td>\n",
       "      <td>myelocyte</td>\n",
       "    </tr>\n",
       "    <tr>\n",
       "      <th>...</th>\n",
       "      <td>...</td>\n",
       "      <td>...</td>\n",
       "      <td>...</td>\n",
       "      <td>...</td>\n",
       "      <td>...</td>\n",
       "      <td>...</td>\n",
       "    </tr>\n",
       "    <tr>\n",
       "      <th>37499</th>\n",
       "      <td>MCO_01329_TTTGTTGGTAAAGCGG-1</td>\n",
       "      <td>15</td>\n",
       "      <td>MK</td>\n",
       "      <td>Megakaryocytes</td>\n",
       "      <td>MCO_01329_TTTGTTGGTAAAGCGG-1</td>\n",
       "      <td>MK</td>\n",
       "    </tr>\n",
       "    <tr>\n",
       "      <th>37500</th>\n",
       "      <td>MCO_01329_TTTGTTGGTATTTGGG-1</td>\n",
       "      <td>4</td>\n",
       "      <td>MK</td>\n",
       "      <td>Megakaryocytes</td>\n",
       "      <td>MCO_01329_TTTGTTGGTATTTGGG-1</td>\n",
       "      <td>MK</td>\n",
       "    </tr>\n",
       "    <tr>\n",
       "      <th>37501</th>\n",
       "      <td>MCO_01329_TTTGTTGGTCATGAGC-1</td>\n",
       "      <td>4</td>\n",
       "      <td>myelocyte</td>\n",
       "      <td>Megakaryocytes</td>\n",
       "      <td>MCO_01329_TTTGTTGGTCATGAGC-1</td>\n",
       "      <td>MK</td>\n",
       "    </tr>\n",
       "    <tr>\n",
       "      <th>37502</th>\n",
       "      <td>MCO_01329_TTTGTTGGTGATTTGG-1</td>\n",
       "      <td>6</td>\n",
       "      <td>MK</td>\n",
       "      <td>Megakaryocytes</td>\n",
       "      <td>MCO_01329_TTTGTTGGTGATTTGG-1</td>\n",
       "      <td>MK</td>\n",
       "    </tr>\n",
       "    <tr>\n",
       "      <th>37503</th>\n",
       "      <td>MCO_01329_TTTGTTGGTTGTAACG-1</td>\n",
       "      <td>2</td>\n",
       "      <td>pre pro B progenitor</td>\n",
       "      <td>Megakaryocytes</td>\n",
       "      <td>MCO_01329_TTTGTTGGTTGTAACG-1</td>\n",
       "      <td>DC3</td>\n",
       "    </tr>\n",
       "  </tbody>\n",
       "</table>\n",
       "<p>37504 rows × 6 columns</p>\n",
       "</div>"
      ],
      "text/plain": [
       "                         Unnamed: 0  seurat_clusters  CellTypist_BMA_label  \\\n",
       "0      MCO_01326_AAACAGCCACAGCCAT-1                1                   DC3   \n",
       "1      MCO_01326_AAACAGCCACCAGGTT-1                1                   DC3   \n",
       "2      MCO_01326_AAACAGCCACGGTACT-1                1             myelocyte   \n",
       "3      MCO_01326_AAACAGCCAGCCGCTA-1                9             myelocyte   \n",
       "4      MCO_01326_AAACAGCCAGGAAGCC-1                1         sinusoidal EC   \n",
       "...                             ...              ...                   ...   \n",
       "37499  MCO_01329_TTTGTTGGTAAAGCGG-1               15                    MK   \n",
       "37500  MCO_01329_TTTGTTGGTATTTGGG-1                4                    MK   \n",
       "37501  MCO_01329_TTTGTTGGTCATGAGC-1                4             myelocyte   \n",
       "37502  MCO_01329_TTTGTTGGTGATTTGG-1                6                    MK   \n",
       "37503  MCO_01329_TTTGTTGGTTGTAACG-1                2  pre pro B progenitor   \n",
       "\n",
       "      CellTypist_IPSCs_label                        CellID majority_voting  \n",
       "0                      iPSCs  MCO_01326_AAACAGCCACAGCCAT-1       myelocyte  \n",
       "1           EarlyFibroblasts  MCO_01326_AAACAGCCACCAGGTT-1       myelocyte  \n",
       "2            PrimitiveStreak  MCO_01326_AAACAGCCACGGTACT-1       myelocyte  \n",
       "3                      iPSCs  MCO_01326_AAACAGCCAGCCGCTA-1        early MK  \n",
       "4            PrimitiveStreak  MCO_01326_AAACAGCCAGGAAGCC-1       myelocyte  \n",
       "...                      ...                           ...             ...  \n",
       "37499         Megakaryocytes  MCO_01329_TTTGTTGGTAAAGCGG-1              MK  \n",
       "37500         Megakaryocytes  MCO_01329_TTTGTTGGTATTTGGG-1              MK  \n",
       "37501         Megakaryocytes  MCO_01329_TTTGTTGGTCATGAGC-1              MK  \n",
       "37502         Megakaryocytes  MCO_01329_TTTGTTGGTGATTTGG-1              MK  \n",
       "37503         Megakaryocytes  MCO_01329_TTTGTTGGTTGTAACG-1             DC3  \n",
       "\n",
       "[37504 rows x 6 columns]"
      ]
     },
     "execution_count": 28,
     "metadata": {},
     "output_type": "execute_result"
    }
   ],
   "source": [
    "obs"
   ]
  },
  {
   "cell_type": "code",
   "execution_count": null,
   "id": "3732fcc1-7ce2-4fa7-ba3a-574fb5540e9c",
   "metadata": {},
   "outputs": [],
   "source": []
  },
  {
   "cell_type": "markdown",
   "id": "09715e19-fc5f-4f2c-bda2-4483c6bf4070",
   "metadata": {
    "execution": {
     "iopub.execute_input": "2025-01-26T19:03:17.320413Z",
     "iopub.status.busy": "2025-01-26T19:03:17.319873Z",
     "iopub.status.idle": "2025-01-26T19:03:17.323704Z",
     "shell.execute_reply": "2025-01-26T19:03:17.323207Z",
     "shell.execute_reply.started": "2025-01-26T19:03:17.320392Z"
    }
   },
   "source": [
    "## Majority voting for iPSC myelopoiesis model"
   ]
  },
  {
   "cell_type": "code",
   "execution_count": 40,
   "id": "a03bc5b7-03c5-4138-8a2e-ed80c5c617b5",
   "metadata": {
    "execution": {
     "iopub.execute_input": "2025-01-26T19:18:58.642079Z",
     "iopub.status.busy": "2025-01-26T19:18:58.641811Z",
     "iopub.status.idle": "2025-01-26T19:18:58.655085Z",
     "shell.execute_reply": "2025-01-26T19:18:58.654687Z",
     "shell.execute_reply.started": "2025-01-26T19:18:58.642061Z"
    }
   },
   "outputs": [],
   "source": [
    "votes = pd.crosstab(obs.CellTypist_IPSCs_label, obs.seurat_clusters)\n",
    "majority = votes.idxmax(axis=0)\n",
    "majority = majority[obs.seurat_clusters].reset_index()"
   ]
  },
  {
   "cell_type": "code",
   "execution_count": 41,
   "id": "968a65b3-cb76-4a53-a6a9-56d371be8758",
   "metadata": {
    "execution": {
     "iopub.execute_input": "2025-01-26T19:18:58.839421Z",
     "iopub.status.busy": "2025-01-26T19:18:58.839194Z",
     "iopub.status.idle": "2025-01-26T19:18:58.844056Z",
     "shell.execute_reply": "2025-01-26T19:18:58.843694Z",
     "shell.execute_reply.started": "2025-01-26T19:18:58.839404Z"
    }
   },
   "outputs": [
    {
     "data": {
      "text/html": [
       "<div>\n",
       "<style scoped>\n",
       "    .dataframe tbody tr th:only-of-type {\n",
       "        vertical-align: middle;\n",
       "    }\n",
       "\n",
       "    .dataframe tbody tr th {\n",
       "        vertical-align: top;\n",
       "    }\n",
       "\n",
       "    .dataframe thead th {\n",
       "        text-align: right;\n",
       "    }\n",
       "</style>\n",
       "<table border=\"1\" class=\"dataframe\">\n",
       "  <thead>\n",
       "    <tr style=\"text-align: right;\">\n",
       "      <th></th>\n",
       "      <th>seurat_clusters</th>\n",
       "      <th>0</th>\n",
       "    </tr>\n",
       "  </thead>\n",
       "  <tbody>\n",
       "    <tr>\n",
       "      <th>0</th>\n",
       "      <td>1</td>\n",
       "      <td>iPSCs</td>\n",
       "    </tr>\n",
       "    <tr>\n",
       "      <th>1</th>\n",
       "      <td>1</td>\n",
       "      <td>iPSCs</td>\n",
       "    </tr>\n",
       "  </tbody>\n",
       "</table>\n",
       "</div>"
      ],
      "text/plain": [
       "   seurat_clusters      0\n",
       "0                1  iPSCs\n",
       "1                1  iPSCs"
      ]
     },
     "execution_count": 41,
     "metadata": {},
     "output_type": "execute_result"
    }
   ],
   "source": [
    "majority.head(2)"
   ]
  },
  {
   "cell_type": "code",
   "execution_count": 42,
   "id": "a3b32698-97b1-4427-8b29-08c69bc0b730",
   "metadata": {
    "execution": {
     "iopub.execute_input": "2025-01-26T19:18:59.472676Z",
     "iopub.status.busy": "2025-01-26T19:18:59.472436Z",
     "iopub.status.idle": "2025-01-26T19:18:59.476482Z",
     "shell.execute_reply": "2025-01-26T19:18:59.476126Z",
     "shell.execute_reply.started": "2025-01-26T19:18:59.472659Z"
    }
   },
   "outputs": [
    {
     "data": {
      "text/plain": [
       "0                 iPSCs\n",
       "1                 iPSCs\n",
       "2                 iPSCs\n",
       "3        Megakaryocytes\n",
       "4                 iPSCs\n",
       "              ...      \n",
       "37499    Megakaryocytes\n",
       "37500    Megakaryocytes\n",
       "37501    Megakaryocytes\n",
       "37502    Megakaryocytes\n",
       "37503    Megakaryocytes\n",
       "Name: 0, Length: 37504, dtype: object"
      ]
     },
     "execution_count": 42,
     "metadata": {},
     "output_type": "execute_result"
    }
   ],
   "source": [
    "majority[0]"
   ]
  },
  {
   "cell_type": "code",
   "execution_count": 43,
   "id": "36ca7492-345f-4dd5-afb9-6535c185c491",
   "metadata": {
    "execution": {
     "iopub.execute_input": "2025-01-26T19:19:00.463543Z",
     "iopub.status.busy": "2025-01-26T19:19:00.463309Z",
     "iopub.status.idle": "2025-01-26T19:19:00.470627Z",
     "shell.execute_reply": "2025-01-26T19:19:00.470246Z",
     "shell.execute_reply.started": "2025-01-26T19:19:00.463527Z"
    },
    "scrolled": true
   },
   "outputs": [],
   "source": [
    "maj_dict = dict(zip(majority['seurat_clusters'], majority[0]))"
   ]
  },
  {
   "cell_type": "code",
   "execution_count": 44,
   "id": "e3e0eb61-519a-4609-be7a-c67be17e0ee9",
   "metadata": {
    "execution": {
     "iopub.execute_input": "2025-01-26T19:19:00.646094Z",
     "iopub.status.busy": "2025-01-26T19:19:00.645877Z",
     "iopub.status.idle": "2025-01-26T19:19:00.649136Z",
     "shell.execute_reply": "2025-01-26T19:19:00.648781Z",
     "shell.execute_reply.started": "2025-01-26T19:19:00.646079Z"
    }
   },
   "outputs": [
    {
     "data": {
      "text/plain": [
       "{1: 'iPSCs',\n",
       " 9: 'Megakaryocytes',\n",
       " 13: 'PrimitiveStreak',\n",
       " 16: 'EmergentMesoderm',\n",
       " 5: 'iPSCs',\n",
       " 18: 'iPSCs',\n",
       " 2: 'Megakaryocytes',\n",
       " 12: 'HemogenicEndothelium',\n",
       " 3: 'Megakaryocytes',\n",
       " 4: 'Megakaryocytes',\n",
       " 11: 'Megakaryocytes',\n",
       " 8: 'Megakaryocytes',\n",
       " 10: 'Megakaryocytes',\n",
       " 15: 'Megakaryocytes',\n",
       " 17: 'Megakaryocytes',\n",
       " 6: 'Megakaryocytes',\n",
       " 7: 'Megakaryocytes',\n",
       " 14: 'Megakaryocytes'}"
      ]
     },
     "execution_count": 44,
     "metadata": {},
     "output_type": "execute_result"
    }
   ],
   "source": [
    "maj_dict"
   ]
  },
  {
   "cell_type": "code",
   "execution_count": 45,
   "id": "72454b17-f92c-4903-9c2e-4d6e333c64d0",
   "metadata": {
    "execution": {
     "iopub.execute_input": "2025-01-26T19:19:10.901157Z",
     "iopub.status.busy": "2025-01-26T19:19:10.900907Z",
     "iopub.status.idle": "2025-01-26T19:19:10.904610Z",
     "shell.execute_reply": "2025-01-26T19:19:10.904219Z",
     "shell.execute_reply.started": "2025-01-26T19:19:10.901139Z"
    }
   },
   "outputs": [],
   "source": [
    "obs['majority_voting_iPSCs'] = obs['seurat_clusters'].map(maj_dict)"
   ]
  },
  {
   "cell_type": "code",
   "execution_count": 46,
   "id": "06f13ef4-3706-4868-a735-d26c25558413",
   "metadata": {
    "execution": {
     "iopub.execute_input": "2025-01-26T19:19:11.715059Z",
     "iopub.status.busy": "2025-01-26T19:19:11.714844Z",
     "iopub.status.idle": "2025-01-26T19:19:11.722958Z",
     "shell.execute_reply": "2025-01-26T19:19:11.722592Z",
     "shell.execute_reply.started": "2025-01-26T19:19:11.715044Z"
    }
   },
   "outputs": [
    {
     "data": {
      "text/html": [
       "<div>\n",
       "<style scoped>\n",
       "    .dataframe tbody tr th:only-of-type {\n",
       "        vertical-align: middle;\n",
       "    }\n",
       "\n",
       "    .dataframe tbody tr th {\n",
       "        vertical-align: top;\n",
       "    }\n",
       "\n",
       "    .dataframe thead th {\n",
       "        text-align: right;\n",
       "    }\n",
       "</style>\n",
       "<table border=\"1\" class=\"dataframe\">\n",
       "  <thead>\n",
       "    <tr style=\"text-align: right;\">\n",
       "      <th></th>\n",
       "      <th>Unnamed: 0</th>\n",
       "      <th>seurat_clusters</th>\n",
       "      <th>CellTypist_BMA_label</th>\n",
       "      <th>CellTypist_IPSCs_label</th>\n",
       "      <th>CellID</th>\n",
       "      <th>majority_voting_BMA</th>\n",
       "      <th>majority_voting_iPSCs</th>\n",
       "    </tr>\n",
       "  </thead>\n",
       "  <tbody>\n",
       "    <tr>\n",
       "      <th>0</th>\n",
       "      <td>MCO_01326_AAACAGCCACAGCCAT-1</td>\n",
       "      <td>1</td>\n",
       "      <td>DC3</td>\n",
       "      <td>iPSCs</td>\n",
       "      <td>MCO_01326_AAACAGCCACAGCCAT-1</td>\n",
       "      <td>myelocyte</td>\n",
       "      <td>iPSCs</td>\n",
       "    </tr>\n",
       "    <tr>\n",
       "      <th>1</th>\n",
       "      <td>MCO_01326_AAACAGCCACCAGGTT-1</td>\n",
       "      <td>1</td>\n",
       "      <td>DC3</td>\n",
       "      <td>EarlyFibroblasts</td>\n",
       "      <td>MCO_01326_AAACAGCCACCAGGTT-1</td>\n",
       "      <td>myelocyte</td>\n",
       "      <td>iPSCs</td>\n",
       "    </tr>\n",
       "    <tr>\n",
       "      <th>2</th>\n",
       "      <td>MCO_01326_AAACAGCCACGGTACT-1</td>\n",
       "      <td>1</td>\n",
       "      <td>myelocyte</td>\n",
       "      <td>PrimitiveStreak</td>\n",
       "      <td>MCO_01326_AAACAGCCACGGTACT-1</td>\n",
       "      <td>myelocyte</td>\n",
       "      <td>iPSCs</td>\n",
       "    </tr>\n",
       "    <tr>\n",
       "      <th>3</th>\n",
       "      <td>MCO_01326_AAACAGCCAGCCGCTA-1</td>\n",
       "      <td>9</td>\n",
       "      <td>myelocyte</td>\n",
       "      <td>iPSCs</td>\n",
       "      <td>MCO_01326_AAACAGCCAGCCGCTA-1</td>\n",
       "      <td>early MK</td>\n",
       "      <td>Megakaryocytes</td>\n",
       "    </tr>\n",
       "    <tr>\n",
       "      <th>4</th>\n",
       "      <td>MCO_01326_AAACAGCCAGGAAGCC-1</td>\n",
       "      <td>1</td>\n",
       "      <td>sinusoidal EC</td>\n",
       "      <td>PrimitiveStreak</td>\n",
       "      <td>MCO_01326_AAACAGCCAGGAAGCC-1</td>\n",
       "      <td>myelocyte</td>\n",
       "      <td>iPSCs</td>\n",
       "    </tr>\n",
       "    <tr>\n",
       "      <th>...</th>\n",
       "      <td>...</td>\n",
       "      <td>...</td>\n",
       "      <td>...</td>\n",
       "      <td>...</td>\n",
       "      <td>...</td>\n",
       "      <td>...</td>\n",
       "      <td>...</td>\n",
       "    </tr>\n",
       "    <tr>\n",
       "      <th>37499</th>\n",
       "      <td>MCO_01329_TTTGTTGGTAAAGCGG-1</td>\n",
       "      <td>15</td>\n",
       "      <td>MK</td>\n",
       "      <td>Megakaryocytes</td>\n",
       "      <td>MCO_01329_TTTGTTGGTAAAGCGG-1</td>\n",
       "      <td>MK</td>\n",
       "      <td>Megakaryocytes</td>\n",
       "    </tr>\n",
       "    <tr>\n",
       "      <th>37500</th>\n",
       "      <td>MCO_01329_TTTGTTGGTATTTGGG-1</td>\n",
       "      <td>4</td>\n",
       "      <td>MK</td>\n",
       "      <td>Megakaryocytes</td>\n",
       "      <td>MCO_01329_TTTGTTGGTATTTGGG-1</td>\n",
       "      <td>MK</td>\n",
       "      <td>Megakaryocytes</td>\n",
       "    </tr>\n",
       "    <tr>\n",
       "      <th>37501</th>\n",
       "      <td>MCO_01329_TTTGTTGGTCATGAGC-1</td>\n",
       "      <td>4</td>\n",
       "      <td>myelocyte</td>\n",
       "      <td>Megakaryocytes</td>\n",
       "      <td>MCO_01329_TTTGTTGGTCATGAGC-1</td>\n",
       "      <td>MK</td>\n",
       "      <td>Megakaryocytes</td>\n",
       "    </tr>\n",
       "    <tr>\n",
       "      <th>37502</th>\n",
       "      <td>MCO_01329_TTTGTTGGTGATTTGG-1</td>\n",
       "      <td>6</td>\n",
       "      <td>MK</td>\n",
       "      <td>Megakaryocytes</td>\n",
       "      <td>MCO_01329_TTTGTTGGTGATTTGG-1</td>\n",
       "      <td>MK</td>\n",
       "      <td>Megakaryocytes</td>\n",
       "    </tr>\n",
       "    <tr>\n",
       "      <th>37503</th>\n",
       "      <td>MCO_01329_TTTGTTGGTTGTAACG-1</td>\n",
       "      <td>2</td>\n",
       "      <td>pre pro B progenitor</td>\n",
       "      <td>Megakaryocytes</td>\n",
       "      <td>MCO_01329_TTTGTTGGTTGTAACG-1</td>\n",
       "      <td>DC3</td>\n",
       "      <td>Megakaryocytes</td>\n",
       "    </tr>\n",
       "  </tbody>\n",
       "</table>\n",
       "<p>37504 rows × 7 columns</p>\n",
       "</div>"
      ],
      "text/plain": [
       "                         Unnamed: 0  seurat_clusters  CellTypist_BMA_label  \\\n",
       "0      MCO_01326_AAACAGCCACAGCCAT-1                1                   DC3   \n",
       "1      MCO_01326_AAACAGCCACCAGGTT-1                1                   DC3   \n",
       "2      MCO_01326_AAACAGCCACGGTACT-1                1             myelocyte   \n",
       "3      MCO_01326_AAACAGCCAGCCGCTA-1                9             myelocyte   \n",
       "4      MCO_01326_AAACAGCCAGGAAGCC-1                1         sinusoidal EC   \n",
       "...                             ...              ...                   ...   \n",
       "37499  MCO_01329_TTTGTTGGTAAAGCGG-1               15                    MK   \n",
       "37500  MCO_01329_TTTGTTGGTATTTGGG-1                4                    MK   \n",
       "37501  MCO_01329_TTTGTTGGTCATGAGC-1                4             myelocyte   \n",
       "37502  MCO_01329_TTTGTTGGTGATTTGG-1                6                    MK   \n",
       "37503  MCO_01329_TTTGTTGGTTGTAACG-1                2  pre pro B progenitor   \n",
       "\n",
       "      CellTypist_IPSCs_label                        CellID  \\\n",
       "0                      iPSCs  MCO_01326_AAACAGCCACAGCCAT-1   \n",
       "1           EarlyFibroblasts  MCO_01326_AAACAGCCACCAGGTT-1   \n",
       "2            PrimitiveStreak  MCO_01326_AAACAGCCACGGTACT-1   \n",
       "3                      iPSCs  MCO_01326_AAACAGCCAGCCGCTA-1   \n",
       "4            PrimitiveStreak  MCO_01326_AAACAGCCAGGAAGCC-1   \n",
       "...                      ...                           ...   \n",
       "37499         Megakaryocytes  MCO_01329_TTTGTTGGTAAAGCGG-1   \n",
       "37500         Megakaryocytes  MCO_01329_TTTGTTGGTATTTGGG-1   \n",
       "37501         Megakaryocytes  MCO_01329_TTTGTTGGTCATGAGC-1   \n",
       "37502         Megakaryocytes  MCO_01329_TTTGTTGGTGATTTGG-1   \n",
       "37503         Megakaryocytes  MCO_01329_TTTGTTGGTTGTAACG-1   \n",
       "\n",
       "      majority_voting_BMA majority_voting_iPSCs  \n",
       "0               myelocyte                 iPSCs  \n",
       "1               myelocyte                 iPSCs  \n",
       "2               myelocyte                 iPSCs  \n",
       "3                early MK        Megakaryocytes  \n",
       "4               myelocyte                 iPSCs  \n",
       "...                   ...                   ...  \n",
       "37499                  MK        Megakaryocytes  \n",
       "37500                  MK        Megakaryocytes  \n",
       "37501                  MK        Megakaryocytes  \n",
       "37502                  MK        Megakaryocytes  \n",
       "37503                 DC3        Megakaryocytes  \n",
       "\n",
       "[37504 rows x 7 columns]"
      ]
     },
     "execution_count": 46,
     "metadata": {},
     "output_type": "execute_result"
    }
   ],
   "source": [
    "obs"
   ]
  },
  {
   "cell_type": "code",
   "execution_count": null,
   "id": "420f9032-eab1-430a-9370-0aa789c0470e",
   "metadata": {},
   "outputs": [],
   "source": []
  },
  {
   "cell_type": "markdown",
   "id": "a4f2d822-25aa-4775-95d6-d6a0d0add098",
   "metadata": {},
   "source": [
    "### Save"
   ]
  },
  {
   "cell_type": "code",
   "execution_count": 47,
   "id": "fc4e182b-f558-476f-8a5d-169ae21e1acf",
   "metadata": {
    "execution": {
     "iopub.execute_input": "2025-01-26T19:19:59.911609Z",
     "iopub.status.busy": "2025-01-26T19:19:59.911270Z",
     "iopub.status.idle": "2025-01-26T19:20:00.080040Z",
     "shell.execute_reply": "2025-01-26T19:20:00.079509Z",
     "shell.execute_reply.started": "2025-01-26T19:19:59.911582Z"
    }
   },
   "outputs": [],
   "source": [
    "obs.to_csv('/group/soranzo/manuel.tardaguila/2025_hESC_MK_multiome/processing_outputs/Majority_voting_object.csv')"
   ]
  }
 ],
 "metadata": {
  "kernelspec": {
   "display_name": "Python [conda env:CellTypist]",
   "language": "python",
   "name": "conda-env-CellTypist-py"
  },
  "language_info": {
   "codemirror_mode": {
    "name": "ipython",
    "version": 3
   },
   "file_extension": ".py",
   "mimetype": "text/x-python",
   "name": "python",
   "nbconvert_exporter": "python",
   "pygments_lexer": "ipython3",
   "version": "3.9.18"
  }
 },
 "nbformat": 4,
 "nbformat_minor": 5
}
