{
 "cells": [
  {
   "cell_type": "markdown",
   "id": "8906a91b-cc8c-426f-872c-f9eba7108235",
   "metadata": {},
   "source": [
    "# DESEq2 for DA peaks per cell type on peaks called by refined annotation"
   ]
  },
  {
   "cell_type": "markdown",
   "id": "fc1d0c79-46d1-4d3c-b913-7b9d2c9cddf0",
   "metadata": {},
   "source": [
    "## Load packages from new environment"
   ]
  },
  {
   "cell_type": "code",
   "execution_count": 1,
   "id": "b019b1dc-28d6-4721-a976-95fa810cf819",
   "metadata": {
    "execution": {
     "iopub.execute_input": "2025-02-26T15:10:26.827164Z",
     "iopub.status.busy": "2025-02-26T15:10:26.824832Z",
     "iopub.status.idle": "2025-02-26T15:11:06.525384Z",
     "shell.execute_reply": "2025-02-26T15:11:06.523823Z"
    }
   },
   "outputs": [
    {
     "data": {
      "text/html": [
       "<style>\n",
       ".list-inline {list-style: none; margin:0; padding: 0}\n",
       ".list-inline>li {display: inline-block}\n",
       ".list-inline>li:not(:last-child)::after {content: \"\\00b7\"; padding: 0 .5ex}\n",
       "</style>\n",
       "<ol class=list-inline><li>'/home/manuel.tardaguila/R/x86_64-conda-linux-gnu-library/4.3'</li><li>'/home/manuel.tardaguila/conda_envs/multiome_NEW_downstream_analysis/lib/R/library'</li></ol>\n"
      ],
      "text/latex": [
       "\\begin{enumerate*}\n",
       "\\item '/home/manuel.tardaguila/R/x86\\_64-conda-linux-gnu-library/4.3'\n",
       "\\item '/home/manuel.tardaguila/conda\\_envs/multiome\\_NEW\\_downstream\\_analysis/lib/R/library'\n",
       "\\end{enumerate*}\n"
      ],
      "text/markdown": [
       "1. '/home/manuel.tardaguila/R/x86_64-conda-linux-gnu-library/4.3'\n",
       "2. '/home/manuel.tardaguila/conda_envs/multiome_NEW_downstream_analysis/lib/R/library'\n",
       "\n",
       "\n"
      ],
      "text/plain": [
       "[1] \"/home/manuel.tardaguila/R/x86_64-conda-linux-gnu-library/4.3\"                     \n",
       "[2] \"/home/manuel.tardaguila/conda_envs/multiome_NEW_downstream_analysis/lib/R/library\""
      ]
     },
     "metadata": {},
     "output_type": "display_data"
    },
    {
     "data": {
      "text/html": [
       "'/home/manuel.tardaguila/conda_envs/multiome_NEW_downstream_analysis/lib/R/library'"
      ],
      "text/latex": [
       "'/home/manuel.tardaguila/conda\\_envs/multiome\\_NEW\\_downstream\\_analysis/lib/R/library'"
      ],
      "text/markdown": [
       "'/home/manuel.tardaguila/conda_envs/multiome_NEW_downstream_analysis/lib/R/library'"
      ],
      "text/plain": [
       "[1] \"/home/manuel.tardaguila/conda_envs/multiome_NEW_downstream_analysis/lib/R/library\""
      ]
     },
     "metadata": {},
     "output_type": "display_data"
    },
    {
     "name": "stderr",
     "output_type": "stream",
     "text": [
      "Warning message:\n",
      "“package ‘Seurat’ was built under R version 4.3.2”\n",
      "Warning message:\n",
      "“package ‘SeuratObject’ was built under R version 4.3.3”\n",
      "Warning message:\n",
      "“package ‘Signac’ was built under R version 4.3.2”\n",
      "Warning message:\n",
      "“package ‘Matrix’ was built under R version 4.3.3”\n",
      "Warning message:\n",
      "“package ‘qlcMatrix’ was built under R version 4.3.3”\n",
      "Warning message:\n",
      "“package ‘slam’ was built under R version 4.3.3”\n",
      "Warning message:\n",
      "“package ‘sparsesvd’ was built under R version 4.3.3”\n",
      "Warning message:\n",
      "“package ‘ggeasy’ was built under R version 4.3.3”\n",
      "Warning message:\n",
      "“package ‘svglite’ was built under R version 4.3.3”\n",
      "Warning message:\n",
      "“package ‘ape’ was built under R version 4.3.3”\n",
      "Warning message:\n",
      "“package ‘ggforce’ was built under R version 4.3.3”\n",
      "Warning message:\n",
      "“package ‘edgeR’ was built under R version 4.3.3”\n",
      "Warning message:\n",
      "“package ‘limma’ was built under R version 4.3.3”\n",
      "Warning message:\n",
      "“package ‘apeglm’ was built under R version 4.3.3”\n",
      "Warning message:\n",
      "“package ‘DESeq2’ was built under R version 4.3.2”\n",
      "Warning message:\n",
      "“package ‘S4Vectors’ was built under R version 4.3.2”\n",
      "Warning message:\n",
      "“package ‘BiocGenerics’ was built under R version 4.3.2”\n",
      "Warning message:\n",
      "“package ‘IRanges’ was built under R version 4.3.2”\n",
      "Warning message:\n",
      "“package ‘GenomicRanges’ was built under R version 4.3.2”\n",
      "Warning message:\n",
      "“package ‘GenomeInfoDb’ was built under R version 4.3.2”\n",
      "Warning message:\n",
      "“package ‘SummarizedExperiment’ was built under R version 4.3.2”\n",
      "Warning message:\n",
      "“package ‘MatrixGenerics’ was built under R version 4.3.2”\n",
      "Warning message:\n",
      "“package ‘Biobase’ was built under R version 4.3.2”\n"
     ]
    }
   ],
   "source": [
    ".libPaths()\n",
    ".libPaths(new = c(\"/home/manuel.tardaguila/conda_envs/multiome_NEW_downstream_analysis/lib/R/library\"))\n",
    ".libPaths()\n",
    "# sessionInfo()\n",
    "Sys.setenv(RETICULATE_PYTHON=\"/home/manuel.tardaguila/conda_envs/multiome_NEW_downstream_analysis/bin/python\")\n",
    "\n",
    "suppressMessages(library(Seurat))\n",
    "suppressMessages(library(Signac))\n",
    "suppressMessages(library(dplyr)) \n",
    "suppressMessages(library(ggplot2)) \n",
    "suppressMessages(library(Matrix)) \n",
    "suppressMessages(library(data.table)) \n",
    "suppressMessages(library(ggpubr)) \n",
    "suppressMessages(library(ggplot2))\n",
    "suppressMessages(library(pheatmap))\n",
    "suppressMessages(library(presto))\n",
    "suppressMessages(library(\"qlcMatrix\"))\n",
    "suppressMessages(library(\"cowplot\"))\n",
    "suppressMessages(library(\"RColorBrewer\"))\n",
    "suppressMessages(library(\"plyr\"))\n",
    "suppressMessages(library(\"forcats\"))\n",
    "suppressMessages(library('ggeasy'))\n",
    "suppressMessages(library('dplyr'))\n",
    "suppressMessages(library(\"svglite\"))\n",
    "suppressMessages(library(\"ape\"))\n",
    "suppressMessages(library(\"ggforce\"))\n",
    "suppressMessages(library(\"tidyr\"))\n",
    "suppressMessages(library(\"edgeR\"))\n",
    "suppressMessages(library(\"apeglm\"))\n",
    "suppressMessages(library(\"DESeq2\"))\n",
    "suppressMessages(library(\"tibble\")) \n",
    "suppressMessages(library(\"ggrepel\"))"
   ]
  },
  {
   "cell_type": "markdown",
   "id": "bbd5f005-c06a-4085-aaca-69aea57c7404",
   "metadata": {},
   "source": [
    "# Read Seurat object after new peak calling"
   ]
  },
  {
   "cell_type": "code",
   "execution_count": 2,
   "id": "3d5b71e9-d4c8-4bf5-bb67-4ed5b49d7759",
   "metadata": {
    "execution": {
     "iopub.execute_input": "2025-02-26T15:11:43.173399Z",
     "iopub.status.busy": "2025-02-26T15:11:43.148522Z",
     "iopub.status.idle": "2025-02-26T15:11:43.182454Z",
     "shell.execute_reply": "2025-02-26T15:11:43.181051Z"
    },
    "vscode": {
     "languageId": "r"
    }
   },
   "outputs": [],
   "source": [
    "setwd(\"/group/soranzo/manuel.tardaguila/2025_hESC_MK_multiome/Downstream_analysis_cluster_after_genotyping/\")"
   ]
  },
  {
   "cell_type": "code",
   "execution_count": 3,
   "id": "94fc64da-fa9e-4ff8-ae68-f3bcdfee6014",
   "metadata": {
    "execution": {
     "iopub.execute_input": "2025-02-26T15:11:43.557538Z",
     "iopub.status.busy": "2025-02-26T15:11:43.556396Z",
     "iopub.status.idle": "2025-02-26T15:12:44.607328Z",
     "shell.execute_reply": "2025-02-26T15:12:44.605890Z"
    }
   },
   "outputs": [],
   "source": [
    "adata<-readRDS(file=\"merged_clusters_after_genotyping_after_refined_annotation_new_peaks.rds\")\n"
   ]
  },
  {
   "cell_type": "code",
   "execution_count": 4,
   "id": "508c3b09-b472-4ccd-97d8-4649fcdcf5af",
   "metadata": {
    "execution": {
     "iopub.execute_input": "2025-02-26T15:12:44.610172Z",
     "iopub.status.busy": "2025-02-26T15:12:44.609205Z",
     "iopub.status.idle": "2025-02-26T15:12:44.633930Z",
     "shell.execute_reply": "2025-02-26T15:12:44.632786Z"
    }
   },
   "outputs": [
    {
     "data": {
      "text/plain": [
       "An object of class Seurat \n",
       "749604 features across 16835 samples within 5 assays \n",
       "Active assay: ATAC (340606 features, 340606 variable features)\n",
       " 2 layers present: counts, data\n",
       " 4 other assays present: RNA, RNA_raw, SCT, ATAC_by_refined_annotation\n",
       " 7 dimensional reductions calculated: pca, umap.rna, lsi, umap.atac, umap.wnn, harmony.rna, harmony.atac"
      ]
     },
     "metadata": {},
     "output_type": "display_data"
    }
   ],
   "source": [
    "adata\n"
   ]
  },
  {
   "cell_type": "code",
   "execution_count": 5,
   "id": "4795d29d-29c2-4de6-8d66-e6271ca78986",
   "metadata": {
    "execution": {
     "iopub.execute_input": "2025-02-26T15:12:44.636627Z",
     "iopub.status.busy": "2025-02-26T15:12:44.635682Z",
     "iopub.status.idle": "2025-02-26T15:12:44.647563Z",
     "shell.execute_reply": "2025-02-26T15:12:44.646461Z"
    }
   },
   "outputs": [
    {
     "data": {
      "text/html": [
       "<style>\n",
       ".list-inline {list-style: none; margin:0; padding: 0}\n",
       ".list-inline>li {display: inline-block}\n",
       ".list-inline>li:not(:last-child)::after {content: \"\\00b7\"; padding: 0 .5ex}\n",
       "</style>\n",
       "<ol class=list-inline><li>'orig.ident'</li><li>'nCount_RNA'</li><li>'nFeature_RNA'</li><li>'percent.mt'</li><li>'nCount_RNA_raw'</li><li>'nFeature_RNA_raw'</li><li>'nCount_ATAC'</li><li>'nFeature_ATAC'</li><li>'gex_raw_reads'</li><li>'gex_mapped_reads'</li><li>'gex_conf_intergenic_reads'</li><li>'gex_conf_exonic_reads'</li><li>'gex_conf_intronic_reads'</li><li>'gex_conf_exonic_unique_reads'</li><li>'gex_conf_exonic_antisense_reads'</li><li>'gex_conf_exonic_dup_reads'</li><li>'gex_exonic_umis'</li><li>'gex_conf_intronic_unique_reads'</li><li>'gex_conf_intronic_antisense_reads'</li><li>'gex_conf_intronic_dup_reads'</li><li>'gex_intronic_umis'</li><li>'gex_conf_txomic_unique_reads'</li><li>'gex_umis_count'</li><li>'gex_genes_count'</li><li>'atac_raw_reads'</li><li>'atac_unmapped_reads'</li><li>'atac_lowmapq'</li><li>'atac_dup_reads'</li><li>'atac_chimeric_reads'</li><li>'atac_mitochondrial_reads'</li><li>'atac_fragments'</li><li>'atac_TSS_fragments'</li><li>'atac_peak_region_fragments'</li><li>'atac_peak_region_cutsites'</li><li>'TSS.enrichment'</li><li>'TSS.percentile'</li><li>'scDblFinder.class'</li><li>'scDblFinder.score'</li><li>'scDblFinder.weighted'</li><li>'scDblFinder.cxds_score'</li><li>'scDblFinder.class_atac'</li><li>'scDblFinder.score_atac'</li><li>'scDblFinder.weighted_atac'</li><li>'scDblFinder.cxds_score_atac'</li><li>'No_assigned_GFPbc'</li><li>'Assigned_GFPbc'</li><li>'Assigned_GFPgenotype'</li><li>'DBL_comb'</li><li>'amulet_nFrags'</li><li>'amulet_uniqFrags'</li><li>'amulet_nAbove2'</li><li>'amulet_total.nAbove2'</li><li>'amulet_p.value'</li><li>'amulet_q.value'</li><li>'doublet_amulet'</li><li>'nCount_SCT'</li><li>'nFeature_SCT'</li><li>'SCT.weight'</li><li>'ATAC.weight'</li><li>'wsnn_res.0.2'</li><li>'seurat_clusters'</li><li>'doublet'</li><li>'wsnn_res.2'</li><li>'wsnn_res.0.5'</li><li>'wsnn_res.0.25'</li><li>'CellTypist_BMA_label'</li><li>'CellTypist_BMA_conf_score'</li><li>'CellTypist_IPSCs_label'</li><li>'CellTypist_IPSCs_conf_score'</li><li>'CellTypist_BMA_label_filtered'</li><li>'CellTypist_IPSCs_label_filtered'</li><li>'time_point'</li><li>'time'</li><li>'nucleosome_signal'</li><li>'nucleosome_percentile'</li><li>'FRiP'</li><li>'atac_pct_reads_in_peaks'</li><li>'my_anot'</li><li>'FOI'</li><li>'my_anot_updated'</li><li>'majority_voting_BMA'</li><li>'majority_voting_iPSCs'</li><li>'current_anot'</li><li>'Assignation_demux_NO_CB'</li><li>'Assigned_GFPbc_demux_NO_CB'</li><li>'Assignation_demux_CB'</li><li>'Assigned_GFPbc_demux_CB'</li><li>'Assigned_GFPbc_integral'</li><li>'Assigned_GFPgenotype_integral'</li><li>'Subclusters_3'</li><li>'Subclusters_4'</li><li>'Subclusters_7'</li><li>'Subclusters_2'</li><li>'new_clusters'</li><li>'refined_annotation'</li><li>'refined_annotation_majority_vote'</li><li>'clone_line'</li><li>'Genotype'</li><li>'nCount_ATAC_by_refined_annotation'</li><li>'nFeature_ATAC_by_refined_annotation'</li></ol>\n"
      ],
      "text/latex": [
       "\\begin{enumerate*}\n",
       "\\item 'orig.ident'\n",
       "\\item 'nCount\\_RNA'\n",
       "\\item 'nFeature\\_RNA'\n",
       "\\item 'percent.mt'\n",
       "\\item 'nCount\\_RNA\\_raw'\n",
       "\\item 'nFeature\\_RNA\\_raw'\n",
       "\\item 'nCount\\_ATAC'\n",
       "\\item 'nFeature\\_ATAC'\n",
       "\\item 'gex\\_raw\\_reads'\n",
       "\\item 'gex\\_mapped\\_reads'\n",
       "\\item 'gex\\_conf\\_intergenic\\_reads'\n",
       "\\item 'gex\\_conf\\_exonic\\_reads'\n",
       "\\item 'gex\\_conf\\_intronic\\_reads'\n",
       "\\item 'gex\\_conf\\_exonic\\_unique\\_reads'\n",
       "\\item 'gex\\_conf\\_exonic\\_antisense\\_reads'\n",
       "\\item 'gex\\_conf\\_exonic\\_dup\\_reads'\n",
       "\\item 'gex\\_exonic\\_umis'\n",
       "\\item 'gex\\_conf\\_intronic\\_unique\\_reads'\n",
       "\\item 'gex\\_conf\\_intronic\\_antisense\\_reads'\n",
       "\\item 'gex\\_conf\\_intronic\\_dup\\_reads'\n",
       "\\item 'gex\\_intronic\\_umis'\n",
       "\\item 'gex\\_conf\\_txomic\\_unique\\_reads'\n",
       "\\item 'gex\\_umis\\_count'\n",
       "\\item 'gex\\_genes\\_count'\n",
       "\\item 'atac\\_raw\\_reads'\n",
       "\\item 'atac\\_unmapped\\_reads'\n",
       "\\item 'atac\\_lowmapq'\n",
       "\\item 'atac\\_dup\\_reads'\n",
       "\\item 'atac\\_chimeric\\_reads'\n",
       "\\item 'atac\\_mitochondrial\\_reads'\n",
       "\\item 'atac\\_fragments'\n",
       "\\item 'atac\\_TSS\\_fragments'\n",
       "\\item 'atac\\_peak\\_region\\_fragments'\n",
       "\\item 'atac\\_peak\\_region\\_cutsites'\n",
       "\\item 'TSS.enrichment'\n",
       "\\item 'TSS.percentile'\n",
       "\\item 'scDblFinder.class'\n",
       "\\item 'scDblFinder.score'\n",
       "\\item 'scDblFinder.weighted'\n",
       "\\item 'scDblFinder.cxds\\_score'\n",
       "\\item 'scDblFinder.class\\_atac'\n",
       "\\item 'scDblFinder.score\\_atac'\n",
       "\\item 'scDblFinder.weighted\\_atac'\n",
       "\\item 'scDblFinder.cxds\\_score\\_atac'\n",
       "\\item 'No\\_assigned\\_GFPbc'\n",
       "\\item 'Assigned\\_GFPbc'\n",
       "\\item 'Assigned\\_GFPgenotype'\n",
       "\\item 'DBL\\_comb'\n",
       "\\item 'amulet\\_nFrags'\n",
       "\\item 'amulet\\_uniqFrags'\n",
       "\\item 'amulet\\_nAbove2'\n",
       "\\item 'amulet\\_total.nAbove2'\n",
       "\\item 'amulet\\_p.value'\n",
       "\\item 'amulet\\_q.value'\n",
       "\\item 'doublet\\_amulet'\n",
       "\\item 'nCount\\_SCT'\n",
       "\\item 'nFeature\\_SCT'\n",
       "\\item 'SCT.weight'\n",
       "\\item 'ATAC.weight'\n",
       "\\item 'wsnn\\_res.0.2'\n",
       "\\item 'seurat\\_clusters'\n",
       "\\item 'doublet'\n",
       "\\item 'wsnn\\_res.2'\n",
       "\\item 'wsnn\\_res.0.5'\n",
       "\\item 'wsnn\\_res.0.25'\n",
       "\\item 'CellTypist\\_BMA\\_label'\n",
       "\\item 'CellTypist\\_BMA\\_conf\\_score'\n",
       "\\item 'CellTypist\\_IPSCs\\_label'\n",
       "\\item 'CellTypist\\_IPSCs\\_conf\\_score'\n",
       "\\item 'CellTypist\\_BMA\\_label\\_filtered'\n",
       "\\item 'CellTypist\\_IPSCs\\_label\\_filtered'\n",
       "\\item 'time\\_point'\n",
       "\\item 'time'\n",
       "\\item 'nucleosome\\_signal'\n",
       "\\item 'nucleosome\\_percentile'\n",
       "\\item 'FRiP'\n",
       "\\item 'atac\\_pct\\_reads\\_in\\_peaks'\n",
       "\\item 'my\\_anot'\n",
       "\\item 'FOI'\n",
       "\\item 'my\\_anot\\_updated'\n",
       "\\item 'majority\\_voting\\_BMA'\n",
       "\\item 'majority\\_voting\\_iPSCs'\n",
       "\\item 'current\\_anot'\n",
       "\\item 'Assignation\\_demux\\_NO\\_CB'\n",
       "\\item 'Assigned\\_GFPbc\\_demux\\_NO\\_CB'\n",
       "\\item 'Assignation\\_demux\\_CB'\n",
       "\\item 'Assigned\\_GFPbc\\_demux\\_CB'\n",
       "\\item 'Assigned\\_GFPbc\\_integral'\n",
       "\\item 'Assigned\\_GFPgenotype\\_integral'\n",
       "\\item 'Subclusters\\_3'\n",
       "\\item 'Subclusters\\_4'\n",
       "\\item 'Subclusters\\_7'\n",
       "\\item 'Subclusters\\_2'\n",
       "\\item 'new\\_clusters'\n",
       "\\item 'refined\\_annotation'\n",
       "\\item 'refined\\_annotation\\_majority\\_vote'\n",
       "\\item 'clone\\_line'\n",
       "\\item 'Genotype'\n",
       "\\item 'nCount\\_ATAC\\_by\\_refined\\_annotation'\n",
       "\\item 'nFeature\\_ATAC\\_by\\_refined\\_annotation'\n",
       "\\end{enumerate*}\n"
      ],
      "text/markdown": [
       "1. 'orig.ident'\n",
       "2. 'nCount_RNA'\n",
       "3. 'nFeature_RNA'\n",
       "4. 'percent.mt'\n",
       "5. 'nCount_RNA_raw'\n",
       "6. 'nFeature_RNA_raw'\n",
       "7. 'nCount_ATAC'\n",
       "8. 'nFeature_ATAC'\n",
       "9. 'gex_raw_reads'\n",
       "10. 'gex_mapped_reads'\n",
       "11. 'gex_conf_intergenic_reads'\n",
       "12. 'gex_conf_exonic_reads'\n",
       "13. 'gex_conf_intronic_reads'\n",
       "14. 'gex_conf_exonic_unique_reads'\n",
       "15. 'gex_conf_exonic_antisense_reads'\n",
       "16. 'gex_conf_exonic_dup_reads'\n",
       "17. 'gex_exonic_umis'\n",
       "18. 'gex_conf_intronic_unique_reads'\n",
       "19. 'gex_conf_intronic_antisense_reads'\n",
       "20. 'gex_conf_intronic_dup_reads'\n",
       "21. 'gex_intronic_umis'\n",
       "22. 'gex_conf_txomic_unique_reads'\n",
       "23. 'gex_umis_count'\n",
       "24. 'gex_genes_count'\n",
       "25. 'atac_raw_reads'\n",
       "26. 'atac_unmapped_reads'\n",
       "27. 'atac_lowmapq'\n",
       "28. 'atac_dup_reads'\n",
       "29. 'atac_chimeric_reads'\n",
       "30. 'atac_mitochondrial_reads'\n",
       "31. 'atac_fragments'\n",
       "32. 'atac_TSS_fragments'\n",
       "33. 'atac_peak_region_fragments'\n",
       "34. 'atac_peak_region_cutsites'\n",
       "35. 'TSS.enrichment'\n",
       "36. 'TSS.percentile'\n",
       "37. 'scDblFinder.class'\n",
       "38. 'scDblFinder.score'\n",
       "39. 'scDblFinder.weighted'\n",
       "40. 'scDblFinder.cxds_score'\n",
       "41. 'scDblFinder.class_atac'\n",
       "42. 'scDblFinder.score_atac'\n",
       "43. 'scDblFinder.weighted_atac'\n",
       "44. 'scDblFinder.cxds_score_atac'\n",
       "45. 'No_assigned_GFPbc'\n",
       "46. 'Assigned_GFPbc'\n",
       "47. 'Assigned_GFPgenotype'\n",
       "48. 'DBL_comb'\n",
       "49. 'amulet_nFrags'\n",
       "50. 'amulet_uniqFrags'\n",
       "51. 'amulet_nAbove2'\n",
       "52. 'amulet_total.nAbove2'\n",
       "53. 'amulet_p.value'\n",
       "54. 'amulet_q.value'\n",
       "55. 'doublet_amulet'\n",
       "56. 'nCount_SCT'\n",
       "57. 'nFeature_SCT'\n",
       "58. 'SCT.weight'\n",
       "59. 'ATAC.weight'\n",
       "60. 'wsnn_res.0.2'\n",
       "61. 'seurat_clusters'\n",
       "62. 'doublet'\n",
       "63. 'wsnn_res.2'\n",
       "64. 'wsnn_res.0.5'\n",
       "65. 'wsnn_res.0.25'\n",
       "66. 'CellTypist_BMA_label'\n",
       "67. 'CellTypist_BMA_conf_score'\n",
       "68. 'CellTypist_IPSCs_label'\n",
       "69. 'CellTypist_IPSCs_conf_score'\n",
       "70. 'CellTypist_BMA_label_filtered'\n",
       "71. 'CellTypist_IPSCs_label_filtered'\n",
       "72. 'time_point'\n",
       "73. 'time'\n",
       "74. 'nucleosome_signal'\n",
       "75. 'nucleosome_percentile'\n",
       "76. 'FRiP'\n",
       "77. 'atac_pct_reads_in_peaks'\n",
       "78. 'my_anot'\n",
       "79. 'FOI'\n",
       "80. 'my_anot_updated'\n",
       "81. 'majority_voting_BMA'\n",
       "82. 'majority_voting_iPSCs'\n",
       "83. 'current_anot'\n",
       "84. 'Assignation_demux_NO_CB'\n",
       "85. 'Assigned_GFPbc_demux_NO_CB'\n",
       "86. 'Assignation_demux_CB'\n",
       "87. 'Assigned_GFPbc_demux_CB'\n",
       "88. 'Assigned_GFPbc_integral'\n",
       "89. 'Assigned_GFPgenotype_integral'\n",
       "90. 'Subclusters_3'\n",
       "91. 'Subclusters_4'\n",
       "92. 'Subclusters_7'\n",
       "93. 'Subclusters_2'\n",
       "94. 'new_clusters'\n",
       "95. 'refined_annotation'\n",
       "96. 'refined_annotation_majority_vote'\n",
       "97. 'clone_line'\n",
       "98. 'Genotype'\n",
       "99. 'nCount_ATAC_by_refined_annotation'\n",
       "100. 'nFeature_ATAC_by_refined_annotation'\n",
       "\n",
       "\n"
      ],
      "text/plain": [
       "  [1] \"orig.ident\"                         \n",
       "  [2] \"nCount_RNA\"                         \n",
       "  [3] \"nFeature_RNA\"                       \n",
       "  [4] \"percent.mt\"                         \n",
       "  [5] \"nCount_RNA_raw\"                     \n",
       "  [6] \"nFeature_RNA_raw\"                   \n",
       "  [7] \"nCount_ATAC\"                        \n",
       "  [8] \"nFeature_ATAC\"                      \n",
       "  [9] \"gex_raw_reads\"                      \n",
       " [10] \"gex_mapped_reads\"                   \n",
       " [11] \"gex_conf_intergenic_reads\"          \n",
       " [12] \"gex_conf_exonic_reads\"              \n",
       " [13] \"gex_conf_intronic_reads\"            \n",
       " [14] \"gex_conf_exonic_unique_reads\"       \n",
       " [15] \"gex_conf_exonic_antisense_reads\"    \n",
       " [16] \"gex_conf_exonic_dup_reads\"          \n",
       " [17] \"gex_exonic_umis\"                    \n",
       " [18] \"gex_conf_intronic_unique_reads\"     \n",
       " [19] \"gex_conf_intronic_antisense_reads\"  \n",
       " [20] \"gex_conf_intronic_dup_reads\"        \n",
       " [21] \"gex_intronic_umis\"                  \n",
       " [22] \"gex_conf_txomic_unique_reads\"       \n",
       " [23] \"gex_umis_count\"                     \n",
       " [24] \"gex_genes_count\"                    \n",
       " [25] \"atac_raw_reads\"                     \n",
       " [26] \"atac_unmapped_reads\"                \n",
       " [27] \"atac_lowmapq\"                       \n",
       " [28] \"atac_dup_reads\"                     \n",
       " [29] \"atac_chimeric_reads\"                \n",
       " [30] \"atac_mitochondrial_reads\"           \n",
       " [31] \"atac_fragments\"                     \n",
       " [32] \"atac_TSS_fragments\"                 \n",
       " [33] \"atac_peak_region_fragments\"         \n",
       " [34] \"atac_peak_region_cutsites\"          \n",
       " [35] \"TSS.enrichment\"                     \n",
       " [36] \"TSS.percentile\"                     \n",
       " [37] \"scDblFinder.class\"                  \n",
       " [38] \"scDblFinder.score\"                  \n",
       " [39] \"scDblFinder.weighted\"               \n",
       " [40] \"scDblFinder.cxds_score\"             \n",
       " [41] \"scDblFinder.class_atac\"             \n",
       " [42] \"scDblFinder.score_atac\"             \n",
       " [43] \"scDblFinder.weighted_atac\"          \n",
       " [44] \"scDblFinder.cxds_score_atac\"        \n",
       " [45] \"No_assigned_GFPbc\"                  \n",
       " [46] \"Assigned_GFPbc\"                     \n",
       " [47] \"Assigned_GFPgenotype\"               \n",
       " [48] \"DBL_comb\"                           \n",
       " [49] \"amulet_nFrags\"                      \n",
       " [50] \"amulet_uniqFrags\"                   \n",
       " [51] \"amulet_nAbove2\"                     \n",
       " [52] \"amulet_total.nAbove2\"               \n",
       " [53] \"amulet_p.value\"                     \n",
       " [54] \"amulet_q.value\"                     \n",
       " [55] \"doublet_amulet\"                     \n",
       " [56] \"nCount_SCT\"                         \n",
       " [57] \"nFeature_SCT\"                       \n",
       " [58] \"SCT.weight\"                         \n",
       " [59] \"ATAC.weight\"                        \n",
       " [60] \"wsnn_res.0.2\"                       \n",
       " [61] \"seurat_clusters\"                    \n",
       " [62] \"doublet\"                            \n",
       " [63] \"wsnn_res.2\"                         \n",
       " [64] \"wsnn_res.0.5\"                       \n",
       " [65] \"wsnn_res.0.25\"                      \n",
       " [66] \"CellTypist_BMA_label\"               \n",
       " [67] \"CellTypist_BMA_conf_score\"          \n",
       " [68] \"CellTypist_IPSCs_label\"             \n",
       " [69] \"CellTypist_IPSCs_conf_score\"        \n",
       " [70] \"CellTypist_BMA_label_filtered\"      \n",
       " [71] \"CellTypist_IPSCs_label_filtered\"    \n",
       " [72] \"time_point\"                         \n",
       " [73] \"time\"                               \n",
       " [74] \"nucleosome_signal\"                  \n",
       " [75] \"nucleosome_percentile\"              \n",
       " [76] \"FRiP\"                               \n",
       " [77] \"atac_pct_reads_in_peaks\"            \n",
       " [78] \"my_anot\"                            \n",
       " [79] \"FOI\"                                \n",
       " [80] \"my_anot_updated\"                    \n",
       " [81] \"majority_voting_BMA\"                \n",
       " [82] \"majority_voting_iPSCs\"              \n",
       " [83] \"current_anot\"                       \n",
       " [84] \"Assignation_demux_NO_CB\"            \n",
       " [85] \"Assigned_GFPbc_demux_NO_CB\"         \n",
       " [86] \"Assignation_demux_CB\"               \n",
       " [87] \"Assigned_GFPbc_demux_CB\"            \n",
       " [88] \"Assigned_GFPbc_integral\"            \n",
       " [89] \"Assigned_GFPgenotype_integral\"      \n",
       " [90] \"Subclusters_3\"                      \n",
       " [91] \"Subclusters_4\"                      \n",
       " [92] \"Subclusters_7\"                      \n",
       " [93] \"Subclusters_2\"                      \n",
       " [94] \"new_clusters\"                       \n",
       " [95] \"refined_annotation\"                 \n",
       " [96] \"refined_annotation_majority_vote\"   \n",
       " [97] \"clone_line\"                         \n",
       " [98] \"Genotype\"                           \n",
       " [99] \"nCount_ATAC_by_refined_annotation\"  \n",
       "[100] \"nFeature_ATAC_by_refined_annotation\""
      ]
     },
     "metadata": {},
     "output_type": "display_data"
    }
   ],
   "source": [
    "colnames(adata@meta.data)"
   ]
  },
  {
   "cell_type": "code",
   "execution_count": 6,
   "id": "9fb82f3c-810d-43c9-ab00-ebb5cf75d1af",
   "metadata": {
    "execution": {
     "iopub.execute_input": "2025-02-26T15:12:44.650265Z",
     "iopub.status.busy": "2025-02-26T15:12:44.649282Z",
     "iopub.status.idle": "2025-02-26T15:12:44.657288Z",
     "shell.execute_reply": "2025-02-26T15:12:44.656198Z"
    }
   },
   "outputs": [],
   "source": [
    "DefaultAssay(adata)<-'ATAC_by_refined_annotation'"
   ]
  },
  {
   "cell_type": "code",
   "execution_count": 7,
   "id": "74d898ba-121d-4f24-8804-f29988ad4d34",
   "metadata": {
    "execution": {
     "iopub.execute_input": "2025-02-26T15:12:44.659914Z",
     "iopub.status.busy": "2025-02-26T15:12:44.658988Z",
     "iopub.status.idle": "2025-02-26T15:12:44.672411Z",
     "shell.execute_reply": "2025-02-26T15:12:44.671308Z"
    }
   },
   "outputs": [
    {
     "name": "stdout",
     "output_type": "stream",
     "text": [
      " chr [1:306646] \"chr1-10052-10333\" \"chr1-180682-181613\" ...\n"
     ]
    }
   ],
   "source": [
    "peaks<-Features(adata)\n",
    "\n",
    "str(peaks)"
   ]
  },
  {
   "cell_type": "code",
   "execution_count": 8,
   "id": "a50fbb04-2b39-435e-8691-ebba2e71f687",
   "metadata": {
    "execution": {
     "iopub.execute_input": "2025-02-26T15:12:44.675011Z",
     "iopub.status.busy": "2025-02-26T15:12:44.674083Z",
     "iopub.status.idle": "2025-02-26T15:12:44.681762Z",
     "shell.execute_reply": "2025-02-26T15:12:44.680694Z"
    }
   },
   "outputs": [],
   "source": [
    "DefaultAssay(adata)<-'ATAC'"
   ]
  },
  {
   "cell_type": "code",
   "execution_count": 9,
   "id": "7b043766-f4b7-4b62-ad37-07d326a8cee8",
   "metadata": {
    "execution": {
     "iopub.execute_input": "2025-02-26T15:12:44.684339Z",
     "iopub.status.busy": "2025-02-26T15:12:44.683434Z",
     "iopub.status.idle": "2025-02-26T15:12:44.694436Z",
     "shell.execute_reply": "2025-02-26T15:12:44.693331Z"
    }
   },
   "outputs": [
    {
     "name": "stdout",
     "output_type": "stream",
     "text": [
      " chr [1:340606] \"chr1-10076-10321\" \"chr1-180715-181606\" ...\n"
     ]
    }
   ],
   "source": [
    "peaks_2<-Features(adata)\n",
    "\n",
    "str(peaks_2)"
   ]
  },
  {
   "cell_type": "code",
   "execution_count": 10,
   "id": "090c9e72-4203-4f25-943a-69df5222af4a",
   "metadata": {
    "execution": {
     "iopub.execute_input": "2025-02-26T15:12:44.697044Z",
     "iopub.status.busy": "2025-02-26T15:12:44.696122Z",
     "iopub.status.idle": "2025-02-26T15:12:44.747761Z",
     "shell.execute_reply": "2025-02-26T15:12:44.746529Z"
    }
   },
   "outputs": [
    {
     "name": "stdout",
     "output_type": "stream",
     "text": [
      " int [1:170] 799 2328 2812 2999 5145 6146 8473 10784 11096 15687 ...\n"
     ]
    }
   ],
   "source": [
    "overlap<-which(peaks%in%peaks_2)\n",
    "\n",
    "str(overlap)"
   ]
  },
  {
   "cell_type": "markdown",
   "id": "e4d11b7b-5b27-4531-b12e-7254cd42b857",
   "metadata": {},
   "source": [
    "## Read Linked Peaks"
   ]
  },
  {
   "cell_type": "code",
   "execution_count": 11,
   "id": "17e7a73d-854e-4f82-af1f-1a8afb547f42",
   "metadata": {
    "execution": {
     "iopub.execute_input": "2025-02-26T15:13:23.881150Z",
     "iopub.status.busy": "2025-02-26T15:13:23.880073Z",
     "iopub.status.idle": "2025-02-26T15:13:23.889612Z",
     "shell.execute_reply": "2025-02-26T15:13:23.888512Z"
    }
   },
   "outputs": [],
   "source": [
    "setwd(\"/group/soranzo/manuel.tardaguila/2025_hESC_MK_multiome/Downstream_analysis_cluster_after_genotyping/\")"
   ]
  },
  {
   "cell_type": "code",
   "execution_count": 58,
   "id": "fc26ea51-bc95-4017-a6cb-03e8519c1a02",
   "metadata": {
    "execution": {
     "iopub.execute_input": "2025-02-26T15:29:58.544918Z",
     "iopub.status.busy": "2025-02-26T15:29:58.543839Z",
     "iopub.status.idle": "2025-02-26T15:29:58.570946Z",
     "shell.execute_reply": "2025-02-26T15:29:58.569782Z"
    }
   },
   "outputs": [
    {
     "name": "stdout",
     "output_type": "stream",
     "text": [
      "'data.frame':\t3381 obs. of  11 variables:\n",
      " $ seqnames          : Factor w/ 23 levels \"chr1\",\"chr2\",..: 1 1 1 1 1 1 1 1 1 1 ...\n",
      " $ start             : int  43953185 44036259 44047943 44068348 44119766 44261567 44405194 44405194 44405194 44405194 ...\n",
      " $ end               : int  44405194 44405194 44405194 44405194 44405194 44405194 44406511 44408863 44417807 44501134 ...\n",
      " $ width             : int  452010 368936 357252 336847 285429 143628 1318 3670 12614 95941 ...\n",
      " $ strand            : Factor w/ 3 levels \"+\",\"-\",\"*\": 3 3 3 3 3 3 3 3 3 3 ...\n",
      " $ score             : num  0.1766 -0.0797 -0.081 -0.076 0.0883 ...\n",
      " $ gene              : chr  \"RNF220\" \"RNF220\" \"RNF220\" \"RNF220\" ...\n",
      " $ Peak_ID           : chr  \"chr1-43952784-43953586\" \"chr1-44035644-44036873\" \"chr1-44047364-44048521\" \"chr1-44067727-44068969\" ...\n",
      " $ Link_zscore       : num  2.59 -1.93 -1.94 -1.68 1.65 ...\n",
      " $ Link_pvalue       : num  0.00482 0.02681 0.02591 0.04608 0.04993 ...\n",
      " $ Link_Minus_logpval: num  2.32 1.57 1.59 1.34 1.3 1.39 1.49 1.4 1.33 3.39 ...\n"
     ]
    }
   ],
   "source": [
    "Linked_peaks<-readRDS(file=\"Linked_peak_to_selected_genes.rds\")\n",
    "\n",
    "colnames(Linked_peaks)[which(colnames(Linked_peaks)%in%c('zscore','pvalue','Minus_logpval'))]<-paste('Link_',colnames(Linked_peaks)[which(colnames(Linked_peaks)%in%c('zscore','pvalue','Minus_logpval'))], sep='')\n",
    "\n",
    "str(Linked_peaks)"
   ]
  },
  {
   "cell_type": "code",
   "execution_count": 60,
   "id": "d7c99ccf-1620-4717-a556-417c9c52abef",
   "metadata": {
    "execution": {
     "iopub.execute_input": "2025-02-26T15:30:18.569881Z",
     "iopub.status.busy": "2025-02-26T15:30:18.568748Z",
     "iopub.status.idle": "2025-02-26T15:30:18.585897Z",
     "shell.execute_reply": "2025-02-26T15:30:18.584747Z"
    }
   },
   "outputs": [
    {
     "name": "stdout",
     "output_type": "stream",
     "text": [
      "'data.frame':\t3381 obs. of  11 variables:\n",
      " $ seqnames          : Factor w/ 23 levels \"chr1\",\"chr2\",..: 1 1 1 1 1 1 1 1 1 1 ...\n",
      " $ start             : int  43953185 44036259 44047943 44068348 44119766 44261567 44405194 44405194 44405194 44405194 ...\n",
      " $ end               : int  44405194 44405194 44405194 44405194 44405194 44405194 44406511 44408863 44417807 44501134 ...\n",
      " $ width             : int  452010 368936 357252 336847 285429 143628 1318 3670 12614 95941 ...\n",
      " $ strand            : Factor w/ 3 levels \"+\",\"-\",\"*\": 3 3 3 3 3 3 3 3 3 3 ...\n",
      " $ score             : num  0.1766 -0.0797 -0.081 -0.076 0.0883 ...\n",
      " $ gene              : chr  \"RNF220\" \"RNF220\" \"RNF220\" \"RNF220\" ...\n",
      " $ Peak_ID           : chr  \"chr1-43952784-43953586\" \"chr1-44035644-44036873\" \"chr1-44047364-44048521\" \"chr1-44067727-44068969\" ...\n",
      " $ Link_zscore       : num  2.59 -1.93 -1.94 -1.68 1.65 ...\n",
      " $ Link_pvalue       : num  0.00482 0.02681 0.02591 0.04608 0.04993 ...\n",
      " $ Link_Minus_logpval: num  2.32 1.57 1.59 1.34 1.3 1.39 1.49 1.4 1.33 3.39 ...\n"
     ]
    }
   ],
   "source": [
    "check<-Linked_peaks[which(Linked_peaks$Link_Minus_logpval >= 1.3),]\n",
    "\n",
    "str(check)"
   ]
  },
  {
   "cell_type": "markdown",
   "id": "7c47959d-de82-4300-b8e6-b55e4ec8af28",
   "metadata": {},
   "source": [
    "## Subset on linked peaks"
   ]
  },
  {
   "cell_type": "code",
   "execution_count": 15,
   "id": "3ef8c115-8cfc-4e42-879a-ad39b78ef8b7",
   "metadata": {
    "execution": {
     "iopub.execute_input": "2025-02-26T15:16:17.865578Z",
     "iopub.status.busy": "2025-02-26T15:16:17.864489Z",
     "iopub.status.idle": "2025-02-26T15:16:17.977803Z",
     "shell.execute_reply": "2025-02-26T15:16:17.976676Z"
    }
   },
   "outputs": [
    {
     "name": "stderr",
     "output_type": "stream",
     "text": [
      "Warning message:\n",
      "“\u001b[1m\u001b[22mThe `slot` argument of `GetAssayData()` is deprecated as of SeuratObject 5.0.0.\n",
      "\u001b[36mℹ\u001b[39m Please use the `layer` argument instead.”\n"
     ]
    },
    {
     "name": "stdout",
     "output_type": "stream",
     "text": [
      "Formal class 'dgCMatrix' [package \"Matrix\"] with 6 slots\n",
      "  ..@ i       : int [1:127181661] 4 6 47 109 118 121 140 156 284 462 ...\n",
      "  ..@ p       : int [1:16836] 0 3988 11246 19585 35689 49122 64522 74021 91777 95828 ...\n",
      "  ..@ Dim     : int [1:2] 306646 16835\n",
      "  ..@ Dimnames:List of 2\n",
      "  .. ..$ : chr [1:306646] \"chr1-10052-10333\" \"chr1-180682-181613\" \"chr1-191201-191943\" \"chr1-267869-268076\" ...\n",
      "  .. ..$ : chr [1:16835] \"MCO_01326_AAACAGCCACAGCCAT-1\" \"MCO_01326_AAACAGCCAGGAAGCC-1\" \"MCO_01326_AAACAGCCAGTATGTT-1\" \"MCO_01326_AAACATGCAAACGCGA-1\" ...\n",
      "  .. .. ..- attr(*, \".match.hash\")=Class 'match.hash' <externalptr> \n",
      "  ..@ x       : num [1:127181661] 1 3 1 1 1 1 1 1 1 1 ...\n",
      "  ..@ factors : list()\n",
      "\n"
     ]
    }
   ],
   "source": [
    "DefaultAssay(adata)<-'ATAC_by_refined_annotation'\n",
    "\n",
    "peaks <- GetAssayData(adata,slot=\"counts\")\n",
    "\n",
    "str(peaks)\n",
    "cat(\"\\n\")\n"
   ]
  },
  {
   "cell_type": "code",
   "execution_count": 16,
   "id": "cd2f98ae-46be-47af-8881-ed1e74d4439b",
   "metadata": {
    "execution": {
     "iopub.execute_input": "2025-02-26T15:16:47.462798Z",
     "iopub.status.busy": "2025-02-26T15:16:47.461727Z",
     "iopub.status.idle": "2025-02-26T15:16:47.478344Z",
     "shell.execute_reply": "2025-02-26T15:16:47.477208Z"
    }
   },
   "outputs": [
    {
     "name": "stdout",
     "output_type": "stream",
     "text": [
      "'data.frame':\t306646 obs. of  2 variables:\n",
      " $ rownames.peaks.: chr  \"chr1-10052-10333\" \"chr1-180682-181613\" \"chr1-191201-191943\" \"chr1-267869-268076\" ...\n",
      " $ peak_ids       : chr  \"chr1-10052-10333\" \"chr1-180682-181613\" \"chr1-191201-191943\" \"chr1-267869-268076\" ...\n",
      "\n"
     ]
    }
   ],
   "source": [
    "Peak_list=data.frame(rownames(peaks))\n",
    "Peak_list$peak_ids=Peak_list$rownames.peaks.\n",
    "\n",
    "str(Peak_list)\n",
    "cat(\"\\n\")"
   ]
  },
  {
   "cell_type": "code",
   "execution_count": 17,
   "id": "6115554a-87a6-4f5e-b6f2-2e849c717275",
   "metadata": {
    "execution": {
     "iopub.execute_input": "2025-02-26T15:17:18.955670Z",
     "iopub.status.busy": "2025-02-26T15:17:18.954586Z",
     "iopub.status.idle": "2025-02-26T15:17:19.080542Z",
     "shell.execute_reply": "2025-02-26T15:17:19.079310Z"
    }
   },
   "outputs": [
    {
     "name": "stdout",
     "output_type": "stream",
     "text": [
      "Peak_list_filt_0\n",
      "'data.frame':\t3229 obs. of  2 variables:\n",
      " $ rownames.peaks.: chr  \"chr1-43952784-43953586\" \"chr1-44035644-44036873\" \"chr1-44047364-44048521\" \"chr1-44067727-44068969\" ...\n",
      " $ peak_ids       : chr  \"chr1-43952784-43953586\" \"chr1-44035644-44036873\" \"chr1-44047364-44048521\" \"chr1-44067727-44068969\" ...\n",
      "\n"
     ]
    }
   ],
   "source": [
    "Peak_list_filt=Peak_list %>% dplyr::filter(peak_ids %in% Linked_peaks$Peak_ID)\n",
    "  \n",
    "  cat(\"Peak_list_filt_0\\n\")\n",
    "  cat(str(Peak_list_filt))\n",
    "  cat(\"\\n\")"
   ]
  },
  {
   "cell_type": "code",
   "execution_count": 18,
   "id": "bfd600a7-8e76-4b22-8560-0ab142662e33",
   "metadata": {
    "execution": {
     "iopub.execute_input": "2025-02-26T15:17:32.516633Z",
     "iopub.status.busy": "2025-02-26T15:17:32.515542Z",
     "iopub.status.idle": "2025-02-26T15:17:34.315128Z",
     "shell.execute_reply": "2025-02-26T15:17:34.313941Z"
    }
   },
   "outputs": [
    {
     "name": "stdout",
     "output_type": "stream",
     "text": [
      "peak_subset_0\n",
      "Formal class 'dgCMatrix' [package \"Matrix\"] with 6 slots\n",
      "  ..@ i       : int [1:3810661] 20 30 32 36 62 101 108 118 133 140 ...\n",
      "  ..@ p       : int [1:16836] 0 119 356 633 1147 1560 2011 2320 2881 2991 ...\n",
      "  ..@ Dim     : int [1:2] 3229 16835\n",
      "  ..@ Dimnames:List of 2\n",
      "  .. ..$ : chr [1:3229] \"chr1-43952784-43953586\" \"chr1-44035644-44036873\" \"chr1-44047364-44048521\" \"chr1-44067727-44068969\" ...\n",
      "  .. ..$ : chr [1:16835] \"MCO_01326_AAACAGCCACAGCCAT-1\" \"MCO_01326_AAACAGCCAGGAAGCC-1\" \"MCO_01326_AAACAGCCAGTATGTT-1\" \"MCO_01326_AAACATGCAAACGCGA-1\" ...\n",
      "  .. .. ..- attr(*, \".match.hash\")=Class 'match.hash' <externalptr> \n",
      "  ..@ x       : num [1:3810661] 1 2 1 1 1 1 1 1 1 1 ...\n",
      "  ..@ factors : list()\n",
      "\n"
     ]
    }
   ],
   "source": [
    "peak_subset = peaks[Peak_list_filt$peak_ids,]\n",
    "  \n",
    "cat(\"peak_subset_0\\n\")\n",
    "cat(str(peak_subset))\n",
    "cat(\"\\n\")"
   ]
  },
  {
   "cell_type": "code",
   "execution_count": 20,
   "id": "09a000e1-36ce-4de1-b97b-dc5e3d5c513f",
   "metadata": {
    "execution": {
     "iopub.execute_input": "2025-02-26T15:18:20.929465Z",
     "iopub.status.busy": "2025-02-26T15:18:20.928370Z",
     "iopub.status.idle": "2025-02-26T15:18:21.295173Z",
     "shell.execute_reply": "2025-02-26T15:18:21.293869Z"
    }
   },
   "outputs": [],
   "source": [
    "adata[[\"peak_subset\"]] <- CreateChromatinAssay(\n",
    "counts = peak_subset,\n",
    "fragments = Fragments(adata),\n",
    "min.cells = 0, min.features = -1 )\n",
    "\n",
    "DefaultAssay(adata) <- 'peak_subset'"
   ]
  },
  {
   "cell_type": "code",
   "execution_count": 163,
   "id": "93933e2d-b190-4b55-afd3-f4b8feb4768a",
   "metadata": {
    "execution": {
     "iopub.execute_input": "2025-02-26T16:27:58.871263Z",
     "iopub.status.busy": "2025-02-26T16:27:58.869923Z",
     "iopub.status.idle": "2025-02-26T16:27:58.983301Z",
     "shell.execute_reply": "2025-02-26T16:27:58.981802Z"
    }
   },
   "outputs": [
    {
     "data": {
      "text/plain": [
       "An object of class Seurat \n",
       "752833 features across 16835 samples within 6 assays \n",
       "Active assay: peak_subset (3229 features, 0 variable features)\n",
       " 2 layers present: counts, data\n",
       " 5 other assays present: RNA, RNA_raw, SCT, ATAC, ATAC_by_refined_annotation\n",
       " 7 dimensional reductions calculated: pca, umap.rna, lsi, umap.atac, umap.wnn, harmony.rna, harmony.atac"
      ]
     },
     "metadata": {},
     "output_type": "display_data"
    }
   ],
   "source": [
    "adata"
   ]
  },
  {
   "cell_type": "markdown",
   "id": "08bc4506-15b3-45b9-b4b0-fed7fed5c110",
   "metadata": {},
   "source": [
    "## Create a variable to correct for clone line and time_point"
   ]
  },
  {
   "cell_type": "code",
   "execution_count": 164,
   "id": "e7ba8351-6748-4253-8242-c9fd4220a04f",
   "metadata": {
    "execution": {
     "iopub.execute_input": "2025-02-26T16:28:10.667600Z",
     "iopub.status.busy": "2025-02-26T16:28:10.666333Z",
     "iopub.status.idle": "2025-02-26T16:28:10.700775Z",
     "shell.execute_reply": "2025-02-26T16:28:10.699443Z"
    }
   },
   "outputs": [
    {
     "name": "stdout",
     "output_type": "stream",
     "text": [
      "wt_1_Day_0 wt_2_Day_0 wt_3_Day_0 rs62237617_1_Day_0 rs62237617_2_Day_0 rs62237617_3_Day_0 DNMT3A_1_Day_0 DNMT3A_2_Day_0 DNMT3A_3_Day_0 rs62237617_DNMT3A_1_Day_0 rs62237617_DNMT3A_2_Day_0 rs62237617_DNMT3A_3_Day_0 wt_1_Day_8 wt_2_Day_8 wt_3_Day_8 rs62237617_1_Day_8 rs62237617_2_Day_8 rs62237617_3_Day_8 DNMT3A_1_Day_8 DNMT3A_2_Day_8 DNMT3A_3_Day_8 rs62237617_DNMT3A_1_Day_8 rs62237617_DNMT3A_2_Day_8 rs62237617_DNMT3A_3_Day_8 wt_1_Day_12 wt_2_Day_12 wt_3_Day_12 rs62237617_1_Day_12 rs62237617_2_Day_12 rs62237617_3_Day_12 DNMT3A_1_Day_12 DNMT3A_2_Day_12 DNMT3A_3_Day_12 rs62237617_DNMT3A_1_Day_12 rs62237617_DNMT3A_2_Day_12 rs62237617_DNMT3A_3_Day_12 wt_1_Day_15 wt_2_Day_15 wt_3_Day_15 rs62237617_1_Day_15 rs62237617_2_Day_15 rs62237617_3_Day_15 DNMT3A_1_Day_15 DNMT3A_2_Day_15 DNMT3A_3_Day_15 rs62237617_DNMT3A_1_Day_15 rs62237617_DNMT3A_2_Day_15 rs62237617_DNMT3A_3_Day_15\n",
      "60 132 80 130 119 242 893 98 2277 506 600 715 6 29 18 9 11 30 68 9 24 19 11 25 58 33 113 348 319 3134 77 13 35 618 65 92 6 32 94 385 327 4590 63 3 19 238 30 32\n"
     ]
    }
   ],
   "source": [
    " adata$sample_id<-droplevels(interaction(adata$clone_line,adata$time_point, sep=\"_\"))\n",
    "  \n",
    "cat(sprintf(as.character(names(summary(adata$sample_id)))))\n",
    "cat(\"\\n\")\n",
    "cat(sprintf(as.character(summary(adata$sample_id))))\n",
    "cat(\"\\n\")"
   ]
  },
  {
   "cell_type": "markdown",
   "id": "3d92e498-fd53-411a-a054-03738547a058",
   "metadata": {},
   "source": [
    "## Extract peak_subset counts"
   ]
  },
  {
   "cell_type": "code",
   "execution_count": 165,
   "id": "358a6b10-3f8c-4481-90bf-a8afc6c4a52d",
   "metadata": {
    "execution": {
     "iopub.execute_input": "2025-02-26T16:28:13.060311Z",
     "iopub.status.busy": "2025-02-26T16:28:13.059052Z",
     "iopub.status.idle": "2025-02-26T16:28:13.098085Z",
     "shell.execute_reply": "2025-02-26T16:28:13.096871Z"
    }
   },
   "outputs": [
    {
     "name": "stdout",
     "output_type": "stream",
     "text": [
      "matrix_ATAC\n",
      "Formal class 'dgCMatrix' [package \"Matrix\"] with 6 slots\n",
      "  ..@ i       : int [1:3810661] 20 30 32 36 62 101 108 118 133 140 ...\n",
      "  ..@ p       : int [1:16836] 0 119 356 633 1147 1560 2011 2320 2881 2991 ...\n",
      "  ..@ Dim     : int [1:2] 3229 16835\n",
      "  ..@ Dimnames:List of 2\n",
      "  .. ..$ : chr [1:3229] \"chr1-43952784-43953586\" \"chr1-44035644-44036873\" \"chr1-44047364-44048521\" \"chr1-44067727-44068969\" ...\n",
      "  .. ..$ : chr [1:16835] \"MCO_01326_AAACAGCCACAGCCAT-1\" \"MCO_01326_AAACAGCCAGGAAGCC-1\" \"MCO_01326_AAACAGCCAGTATGTT-1\" \"MCO_01326_AAACATGCAAACGCGA-1\" ...\n",
      "  ..@ x       : num [1:3810661] 1 2 1 1 1 1 1 1 1 1 ...\n",
      "  ..@ factors : list()\n",
      "\n"
     ]
    }
   ],
   "source": [
    "matrix_ATAC<-GetAssayData(object = adata, assay = \"peak_subset\", layer = \"counts\")\n",
    "  \n",
    "  cat(\"matrix_ATAC\\n\")\n",
    "  cat(str(matrix_ATAC))\n",
    "  cat(\"\\n\")"
   ]
  },
  {
   "cell_type": "markdown",
   "id": "0f384007-cec8-4a6b-bd81-b41063a1a0bf",
   "metadata": {},
   "source": [
    "## Extract metadata"
   ]
  },
  {
   "cell_type": "code",
   "execution_count": 166,
   "id": "e153f2d7-f39d-41fe-8bbe-5eb81e5c7fbb",
   "metadata": {
    "execution": {
     "iopub.execute_input": "2025-02-26T16:28:14.200854Z",
     "iopub.status.busy": "2025-02-26T16:28:14.199736Z",
     "iopub.status.idle": "2025-02-26T16:28:14.250114Z",
     "shell.execute_reply": "2025-02-26T16:28:14.248910Z"
    }
   },
   "outputs": [
    {
     "name": "stdout",
     "output_type": "stream",
     "text": [
      "Day_0 Day_8 Day_12 Day_15\n",
      "5852 259 4905 5819\n",
      "hESC HemogenicEndothelium MEP early erythroid early MK MK PolyPlo MK\n",
      "5853 236 2693 914 108 2863 4168\n",
      "wt_1 wt_2 wt_3 rs62237617_1 rs62237617_2 rs62237617_3 DNMT3A_1 DNMT3A_2 DNMT3A_3 rs62237617_DNMT3A_1 rs62237617_DNMT3A_2 rs62237617_DNMT3A_3\n",
      "130 226 305 872 776 7996 1101 123 2355 1381 706 864\n",
      "wt_1_Day_0 wt_2_Day_0 wt_3_Day_0 rs62237617_1_Day_0 rs62237617_2_Day_0 rs62237617_3_Day_0 DNMT3A_1_Day_0 DNMT3A_2_Day_0 DNMT3A_3_Day_0 rs62237617_DNMT3A_1_Day_0 rs62237617_DNMT3A_2_Day_0 rs62237617_DNMT3A_3_Day_0 wt_1_Day_8 wt_2_Day_8 wt_3_Day_8 rs62237617_1_Day_8 rs62237617_2_Day_8 rs62237617_3_Day_8 DNMT3A_1_Day_8 DNMT3A_2_Day_8 DNMT3A_3_Day_8 rs62237617_DNMT3A_1_Day_8 rs62237617_DNMT3A_2_Day_8 rs62237617_DNMT3A_3_Day_8 wt_1_Day_12 wt_2_Day_12 wt_3_Day_12 rs62237617_1_Day_12 rs62237617_2_Day_12 rs62237617_3_Day_12 DNMT3A_1_Day_12 DNMT3A_2_Day_12 DNMT3A_3_Day_12 rs62237617_DNMT3A_1_Day_12 rs62237617_DNMT3A_2_Day_12 rs62237617_DNMT3A_3_Day_12 wt_1_Day_15 wt_2_Day_15 wt_3_Day_15 rs62237617_1_Day_15 rs62237617_2_Day_15 rs62237617_3_Day_15 DNMT3A_1_Day_15 DNMT3A_2_Day_15 DNMT3A_3_Day_15 rs62237617_DNMT3A_1_Day_15 rs62237617_DNMT3A_2_Day_15 rs62237617_DNMT3A_3_Day_15\n",
      "60 132 80 130 119 242 893 98 2277 506 600 715 6 29 18 9 11 30 68 9 24 19 11 25 58 33 113 348 319 3134 77 13 35 618 65 92 6 32 94 385 327 4590 63 3 19 238 30 32\n"
     ]
    }
   ],
   "source": [
    "metadata<-adata[[]]\n",
    "\n",
    "cat(sprintf(as.character(names(summary(metadata$time_point)))))\n",
    "  cat(\"\\n\")\n",
    "  cat(sprintf(as.character(summary(metadata$time_point))))\n",
    "  cat(\"\\n\")\n",
    "  \n",
    "  \n",
    "  cat(sprintf(as.character(names(summary(metadata$refined_annotation_majority_vote)))))\n",
    "  cat(\"\\n\")\n",
    "  cat(sprintf(as.character(summary(metadata$refined_annotation_majority_vote))))\n",
    "  cat(\"\\n\")\n",
    "\n",
    "\n",
    "  \n",
    "  cat(sprintf(as.character(names(summary(as.factor(metadata$clone_line))))))\n",
    "  cat(\"\\n\")\n",
    "  cat(sprintf(as.character(summary(as.factor(metadata$clone_line)))))\n",
    "  cat(\"\\n\")\n",
    "  \n",
    "  cat(sprintf(as.character(names(summary(as.factor(metadata$sample_id))))))\n",
    "  cat(\"\\n\")\n",
    "  cat(sprintf(as.character(summary(as.factor(metadata$sample_id)))))\n",
    "  cat(\"\\n\")"
   ]
  },
  {
   "cell_type": "markdown",
   "id": "825f1d9f-04b3-4956-839c-c30fdd5d2c88",
   "metadata": {},
   "source": [
    "## Create a new Seurat object with the ATAC and the metadata"
   ]
  },
  {
   "cell_type": "code",
   "execution_count": 167,
   "id": "dc72be3b-4988-46fe-83ba-7f2d7e68241c",
   "metadata": {
    "execution": {
     "iopub.execute_input": "2025-02-26T16:28:14.750826Z",
     "iopub.status.busy": "2025-02-26T16:28:14.749725Z",
     "iopub.status.idle": "2025-02-26T16:28:15.234655Z",
     "shell.execute_reply": "2025-02-26T16:28:15.233299Z"
    }
   },
   "outputs": [
    {
     "data": {
      "text/plain": [
       "An object of class Seurat \n",
       "3229 features across 16835 samples within 1 assay \n",
       "Active assay: RNA (3229 features, 0 variable features)\n",
       " 1 layer present: counts"
      ]
     },
     "metadata": {},
     "output_type": "display_data"
    }
   ],
   "source": [
    "ATAC_object <- CreateSeuratObject(counts = matrix_ATAC, assay = \"RNA\",\n",
    "                                   meta.data=metadata)\n",
    "\n",
    "ATAC_object"
   ]
  },
  {
   "cell_type": "markdown",
   "id": "61fb461d-6392-47f9-bd8d-072dfeb441be",
   "metadata": {},
   "source": [
    "## Seurat2PB Aggregate by sample_id (clone line) and seurat_cluster"
   ]
  },
  {
   "cell_type": "code",
   "execution_count": 168,
   "id": "2d9d8a6b-1802-482f-9cfe-ede7b5416bb2",
   "metadata": {
    "execution": {
     "iopub.execute_input": "2025-02-26T16:28:15.237613Z",
     "iopub.status.busy": "2025-02-26T16:28:15.236567Z",
     "iopub.status.idle": "2025-02-26T16:28:15.366685Z",
     "shell.execute_reply": "2025-02-26T16:28:15.365226Z"
    }
   },
   "outputs": [
    {
     "name": "stdout",
     "output_type": "stream",
     "text": [
      "cluster_names_0\n",
      " chr [1:7] \"hESC\" \"HemogenicEndothelium\" \"MEP\" \"early erythroid\" \"early MK\" ...\n",
      "\n",
      "sample_names_0\n",
      " chr [1:48] \"wt_1_Day_0\" \"wt_2_Day_0\" \"wt_3_Day_0\" \"rs62237617_1_Day_0\" ...\n",
      "\n",
      "groups_0\n",
      "'data.frame':\t16835 obs. of  2 variables:\n",
      " $ sample_id                       : Factor w/ 48 levels \"wt_1_Day_0\",\"wt_2_Day_0\",..: 9 4 7 7 7 11 7 7 9 9 ...\n",
      " $ refined_annotation_majority_vote: Ord.factor w/ 7 levels \"hESC\"<\"HemogenicEndothelium\"<..: 1 1 1 1 1 1 1 1 1 1 ...\n",
      "\n"
     ]
    },
    {
     "name": "stderr",
     "output_type": "stream",
     "text": [
      "Warning message in DGEList.default(counts = as.matrix(counts.pb), samples = sample.pb, :\n",
      "“At least one library size is zero”\n"
     ]
    },
    {
     "name": "stdout",
     "output_type": "stream",
     "text": [
      "aggr_counts_0\n",
      "Formal class 'DGEList' [package \"edgeR\"] with 1 slot\n",
      "  ..@ .Data:List of 3\n",
      "  .. ..$ : num [1:3229, 1:131] 95 61 34 13 27 85 371 55 242 1 ...\n",
      "  .. .. ..- attr(*, \"dimnames\")=List of 2\n",
      "  .. .. .. ..$ : chr [1:3229] \"chr1-43952784-43953586\" \"chr1-44035644-44036873\" \"chr1-44047364-44048521\" \"chr1-44067727-44068969\" ...\n",
      "  .. .. .. ..$ : chr [1:131] \"DNMT3A_1_Day_0_clusterhESC\" \"DNMT3A_1_Day_12_clusterearly erythroid\" \"DNMT3A_1_Day_12_clusterMEP\" \"DNMT3A_1_Day_12_clusterMK\" ...\n",
      "  .. ..$ :'data.frame':\t131 obs. of  5 variables:\n",
      "  .. .. ..$ group       : Factor w/ 1 level \"1\": 1 1 1 1 1 1 1 1 1 1 ...\n",
      "  .. .. ..$ lib.size    : num [1:131] 292016 2143 14387 7570 369 ...\n",
      "  .. .. ..$ norm.factors: num [1:131] 1 1 1 1 1 1 1 1 1 1 ...\n",
      "  .. .. ..$ sample      : chr [1:131] \"DNMT3A_1_Day_0\" \"DNMT3A_1_Day_12\" \"DNMT3A_1_Day_12\" \"DNMT3A_1_Day_12\" ...\n",
      "  .. .. ..$ cluster     : chr [1:131] \"hESC\" \"early erythroid\" \"MEP\" \"MK\" ...\n",
      "  .. ..$ :'data.frame':\t3229 obs. of  1 variable:\n",
      "  .. .. ..$ gene: chr [1:3229] \"chr1-43952784-43953586\" \"chr1-44035644-44036873\" \"chr1-44047364-44048521\" \"chr1-44067727-44068969\" ...\n",
      "  ..$ names: chr [1:3] \"counts\" \"samples\" \"genes\"\n",
      "\n"
     ]
    }
   ],
   "source": [
    " cluster_names <- levels(metadata[,which(colnames(metadata) == 'refined_annotation_majority_vote')])\n",
    "  \n",
    "  cat(\"cluster_names_0\\n\")\n",
    "  cat(str(cluster_names))\n",
    "  cat(\"\\n\")\n",
    "  \n",
    "  sample_names <- levels(metadata[,which(colnames(metadata) == 'sample_id')])\n",
    "  \n",
    "  cat(\"sample_names_0\\n\")\n",
    "  cat(str(sample_names))\n",
    "  cat(\"\\n\")\n",
    "  \n",
    "  groups <- metadata[,c(which(colnames(metadata) == 'sample_id'),which(colnames(metadata) == 'refined_annotation_majority_vote'))]\n",
    "  \n",
    "  cat(\"groups_0\\n\")\n",
    "  cat(str(groups))\n",
    "  cat(\"\\n\")\n",
    "  \n",
    "  aggr_counts <- Seurat2PB(ATAC_object, sample=\"sample_id\", cluster=\"refined_annotation_majority_vote\")\n",
    "  \n",
    "  cat(\"aggr_counts_0\\n\")\n",
    "  cat(str(aggr_counts))\n",
    "  cat(\"\\n\")"
   ]
  },
  {
   "cell_type": "markdown",
   "id": "f836ec01-0ad5-4512-be6c-6659688b3362",
   "metadata": {},
   "source": [
    "## List of count subsets"
   ]
  },
  {
   "cell_type": "code",
   "execution_count": 169,
   "id": "dc1a1d28-c470-497e-ace8-fc8a24a58e7d",
   "metadata": {
    "execution": {
     "iopub.execute_input": "2025-02-26T16:28:15.505892Z",
     "iopub.status.busy": "2025-02-26T16:28:15.504639Z",
     "iopub.status.idle": "2025-02-26T16:28:15.538534Z",
     "shell.execute_reply": "2025-02-26T16:28:15.537126Z"
    }
   },
   "outputs": [],
   "source": [
    " ## Initiate empty list\n",
    "  counts_ls <- list()\n",
    "  \n",
    "  DEBUG<-0\n",
    "  \n",
    "\n",
    "for (i in 1:length(cluster_names)) {\n",
    "    \n",
    "    cluster_names[i]\n",
    "    \n",
    "    ## Extract indexes of columns in the global matrix that match a given cluster\n",
    "    column_idx <- which(tstrsplit(colnames(aggr_counts), \"_cluster\")[[2]] == cluster_names[i])\n",
    "    \n",
    "    sub_aggr<- aggr_counts[, column_idx]\n",
    "    \n",
    "    if(DEBUG == 1)\n",
    "    {\n",
    "      cat(\"sub_aggr_0\\n\")\n",
    "      cat(str(sub_aggr))\n",
    "      cat(\"\\n\")\n",
    "      \n",
    "    }\n",
    "    \n",
    "    ## Store corresponding sub-matrix as one element of a list\n",
    "    counts_ls[[i]] <-sub_aggr\n",
    "    names(counts_ls)[i] <- cluster_names[i]\n",
    "\n",
    "    #break\n",
    "    \n",
    "  }"
   ]
  },
  {
   "cell_type": "code",
   "execution_count": 170,
   "id": "c7d8bb0f-6080-4f64-9f38-31383d94378f",
   "metadata": {
    "execution": {
     "iopub.execute_input": "2025-02-26T16:28:15.704426Z",
     "iopub.status.busy": "2025-02-26T16:28:15.703368Z",
     "iopub.status.idle": "2025-02-26T16:28:15.711677Z",
     "shell.execute_reply": "2025-02-26T16:28:15.710402Z"
    }
   },
   "outputs": [],
   "source": [
    "# cat(\"counts_ls_0\\n\")\n",
    "# cat(str(counts_ls))\n",
    "# cat(\"\\n\")\n",
    "\n"
   ]
  },
  {
   "cell_type": "markdown",
   "id": "50942bed-cce6-4d27-bce9-55defe39556d",
   "metadata": {},
   "source": [
    "## List of metadata"
   ]
  },
  {
   "cell_type": "code",
   "execution_count": 171,
   "id": "7149b13d-c043-4c85-a7a7-3f7685b36540",
   "metadata": {
    "execution": {
     "iopub.execute_input": "2025-02-26T16:28:16.144649Z",
     "iopub.status.busy": "2025-02-26T16:28:16.143540Z",
     "iopub.status.idle": "2025-02-26T16:28:16.156550Z",
     "shell.execute_reply": "2025-02-26T16:28:16.155209Z"
    }
   },
   "outputs": [
    {
     "data": {
      "text/html": [
       "<style>\n",
       ".list-inline {list-style: none; margin:0; padding: 0}\n",
       ".list-inline>li {display: inline-block}\n",
       ".list-inline>li:not(:last-child)::after {content: \"\\00b7\"; padding: 0 .5ex}\n",
       "</style>\n",
       "<ol class=list-inline><li>'orig.ident'</li><li>'nCount_RNA'</li><li>'nFeature_RNA'</li><li>'percent.mt'</li><li>'nCount_RNA_raw'</li><li>'nFeature_RNA_raw'</li><li>'nCount_ATAC'</li><li>'nFeature_ATAC'</li><li>'gex_raw_reads'</li><li>'gex_mapped_reads'</li><li>'gex_conf_intergenic_reads'</li><li>'gex_conf_exonic_reads'</li><li>'gex_conf_intronic_reads'</li><li>'gex_conf_exonic_unique_reads'</li><li>'gex_conf_exonic_antisense_reads'</li><li>'gex_conf_exonic_dup_reads'</li><li>'gex_exonic_umis'</li><li>'gex_conf_intronic_unique_reads'</li><li>'gex_conf_intronic_antisense_reads'</li><li>'gex_conf_intronic_dup_reads'</li><li>'gex_intronic_umis'</li><li>'gex_conf_txomic_unique_reads'</li><li>'gex_umis_count'</li><li>'gex_genes_count'</li><li>'atac_raw_reads'</li><li>'atac_unmapped_reads'</li><li>'atac_lowmapq'</li><li>'atac_dup_reads'</li><li>'atac_chimeric_reads'</li><li>'atac_mitochondrial_reads'</li><li>'atac_fragments'</li><li>'atac_TSS_fragments'</li><li>'atac_peak_region_fragments'</li><li>'atac_peak_region_cutsites'</li><li>'TSS.enrichment'</li><li>'TSS.percentile'</li><li>'scDblFinder.class'</li><li>'scDblFinder.score'</li><li>'scDblFinder.weighted'</li><li>'scDblFinder.cxds_score'</li><li>'scDblFinder.class_atac'</li><li>'scDblFinder.score_atac'</li><li>'scDblFinder.weighted_atac'</li><li>'scDblFinder.cxds_score_atac'</li><li>'No_assigned_GFPbc'</li><li>'Assigned_GFPbc'</li><li>'Assigned_GFPgenotype'</li><li>'DBL_comb'</li><li>'amulet_nFrags'</li><li>'amulet_uniqFrags'</li><li>'amulet_nAbove2'</li><li>'amulet_total.nAbove2'</li><li>'amulet_p.value'</li><li>'amulet_q.value'</li><li>'doublet_amulet'</li><li>'nCount_SCT'</li><li>'nFeature_SCT'</li><li>'SCT.weight'</li><li>'ATAC.weight'</li><li>'wsnn_res.0.2'</li><li>'seurat_clusters'</li><li>'doublet'</li><li>'wsnn_res.2'</li><li>'wsnn_res.0.5'</li><li>'wsnn_res.0.25'</li><li>'CellTypist_BMA_label'</li><li>'CellTypist_BMA_conf_score'</li><li>'CellTypist_IPSCs_label'</li><li>'CellTypist_IPSCs_conf_score'</li><li>'CellTypist_BMA_label_filtered'</li><li>'CellTypist_IPSCs_label_filtered'</li><li>'time_point'</li><li>'time'</li><li>'nucleosome_signal'</li><li>'nucleosome_percentile'</li><li>'FRiP'</li><li>'atac_pct_reads_in_peaks'</li><li>'my_anot'</li><li>'FOI'</li><li>'my_anot_updated'</li><li>'majority_voting_BMA'</li><li>'majority_voting_iPSCs'</li><li>'current_anot'</li><li>'Assignation_demux_NO_CB'</li><li>'Assigned_GFPbc_demux_NO_CB'</li><li>'Assignation_demux_CB'</li><li>'Assigned_GFPbc_demux_CB'</li><li>'Assigned_GFPbc_integral'</li><li>'Assigned_GFPgenotype_integral'</li><li>'Subclusters_3'</li><li>'Subclusters_4'</li><li>'Subclusters_7'</li><li>'Subclusters_2'</li><li>'new_clusters'</li><li>'refined_annotation'</li><li>'refined_annotation_majority_vote'</li><li>'clone_line'</li><li>'Genotype'</li><li>'nCount_ATAC_by_refined_annotation'</li><li>'nFeature_ATAC_by_refined_annotation'</li><li>'nCount_peak_subset'</li><li>'nFeature_peak_subset'</li><li>'sample_id'</li></ol>\n"
      ],
      "text/latex": [
       "\\begin{enumerate*}\n",
       "\\item 'orig.ident'\n",
       "\\item 'nCount\\_RNA'\n",
       "\\item 'nFeature\\_RNA'\n",
       "\\item 'percent.mt'\n",
       "\\item 'nCount\\_RNA\\_raw'\n",
       "\\item 'nFeature\\_RNA\\_raw'\n",
       "\\item 'nCount\\_ATAC'\n",
       "\\item 'nFeature\\_ATAC'\n",
       "\\item 'gex\\_raw\\_reads'\n",
       "\\item 'gex\\_mapped\\_reads'\n",
       "\\item 'gex\\_conf\\_intergenic\\_reads'\n",
       "\\item 'gex\\_conf\\_exonic\\_reads'\n",
       "\\item 'gex\\_conf\\_intronic\\_reads'\n",
       "\\item 'gex\\_conf\\_exonic\\_unique\\_reads'\n",
       "\\item 'gex\\_conf\\_exonic\\_antisense\\_reads'\n",
       "\\item 'gex\\_conf\\_exonic\\_dup\\_reads'\n",
       "\\item 'gex\\_exonic\\_umis'\n",
       "\\item 'gex\\_conf\\_intronic\\_unique\\_reads'\n",
       "\\item 'gex\\_conf\\_intronic\\_antisense\\_reads'\n",
       "\\item 'gex\\_conf\\_intronic\\_dup\\_reads'\n",
       "\\item 'gex\\_intronic\\_umis'\n",
       "\\item 'gex\\_conf\\_txomic\\_unique\\_reads'\n",
       "\\item 'gex\\_umis\\_count'\n",
       "\\item 'gex\\_genes\\_count'\n",
       "\\item 'atac\\_raw\\_reads'\n",
       "\\item 'atac\\_unmapped\\_reads'\n",
       "\\item 'atac\\_lowmapq'\n",
       "\\item 'atac\\_dup\\_reads'\n",
       "\\item 'atac\\_chimeric\\_reads'\n",
       "\\item 'atac\\_mitochondrial\\_reads'\n",
       "\\item 'atac\\_fragments'\n",
       "\\item 'atac\\_TSS\\_fragments'\n",
       "\\item 'atac\\_peak\\_region\\_fragments'\n",
       "\\item 'atac\\_peak\\_region\\_cutsites'\n",
       "\\item 'TSS.enrichment'\n",
       "\\item 'TSS.percentile'\n",
       "\\item 'scDblFinder.class'\n",
       "\\item 'scDblFinder.score'\n",
       "\\item 'scDblFinder.weighted'\n",
       "\\item 'scDblFinder.cxds\\_score'\n",
       "\\item 'scDblFinder.class\\_atac'\n",
       "\\item 'scDblFinder.score\\_atac'\n",
       "\\item 'scDblFinder.weighted\\_atac'\n",
       "\\item 'scDblFinder.cxds\\_score\\_atac'\n",
       "\\item 'No\\_assigned\\_GFPbc'\n",
       "\\item 'Assigned\\_GFPbc'\n",
       "\\item 'Assigned\\_GFPgenotype'\n",
       "\\item 'DBL\\_comb'\n",
       "\\item 'amulet\\_nFrags'\n",
       "\\item 'amulet\\_uniqFrags'\n",
       "\\item 'amulet\\_nAbove2'\n",
       "\\item 'amulet\\_total.nAbove2'\n",
       "\\item 'amulet\\_p.value'\n",
       "\\item 'amulet\\_q.value'\n",
       "\\item 'doublet\\_amulet'\n",
       "\\item 'nCount\\_SCT'\n",
       "\\item 'nFeature\\_SCT'\n",
       "\\item 'SCT.weight'\n",
       "\\item 'ATAC.weight'\n",
       "\\item 'wsnn\\_res.0.2'\n",
       "\\item 'seurat\\_clusters'\n",
       "\\item 'doublet'\n",
       "\\item 'wsnn\\_res.2'\n",
       "\\item 'wsnn\\_res.0.5'\n",
       "\\item 'wsnn\\_res.0.25'\n",
       "\\item 'CellTypist\\_BMA\\_label'\n",
       "\\item 'CellTypist\\_BMA\\_conf\\_score'\n",
       "\\item 'CellTypist\\_IPSCs\\_label'\n",
       "\\item 'CellTypist\\_IPSCs\\_conf\\_score'\n",
       "\\item 'CellTypist\\_BMA\\_label\\_filtered'\n",
       "\\item 'CellTypist\\_IPSCs\\_label\\_filtered'\n",
       "\\item 'time\\_point'\n",
       "\\item 'time'\n",
       "\\item 'nucleosome\\_signal'\n",
       "\\item 'nucleosome\\_percentile'\n",
       "\\item 'FRiP'\n",
       "\\item 'atac\\_pct\\_reads\\_in\\_peaks'\n",
       "\\item 'my\\_anot'\n",
       "\\item 'FOI'\n",
       "\\item 'my\\_anot\\_updated'\n",
       "\\item 'majority\\_voting\\_BMA'\n",
       "\\item 'majority\\_voting\\_iPSCs'\n",
       "\\item 'current\\_anot'\n",
       "\\item 'Assignation\\_demux\\_NO\\_CB'\n",
       "\\item 'Assigned\\_GFPbc\\_demux\\_NO\\_CB'\n",
       "\\item 'Assignation\\_demux\\_CB'\n",
       "\\item 'Assigned\\_GFPbc\\_demux\\_CB'\n",
       "\\item 'Assigned\\_GFPbc\\_integral'\n",
       "\\item 'Assigned\\_GFPgenotype\\_integral'\n",
       "\\item 'Subclusters\\_3'\n",
       "\\item 'Subclusters\\_4'\n",
       "\\item 'Subclusters\\_7'\n",
       "\\item 'Subclusters\\_2'\n",
       "\\item 'new\\_clusters'\n",
       "\\item 'refined\\_annotation'\n",
       "\\item 'refined\\_annotation\\_majority\\_vote'\n",
       "\\item 'clone\\_line'\n",
       "\\item 'Genotype'\n",
       "\\item 'nCount\\_ATAC\\_by\\_refined\\_annotation'\n",
       "\\item 'nFeature\\_ATAC\\_by\\_refined\\_annotation'\n",
       "\\item 'nCount\\_peak\\_subset'\n",
       "\\item 'nFeature\\_peak\\_subset'\n",
       "\\item 'sample\\_id'\n",
       "\\end{enumerate*}\n"
      ],
      "text/markdown": [
       "1. 'orig.ident'\n",
       "2. 'nCount_RNA'\n",
       "3. 'nFeature_RNA'\n",
       "4. 'percent.mt'\n",
       "5. 'nCount_RNA_raw'\n",
       "6. 'nFeature_RNA_raw'\n",
       "7. 'nCount_ATAC'\n",
       "8. 'nFeature_ATAC'\n",
       "9. 'gex_raw_reads'\n",
       "10. 'gex_mapped_reads'\n",
       "11. 'gex_conf_intergenic_reads'\n",
       "12. 'gex_conf_exonic_reads'\n",
       "13. 'gex_conf_intronic_reads'\n",
       "14. 'gex_conf_exonic_unique_reads'\n",
       "15. 'gex_conf_exonic_antisense_reads'\n",
       "16. 'gex_conf_exonic_dup_reads'\n",
       "17. 'gex_exonic_umis'\n",
       "18. 'gex_conf_intronic_unique_reads'\n",
       "19. 'gex_conf_intronic_antisense_reads'\n",
       "20. 'gex_conf_intronic_dup_reads'\n",
       "21. 'gex_intronic_umis'\n",
       "22. 'gex_conf_txomic_unique_reads'\n",
       "23. 'gex_umis_count'\n",
       "24. 'gex_genes_count'\n",
       "25. 'atac_raw_reads'\n",
       "26. 'atac_unmapped_reads'\n",
       "27. 'atac_lowmapq'\n",
       "28. 'atac_dup_reads'\n",
       "29. 'atac_chimeric_reads'\n",
       "30. 'atac_mitochondrial_reads'\n",
       "31. 'atac_fragments'\n",
       "32. 'atac_TSS_fragments'\n",
       "33. 'atac_peak_region_fragments'\n",
       "34. 'atac_peak_region_cutsites'\n",
       "35. 'TSS.enrichment'\n",
       "36. 'TSS.percentile'\n",
       "37. 'scDblFinder.class'\n",
       "38. 'scDblFinder.score'\n",
       "39. 'scDblFinder.weighted'\n",
       "40. 'scDblFinder.cxds_score'\n",
       "41. 'scDblFinder.class_atac'\n",
       "42. 'scDblFinder.score_atac'\n",
       "43. 'scDblFinder.weighted_atac'\n",
       "44. 'scDblFinder.cxds_score_atac'\n",
       "45. 'No_assigned_GFPbc'\n",
       "46. 'Assigned_GFPbc'\n",
       "47. 'Assigned_GFPgenotype'\n",
       "48. 'DBL_comb'\n",
       "49. 'amulet_nFrags'\n",
       "50. 'amulet_uniqFrags'\n",
       "51. 'amulet_nAbove2'\n",
       "52. 'amulet_total.nAbove2'\n",
       "53. 'amulet_p.value'\n",
       "54. 'amulet_q.value'\n",
       "55. 'doublet_amulet'\n",
       "56. 'nCount_SCT'\n",
       "57. 'nFeature_SCT'\n",
       "58. 'SCT.weight'\n",
       "59. 'ATAC.weight'\n",
       "60. 'wsnn_res.0.2'\n",
       "61. 'seurat_clusters'\n",
       "62. 'doublet'\n",
       "63. 'wsnn_res.2'\n",
       "64. 'wsnn_res.0.5'\n",
       "65. 'wsnn_res.0.25'\n",
       "66. 'CellTypist_BMA_label'\n",
       "67. 'CellTypist_BMA_conf_score'\n",
       "68. 'CellTypist_IPSCs_label'\n",
       "69. 'CellTypist_IPSCs_conf_score'\n",
       "70. 'CellTypist_BMA_label_filtered'\n",
       "71. 'CellTypist_IPSCs_label_filtered'\n",
       "72. 'time_point'\n",
       "73. 'time'\n",
       "74. 'nucleosome_signal'\n",
       "75. 'nucleosome_percentile'\n",
       "76. 'FRiP'\n",
       "77. 'atac_pct_reads_in_peaks'\n",
       "78. 'my_anot'\n",
       "79. 'FOI'\n",
       "80. 'my_anot_updated'\n",
       "81. 'majority_voting_BMA'\n",
       "82. 'majority_voting_iPSCs'\n",
       "83. 'current_anot'\n",
       "84. 'Assignation_demux_NO_CB'\n",
       "85. 'Assigned_GFPbc_demux_NO_CB'\n",
       "86. 'Assignation_demux_CB'\n",
       "87. 'Assigned_GFPbc_demux_CB'\n",
       "88. 'Assigned_GFPbc_integral'\n",
       "89. 'Assigned_GFPgenotype_integral'\n",
       "90. 'Subclusters_3'\n",
       "91. 'Subclusters_4'\n",
       "92. 'Subclusters_7'\n",
       "93. 'Subclusters_2'\n",
       "94. 'new_clusters'\n",
       "95. 'refined_annotation'\n",
       "96. 'refined_annotation_majority_vote'\n",
       "97. 'clone_line'\n",
       "98. 'Genotype'\n",
       "99. 'nCount_ATAC_by_refined_annotation'\n",
       "100. 'nFeature_ATAC_by_refined_annotation'\n",
       "101. 'nCount_peak_subset'\n",
       "102. 'nFeature_peak_subset'\n",
       "103. 'sample_id'\n",
       "\n",
       "\n"
      ],
      "text/plain": [
       "  [1] \"orig.ident\"                         \n",
       "  [2] \"nCount_RNA\"                         \n",
       "  [3] \"nFeature_RNA\"                       \n",
       "  [4] \"percent.mt\"                         \n",
       "  [5] \"nCount_RNA_raw\"                     \n",
       "  [6] \"nFeature_RNA_raw\"                   \n",
       "  [7] \"nCount_ATAC\"                        \n",
       "  [8] \"nFeature_ATAC\"                      \n",
       "  [9] \"gex_raw_reads\"                      \n",
       " [10] \"gex_mapped_reads\"                   \n",
       " [11] \"gex_conf_intergenic_reads\"          \n",
       " [12] \"gex_conf_exonic_reads\"              \n",
       " [13] \"gex_conf_intronic_reads\"            \n",
       " [14] \"gex_conf_exonic_unique_reads\"       \n",
       " [15] \"gex_conf_exonic_antisense_reads\"    \n",
       " [16] \"gex_conf_exonic_dup_reads\"          \n",
       " [17] \"gex_exonic_umis\"                    \n",
       " [18] \"gex_conf_intronic_unique_reads\"     \n",
       " [19] \"gex_conf_intronic_antisense_reads\"  \n",
       " [20] \"gex_conf_intronic_dup_reads\"        \n",
       " [21] \"gex_intronic_umis\"                  \n",
       " [22] \"gex_conf_txomic_unique_reads\"       \n",
       " [23] \"gex_umis_count\"                     \n",
       " [24] \"gex_genes_count\"                    \n",
       " [25] \"atac_raw_reads\"                     \n",
       " [26] \"atac_unmapped_reads\"                \n",
       " [27] \"atac_lowmapq\"                       \n",
       " [28] \"atac_dup_reads\"                     \n",
       " [29] \"atac_chimeric_reads\"                \n",
       " [30] \"atac_mitochondrial_reads\"           \n",
       " [31] \"atac_fragments\"                     \n",
       " [32] \"atac_TSS_fragments\"                 \n",
       " [33] \"atac_peak_region_fragments\"         \n",
       " [34] \"atac_peak_region_cutsites\"          \n",
       " [35] \"TSS.enrichment\"                     \n",
       " [36] \"TSS.percentile\"                     \n",
       " [37] \"scDblFinder.class\"                  \n",
       " [38] \"scDblFinder.score\"                  \n",
       " [39] \"scDblFinder.weighted\"               \n",
       " [40] \"scDblFinder.cxds_score\"             \n",
       " [41] \"scDblFinder.class_atac\"             \n",
       " [42] \"scDblFinder.score_atac\"             \n",
       " [43] \"scDblFinder.weighted_atac\"          \n",
       " [44] \"scDblFinder.cxds_score_atac\"        \n",
       " [45] \"No_assigned_GFPbc\"                  \n",
       " [46] \"Assigned_GFPbc\"                     \n",
       " [47] \"Assigned_GFPgenotype\"               \n",
       " [48] \"DBL_comb\"                           \n",
       " [49] \"amulet_nFrags\"                      \n",
       " [50] \"amulet_uniqFrags\"                   \n",
       " [51] \"amulet_nAbove2\"                     \n",
       " [52] \"amulet_total.nAbove2\"               \n",
       " [53] \"amulet_p.value\"                     \n",
       " [54] \"amulet_q.value\"                     \n",
       " [55] \"doublet_amulet\"                     \n",
       " [56] \"nCount_SCT\"                         \n",
       " [57] \"nFeature_SCT\"                       \n",
       " [58] \"SCT.weight\"                         \n",
       " [59] \"ATAC.weight\"                        \n",
       " [60] \"wsnn_res.0.2\"                       \n",
       " [61] \"seurat_clusters\"                    \n",
       " [62] \"doublet\"                            \n",
       " [63] \"wsnn_res.2\"                         \n",
       " [64] \"wsnn_res.0.5\"                       \n",
       " [65] \"wsnn_res.0.25\"                      \n",
       " [66] \"CellTypist_BMA_label\"               \n",
       " [67] \"CellTypist_BMA_conf_score\"          \n",
       " [68] \"CellTypist_IPSCs_label\"             \n",
       " [69] \"CellTypist_IPSCs_conf_score\"        \n",
       " [70] \"CellTypist_BMA_label_filtered\"      \n",
       " [71] \"CellTypist_IPSCs_label_filtered\"    \n",
       " [72] \"time_point\"                         \n",
       " [73] \"time\"                               \n",
       " [74] \"nucleosome_signal\"                  \n",
       " [75] \"nucleosome_percentile\"              \n",
       " [76] \"FRiP\"                               \n",
       " [77] \"atac_pct_reads_in_peaks\"            \n",
       " [78] \"my_anot\"                            \n",
       " [79] \"FOI\"                                \n",
       " [80] \"my_anot_updated\"                    \n",
       " [81] \"majority_voting_BMA\"                \n",
       " [82] \"majority_voting_iPSCs\"              \n",
       " [83] \"current_anot\"                       \n",
       " [84] \"Assignation_demux_NO_CB\"            \n",
       " [85] \"Assigned_GFPbc_demux_NO_CB\"         \n",
       " [86] \"Assignation_demux_CB\"               \n",
       " [87] \"Assigned_GFPbc_demux_CB\"            \n",
       " [88] \"Assigned_GFPbc_integral\"            \n",
       " [89] \"Assigned_GFPgenotype_integral\"      \n",
       " [90] \"Subclusters_3\"                      \n",
       " [91] \"Subclusters_4\"                      \n",
       " [92] \"Subclusters_7\"                      \n",
       " [93] \"Subclusters_2\"                      \n",
       " [94] \"new_clusters\"                       \n",
       " [95] \"refined_annotation\"                 \n",
       " [96] \"refined_annotation_majority_vote\"   \n",
       " [97] \"clone_line\"                         \n",
       " [98] \"Genotype\"                           \n",
       " [99] \"nCount_ATAC_by_refined_annotation\"  \n",
       "[100] \"nFeature_ATAC_by_refined_annotation\"\n",
       "[101] \"nCount_peak_subset\"                 \n",
       "[102] \"nFeature_peak_subset\"               \n",
       "[103] \"sample_id\"                          "
      ]
     },
     "metadata": {},
     "output_type": "display_data"
    }
   ],
   "source": [
    "colnames(metadata)"
   ]
  },
  {
   "cell_type": "markdown",
   "id": "ec6d24be-314b-4bad-acd0-96edab0402e7",
   "metadata": {},
   "source": [
    "### metadata_NEW df"
   ]
  },
  {
   "cell_type": "code",
   "execution_count": 172,
   "id": "56d73691-117e-437b-982e-750794ec2e8b",
   "metadata": {
    "execution": {
     "iopub.execute_input": "2025-02-26T16:28:16.579859Z",
     "iopub.status.busy": "2025-02-26T16:28:16.578749Z",
     "iopub.status.idle": "2025-02-26T16:28:16.655601Z",
     "shell.execute_reply": "2025-02-26T16:28:16.654278Z"
    }
   },
   "outputs": [
    {
     "name": "stdout",
     "output_type": "stream",
     "text": [
      "metadata_NEW_0\n",
      "'data.frame':\t16835 obs. of  4 variables:\n",
      " $ Genotype  : Ord.factor w/ 4 levels \"wt\"<\"rs62237617\"<..: 3 2 3 3 3 4 3 3 3 3 ...\n",
      " $ clone_line: Ord.factor w/ 12 levels \"wt_1\"<\"wt_2\"<..: 9 4 7 7 7 11 7 7 9 9 ...\n",
      " $ time_point: Ord.factor w/ 4 levels \"Day_0\"<\"Day_8\"<..: 1 1 1 1 1 1 1 1 1 1 ...\n",
      " $ sample_id : Factor w/ 48 levels \"wt_1_Day_0\",\"wt_2_Day_0\",..: 9 4 7 7 7 11 7 7 9 9 ...\n",
      "\n",
      "metadata_NEW_0.5\n",
      "'data.frame':\t48 obs. of  4 variables:\n",
      " $ Genotype  : Ord.factor w/ 4 levels \"wt\"<\"rs62237617\"<..: 3 2 3 4 4 1 2 4 3 2 ...\n",
      " $ clone_line: Ord.factor w/ 12 levels \"wt_1\"<\"wt_2\"<..: 9 4 7 11 12 3 6 10 8 5 ...\n",
      " $ time_point: Ord.factor w/ 4 levels \"Day_0\"<\"Day_8\"<..: 1 1 1 1 1 1 1 1 1 1 ...\n",
      " $ sample_id : Factor w/ 48 levels \"wt_1_Day_0\",\"wt_2_Day_0\",..: 9 4 7 11 12 3 6 10 8 5 ...\n",
      "\n",
      "metadata_NEW_1\n",
      "'data.frame':\t48 obs. of  4 variables:\n",
      " $ Genotype  : Ord.factor w/ 4 levels \"wt\"<\"rs62237617\"<..: 3 2 3 4 4 1 2 4 3 2 ...\n",
      " $ clone_line: Ord.factor w/ 12 levels \"wt_1\"<\"wt_2\"<..: 9 4 7 11 12 3 6 10 8 5 ...\n",
      " $ time_point: Ord.factor w/ 4 levels \"Day_0\"<\"Day_8\"<..: 1 1 1 1 1 1 1 1 1 1 ...\n",
      " $ sample_id : Factor w/ 48 levels \"wt_1_Day_0\",\"wt_2_Day_0\",..: 9 4 7 11 12 3 6 10 8 5 ...\n",
      "\n"
     ]
    },
    {
     "data": {
      "text/html": [
       "<style>\n",
       ".list-inline {list-style: none; margin:0; padding: 0}\n",
       ".list-inline>li {display: inline-block}\n",
       ".list-inline>li:not(:last-child)::after {content: \"\\00b7\"; padding: 0 .5ex}\n",
       "</style>\n",
       "<ol class=list-inline><li>'Genotype'</li><li>'clone_line'</li><li>'time_point'</li><li>'sample_id'</li></ol>\n"
      ],
      "text/latex": [
       "\\begin{enumerate*}\n",
       "\\item 'Genotype'\n",
       "\\item 'clone\\_line'\n",
       "\\item 'time\\_point'\n",
       "\\item 'sample\\_id'\n",
       "\\end{enumerate*}\n"
      ],
      "text/markdown": [
       "1. 'Genotype'\n",
       "2. 'clone_line'\n",
       "3. 'time_point'\n",
       "4. 'sample_id'\n",
       "\n",
       "\n"
      ],
      "text/plain": [
       "[1] \"Genotype\"   \"clone_line\" \"time_point\" \"sample_id\" "
      ]
     },
     "metadata": {},
     "output_type": "display_data"
    }
   ],
   "source": [
    "#### Create group level variables -----\n",
    "  \n",
    "  # Extract sample-level variables\n",
    "  metadata_NEW <- metadata %>% \n",
    "    as.data.frame() %>% \n",
    "    dplyr::select(Genotype, clone_line, time_point, sample_id)\n",
    "  \n",
    "cat(\"metadata_NEW_0\\n\")\n",
    "  cat(str(metadata_NEW))\n",
    "  cat(\"\\n\")\n",
    "  \n",
    "  # Exclude duplicated rows\n",
    "  metadata_NEW <- metadata_NEW[!duplicated(metadata_NEW), ]\n",
    "\n",
    "\n",
    "cat(\"metadata_NEW_0.5\\n\")\n",
    "  cat(str(metadata_NEW))\n",
    "  cat(\"\\n\")\n",
    "  \n",
    " \n",
    "  # Rename rows\n",
    "  rownames(metadata_NEW) <- metadata_NEW$sample_id\n",
    "  \n",
    "  cat(\"metadata_NEW_1\\n\")\n",
    "  cat(str(metadata_NEW))\n",
    "  cat(\"\\n\")\n",
    "\n",
    "\n",
    "names(metadata_NEW)"
   ]
  },
  {
   "cell_type": "markdown",
   "id": "001a2444-c03f-4468-85e4-e72d59eaec9c",
   "metadata": {},
   "source": [
    "### Count table"
   ]
  },
  {
   "cell_type": "code",
   "execution_count": 173,
   "id": "a338c6e8-ce75-4ae3-ba59-cafbf1b19dc7",
   "metadata": {
    "execution": {
     "iopub.execute_input": "2025-02-26T16:28:17.002989Z",
     "iopub.status.busy": "2025-02-26T16:28:17.001790Z",
     "iopub.status.idle": "2025-02-26T16:28:17.025689Z",
     "shell.execute_reply": "2025-02-26T16:28:17.024366Z"
    }
   },
   "outputs": [
    {
     "name": "stdout",
     "output_type": "stream",
     "text": [
      "t_0\n",
      " 'table' int [1:48, 1:7] 60 132 80 130 119 242 893 98 2277 506 ...\n",
      " - attr(*, \"dimnames\")=List of 2\n",
      "  ..$ : chr [1:48] \"wt_1_Day_0\" \"wt_2_Day_0\" \"wt_3_Day_0\" \"rs62237617_1_Day_0\" ...\n",
      "  ..$ : chr [1:7] \"hESC\" \"HemogenicEndothelium\" \"MEP\" \"early erythroid\" ...\n",
      "\n"
     ]
    },
    {
     "data": {
      "text/plain": [
       "                            \n",
       "                             hESC HemogenicEndothelium  MEP early erythroid\n",
       "  wt_1_Day_0                   60                    0    0               0\n",
       "  wt_2_Day_0                  132                    0    0               0\n",
       "  wt_3_Day_0                   80                    0    0               0\n",
       "  rs62237617_1_Day_0          130                    0    0               0\n",
       "  rs62237617_2_Day_0          119                    0    0               0\n",
       "  rs62237617_3_Day_0          242                    0    0               0\n",
       "  DNMT3A_1_Day_0              893                    0    0               0\n",
       "  DNMT3A_2_Day_0               98                    0    0               0\n",
       "  DNMT3A_3_Day_0             2277                    0    0               0\n",
       "  rs62237617_DNMT3A_1_Day_0   506                    0    0               0\n",
       "  rs62237617_DNMT3A_2_Day_0   600                    0    0               0\n",
       "  rs62237617_DNMT3A_3_Day_0   715                    0    0               0\n",
       "  wt_1_Day_8                    0                    6    0               0\n",
       "  wt_2_Day_8                    0                   27    2               0\n",
       "  wt_3_Day_8                    0                   16    1               0\n",
       "  rs62237617_1_Day_8            0                    7    0               0\n",
       "  rs62237617_2_Day_8            0                    8    2               0\n",
       "  rs62237617_3_Day_8            0                   28    2               0\n",
       "  DNMT3A_1_Day_8                1                   59    4               0\n",
       "  DNMT3A_2_Day_8                0                    9    0               0\n",
       "  DNMT3A_3_Day_8                0                   20    0               0\n",
       "  rs62237617_DNMT3A_1_Day_8     0                   17    1               0\n",
       "  rs62237617_DNMT3A_2_Day_8     0                    8    2               0\n",
       "  rs62237617_DNMT3A_3_Day_8     0                   20    2               0\n",
       "  wt_1_Day_12                   0                    0   35              10\n",
       "  wt_2_Day_12                   0                    0   14               9\n",
       "  wt_3_Day_12                   0                    0   63              19\n",
       "  rs62237617_1_Day_12           0                    0  165              57\n",
       "  rs62237617_2_Day_12           0                    2  139              76\n",
       "  rs62237617_3_Day_12           0                    7 1557             520\n",
       "  DNMT3A_1_Day_12               0                    0   43              12\n",
       "  DNMT3A_2_Day_12               0                    0    6               2\n",
       "  DNMT3A_3_Day_12               0                    0   18               8\n",
       "  rs62237617_DNMT3A_1_Day_12    0                    0  298             144\n",
       "  rs62237617_DNMT3A_2_Day_12    0                    0   34              11\n",
       "  rs62237617_DNMT3A_3_Day_12    0                    0   30              20\n",
       "  wt_1_Day_15                   0                    0    0               1\n",
       "  wt_2_Day_15                   0                    0    5               0\n",
       "  wt_3_Day_15                   0                    0    3               0\n",
       "  rs62237617_1_Day_15           0                    0   18               3\n",
       "  rs62237617_2_Day_15           0                    1   15               1\n",
       "  rs62237617_3_Day_15           0                    1  219              21\n",
       "  DNMT3A_1_Day_15               0                    0    4               0\n",
       "  DNMT3A_2_Day_15               0                    0    0               0\n",
       "  DNMT3A_3_Day_15               0                    0    0               0\n",
       "  rs62237617_DNMT3A_1_Day_15    0                    0    9               0\n",
       "  rs62237617_DNMT3A_2_Day_15    0                    0    1               0\n",
       "  rs62237617_DNMT3A_3_Day_15    0                    0    1               0\n",
       "                            \n",
       "                             early MK   MK PolyPlo MK\n",
       "  wt_1_Day_0                        0    0          0\n",
       "  wt_2_Day_0                        0    0          0\n",
       "  wt_3_Day_0                        0    0          0\n",
       "  rs62237617_1_Day_0                0    0          0\n",
       "  rs62237617_2_Day_0                0    0          0\n",
       "  rs62237617_3_Day_0                0    0          0\n",
       "  DNMT3A_1_Day_0                    0    0          0\n",
       "  DNMT3A_2_Day_0                    0    0          0\n",
       "  DNMT3A_3_Day_0                    0    0          0\n",
       "  rs62237617_DNMT3A_1_Day_0         0    0          0\n",
       "  rs62237617_DNMT3A_2_Day_0         0    0          0\n",
       "  rs62237617_DNMT3A_3_Day_0         0    0          0\n",
       "  wt_1_Day_8                        0    0          0\n",
       "  wt_2_Day_8                        0    0          0\n",
       "  wt_3_Day_8                        0    1          0\n",
       "  rs62237617_1_Day_8                0    2          0\n",
       "  rs62237617_2_Day_8                0    1          0\n",
       "  rs62237617_3_Day_8                0    0          0\n",
       "  DNMT3A_1_Day_8                    0    4          0\n",
       "  DNMT3A_2_Day_8                    0    0          0\n",
       "  DNMT3A_3_Day_8                    1    3          0\n",
       "  rs62237617_DNMT3A_1_Day_8         0    1          0\n",
       "  rs62237617_DNMT3A_2_Day_8         0    1          0\n",
       "  rs62237617_DNMT3A_3_Day_8         0    3          0\n",
       "  wt_1_Day_12                       0   12          1\n",
       "  wt_2_Day_12                       0   10          0\n",
       "  wt_3_Day_12                       2   29          0\n",
       "  rs62237617_1_Day_12              11  113          2\n",
       "  rs62237617_2_Day_12               9   91          2\n",
       "  rs62237617_3_Day_12              70  959         21\n",
       "  DNMT3A_1_Day_12                   0   22          0\n",
       "  DNMT3A_2_Day_12                   0    5          0\n",
       "  DNMT3A_3_Day_12                   0    9          0\n",
       "  rs62237617_DNMT3A_1_Day_12        8  167          1\n",
       "  rs62237617_DNMT3A_2_Day_12        0   19          1\n",
       "  rs62237617_DNMT3A_3_Day_12        1   41          0\n",
       "  wt_1_Day_15                       0    0          5\n",
       "  wt_2_Day_15                       0    4         23\n",
       "  wt_3_Day_15                       0   26         65\n",
       "  rs62237617_1_Day_15               1   93        270\n",
       "  rs62237617_2_Day_15               0   85        225\n",
       "  rs62237617_3_Day_15               5 1074       3270\n",
       "  DNMT3A_1_Day_15                   0   15         44\n",
       "  DNMT3A_2_Day_15                   0    0          3\n",
       "  DNMT3A_3_Day_15                   0    6         13\n",
       "  rs62237617_DNMT3A_1_Day_15        0   54        175\n",
       "  rs62237617_DNMT3A_2_Day_15        0    5         24\n",
       "  rs62237617_DNMT3A_3_Day_15        0    8         23"
      ]
     },
     "metadata": {},
     "output_type": "display_data"
    }
   ],
   "source": [
    "t <- table(metadata$sample_id,\n",
    "             metadata$refined_annotation_majority_vote)\n",
    "  \n",
    "  cat(\"t_0\\n\")\n",
    "  cat(str(t))\n",
    "  cat(\"\\n\")\n",
    "\n",
    "t"
   ]
  },
  {
   "cell_type": "markdown",
   "id": "872ba020-055a-48d4-97cb-6d8652e5e9ec",
   "metadata": {},
   "source": [
    "### List population"
   ]
  },
  {
   "cell_type": "code",
   "execution_count": 174,
   "id": "1b3f12dd-5328-43dd-9302-2e053adb69f6",
   "metadata": {
    "execution": {
     "iopub.execute_input": "2025-02-26T16:28:21.064022Z",
     "iopub.status.busy": "2025-02-26T16:28:21.062748Z",
     "iopub.status.idle": "2025-02-26T16:28:21.158030Z",
     "shell.execute_reply": "2025-02-26T16:28:21.156734Z"
    }
   },
   "outputs": [],
   "source": [
    "##### Creating metadata list ----------------\n",
    "  \n",
    "  ## Initiate empty list\n",
    "  metadata_ls <- list()\n",
    "  \n",
    "  DEBUG<-0\n",
    "  \n",
    "  for (i in 1:length(counts_ls)) {\n",
    "    \n",
    "    ## Initiate a data frame for cluster i with one row per sample (matching column names in the counts matrix)\n",
    "    df <- data.frame(refined_annotation_majority_vote_sample_id = colnames(counts_ls[[i]]))\n",
    "\n",
    "      if(DEBUG == 1){\n",
    "\n",
    "         cat(\"df_0\\n\")\n",
    "         cat(str(df))\n",
    "         cat(\"\\n\")\n",
    "      }\n",
    "    \n",
    "    ## Use tstrsplit() to separate cluster (cell type) and sample IDs\n",
    "    df$refined_annotation_majority_vote_id <- tstrsplit(df$refined_annotation_majority_vote_sample_id, \"_cluster\")[[2]]\n",
    "    df$sample_id  <- tstrsplit(df$refined_annotation_majority_vote_sample_id, \"_cluster\")[[1]]\n",
    "    \n",
    "    \n",
    "     if(DEBUG == 1){\n",
    "\n",
    "         cat(\"df_1\\n\")\n",
    "         cat(str(df))\n",
    "         cat(\"\\n\")\n",
    "      }\n",
    "    \n",
    "    \n",
    "    ## Retrieve cell count information for this cluster from global cell count table\n",
    "    idx <- which(colnames(t) == unique(df$refined_annotation_majority_vote_id))\n",
    "\n",
    "       if(DEBUG == 1){\n",
    "\n",
    "                 cat(\"idx_0\\n\")\n",
    "                 cat(str(idx))\n",
    "                 cat(\"\\n\")          \n",
    "           }\n",
    "      \n",
    "    cell_counts <- t[, idx]\n",
    "\n",
    "       if(DEBUG == 1){\n",
    "\n",
    "                 cat(\"cell_counts_0\\n\")\n",
    "                 cat(str(cell_counts))\n",
    "                 cat(\"\\n\")          \n",
    "           }\n",
    " \n",
    "    \n",
    "    \n",
    "    \n",
    "    \n",
    "    \n",
    "    ## Remove samples with zero cell contributing to the cluster\n",
    "    \n",
    "    cell_counts <- cell_counts[cell_counts > 0]\n",
    "    \n",
    "    if(DEBUG == 1){\n",
    "\n",
    "                 cat(\"cell_counts_1\\n\")\n",
    "                 cat(str(cell_counts))\n",
    "                 cat(\"\\n\")          \n",
    "           }\n",
    "\n",
    "    names_of_vector<-names(cell_counts)\n",
    "\n",
    "        if(DEBUG == 1){\n",
    "\n",
    "                 cat(\"names_of_vector_0\\n\")\n",
    "                 cat(str(names_of_vector))\n",
    "                 cat(\"\\n\")          \n",
    "           }\n",
    "    \n",
    "    \n",
    "    ## Match order of cell_counts and sample_ids\n",
    "    sample_order <- which(df$sample_id%in%names_of_vector)\n",
    "\n",
    "       if(DEBUG == 1){\n",
    "\n",
    "                 cat(\"sample_order_0\\n\")\n",
    "                 cat(str(sample_order))\n",
    "                 cat(\"\\n\")          \n",
    "           }\n",
    "    cell_counts <- cell_counts[sample_order]\n",
    "\n",
    "      if(DEBUG == 1){\n",
    "\n",
    "                 cat(\"cell_counts_2\\n\")\n",
    "                 cat(str(cell_counts))\n",
    "                 cat(\"\\n\")          \n",
    "           }\n",
    "\n",
    "      cell_counts_df<-as.data.frame(cbind(cell_counts,names(cell_counts)))\n",
    "\n",
    "      colnames(cell_counts_df)<-c(\"cell_count\",\"sample_id\")\n",
    "\n",
    "      cell_counts_df$cell_count<-as.integer(cell_counts_df$cell_count)\n",
    "\n",
    "        if(DEBUG == 1){\n",
    "\n",
    "                 cat(\"cell_counts_df_0\\n\")\n",
    "                 cat(str(cell_counts_df))\n",
    "                 cat(\"\\n\")          \n",
    "           }\n",
    "    \n",
    "    \n",
    "    \n",
    "    ## Merge cell_counts to data frame\n",
    "\n",
    "      df<-merge(df,\n",
    "                cell_counts_df,\n",
    "               by=\"sample_id\")\n",
    "\n",
    "       if(DEBUG == 1){\n",
    "\n",
    "         cat(\"df_2\\n\")\n",
    "         cat(str(df))\n",
    "         cat(\"\\n\")\n",
    "      }\n",
    "    \n",
    "    \n",
    "    ## Join data frame (capturing metadata specific to cluster) to generic metadata\n",
    "    df <- plyr::join(df, metadata_NEW, \n",
    "                     by = intersect(names(df), names(metadata_NEW)))\n",
    "\n",
    "        if(DEBUG == 1){\n",
    "\n",
    "         cat(\"df_3\\n\")\n",
    "         cat(str(df))\n",
    "         cat(\"\\n\")\n",
    "      }\n",
    "    \n",
    "    ## Update rownames of metadata to match colnames of count matrix, as needed later for DE\n",
    "    rownames(df) <- df$current_anot_sample_id\n",
    "\n",
    "         if(DEBUG == 1){\n",
    "\n",
    "         cat(\"df_4\\n\")\n",
    "         cat(str(df))\n",
    "         cat(\"\\n\")\n",
    "      }\n",
    "    \n",
    "    ## Store complete metadata for cluster i in list\n",
    "    metadata_ls[[i]] <- df\n",
    "    names(metadata_ls)[i] <- unique(df$cluster_id)\n",
    "\n",
    "     #break\n",
    "    \n",
    "  }"
   ]
  },
  {
   "cell_type": "code",
   "execution_count": 175,
   "id": "2b4b35f6-e5bd-4312-b44b-05f4e0d0dc07",
   "metadata": {
    "execution": {
     "iopub.execute_input": "2025-02-26T16:28:21.160964Z",
     "iopub.status.busy": "2025-02-26T16:28:21.159948Z",
     "iopub.status.idle": "2025-02-26T16:28:21.210762Z",
     "shell.execute_reply": "2025-02-26T16:28:21.209538Z"
    }
   },
   "outputs": [
    {
     "name": "stdout",
     "output_type": "stream",
     "text": [
      "metadata_ls_0\n",
      "List of 7\n",
      " $ hESC                :'data.frame':\t13 obs. of  7 variables:\n",
      "  ..$ sample_id                                 : chr [1:13] \"DNMT3A_1_Day_0\" \"DNMT3A_1_Day_8\" \"DNMT3A_2_Day_0\" \"DNMT3A_3_Day_0\" ...\n",
      "  ..$ refined_annotation_majority_vote_sample_id: chr [1:13] \"DNMT3A_1_Day_0_clusterhESC\" \"DNMT3A_1_Day_8_clusterhESC\" \"DNMT3A_2_Day_0_clusterhESC\" \"DNMT3A_3_Day_0_clusterhESC\" ...\n",
      "  ..$ refined_annotation_majority_vote_id       : chr [1:13] \"hESC\" \"hESC\" \"hESC\" \"hESC\" ...\n",
      "  ..$ cell_count                                : int [1:13] 893 1 98 2277 130 119 242 506 600 715 ...\n",
      "  ..$ Genotype                                  : Ord.factor w/ 4 levels \"wt\"<\"rs62237617\"<..: 3 3 3 3 2 2 2 4 4 4 ...\n",
      "  ..$ clone_line                                : Ord.factor w/ 12 levels \"wt_1\"<\"wt_2\"<..: 7 7 8 9 4 5 6 10 11 12 ...\n",
      "  ..$ time_point                                : Ord.factor w/ 4 levels \"Day_0\"<\"Day_8\"<..: 1 2 1 1 1 1 1 1 1 1 ...\n",
      " $ HemogenicEndothelium:'data.frame':\t16 obs. of  7 variables:\n",
      "  ..$ sample_id                                 : chr [1:16] \"DNMT3A_1_Day_8\" \"DNMT3A_2_Day_8\" \"DNMT3A_3_Day_8\" \"rs62237617_1_Day_8\" ...\n",
      "  ..$ refined_annotation_majority_vote_sample_id: chr [1:16] \"DNMT3A_1_Day_8_clusterHemogenicEndothelium\" \"DNMT3A_2_Day_8_clusterHemogenicEndothelium\" \"DNMT3A_3_Day_8_clusterHemogenicEndothelium\" \"rs62237617_1_Day_8_clusterHemogenicEndothelium\" ...\n",
      "  ..$ refined_annotation_majority_vote_id       : chr [1:16] \"HemogenicEndothelium\" \"HemogenicEndothelium\" \"HemogenicEndothelium\" \"HemogenicEndothelium\" ...\n",
      "  ..$ cell_count                                : int [1:16] 59 9 20 7 2 1 8 7 1 28 ...\n",
      "  ..$ Genotype                                  : Ord.factor w/ 4 levels \"wt\"<\"rs62237617\"<..: 3 3 3 2 2 2 2 2 2 2 ...\n",
      "  ..$ clone_line                                : Ord.factor w/ 12 levels \"wt_1\"<\"wt_2\"<..: 7 8 9 4 5 5 5 6 6 6 ...\n",
      "  ..$ time_point                                : Ord.factor w/ 4 levels \"Day_0\"<\"Day_8\"<..: 2 2 2 2 3 4 2 3 4 2 ...\n",
      " $ MEP                 :'data.frame':\t29 obs. of  7 variables:\n",
      "  ..$ sample_id                                 : chr [1:29] \"DNMT3A_1_Day_12\" \"DNMT3A_1_Day_15\" \"DNMT3A_1_Day_8\" \"DNMT3A_2_Day_12\" ...\n",
      "  ..$ refined_annotation_majority_vote_sample_id: chr [1:29] \"DNMT3A_1_Day_12_clusterMEP\" \"DNMT3A_1_Day_15_clusterMEP\" \"DNMT3A_1_Day_8_clusterMEP\" \"DNMT3A_2_Day_12_clusterMEP\" ...\n",
      "  ..$ refined_annotation_majority_vote_id       : chr [1:29] \"MEP\" \"MEP\" \"MEP\" \"MEP\" ...\n",
      "  ..$ cell_count                                : int [1:29] 43 4 4 6 18 165 18 139 15 2 ...\n",
      "  ..$ Genotype                                  : Ord.factor w/ 4 levels \"wt\"<\"rs62237617\"<..: 3 3 3 3 3 2 2 2 2 2 ...\n",
      "  ..$ clone_line                                : Ord.factor w/ 12 levels \"wt_1\"<\"wt_2\"<..: 7 7 7 8 9 4 4 5 5 5 ...\n",
      "  ..$ time_point                                : Ord.factor w/ 4 levels \"Day_0\"<\"Day_8\"<..: 3 4 2 3 3 3 4 3 4 2 ...\n",
      " $ early erythroid     :'data.frame':\t16 obs. of  7 variables:\n",
      "  ..$ sample_id                                 : chr [1:16] \"DNMT3A_1_Day_12\" \"DNMT3A_2_Day_12\" \"DNMT3A_3_Day_12\" \"rs62237617_1_Day_12\" ...\n",
      "  ..$ refined_annotation_majority_vote_sample_id: chr [1:16] \"DNMT3A_1_Day_12_clusterearly erythroid\" \"DNMT3A_2_Day_12_clusterearly erythroid\" \"DNMT3A_3_Day_12_clusterearly erythroid\" \"rs62237617_1_Day_12_clusterearly erythroid\" ...\n",
      "  ..$ refined_annotation_majority_vote_id       : chr [1:16] \"early erythroid\" \"early erythroid\" \"early erythroid\" \"early erythroid\" ...\n",
      "  ..$ cell_count                                : int [1:16] 12 2 8 57 3 76 1 520 21 144 ...\n",
      "  ..$ Genotype                                  : Ord.factor w/ 4 levels \"wt\"<\"rs62237617\"<..: 3 3 3 2 2 2 2 2 2 4 ...\n",
      "  ..$ clone_line                                : Ord.factor w/ 12 levels \"wt_1\"<\"wt_2\"<..: 7 8 9 4 4 5 5 6 6 10 ...\n",
      "  ..$ time_point                                : Ord.factor w/ 4 levels \"Day_0\"<\"Day_8\"<..: 3 3 3 3 4 3 4 3 4 3 ...\n",
      " $ early MK            :'data.frame':\t9 obs. of  7 variables:\n",
      "  ..$ sample_id                                 : chr [1:9] \"DNMT3A_3_Day_8\" \"rs62237617_1_Day_12\" \"rs62237617_1_Day_15\" \"rs62237617_2_Day_12\" ...\n",
      "  ..$ refined_annotation_majority_vote_sample_id: chr [1:9] \"DNMT3A_3_Day_8_clusterearly MK\" \"rs62237617_1_Day_12_clusterearly MK\" \"rs62237617_1_Day_15_clusterearly MK\" \"rs62237617_2_Day_12_clusterearly MK\" ...\n",
      "  ..$ refined_annotation_majority_vote_id       : chr [1:9] \"early MK\" \"early MK\" \"early MK\" \"early MK\" ...\n",
      "  ..$ cell_count                                : int [1:9] 1 11 1 9 70 5 8 1 2\n",
      "  ..$ Genotype                                  : Ord.factor w/ 4 levels \"wt\"<\"rs62237617\"<..: 3 2 2 2 2 2 4 4 1\n",
      "  ..$ clone_line                                : Ord.factor w/ 12 levels \"wt_1\"<\"wt_2\"<..: 9 4 4 5 6 6 10 12 3\n",
      "  ..$ time_point                                : Ord.factor w/ 4 levels \"Day_0\"<\"Day_8\"<..: 2 3 4 3 3 4 3 3 3\n",
      " $ MK                  :'data.frame':\t30 obs. of  7 variables:\n",
      "  ..$ sample_id                                 : chr [1:30] \"DNMT3A_1_Day_12\" \"DNMT3A_1_Day_15\" \"DNMT3A_1_Day_8\" \"DNMT3A_2_Day_12\" ...\n",
      "  ..$ refined_annotation_majority_vote_sample_id: chr [1:30] \"DNMT3A_1_Day_12_clusterMK\" \"DNMT3A_1_Day_15_clusterMK\" \"DNMT3A_1_Day_8_clusterMK\" \"DNMT3A_2_Day_12_clusterMK\" ...\n",
      "  ..$ refined_annotation_majority_vote_id       : chr [1:30] \"MK\" \"MK\" \"MK\" \"MK\" ...\n",
      "  ..$ cell_count                                : int [1:30] 22 15 4 5 9 6 3 113 93 2 ...\n",
      "  ..$ Genotype                                  : Ord.factor w/ 4 levels \"wt\"<\"rs62237617\"<..: 3 3 3 3 3 3 3 2 2 2 ...\n",
      "  ..$ clone_line                                : Ord.factor w/ 12 levels \"wt_1\"<\"wt_2\"<..: 7 7 7 8 9 9 9 4 4 4 ...\n",
      "  ..$ time_point                                : Ord.factor w/ 4 levels \"Day_0\"<\"Day_8\"<..: 3 4 2 3 3 4 2 3 4 2 ...\n",
      " $ PolyPlo MK          :'data.frame':\t18 obs. of  7 variables:\n",
      "  ..$ sample_id                                 : chr [1:18] \"DNMT3A_1_Day_15\" \"DNMT3A_2_Day_15\" \"DNMT3A_3_Day_15\" \"rs62237617_1_Day_12\" ...\n",
      "  ..$ refined_annotation_majority_vote_sample_id: chr [1:18] \"DNMT3A_1_Day_15_clusterPolyPlo MK\" \"DNMT3A_2_Day_15_clusterPolyPlo MK\" \"DNMT3A_3_Day_15_clusterPolyPlo MK\" \"rs62237617_1_Day_12_clusterPolyPlo MK\" ...\n",
      "  ..$ refined_annotation_majority_vote_id       : chr [1:18] \"PolyPlo MK\" \"PolyPlo MK\" \"PolyPlo MK\" \"PolyPlo MK\" ...\n",
      "  ..$ cell_count                                : int [1:18] 44 3 13 2 270 2 225 21 3270 1 ...\n",
      "  ..$ Genotype                                  : Ord.factor w/ 4 levels \"wt\"<\"rs62237617\"<..: 3 3 3 2 2 2 2 2 2 4 ...\n",
      "  ..$ clone_line                                : Ord.factor w/ 12 levels \"wt_1\"<\"wt_2\"<..: 7 8 9 4 4 5 5 6 6 10 ...\n",
      "  ..$ time_point                                : Ord.factor w/ 4 levels \"Day_0\"<\"Day_8\"<..: 4 4 4 3 4 3 4 3 4 3 ...\n",
      "\n"
     ]
    },
    {
     "data": {
      "text/html": [
       "<style>\n",
       ".list-inline {list-style: none; margin:0; padding: 0}\n",
       ".list-inline>li {display: inline-block}\n",
       ".list-inline>li:not(:last-child)::after {content: \"\\00b7\"; padding: 0 .5ex}\n",
       "</style>\n",
       "<ol class=list-inline><li>'hESC'</li><li>'HemogenicEndothelium'</li><li>'MEP'</li><li>'early erythroid'</li><li>'early MK'</li><li>'MK'</li><li>'PolyPlo MK'</li></ol>\n"
      ],
      "text/latex": [
       "\\begin{enumerate*}\n",
       "\\item 'hESC'\n",
       "\\item 'HemogenicEndothelium'\n",
       "\\item 'MEP'\n",
       "\\item 'early erythroid'\n",
       "\\item 'early MK'\n",
       "\\item 'MK'\n",
       "\\item 'PolyPlo MK'\n",
       "\\end{enumerate*}\n"
      ],
      "text/markdown": [
       "1. 'hESC'\n",
       "2. 'HemogenicEndothelium'\n",
       "3. 'MEP'\n",
       "4. 'early erythroid'\n",
       "5. 'early MK'\n",
       "6. 'MK'\n",
       "7. 'PolyPlo MK'\n",
       "\n",
       "\n"
      ],
      "text/plain": [
       "[1] \"hESC\"                 \"HemogenicEndothelium\" \"MEP\"                 \n",
       "[4] \"early erythroid\"      \"early MK\"             \"MK\"                  \n",
       "[7] \"PolyPlo MK\"          "
      ]
     },
     "metadata": {},
     "output_type": "display_data"
    },
    {
     "name": "stdout",
     "output_type": "stream",
     "text": [
      "\n"
     ]
    },
    {
     "data": {
      "text/html": [
       "<style>\n",
       ".list-inline {list-style: none; margin:0; padding: 0}\n",
       ".list-inline>li {display: inline-block}\n",
       ".list-inline>li:not(:last-child)::after {content: \"\\00b7\"; padding: 0 .5ex}\n",
       "</style>\n",
       "<ol class=list-inline><li>'hESC'</li><li>'HemogenicEndothelium'</li><li>'MEP'</li><li>'early erythroid'</li><li>'early MK'</li><li>'MK'</li><li>'PolyPlo MK'</li></ol>\n"
      ],
      "text/latex": [
       "\\begin{enumerate*}\n",
       "\\item 'hESC'\n",
       "\\item 'HemogenicEndothelium'\n",
       "\\item 'MEP'\n",
       "\\item 'early erythroid'\n",
       "\\item 'early MK'\n",
       "\\item 'MK'\n",
       "\\item 'PolyPlo MK'\n",
       "\\end{enumerate*}\n"
      ],
      "text/markdown": [
       "1. 'hESC'\n",
       "2. 'HemogenicEndothelium'\n",
       "3. 'MEP'\n",
       "4. 'early erythroid'\n",
       "5. 'early MK'\n",
       "6. 'MK'\n",
       "7. 'PolyPlo MK'\n",
       "\n",
       "\n"
      ],
      "text/plain": [
       "[1] \"hESC\"                 \"HemogenicEndothelium\" \"MEP\"                 \n",
       "[4] \"early erythroid\"      \"early MK\"             \"MK\"                  \n",
       "[7] \"PolyPlo MK\"          "
      ]
     },
     "metadata": {},
     "output_type": "display_data"
    },
    {
     "name": "stdout",
     "output_type": "stream",
     "text": [
      "\n"
     ]
    }
   ],
   "source": [
    " # Explore the different components of the list\n",
    "  \n",
    "  #cat(\"metadata_ls_0\\n\")\n",
    "  #cat(str(metadata_ls))\n",
    "  #cat(\"\\n\")\n",
    "\n",
    "names(metadata_ls)<-names(counts_ls)\n",
    "\n",
    "  cat(\"metadata_ls_0\\n\")\n",
    "  cat(str(metadata_ls))\n",
    "  cat(\"\\n\")\n",
    "\n",
    "names(metadata_ls)\n",
    "cat(\"\\n\")\n",
    "\n",
    "names(counts_ls)\n",
    "cat(\"\\n\")\n",
    "\n",
    "# List of df. Each index is a cell type. Each df per index has the combination of current anot (cell type) and sample_id (time_point and clone line), the cell count of each of this triple combination together with the accesory column of GFPbc, GFPgenotype and time_point"
   ]
  },
  {
   "cell_type": "markdown",
   "id": "e17fe78f-e4c4-4d5f-a67d-4807af0b0d1b",
   "metadata": {},
   "source": [
    "## Double-check that both lists have same names"
   ]
  },
  {
   "cell_type": "code",
   "execution_count": 176,
   "id": "f1f95ec9-20ad-4016-9489-afabe6b14881",
   "metadata": {
    "execution": {
     "iopub.execute_input": "2025-02-26T16:28:21.213584Z",
     "iopub.status.busy": "2025-02-26T16:28:21.212591Z",
     "iopub.status.idle": "2025-02-26T16:28:21.228395Z",
     "shell.execute_reply": "2025-02-26T16:28:21.227188Z"
    }
   },
   "outputs": [
    {
     "name": "stdout",
     "output_type": "stream",
     "text": [
      "check_1\n",
      "TRUE\n"
     ]
    }
   ],
   "source": [
    "# Double-check that both lists have same names\n",
    "  check_1<-all(names(counts_ls) == names(metadata_ls))\n",
    "  \n",
    "  cat(\"check_1\\n\")\n",
    "  cat(sprintf(as.character(check_1)))\n",
    "  cat(\"\\n\")"
   ]
  },
  {
   "cell_type": "markdown",
   "id": "de143e2c-555d-417f-b3bc-ca156dee2364",
   "metadata": {},
   "source": [
    "## Subset hESC Day 0"
   ]
  },
  {
   "cell_type": "markdown",
   "id": "1155dc7a-920d-4420-a26b-ec0146d7401f",
   "metadata": {},
   "source": [
    "### Define cell_type_sel and time_point_sel"
   ]
  },
  {
   "cell_type": "code",
   "execution_count": 177,
   "id": "7f134972-827e-41e1-b46e-a7b95c1e9d68",
   "metadata": {
    "execution": {
     "iopub.execute_input": "2025-02-26T16:28:21.231190Z",
     "iopub.status.busy": "2025-02-26T16:28:21.230208Z",
     "iopub.status.idle": "2025-02-26T16:28:21.240371Z",
     "shell.execute_reply": "2025-02-26T16:28:21.239183Z"
    }
   },
   "outputs": [],
   "source": [
    "cell_type_sel<-'hESC'\n",
    "\n",
    "time_point_sel<-'Day_0'\n"
   ]
  },
  {
   "cell_type": "markdown",
   "id": "6f7ff9fd-92ab-41c4-baaa-c3348956c06b",
   "metadata": {},
   "source": [
    "### Subset the metadata list"
   ]
  },
  {
   "cell_type": "code",
   "execution_count": 178,
   "id": "212d0092-fa58-4fed-8a15-88b6a15f6bea",
   "metadata": {
    "execution": {
     "iopub.execute_input": "2025-02-26T16:28:21.243159Z",
     "iopub.status.busy": "2025-02-26T16:28:21.242172Z",
     "iopub.status.idle": "2025-02-26T16:28:21.255651Z",
     "shell.execute_reply": "2025-02-26T16:28:21.254468Z"
    }
   },
   "outputs": [
    {
     "name": "stdout",
     "output_type": "stream",
     "text": [
      "'data.frame':\t13 obs. of  7 variables:\n",
      " $ sample_id                                 : chr  \"DNMT3A_1_Day_0\" \"DNMT3A_1_Day_8\" \"DNMT3A_2_Day_0\" \"DNMT3A_3_Day_0\" ...\n",
      " $ refined_annotation_majority_vote_sample_id: chr  \"DNMT3A_1_Day_0_clusterhESC\" \"DNMT3A_1_Day_8_clusterhESC\" \"DNMT3A_2_Day_0_clusterhESC\" \"DNMT3A_3_Day_0_clusterhESC\" ...\n",
      " $ refined_annotation_majority_vote_id       : chr  \"hESC\" \"hESC\" \"hESC\" \"hESC\" ...\n",
      " $ cell_count                                : int  893 1 98 2277 130 119 242 506 600 715 ...\n",
      " $ Genotype                                  : Ord.factor w/ 4 levels \"wt\"<\"rs62237617\"<..: 3 3 3 3 2 2 2 4 4 4 ...\n",
      " $ clone_line                                : Ord.factor w/ 12 levels \"wt_1\"<\"wt_2\"<..: 7 7 8 9 4 5 6 10 11 12 ...\n",
      " $ time_point                                : Ord.factor w/ 4 levels \"Day_0\"<\"Day_8\"<..: 1 2 1 1 1 1 1 1 1 1 ...\n"
     ]
    }
   ],
   "source": [
    "metadata_df<-metadata_ls[[cell_type_sel]]\n",
    "\n",
    "str(metadata_df)"
   ]
  },
  {
   "cell_type": "code",
   "execution_count": 179,
   "id": "568f9d3e-8169-4bb4-810d-1dea744a58ed",
   "metadata": {
    "execution": {
     "iopub.execute_input": "2025-02-26T16:28:21.258400Z",
     "iopub.status.busy": "2025-02-26T16:28:21.257429Z",
     "iopub.status.idle": "2025-02-26T16:28:21.271249Z",
     "shell.execute_reply": "2025-02-26T16:28:21.270060Z"
    }
   },
   "outputs": [
    {
     "name": "stdout",
     "output_type": "stream",
     "text": [
      "'data.frame':\t12 obs. of  7 variables:\n",
      " $ sample_id                                 : chr  \"DNMT3A_1_Day_0\" \"DNMT3A_2_Day_0\" \"DNMT3A_3_Day_0\" \"rs62237617_1_Day_0\" ...\n",
      " $ refined_annotation_majority_vote_sample_id: chr  \"DNMT3A_1_Day_0_clusterhESC\" \"DNMT3A_2_Day_0_clusterhESC\" \"DNMT3A_3_Day_0_clusterhESC\" \"rs62237617_1_Day_0_clusterhESC\" ...\n",
      " $ refined_annotation_majority_vote_id       : chr  \"hESC\" \"hESC\" \"hESC\" \"hESC\" ...\n",
      " $ cell_count                                : int  893 98 2277 130 119 242 506 600 715 60 ...\n",
      " $ Genotype                                  : Ord.factor w/ 4 levels \"wt\"<\"rs62237617\"<..: 3 3 3 2 2 2 4 4 4 1 ...\n",
      " $ clone_line                                : Ord.factor w/ 12 levels \"wt_1\"<\"wt_2\"<..: 7 8 9 4 5 6 10 11 12 1 ...\n",
      " $ time_point                                : Ord.factor w/ 1 level \"Day_0\": 1 1 1 1 1 1 1 1 1 1 ...\n"
     ]
    }
   ],
   "source": [
    "metadata_df_time_point<-droplevels(metadata_df[which(metadata_df$time_point == time_point_sel),])\n",
    "str(metadata_df_time_point)"
   ]
  },
  {
   "cell_type": "markdown",
   "id": "a75cf990-0ea1-4677-bbea-a725d8966bb2",
   "metadata": {},
   "source": [
    "### Subset the counts list"
   ]
  },
  {
   "cell_type": "code",
   "execution_count": 180,
   "id": "9b89648a-ab71-4d2a-9f0a-f5c3afcd6e0d",
   "metadata": {
    "execution": {
     "iopub.execute_input": "2025-02-26T16:28:21.584658Z",
     "iopub.status.busy": "2025-02-26T16:28:21.583524Z",
     "iopub.status.idle": "2025-02-26T16:28:21.602267Z",
     "shell.execute_reply": "2025-02-26T16:28:21.601019Z"
    }
   },
   "outputs": [
    {
     "name": "stdout",
     "output_type": "stream",
     "text": [
      "Formal class 'DGEList' [package \"edgeR\"] with 1 slot\n",
      "  ..@ .Data:List of 3\n",
      "  .. ..$ : num [1:3229, 1:13] 95 61 34 13 27 85 371 55 242 1 ...\n",
      "  .. .. ..- attr(*, \"dimnames\")=List of 2\n",
      "  .. .. .. ..$ : chr [1:3229] \"chr1-43952784-43953586\" \"chr1-44035644-44036873\" \"chr1-44047364-44048521\" \"chr1-44067727-44068969\" ...\n",
      "  .. .. .. ..$ : chr [1:13] \"DNMT3A_1_Day_0_clusterhESC\" \"DNMT3A_1_Day_8_clusterhESC\" \"DNMT3A_2_Day_0_clusterhESC\" \"DNMT3A_3_Day_0_clusterhESC\" ...\n",
      "  .. ..$ :'data.frame':\t13 obs. of  5 variables:\n",
      "  .. .. ..$ group       : Factor w/ 1 level \"1\": 1 1 1 1 1 1 1 1 1 1 ...\n",
      "  .. .. ..$ lib.size    : num [1:13] 292016 1028 29071 743653 33980 ...\n",
      "  .. .. ..$ norm.factors: num [1:13] 1 1 1 1 1 1 1 1 1 1 ...\n",
      "  .. .. ..$ sample      : chr [1:13] \"DNMT3A_1_Day_0\" \"DNMT3A_1_Day_8\" \"DNMT3A_2_Day_0\" \"DNMT3A_3_Day_0\" ...\n",
      "  .. .. ..$ cluster     : chr [1:13] \"hESC\" \"hESC\" \"hESC\" \"hESC\" ...\n",
      "  .. ..$ :'data.frame':\t3229 obs. of  1 variable:\n",
      "  .. .. ..$ gene: chr [1:3229] \"chr1-43952784-43953586\" \"chr1-44035644-44036873\" \"chr1-44047364-44048521\" \"chr1-44067727-44068969\" ...\n",
      "  ..$ names: chr [1:3] \"counts\" \"samples\" \"genes\"\n"
     ]
    }
   ],
   "source": [
    "counts_ls_subset<-counts_ls[[cell_type_sel]]\n",
    "\n",
    "str(counts_ls_subset)"
   ]
  },
  {
   "cell_type": "code",
   "execution_count": 181,
   "id": "c944aef3-5445-45e7-9d11-97167b520566",
   "metadata": {
    "execution": {
     "iopub.execute_input": "2025-02-26T16:28:22.230179Z",
     "iopub.status.busy": "2025-02-26T16:28:22.229117Z",
     "iopub.status.idle": "2025-02-26T16:28:22.247583Z",
     "shell.execute_reply": "2025-02-26T16:28:22.246372Z"
    }
   },
   "outputs": [
    {
     "name": "stdout",
     "output_type": "stream",
     "text": [
      "Formal class 'DGEList' [package \"edgeR\"] with 1 slot\n",
      "  ..@ .Data:List of 3\n",
      "  .. ..$ : num [1:3229, 1:12] 95 61 34 13 27 85 371 55 242 1 ...\n",
      "  .. .. ..- attr(*, \"dimnames\")=List of 2\n",
      "  .. .. .. ..$ : chr [1:3229] \"chr1-43952784-43953586\" \"chr1-44035644-44036873\" \"chr1-44047364-44048521\" \"chr1-44067727-44068969\" ...\n",
      "  .. .. .. ..$ : chr [1:12] \"DNMT3A_1_Day_0_clusterhESC\" \"DNMT3A_2_Day_0_clusterhESC\" \"DNMT3A_3_Day_0_clusterhESC\" \"rs62237617_1_Day_0_clusterhESC\" ...\n",
      "  .. ..$ :'data.frame':\t12 obs. of  5 variables:\n",
      "  .. .. ..$ group       : Factor w/ 1 level \"1\": 1 1 1 1 1 1 1 1 1 1 ...\n",
      "  .. .. ..$ lib.size    : num [1:12] 292016 29071 743653 33980 31425 ...\n",
      "  .. .. ..$ norm.factors: num [1:12] 1 1 1 1 1 1 1 1 1 1 ...\n",
      "  .. .. ..$ sample      : chr [1:12] \"DNMT3A_1_Day_0\" \"DNMT3A_2_Day_0\" \"DNMT3A_3_Day_0\" \"rs62237617_1_Day_0\" ...\n",
      "  .. .. ..$ cluster     : chr [1:12] \"hESC\" \"hESC\" \"hESC\" \"hESC\" ...\n",
      "  .. ..$ :'data.frame':\t3229 obs. of  1 variable:\n",
      "  .. .. ..$ gene: chr [1:3229] \"chr1-43952784-43953586\" \"chr1-44035644-44036873\" \"chr1-44047364-44048521\" \"chr1-44067727-44068969\" ...\n",
      "  ..$ names: chr [1:3] \"counts\" \"samples\" \"genes\"\n"
     ]
    }
   ],
   "source": [
    "counts_ls_subset_time_point<-counts_ls_subset[,which(colnames(counts_ls_subset)%in%metadata_df_time_point$refined_annotation_majority_vote_sample_id)]\n",
    "\n",
    "str(counts_ls_subset_time_point)"
   ]
  },
  {
   "cell_type": "markdown",
   "id": "d56e2832-c33e-497f-85a8-216440eea714",
   "metadata": {},
   "source": [
    "### Ref factor genotype"
   ]
  },
  {
   "cell_type": "code",
   "execution_count": 182,
   "id": "8bf18985-8933-4632-99a8-e181d25c3940",
   "metadata": {
    "execution": {
     "iopub.execute_input": "2025-02-26T16:28:23.148092Z",
     "iopub.status.busy": "2025-02-26T16:28:23.147073Z",
     "iopub.status.idle": "2025-02-26T16:28:23.165046Z",
     "shell.execute_reply": "2025-02-26T16:28:23.163779Z"
    }
   },
   "outputs": [
    {
     "name": "stdout",
     "output_type": "stream",
     "text": [
      "'data.frame':\t12 obs. of  7 variables:\n",
      " $ sample_id                                 : chr  \"DNMT3A_1_Day_0\" \"DNMT3A_2_Day_0\" \"DNMT3A_3_Day_0\" \"rs62237617_1_Day_0\" ...\n",
      " $ refined_annotation_majority_vote_sample_id: chr  \"DNMT3A_1_Day_0_clusterhESC\" \"DNMT3A_2_Day_0_clusterhESC\" \"DNMT3A_3_Day_0_clusterhESC\" \"rs62237617_1_Day_0_clusterhESC\" ...\n",
      " $ refined_annotation_majority_vote_id       : chr  \"hESC\" \"hESC\" \"hESC\" \"hESC\" ...\n",
      " $ cell_count                                : int  893 98 2277 130 119 242 506 600 715 60 ...\n",
      " $ Genotype                                  : Factor w/ 4 levels \"wt\",\"DNMT3A\",..: 2 2 2 3 3 3 4 4 4 1 ...\n",
      " $ clone_line                                : Ord.factor w/ 12 levels \"wt_1\"<\"wt_2\"<..: 7 8 9 4 5 6 10 11 12 1 ...\n",
      " $ time_point                                : Ord.factor w/ 1 level \"Day_0\": 1 1 1 1 1 1 1 1 1 1 ...\n"
     ]
    }
   ],
   "source": [
    "metadata_df_time_point$Genotype<-as.character(metadata_df_time_point$Genotype)\n",
    "metadata_df_time_point$Genotype<-factor(metadata_df_time_point$Genotype)\n",
    "metadata_df_time_point$Genotype<-relevel(metadata_df_time_point$Genotype, ref='wt') ### Nothing works with ordered factors\n",
    "\n",
    "str(metadata_df_time_point)\n"
   ]
  },
  {
   "cell_type": "markdown",
   "id": "889e2613-6bc9-4e1e-81f0-48b0ed50fe10",
   "metadata": {},
   "source": [
    "### check"
   ]
  },
  {
   "cell_type": "code",
   "execution_count": 183,
   "id": "a7068d14-93ad-4c25-b75c-9d35164c6b25",
   "metadata": {
    "execution": {
     "iopub.execute_input": "2025-02-26T16:28:25.074917Z",
     "iopub.status.busy": "2025-02-26T16:28:25.073662Z",
     "iopub.status.idle": "2025-02-26T16:28:25.084981Z",
     "shell.execute_reply": "2025-02-26T16:28:25.083800Z"
    }
   },
   "outputs": [
    {
     "name": "stdout",
     "output_type": "stream",
     "text": [
      " chr [1:12] \"DNMT3A_1_Day_0_clusterhESC\" \"DNMT3A_2_Day_0_clusterhESC\" ...\n"
     ]
    }
   ],
   "source": [
    "str(colnames(counts_ls_subset_time_point))"
   ]
  },
  {
   "cell_type": "code",
   "execution_count": 184,
   "id": "4c1eb383-469a-47c6-95ee-c39efceca6fc",
   "metadata": {
    "execution": {
     "iopub.execute_input": "2025-02-26T16:28:25.260252Z",
     "iopub.status.busy": "2025-02-26T16:28:25.259272Z",
     "iopub.status.idle": "2025-02-26T16:28:25.269031Z",
     "shell.execute_reply": "2025-02-26T16:28:25.267884Z"
    }
   },
   "outputs": [
    {
     "name": "stdout",
     "output_type": "stream",
     "text": [
      " chr [1:12] \"1\" \"3\" \"4\" \"5\" \"6\" \"7\" \"8\" \"9\" \"10\" \"11\" \"12\" \"13\"\n"
     ]
    }
   ],
   "source": [
    "str(row.names(metadata_df_time_point))"
   ]
  },
  {
   "cell_type": "code",
   "execution_count": 185,
   "id": "61ba5940-8249-44d7-b9b4-c33d4057ea69",
   "metadata": {
    "execution": {
     "iopub.execute_input": "2025-02-26T16:28:25.471109Z",
     "iopub.status.busy": "2025-02-26T16:28:25.470130Z",
     "iopub.status.idle": "2025-02-26T16:28:25.479158Z",
     "shell.execute_reply": "2025-02-26T16:28:25.478025Z"
    }
   },
   "outputs": [],
   "source": [
    "row.names(metadata_df_time_point)<-metadata_df_time_point$refined_annotation_majority_vote_sample_id"
   ]
  },
  {
   "cell_type": "code",
   "execution_count": 186,
   "id": "d3b294ad-4c3a-41dd-9295-5247b971b65e",
   "metadata": {
    "execution": {
     "iopub.execute_input": "2025-02-26T16:28:25.684769Z",
     "iopub.status.busy": "2025-02-26T16:28:25.683586Z",
     "iopub.status.idle": "2025-02-26T16:28:25.706163Z",
     "shell.execute_reply": "2025-02-26T16:28:25.705008Z"
    }
   },
   "outputs": [
    {
     "name": "stdout",
     "output_type": "stream",
     "text": [
      "check_2\n",
      "TRUE\n",
      "DNMT3A_1_Day_0_clusterhESC DNMT3A_2_Day_0_clusterhESC DNMT3A_3_Day_0_clusterhESC rs62237617_1_Day_0_clusterhESC rs62237617_2_Day_0_clusterhESC rs62237617_3_Day_0_clusterhESC rs62237617_DNMT3A_1_Day_0_clusterhESC rs62237617_DNMT3A_2_Day_0_clusterhESC rs62237617_DNMT3A_3_Day_0_clusterhESC wt_1_Day_0_clusterhESC wt_2_Day_0_clusterhESC wt_3_Day_0_clusterhESC\n"
     ]
    }
   ],
   "source": [
    "check_2<-all(colnames(counts_ls_subset_time_point) == rownames(metadata_df_time_point))\n",
    "\n",
    "    \n",
    "cat(\"check_2\\n\")\n",
    "cat(sprintf(as.character(check_2)))\n",
    "cat(\"\\n\")\n",
    "cat(sprintf(as.character(rownames(metadata_df_time_point))))\n",
    "cat(\"\\n\")\n",
    "    "
   ]
  },
  {
   "cell_type": "markdown",
   "id": "0ebac518-6f2e-4cc9-87a8-a1f6a2463e2d",
   "metadata": {},
   "source": [
    "### DESeq2 model"
   ]
  },
  {
   "cell_type": "markdown",
   "id": "a3535881-ab7b-4e1d-bd3e-88cfbeb52af1",
   "metadata": {},
   "source": [
    "#### DESeqDataSetFromMatrix"
   ]
  },
  {
   "cell_type": "code",
   "execution_count": 197,
   "id": "131a99ac-14c3-49f4-bc71-3b0535c24b7b",
   "metadata": {
    "execution": {
     "iopub.execute_input": "2025-02-26T16:30:31.372153Z",
     "iopub.status.busy": "2025-02-26T16:30:31.370984Z",
     "iopub.status.idle": "2025-02-26T16:30:31.550458Z",
     "shell.execute_reply": "2025-02-26T16:30:31.549233Z"
    }
   },
   "outputs": [
    {
     "name": "stderr",
     "output_type": "stream",
     "text": [
      "converting counts to integer mode\n",
      "\n"
     ]
    }
   ],
   "source": [
    "dds_NEW <- DESeqDataSetFromMatrix(counts_ls_subset_time_point, \n",
    "                                  colData = metadata_df_time_point, \n",
    "                                  design = ~ Genotype)"
   ]
  },
  {
   "cell_type": "markdown",
   "id": "e9bb17a3-53ea-4fcf-b88d-bf08a3ef2678",
   "metadata": {},
   "source": [
    "#### estimateSizeFactors ----------------------------------"
   ]
  },
  {
   "cell_type": "code",
   "execution_count": 198,
   "id": "4a7764da-b183-4cbb-960c-56b8a7a79213",
   "metadata": {
    "execution": {
     "iopub.execute_input": "2025-02-26T16:30:31.553249Z",
     "iopub.status.busy": "2025-02-26T16:30:31.552271Z",
     "iopub.status.idle": "2025-02-26T16:30:31.677929Z",
     "shell.execute_reply": "2025-02-26T16:30:31.676697Z"
    }
   },
   "outputs": [],
   "source": [
    "dds_NEW<-estimateSizeFactors(dds_NEW)"
   ]
  },
  {
   "cell_type": "markdown",
   "id": "9fa8e4e9-2ebf-407b-8131-7e62160dbeb7",
   "metadata": {},
   "source": [
    "#### Filter out low count peaks"
   ]
  },
  {
   "cell_type": "code",
   "execution_count": 199,
   "id": "7ffe4e30-df43-46f6-b547-1b2d09c179ef",
   "metadata": {
    "execution": {
     "iopub.execute_input": "2025-02-26T16:31:07.771127Z",
     "iopub.status.busy": "2025-02-26T16:31:07.769980Z",
     "iopub.status.idle": "2025-02-26T16:31:07.791773Z",
     "shell.execute_reply": "2025-02-26T16:31:07.790550Z"
    }
   },
   "outputs": [],
   "source": [
    "idx <- rowSums( counts(dds_NEW, normalized=TRUE) >= 5 ) >= 12\n"
   ]
  },
  {
   "cell_type": "code",
   "execution_count": 200,
   "id": "c9a9eba5-7a92-45b0-8c92-952a1fe42b95",
   "metadata": {
    "execution": {
     "iopub.execute_input": "2025-02-26T16:31:08.105664Z",
     "iopub.status.busy": "2025-02-26T16:31:08.104639Z",
     "iopub.status.idle": "2025-02-26T16:31:08.124477Z",
     "shell.execute_reply": "2025-02-26T16:31:08.123312Z"
    }
   },
   "outputs": [],
   "source": [
    "dds_NEW <- dds_NEW[idx,]\n"
   ]
  },
  {
   "cell_type": "markdown",
   "id": "aee9d60f-49d3-447d-bf26-d22d6602b2a4",
   "metadata": {},
   "source": [
    "##### LRT comparing to the reduced model"
   ]
  },
  {
   "cell_type": "code",
   "execution_count": 201,
   "id": "eb09b444-b9c3-4097-8365-a2789668305c",
   "metadata": {
    "execution": {
     "iopub.execute_input": "2025-02-26T16:31:08.841991Z",
     "iopub.status.busy": "2025-02-26T16:31:08.840888Z",
     "iopub.status.idle": "2025-02-26T16:31:10.406094Z",
     "shell.execute_reply": "2025-02-26T16:31:10.404789Z"
    }
   },
   "outputs": [
    {
     "name": "stderr",
     "output_type": "stream",
     "text": [
      "using pre-existing size factors\n",
      "\n",
      "estimating dispersions\n",
      "\n",
      "gene-wise dispersion estimates\n",
      "\n",
      "mean-dispersion relationship\n",
      "\n",
      "final dispersion estimates\n",
      "\n",
      "fitting model and testing\n",
      "\n"
     ]
    }
   ],
   "source": [
    "dds_NEW_lrt <- DESeq(dds_NEW, test = \"LRT\", reduced = ~ 1)"
   ]
  },
  {
   "cell_type": "markdown",
   "id": "91346168-029f-4769-86cd-15f560f4a746",
   "metadata": {},
   "source": [
    "#### Wald test to extract specific contrasts"
   ]
  },
  {
   "cell_type": "code",
   "execution_count": 202,
   "id": "6c056b84-de14-4825-8f87-ff988e5b12f8",
   "metadata": {
    "execution": {
     "iopub.execute_input": "2025-02-26T16:31:10.408933Z",
     "iopub.status.busy": "2025-02-26T16:31:10.407963Z",
     "iopub.status.idle": "2025-02-26T16:31:14.799553Z",
     "shell.execute_reply": "2025-02-26T16:31:14.798164Z"
    }
   },
   "outputs": [
    {
     "name": "stdout",
     "output_type": "stream",
     "text": [
      "------------------------------------->\tGenotype_DNMT3A_vs_wt\n"
     ]
    },
    {
     "name": "stderr",
     "output_type": "stream",
     "text": [
      "using 'apeglm' for LFC shrinkage. If used in published research, please cite:\n",
      "    Zhu, A., Ibrahim, J.G., Love, M.I. (2018) Heavy-tailed prior distributions for\n",
      "    sequence count data: removing the noise and preserving large differences.\n",
      "    Bioinformatics. https://doi.org/10.1093/bioinformatics/bty895\n",
      "\n"
     ]
    },
    {
     "name": "stdout",
     "output_type": "stream",
     "text": [
      "------------------------------------->\tGenotype_rs62237617_vs_wt\n"
     ]
    },
    {
     "name": "stderr",
     "output_type": "stream",
     "text": [
      "using 'apeglm' for LFC shrinkage. If used in published research, please cite:\n",
      "    Zhu, A., Ibrahim, J.G., Love, M.I. (2018) Heavy-tailed prior distributions for\n",
      "    sequence count data: removing the noise and preserving large differences.\n",
      "    Bioinformatics. https://doi.org/10.1093/bioinformatics/bty895\n",
      "\n"
     ]
    },
    {
     "name": "stdout",
     "output_type": "stream",
     "text": [
      "------------------------------------->\tGenotype_rs62237617_DNMT3A_vs_wt\n"
     ]
    },
    {
     "name": "stderr",
     "output_type": "stream",
     "text": [
      "using 'apeglm' for LFC shrinkage. If used in published research, please cite:\n",
      "    Zhu, A., Ibrahim, J.G., Love, M.I. (2018) Heavy-tailed prior distributions for\n",
      "    sequence count data: removing the noise and preserving large differences.\n",
      "    Bioinformatics. https://doi.org/10.1093/bioinformatics/bty895\n",
      "\n"
     ]
    }
   ],
   "source": [
    "Results_per_comparison_within_cell_type<-data.frame()\n",
    "\n",
    "possible_contrasts<-colnames(dds_NEW_lrt@modelMatrix)[-1] # -1 because 1 is the Intercept term\n",
    "\n",
    "for(iteration_contrasts in 1:length(possible_contrasts)){\n",
    "\n",
    "    contrast_sel<-possible_contrasts[iteration_contrasts]\n",
    "\n",
    "    cat(\"------------------------------------->\\t\")\n",
    "    cat(sprintf(as.character(contrast_sel)))\n",
    "    cat(\"\\n\")\n",
    "    \n",
    "\n",
    "    ############ obtain the result for this contrast with its specific pvalue coming from Wald test see ?results\n",
    "\n",
    "    tmp_results<-results(dds_NEW_lrt, test= \"Wald\", name=contrast_sel, independentFiltering=FALSE)\n",
    "\n",
    "    #### expand LogFC #########################################\n",
    "\n",
    "    tmp_results <- lfcShrink(dds_NEW_lrt, \n",
    "                                 coef = contrast_sel,\n",
    "                                 res=tmp_results,\n",
    "                                 type = \"apeglm\")\n",
    "\n",
    "\n",
    "      #### obtain data frame #########################################\n",
    "\n",
    "      tmp_tb <- as.data.frame(tmp_results %>%\n",
    "                  data.frame() %>%\n",
    "                  rownames_to_column(var = \"Peak_ID\") %>%\n",
    "                  as_tibble() %>%\n",
    "                  arrange(padj), stringsAsFactors=F)\n",
    "                \n",
    "\n",
    "    tmp_tb$contrast<-contrast_sel\n",
    "\n",
    "\n",
    "    Results_per_comparison_within_cell_type<-rbind(tmp_tb,Results_per_comparison_within_cell_type)\n",
    "\n",
    "\n",
    "\n",
    "    }#iteration_contrasts in 1:length(possible_contrasts)\n",
    "\n",
    "\n",
    "Results_per_comparison_within_cell_type$cell_type<-cell_type_sel\n"
   ]
  },
  {
   "cell_type": "markdown",
   "id": "f1051681-6a8e-4065-b669-933a9d7d3818",
   "metadata": {},
   "source": [
    "#### Extract normalized counts to plot heatmaps later ----------------------------------------"
   ]
  },
  {
   "cell_type": "code",
   "execution_count": 203,
   "id": "f9d8dafb-9ccc-4c06-9282-df5dfa36cffc",
   "metadata": {
    "execution": {
     "iopub.execute_input": "2025-02-26T16:31:16.803162Z",
     "iopub.status.busy": "2025-02-26T16:31:16.802007Z",
     "iopub.status.idle": "2025-02-26T16:31:16.879591Z",
     "shell.execute_reply": "2025-02-26T16:31:16.878359Z"
    }
   },
   "outputs": [
    {
     "name": "stdout",
     "output_type": "stream",
     "text": [
      "nor_counts_0\n",
      "'data.frame':\t1504 obs. of  13 variables:\n",
      " $ DNMT3A_1_Day_0_clusterhESC           : num  24.5 15.7 21.9 95.6 14.2 ...\n",
      " $ DNMT3A_2_Day_0_clusterhESC           : num  18.3 34 18.3 112.4 15.7 ...\n",
      " $ DNMT3A_3_Day_0_clusterhESC           : num  23 14.9 22.4 87.7 13 ...\n",
      " $ rs62237617_1_Day_0_clusterhESC       : num  34 20.4 22.6 101.9 15.8 ...\n",
      " $ rs62237617_2_Day_0_clusterhESC       : num  26.62 33.88 21.78 101.63 9.68 ...\n",
      " $ rs62237617_3_Day_0_clusterhESC       : num  31.2 24 15.6 61.3 10.8 ...\n",
      " $ rs62237617_DNMT3A_1_Day_0_clusterhESC: num  25.9 15.7 24.5 77.8 12.7 ...\n",
      " $ rs62237617_DNMT3A_2_Day_0_clusterhESC: num  22.63 17.47 25.01 86.56 7.15 ...\n",
      " $ rs62237617_DNMT3A_3_Day_0_clusterhESC: num  25.7 16.7 22.7 87.9 10.7 ...\n",
      " $ wt_1_Day_0_clusterhESC               : num  45.56 9.11 18.22 63.78 13.67 ...\n",
      " $ wt_2_Day_0_clusterhESC               : num  23.7 33.6 37.5 94.8 7.9 ...\n",
      " $ wt_3_Day_0_clusterhESC               : num  25.17 9.44 15.73 113.24 22.02 ...\n",
      " $ gene                                 : chr  \"chr1-43952784-43953586\" \"chr1-44035644-44036873\" \"chr1-44260850-44262283\" \"chr1-44404891-44408130\" ...\n",
      "\n"
     ]
    },
    {
     "name": "stderr",
     "output_type": "stream",
     "text": [
      "Warning message in melt(nor_counts, id.vars = \"gene\", variable.name = \"sample_id_seurat_cell_type_id\", :\n",
      "“The melt generic in data.table has been passed a data.frame and will attempt to redirect to the relevant reshape2 method; please note that reshape2 is deprecated, and this redirection is now deprecated as well. To continue using melt methods from reshape2 while both libraries are attached, e.g. melt.list, you can prepend the namespace like reshape2::melt(nor_counts). In the next version, this warning will become an error.”\n"
     ]
    },
    {
     "name": "stdout",
     "output_type": "stream",
     "text": [
      "nor_counts.m_0\n",
      "'data.frame':\t18048 obs. of  5 variables:\n",
      " $ Peak_ID   : chr  \"chr1-43952784-43953586\" \"chr1-44035644-44036873\" \"chr1-44260850-44262283\" \"chr1-44404891-44408130\" ...\n",
      " $ count     : num  24.5 15.7 21.9 95.6 14.2 ...\n",
      " $ cell_type : chr  \"hESC\" \"hESC\" \"hESC\" \"hESC\" ...\n",
      " $ clone_line: chr  \"DNMT3A_1\" \"DNMT3A_1\" \"DNMT3A_1\" \"DNMT3A_1\" ...\n",
      " $ time_point: chr  \"Day_0\" \"Day_0\" \"Day_0\" \"Day_0\" ...\n",
      "\n"
     ]
    }
   ],
   "source": [
    "nor_counts<-as.data.frame(counts(dds_NEW, normalized=TRUE))\n",
    "\n",
    "nor_counts$gene<-row.names(nor_counts)\n",
    "row.names(nor_counts)<-NULL\n",
    "\n",
    "cat(\"nor_counts_0\\n\")\n",
    "str(nor_counts)\n",
    "cat(\"\\n\")\n",
    "\n",
    "\n",
    "\n",
    "nor_counts.m<-melt(nor_counts, id.vars='gene', variable.name=\"sample_id_seurat_cell_type_id\", value.name=\"count\")\n",
    "nor_counts.m$cell_type<-gsub(\"^.+_cluster\",\"\",nor_counts.m$sample_id_seurat_cell_type_id)\n",
    "nor_counts.m$string<-gsub(\"_cluster.+$\",\"\",nor_counts.m$sample_id_seurat_cell_type_id)\n",
    "nor_counts.m$clone_line<-gsub(\"_Day.+$\",\"\",nor_counts.m$string)\n",
    "nor_counts.m$time_point<-gsub(\"^.+_Day\",\"Day\",nor_counts.m$string)\n",
    "nor_counts.m<-nor_counts.m[,-which(colnames(nor_counts.m)%in%c('sample_id_seurat_cell_type_id','string'))]\n",
    "\n",
    "colnames(nor_counts.m)[which(colnames(nor_counts.m) == 'gene')]<-'Peak_ID'\n",
    "    \n",
    "cat(\"nor_counts.m_0\\n\")\n",
    " str(nor_counts.m)\n",
    " cat(\"\\n\")\n",
    "      "
   ]
  },
  {
   "cell_type": "code",
   "execution_count": 204,
   "id": "90e7d843-07c4-4e05-bf25-b9605bcb3749",
   "metadata": {
    "execution": {
     "iopub.execute_input": "2025-02-26T16:31:21.956511Z",
     "iopub.status.busy": "2025-02-26T16:31:21.955386Z",
     "iopub.status.idle": "2025-02-26T16:31:21.969771Z",
     "shell.execute_reply": "2025-02-26T16:31:21.968541Z"
    }
   },
   "outputs": [
    {
     "name": "stdout",
     "output_type": "stream",
     "text": [
      "'data.frame':\t4512 obs. of  8 variables:\n",
      " $ Peak_ID       : chr  \"chr1-44500156-44502112\" \"chr11-105959908-105960833\" \"chr22-38981072-38982681\" \"chr1-44523654-44524666\" ...\n",
      " $ baseMean      : num  58.5 16.2 29.8 41.8 26 ...\n",
      " $ log2FoldChange: num  -6.02e-01 -7.65e-06 1.08 -1.25e-05 -9.63e-06 ...\n",
      " $ lfcSE         : num  0.23949 0.00144 0.4414 0.00144 0.00144 ...\n",
      " $ pvalue        : num  0.00029 0.000399 0.000703 0.001389 0.00189 ...\n",
      " $ padj          : num  0.3 0.3 0.352 0.474 0.474 ...\n",
      " $ contrast      : chr  \"Genotype_rs62237617_DNMT3A_vs_wt\" \"Genotype_rs62237617_DNMT3A_vs_wt\" \"Genotype_rs62237617_DNMT3A_vs_wt\" \"Genotype_rs62237617_DNMT3A_vs_wt\" ...\n",
      " $ cell_type     : chr  \"hESC\" \"hESC\" \"hESC\" \"hESC\" ...\n"
     ]
    }
   ],
   "source": [
    "str(Results_per_comparison_within_cell_type)"
   ]
  },
  {
   "cell_type": "code",
   "execution_count": 205,
   "id": "858ade14-71b5-4d19-b177-57e2a0835444",
   "metadata": {
    "execution": {
     "iopub.execute_input": "2025-02-26T16:31:31.716603Z",
     "iopub.status.busy": "2025-02-26T16:31:31.715415Z",
     "iopub.status.idle": "2025-02-26T16:31:31.756674Z",
     "shell.execute_reply": "2025-02-26T16:31:31.755413Z"
    }
   },
   "outputs": [
    {
     "name": "stdout",
     "output_type": "stream",
     "text": [
      "'data.frame':\t4839 obs. of  18 variables:\n",
      " $ Peak_ID           : chr  \"chr1-103107835-103109233\" \"chr1-103107835-103109233\" \"chr1-103107835-103109233\" \"chr1-103250273-103250969\" ...\n",
      " $ baseMean          : num  47.3 47.3 47.3 18.9 18.9 ...\n",
      " $ log2FoldChange    : num  5.06e-07 1.47e-06 9.32e-07 1.67e-06 2.34e-06 ...\n",
      " $ lfcSE             : num  0.00144 0.00144 0.00144 0.00144 0.00144 ...\n",
      " $ pvalue            : num  0.883 0.704 0.812 0.457 0.38 ...\n",
      " $ padj              : num  0.997 1 0.999 0.997 1 ...\n",
      " $ contrast          : chr  \"Genotype_rs62237617_vs_wt\" \"Genotype_DNMT3A_vs_wt\" \"Genotype_rs62237617_DNMT3A_vs_wt\" \"Genotype_rs62237617_vs_wt\" ...\n",
      " $ cell_type         : chr  \"hESC\" \"hESC\" \"hESC\" \"hESC\" ...\n",
      " $ seqnames          : Factor w/ 23 levels \"chr1\",\"chr2\",..: 1 1 1 1 1 1 1 1 1 1 ...\n",
      " $ start             : int  103108496 103108496 103108496 103108496 103108496 103108496 112396181 112396181 112396181 112396181 ...\n",
      " $ end               : int  103108534 103108534 103108534 103250621 103250621 103250621 112508737 112508737 112508737 112515748 ...\n",
      " $ width             : int  39 39 39 142126 142126 142126 112557 112557 112557 119568 ...\n",
      " $ strand            : Factor w/ 3 levels \"+\",\"-\",\"*\": 3 3 3 3 3 3 3 3 3 3 ...\n",
      " $ score             : num  0.144 0.144 0.144 0.146 0.146 ...\n",
      " $ gene              : chr  \"COL11A1\" \"COL11A1\" \"COL11A1\" \"COL11A1\" ...\n",
      " $ Link_zscore       : num  4.02 4.02 4.02 3.1 3.1 ...\n",
      " $ Link_pvalue       : num  2.86e-05 2.86e-05 2.86e-05 9.70e-04 9.70e-04 ...\n",
      " $ Link_Minus_logpval: num  4.54 4.54 4.54 3.01 3.01 3.01 1.65 1.65 1.65 1.31 ...\n",
      "\n"
     ]
    }
   ],
   "source": [
    "Results_per_comparison_within_cell_type<-merge(Results_per_comparison_within_cell_type,\n",
    "                                              Linked_peaks,\n",
    "                                              by=\"Peak_ID\")\n",
    "\n",
    "str(Results_per_comparison_within_cell_type)\n",
    "cat(\"\\n\")"
   ]
  },
  {
   "cell_type": "code",
   "execution_count": 206,
   "id": "8bca9458-c0e0-4bb9-81bb-3a8cf07f6d87",
   "metadata": {
    "execution": {
     "iopub.execute_input": "2025-02-26T16:31:36.477303Z",
     "iopub.status.busy": "2025-02-26T16:31:36.476120Z",
     "iopub.status.idle": "2025-02-26T16:31:36.500923Z",
     "shell.execute_reply": "2025-02-26T16:31:36.499630Z"
    }
   },
   "outputs": [
    {
     "name": "stdout",
     "output_type": "stream",
     "text": [
      "'data.frame':\t5 obs. of  18 variables:\n",
      " $ Peak_ID           : chr  \"chr1-44500156-44502112\" \"chr1-44500156-44502112\" \"chr11-105959908-105960833\" \"chr18-7577664-7578193\" ...\n",
      " $ baseMean          : num  58.5 58.5 16.2 21.2 29.8\n",
      " $ log2FoldChange    : num  -6.02e-01 -6.02e-01 -7.65e-06 -8.23e-06 1.08\n",
      " $ lfcSE             : num  0.23949 0.23949 0.00144 0.00144 0.4414\n",
      " $ pvalue            : num  0.00029 0.00029 0.000399 0.000228 0.000703\n",
      " $ padj              : num  0.3 0.3 0.3 0.342 0.352\n",
      " $ contrast          : chr  \"Genotype_rs62237617_DNMT3A_vs_wt\" \"Genotype_rs62237617_DNMT3A_vs_wt\" \"Genotype_rs62237617_DNMT3A_vs_wt\" \"Genotype_rs62237617_vs_wt\" ...\n",
      " $ cell_type         : chr  \"hESC\" \"hESC\" \"hESC\" \"hESC\" ...\n",
      " $ seqnames          : Factor w/ 23 levels \"chr1\",\"chr2\",..: 1 1 11 18 22\n",
      " $ start             : int  44405194 44501134 105609994 7566782 38981877\n",
      " $ end               : int  44501134 44775251 105960371 7577929 39320389\n",
      " $ width             : int  95941 274118 350378 11148 338513\n",
      " $ strand            : Factor w/ 3 levels \"+\",\"-\",\"*\": 3 3 3 3 3\n",
      " $ score             : num  0.1986 0.0813 0.1165 0.1587 -0.0537\n",
      " $ gene              : chr  \"RNF220\" \"RPS8\" \"GRIA4\" \"PTPRM\" ...\n",
      " $ Link_zscore       : num  3.35 2.23 2 3.14 -2\n",
      " $ Link_pvalue       : num  0.000404 0.012771 0.02272 0.000858 0.022714\n",
      " $ Link_Minus_logpval: num  3.39 1.89 1.64 3.07 1.64\n"
     ]
    },
    {
     "data": {
      "text/html": [
       "<style>\n",
       ".dl-inline {width: auto; margin:0; padding: 0}\n",
       ".dl-inline>dt, .dl-inline>dd {float: none; width: auto; display: inline-block}\n",
       ".dl-inline>dt::after {content: \":\\0020\"; padding-right: .5ex}\n",
       ".dl-inline>dt:not(:first-of-type) {padding-left: .5ex}\n",
       "</style><dl class=dl-inline><dt>Genotype_rs62237617_DNMT3A_vs_wt</dt><dd>4</dd><dt>Genotype_rs62237617_vs_wt</dt><dd>1</dd></dl>\n"
      ],
      "text/latex": [
       "\\begin{description*}\n",
       "\\item[Genotype\\textbackslash{}\\_rs62237617\\textbackslash{}\\_DNMT3A\\textbackslash{}\\_vs\\textbackslash{}\\_wt] 4\n",
       "\\item[Genotype\\textbackslash{}\\_rs62237617\\textbackslash{}\\_vs\\textbackslash{}\\_wt] 1\n",
       "\\end{description*}\n"
      ],
      "text/markdown": [
       "Genotype_rs62237617_DNMT3A_vs_wt\n",
       ":   4Genotype_rs62237617_vs_wt\n",
       ":   1\n",
       "\n"
      ],
      "text/plain": [
       "Genotype_rs62237617_DNMT3A_vs_wt        Genotype_rs62237617_vs_wt \n",
       "                               4                                1 "
      ]
     },
     "metadata": {},
     "output_type": "display_data"
    }
   ],
   "source": [
    "Results_per_comparison_within_cell_type_SIG<-Results_per_comparison_within_cell_type[which(Results_per_comparison_within_cell_type$padj < 0.4),]\n",
    "\n",
    "str(Results_per_comparison_within_cell_type_SIG)\n",
    "\n",
    "summary(as.factor(Results_per_comparison_within_cell_type_SIG$contrast))"
   ]
  },
  {
   "cell_type": "code",
   "execution_count": 207,
   "id": "83d3ec4e-30a1-4873-9965-2feb7bb84f51",
   "metadata": {
    "execution": {
     "iopub.execute_input": "2025-02-26T16:31:48.361102Z",
     "iopub.status.busy": "2025-02-26T16:31:48.359915Z",
     "iopub.status.idle": "2025-02-26T16:31:48.368812Z",
     "shell.execute_reply": "2025-02-26T16:31:48.367512Z"
    }
   },
   "outputs": [],
   "source": [
    "# check https://bioconductor.org/packages/release/bioc/vignettes/DESeq2/inst/doc/DESeq2.html#pvaluesNA"
   ]
  },
  {
   "cell_type": "markdown",
   "id": "21665d78-fc1c-4b7d-9192-c379f895b752",
   "metadata": {},
   "source": [
    "### SAVE DA results"
   ]
  },
  {
   "cell_type": "code",
   "execution_count": 208,
   "id": "9604d60b-6ed8-4093-9ea9-f0ac2a6f3bee",
   "metadata": {
    "execution": {
     "iopub.execute_input": "2025-02-26T16:31:48.915974Z",
     "iopub.status.busy": "2025-02-26T16:31:48.914808Z",
     "iopub.status.idle": "2025-02-26T16:31:48.924544Z",
     "shell.execute_reply": "2025-02-26T16:31:48.923240Z"
    }
   },
   "outputs": [],
   "source": [
    "setwd(\"/group/soranzo/manuel.tardaguila/2025_hESC_MK_multiome/Downstream_analysis_cluster_after_genotyping/\")"
   ]
  },
  {
   "cell_type": "code",
   "execution_count": 209,
   "id": "5b9e6240-7543-4886-8373-59e89a5011e6",
   "metadata": {
    "execution": {
     "iopub.execute_input": "2025-02-26T16:31:49.260949Z",
     "iopub.status.busy": "2025-02-26T16:31:49.259777Z",
     "iopub.status.idle": "2025-02-26T16:31:49.435848Z",
     "shell.execute_reply": "2025-02-26T16:31:49.434358Z"
    }
   },
   "outputs": [],
   "source": [
    "write.table(Results_per_comparison_within_cell_type, file=paste(\"DA_Linked_peaks_cell_type_\",cell_type_sel,\"_\",time_point_sel,\".tsv\", sep=''), sep=\"\\t\", quote=F, row.names=F)"
   ]
  },
  {
   "cell_type": "code",
   "execution_count": 210,
   "id": "3b58bfc4-70ab-4220-8dcc-c511b3f8568f",
   "metadata": {
    "execution": {
     "iopub.execute_input": "2025-02-26T16:31:50.059843Z",
     "iopub.status.busy": "2025-02-26T16:31:50.058659Z",
     "iopub.status.idle": "2025-02-26T16:31:50.226111Z",
     "shell.execute_reply": "2025-02-26T16:31:50.224624Z"
    }
   },
   "outputs": [],
   "source": [
    "write.table(nor_counts.m, file=paste(\"normalized_Linked_peaks_counts_cell_type_\",cell_type_sel,\"_\",time_point_sel,\".tsv\", sep=''), sep=\"\\t\", quote=F, row.names=F)"
   ]
  },
  {
   "cell_type": "markdown",
   "id": "fb572783-0af4-4e81-a9cf-a8d373495e1d",
   "metadata": {},
   "source": [
    "# Extract all ATAC_by_refined_annotation peaks counts"
   ]
  },
  {
   "cell_type": "code",
   "execution_count": 211,
   "id": "8c215725-9bad-4922-be12-3e74d7324839",
   "metadata": {
    "execution": {
     "iopub.execute_input": "2025-02-26T16:31:54.080094Z",
     "iopub.status.busy": "2025-02-26T16:31:54.078933Z",
     "iopub.status.idle": "2025-02-26T16:31:54.096782Z",
     "shell.execute_reply": "2025-02-26T16:31:54.095458Z"
    }
   },
   "outputs": [
    {
     "data": {
      "text/plain": [
       "An object of class Seurat \n",
       "752833 features across 16835 samples within 6 assays \n",
       "Active assay: peak_subset (3229 features, 0 variable features)\n",
       " 2 layers present: counts, data\n",
       " 5 other assays present: RNA, RNA_raw, SCT, ATAC, ATAC_by_refined_annotation\n",
       " 7 dimensional reductions calculated: pca, umap.rna, lsi, umap.atac, umap.wnn, harmony.rna, harmony.atac"
      ]
     },
     "metadata": {},
     "output_type": "display_data"
    }
   ],
   "source": [
    "adata"
   ]
  },
  {
   "cell_type": "code",
   "execution_count": 212,
   "id": "f5b3b793-e8d0-43f0-8d3d-47dc1ea8d7b7",
   "metadata": {
    "execution": {
     "iopub.execute_input": "2025-02-26T16:31:54.604499Z",
     "iopub.status.busy": "2025-02-26T16:31:54.603314Z",
     "iopub.status.idle": "2025-02-26T16:31:54.611931Z",
     "shell.execute_reply": "2025-02-26T16:31:54.610676Z"
    }
   },
   "outputs": [],
   "source": [
    "#str(adata)"
   ]
  },
  {
   "cell_type": "code",
   "execution_count": 213,
   "id": "eb857e7e-7025-43a4-a270-e627624b8d00",
   "metadata": {
    "execution": {
     "iopub.execute_input": "2025-02-26T16:31:54.863236Z",
     "iopub.status.busy": "2025-02-26T16:31:54.862092Z",
     "iopub.status.idle": "2025-02-26T16:31:54.896693Z",
     "shell.execute_reply": "2025-02-26T16:31:54.895386Z"
    }
   },
   "outputs": [
    {
     "name": "stdout",
     "output_type": "stream",
     "text": [
      "matrix_ATAC\n",
      "Formal class 'dgCMatrix' [package \"Matrix\"] with 6 slots\n",
      "  ..@ i       : int [1:127181661] 4 6 47 109 118 121 140 156 284 462 ...\n",
      "  ..@ p       : int [1:16836] 0 3988 11246 19585 35689 49122 64522 74021 91777 95828 ...\n",
      "  ..@ Dim     : int [1:2] 306646 16835\n",
      "  ..@ Dimnames:List of 2\n",
      "  .. ..$ : chr [1:306646] \"chr1-10052-10333\" \"chr1-180682-181613\" \"chr1-191201-191943\" \"chr1-267869-268076\" ...\n",
      "  .. ..$ : chr [1:16835] \"MCO_01326_AAACAGCCACAGCCAT-1\" \"MCO_01326_AAACAGCCAGGAAGCC-1\" \"MCO_01326_AAACAGCCAGTATGTT-1\" \"MCO_01326_AAACATGCAAACGCGA-1\" ...\n",
      "  .. .. ..- attr(*, \".match.hash\")=Class 'match.hash' <externalptr> \n",
      "  ..@ x       : num [1:127181661] 1 3 1 1 1 1 1 1 1 1 ...\n",
      "  ..@ factors : list()\n",
      "\n"
     ]
    }
   ],
   "source": [
    "matrix_ATAC<-GetAssayData(object = adata, assay = \"ATAC_by_refined_annotation\", layer = \"counts\")\n",
    "  \n",
    "  cat(\"matrix_ATAC\\n\")\n",
    "  cat(str(matrix_ATAC))\n",
    "  cat(\"\\n\")"
   ]
  },
  {
   "cell_type": "markdown",
   "id": "4d4ebe1d-d38c-4edb-95df-da136ce18536",
   "metadata": {},
   "source": [
    "## Extract metadata"
   ]
  },
  {
   "cell_type": "code",
   "execution_count": 214,
   "id": "dc4257a2-0d30-4dfe-ab0e-957726435820",
   "metadata": {
    "execution": {
     "iopub.execute_input": "2025-02-26T16:31:55.667678Z",
     "iopub.status.busy": "2025-02-26T16:31:55.666509Z",
     "iopub.status.idle": "2025-02-26T16:31:55.717590Z",
     "shell.execute_reply": "2025-02-26T16:31:55.716288Z"
    }
   },
   "outputs": [
    {
     "name": "stdout",
     "output_type": "stream",
     "text": [
      "Day_0 Day_8 Day_12 Day_15\n",
      "5852 259 4905 5819\n",
      "hESC HemogenicEndothelium MEP early erythroid early MK MK PolyPlo MK\n",
      "5853 236 2693 914 108 2863 4168\n",
      "wt_1 wt_2 wt_3 rs62237617_1 rs62237617_2 rs62237617_3 DNMT3A_1 DNMT3A_2 DNMT3A_3 rs62237617_DNMT3A_1 rs62237617_DNMT3A_2 rs62237617_DNMT3A_3\n",
      "130 226 305 872 776 7996 1101 123 2355 1381 706 864\n",
      "wt_1_Day_0 wt_2_Day_0 wt_3_Day_0 rs62237617_1_Day_0 rs62237617_2_Day_0 rs62237617_3_Day_0 DNMT3A_1_Day_0 DNMT3A_2_Day_0 DNMT3A_3_Day_0 rs62237617_DNMT3A_1_Day_0 rs62237617_DNMT3A_2_Day_0 rs62237617_DNMT3A_3_Day_0 wt_1_Day_8 wt_2_Day_8 wt_3_Day_8 rs62237617_1_Day_8 rs62237617_2_Day_8 rs62237617_3_Day_8 DNMT3A_1_Day_8 DNMT3A_2_Day_8 DNMT3A_3_Day_8 rs62237617_DNMT3A_1_Day_8 rs62237617_DNMT3A_2_Day_8 rs62237617_DNMT3A_3_Day_8 wt_1_Day_12 wt_2_Day_12 wt_3_Day_12 rs62237617_1_Day_12 rs62237617_2_Day_12 rs62237617_3_Day_12 DNMT3A_1_Day_12 DNMT3A_2_Day_12 DNMT3A_3_Day_12 rs62237617_DNMT3A_1_Day_12 rs62237617_DNMT3A_2_Day_12 rs62237617_DNMT3A_3_Day_12 wt_1_Day_15 wt_2_Day_15 wt_3_Day_15 rs62237617_1_Day_15 rs62237617_2_Day_15 rs62237617_3_Day_15 DNMT3A_1_Day_15 DNMT3A_2_Day_15 DNMT3A_3_Day_15 rs62237617_DNMT3A_1_Day_15 rs62237617_DNMT3A_2_Day_15 rs62237617_DNMT3A_3_Day_15\n",
      "60 132 80 130 119 242 893 98 2277 506 600 715 6 29 18 9 11 30 68 9 24 19 11 25 58 33 113 348 319 3134 77 13 35 618 65 92 6 32 94 385 327 4590 63 3 19 238 30 32\n"
     ]
    }
   ],
   "source": [
    "metadata<-adata[[]]\n",
    "\n",
    "cat(sprintf(as.character(names(summary(metadata$time_point)))))\n",
    "  cat(\"\\n\")\n",
    "  cat(sprintf(as.character(summary(metadata$time_point))))\n",
    "  cat(\"\\n\")\n",
    "  \n",
    "  \n",
    "  cat(sprintf(as.character(names(summary(metadata$refined_annotation_majority_vote)))))\n",
    "  cat(\"\\n\")\n",
    "  cat(sprintf(as.character(summary(metadata$refined_annotation_majority_vote))))\n",
    "  cat(\"\\n\")\n",
    "\n",
    "\n",
    "  \n",
    "  cat(sprintf(as.character(names(summary(as.factor(metadata$clone_line))))))\n",
    "  cat(\"\\n\")\n",
    "  cat(sprintf(as.character(summary(as.factor(metadata$clone_line)))))\n",
    "  cat(\"\\n\")\n",
    "  \n",
    "  cat(sprintf(as.character(names(summary(as.factor(metadata$sample_id))))))\n",
    "  cat(\"\\n\")\n",
    "  cat(sprintf(as.character(summary(as.factor(metadata$sample_id)))))\n",
    "  cat(\"\\n\")"
   ]
  },
  {
   "cell_type": "markdown",
   "id": "4a4a6be6-414a-491d-97a8-98731b0c8585",
   "metadata": {},
   "source": [
    "## Create a new Seurat object with the ATAC and the metadata"
   ]
  },
  {
   "cell_type": "code",
   "execution_count": 215,
   "id": "6c546451-28b7-4c88-aab3-8334c2fd2694",
   "metadata": {
    "execution": {
     "iopub.execute_input": "2025-02-26T16:31:56.555520Z",
     "iopub.status.busy": "2025-02-26T16:31:56.554383Z",
     "iopub.status.idle": "2025-02-26T16:32:02.165846Z",
     "shell.execute_reply": "2025-02-26T16:32:02.164403Z"
    }
   },
   "outputs": [
    {
     "data": {
      "text/plain": [
       "An object of class Seurat \n",
       "306646 features across 16835 samples within 1 assay \n",
       "Active assay: RNA (306646 features, 0 variable features)\n",
       " 1 layer present: counts"
      ]
     },
     "metadata": {},
     "output_type": "display_data"
    }
   ],
   "source": [
    "ATAC_object <- CreateSeuratObject(counts = matrix_ATAC, assay = \"RNA\",\n",
    "                                   meta.data=metadata)\n",
    "\n",
    "ATAC_object"
   ]
  },
  {
   "cell_type": "markdown",
   "id": "24ef0f5e-710d-4a22-addb-dcdb9243712a",
   "metadata": {},
   "source": [
    "## Seurat2PB Aggregate by sample_id (clone line) and seurat_cluster"
   ]
  },
  {
   "cell_type": "code",
   "execution_count": 216,
   "id": "81f515db-1969-481c-af4f-ecfa5acc6725",
   "metadata": {
    "execution": {
     "iopub.execute_input": "2025-02-26T16:32:02.168882Z",
     "iopub.status.busy": "2025-02-26T16:32:02.167939Z",
     "iopub.status.idle": "2025-02-26T16:32:06.078985Z",
     "shell.execute_reply": "2025-02-26T16:32:06.077445Z"
    }
   },
   "outputs": [
    {
     "name": "stdout",
     "output_type": "stream",
     "text": [
      "cluster_names_0\n",
      " chr [1:7] \"hESC\" \"HemogenicEndothelium\" \"MEP\" \"early erythroid\" \"early MK\" ...\n",
      "\n",
      "sample_names_0\n",
      " chr [1:48] \"wt_1_Day_0\" \"wt_2_Day_0\" \"wt_3_Day_0\" \"rs62237617_1_Day_0\" ...\n",
      "\n",
      "groups_0\n",
      "'data.frame':\t16835 obs. of  2 variables:\n",
      " $ sample_id                       : Factor w/ 48 levels \"wt_1_Day_0\",\"wt_2_Day_0\",..: 9 4 7 7 7 11 7 7 9 9 ...\n",
      " $ refined_annotation_majority_vote: Ord.factor w/ 7 levels \"hESC\"<\"HemogenicEndothelium\"<..: 1 1 1 1 1 1 1 1 1 1 ...\n",
      "\n",
      "aggr_counts_0\n",
      "Formal class 'DGEList' [package \"edgeR\"] with 1 slot\n",
      "  ..@ .Data:List of 3\n",
      "  .. ..$ : num [1:306646, 1:131] 1 18 4 12 804 ...\n",
      "  .. .. ..- attr(*, \"dimnames\")=List of 2\n",
      "  .. .. .. ..$ : chr [1:306646] \"chr1-10052-10333\" \"chr1-180682-181613\" \"chr1-191201-191943\" \"chr1-267869-268076\" ...\n",
      "  .. .. .. ..$ : chr [1:131] \"DNMT3A_1_Day_0_clusterhESC\" \"DNMT3A_1_Day_12_clusterearly erythroid\" \"DNMT3A_1_Day_12_clusterMEP\" \"DNMT3A_1_Day_12_clusterMK\" ...\n",
      "  .. ..$ :'data.frame':\t131 obs. of  5 variables:\n",
      "  .. .. ..$ group       : Factor w/ 1 level \"1\": 1 1 1 1 1 1 1 1 1 1 ...\n",
      "  .. .. ..$ lib.size    : num [1:131] 8819653 73680 457403 252378 10525 ...\n",
      "  .. .. ..$ norm.factors: num [1:131] 1 1 1 1 1 1 1 1 1 1 ...\n",
      "  .. .. ..$ sample      : chr [1:131] \"DNMT3A_1_Day_0\" \"DNMT3A_1_Day_12\" \"DNMT3A_1_Day_12\" \"DNMT3A_1_Day_12\" ...\n",
      "  .. .. ..$ cluster     : chr [1:131] \"hESC\" \"early erythroid\" \"MEP\" \"MK\" ...\n",
      "  .. ..$ :'data.frame':\t306646 obs. of  1 variable:\n",
      "  .. .. ..$ gene: chr [1:306646] \"chr1-10052-10333\" \"chr1-180682-181613\" \"chr1-191201-191943\" \"chr1-267869-268076\" ...\n",
      "  ..$ names: chr [1:3] \"counts\" \"samples\" \"genes\"\n",
      "\n"
     ]
    }
   ],
   "source": [
    " cluster_names <- levels(metadata[,which(colnames(metadata) == 'refined_annotation_majority_vote')])\n",
    "  \n",
    "  cat(\"cluster_names_0\\n\")\n",
    "  cat(str(cluster_names))\n",
    "  cat(\"\\n\")\n",
    "  \n",
    "  sample_names <- levels(metadata[,which(colnames(metadata) == 'sample_id')])\n",
    "  \n",
    "  cat(\"sample_names_0\\n\")\n",
    "  cat(str(sample_names))\n",
    "  cat(\"\\n\")\n",
    "  \n",
    "  groups <- metadata[,c(which(colnames(metadata) == 'sample_id'),which(colnames(metadata) == 'refined_annotation_majority_vote'))]\n",
    "  \n",
    "  cat(\"groups_0\\n\")\n",
    "  cat(str(groups))\n",
    "  cat(\"\\n\")\n",
    "  \n",
    "  aggr_counts <- Seurat2PB(ATAC_object, sample=\"sample_id\", cluster=\"refined_annotation_majority_vote\")\n",
    "  \n",
    "  cat(\"aggr_counts_0\\n\")\n",
    "  cat(str(aggr_counts))\n",
    "  cat(\"\\n\")"
   ]
  },
  {
   "cell_type": "markdown",
   "id": "46554ea3-6400-4c8e-993d-1eb18ce67005",
   "metadata": {},
   "source": [
    "## List of count subsets"
   ]
  },
  {
   "cell_type": "code",
   "execution_count": 217,
   "id": "74df662a-b77a-4d52-a466-04300f86dd38",
   "metadata": {
    "execution": {
     "iopub.execute_input": "2025-02-26T16:32:06.082430Z",
     "iopub.status.busy": "2025-02-26T16:32:06.081251Z",
     "iopub.status.idle": "2025-02-26T16:32:06.245843Z",
     "shell.execute_reply": "2025-02-26T16:32:06.244264Z"
    }
   },
   "outputs": [],
   "source": [
    " ## Initiate empty list\n",
    "  counts_ls <- list()\n",
    "  \n",
    "  DEBUG<-0\n",
    "  \n",
    "\n",
    "for (i in 1:length(cluster_names)) {\n",
    "    \n",
    "    cluster_names[i]\n",
    "    \n",
    "    ## Extract indexes of columns in the global matrix that match a given cluster\n",
    "    column_idx <- which(tstrsplit(colnames(aggr_counts), \"_cluster\")[[2]] == cluster_names[i])\n",
    "    \n",
    "    sub_aggr<- aggr_counts[, column_idx]\n",
    "    \n",
    "    if(DEBUG == 1)\n",
    "    {\n",
    "      cat(\"sub_aggr_0\\n\")\n",
    "      cat(str(sub_aggr))\n",
    "      cat(\"\\n\")\n",
    "      \n",
    "    }\n",
    "    \n",
    "    ## Store corresponding sub-matrix as one element of a list\n",
    "    counts_ls[[i]] <-sub_aggr\n",
    "    names(counts_ls)[i] <- cluster_names[i]\n",
    "\n",
    "    #break\n",
    "    \n",
    "  }"
   ]
  },
  {
   "cell_type": "code",
   "execution_count": 218,
   "id": "2590a9ee-1571-4dd0-a8cb-6efc4bd9f5fc",
   "metadata": {
    "execution": {
     "iopub.execute_input": "2025-02-26T16:32:06.249318Z",
     "iopub.status.busy": "2025-02-26T16:32:06.248124Z",
     "iopub.status.idle": "2025-02-26T16:32:06.257418Z",
     "shell.execute_reply": "2025-02-26T16:32:06.256117Z"
    }
   },
   "outputs": [],
   "source": [
    "# cat(\"counts_ls_0\\n\")\n",
    "# cat(str(counts_ls))\n",
    "# cat(\"\\n\")\n",
    "\n"
   ]
  },
  {
   "cell_type": "markdown",
   "id": "9c358e7e-6c6c-47e0-9773-e9c8c71940af",
   "metadata": {},
   "source": [
    "## List of metadata"
   ]
  },
  {
   "cell_type": "code",
   "execution_count": 219,
   "id": "126f4b78-41e6-4e4d-aeba-adceee6610aa",
   "metadata": {
    "execution": {
     "iopub.execute_input": "2025-02-26T16:32:06.260664Z",
     "iopub.status.busy": "2025-02-26T16:32:06.259562Z",
     "iopub.status.idle": "2025-02-26T16:32:06.272879Z",
     "shell.execute_reply": "2025-02-26T16:32:06.271563Z"
    }
   },
   "outputs": [
    {
     "data": {
      "text/html": [
       "<style>\n",
       ".list-inline {list-style: none; margin:0; padding: 0}\n",
       ".list-inline>li {display: inline-block}\n",
       ".list-inline>li:not(:last-child)::after {content: \"\\00b7\"; padding: 0 .5ex}\n",
       "</style>\n",
       "<ol class=list-inline><li>'orig.ident'</li><li>'nCount_RNA'</li><li>'nFeature_RNA'</li><li>'percent.mt'</li><li>'nCount_RNA_raw'</li><li>'nFeature_RNA_raw'</li><li>'nCount_ATAC'</li><li>'nFeature_ATAC'</li><li>'gex_raw_reads'</li><li>'gex_mapped_reads'</li><li>'gex_conf_intergenic_reads'</li><li>'gex_conf_exonic_reads'</li><li>'gex_conf_intronic_reads'</li><li>'gex_conf_exonic_unique_reads'</li><li>'gex_conf_exonic_antisense_reads'</li><li>'gex_conf_exonic_dup_reads'</li><li>'gex_exonic_umis'</li><li>'gex_conf_intronic_unique_reads'</li><li>'gex_conf_intronic_antisense_reads'</li><li>'gex_conf_intronic_dup_reads'</li><li>'gex_intronic_umis'</li><li>'gex_conf_txomic_unique_reads'</li><li>'gex_umis_count'</li><li>'gex_genes_count'</li><li>'atac_raw_reads'</li><li>'atac_unmapped_reads'</li><li>'atac_lowmapq'</li><li>'atac_dup_reads'</li><li>'atac_chimeric_reads'</li><li>'atac_mitochondrial_reads'</li><li>'atac_fragments'</li><li>'atac_TSS_fragments'</li><li>'atac_peak_region_fragments'</li><li>'atac_peak_region_cutsites'</li><li>'TSS.enrichment'</li><li>'TSS.percentile'</li><li>'scDblFinder.class'</li><li>'scDblFinder.score'</li><li>'scDblFinder.weighted'</li><li>'scDblFinder.cxds_score'</li><li>'scDblFinder.class_atac'</li><li>'scDblFinder.score_atac'</li><li>'scDblFinder.weighted_atac'</li><li>'scDblFinder.cxds_score_atac'</li><li>'No_assigned_GFPbc'</li><li>'Assigned_GFPbc'</li><li>'Assigned_GFPgenotype'</li><li>'DBL_comb'</li><li>'amulet_nFrags'</li><li>'amulet_uniqFrags'</li><li>'amulet_nAbove2'</li><li>'amulet_total.nAbove2'</li><li>'amulet_p.value'</li><li>'amulet_q.value'</li><li>'doublet_amulet'</li><li>'nCount_SCT'</li><li>'nFeature_SCT'</li><li>'SCT.weight'</li><li>'ATAC.weight'</li><li>'wsnn_res.0.2'</li><li>'seurat_clusters'</li><li>'doublet'</li><li>'wsnn_res.2'</li><li>'wsnn_res.0.5'</li><li>'wsnn_res.0.25'</li><li>'CellTypist_BMA_label'</li><li>'CellTypist_BMA_conf_score'</li><li>'CellTypist_IPSCs_label'</li><li>'CellTypist_IPSCs_conf_score'</li><li>'CellTypist_BMA_label_filtered'</li><li>'CellTypist_IPSCs_label_filtered'</li><li>'time_point'</li><li>'time'</li><li>'nucleosome_signal'</li><li>'nucleosome_percentile'</li><li>'FRiP'</li><li>'atac_pct_reads_in_peaks'</li><li>'my_anot'</li><li>'FOI'</li><li>'my_anot_updated'</li><li>'majority_voting_BMA'</li><li>'majority_voting_iPSCs'</li><li>'current_anot'</li><li>'Assignation_demux_NO_CB'</li><li>'Assigned_GFPbc_demux_NO_CB'</li><li>'Assignation_demux_CB'</li><li>'Assigned_GFPbc_demux_CB'</li><li>'Assigned_GFPbc_integral'</li><li>'Assigned_GFPgenotype_integral'</li><li>'Subclusters_3'</li><li>'Subclusters_4'</li><li>'Subclusters_7'</li><li>'Subclusters_2'</li><li>'new_clusters'</li><li>'refined_annotation'</li><li>'refined_annotation_majority_vote'</li><li>'clone_line'</li><li>'Genotype'</li><li>'nCount_ATAC_by_refined_annotation'</li><li>'nFeature_ATAC_by_refined_annotation'</li><li>'nCount_peak_subset'</li><li>'nFeature_peak_subset'</li><li>'sample_id'</li></ol>\n"
      ],
      "text/latex": [
       "\\begin{enumerate*}\n",
       "\\item 'orig.ident'\n",
       "\\item 'nCount\\_RNA'\n",
       "\\item 'nFeature\\_RNA'\n",
       "\\item 'percent.mt'\n",
       "\\item 'nCount\\_RNA\\_raw'\n",
       "\\item 'nFeature\\_RNA\\_raw'\n",
       "\\item 'nCount\\_ATAC'\n",
       "\\item 'nFeature\\_ATAC'\n",
       "\\item 'gex\\_raw\\_reads'\n",
       "\\item 'gex\\_mapped\\_reads'\n",
       "\\item 'gex\\_conf\\_intergenic\\_reads'\n",
       "\\item 'gex\\_conf\\_exonic\\_reads'\n",
       "\\item 'gex\\_conf\\_intronic\\_reads'\n",
       "\\item 'gex\\_conf\\_exonic\\_unique\\_reads'\n",
       "\\item 'gex\\_conf\\_exonic\\_antisense\\_reads'\n",
       "\\item 'gex\\_conf\\_exonic\\_dup\\_reads'\n",
       "\\item 'gex\\_exonic\\_umis'\n",
       "\\item 'gex\\_conf\\_intronic\\_unique\\_reads'\n",
       "\\item 'gex\\_conf\\_intronic\\_antisense\\_reads'\n",
       "\\item 'gex\\_conf\\_intronic\\_dup\\_reads'\n",
       "\\item 'gex\\_intronic\\_umis'\n",
       "\\item 'gex\\_conf\\_txomic\\_unique\\_reads'\n",
       "\\item 'gex\\_umis\\_count'\n",
       "\\item 'gex\\_genes\\_count'\n",
       "\\item 'atac\\_raw\\_reads'\n",
       "\\item 'atac\\_unmapped\\_reads'\n",
       "\\item 'atac\\_lowmapq'\n",
       "\\item 'atac\\_dup\\_reads'\n",
       "\\item 'atac\\_chimeric\\_reads'\n",
       "\\item 'atac\\_mitochondrial\\_reads'\n",
       "\\item 'atac\\_fragments'\n",
       "\\item 'atac\\_TSS\\_fragments'\n",
       "\\item 'atac\\_peak\\_region\\_fragments'\n",
       "\\item 'atac\\_peak\\_region\\_cutsites'\n",
       "\\item 'TSS.enrichment'\n",
       "\\item 'TSS.percentile'\n",
       "\\item 'scDblFinder.class'\n",
       "\\item 'scDblFinder.score'\n",
       "\\item 'scDblFinder.weighted'\n",
       "\\item 'scDblFinder.cxds\\_score'\n",
       "\\item 'scDblFinder.class\\_atac'\n",
       "\\item 'scDblFinder.score\\_atac'\n",
       "\\item 'scDblFinder.weighted\\_atac'\n",
       "\\item 'scDblFinder.cxds\\_score\\_atac'\n",
       "\\item 'No\\_assigned\\_GFPbc'\n",
       "\\item 'Assigned\\_GFPbc'\n",
       "\\item 'Assigned\\_GFPgenotype'\n",
       "\\item 'DBL\\_comb'\n",
       "\\item 'amulet\\_nFrags'\n",
       "\\item 'amulet\\_uniqFrags'\n",
       "\\item 'amulet\\_nAbove2'\n",
       "\\item 'amulet\\_total.nAbove2'\n",
       "\\item 'amulet\\_p.value'\n",
       "\\item 'amulet\\_q.value'\n",
       "\\item 'doublet\\_amulet'\n",
       "\\item 'nCount\\_SCT'\n",
       "\\item 'nFeature\\_SCT'\n",
       "\\item 'SCT.weight'\n",
       "\\item 'ATAC.weight'\n",
       "\\item 'wsnn\\_res.0.2'\n",
       "\\item 'seurat\\_clusters'\n",
       "\\item 'doublet'\n",
       "\\item 'wsnn\\_res.2'\n",
       "\\item 'wsnn\\_res.0.5'\n",
       "\\item 'wsnn\\_res.0.25'\n",
       "\\item 'CellTypist\\_BMA\\_label'\n",
       "\\item 'CellTypist\\_BMA\\_conf\\_score'\n",
       "\\item 'CellTypist\\_IPSCs\\_label'\n",
       "\\item 'CellTypist\\_IPSCs\\_conf\\_score'\n",
       "\\item 'CellTypist\\_BMA\\_label\\_filtered'\n",
       "\\item 'CellTypist\\_IPSCs\\_label\\_filtered'\n",
       "\\item 'time\\_point'\n",
       "\\item 'time'\n",
       "\\item 'nucleosome\\_signal'\n",
       "\\item 'nucleosome\\_percentile'\n",
       "\\item 'FRiP'\n",
       "\\item 'atac\\_pct\\_reads\\_in\\_peaks'\n",
       "\\item 'my\\_anot'\n",
       "\\item 'FOI'\n",
       "\\item 'my\\_anot\\_updated'\n",
       "\\item 'majority\\_voting\\_BMA'\n",
       "\\item 'majority\\_voting\\_iPSCs'\n",
       "\\item 'current\\_anot'\n",
       "\\item 'Assignation\\_demux\\_NO\\_CB'\n",
       "\\item 'Assigned\\_GFPbc\\_demux\\_NO\\_CB'\n",
       "\\item 'Assignation\\_demux\\_CB'\n",
       "\\item 'Assigned\\_GFPbc\\_demux\\_CB'\n",
       "\\item 'Assigned\\_GFPbc\\_integral'\n",
       "\\item 'Assigned\\_GFPgenotype\\_integral'\n",
       "\\item 'Subclusters\\_3'\n",
       "\\item 'Subclusters\\_4'\n",
       "\\item 'Subclusters\\_7'\n",
       "\\item 'Subclusters\\_2'\n",
       "\\item 'new\\_clusters'\n",
       "\\item 'refined\\_annotation'\n",
       "\\item 'refined\\_annotation\\_majority\\_vote'\n",
       "\\item 'clone\\_line'\n",
       "\\item 'Genotype'\n",
       "\\item 'nCount\\_ATAC\\_by\\_refined\\_annotation'\n",
       "\\item 'nFeature\\_ATAC\\_by\\_refined\\_annotation'\n",
       "\\item 'nCount\\_peak\\_subset'\n",
       "\\item 'nFeature\\_peak\\_subset'\n",
       "\\item 'sample\\_id'\n",
       "\\end{enumerate*}\n"
      ],
      "text/markdown": [
       "1. 'orig.ident'\n",
       "2. 'nCount_RNA'\n",
       "3. 'nFeature_RNA'\n",
       "4. 'percent.mt'\n",
       "5. 'nCount_RNA_raw'\n",
       "6. 'nFeature_RNA_raw'\n",
       "7. 'nCount_ATAC'\n",
       "8. 'nFeature_ATAC'\n",
       "9. 'gex_raw_reads'\n",
       "10. 'gex_mapped_reads'\n",
       "11. 'gex_conf_intergenic_reads'\n",
       "12. 'gex_conf_exonic_reads'\n",
       "13. 'gex_conf_intronic_reads'\n",
       "14. 'gex_conf_exonic_unique_reads'\n",
       "15. 'gex_conf_exonic_antisense_reads'\n",
       "16. 'gex_conf_exonic_dup_reads'\n",
       "17. 'gex_exonic_umis'\n",
       "18. 'gex_conf_intronic_unique_reads'\n",
       "19. 'gex_conf_intronic_antisense_reads'\n",
       "20. 'gex_conf_intronic_dup_reads'\n",
       "21. 'gex_intronic_umis'\n",
       "22. 'gex_conf_txomic_unique_reads'\n",
       "23. 'gex_umis_count'\n",
       "24. 'gex_genes_count'\n",
       "25. 'atac_raw_reads'\n",
       "26. 'atac_unmapped_reads'\n",
       "27. 'atac_lowmapq'\n",
       "28. 'atac_dup_reads'\n",
       "29. 'atac_chimeric_reads'\n",
       "30. 'atac_mitochondrial_reads'\n",
       "31. 'atac_fragments'\n",
       "32. 'atac_TSS_fragments'\n",
       "33. 'atac_peak_region_fragments'\n",
       "34. 'atac_peak_region_cutsites'\n",
       "35. 'TSS.enrichment'\n",
       "36. 'TSS.percentile'\n",
       "37. 'scDblFinder.class'\n",
       "38. 'scDblFinder.score'\n",
       "39. 'scDblFinder.weighted'\n",
       "40. 'scDblFinder.cxds_score'\n",
       "41. 'scDblFinder.class_atac'\n",
       "42. 'scDblFinder.score_atac'\n",
       "43. 'scDblFinder.weighted_atac'\n",
       "44. 'scDblFinder.cxds_score_atac'\n",
       "45. 'No_assigned_GFPbc'\n",
       "46. 'Assigned_GFPbc'\n",
       "47. 'Assigned_GFPgenotype'\n",
       "48. 'DBL_comb'\n",
       "49. 'amulet_nFrags'\n",
       "50. 'amulet_uniqFrags'\n",
       "51. 'amulet_nAbove2'\n",
       "52. 'amulet_total.nAbove2'\n",
       "53. 'amulet_p.value'\n",
       "54. 'amulet_q.value'\n",
       "55. 'doublet_amulet'\n",
       "56. 'nCount_SCT'\n",
       "57. 'nFeature_SCT'\n",
       "58. 'SCT.weight'\n",
       "59. 'ATAC.weight'\n",
       "60. 'wsnn_res.0.2'\n",
       "61. 'seurat_clusters'\n",
       "62. 'doublet'\n",
       "63. 'wsnn_res.2'\n",
       "64. 'wsnn_res.0.5'\n",
       "65. 'wsnn_res.0.25'\n",
       "66. 'CellTypist_BMA_label'\n",
       "67. 'CellTypist_BMA_conf_score'\n",
       "68. 'CellTypist_IPSCs_label'\n",
       "69. 'CellTypist_IPSCs_conf_score'\n",
       "70. 'CellTypist_BMA_label_filtered'\n",
       "71. 'CellTypist_IPSCs_label_filtered'\n",
       "72. 'time_point'\n",
       "73. 'time'\n",
       "74. 'nucleosome_signal'\n",
       "75. 'nucleosome_percentile'\n",
       "76. 'FRiP'\n",
       "77. 'atac_pct_reads_in_peaks'\n",
       "78. 'my_anot'\n",
       "79. 'FOI'\n",
       "80. 'my_anot_updated'\n",
       "81. 'majority_voting_BMA'\n",
       "82. 'majority_voting_iPSCs'\n",
       "83. 'current_anot'\n",
       "84. 'Assignation_demux_NO_CB'\n",
       "85. 'Assigned_GFPbc_demux_NO_CB'\n",
       "86. 'Assignation_demux_CB'\n",
       "87. 'Assigned_GFPbc_demux_CB'\n",
       "88. 'Assigned_GFPbc_integral'\n",
       "89. 'Assigned_GFPgenotype_integral'\n",
       "90. 'Subclusters_3'\n",
       "91. 'Subclusters_4'\n",
       "92. 'Subclusters_7'\n",
       "93. 'Subclusters_2'\n",
       "94. 'new_clusters'\n",
       "95. 'refined_annotation'\n",
       "96. 'refined_annotation_majority_vote'\n",
       "97. 'clone_line'\n",
       "98. 'Genotype'\n",
       "99. 'nCount_ATAC_by_refined_annotation'\n",
       "100. 'nFeature_ATAC_by_refined_annotation'\n",
       "101. 'nCount_peak_subset'\n",
       "102. 'nFeature_peak_subset'\n",
       "103. 'sample_id'\n",
       "\n",
       "\n"
      ],
      "text/plain": [
       "  [1] \"orig.ident\"                         \n",
       "  [2] \"nCount_RNA\"                         \n",
       "  [3] \"nFeature_RNA\"                       \n",
       "  [4] \"percent.mt\"                         \n",
       "  [5] \"nCount_RNA_raw\"                     \n",
       "  [6] \"nFeature_RNA_raw\"                   \n",
       "  [7] \"nCount_ATAC\"                        \n",
       "  [8] \"nFeature_ATAC\"                      \n",
       "  [9] \"gex_raw_reads\"                      \n",
       " [10] \"gex_mapped_reads\"                   \n",
       " [11] \"gex_conf_intergenic_reads\"          \n",
       " [12] \"gex_conf_exonic_reads\"              \n",
       " [13] \"gex_conf_intronic_reads\"            \n",
       " [14] \"gex_conf_exonic_unique_reads\"       \n",
       " [15] \"gex_conf_exonic_antisense_reads\"    \n",
       " [16] \"gex_conf_exonic_dup_reads\"          \n",
       " [17] \"gex_exonic_umis\"                    \n",
       " [18] \"gex_conf_intronic_unique_reads\"     \n",
       " [19] \"gex_conf_intronic_antisense_reads\"  \n",
       " [20] \"gex_conf_intronic_dup_reads\"        \n",
       " [21] \"gex_intronic_umis\"                  \n",
       " [22] \"gex_conf_txomic_unique_reads\"       \n",
       " [23] \"gex_umis_count\"                     \n",
       " [24] \"gex_genes_count\"                    \n",
       " [25] \"atac_raw_reads\"                     \n",
       " [26] \"atac_unmapped_reads\"                \n",
       " [27] \"atac_lowmapq\"                       \n",
       " [28] \"atac_dup_reads\"                     \n",
       " [29] \"atac_chimeric_reads\"                \n",
       " [30] \"atac_mitochondrial_reads\"           \n",
       " [31] \"atac_fragments\"                     \n",
       " [32] \"atac_TSS_fragments\"                 \n",
       " [33] \"atac_peak_region_fragments\"         \n",
       " [34] \"atac_peak_region_cutsites\"          \n",
       " [35] \"TSS.enrichment\"                     \n",
       " [36] \"TSS.percentile\"                     \n",
       " [37] \"scDblFinder.class\"                  \n",
       " [38] \"scDblFinder.score\"                  \n",
       " [39] \"scDblFinder.weighted\"               \n",
       " [40] \"scDblFinder.cxds_score\"             \n",
       " [41] \"scDblFinder.class_atac\"             \n",
       " [42] \"scDblFinder.score_atac\"             \n",
       " [43] \"scDblFinder.weighted_atac\"          \n",
       " [44] \"scDblFinder.cxds_score_atac\"        \n",
       " [45] \"No_assigned_GFPbc\"                  \n",
       " [46] \"Assigned_GFPbc\"                     \n",
       " [47] \"Assigned_GFPgenotype\"               \n",
       " [48] \"DBL_comb\"                           \n",
       " [49] \"amulet_nFrags\"                      \n",
       " [50] \"amulet_uniqFrags\"                   \n",
       " [51] \"amulet_nAbove2\"                     \n",
       " [52] \"amulet_total.nAbove2\"               \n",
       " [53] \"amulet_p.value\"                     \n",
       " [54] \"amulet_q.value\"                     \n",
       " [55] \"doublet_amulet\"                     \n",
       " [56] \"nCount_SCT\"                         \n",
       " [57] \"nFeature_SCT\"                       \n",
       " [58] \"SCT.weight\"                         \n",
       " [59] \"ATAC.weight\"                        \n",
       " [60] \"wsnn_res.0.2\"                       \n",
       " [61] \"seurat_clusters\"                    \n",
       " [62] \"doublet\"                            \n",
       " [63] \"wsnn_res.2\"                         \n",
       " [64] \"wsnn_res.0.5\"                       \n",
       " [65] \"wsnn_res.0.25\"                      \n",
       " [66] \"CellTypist_BMA_label\"               \n",
       " [67] \"CellTypist_BMA_conf_score\"          \n",
       " [68] \"CellTypist_IPSCs_label\"             \n",
       " [69] \"CellTypist_IPSCs_conf_score\"        \n",
       " [70] \"CellTypist_BMA_label_filtered\"      \n",
       " [71] \"CellTypist_IPSCs_label_filtered\"    \n",
       " [72] \"time_point\"                         \n",
       " [73] \"time\"                               \n",
       " [74] \"nucleosome_signal\"                  \n",
       " [75] \"nucleosome_percentile\"              \n",
       " [76] \"FRiP\"                               \n",
       " [77] \"atac_pct_reads_in_peaks\"            \n",
       " [78] \"my_anot\"                            \n",
       " [79] \"FOI\"                                \n",
       " [80] \"my_anot_updated\"                    \n",
       " [81] \"majority_voting_BMA\"                \n",
       " [82] \"majority_voting_iPSCs\"              \n",
       " [83] \"current_anot\"                       \n",
       " [84] \"Assignation_demux_NO_CB\"            \n",
       " [85] \"Assigned_GFPbc_demux_NO_CB\"         \n",
       " [86] \"Assignation_demux_CB\"               \n",
       " [87] \"Assigned_GFPbc_demux_CB\"            \n",
       " [88] \"Assigned_GFPbc_integral\"            \n",
       " [89] \"Assigned_GFPgenotype_integral\"      \n",
       " [90] \"Subclusters_3\"                      \n",
       " [91] \"Subclusters_4\"                      \n",
       " [92] \"Subclusters_7\"                      \n",
       " [93] \"Subclusters_2\"                      \n",
       " [94] \"new_clusters\"                       \n",
       " [95] \"refined_annotation\"                 \n",
       " [96] \"refined_annotation_majority_vote\"   \n",
       " [97] \"clone_line\"                         \n",
       " [98] \"Genotype\"                           \n",
       " [99] \"nCount_ATAC_by_refined_annotation\"  \n",
       "[100] \"nFeature_ATAC_by_refined_annotation\"\n",
       "[101] \"nCount_peak_subset\"                 \n",
       "[102] \"nFeature_peak_subset\"               \n",
       "[103] \"sample_id\"                          "
      ]
     },
     "metadata": {},
     "output_type": "display_data"
    }
   ],
   "source": [
    "colnames(metadata)"
   ]
  },
  {
   "cell_type": "markdown",
   "id": "9172e3f1-f591-408d-9db5-6f464bbe8727",
   "metadata": {},
   "source": [
    "### metadata_NEW df"
   ]
  },
  {
   "cell_type": "code",
   "execution_count": 220,
   "id": "2fb84498-f2df-42ff-87d4-a25e08f5cd0e",
   "metadata": {
    "execution": {
     "iopub.execute_input": "2025-02-26T16:32:06.276142Z",
     "iopub.status.busy": "2025-02-26T16:32:06.274989Z",
     "iopub.status.idle": "2025-02-26T16:32:06.355171Z",
     "shell.execute_reply": "2025-02-26T16:32:06.353727Z"
    }
   },
   "outputs": [
    {
     "name": "stdout",
     "output_type": "stream",
     "text": [
      "metadata_NEW_0\n",
      "'data.frame':\t16835 obs. of  4 variables:\n",
      " $ Genotype  : Ord.factor w/ 4 levels \"wt\"<\"rs62237617\"<..: 3 2 3 3 3 4 3 3 3 3 ...\n",
      " $ clone_line: Ord.factor w/ 12 levels \"wt_1\"<\"wt_2\"<..: 9 4 7 7 7 11 7 7 9 9 ...\n",
      " $ time_point: Ord.factor w/ 4 levels \"Day_0\"<\"Day_8\"<..: 1 1 1 1 1 1 1 1 1 1 ...\n",
      " $ sample_id : Factor w/ 48 levels \"wt_1_Day_0\",\"wt_2_Day_0\",..: 9 4 7 7 7 11 7 7 9 9 ...\n",
      "\n",
      "metadata_NEW_0.5\n",
      "'data.frame':\t48 obs. of  4 variables:\n",
      " $ Genotype  : Ord.factor w/ 4 levels \"wt\"<\"rs62237617\"<..: 3 2 3 4 4 1 2 4 3 2 ...\n",
      " $ clone_line: Ord.factor w/ 12 levels \"wt_1\"<\"wt_2\"<..: 9 4 7 11 12 3 6 10 8 5 ...\n",
      " $ time_point: Ord.factor w/ 4 levels \"Day_0\"<\"Day_8\"<..: 1 1 1 1 1 1 1 1 1 1 ...\n",
      " $ sample_id : Factor w/ 48 levels \"wt_1_Day_0\",\"wt_2_Day_0\",..: 9 4 7 11 12 3 6 10 8 5 ...\n",
      "\n",
      "metadata_NEW_1\n",
      "'data.frame':\t48 obs. of  4 variables:\n",
      " $ Genotype  : Ord.factor w/ 4 levels \"wt\"<\"rs62237617\"<..: 3 2 3 4 4 1 2 4 3 2 ...\n",
      " $ clone_line: Ord.factor w/ 12 levels \"wt_1\"<\"wt_2\"<..: 9 4 7 11 12 3 6 10 8 5 ...\n",
      " $ time_point: Ord.factor w/ 4 levels \"Day_0\"<\"Day_8\"<..: 1 1 1 1 1 1 1 1 1 1 ...\n",
      " $ sample_id : Factor w/ 48 levels \"wt_1_Day_0\",\"wt_2_Day_0\",..: 9 4 7 11 12 3 6 10 8 5 ...\n",
      "\n"
     ]
    },
    {
     "data": {
      "text/html": [
       "<style>\n",
       ".list-inline {list-style: none; margin:0; padding: 0}\n",
       ".list-inline>li {display: inline-block}\n",
       ".list-inline>li:not(:last-child)::after {content: \"\\00b7\"; padding: 0 .5ex}\n",
       "</style>\n",
       "<ol class=list-inline><li>'Genotype'</li><li>'clone_line'</li><li>'time_point'</li><li>'sample_id'</li></ol>\n"
      ],
      "text/latex": [
       "\\begin{enumerate*}\n",
       "\\item 'Genotype'\n",
       "\\item 'clone\\_line'\n",
       "\\item 'time\\_point'\n",
       "\\item 'sample\\_id'\n",
       "\\end{enumerate*}\n"
      ],
      "text/markdown": [
       "1. 'Genotype'\n",
       "2. 'clone_line'\n",
       "3. 'time_point'\n",
       "4. 'sample_id'\n",
       "\n",
       "\n"
      ],
      "text/plain": [
       "[1] \"Genotype\"   \"clone_line\" \"time_point\" \"sample_id\" "
      ]
     },
     "metadata": {},
     "output_type": "display_data"
    }
   ],
   "source": [
    "#### Create group level variables -----\n",
    "  \n",
    "  # Extract sample-level variables\n",
    "  metadata_NEW <- metadata %>% \n",
    "    as.data.frame() %>% \n",
    "    dplyr::select(Genotype, clone_line, time_point, sample_id)\n",
    "  \n",
    "cat(\"metadata_NEW_0\\n\")\n",
    "  cat(str(metadata_NEW))\n",
    "  cat(\"\\n\")\n",
    "  \n",
    "  # Exclude duplicated rows\n",
    "  metadata_NEW <- metadata_NEW[!duplicated(metadata_NEW), ]\n",
    "\n",
    "\n",
    "cat(\"metadata_NEW_0.5\\n\")\n",
    "  cat(str(metadata_NEW))\n",
    "  cat(\"\\n\")\n",
    "  \n",
    " \n",
    "  # Rename rows\n",
    "  rownames(metadata_NEW) <- metadata_NEW$sample_id\n",
    "  \n",
    "  cat(\"metadata_NEW_1\\n\")\n",
    "  cat(str(metadata_NEW))\n",
    "  cat(\"\\n\")\n",
    "\n",
    "\n",
    "names(metadata_NEW)"
   ]
  },
  {
   "cell_type": "markdown",
   "id": "488939c4-5839-449d-b174-869b611d53e2",
   "metadata": {},
   "source": [
    "### Count table"
   ]
  },
  {
   "cell_type": "code",
   "execution_count": 221,
   "id": "fb590aeb-6ed1-42b1-bfcf-e5dfa1f37169",
   "metadata": {
    "execution": {
     "iopub.execute_input": "2025-02-26T16:32:06.358443Z",
     "iopub.status.busy": "2025-02-26T16:32:06.357330Z",
     "iopub.status.idle": "2025-02-26T16:32:06.381405Z",
     "shell.execute_reply": "2025-02-26T16:32:06.380051Z"
    }
   },
   "outputs": [
    {
     "name": "stdout",
     "output_type": "stream",
     "text": [
      "t_0\n",
      " 'table' int [1:48, 1:7] 60 132 80 130 119 242 893 98 2277 506 ...\n",
      " - attr(*, \"dimnames\")=List of 2\n",
      "  ..$ : chr [1:48] \"wt_1_Day_0\" \"wt_2_Day_0\" \"wt_3_Day_0\" \"rs62237617_1_Day_0\" ...\n",
      "  ..$ : chr [1:7] \"hESC\" \"HemogenicEndothelium\" \"MEP\" \"early erythroid\" ...\n",
      "\n"
     ]
    },
    {
     "data": {
      "text/plain": [
       "                            \n",
       "                             hESC HemogenicEndothelium  MEP early erythroid\n",
       "  wt_1_Day_0                   60                    0    0               0\n",
       "  wt_2_Day_0                  132                    0    0               0\n",
       "  wt_3_Day_0                   80                    0    0               0\n",
       "  rs62237617_1_Day_0          130                    0    0               0\n",
       "  rs62237617_2_Day_0          119                    0    0               0\n",
       "  rs62237617_3_Day_0          242                    0    0               0\n",
       "  DNMT3A_1_Day_0              893                    0    0               0\n",
       "  DNMT3A_2_Day_0               98                    0    0               0\n",
       "  DNMT3A_3_Day_0             2277                    0    0               0\n",
       "  rs62237617_DNMT3A_1_Day_0   506                    0    0               0\n",
       "  rs62237617_DNMT3A_2_Day_0   600                    0    0               0\n",
       "  rs62237617_DNMT3A_3_Day_0   715                    0    0               0\n",
       "  wt_1_Day_8                    0                    6    0               0\n",
       "  wt_2_Day_8                    0                   27    2               0\n",
       "  wt_3_Day_8                    0                   16    1               0\n",
       "  rs62237617_1_Day_8            0                    7    0               0\n",
       "  rs62237617_2_Day_8            0                    8    2               0\n",
       "  rs62237617_3_Day_8            0                   28    2               0\n",
       "  DNMT3A_1_Day_8                1                   59    4               0\n",
       "  DNMT3A_2_Day_8                0                    9    0               0\n",
       "  DNMT3A_3_Day_8                0                   20    0               0\n",
       "  rs62237617_DNMT3A_1_Day_8     0                   17    1               0\n",
       "  rs62237617_DNMT3A_2_Day_8     0                    8    2               0\n",
       "  rs62237617_DNMT3A_3_Day_8     0                   20    2               0\n",
       "  wt_1_Day_12                   0                    0   35              10\n",
       "  wt_2_Day_12                   0                    0   14               9\n",
       "  wt_3_Day_12                   0                    0   63              19\n",
       "  rs62237617_1_Day_12           0                    0  165              57\n",
       "  rs62237617_2_Day_12           0                    2  139              76\n",
       "  rs62237617_3_Day_12           0                    7 1557             520\n",
       "  DNMT3A_1_Day_12               0                    0   43              12\n",
       "  DNMT3A_2_Day_12               0                    0    6               2\n",
       "  DNMT3A_3_Day_12               0                    0   18               8\n",
       "  rs62237617_DNMT3A_1_Day_12    0                    0  298             144\n",
       "  rs62237617_DNMT3A_2_Day_12    0                    0   34              11\n",
       "  rs62237617_DNMT3A_3_Day_12    0                    0   30              20\n",
       "  wt_1_Day_15                   0                    0    0               1\n",
       "  wt_2_Day_15                   0                    0    5               0\n",
       "  wt_3_Day_15                   0                    0    3               0\n",
       "  rs62237617_1_Day_15           0                    0   18               3\n",
       "  rs62237617_2_Day_15           0                    1   15               1\n",
       "  rs62237617_3_Day_15           0                    1  219              21\n",
       "  DNMT3A_1_Day_15               0                    0    4               0\n",
       "  DNMT3A_2_Day_15               0                    0    0               0\n",
       "  DNMT3A_3_Day_15               0                    0    0               0\n",
       "  rs62237617_DNMT3A_1_Day_15    0                    0    9               0\n",
       "  rs62237617_DNMT3A_2_Day_15    0                    0    1               0\n",
       "  rs62237617_DNMT3A_3_Day_15    0                    0    1               0\n",
       "                            \n",
       "                             early MK   MK PolyPlo MK\n",
       "  wt_1_Day_0                        0    0          0\n",
       "  wt_2_Day_0                        0    0          0\n",
       "  wt_3_Day_0                        0    0          0\n",
       "  rs62237617_1_Day_0                0    0          0\n",
       "  rs62237617_2_Day_0                0    0          0\n",
       "  rs62237617_3_Day_0                0    0          0\n",
       "  DNMT3A_1_Day_0                    0    0          0\n",
       "  DNMT3A_2_Day_0                    0    0          0\n",
       "  DNMT3A_3_Day_0                    0    0          0\n",
       "  rs62237617_DNMT3A_1_Day_0         0    0          0\n",
       "  rs62237617_DNMT3A_2_Day_0         0    0          0\n",
       "  rs62237617_DNMT3A_3_Day_0         0    0          0\n",
       "  wt_1_Day_8                        0    0          0\n",
       "  wt_2_Day_8                        0    0          0\n",
       "  wt_3_Day_8                        0    1          0\n",
       "  rs62237617_1_Day_8                0    2          0\n",
       "  rs62237617_2_Day_8                0    1          0\n",
       "  rs62237617_3_Day_8                0    0          0\n",
       "  DNMT3A_1_Day_8                    0    4          0\n",
       "  DNMT3A_2_Day_8                    0    0          0\n",
       "  DNMT3A_3_Day_8                    1    3          0\n",
       "  rs62237617_DNMT3A_1_Day_8         0    1          0\n",
       "  rs62237617_DNMT3A_2_Day_8         0    1          0\n",
       "  rs62237617_DNMT3A_3_Day_8         0    3          0\n",
       "  wt_1_Day_12                       0   12          1\n",
       "  wt_2_Day_12                       0   10          0\n",
       "  wt_3_Day_12                       2   29          0\n",
       "  rs62237617_1_Day_12              11  113          2\n",
       "  rs62237617_2_Day_12               9   91          2\n",
       "  rs62237617_3_Day_12              70  959         21\n",
       "  DNMT3A_1_Day_12                   0   22          0\n",
       "  DNMT3A_2_Day_12                   0    5          0\n",
       "  DNMT3A_3_Day_12                   0    9          0\n",
       "  rs62237617_DNMT3A_1_Day_12        8  167          1\n",
       "  rs62237617_DNMT3A_2_Day_12        0   19          1\n",
       "  rs62237617_DNMT3A_3_Day_12        1   41          0\n",
       "  wt_1_Day_15                       0    0          5\n",
       "  wt_2_Day_15                       0    4         23\n",
       "  wt_3_Day_15                       0   26         65\n",
       "  rs62237617_1_Day_15               1   93        270\n",
       "  rs62237617_2_Day_15               0   85        225\n",
       "  rs62237617_3_Day_15               5 1074       3270\n",
       "  DNMT3A_1_Day_15                   0   15         44\n",
       "  DNMT3A_2_Day_15                   0    0          3\n",
       "  DNMT3A_3_Day_15                   0    6         13\n",
       "  rs62237617_DNMT3A_1_Day_15        0   54        175\n",
       "  rs62237617_DNMT3A_2_Day_15        0    5         24\n",
       "  rs62237617_DNMT3A_3_Day_15        0    8         23"
      ]
     },
     "metadata": {},
     "output_type": "display_data"
    }
   ],
   "source": [
    "t <- table(metadata$sample_id,\n",
    "             metadata$refined_annotation_majority_vote)\n",
    "  \n",
    "  cat(\"t_0\\n\")\n",
    "  cat(str(t))\n",
    "  cat(\"\\n\")\n",
    "\n",
    "t"
   ]
  },
  {
   "cell_type": "markdown",
   "id": "1ef9face-5416-4e46-a8e8-3c41259238d4",
   "metadata": {},
   "source": [
    "### List population"
   ]
  },
  {
   "cell_type": "code",
   "execution_count": 222,
   "id": "19f13916-bc31-43d6-93b3-ca3a159635e9",
   "metadata": {
    "execution": {
     "iopub.execute_input": "2025-02-26T16:32:06.384870Z",
     "iopub.status.busy": "2025-02-26T16:32:06.383698Z",
     "iopub.status.idle": "2025-02-26T16:32:06.485241Z",
     "shell.execute_reply": "2025-02-26T16:32:06.483879Z"
    }
   },
   "outputs": [],
   "source": [
    "##### Creating metadata list ----------------\n",
    "  \n",
    "  ## Initiate empty list\n",
    "  metadata_ls <- list()\n",
    "  \n",
    "  DEBUG<-0\n",
    "  \n",
    "  for (i in 1:length(counts_ls)) {\n",
    "    \n",
    "    ## Initiate a data frame for cluster i with one row per sample (matching column names in the counts matrix)\n",
    "    df <- data.frame(refined_annotation_majority_vote_sample_id = colnames(counts_ls[[i]]))\n",
    "\n",
    "      if(DEBUG == 1){\n",
    "\n",
    "         cat(\"df_0\\n\")\n",
    "         cat(str(df))\n",
    "         cat(\"\\n\")\n",
    "      }\n",
    "    \n",
    "    ## Use tstrsplit() to separate cluster (cell type) and sample IDs\n",
    "    df$refined_annotation_majority_vote_id <- tstrsplit(df$refined_annotation_majority_vote_sample_id, \"_cluster\")[[2]]\n",
    "    df$sample_id  <- tstrsplit(df$refined_annotation_majority_vote_sample_id, \"_cluster\")[[1]]\n",
    "    \n",
    "    \n",
    "     if(DEBUG == 1){\n",
    "\n",
    "         cat(\"df_1\\n\")\n",
    "         cat(str(df))\n",
    "         cat(\"\\n\")\n",
    "      }\n",
    "    \n",
    "    \n",
    "    ## Retrieve cell count information for this cluster from global cell count table\n",
    "    idx <- which(colnames(t) == unique(df$refined_annotation_majority_vote_id))\n",
    "\n",
    "       if(DEBUG == 1){\n",
    "\n",
    "                 cat(\"idx_0\\n\")\n",
    "                 cat(str(idx))\n",
    "                 cat(\"\\n\")          \n",
    "           }\n",
    "      \n",
    "    cell_counts <- t[, idx]\n",
    "\n",
    "       if(DEBUG == 1){\n",
    "\n",
    "                 cat(\"cell_counts_0\\n\")\n",
    "                 cat(str(cell_counts))\n",
    "                 cat(\"\\n\")          \n",
    "           }\n",
    " \n",
    "    \n",
    "    \n",
    "    \n",
    "    \n",
    "    \n",
    "    ## Remove samples with zero cell contributing to the cluster\n",
    "    \n",
    "    cell_counts <- cell_counts[cell_counts > 0]\n",
    "    \n",
    "    if(DEBUG == 1){\n",
    "\n",
    "                 cat(\"cell_counts_1\\n\")\n",
    "                 cat(str(cell_counts))\n",
    "                 cat(\"\\n\")          \n",
    "           }\n",
    "\n",
    "    names_of_vector<-names(cell_counts)\n",
    "\n",
    "        if(DEBUG == 1){\n",
    "\n",
    "                 cat(\"names_of_vector_0\\n\")\n",
    "                 cat(str(names_of_vector))\n",
    "                 cat(\"\\n\")          \n",
    "           }\n",
    "    \n",
    "    \n",
    "    ## Match order of cell_counts and sample_ids\n",
    "    sample_order <- which(df$sample_id%in%names_of_vector)\n",
    "\n",
    "       if(DEBUG == 1){\n",
    "\n",
    "                 cat(\"sample_order_0\\n\")\n",
    "                 cat(str(sample_order))\n",
    "                 cat(\"\\n\")          \n",
    "           }\n",
    "    cell_counts <- cell_counts[sample_order]\n",
    "\n",
    "      if(DEBUG == 1){\n",
    "\n",
    "                 cat(\"cell_counts_2\\n\")\n",
    "                 cat(str(cell_counts))\n",
    "                 cat(\"\\n\")          \n",
    "           }\n",
    "\n",
    "      cell_counts_df<-as.data.frame(cbind(cell_counts,names(cell_counts)))\n",
    "\n",
    "      colnames(cell_counts_df)<-c(\"cell_count\",\"sample_id\")\n",
    "\n",
    "      cell_counts_df$cell_count<-as.integer(cell_counts_df$cell_count)\n",
    "\n",
    "        if(DEBUG == 1){\n",
    "\n",
    "                 cat(\"cell_counts_df_0\\n\")\n",
    "                 cat(str(cell_counts_df))\n",
    "                 cat(\"\\n\")          \n",
    "           }\n",
    "    \n",
    "    \n",
    "    \n",
    "    ## Merge cell_counts to data frame\n",
    "\n",
    "      df<-merge(df,\n",
    "                cell_counts_df,\n",
    "               by=\"sample_id\")\n",
    "\n",
    "       if(DEBUG == 1){\n",
    "\n",
    "         cat(\"df_2\\n\")\n",
    "         cat(str(df))\n",
    "         cat(\"\\n\")\n",
    "      }\n",
    "    \n",
    "    \n",
    "    ## Join data frame (capturing metadata specific to cluster) to generic metadata\n",
    "    df <- plyr::join(df, metadata_NEW, \n",
    "                     by = intersect(names(df), names(metadata_NEW)))\n",
    "\n",
    "        if(DEBUG == 1){\n",
    "\n",
    "         cat(\"df_3\\n\")\n",
    "         cat(str(df))\n",
    "         cat(\"\\n\")\n",
    "      }\n",
    "    \n",
    "    ## Update rownames of metadata to match colnames of count matrix, as needed later for DE\n",
    "    rownames(df) <- df$current_anot_sample_id\n",
    "\n",
    "         if(DEBUG == 1){\n",
    "\n",
    "         cat(\"df_4\\n\")\n",
    "         cat(str(df))\n",
    "         cat(\"\\n\")\n",
    "      }\n",
    "    \n",
    "    ## Store complete metadata for cluster i in list\n",
    "    metadata_ls[[i]] <- df\n",
    "    names(metadata_ls)[i] <- unique(df$cluster_id)\n",
    "\n",
    "     #break\n",
    "    \n",
    "  }"
   ]
  },
  {
   "cell_type": "code",
   "execution_count": 223,
   "id": "0d822564-a547-4409-8b77-d8336e6d4c9d",
   "metadata": {
    "execution": {
     "iopub.execute_input": "2025-02-26T16:32:06.488448Z",
     "iopub.status.busy": "2025-02-26T16:32:06.487339Z",
     "iopub.status.idle": "2025-02-26T16:32:06.541251Z",
     "shell.execute_reply": "2025-02-26T16:32:06.539970Z"
    }
   },
   "outputs": [
    {
     "name": "stdout",
     "output_type": "stream",
     "text": [
      "metadata_ls_0\n",
      "List of 7\n",
      " $ hESC                :'data.frame':\t13 obs. of  7 variables:\n",
      "  ..$ sample_id                                 : chr [1:13] \"DNMT3A_1_Day_0\" \"DNMT3A_1_Day_8\" \"DNMT3A_2_Day_0\" \"DNMT3A_3_Day_0\" ...\n",
      "  ..$ refined_annotation_majority_vote_sample_id: chr [1:13] \"DNMT3A_1_Day_0_clusterhESC\" \"DNMT3A_1_Day_8_clusterhESC\" \"DNMT3A_2_Day_0_clusterhESC\" \"DNMT3A_3_Day_0_clusterhESC\" ...\n",
      "  ..$ refined_annotation_majority_vote_id       : chr [1:13] \"hESC\" \"hESC\" \"hESC\" \"hESC\" ...\n",
      "  ..$ cell_count                                : int [1:13] 893 1 98 2277 130 119 242 506 600 715 ...\n",
      "  ..$ Genotype                                  : Ord.factor w/ 4 levels \"wt\"<\"rs62237617\"<..: 3 3 3 3 2 2 2 4 4 4 ...\n",
      "  ..$ clone_line                                : Ord.factor w/ 12 levels \"wt_1\"<\"wt_2\"<..: 7 7 8 9 4 5 6 10 11 12 ...\n",
      "  ..$ time_point                                : Ord.factor w/ 4 levels \"Day_0\"<\"Day_8\"<..: 1 2 1 1 1 1 1 1 1 1 ...\n",
      " $ HemogenicEndothelium:'data.frame':\t16 obs. of  7 variables:\n",
      "  ..$ sample_id                                 : chr [1:16] \"DNMT3A_1_Day_8\" \"DNMT3A_2_Day_8\" \"DNMT3A_3_Day_8\" \"rs62237617_1_Day_8\" ...\n",
      "  ..$ refined_annotation_majority_vote_sample_id: chr [1:16] \"DNMT3A_1_Day_8_clusterHemogenicEndothelium\" \"DNMT3A_2_Day_8_clusterHemogenicEndothelium\" \"DNMT3A_3_Day_8_clusterHemogenicEndothelium\" \"rs62237617_1_Day_8_clusterHemogenicEndothelium\" ...\n",
      "  ..$ refined_annotation_majority_vote_id       : chr [1:16] \"HemogenicEndothelium\" \"HemogenicEndothelium\" \"HemogenicEndothelium\" \"HemogenicEndothelium\" ...\n",
      "  ..$ cell_count                                : int [1:16] 59 9 20 7 2 1 8 7 1 28 ...\n",
      "  ..$ Genotype                                  : Ord.factor w/ 4 levels \"wt\"<\"rs62237617\"<..: 3 3 3 2 2 2 2 2 2 2 ...\n",
      "  ..$ clone_line                                : Ord.factor w/ 12 levels \"wt_1\"<\"wt_2\"<..: 7 8 9 4 5 5 5 6 6 6 ...\n",
      "  ..$ time_point                                : Ord.factor w/ 4 levels \"Day_0\"<\"Day_8\"<..: 2 2 2 2 3 4 2 3 4 2 ...\n",
      " $ MEP                 :'data.frame':\t29 obs. of  7 variables:\n",
      "  ..$ sample_id                                 : chr [1:29] \"DNMT3A_1_Day_12\" \"DNMT3A_1_Day_15\" \"DNMT3A_1_Day_8\" \"DNMT3A_2_Day_12\" ...\n",
      "  ..$ refined_annotation_majority_vote_sample_id: chr [1:29] \"DNMT3A_1_Day_12_clusterMEP\" \"DNMT3A_1_Day_15_clusterMEP\" \"DNMT3A_1_Day_8_clusterMEP\" \"DNMT3A_2_Day_12_clusterMEP\" ...\n",
      "  ..$ refined_annotation_majority_vote_id       : chr [1:29] \"MEP\" \"MEP\" \"MEP\" \"MEP\" ...\n",
      "  ..$ cell_count                                : int [1:29] 43 4 4 6 18 165 18 139 15 2 ...\n",
      "  ..$ Genotype                                  : Ord.factor w/ 4 levels \"wt\"<\"rs62237617\"<..: 3 3 3 3 3 2 2 2 2 2 ...\n",
      "  ..$ clone_line                                : Ord.factor w/ 12 levels \"wt_1\"<\"wt_2\"<..: 7 7 7 8 9 4 4 5 5 5 ...\n",
      "  ..$ time_point                                : Ord.factor w/ 4 levels \"Day_0\"<\"Day_8\"<..: 3 4 2 3 3 3 4 3 4 2 ...\n",
      " $ early erythroid     :'data.frame':\t16 obs. of  7 variables:\n",
      "  ..$ sample_id                                 : chr [1:16] \"DNMT3A_1_Day_12\" \"DNMT3A_2_Day_12\" \"DNMT3A_3_Day_12\" \"rs62237617_1_Day_12\" ...\n",
      "  ..$ refined_annotation_majority_vote_sample_id: chr [1:16] \"DNMT3A_1_Day_12_clusterearly erythroid\" \"DNMT3A_2_Day_12_clusterearly erythroid\" \"DNMT3A_3_Day_12_clusterearly erythroid\" \"rs62237617_1_Day_12_clusterearly erythroid\" ...\n",
      "  ..$ refined_annotation_majority_vote_id       : chr [1:16] \"early erythroid\" \"early erythroid\" \"early erythroid\" \"early erythroid\" ...\n",
      "  ..$ cell_count                                : int [1:16] 12 2 8 57 3 76 1 520 21 144 ...\n",
      "  ..$ Genotype                                  : Ord.factor w/ 4 levels \"wt\"<\"rs62237617\"<..: 3 3 3 2 2 2 2 2 2 4 ...\n",
      "  ..$ clone_line                                : Ord.factor w/ 12 levels \"wt_1\"<\"wt_2\"<..: 7 8 9 4 4 5 5 6 6 10 ...\n",
      "  ..$ time_point                                : Ord.factor w/ 4 levels \"Day_0\"<\"Day_8\"<..: 3 3 3 3 4 3 4 3 4 3 ...\n",
      " $ early MK            :'data.frame':\t9 obs. of  7 variables:\n",
      "  ..$ sample_id                                 : chr [1:9] \"DNMT3A_3_Day_8\" \"rs62237617_1_Day_12\" \"rs62237617_1_Day_15\" \"rs62237617_2_Day_12\" ...\n",
      "  ..$ refined_annotation_majority_vote_sample_id: chr [1:9] \"DNMT3A_3_Day_8_clusterearly MK\" \"rs62237617_1_Day_12_clusterearly MK\" \"rs62237617_1_Day_15_clusterearly MK\" \"rs62237617_2_Day_12_clusterearly MK\" ...\n",
      "  ..$ refined_annotation_majority_vote_id       : chr [1:9] \"early MK\" \"early MK\" \"early MK\" \"early MK\" ...\n",
      "  ..$ cell_count                                : int [1:9] 1 11 1 9 70 5 8 1 2\n",
      "  ..$ Genotype                                  : Ord.factor w/ 4 levels \"wt\"<\"rs62237617\"<..: 3 2 2 2 2 2 4 4 1\n",
      "  ..$ clone_line                                : Ord.factor w/ 12 levels \"wt_1\"<\"wt_2\"<..: 9 4 4 5 6 6 10 12 3\n",
      "  ..$ time_point                                : Ord.factor w/ 4 levels \"Day_0\"<\"Day_8\"<..: 2 3 4 3 3 4 3 3 3\n",
      " $ MK                  :'data.frame':\t30 obs. of  7 variables:\n",
      "  ..$ sample_id                                 : chr [1:30] \"DNMT3A_1_Day_12\" \"DNMT3A_1_Day_15\" \"DNMT3A_1_Day_8\" \"DNMT3A_2_Day_12\" ...\n",
      "  ..$ refined_annotation_majority_vote_sample_id: chr [1:30] \"DNMT3A_1_Day_12_clusterMK\" \"DNMT3A_1_Day_15_clusterMK\" \"DNMT3A_1_Day_8_clusterMK\" \"DNMT3A_2_Day_12_clusterMK\" ...\n",
      "  ..$ refined_annotation_majority_vote_id       : chr [1:30] \"MK\" \"MK\" \"MK\" \"MK\" ...\n",
      "  ..$ cell_count                                : int [1:30] 22 15 4 5 9 6 3 113 93 2 ...\n",
      "  ..$ Genotype                                  : Ord.factor w/ 4 levels \"wt\"<\"rs62237617\"<..: 3 3 3 3 3 3 3 2 2 2 ...\n",
      "  ..$ clone_line                                : Ord.factor w/ 12 levels \"wt_1\"<\"wt_2\"<..: 7 7 7 8 9 9 9 4 4 4 ...\n",
      "  ..$ time_point                                : Ord.factor w/ 4 levels \"Day_0\"<\"Day_8\"<..: 3 4 2 3 3 4 2 3 4 2 ...\n",
      " $ PolyPlo MK          :'data.frame':\t18 obs. of  7 variables:\n",
      "  ..$ sample_id                                 : chr [1:18] \"DNMT3A_1_Day_15\" \"DNMT3A_2_Day_15\" \"DNMT3A_3_Day_15\" \"rs62237617_1_Day_12\" ...\n",
      "  ..$ refined_annotation_majority_vote_sample_id: chr [1:18] \"DNMT3A_1_Day_15_clusterPolyPlo MK\" \"DNMT3A_2_Day_15_clusterPolyPlo MK\" \"DNMT3A_3_Day_15_clusterPolyPlo MK\" \"rs62237617_1_Day_12_clusterPolyPlo MK\" ...\n",
      "  ..$ refined_annotation_majority_vote_id       : chr [1:18] \"PolyPlo MK\" \"PolyPlo MK\" \"PolyPlo MK\" \"PolyPlo MK\" ...\n",
      "  ..$ cell_count                                : int [1:18] 44 3 13 2 270 2 225 21 3270 1 ...\n",
      "  ..$ Genotype                                  : Ord.factor w/ 4 levels \"wt\"<\"rs62237617\"<..: 3 3 3 2 2 2 2 2 2 4 ...\n",
      "  ..$ clone_line                                : Ord.factor w/ 12 levels \"wt_1\"<\"wt_2\"<..: 7 8 9 4 4 5 5 6 6 10 ...\n",
      "  ..$ time_point                                : Ord.factor w/ 4 levels \"Day_0\"<\"Day_8\"<..: 4 4 4 3 4 3 4 3 4 3 ...\n",
      "\n"
     ]
    },
    {
     "data": {
      "text/html": [
       "<style>\n",
       ".list-inline {list-style: none; margin:0; padding: 0}\n",
       ".list-inline>li {display: inline-block}\n",
       ".list-inline>li:not(:last-child)::after {content: \"\\00b7\"; padding: 0 .5ex}\n",
       "</style>\n",
       "<ol class=list-inline><li>'hESC'</li><li>'HemogenicEndothelium'</li><li>'MEP'</li><li>'early erythroid'</li><li>'early MK'</li><li>'MK'</li><li>'PolyPlo MK'</li></ol>\n"
      ],
      "text/latex": [
       "\\begin{enumerate*}\n",
       "\\item 'hESC'\n",
       "\\item 'HemogenicEndothelium'\n",
       "\\item 'MEP'\n",
       "\\item 'early erythroid'\n",
       "\\item 'early MK'\n",
       "\\item 'MK'\n",
       "\\item 'PolyPlo MK'\n",
       "\\end{enumerate*}\n"
      ],
      "text/markdown": [
       "1. 'hESC'\n",
       "2. 'HemogenicEndothelium'\n",
       "3. 'MEP'\n",
       "4. 'early erythroid'\n",
       "5. 'early MK'\n",
       "6. 'MK'\n",
       "7. 'PolyPlo MK'\n",
       "\n",
       "\n"
      ],
      "text/plain": [
       "[1] \"hESC\"                 \"HemogenicEndothelium\" \"MEP\"                 \n",
       "[4] \"early erythroid\"      \"early MK\"             \"MK\"                  \n",
       "[7] \"PolyPlo MK\"          "
      ]
     },
     "metadata": {},
     "output_type": "display_data"
    },
    {
     "name": "stdout",
     "output_type": "stream",
     "text": [
      "\n"
     ]
    },
    {
     "data": {
      "text/html": [
       "<style>\n",
       ".list-inline {list-style: none; margin:0; padding: 0}\n",
       ".list-inline>li {display: inline-block}\n",
       ".list-inline>li:not(:last-child)::after {content: \"\\00b7\"; padding: 0 .5ex}\n",
       "</style>\n",
       "<ol class=list-inline><li>'hESC'</li><li>'HemogenicEndothelium'</li><li>'MEP'</li><li>'early erythroid'</li><li>'early MK'</li><li>'MK'</li><li>'PolyPlo MK'</li></ol>\n"
      ],
      "text/latex": [
       "\\begin{enumerate*}\n",
       "\\item 'hESC'\n",
       "\\item 'HemogenicEndothelium'\n",
       "\\item 'MEP'\n",
       "\\item 'early erythroid'\n",
       "\\item 'early MK'\n",
       "\\item 'MK'\n",
       "\\item 'PolyPlo MK'\n",
       "\\end{enumerate*}\n"
      ],
      "text/markdown": [
       "1. 'hESC'\n",
       "2. 'HemogenicEndothelium'\n",
       "3. 'MEP'\n",
       "4. 'early erythroid'\n",
       "5. 'early MK'\n",
       "6. 'MK'\n",
       "7. 'PolyPlo MK'\n",
       "\n",
       "\n"
      ],
      "text/plain": [
       "[1] \"hESC\"                 \"HemogenicEndothelium\" \"MEP\"                 \n",
       "[4] \"early erythroid\"      \"early MK\"             \"MK\"                  \n",
       "[7] \"PolyPlo MK\"          "
      ]
     },
     "metadata": {},
     "output_type": "display_data"
    },
    {
     "name": "stdout",
     "output_type": "stream",
     "text": [
      "\n"
     ]
    }
   ],
   "source": [
    " # Explore the different components of the list\n",
    "  \n",
    "  #cat(\"metadata_ls_0\\n\")\n",
    "  #cat(str(metadata_ls))\n",
    "  #cat(\"\\n\")\n",
    "\n",
    "names(metadata_ls)<-names(counts_ls)\n",
    "\n",
    "  cat(\"metadata_ls_0\\n\")\n",
    "  cat(str(metadata_ls))\n",
    "  cat(\"\\n\")\n",
    "\n",
    "names(metadata_ls)\n",
    "cat(\"\\n\")\n",
    "\n",
    "names(counts_ls)\n",
    "cat(\"\\n\")\n",
    "\n",
    "# List of df. Each index is a cell type. Each df per index has the combination of current anot (cell type) and sample_id (time_point and clone line), the cell count of each of this triple combination together with the accesory column of GFPbc, GFPgenotype and time_point"
   ]
  },
  {
   "cell_type": "markdown",
   "id": "e1b4afcc-718b-4e64-9a4d-ab9dee11776f",
   "metadata": {},
   "source": [
    "## Double-check that both lists have same names"
   ]
  },
  {
   "cell_type": "code",
   "execution_count": 224,
   "id": "59a28ca1-eb61-4afe-8641-747458d06997",
   "metadata": {
    "execution": {
     "iopub.execute_input": "2025-02-26T16:32:15.650621Z",
     "iopub.status.busy": "2025-02-26T16:32:15.649378Z",
     "iopub.status.idle": "2025-02-26T16:32:15.667728Z",
     "shell.execute_reply": "2025-02-26T16:32:15.666402Z"
    }
   },
   "outputs": [
    {
     "name": "stdout",
     "output_type": "stream",
     "text": [
      "check_1\n",
      "TRUE\n"
     ]
    }
   ],
   "source": [
    "# Double-check that both lists have same names\n",
    "  check_1<-all(names(counts_ls) == names(metadata_ls))\n",
    "  \n",
    "  cat(\"check_1\\n\")\n",
    "  cat(sprintf(as.character(check_1)))\n",
    "  cat(\"\\n\")"
   ]
  },
  {
   "cell_type": "markdown",
   "id": "77dfba7d-bbce-407a-bed1-29ee3665016f",
   "metadata": {},
   "source": [
    "## Subset hESC Day 0"
   ]
  },
  {
   "cell_type": "markdown",
   "id": "d0497486-e205-42e1-91b4-9f364bcde5e7",
   "metadata": {},
   "source": [
    "### Define cell_type_sel and time_point_sel"
   ]
  },
  {
   "cell_type": "code",
   "execution_count": 225,
   "id": "2f8d00bd-19f2-4499-9e16-9aa221007d2a",
   "metadata": {
    "execution": {
     "iopub.execute_input": "2025-02-26T16:32:17.338480Z",
     "iopub.status.busy": "2025-02-26T16:32:17.337164Z",
     "iopub.status.idle": "2025-02-26T16:32:17.349800Z",
     "shell.execute_reply": "2025-02-26T16:32:17.348405Z"
    }
   },
   "outputs": [],
   "source": [
    "cell_type_sel<-'hESC'\n",
    "\n",
    "time_point_sel<-'Day_0'\n"
   ]
  },
  {
   "cell_type": "markdown",
   "id": "2088acc1-1259-4626-b791-d0d5f4b4883a",
   "metadata": {},
   "source": [
    "### Subset the metadata list"
   ]
  },
  {
   "cell_type": "code",
   "execution_count": 226,
   "id": "474fae89-66b8-4be5-8ceb-0b67a7e1afee",
   "metadata": {
    "execution": {
     "iopub.execute_input": "2025-02-26T16:32:18.554201Z",
     "iopub.status.busy": "2025-02-26T16:32:18.552912Z",
     "iopub.status.idle": "2025-02-26T16:32:18.570147Z",
     "shell.execute_reply": "2025-02-26T16:32:18.568742Z"
    }
   },
   "outputs": [
    {
     "name": "stdout",
     "output_type": "stream",
     "text": [
      "'data.frame':\t13 obs. of  7 variables:\n",
      " $ sample_id                                 : chr  \"DNMT3A_1_Day_0\" \"DNMT3A_1_Day_8\" \"DNMT3A_2_Day_0\" \"DNMT3A_3_Day_0\" ...\n",
      " $ refined_annotation_majority_vote_sample_id: chr  \"DNMT3A_1_Day_0_clusterhESC\" \"DNMT3A_1_Day_8_clusterhESC\" \"DNMT3A_2_Day_0_clusterhESC\" \"DNMT3A_3_Day_0_clusterhESC\" ...\n",
      " $ refined_annotation_majority_vote_id       : chr  \"hESC\" \"hESC\" \"hESC\" \"hESC\" ...\n",
      " $ cell_count                                : int  893 1 98 2277 130 119 242 506 600 715 ...\n",
      " $ Genotype                                  : Ord.factor w/ 4 levels \"wt\"<\"rs62237617\"<..: 3 3 3 3 2 2 2 4 4 4 ...\n",
      " $ clone_line                                : Ord.factor w/ 12 levels \"wt_1\"<\"wt_2\"<..: 7 7 8 9 4 5 6 10 11 12 ...\n",
      " $ time_point                                : Ord.factor w/ 4 levels \"Day_0\"<\"Day_8\"<..: 1 2 1 1 1 1 1 1 1 1 ...\n"
     ]
    }
   ],
   "source": [
    "metadata_df<-metadata_ls[[cell_type_sel]]\n",
    "\n",
    "str(metadata_df)"
   ]
  },
  {
   "cell_type": "code",
   "execution_count": 227,
   "id": "7c898fed-9b06-43e6-a6ee-59b4d1b693c2",
   "metadata": {
    "execution": {
     "iopub.execute_input": "2025-02-26T16:32:18.814780Z",
     "iopub.status.busy": "2025-02-26T16:32:18.813496Z",
     "iopub.status.idle": "2025-02-26T16:32:18.830909Z",
     "shell.execute_reply": "2025-02-26T16:32:18.829535Z"
    }
   },
   "outputs": [
    {
     "name": "stdout",
     "output_type": "stream",
     "text": [
      "'data.frame':\t12 obs. of  7 variables:\n",
      " $ sample_id                                 : chr  \"DNMT3A_1_Day_0\" \"DNMT3A_2_Day_0\" \"DNMT3A_3_Day_0\" \"rs62237617_1_Day_0\" ...\n",
      " $ refined_annotation_majority_vote_sample_id: chr  \"DNMT3A_1_Day_0_clusterhESC\" \"DNMT3A_2_Day_0_clusterhESC\" \"DNMT3A_3_Day_0_clusterhESC\" \"rs62237617_1_Day_0_clusterhESC\" ...\n",
      " $ refined_annotation_majority_vote_id       : chr  \"hESC\" \"hESC\" \"hESC\" \"hESC\" ...\n",
      " $ cell_count                                : int  893 98 2277 130 119 242 506 600 715 60 ...\n",
      " $ Genotype                                  : Ord.factor w/ 4 levels \"wt\"<\"rs62237617\"<..: 3 3 3 2 2 2 4 4 4 1 ...\n",
      " $ clone_line                                : Ord.factor w/ 12 levels \"wt_1\"<\"wt_2\"<..: 7 8 9 4 5 6 10 11 12 1 ...\n",
      " $ time_point                                : Ord.factor w/ 1 level \"Day_0\": 1 1 1 1 1 1 1 1 1 1 ...\n"
     ]
    }
   ],
   "source": [
    "metadata_df_time_point<-droplevels(metadata_df[which(metadata_df$time_point == time_point_sel),])\n",
    "str(metadata_df_time_point)"
   ]
  },
  {
   "cell_type": "markdown",
   "id": "67d9a459-889a-4ee6-8a3b-5e59bae5e7e7",
   "metadata": {},
   "source": [
    "### Subset the counts list"
   ]
  },
  {
   "cell_type": "code",
   "execution_count": 228,
   "id": "92248414-b4fa-42a0-8f98-0468c9803209",
   "metadata": {
    "execution": {
     "iopub.execute_input": "2025-02-26T16:32:19.354714Z",
     "iopub.status.busy": "2025-02-26T16:32:19.353395Z",
     "iopub.status.idle": "2025-02-26T16:32:19.374277Z",
     "shell.execute_reply": "2025-02-26T16:32:19.372760Z"
    }
   },
   "outputs": [
    {
     "name": "stdout",
     "output_type": "stream",
     "text": [
      "Formal class 'DGEList' [package \"edgeR\"] with 1 slot\n",
      "  ..@ .Data:List of 3\n",
      "  .. ..$ : num [1:306646, 1:13] 1 18 4 12 804 ...\n",
      "  .. .. ..- attr(*, \"dimnames\")=List of 2\n",
      "  .. .. .. ..$ : chr [1:306646] \"chr1-10052-10333\" \"chr1-180682-181613\" \"chr1-191201-191943\" \"chr1-267869-268076\" ...\n",
      "  .. .. .. ..$ : chr [1:13] \"DNMT3A_1_Day_0_clusterhESC\" \"DNMT3A_1_Day_8_clusterhESC\" \"DNMT3A_2_Day_0_clusterhESC\" \"DNMT3A_3_Day_0_clusterhESC\" ...\n",
      "  .. ..$ :'data.frame':\t13 obs. of  5 variables:\n",
      "  .. .. ..$ group       : Factor w/ 1 level \"1\": 1 1 1 1 1 1 1 1 1 1 ...\n",
      "  .. .. ..$ lib.size    : num [1:13] 8819653 38255 880913 22504396 1027725 ...\n",
      "  .. .. ..$ norm.factors: num [1:13] 1 1 1 1 1 1 1 1 1 1 ...\n",
      "  .. .. ..$ sample      : chr [1:13] \"DNMT3A_1_Day_0\" \"DNMT3A_1_Day_8\" \"DNMT3A_2_Day_0\" \"DNMT3A_3_Day_0\" ...\n",
      "  .. .. ..$ cluster     : chr [1:13] \"hESC\" \"hESC\" \"hESC\" \"hESC\" ...\n",
      "  .. ..$ :'data.frame':\t306646 obs. of  1 variable:\n",
      "  .. .. ..$ gene: chr [1:306646] \"chr1-10052-10333\" \"chr1-180682-181613\" \"chr1-191201-191943\" \"chr1-267869-268076\" ...\n",
      "  ..$ names: chr [1:3] \"counts\" \"samples\" \"genes\"\n"
     ]
    }
   ],
   "source": [
    "counts_ls_subset<-counts_ls[[cell_type_sel]]\n",
    "\n",
    "str(counts_ls_subset)"
   ]
  },
  {
   "cell_type": "code",
   "execution_count": 229,
   "id": "226c2e0e-8a42-4ef0-9ffb-cf9d552dacc8",
   "metadata": {
    "execution": {
     "iopub.execute_input": "2025-02-26T16:32:19.554427Z",
     "iopub.status.busy": "2025-02-26T16:32:19.553138Z",
     "iopub.status.idle": "2025-02-26T16:32:19.592446Z",
     "shell.execute_reply": "2025-02-26T16:32:19.590992Z"
    }
   },
   "outputs": [
    {
     "name": "stdout",
     "output_type": "stream",
     "text": [
      "Formal class 'DGEList' [package \"edgeR\"] with 1 slot\n",
      "  ..@ .Data:List of 3\n",
      "  .. ..$ : num [1:306646, 1:12] 1 18 4 12 804 ...\n",
      "  .. .. ..- attr(*, \"dimnames\")=List of 2\n",
      "  .. .. .. ..$ : chr [1:306646] \"chr1-10052-10333\" \"chr1-180682-181613\" \"chr1-191201-191943\" \"chr1-267869-268076\" ...\n",
      "  .. .. .. ..$ : chr [1:12] \"DNMT3A_1_Day_0_clusterhESC\" \"DNMT3A_2_Day_0_clusterhESC\" \"DNMT3A_3_Day_0_clusterhESC\" \"rs62237617_1_Day_0_clusterhESC\" ...\n",
      "  .. ..$ :'data.frame':\t12 obs. of  5 variables:\n",
      "  .. .. ..$ group       : Factor w/ 1 level \"1\": 1 1 1 1 1 1 1 1 1 1 ...\n",
      "  .. .. ..$ lib.size    : num [1:12] 8819653 880913 22504396 1027725 951522 ...\n",
      "  .. .. ..$ norm.factors: num [1:12] 1 1 1 1 1 1 1 1 1 1 ...\n",
      "  .. .. ..$ sample      : chr [1:12] \"DNMT3A_1_Day_0\" \"DNMT3A_2_Day_0\" \"DNMT3A_3_Day_0\" \"rs62237617_1_Day_0\" ...\n",
      "  .. .. ..$ cluster     : chr [1:12] \"hESC\" \"hESC\" \"hESC\" \"hESC\" ...\n",
      "  .. ..$ :'data.frame':\t306646 obs. of  1 variable:\n",
      "  .. .. ..$ gene: chr [1:306646] \"chr1-10052-10333\" \"chr1-180682-181613\" \"chr1-191201-191943\" \"chr1-267869-268076\" ...\n",
      "  ..$ names: chr [1:3] \"counts\" \"samples\" \"genes\"\n"
     ]
    }
   ],
   "source": [
    "counts_ls_subset_time_point<-counts_ls_subset[,which(colnames(counts_ls_subset)%in%metadata_df_time_point$refined_annotation_majority_vote_sample_id)]\n",
    "\n",
    "str(counts_ls_subset_time_point)"
   ]
  },
  {
   "cell_type": "markdown",
   "id": "5cbb247e-53fa-47b3-aa6e-478600e9cc78",
   "metadata": {},
   "source": [
    "### Ref factor genotype"
   ]
  },
  {
   "cell_type": "code",
   "execution_count": 230,
   "id": "664bb652-7b40-4db8-bae6-a802669950ac",
   "metadata": {
    "execution": {
     "iopub.execute_input": "2025-02-26T16:32:20.173942Z",
     "iopub.status.busy": "2025-02-26T16:32:20.172657Z",
     "iopub.status.idle": "2025-02-26T16:32:20.192854Z",
     "shell.execute_reply": "2025-02-26T16:32:20.191488Z"
    }
   },
   "outputs": [
    {
     "name": "stdout",
     "output_type": "stream",
     "text": [
      "'data.frame':\t12 obs. of  7 variables:\n",
      " $ sample_id                                 : chr  \"DNMT3A_1_Day_0\" \"DNMT3A_2_Day_0\" \"DNMT3A_3_Day_0\" \"rs62237617_1_Day_0\" ...\n",
      " $ refined_annotation_majority_vote_sample_id: chr  \"DNMT3A_1_Day_0_clusterhESC\" \"DNMT3A_2_Day_0_clusterhESC\" \"DNMT3A_3_Day_0_clusterhESC\" \"rs62237617_1_Day_0_clusterhESC\" ...\n",
      " $ refined_annotation_majority_vote_id       : chr  \"hESC\" \"hESC\" \"hESC\" \"hESC\" ...\n",
      " $ cell_count                                : int  893 98 2277 130 119 242 506 600 715 60 ...\n",
      " $ Genotype                                  : Factor w/ 4 levels \"wt\",\"DNMT3A\",..: 2 2 2 3 3 3 4 4 4 1 ...\n",
      " $ clone_line                                : Ord.factor w/ 12 levels \"wt_1\"<\"wt_2\"<..: 7 8 9 4 5 6 10 11 12 1 ...\n",
      " $ time_point                                : Ord.factor w/ 1 level \"Day_0\": 1 1 1 1 1 1 1 1 1 1 ...\n"
     ]
    }
   ],
   "source": [
    "metadata_df_time_point$Genotype<-as.character(metadata_df_time_point$Genotype)\n",
    "metadata_df_time_point$Genotype<-factor(metadata_df_time_point$Genotype)\n",
    "metadata_df_time_point$Genotype<-relevel(metadata_df_time_point$Genotype, ref='wt') ### Nothing works with ordered factors\n",
    "\n",
    "str(metadata_df_time_point)\n"
   ]
  },
  {
   "cell_type": "markdown",
   "id": "c7e78dc2-42f4-4c1f-9f04-c641ddd7bad5",
   "metadata": {},
   "source": [
    "### check"
   ]
  },
  {
   "cell_type": "code",
   "execution_count": 231,
   "id": "be0f0e34-b41f-4446-a52f-9adf68f66a45",
   "metadata": {
    "execution": {
     "iopub.execute_input": "2025-02-26T16:32:20.830916Z",
     "iopub.status.busy": "2025-02-26T16:32:20.829630Z",
     "iopub.status.idle": "2025-02-26T16:32:20.841709Z",
     "shell.execute_reply": "2025-02-26T16:32:20.840351Z"
    }
   },
   "outputs": [
    {
     "name": "stdout",
     "output_type": "stream",
     "text": [
      " chr [1:12] \"DNMT3A_1_Day_0_clusterhESC\" \"DNMT3A_2_Day_0_clusterhESC\" ...\n"
     ]
    }
   ],
   "source": [
    "str(colnames(counts_ls_subset_time_point))"
   ]
  },
  {
   "cell_type": "code",
   "execution_count": 232,
   "id": "d48affaf-43aa-4f1e-8165-5cca1a014043",
   "metadata": {
    "execution": {
     "iopub.execute_input": "2025-02-26T16:32:21.113757Z",
     "iopub.status.busy": "2025-02-26T16:32:21.112600Z",
     "iopub.status.idle": "2025-02-26T16:32:21.123599Z",
     "shell.execute_reply": "2025-02-26T16:32:21.122250Z"
    }
   },
   "outputs": [
    {
     "name": "stdout",
     "output_type": "stream",
     "text": [
      " chr [1:12] \"1\" \"3\" \"4\" \"5\" \"6\" \"7\" \"8\" \"9\" \"10\" \"11\" \"12\" \"13\"\n"
     ]
    }
   ],
   "source": [
    "str(row.names(metadata_df_time_point))"
   ]
  },
  {
   "cell_type": "code",
   "execution_count": 233,
   "id": "8a8076cf-697f-415b-af3a-94ffad5af447",
   "metadata": {
    "execution": {
     "iopub.execute_input": "2025-02-26T16:32:21.440503Z",
     "iopub.status.busy": "2025-02-26T16:32:21.439244Z",
     "iopub.status.idle": "2025-02-26T16:32:21.449384Z",
     "shell.execute_reply": "2025-02-26T16:32:21.448080Z"
    }
   },
   "outputs": [],
   "source": [
    "row.names(metadata_df_time_point)<-metadata_df_time_point$refined_annotation_majority_vote_sample_id"
   ]
  },
  {
   "cell_type": "code",
   "execution_count": 234,
   "id": "5ca60d09-cfe3-437d-808d-9d65bbfe6af0",
   "metadata": {
    "execution": {
     "iopub.execute_input": "2025-02-26T16:32:21.728496Z",
     "iopub.status.busy": "2025-02-26T16:32:21.727237Z",
     "iopub.status.idle": "2025-02-26T16:32:21.751308Z",
     "shell.execute_reply": "2025-02-26T16:32:21.749961Z"
    }
   },
   "outputs": [
    {
     "name": "stdout",
     "output_type": "stream",
     "text": [
      "check_2\n",
      "TRUE\n",
      "DNMT3A_1_Day_0_clusterhESC DNMT3A_2_Day_0_clusterhESC DNMT3A_3_Day_0_clusterhESC rs62237617_1_Day_0_clusterhESC rs62237617_2_Day_0_clusterhESC rs62237617_3_Day_0_clusterhESC rs62237617_DNMT3A_1_Day_0_clusterhESC rs62237617_DNMT3A_2_Day_0_clusterhESC rs62237617_DNMT3A_3_Day_0_clusterhESC wt_1_Day_0_clusterhESC wt_2_Day_0_clusterhESC wt_3_Day_0_clusterhESC\n"
     ]
    }
   ],
   "source": [
    "check_2<-all(colnames(counts_ls_subset_time_point) == rownames(metadata_df_time_point))\n",
    "\n",
    "    \n",
    "cat(\"check_2\\n\")\n",
    "cat(sprintf(as.character(check_2)))\n",
    "cat(\"\\n\")\n",
    "cat(sprintf(as.character(rownames(metadata_df_time_point))))\n",
    "cat(\"\\n\")\n",
    "    "
   ]
  },
  {
   "cell_type": "markdown",
   "id": "78e5bda7-a87b-446c-9329-9d50b862e057",
   "metadata": {},
   "source": [
    "### DESeq2 model"
   ]
  },
  {
   "cell_type": "markdown",
   "id": "3d0d36e4-d5bd-4a25-a963-11e6e01b8e7e",
   "metadata": {},
   "source": [
    "#### DESeqDataSetFromMatrix"
   ]
  },
  {
   "cell_type": "code",
   "execution_count": 235,
   "id": "b3dbadd4-719c-42de-a3b8-69749748892b",
   "metadata": {
    "execution": {
     "iopub.execute_input": "2025-02-26T16:32:23.625984Z",
     "iopub.status.busy": "2025-02-26T16:32:23.624709Z",
     "iopub.status.idle": "2025-02-26T16:32:24.076095Z",
     "shell.execute_reply": "2025-02-26T16:32:24.074580Z"
    }
   },
   "outputs": [
    {
     "name": "stderr",
     "output_type": "stream",
     "text": [
      "converting counts to integer mode\n",
      "\n"
     ]
    }
   ],
   "source": [
    "dds_NEW <- DESeqDataSetFromMatrix(counts_ls_subset_time_point, \n",
    "                                  colData = metadata_df_time_point, \n",
    "                                  design = ~ Genotype)"
   ]
  },
  {
   "cell_type": "markdown",
   "id": "bba06b07-364b-41bc-a24e-0a9a062ae125",
   "metadata": {},
   "source": [
    "#### estimateSizeFactors ----------------------------------"
   ]
  },
  {
   "cell_type": "code",
   "execution_count": 236,
   "id": "efb44267-896b-4073-9fd9-1123ecb6d4ab",
   "metadata": {
    "execution": {
     "iopub.execute_input": "2025-02-26T16:32:24.623724Z",
     "iopub.status.busy": "2025-02-26T16:32:24.622519Z",
     "iopub.status.idle": "2025-02-26T16:32:25.491529Z",
     "shell.execute_reply": "2025-02-26T16:32:25.490106Z"
    }
   },
   "outputs": [],
   "source": [
    "dds_NEW<-estimateSizeFactors(dds_NEW)"
   ]
  },
  {
   "cell_type": "markdown",
   "id": "b300e656-d2b7-4413-8db2-a3f1886c2250",
   "metadata": {},
   "source": [
    "#### Filter out low count peaks"
   ]
  },
  {
   "cell_type": "code",
   "execution_count": 237,
   "id": "af571f5d-65fe-48b5-bee6-c47180a60b43",
   "metadata": {
    "execution": {
     "iopub.execute_input": "2025-02-26T16:32:34.631185Z",
     "iopub.status.busy": "2025-02-26T16:32:34.629957Z",
     "iopub.status.idle": "2025-02-26T16:32:34.737084Z",
     "shell.execute_reply": "2025-02-26T16:32:34.735542Z"
    }
   },
   "outputs": [],
   "source": [
    "idx <- rowSums( counts(dds_NEW, normalized=TRUE) >= 10 ) >= 12\n"
   ]
  },
  {
   "cell_type": "code",
   "execution_count": 238,
   "id": "ec569c87-20d0-4c21-a7aa-cc00bc5fca51",
   "metadata": {
    "execution": {
     "iopub.execute_input": "2025-02-26T16:32:35.451123Z",
     "iopub.status.busy": "2025-02-26T16:32:35.449892Z",
     "iopub.status.idle": "2025-02-26T16:32:35.482144Z",
     "shell.execute_reply": "2025-02-26T16:32:35.480730Z"
    }
   },
   "outputs": [],
   "source": [
    "dds_NEW <- dds_NEW[idx,]\n"
   ]
  },
  {
   "cell_type": "markdown",
   "id": "dd16b9ed-fac3-445b-8320-f63292d277ce",
   "metadata": {},
   "source": [
    "##### LRT comparing to the reduced model"
   ]
  },
  {
   "cell_type": "code",
   "execution_count": 239,
   "id": "450689c5-f250-4f32-b005-a1eac15e106a",
   "metadata": {
    "execution": {
     "iopub.execute_input": "2025-02-26T16:32:36.201279Z",
     "iopub.status.busy": "2025-02-26T16:32:36.200070Z",
     "iopub.status.idle": "2025-02-26T16:32:47.741185Z",
     "shell.execute_reply": "2025-02-26T16:32:47.739767Z"
    }
   },
   "outputs": [
    {
     "name": "stderr",
     "output_type": "stream",
     "text": [
      "using pre-existing size factors\n",
      "\n",
      "estimating dispersions\n",
      "\n",
      "gene-wise dispersion estimates\n",
      "\n",
      "mean-dispersion relationship\n",
      "\n",
      "final dispersion estimates\n",
      "\n",
      "fitting model and testing\n",
      "\n"
     ]
    }
   ],
   "source": [
    "dds_NEW_lrt <- DESeq(dds_NEW, test = \"LRT\", reduced = ~ 1)"
   ]
  },
  {
   "cell_type": "markdown",
   "id": "ff00e138-25fc-49d8-9792-bc0312298779",
   "metadata": {},
   "source": [
    "#### Wald test to extract specific contrasts"
   ]
  },
  {
   "cell_type": "code",
   "execution_count": 240,
   "id": "551e3154-23c7-40e0-85c6-e548327d9c7f",
   "metadata": {
    "execution": {
     "iopub.execute_input": "2025-02-26T16:32:50.109264Z",
     "iopub.status.busy": "2025-02-26T16:32:50.108072Z",
     "iopub.status.idle": "2025-02-26T16:32:50.120728Z",
     "shell.execute_reply": "2025-02-26T16:32:50.119450Z"
    }
   },
   "outputs": [
    {
     "name": "stdout",
     "output_type": "stream",
     "text": [
      "'data.frame':\t0 obs. of  0 variables\n"
     ]
    }
   ],
   "source": [
    "Results_per_comparison_within_cell_type<-data.frame()\n",
    "\n",
    "\n",
    "str(Results_per_comparison_within_cell_type)"
   ]
  },
  {
   "cell_type": "code",
   "execution_count": 241,
   "id": "4aaa4d61-3aa7-438a-8f65-cf89d373aa1a",
   "metadata": {
    "execution": {
     "iopub.execute_input": "2025-02-26T16:32:51.556706Z",
     "iopub.status.busy": "2025-02-26T16:32:51.555540Z",
     "iopub.status.idle": "2025-02-26T16:34:00.041895Z",
     "shell.execute_reply": "2025-02-26T16:34:00.040140Z"
    }
   },
   "outputs": [
    {
     "name": "stdout",
     "output_type": "stream",
     "text": [
      "------------------------------------->\tGenotype_DNMT3A_vs_wt\n"
     ]
    },
    {
     "name": "stderr",
     "output_type": "stream",
     "text": [
      "using 'apeglm' for LFC shrinkage. If used in published research, please cite:\n",
      "    Zhu, A., Ibrahim, J.G., Love, M.I. (2018) Heavy-tailed prior distributions for\n",
      "    sequence count data: removing the noise and preserving large differences.\n",
      "    Bioinformatics. https://doi.org/10.1093/bioinformatics/bty895\n",
      "\n",
      "Warning message in nbinomGLM(x = x, Y = YNZ, size = size, weights = weightsNZ, offset = offsetNZ, :\n",
      "“the line search routine failed, unable to sufficiently decrease the function value”\n"
     ]
    },
    {
     "name": "stdout",
     "output_type": "stream",
     "text": [
      "------------------------------------->\tGenotype_rs62237617_vs_wt\n"
     ]
    },
    {
     "name": "stderr",
     "output_type": "stream",
     "text": [
      "using 'apeglm' for LFC shrinkage. If used in published research, please cite:\n",
      "    Zhu, A., Ibrahim, J.G., Love, M.I. (2018) Heavy-tailed prior distributions for\n",
      "    sequence count data: removing the noise and preserving large differences.\n",
      "    Bioinformatics. https://doi.org/10.1093/bioinformatics/bty895\n",
      "\n",
      "Warning message in nbinomGLM(x = x, Y = YNZ, size = size, weights = weightsNZ, offset = offsetNZ, :\n",
      "“the line search routine failed, unable to sufficiently decrease the function value”\n",
      "Warning message in nbinomGLM(x = x, Y = YNZ, size = size, weights = weightsNZ, offset = offsetNZ, :\n",
      "“the line search routine failed, unable to sufficiently decrease the function value”\n"
     ]
    },
    {
     "name": "stdout",
     "output_type": "stream",
     "text": [
      "------------------------------------->\tGenotype_rs62237617_DNMT3A_vs_wt\n"
     ]
    },
    {
     "name": "stderr",
     "output_type": "stream",
     "text": [
      "using 'apeglm' for LFC shrinkage. If used in published research, please cite:\n",
      "    Zhu, A., Ibrahim, J.G., Love, M.I. (2018) Heavy-tailed prior distributions for\n",
      "    sequence count data: removing the noise and preserving large differences.\n",
      "    Bioinformatics. https://doi.org/10.1093/bioinformatics/bty895\n",
      "\n"
     ]
    }
   ],
   "source": [
    "possible_contrasts<-colnames(dds_NEW_lrt@modelMatrix)[-1] # -1 because 1 is the Intercept term\n",
    "\n",
    "for(iteration_contrasts in 1:length(possible_contrasts)){\n",
    "\n",
    "    contrast_sel<-possible_contrasts[iteration_contrasts]\n",
    "\n",
    "    cat(\"------------------------------------->\\t\")\n",
    "    cat(sprintf(as.character(contrast_sel)))\n",
    "    cat(\"\\n\")\n",
    "    \n",
    "\n",
    "    ############ obtain the result for this contrast with its specific pvalue coming from Wald test see ?results\n",
    "\n",
    "    tmp_results<-results(dds_NEW_lrt, test= \"Wald\", name=contrast_sel, independentFiltering=FALSE)\n",
    "\n",
    "    #### expand LogFC #########################################\n",
    "\n",
    "    tmp_results <- lfcShrink(dds_NEW_lrt, \n",
    "                                 coef = contrast_sel,\n",
    "                                 res=tmp_results,\n",
    "                                 type = \"apeglm\")\n",
    "\n",
    "\n",
    "      #### obtain data frame #########################################\n",
    "\n",
    "      tmp_tb <- as.data.frame(tmp_results %>%\n",
    "                  data.frame() %>%\n",
    "                  rownames_to_column(var = \"Peak_ID\") %>%\n",
    "                  as_tibble() %>%\n",
    "                  arrange(padj), stringsAsFactors=F)\n",
    "                \n",
    "\n",
    "    tmp_tb$contrast<-contrast_sel\n",
    "\n",
    "\n",
    "    Results_per_comparison_within_cell_type<-rbind(tmp_tb,Results_per_comparison_within_cell_type)\n",
    "\n",
    "\n",
    "\n",
    "    }#iteration_contrasts in 1:length(possible_contrasts)\n",
    "\n",
    "\n",
    "Results_per_comparison_within_cell_type$cell_type<-cell_type_sel\n"
   ]
  },
  {
   "cell_type": "markdown",
   "id": "06af2cd5-508c-485e-b1fe-dd7e8a74fd03",
   "metadata": {},
   "source": [
    "#### Extract normalized counts to plot heatmaps later ----------------------------------------"
   ]
  },
  {
   "cell_type": "code",
   "execution_count": 242,
   "id": "61f3da1e-204f-4135-b2cc-109ef9d32b15",
   "metadata": {
    "execution": {
     "iopub.execute_input": "2025-02-26T16:34:35.239347Z",
     "iopub.status.busy": "2025-02-26T16:34:35.238199Z",
     "iopub.status.idle": "2025-02-26T16:34:35.637956Z",
     "shell.execute_reply": "2025-02-26T16:34:35.636624Z"
    }
   },
   "outputs": [
    {
     "name": "stdout",
     "output_type": "stream",
     "text": [
      "nor_counts_0\n",
      "'data.frame':\t25740 obs. of  13 variables:\n",
      " $ DNMT3A_1_Day_0_clusterhESC           : num  208.3 1206.3 53.4 24.1 26.7 ...\n",
      " $ DNMT3A_2_Day_0_clusterhESC           : num  284.9 1344.2 69.9 10.4 15.5 ...\n",
      " $ DNMT3A_3_Day_0_clusterhESC           : num  223.9 1198.1 53.3 23.4 27.1 ...\n",
      " $ rs62237617_1_Day_0_clusterhESC       : num  239.6 1254.1 60.5 24.6 17.9 ...\n",
      " $ rs62237617_2_Day_0_clusterhESC       : num  198.3 1211.6 48.4 36.3 19.3 ...\n",
      " $ rs62237617_3_Day_0_clusterhESC       : num  269 1268.1 79.3 20.4 32.4 ...\n",
      " $ rs62237617_DNMT3A_1_Day_0_clusterhESC: num  236.5 1195.5 53.9 24.4 32.4 ...\n",
      " $ rs62237617_DNMT3A_2_Day_0_clusterhESC: num  219.2 1180.3 63.9 24.3 31.1 ...\n",
      " $ rs62237617_DNMT3A_3_Day_0_clusterhESC: num  233 1186 64.3 26.7 28.7 ...\n",
      " $ wt_1_Day_0_clusterhESC               : num  174 1039.6 55.2 12.7 29.7 ...\n",
      " $ wt_2_Day_0_clusterhESC               : num  305.3 1266 60.7 25.4 25.4 ...\n",
      " $ wt_3_Day_0_clusterhESC               : num  228.9 1005.3 68.1 18.6 21.7 ...\n",
      " $ gene                                 : chr  \"chr1-629782-630038\" \"chr1-633775-634127\" \"chr1-778261-779284\" \"chr1-826625-827692\" ...\n",
      "\n"
     ]
    },
    {
     "name": "stderr",
     "output_type": "stream",
     "text": [
      "Warning message in melt(nor_counts, id.vars = \"gene\", variable.name = \"sample_id_seurat_cell_type_id\", :\n",
      "“The melt generic in data.table has been passed a data.frame and will attempt to redirect to the relevant reshape2 method; please note that reshape2 is deprecated, and this redirection is now deprecated as well. To continue using melt methods from reshape2 while both libraries are attached, e.g. melt.list, you can prepend the namespace like reshape2::melt(nor_counts). In the next version, this warning will become an error.”\n"
     ]
    },
    {
     "name": "stdout",
     "output_type": "stream",
     "text": [
      "nor_counts.m_0\n",
      "'data.frame':\t308880 obs. of  5 variables:\n",
      " $ Peak_ID   : chr  \"chr1-629782-630038\" \"chr1-633775-634127\" \"chr1-778261-779284\" \"chr1-826625-827692\" ...\n",
      " $ count     : num  208.3 1206.3 53.4 24.1 26.7 ...\n",
      " $ cell_type : chr  \"hESC\" \"hESC\" \"hESC\" \"hESC\" ...\n",
      " $ clone_line: chr  \"DNMT3A_1\" \"DNMT3A_1\" \"DNMT3A_1\" \"DNMT3A_1\" ...\n",
      " $ time_point: chr  \"Day_0\" \"Day_0\" \"Day_0\" \"Day_0\" ...\n",
      "\n"
     ]
    }
   ],
   "source": [
    "nor_counts<-as.data.frame(counts(dds_NEW, normalized=TRUE))\n",
    "\n",
    "nor_counts$gene<-row.names(nor_counts)\n",
    "row.names(nor_counts)<-NULL\n",
    "\n",
    "cat(\"nor_counts_0\\n\")\n",
    "str(nor_counts)\n",
    "cat(\"\\n\")\n",
    "\n",
    "\n",
    "\n",
    "nor_counts.m<-melt(nor_counts, id.vars='gene', variable.name=\"sample_id_seurat_cell_type_id\", value.name=\"count\")\n",
    "nor_counts.m$cell_type<-gsub(\"^.+_cluster\",\"\",nor_counts.m$sample_id_seurat_cell_type_id)\n",
    "nor_counts.m$string<-gsub(\"_cluster.+$\",\"\",nor_counts.m$sample_id_seurat_cell_type_id)\n",
    "nor_counts.m$clone_line<-gsub(\"_Day.+$\",\"\",nor_counts.m$string)\n",
    "nor_counts.m$time_point<-gsub(\"^.+_Day\",\"Day\",nor_counts.m$string)\n",
    "nor_counts.m<-nor_counts.m[,-which(colnames(nor_counts.m)%in%c('sample_id_seurat_cell_type_id','string'))]\n",
    "\n",
    "colnames(nor_counts.m)[which(colnames(nor_counts.m) == 'gene')]<-'Peak_ID'\n",
    "    \n",
    "cat(\"nor_counts.m_0\\n\")\n",
    " str(nor_counts.m)\n",
    " cat(\"\\n\")\n",
    "      "
   ]
  },
  {
   "cell_type": "code",
   "execution_count": 243,
   "id": "cc48d7e4-a30d-4a3b-b0e5-4f0102281346",
   "metadata": {
    "execution": {
     "iopub.execute_input": "2025-02-26T16:34:45.127110Z",
     "iopub.status.busy": "2025-02-26T16:34:45.125957Z",
     "iopub.status.idle": "2025-02-26T16:34:45.143278Z",
     "shell.execute_reply": "2025-02-26T16:34:45.142000Z"
    }
   },
   "outputs": [
    {
     "name": "stdout",
     "output_type": "stream",
     "text": [
      "'data.frame':\t77220 obs. of  8 variables:\n",
      " $ Peak_ID       : chr  \"chr1-629782-630038\" \"chr1-633775-634127\" \"chr1-778261-779284\" \"chr1-826625-827692\" ...\n",
      " $ baseMean      : num  235.1 1196.2 60.9 22.6 25.7 ...\n",
      " $ log2FoldChange: num  2.05e-05 2.05e-05 -3.25e-07 2.34e-06 2.60e-06 ...\n",
      " $ lfcSE         : num  0.00144 0.00144 0.00144 0.00144 0.00144 ...\n",
      " $ pvalue        : num  0.676 0.216 0.942 0.415 0.413 ...\n",
      " $ padj          : num  1 1 1 1 1 ...\n",
      " $ contrast      : chr  \"Genotype_rs62237617_DNMT3A_vs_wt\" \"Genotype_rs62237617_DNMT3A_vs_wt\" \"Genotype_rs62237617_DNMT3A_vs_wt\" \"Genotype_rs62237617_DNMT3A_vs_wt\" ...\n",
      " $ cell_type     : chr  \"hESC\" \"hESC\" \"hESC\" \"hESC\" ...\n"
     ]
    }
   ],
   "source": [
    "str(Results_per_comparison_within_cell_type)"
   ]
  },
  {
   "cell_type": "code",
   "execution_count": 244,
   "id": "190b544b-5471-4176-acb7-f744a893e02b",
   "metadata": {
    "execution": {
     "iopub.execute_input": "2025-02-26T16:34:54.135828Z",
     "iopub.status.busy": "2025-02-26T16:34:54.134609Z",
     "iopub.status.idle": "2025-02-26T16:34:54.153857Z",
     "shell.execute_reply": "2025-02-26T16:34:54.152621Z"
    }
   },
   "outputs": [
    {
     "name": "stdout",
     "output_type": "stream",
     "text": [
      "'data.frame':\t0 obs. of  8 variables:\n",
      " $ Peak_ID       : chr \n",
      " $ baseMean      : num \n",
      " $ log2FoldChange: num \n",
      " $ lfcSE         : num \n",
      " $ pvalue        : num \n",
      " $ padj          : num \n",
      " $ contrast      : chr \n",
      " $ cell_type     : chr \n"
     ]
    },
    {
     "data": {
      "text/html": [],
      "text/latex": [],
      "text/markdown": [],
      "text/plain": [
       "integer(0)"
      ]
     },
     "metadata": {},
     "output_type": "display_data"
    }
   ],
   "source": [
    "Results_per_comparison_within_cell_type_SIG<-Results_per_comparison_within_cell_type[which(Results_per_comparison_within_cell_type$padj < 0.4),]\n",
    "\n",
    "str(Results_per_comparison_within_cell_type_SIG)\n",
    "\n",
    "summary(as.factor(Results_per_comparison_within_cell_type_SIG$contrast))"
   ]
  },
  {
   "cell_type": "code",
   "execution_count": 245,
   "id": "79513de5-aa11-493a-ae8c-63acb309d2cd",
   "metadata": {
    "execution": {
     "iopub.execute_input": "2025-02-26T16:34:55.417638Z",
     "iopub.status.busy": "2025-02-26T16:34:55.416514Z",
     "iopub.status.idle": "2025-02-26T16:34:55.424766Z",
     "shell.execute_reply": "2025-02-26T16:34:55.423608Z"
    }
   },
   "outputs": [],
   "source": [
    "# check https://bioconductor.org/packages/release/bioc/vignettes/DESeq2/inst/doc/DESeq2.html#pvaluesNA"
   ]
  },
  {
   "cell_type": "markdown",
   "id": "5f351373-2a2f-4c0c-b880-dddef79f4de9",
   "metadata": {},
   "source": [
    "### SAVE DA results"
   ]
  },
  {
   "cell_type": "code",
   "execution_count": 246,
   "id": "5e0f7d6f-aa38-48b9-a6d1-0553481b3fb7",
   "metadata": {
    "execution": {
     "iopub.execute_input": "2025-02-26T16:34:56.361876Z",
     "iopub.status.busy": "2025-02-26T16:34:56.360723Z",
     "iopub.status.idle": "2025-02-26T16:34:56.369959Z",
     "shell.execute_reply": "2025-02-26T16:34:56.368797Z"
    }
   },
   "outputs": [],
   "source": [
    "setwd(\"/group/soranzo/manuel.tardaguila/2025_hESC_MK_multiome/Downstream_analysis_cluster_after_genotyping/\")"
   ]
  },
  {
   "cell_type": "code",
   "execution_count": 247,
   "id": "23636008-1717-474d-a701-d2d3a33bfb84",
   "metadata": {
    "execution": {
     "iopub.execute_input": "2025-02-26T16:34:56.745436Z",
     "iopub.status.busy": "2025-02-26T16:34:56.744425Z",
     "iopub.status.idle": "2025-02-26T16:34:57.267079Z",
     "shell.execute_reply": "2025-02-26T16:34:57.265651Z"
    }
   },
   "outputs": [],
   "source": [
    "write.table(Results_per_comparison_within_cell_type, file=paste(\"DA_ALL_peaks_cell_type_\",cell_type_sel,\"_\",time_point_sel,\".tsv\", sep=''), sep=\"\\t\", quote=F, row.names=F)"
   ]
  },
  {
   "cell_type": "code",
   "execution_count": 248,
   "id": "95e13963-0caf-41d9-bcd1-1d5a44d1e18d",
   "metadata": {
    "execution": {
     "iopub.execute_input": "2025-02-26T16:34:57.486378Z",
     "iopub.status.busy": "2025-02-26T16:34:57.485255Z",
     "iopub.status.idle": "2025-02-26T16:34:58.251873Z",
     "shell.execute_reply": "2025-02-26T16:34:58.250374Z"
    }
   },
   "outputs": [],
   "source": [
    "write.table(nor_counts.m, file=paste(\"normalized_ALL_peaks_counts_cell_type_\",cell_type_sel,\"_\",time_point_sel,\".tsv\", sep=''), sep=\"\\t\", quote=F, row.names=F)"
   ]
  },
  {
   "cell_type": "markdown",
   "id": "18fa8c1d-7e22-40e2-9431-155a5787e010",
   "metadata": {},
   "source": [
    "### Define cell_type_sel and time_point_sel"
   ]
  },
  {
   "cell_type": "code",
   "execution_count": 284,
   "id": "bf07097e-e6e7-49fa-aecf-3cdc23b85367",
   "metadata": {
    "execution": {
     "iopub.execute_input": "2025-02-25T15:13:10.544513Z",
     "iopub.status.busy": "2025-02-25T15:13:10.543360Z",
     "iopub.status.idle": "2025-02-25T15:13:10.556496Z",
     "shell.execute_reply": "2025-02-25T15:13:10.555366Z"
    }
   },
   "outputs": [],
   "source": [
    "cell_type_sel<-'PolyPlo MK'\n",
    "\n",
    "time_point_sel<-'Day_15'\n"
   ]
  },
  {
   "cell_type": "markdown",
   "id": "e00d6b4f-b52c-4a3c-82a5-586c928392ba",
   "metadata": {},
   "source": [
    "### Subset the metadata list"
   ]
  },
  {
   "cell_type": "code",
   "execution_count": 285,
   "id": "8c3d2dcf-6928-44f8-a076-841c7dfbe2af",
   "metadata": {
    "execution": {
     "iopub.execute_input": "2025-02-25T15:13:11.413295Z",
     "iopub.status.busy": "2025-02-25T15:13:11.412328Z",
     "iopub.status.idle": "2025-02-25T15:13:11.426516Z",
     "shell.execute_reply": "2025-02-25T15:13:11.425363Z"
    }
   },
   "outputs": [
    {
     "name": "stdout",
     "output_type": "stream",
     "text": [
      "'data.frame':\t18 obs. of  7 variables:\n",
      " $ refined_annotation_majority_vote_sample_id: chr  \"DNMT3A_1_Day_15_clusterPolyPlo MK\" \"DNMT3A_2_Day_15_clusterPolyPlo MK\" \"DNMT3A_3_Day_15_clusterPolyPlo MK\" \"rs62237617_1_Day_12_clusterPolyPlo MK\" ...\n",
      " $ refined_annotation_majority_vote_id       : chr  \"PolyPlo MK\" \"PolyPlo MK\" \"PolyPlo MK\" \"PolyPlo MK\" ...\n",
      " $ sample_id                                 : chr  \"DNMT3A_1_Day_15\" \"DNMT3A_2_Day_15\" \"DNMT3A_3_Day_15\" \"rs62237617_1_Day_12\" ...\n",
      " $ cell_count                                : int  1 2 2 21 1 1 5 23 65 270 ...\n",
      " $ Genotype                                  : Ord.factor w/ 4 levels \"wt\"<\"rs62237617\"<..: 3 3 3 2 2 2 2 2 2 4 ...\n",
      " $ clone_line                                : Ord.factor w/ 12 levels \"wt_1\"<\"wt_2\"<..: 7 8 9 4 4 5 5 6 6 10 ...\n",
      " $ time_point                                : Ord.factor w/ 4 levels \"Day_0\"<\"Day_8\"<..: 4 4 4 3 4 3 4 3 4 3 ...\n"
     ]
    }
   ],
   "source": [
    "metadata_df<-metadata_ls[[cell_type_sel]]\n",
    "\n",
    "str(metadata_df)"
   ]
  },
  {
   "cell_type": "code",
   "execution_count": 286,
   "id": "221cc488-ddc9-4bcb-b588-552b875a2bff",
   "metadata": {
    "execution": {
     "iopub.execute_input": "2025-02-25T15:13:14.071716Z",
     "iopub.status.busy": "2025-02-25T15:13:14.070673Z",
     "iopub.status.idle": "2025-02-25T15:13:14.085319Z",
     "shell.execute_reply": "2025-02-25T15:13:14.084120Z"
    }
   },
   "outputs": [
    {
     "name": "stdout",
     "output_type": "stream",
     "text": [
      "'data.frame':\t12 obs. of  7 variables:\n",
      " $ refined_annotation_majority_vote_sample_id: chr  \"DNMT3A_1_Day_15_clusterPolyPlo MK\" \"DNMT3A_2_Day_15_clusterPolyPlo MK\" \"DNMT3A_3_Day_15_clusterPolyPlo MK\" \"rs62237617_1_Day_15_clusterPolyPlo MK\" ...\n",
      " $ refined_annotation_majority_vote_id       : chr  \"PolyPlo MK\" \"PolyPlo MK\" \"PolyPlo MK\" \"PolyPlo MK\" ...\n",
      " $ sample_id                                 : chr  \"DNMT3A_1_Day_15\" \"DNMT3A_2_Day_15\" \"DNMT3A_3_Day_15\" \"rs62237617_1_Day_15\" ...\n",
      " $ cell_count                                : int  1 2 2 1 5 65 225 44 3 175 ...\n",
      " $ Genotype                                  : Ord.factor w/ 4 levels \"wt\"<\"rs62237617\"<..: 3 3 3 2 2 2 4 4 4 1 ...\n",
      " $ clone_line                                : Ord.factor w/ 12 levels \"wt_1\"<\"wt_2\"<..: 7 8 9 4 5 6 10 11 12 1 ...\n",
      " $ time_point                                : Ord.factor w/ 1 level \"Day_15\": 1 1 1 1 1 1 1 1 1 1 ...\n"
     ]
    }
   ],
   "source": [
    "metadata_df_time_point<-droplevels(metadata_df[which(metadata_df$time_point == time_point_sel),])\n",
    "str(metadata_df_time_point)"
   ]
  },
  {
   "cell_type": "markdown",
   "id": "7ef14519-0a3e-4d3e-b96e-7da992457b45",
   "metadata": {},
   "source": [
    "### Subset the counts list"
   ]
  },
  {
   "cell_type": "code",
   "execution_count": 287,
   "id": "17ee4713-a9c6-4195-8447-00018c032d50",
   "metadata": {
    "execution": {
     "iopub.execute_input": "2025-02-25T15:13:15.692423Z",
     "iopub.status.busy": "2025-02-25T15:13:15.691371Z",
     "iopub.status.idle": "2025-02-25T15:13:15.708687Z",
     "shell.execute_reply": "2025-02-25T15:13:15.707535Z"
    }
   },
   "outputs": [
    {
     "name": "stdout",
     "output_type": "stream",
     "text": [
      "Formal class 'DGEList' [package \"edgeR\"] with 1 slot\n",
      "  ..@ .Data:List of 3\n",
      "  .. ..$ : num [1:36601, 1:18] 0 0 0 2 0 0 9 1 0 0 ...\n",
      "  .. .. ..- attr(*, \"dimnames\")=List of 2\n",
      "  .. .. .. ..$ : chr [1:36601] \"MIR1302-2HG\" \"FAM138A\" \"OR4F5\" \"AL627309.1\" ...\n",
      "  .. .. .. ..$ : chr [1:18] \"DNMT3A_1_Day_15_clusterPolyPlo MK\" \"DNMT3A_2_Day_15_clusterPolyPlo MK\" \"DNMT3A_3_Day_15_clusterPolyPlo MK\" \"rs62237617_1_Day_12_clusterPolyPlo MK\" ...\n",
      "  .. ..$ :'data.frame':\t18 obs. of  5 variables:\n",
      "  .. .. ..$ group       : Factor w/ 1 level \"1\": 1 1 1 1 1 1 1 1 1 1 ...\n",
      "  .. .. ..$ lib.size    : num [1:18] 330419 27683 110392 10354 2224432 ...\n",
      "  .. .. ..$ norm.factors: num [1:18] 1 1 1 1 1 1 1 1 1 1 ...\n",
      "  .. .. ..$ sample      : chr [1:18] \"DNMT3A_1_Day_15\" \"DNMT3A_2_Day_15\" \"DNMT3A_3_Day_15\" \"rs62237617_1_Day_12\" ...\n",
      "  .. .. ..$ cluster     : chr [1:18] \"PolyPlo MK\" \"PolyPlo MK\" \"PolyPlo MK\" \"PolyPlo MK\" ...\n",
      "  .. ..$ :'data.frame':\t36601 obs. of  1 variable:\n",
      "  .. .. ..$ gene: chr [1:36601] \"MIR1302-2HG\" \"FAM138A\" \"OR4F5\" \"AL627309.1\" ...\n",
      "  ..$ names: chr [1:3] \"counts\" \"samples\" \"genes\"\n"
     ]
    }
   ],
   "source": [
    "counts_ls_subset<-counts_ls[[cell_type_sel]]\n",
    "\n",
    "str(counts_ls_subset)"
   ]
  },
  {
   "cell_type": "code",
   "execution_count": 288,
   "id": "13ac6f0d-ec80-467a-acce-b5b66f828672",
   "metadata": {
    "execution": {
     "iopub.execute_input": "2025-02-25T15:13:17.652082Z",
     "iopub.status.busy": "2025-02-25T15:13:17.651087Z",
     "iopub.status.idle": "2025-02-25T15:13:17.670591Z",
     "shell.execute_reply": "2025-02-25T15:13:17.669477Z"
    }
   },
   "outputs": [
    {
     "name": "stdout",
     "output_type": "stream",
     "text": [
      "Formal class 'DGEList' [package \"edgeR\"] with 1 slot\n",
      "  ..@ .Data:List of 3\n",
      "  .. ..$ : num [1:36601, 1:12] 0 0 0 2 0 0 9 1 0 0 ...\n",
      "  .. .. ..- attr(*, \"dimnames\")=List of 2\n",
      "  .. .. .. ..$ : chr [1:36601] \"MIR1302-2HG\" \"FAM138A\" \"OR4F5\" \"AL627309.1\" ...\n",
      "  .. .. .. ..$ : chr [1:12] \"DNMT3A_1_Day_15_clusterPolyPlo MK\" \"DNMT3A_2_Day_15_clusterPolyPlo MK\" \"DNMT3A_3_Day_15_clusterPolyPlo MK\" \"rs62237617_1_Day_15_clusterPolyPlo MK\" ...\n",
      "  .. ..$ :'data.frame':\t12 obs. of  5 variables:\n",
      "  .. .. ..$ group       : Factor w/ 1 level \"1\": 1 1 1 1 1 1 1 1 1 1 ...\n",
      "  .. .. ..$ lib.size    : num [1:12] 330419 27683 110392 2224432 1667382 ...\n",
      "  .. .. ..$ norm.factors: num [1:12] 1 1 1 1 1 1 1 1 1 1 ...\n",
      "  .. .. ..$ sample      : chr [1:12] \"DNMT3A_1_Day_15\" \"DNMT3A_2_Day_15\" \"DNMT3A_3_Day_15\" \"rs62237617_1_Day_15\" ...\n",
      "  .. .. ..$ cluster     : chr [1:12] \"PolyPlo MK\" \"PolyPlo MK\" \"PolyPlo MK\" \"PolyPlo MK\" ...\n",
      "  .. ..$ :'data.frame':\t36601 obs. of  1 variable:\n",
      "  .. .. ..$ gene: chr [1:36601] \"MIR1302-2HG\" \"FAM138A\" \"OR4F5\" \"AL627309.1\" ...\n",
      "  ..$ names: chr [1:3] \"counts\" \"samples\" \"genes\"\n"
     ]
    }
   ],
   "source": [
    "counts_ls_subset_time_point<-counts_ls_subset[,which(colnames(counts_ls_subset)%in%metadata_df_time_point$refined_annotation_majority_vote_sample_id)]\n",
    "\n",
    "str(counts_ls_subset_time_point)"
   ]
  },
  {
   "cell_type": "markdown",
   "id": "675a8f72-5220-4b3c-b890-cab57face88e",
   "metadata": {},
   "source": [
    "### Ref factor genotype"
   ]
  },
  {
   "cell_type": "code",
   "execution_count": 289,
   "id": "97d5df62-15d2-4f2a-99d1-c6e3b043cb1d",
   "metadata": {
    "execution": {
     "iopub.execute_input": "2025-02-25T15:13:18.735534Z",
     "iopub.status.busy": "2025-02-25T15:13:18.734549Z",
     "iopub.status.idle": "2025-02-25T15:13:18.750840Z",
     "shell.execute_reply": "2025-02-25T15:13:18.749751Z"
    }
   },
   "outputs": [
    {
     "name": "stdout",
     "output_type": "stream",
     "text": [
      "'data.frame':\t12 obs. of  7 variables:\n",
      " $ refined_annotation_majority_vote_sample_id: chr  \"DNMT3A_1_Day_15_clusterPolyPlo MK\" \"DNMT3A_2_Day_15_clusterPolyPlo MK\" \"DNMT3A_3_Day_15_clusterPolyPlo MK\" \"rs62237617_1_Day_15_clusterPolyPlo MK\" ...\n",
      " $ refined_annotation_majority_vote_id       : chr  \"PolyPlo MK\" \"PolyPlo MK\" \"PolyPlo MK\" \"PolyPlo MK\" ...\n",
      " $ sample_id                                 : chr  \"DNMT3A_1_Day_15\" \"DNMT3A_2_Day_15\" \"DNMT3A_3_Day_15\" \"rs62237617_1_Day_15\" ...\n",
      " $ cell_count                                : int  1 2 2 1 5 65 225 44 3 175 ...\n",
      " $ Genotype                                  : Factor w/ 4 levels \"wt\",\"DNMT3A\",..: 2 2 2 3 3 3 4 4 4 1 ...\n",
      " $ clone_line                                : Ord.factor w/ 12 levels \"wt_1\"<\"wt_2\"<..: 7 8 9 4 5 6 10 11 12 1 ...\n",
      " $ time_point                                : Ord.factor w/ 1 level \"Day_15\": 1 1 1 1 1 1 1 1 1 1 ...\n"
     ]
    }
   ],
   "source": [
    "metadata_df_time_point$Genotype<-as.character(metadata_df_time_point$Genotype)\n",
    "metadata_df_time_point$Genotype<-factor(metadata_df_time_point$Genotype)\n",
    "metadata_df_time_point$Genotype<-relevel(metadata_df_time_point$Genotype, ref='wt') ### Nothing works with ordered factors\n",
    "\n",
    "str(metadata_df_time_point)\n"
   ]
  },
  {
   "cell_type": "markdown",
   "id": "27f2f591-36dd-494a-98c1-9753044fd5af",
   "metadata": {},
   "source": [
    "### check"
   ]
  },
  {
   "cell_type": "code",
   "execution_count": 290,
   "id": "cdb16e46-6402-49aa-a96d-acd5afe87e63",
   "metadata": {
    "execution": {
     "iopub.execute_input": "2025-02-25T15:13:19.965215Z",
     "iopub.status.busy": "2025-02-25T15:13:19.964243Z",
     "iopub.status.idle": "2025-02-25T15:13:19.973614Z",
     "shell.execute_reply": "2025-02-25T15:13:19.972483Z"
    }
   },
   "outputs": [
    {
     "name": "stdout",
     "output_type": "stream",
     "text": [
      " chr [1:12] \"DNMT3A_1_Day_15_clusterPolyPlo MK\" ...\n"
     ]
    }
   ],
   "source": [
    "str(colnames(counts_ls_subset_time_point))"
   ]
  },
  {
   "cell_type": "code",
   "execution_count": 291,
   "id": "8dc81edc-d62c-4d18-a98c-61eb31bb370a",
   "metadata": {
    "execution": {
     "iopub.execute_input": "2025-02-25T15:13:20.211321Z",
     "iopub.status.busy": "2025-02-25T15:13:20.210360Z",
     "iopub.status.idle": "2025-02-25T15:13:20.219655Z",
     "shell.execute_reply": "2025-02-25T15:13:20.218526Z"
    }
   },
   "outputs": [
    {
     "name": "stdout",
     "output_type": "stream",
     "text": [
      " chr [1:12] \"1\" \"2\" \"3\" \"5\" \"7\" \"9\" \"11\" \"13\" \"14\" \"16\" \"17\" \"18\"\n"
     ]
    }
   ],
   "source": [
    "str(row.names(metadata_df_time_point))"
   ]
  },
  {
   "cell_type": "code",
   "execution_count": 292,
   "id": "f0c20280-7f73-4cda-b9f2-6db62c9ab53e",
   "metadata": {
    "execution": {
     "iopub.execute_input": "2025-02-25T15:13:20.601049Z",
     "iopub.status.busy": "2025-02-25T15:13:20.600101Z",
     "iopub.status.idle": "2025-02-25T15:13:20.607942Z",
     "shell.execute_reply": "2025-02-25T15:13:20.606872Z"
    }
   },
   "outputs": [],
   "source": [
    "row.names(metadata_df_time_point)<-metadata_df_time_point$refined_annotation_majority_vote_sample_id"
   ]
  },
  {
   "cell_type": "code",
   "execution_count": 293,
   "id": "0ded4384-4d95-4742-9f86-38b183805350",
   "metadata": {
    "execution": {
     "iopub.execute_input": "2025-02-25T15:13:22.418242Z",
     "iopub.status.busy": "2025-02-25T15:13:22.417124Z",
     "iopub.status.idle": "2025-02-25T15:13:22.438272Z",
     "shell.execute_reply": "2025-02-25T15:13:22.437178Z"
    }
   },
   "outputs": [
    {
     "name": "stdout",
     "output_type": "stream",
     "text": [
      "check_2\n",
      "TRUE\n",
      "DNMT3A_1_Day_15_clusterPolyPlo MK DNMT3A_2_Day_15_clusterPolyPlo MK DNMT3A_3_Day_15_clusterPolyPlo MK rs62237617_1_Day_15_clusterPolyPlo MK rs62237617_2_Day_15_clusterPolyPlo MK rs62237617_3_Day_15_clusterPolyPlo MK rs62237617_DNMT3A_1_Day_15_clusterPolyPlo MK rs62237617_DNMT3A_2_Day_15_clusterPolyPlo MK rs62237617_DNMT3A_3_Day_15_clusterPolyPlo MK wt_1_Day_15_clusterPolyPlo MK wt_2_Day_15_clusterPolyPlo MK wt_3_Day_15_clusterPolyPlo MK\n"
     ]
    }
   ],
   "source": [
    "check_2<-all(colnames(counts_ls_subset_time_point) == rownames(metadata_df_time_point))\n",
    "\n",
    "    \n",
    "cat(\"check_2\\n\")\n",
    "cat(sprintf(as.character(check_2)))\n",
    "cat(\"\\n\")\n",
    "cat(sprintf(as.character(rownames(metadata_df_time_point))))\n",
    "cat(\"\\n\")\n",
    "    "
   ]
  },
  {
   "cell_type": "markdown",
   "id": "c96e7aa0-31e3-4940-979d-0a4984105162",
   "metadata": {},
   "source": [
    "### DESeq2 model"
   ]
  },
  {
   "cell_type": "markdown",
   "id": "a4e82884-0930-44aa-8056-ddf89f68c705",
   "metadata": {},
   "source": [
    "#### DESeqDataSetFromMatrix"
   ]
  },
  {
   "cell_type": "code",
   "execution_count": 294,
   "id": "da1148a7-5afa-4851-81b5-2039701c9230",
   "metadata": {
    "execution": {
     "iopub.execute_input": "2025-02-25T15:13:25.194577Z",
     "iopub.status.busy": "2025-02-25T15:13:25.193562Z",
     "iopub.status.idle": "2025-02-25T15:13:25.505911Z",
     "shell.execute_reply": "2025-02-25T15:13:25.504553Z"
    }
   },
   "outputs": [
    {
     "name": "stderr",
     "output_type": "stream",
     "text": [
      "converting counts to integer mode\n",
      "\n"
     ]
    }
   ],
   "source": [
    "dds_NEW <- DESeqDataSetFromMatrix(counts_ls_subset_time_point, \n",
    "                                  colData = metadata_df_time_point, \n",
    "                                  design = ~ Genotype)"
   ]
  },
  {
   "cell_type": "markdown",
   "id": "8363a673-9630-4bc8-8cee-a517e6b4bdaf",
   "metadata": {},
   "source": [
    "#### estimateSizeFactors ----------------------------------"
   ]
  },
  {
   "cell_type": "code",
   "execution_count": 295,
   "id": "5ded1a02-c0c4-4d9c-983f-d0100d016fa5",
   "metadata": {
    "execution": {
     "iopub.execute_input": "2025-02-25T15:13:26.648071Z",
     "iopub.status.busy": "2025-02-25T15:13:26.646921Z",
     "iopub.status.idle": "2025-02-25T15:13:26.849060Z",
     "shell.execute_reply": "2025-02-25T15:13:26.847768Z"
    }
   },
   "outputs": [],
   "source": [
    "dds_NEW<-estimateSizeFactors(dds_NEW)"
   ]
  },
  {
   "cell_type": "markdown",
   "id": "aeb9c2fe-9ae6-48b3-bdff-c501c44fc43f",
   "metadata": {},
   "source": [
    "##### LRT comparing to the reduced model"
   ]
  },
  {
   "cell_type": "code",
   "execution_count": 296,
   "id": "c1e5a848-2376-4677-aeda-55d45a71b814",
   "metadata": {
    "execution": {
     "iopub.execute_input": "2025-02-25T15:13:27.669130Z",
     "iopub.status.busy": "2025-02-25T15:13:27.668116Z",
     "iopub.status.idle": "2025-02-25T15:13:40.208329Z",
     "shell.execute_reply": "2025-02-25T15:13:40.207000Z"
    }
   },
   "outputs": [
    {
     "name": "stderr",
     "output_type": "stream",
     "text": [
      "using pre-existing size factors\n",
      "\n",
      "estimating dispersions\n",
      "\n",
      "gene-wise dispersion estimates\n",
      "\n",
      "mean-dispersion relationship\n",
      "\n",
      "final dispersion estimates\n",
      "\n",
      "fitting model and testing\n",
      "\n"
     ]
    }
   ],
   "source": [
    "dds_NEW_lrt <- DESeq(dds_NEW, test = \"LRT\", reduced = ~ 1)"
   ]
  },
  {
   "cell_type": "markdown",
   "id": "a61a2bbb-dc0d-4af3-abcb-547d4ac2dca8",
   "metadata": {},
   "source": [
    "#### Wald test to extract specific contrasts"
   ]
  },
  {
   "cell_type": "code",
   "execution_count": 297,
   "id": "b18ed6fb-3b06-4921-8fa1-ea413cdcde43",
   "metadata": {
    "execution": {
     "iopub.execute_input": "2025-02-25T15:13:40.211371Z",
     "iopub.status.busy": "2025-02-25T15:13:40.210356Z",
     "iopub.status.idle": "2025-02-25T15:14:50.809789Z",
     "shell.execute_reply": "2025-02-25T15:14:50.808207Z"
    }
   },
   "outputs": [
    {
     "name": "stdout",
     "output_type": "stream",
     "text": [
      "------------------------------------->\tGenotype_DNMT3A_vs_wt\n"
     ]
    },
    {
     "name": "stderr",
     "output_type": "stream",
     "text": [
      "using 'apeglm' for LFC shrinkage. If used in published research, please cite:\n",
      "    Zhu, A., Ibrahim, J.G., Love, M.I. (2018) Heavy-tailed prior distributions for\n",
      "    sequence count data: removing the noise and preserving large differences.\n",
      "    Bioinformatics. https://doi.org/10.1093/bioinformatics/bty895\n",
      "\n"
     ]
    },
    {
     "name": "stdout",
     "output_type": "stream",
     "text": [
      "------------------------------------->\tGenotype_rs62237617_vs_wt\n"
     ]
    },
    {
     "name": "stderr",
     "output_type": "stream",
     "text": [
      "using 'apeglm' for LFC shrinkage. If used in published research, please cite:\n",
      "    Zhu, A., Ibrahim, J.G., Love, M.I. (2018) Heavy-tailed prior distributions for\n",
      "    sequence count data: removing the noise and preserving large differences.\n",
      "    Bioinformatics. https://doi.org/10.1093/bioinformatics/bty895\n",
      "\n",
      "Warning message in nbinomGLM(x = x, Y = YNZ, size = size, weights = weightsNZ, offset = offsetNZ, :\n",
      "\"the line search routine failed, unable to sufficiently decrease the function value\"\n",
      "Warning message in nbinomGLM(x = x, Y = YNZ, size = size, weights = weightsNZ, offset = offsetNZ, :\n",
      "\"the line search routine failed, unable to sufficiently decrease the function value\"\n",
      "Warning message in nbinomGLM(x = x, Y = YNZ, size = size, weights = weightsNZ, offset = offsetNZ, :\n",
      "\"the line search routine failed, unable to sufficiently decrease the function value\"\n",
      "Warning message in nbinomGLM(x = x, Y = YNZ, size = size, weights = weightsNZ, offset = offsetNZ, :\n",
      "\"the line search routine failed, unable to sufficiently decrease the function value\"\n",
      "Warning message in nbinomGLM(x = x, Y = YNZ, size = size, weights = weightsNZ, offset = offsetNZ, :\n",
      "\"the line search routine failed, unable to sufficiently decrease the function value\"\n"
     ]
    },
    {
     "name": "stdout",
     "output_type": "stream",
     "text": [
      "------------------------------------->\tGenotype_rs62237617_DNMT3A_vs_wt\n"
     ]
    },
    {
     "name": "stderr",
     "output_type": "stream",
     "text": [
      "using 'apeglm' for LFC shrinkage. If used in published research, please cite:\n",
      "    Zhu, A., Ibrahim, J.G., Love, M.I. (2018) Heavy-tailed prior distributions for\n",
      "    sequence count data: removing the noise and preserving large differences.\n",
      "    Bioinformatics. https://doi.org/10.1093/bioinformatics/bty895\n",
      "\n",
      "Warning message in nbinomGLM(x = x, Y = YNZ, size = size, weights = weightsNZ, offset = offsetNZ, :\n",
      "\"the line search routine failed, unable to sufficiently decrease the function value\"\n"
     ]
    }
   ],
   "source": [
    "Results_per_comparison_within_cell_type<-data.frame()\n",
    "\n",
    "possible_contrasts<-colnames(dds_NEW_lrt@modelMatrix)[-1] # -1 because 1 is the Intercept term\n",
    "\n",
    "for(iteration_contrasts in 1:length(possible_contrasts)){\n",
    "\n",
    "    contrast_sel<-possible_contrasts[iteration_contrasts]\n",
    "\n",
    "    cat(\"------------------------------------->\\t\")\n",
    "    cat(sprintf(as.character(contrast_sel)))\n",
    "    cat(\"\\n\")\n",
    "    \n",
    "\n",
    "    ############ obtain the result for this contrast with its specific pvalue coming from Wald test see ?results\n",
    "\n",
    "    tmp_results<-results(dds_NEW_lrt, test= \"Wald\", name=contrast_sel, independentFiltering=FALSE)\n",
    "\n",
    "    #### expand LogFC #########################################\n",
    "\n",
    "    tmp_results <- lfcShrink(dds_NEW_lrt, \n",
    "                                 coef = contrast_sel,\n",
    "                                 res=tmp_results,\n",
    "                                 type = \"apeglm\")\n",
    "\n",
    "\n",
    "      #### obtain data frame #########################################\n",
    "\n",
    "      tmp_tb <- as.data.frame(tmp_results %>%\n",
    "                  data.frame() %>%\n",
    "                  rownames_to_column(var = \"gene\") %>%\n",
    "                  as_tibble() %>%\n",
    "                  arrange(padj), stringsAsFactors=F)\n",
    "                \n",
    "                colnames(tmp_results)[which(colnames(tmp_results) == 'gene')]<-'Symbol'\n",
    "\n",
    "    tmp_tb$contrast<-contrast_sel\n",
    "\n",
    "\n",
    "    Results_per_comparison_within_cell_type<-rbind(tmp_tb,Results_per_comparison_within_cell_type)\n",
    "\n",
    "\n",
    "\n",
    "    }#iteration_contrasts in 1:length(possible_contrasts)\n",
    "\n",
    "\n",
    "Results_per_comparison_within_cell_type$cell_type<-cell_type_sel\n"
   ]
  },
  {
   "cell_type": "markdown",
   "id": "5fa8c25a-eae6-4b8f-882a-4d7ed8548b5d",
   "metadata": {},
   "source": [
    "#### Extract normalized counts to plot heatmaps later ----------------------------------------"
   ]
  },
  {
   "cell_type": "code",
   "execution_count": 153,
   "id": "96fbe2ed-e1bf-4247-8416-d7df9d0c6efb",
   "metadata": {
    "execution": {
     "iopub.execute_input": "2025-02-26T16:25:35.505648Z",
     "iopub.status.busy": "2025-02-26T16:25:35.504543Z",
     "iopub.status.idle": "2025-02-26T16:25:36.885520Z",
     "shell.execute_reply": "2025-02-26T16:25:36.884124Z"
    }
   },
   "outputs": [
    {
     "name": "stdout",
     "output_type": "stream",
     "text": [
      "nor_counts_0\n",
      "'data.frame':\t106969 obs. of  13 variables:\n",
      " $ DNMT3A_1_Day_0_clusterhESC           : num  4.66 208.34 1206.27 53.38 24.1 ...\n",
      " $ DNMT3A_2_Day_0_clusterhESC           : num  2.59 284.89 1344.16 69.93 10.36 ...\n",
      " $ DNMT3A_3_Day_0_clusterhESC           : num  5.57 223.91 1198.13 53.27 23.39 ...\n",
      " $ rs62237617_1_Day_0_clusterhESC       : num  6.72 239.62 1254.07 60.46 24.63 ...\n",
      " $ rs62237617_2_Day_0_clusterhESC       : num  2.42 198.31 1211.6 48.37 36.28 ...\n",
      " $ rs62237617_3_Day_0_clusterhESC       : num  6 269 1268.1 79.3 20.4 ...\n",
      " $ rs62237617_DNMT3A_1_Day_0_clusterhESC: num  3.49 236.5 1195.46 53.89 24.45 ...\n",
      " $ rs62237617_DNMT3A_2_Day_0_clusterhESC: num  2.02 219.24 1180.34 63.91 24.27 ...\n",
      " $ rs62237617_DNMT3A_3_Day_0_clusterhESC: num  5.07 233 1185.95 64.25 26.72 ...\n",
      " $ wt_1_Day_0_clusterhESC               : num  0 174 1039.6 55.2 12.7 ...\n",
      " $ wt_2_Day_0_clusterhESC               : num  3.91 305.26 1266.04 60.66 25.44 ...\n",
      " $ wt_3_Day_0_clusterhESC               : num  0 228.9 1005.3 68.1 18.6 ...\n",
      " $ gene                                 : chr  \"chr1-180682-181613\" \"chr1-629782-630038\" \"chr1-633775-634127\" \"chr1-778261-779284\" ...\n",
      "\n"
     ]
    },
    {
     "name": "stderr",
     "output_type": "stream",
     "text": [
      "Warning message in melt(nor_counts, id.vars = \"gene\", variable.name = \"sample_id_seurat_cell_type_id\", :\n",
      "“The melt generic in data.table has been passed a data.frame and will attempt to redirect to the relevant reshape2 method; please note that reshape2 is deprecated, and this redirection is now deprecated as well. To continue using melt methods from reshape2 while both libraries are attached, e.g. melt.list, you can prepend the namespace like reshape2::melt(nor_counts). In the next version, this warning will become an error.”\n"
     ]
    },
    {
     "name": "stdout",
     "output_type": "stream",
     "text": [
      "nor_counts.m_0\n",
      "'data.frame':\t1283628 obs. of  5 variables:\n",
      " $ gene      : chr  \"chr1-180682-181613\" \"chr1-629782-630038\" \"chr1-633775-634127\" \"chr1-778261-779284\" ...\n",
      " $ count     : num  4.66 208.34 1206.27 53.38 24.1 ...\n",
      " $ cell_type : chr  \"hESC\" \"hESC\" \"hESC\" \"hESC\" ...\n",
      " $ clone_line: chr  \"DNMT3A_1\" \"DNMT3A_1\" \"DNMT3A_1\" \"DNMT3A_1\" ...\n",
      " $ time_point: chr  \"Day_0\" \"Day_0\" \"Day_0\" \"Day_0\" ...\n",
      "\n"
     ]
    }
   ],
   "source": [
    "nor_counts<-as.data.frame(counts(dds_NEW, normalized=TRUE))\n",
    "\n",
    "nor_counts$gene<-row.names(nor_counts)\n",
    "row.names(nor_counts)<-NULL\n",
    "\n",
    "cat(\"nor_counts_0\\n\")\n",
    "str(nor_counts)\n",
    "cat(\"\\n\")\n",
    "\n",
    "\n",
    "\n",
    "nor_counts.m<-melt(nor_counts, id.vars='gene', variable.name=\"sample_id_seurat_cell_type_id\", value.name=\"count\")\n",
    "nor_counts.m$cell_type<-gsub(\"^.+_cluster\",\"\",nor_counts.m$sample_id_seurat_cell_type_id)\n",
    "nor_counts.m$string<-gsub(\"_cluster.+$\",\"\",nor_counts.m$sample_id_seurat_cell_type_id)\n",
    "nor_counts.m$clone_line<-gsub(\"_Day.+$\",\"\",nor_counts.m$string)\n",
    "nor_counts.m$time_point<-gsub(\"^.+_Day\",\"Day\",nor_counts.m$string)\n",
    "nor_counts.m<-nor_counts.m[,-which(colnames(nor_counts.m)%in%c('sample_id_seurat_cell_type_id','string'))]\n",
    "\n",
    "    \n",
    "cat(\"nor_counts.m_0\\n\")\n",
    " str(nor_counts.m)\n",
    " cat(\"\\n\")\n",
    "      "
   ]
  },
  {
   "cell_type": "code",
   "execution_count": 154,
   "id": "4613b948-34cb-4429-97f5-dfab6dc61acb",
   "metadata": {
    "execution": {
     "iopub.execute_input": "2025-02-26T16:25:36.888696Z",
     "iopub.status.busy": "2025-02-26T16:25:36.887593Z",
     "iopub.status.idle": "2025-02-26T16:25:36.902149Z",
     "shell.execute_reply": "2025-02-26T16:25:36.900832Z"
    }
   },
   "outputs": [
    {
     "name": "stdout",
     "output_type": "stream",
     "text": [
      "'data.frame':\t320907 obs. of  8 variables:\n",
      " $ Peak_ID       : chr  \"chr1-180682-181613\" \"chr1-629782-630038\" \"chr1-633775-634127\" \"chr1-778261-779284\" ...\n",
      " $ baseMean      : num  3.54 235.08 1196.25 60.88 22.61 ...\n",
      " $ log2FoldChange: num  9.29e-07 2.05e-05 2.26e-05 -3.25e-07 2.32e-06 ...\n",
      " $ lfcSE         : num  0.00144 0.00144 0.00144 0.00144 0.00144 ...\n",
      " $ pvalue        : num  0.399 0.676 0.202 0.942 0.416 ...\n",
      " $ padj          : num  1 1 1 1 1 ...\n",
      " $ contrast      : chr  \"Genotype_rs62237617_DNMT3A_vs_wt\" \"Genotype_rs62237617_DNMT3A_vs_wt\" \"Genotype_rs62237617_DNMT3A_vs_wt\" \"Genotype_rs62237617_DNMT3A_vs_wt\" ...\n",
      " $ cell_type     : chr  \"hESC\" \"hESC\" \"hESC\" \"hESC\" ...\n"
     ]
    }
   ],
   "source": [
    "str(Results_per_comparison_within_cell_type)"
   ]
  },
  {
   "cell_type": "code",
   "execution_count": 155,
   "id": "28047368-a7e3-4a45-8bca-f1afa73ce69b",
   "metadata": {
    "execution": {
     "iopub.execute_input": "2025-02-26T16:26:05.739175Z",
     "iopub.status.busy": "2025-02-26T16:26:05.737924Z",
     "iopub.status.idle": "2025-02-26T16:26:05.761525Z",
     "shell.execute_reply": "2025-02-26T16:26:05.760181Z"
    }
   },
   "outputs": [
    {
     "name": "stdout",
     "output_type": "stream",
     "text": [
      "'data.frame':\t0 obs. of  8 variables:\n",
      " $ Peak_ID       : chr \n",
      " $ baseMean      : num \n",
      " $ log2FoldChange: num \n",
      " $ lfcSE         : num \n",
      " $ pvalue        : num \n",
      " $ padj          : num \n",
      " $ contrast      : chr \n",
      " $ cell_type     : chr \n"
     ]
    },
    {
     "data": {
      "text/html": [],
      "text/latex": [],
      "text/markdown": [],
      "text/plain": [
       "integer(0)"
      ]
     },
     "metadata": {},
     "output_type": "display_data"
    }
   ],
   "source": [
    "Results_per_comparison_within_cell_type_SIG<-Results_per_comparison_within_cell_type[which(Results_per_comparison_within_cell_type$padj < 0.05),]\n",
    "\n",
    "str(Results_per_comparison_within_cell_type_SIG)\n",
    "\n",
    "summary(as.factor(Results_per_comparison_within_cell_type_SIG$contrast))"
   ]
  },
  {
   "cell_type": "code",
   "execution_count": 156,
   "id": "53251712-7437-4d70-b07a-b7a8bd4303a4",
   "metadata": {
    "execution": {
     "iopub.execute_input": "2025-02-26T16:26:10.997245Z",
     "iopub.status.busy": "2025-02-26T16:26:10.995971Z",
     "iopub.status.idle": "2025-02-26T16:26:11.005304Z",
     "shell.execute_reply": "2025-02-26T16:26:11.003976Z"
    }
   },
   "outputs": [],
   "source": [
    "# check https://bioconductor.org/packages/release/bioc/vignettes/DESeq2/inst/doc/DESeq2.html#pvaluesNA"
   ]
  },
  {
   "cell_type": "markdown",
   "id": "37ee0cd1-cd59-4f1e-929e-f6bd3177166c",
   "metadata": {},
   "source": [
    "### SAVE DE results"
   ]
  },
  {
   "cell_type": "code",
   "execution_count": 302,
   "id": "cb419a36-baf5-4b71-8855-5e2d8458566d",
   "metadata": {
    "execution": {
     "iopub.execute_input": "2025-02-25T15:15:05.849327Z",
     "iopub.status.busy": "2025-02-25T15:15:05.848251Z",
     "iopub.status.idle": "2025-02-25T15:15:05.857820Z",
     "shell.execute_reply": "2025-02-25T15:15:05.856734Z"
    }
   },
   "outputs": [],
   "source": [
    "setwd(\"/group/soranzo/manuel.tardaguila/2025_hESC_MK_multiome/Downstream_analysis_cluster_after_genotyping/\")"
   ]
  },
  {
   "cell_type": "code",
   "execution_count": 303,
   "id": "43a8112d-065a-4cb4-82d2-d4d9ac1863bc",
   "metadata": {
    "execution": {
     "iopub.execute_input": "2025-02-25T15:15:07.364835Z",
     "iopub.status.busy": "2025-02-25T15:15:07.363723Z",
     "iopub.status.idle": "2025-02-25T15:15:07.886048Z",
     "shell.execute_reply": "2025-02-25T15:15:07.884555Z"
    }
   },
   "outputs": [],
   "source": [
    "write.table(Results_per_comparison_within_cell_type, file=paste(\"DE_genes_cell_type_\",cell_type_sel,\"_\",time_point_sel,\".tsv\", sep=''), sep=\"\\t\", quote=F, row.names=F)"
   ]
  },
  {
   "cell_type": "code",
   "execution_count": 304,
   "id": "ddfe5db6-e8cd-4ffe-a3c1-200cf7520385",
   "metadata": {
    "execution": {
     "iopub.execute_input": "2025-02-25T15:15:07.889137Z",
     "iopub.status.busy": "2025-02-25T15:15:07.888126Z",
     "iopub.status.idle": "2025-02-25T15:15:08.621106Z",
     "shell.execute_reply": "2025-02-25T15:15:08.619684Z"
    }
   },
   "outputs": [],
   "source": [
    "write.table(nor_counts.m, file=paste(\"normalized_gene_counts_cell_type_\",cell_type_sel,\"_\",time_point_sel,\".tsv\", sep=''), sep=\"\\t\", quote=F, row.names=F)"
   ]
  },
  {
   "cell_type": "markdown",
   "id": "c3ab9210-1991-4ba0-8733-be330057f374",
   "metadata": {},
   "source": [
    "# Pickup for DA graphs"
   ]
  },
  {
   "cell_type": "markdown",
   "id": "d733e935-3146-498c-9503-2eb85962cbfc",
   "metadata": {},
   "source": [
    "## Load libraries"
   ]
  },
  {
   "cell_type": "code",
   "execution_count": 249,
   "id": "aa8f1f1d-6210-43a1-943b-8e47f8539454",
   "metadata": {
    "execution": {
     "iopub.execute_input": "2025-02-26T16:35:58.881933Z",
     "iopub.status.busy": "2025-02-26T16:35:58.880789Z",
     "iopub.status.idle": "2025-02-26T16:35:58.918656Z",
     "shell.execute_reply": "2025-02-26T16:35:58.917375Z"
    }
   },
   "outputs": [
    {
     "data": {
      "text/html": [
       "'/home/manuel.tardaguila/conda_envs/multiome_NEW_downstream_analysis/lib/R/library'"
      ],
      "text/latex": [
       "'/home/manuel.tardaguila/conda\\_envs/multiome\\_NEW\\_downstream\\_analysis/lib/R/library'"
      ],
      "text/markdown": [
       "'/home/manuel.tardaguila/conda_envs/multiome_NEW_downstream_analysis/lib/R/library'"
      ],
      "text/plain": [
       "[1] \"/home/manuel.tardaguila/conda_envs/multiome_NEW_downstream_analysis/lib/R/library\""
      ]
     },
     "metadata": {},
     "output_type": "display_data"
    },
    {
     "data": {
      "text/html": [
       "'/home/manuel.tardaguila/conda_envs/multiome_NEW_downstream_analysis/lib/R/library'"
      ],
      "text/latex": [
       "'/home/manuel.tardaguila/conda\\_envs/multiome\\_NEW\\_downstream\\_analysis/lib/R/library'"
      ],
      "text/markdown": [
       "'/home/manuel.tardaguila/conda_envs/multiome_NEW_downstream_analysis/lib/R/library'"
      ],
      "text/plain": [
       "[1] \"/home/manuel.tardaguila/conda_envs/multiome_NEW_downstream_analysis/lib/R/library\""
      ]
     },
     "metadata": {},
     "output_type": "display_data"
    }
   ],
   "source": [
    ".libPaths()\n",
    ".libPaths(new = c(\"/home/manuel.tardaguila/conda_envs/multiome_NEW_downstream_analysis/lib/R/library\"))\n",
    ".libPaths()\n",
    "\n",
    "suppressMessages(library(presto))\n",
    "suppressMessages(library(\"qlcMatrix\"))\n",
    "suppressMessages(library(\"cowplot\"))\n",
    "suppressMessages(library(\"RColorBrewer\"))\n",
    "suppressMessages(library(\"plyr\"))\n",
    "suppressMessages(library(\"forcats\"))\n",
    "suppressMessages(library('ggeasy'))\n",
    "suppressMessages(library('dplyr'))\n",
    "suppressMessages(library(\"svglite\"))\n",
    "suppressMessages(library(\"ape\"))\n",
    "suppressMessages(library(\"ggforce\"))\n",
    "suppressMessages(library(\"tidyr\"))\n",
    "suppressMessages(library(\"edgeR\"))\n",
    "suppressMessages(library(\"apeglm\"))\n",
    "suppressMessages(library(\"DESeq2\"))\n",
    "suppressMessages(library(\"tibble\")) \n",
    "library(\"ggrepel\")\n"
   ]
  },
  {
   "cell_type": "markdown",
   "id": "790d46c7-9eca-4405-b295-31be28367711",
   "metadata": {},
   "source": [
    "### Define cell_type_sel and time_point_sel"
   ]
  },
  {
   "cell_type": "code",
   "execution_count": 250,
   "id": "e103d1db-1ece-4142-93fd-77f2a8a90e37",
   "metadata": {
    "execution": {
     "iopub.execute_input": "2025-02-26T16:36:00.651402Z",
     "iopub.status.busy": "2025-02-26T16:36:00.650182Z",
     "iopub.status.idle": "2025-02-26T16:36:00.661975Z",
     "shell.execute_reply": "2025-02-26T16:36:00.660684Z"
    }
   },
   "outputs": [],
   "source": [
    "cell_type_sel<-'hESC'\n",
    "\n",
    "time_point_sel<-'Day_0'\n"
   ]
  },
  {
   "cell_type": "markdown",
   "id": "3e268ede-3d54-491c-a157-236af598f427",
   "metadata": {},
   "source": [
    "# Read in DA linked peaks"
   ]
  },
  {
   "cell_type": "code",
   "execution_count": 252,
   "id": "a0f8250a-0849-45ea-9247-ee3e17b62add",
   "metadata": {
    "execution": {
     "iopub.execute_input": "2025-02-26T16:36:58.665215Z",
     "iopub.status.busy": "2025-02-26T16:36:58.664007Z",
     "iopub.status.idle": "2025-02-26T16:36:58.674956Z",
     "shell.execute_reply": "2025-02-26T16:36:58.673687Z"
    }
   },
   "outputs": [],
   "source": [
    "setwd(\"/group/soranzo/manuel.tardaguila/2025_hESC_MK_multiome/Downstream_analysis_cluster_after_genotyping/\")"
   ]
  },
  {
   "cell_type": "code",
   "execution_count": 253,
   "id": "a9c4e127-fb7d-4150-9d60-9ed13dbb6bc4",
   "metadata": {
    "execution": {
     "iopub.execute_input": "2025-02-26T16:36:59.251012Z",
     "iopub.status.busy": "2025-02-26T16:36:59.249640Z",
     "iopub.status.idle": "2025-02-26T16:36:59.313652Z",
     "shell.execute_reply": "2025-02-26T16:36:59.312428Z"
    }
   },
   "outputs": [
    {
     "name": "stdout",
     "output_type": "stream",
     "text": [
      "'data.frame':\t4839 obs. of  18 variables:\n",
      " $ Peak_ID           : chr  \"chr1-103107835-103109233\" \"chr1-103107835-103109233\" \"chr1-103107835-103109233\" \"chr1-103250273-103250969\" ...\n",
      " $ baseMean          : num  47.3 47.3 47.3 18.9 18.9 ...\n",
      " $ log2FoldChange    : num  5.06e-07 1.47e-06 9.32e-07 1.67e-06 2.34e-06 ...\n",
      " $ lfcSE             : num  0.00144 0.00144 0.00144 0.00144 0.00144 ...\n",
      " $ pvalue            : num  0.883 0.704 0.812 0.457 0.38 ...\n",
      " $ padj              : num  0.997 1 0.999 0.997 1 ...\n",
      " $ contrast          : chr  \"Genotype_rs62237617_vs_wt\" \"Genotype_DNMT3A_vs_wt\" \"Genotype_rs62237617_DNMT3A_vs_wt\" \"Genotype_rs62237617_vs_wt\" ...\n",
      " $ cell_type         : chr  \"hESC\" \"hESC\" \"hESC\" \"hESC\" ...\n",
      " $ seqnames          : chr  \"chr1\" \"chr1\" \"chr1\" \"chr1\" ...\n",
      " $ start             : int  103108496 103108496 103108496 103108496 103108496 103108496 112396181 112396181 112396181 112396181 ...\n",
      " $ end               : int  103108534 103108534 103108534 103250621 103250621 103250621 112508737 112508737 112508737 112515748 ...\n",
      " $ width             : int  39 39 39 142126 142126 142126 112557 112557 112557 119568 ...\n",
      " $ strand            : chr  \"*\" \"*\" \"*\" \"*\" ...\n",
      " $ score             : num  0.144 0.144 0.144 0.146 0.146 ...\n",
      " $ gene              : chr  \"COL11A1\" \"COL11A1\" \"COL11A1\" \"COL11A1\" ...\n",
      " $ Link_zscore       : num  4.02 4.02 4.02 3.1 3.1 ...\n",
      " $ Link_pvalue       : num  2.86e-05 2.86e-05 2.86e-05 9.70e-04 9.70e-04 ...\n",
      " $ Link_Minus_logpval: num  4.54 4.54 4.54 3.01 3.01 3.01 1.65 1.65 1.65 1.31 ...\n"
     ]
    }
   ],
   "source": [
    "Results_per_comparison_within_cell_type<-read.table(file=paste(\"DA_Linked_peaks_cell_type_\",cell_type_sel,\"_\",time_point_sel,\".tsv\", sep=''), sep=\"\\t\", header=T)\n",
    "\n",
    "str(Results_per_comparison_within_cell_type)"
   ]
  },
  {
   "cell_type": "code",
   "execution_count": 255,
   "id": "ee703b25-3251-49e3-9e68-c8a953986a0a",
   "metadata": {
    "execution": {
     "iopub.execute_input": "2025-02-26T16:37:46.638720Z",
     "iopub.status.busy": "2025-02-26T16:37:46.637639Z",
     "iopub.status.idle": "2025-02-26T16:37:46.663206Z",
     "shell.execute_reply": "2025-02-26T16:37:46.662041Z"
    }
   },
   "outputs": [
    {
     "name": "stdout",
     "output_type": "stream",
     "text": [
      "'data.frame':\t4839 obs. of  20 variables:\n",
      " $ Peak_ID           : chr  \"chr1-103107835-103109233\" \"chr1-103107835-103109233\" \"chr1-103107835-103109233\" \"chr1-103250273-103250969\" ...\n",
      " $ baseMean          : num  47.3 47.3 47.3 18.9 18.9 ...\n",
      " $ log2FoldChange    : num  5.06e-07 1.47e-06 9.32e-07 1.67e-06 2.34e-06 ...\n",
      " $ lfcSE             : num  0.00144 0.00144 0.00144 0.00144 0.00144 ...\n",
      " $ pvalue            : num  0.883 0.704 0.812 0.457 0.38 ...\n",
      " $ padj              : num  0.997 1 0.999 0.997 1 ...\n",
      " $ contrast          : chr  \"Genotype_rs62237617_vs_wt\" \"Genotype_DNMT3A_vs_wt\" \"Genotype_rs62237617_DNMT3A_vs_wt\" \"Genotype_rs62237617_vs_wt\" ...\n",
      " $ cell_type         : chr  \"hESC\" \"hESC\" \"hESC\" \"hESC\" ...\n",
      " $ seqnames          : chr  \"chr1\" \"chr1\" \"chr1\" \"chr1\" ...\n",
      " $ start             : int  103108496 103108496 103108496 103108496 103108496 103108496 112396181 112396181 112396181 112396181 ...\n",
      " $ end               : int  103108534 103108534 103108534 103250621 103250621 103250621 112508737 112508737 112508737 112515748 ...\n",
      " $ width             : int  39 39 39 142126 142126 142126 112557 112557 112557 119568 ...\n",
      " $ strand            : chr  \"*\" \"*\" \"*\" \"*\" ...\n",
      " $ score             : num  0.144 0.144 0.144 0.146 0.146 ...\n",
      " $ gene              : chr  \"COL11A1\" \"COL11A1\" \"COL11A1\" \"COL11A1\" ...\n",
      " $ Link_zscore       : num  4.02 4.02 4.02 3.1 3.1 ...\n",
      " $ Link_pvalue       : num  2.86e-05 2.86e-05 2.86e-05 9.70e-04 9.70e-04 ...\n",
      " $ Link_Minus_logpval: num  4.54 4.54 4.54 3.01 3.01 3.01 1.65 1.65 1.65 1.31 ...\n",
      " $ minuslog10padj    : num  1.25e-03 6.76e-06 3.81e-04 1.25e-03 6.76e-06 ...\n",
      " $ abslogfc          : num  5.06e-07 1.47e-06 9.32e-07 1.67e-06 2.34e-06 ...\n"
     ]
    },
    {
     "data": {
      "text/plain": [
       "     Min.   1st Qu.    Median      Mean   3rd Qu.      Max. \n",
       "0.0000068 0.0000068 0.0003810 0.0014402 0.0012521 0.5224085 "
      ]
     },
     "metadata": {},
     "output_type": "display_data"
    }
   ],
   "source": [
    "Results_per_comparison_within_cell_type$minuslog10padj <- -log10(Results_per_comparison_within_cell_type$padj)\n",
    "\n",
    "Results_per_comparison_within_cell_type$abslogfc<-abs(Results_per_comparison_within_cell_type$log2FoldChange)\n",
    "\n",
    "str(Results_per_comparison_within_cell_type)\n",
    "\n",
    "summary(Results_per_comparison_within_cell_type$minuslog10padj)"
   ]
  },
  {
   "cell_type": "markdown",
   "id": "9924f71d-ac82-443b-9679-4f2b2ba99793",
   "metadata": {},
   "source": [
    "## Read Linked_peaks normalized counts"
   ]
  },
  {
   "cell_type": "code",
   "execution_count": 274,
   "id": "db2e34c2-3552-4fef-8ecc-e8f912b49673",
   "metadata": {
    "execution": {
     "iopub.execute_input": "2025-02-26T16:46:41.617093Z",
     "iopub.status.busy": "2025-02-26T16:46:41.615922Z",
     "iopub.status.idle": "2025-02-26T16:46:41.664811Z",
     "shell.execute_reply": "2025-02-26T16:46:41.663462Z"
    }
   },
   "outputs": [
    {
     "name": "stdout",
     "output_type": "stream",
     "text": [
      "'data.frame':\t18048 obs. of  5 variables:\n",
      " $ Peak_ID   : chr  \"chr1-43952784-43953586\" \"chr1-44035644-44036873\" \"chr1-44260850-44262283\" \"chr1-44404891-44408130\" ...\n",
      " $ count     : num  24.5 15.7 21.9 95.6 14.2 ...\n",
      " $ cell_type : chr  \"hESC\" \"hESC\" \"hESC\" \"hESC\" ...\n",
      " $ clone_line: chr  \"DNMT3A_1\" \"DNMT3A_1\" \"DNMT3A_1\" \"DNMT3A_1\" ...\n",
      " $ time_point: chr  \"Day_0\" \"Day_0\" \"Day_0\" \"Day_0\" ...\n"
     ]
    }
   ],
   "source": [
    "setwd(\"/group/soranzo/manuel.tardaguila/2025_hESC_MK_multiome/Downstream_analysis_cluster_after_genotyping/\")\n",
    "\n",
    "nor_counts.m<-read.table(file=paste(\"normalized_Linked_peaks_counts_cell_type_\",cell_type_sel,\"_\",time_point_sel,\".tsv\", sep=''), sep=\"\\t\", header=T)\n",
    "\n",
    "\n",
    "str(nor_counts.m)"
   ]
  },
  {
   "cell_type": "markdown",
   "id": "85d86119-416c-4671-905f-e476da259a59",
   "metadata": {},
   "source": [
    "# Heatmaps Linked_peaks_counts"
   ]
  },
  {
   "cell_type": "markdown",
   "id": "982c522f-ceaa-4a95-8520-cca70ed34cbd",
   "metadata": {},
   "source": [
    "## Selection of genes"
   ]
  },
  {
   "cell_type": "code",
   "execution_count": 257,
   "id": "a88322dd-5522-4da4-b837-70d11a52be05",
   "metadata": {
    "execution": {
     "iopub.execute_input": "2025-02-26T16:39:07.871102Z",
     "iopub.status.busy": "2025-02-26T16:39:07.870009Z",
     "iopub.status.idle": "2025-02-26T16:39:07.884038Z",
     "shell.execute_reply": "2025-02-26T16:39:07.882877Z"
    }
   },
   "outputs": [
    {
     "name": "stdout",
     "output_type": "stream",
     "text": [
      "'data.frame':\t18048 obs. of  5 variables:\n",
      " $ Peak_ID   : chr  \"chr1-43952784-43953586\" \"chr1-44035644-44036873\" \"chr1-44260850-44262283\" \"chr1-44404891-44408130\" ...\n",
      " $ count     : num  24.5 15.7 21.9 95.6 14.2 ...\n",
      " $ cell_type : chr  \"hESC\" \"hESC\" \"hESC\" \"hESC\" ...\n",
      " $ clone_line: chr  \"DNMT3A_1\" \"DNMT3A_1\" \"DNMT3A_1\" \"DNMT3A_1\" ...\n",
      " $ time_point: chr  \"Day_0\" \"Day_0\" \"Day_0\" \"Day_0\" ...\n"
     ]
    }
   ],
   "source": [
    "REP<-nor_counts.m\n",
    "\n",
    "str(REP)"
   ]
  },
  {
   "cell_type": "code",
   "execution_count": 258,
   "id": "476b80bc-e9b0-44d1-bfbd-461c242d8260",
   "metadata": {
    "execution": {
     "iopub.execute_input": "2025-02-26T16:39:21.837090Z",
     "iopub.status.busy": "2025-02-26T16:39:21.835972Z",
     "iopub.status.idle": "2025-02-26T16:39:21.870502Z",
     "shell.execute_reply": "2025-02-26T16:39:21.869228Z"
    }
   },
   "outputs": [
    {
     "name": "stdout",
     "output_type": "stream",
     "text": [
      "'data.frame':\t1504 obs. of  14 variables:\n",
      " $ Peak_ID                 : chr  \"chr1-43952784-43953586\" \"chr1-44035644-44036873\" \"chr1-44260850-44262283\" \"chr1-44404891-44408130\" ...\n",
      " $ time_point              : chr  \"Day_0\" \"Day_0\" \"Day_0\" \"Day_0\" ...\n",
      " $ hESC|DNMT3A_1           : num  24.5 15.7 21.9 95.6 14.2 ...\n",
      " $ hESC|DNMT3A_2           : num  18.3 34 18.3 112.4 15.7 ...\n",
      " $ hESC|DNMT3A_3           : num  23 14.9 22.4 87.7 13 ...\n",
      " $ hESC|rs62237617_1       : num  34 20.4 22.6 101.9 15.8 ...\n",
      " $ hESC|rs62237617_2       : num  26.62 33.88 21.78 101.63 9.68 ...\n",
      " $ hESC|rs62237617_3       : num  31.2 24 15.6 61.3 10.8 ...\n",
      " $ hESC|rs62237617_DNMT3A_1: num  25.9 15.7 24.5 77.8 12.7 ...\n",
      " $ hESC|rs62237617_DNMT3A_2: num  22.63 17.47 25.01 86.56 7.15 ...\n",
      " $ hESC|rs62237617_DNMT3A_3: num  25.7 16.7 22.7 87.9 10.7 ...\n",
      " $ hESC|wt_1               : num  45.56 9.11 18.22 63.78 13.67 ...\n",
      " $ hESC|wt_2               : num  23.7 33.6 37.5 94.8 7.9 ...\n",
      " $ hESC|wt_3               : num  25.17 9.44 15.73 113.24 22.02 ...\n"
     ]
    }
   ],
   "source": [
    "REP_wide<-as.data.frame(pivot_wider(REP, id_cols=c('Peak_ID','time_point'), \n",
    "                                    names_from=c('cell_type',\"clone_line\"), \n",
    "                                    values_from='count',\n",
    "                                    names_sep='|'), stringsAsFactors=F)\n",
    "\n",
    "str(REP_wide)"
   ]
  },
  {
   "cell_type": "code",
   "execution_count": 259,
   "id": "adda22f1-f848-48d9-8941-6cc778368285",
   "metadata": {
    "execution": {
     "iopub.execute_input": "2025-02-26T16:40:25.951360Z",
     "iopub.status.busy": "2025-02-26T16:40:25.950275Z",
     "iopub.status.idle": "2025-02-26T16:40:25.967103Z",
     "shell.execute_reply": "2025-02-26T16:40:25.965985Z"
    }
   },
   "outputs": [
    {
     "name": "stdout",
     "output_type": "stream",
     "text": [
      " num [1:1504, 1:12] 24.5 15.7 21.9 95.6 14.2 ...\n",
      " - attr(*, \"dimnames\")=List of 2\n",
      "  ..$ : chr [1:1504] \"chr1-43952784-43953586\" \"chr1-44035644-44036873\" \"chr1-44260850-44262283\" \"chr1-44404891-44408130\" ...\n",
      "  ..$ : chr [1:12] \"hESC|DNMT3A_1\" \"hESC|DNMT3A_2\" \"hESC|DNMT3A_3\" \"hESC|rs62237617_1\" ...\n"
     ]
    }
   ],
   "source": [
    "Peak_count_matrix<-as.matrix(REP_wide[,-which(colnames(REP_wide)%in%c('Peak_ID','time_point'))])\n",
    "\n",
    "row.names(Peak_count_matrix)<-REP_wide$Peak_ID\n",
    "\n",
    "str(Peak_count_matrix)"
   ]
  },
  {
   "cell_type": "markdown",
   "id": "d03ddbb2-e5a3-45ba-b592-a4122db00a8b",
   "metadata": {},
   "source": [
    "## Annotation of columns"
   ]
  },
  {
   "cell_type": "code",
   "execution_count": 260,
   "id": "189bf514-7737-465d-94d7-2dbc0392d60a",
   "metadata": {
    "execution": {
     "iopub.execute_input": "2025-02-26T16:40:31.317447Z",
     "iopub.status.busy": "2025-02-26T16:40:31.316341Z",
     "iopub.status.idle": "2025-02-26T16:40:31.403379Z",
     "shell.execute_reply": "2025-02-26T16:40:31.402206Z"
    }
   },
   "outputs": [
    {
     "name": "stdout",
     "output_type": "stream",
     "text": [
      "annotation_col_0\n",
      "'data.frame':\t12 obs. of  2 variables:\n",
      " $ cell_type : logi  NA NA NA NA NA NA ...\n",
      " $ clone_line: logi  NA NA NA NA NA NA ...\n",
      "\n",
      "annotation_col_1\n",
      "'data.frame':\t12 obs. of  2 variables:\n",
      " $ cell_type : chr  \"hESC\" \"hESC\" \"hESC\" \"hESC\" ...\n",
      " $ clone_line: chr  \"DNMT3A_1\" \"DNMT3A_2\" \"DNMT3A_3\" \"rs62237617_1\" ...\n",
      "\n",
      "annotation_col_PRE\n",
      "'data.frame':\t12 obs. of  3 variables:\n",
      " $ cell_type : chr  \"hESC\" \"hESC\" \"hESC\" \"hESC\" ...\n",
      " $ clone_line: chr  \"DNMT3A_1\" \"DNMT3A_2\" \"DNMT3A_3\" \"rs62237617_1\" ...\n",
      " $ Genotype  : chr  \"DNMT3A\" \"DNMT3A\" \"DNMT3A\" \"rs62237617\" ...\n",
      "\n"
     ]
    },
    {
     "data": {
      "text/html": [
       "<style>\n",
       ".list-inline {list-style: none; margin:0; padding: 0}\n",
       ".list-inline>li {display: inline-block}\n",
       ".list-inline>li:not(:last-child)::after {content: \"\\00b7\"; padding: 0 .5ex}\n",
       "</style>\n",
       "<ol class=list-inline><li>'DNMT3A'</li><li>'rs62237617'</li><li>'rs62237617_DNMT3A'</li><li>'wt'</li></ol>\n"
      ],
      "text/latex": [
       "\\begin{enumerate*}\n",
       "\\item 'DNMT3A'\n",
       "\\item 'rs62237617'\n",
       "\\item 'rs62237617\\_DNMT3A'\n",
       "\\item 'wt'\n",
       "\\end{enumerate*}\n"
      ],
      "text/markdown": [
       "1. 'DNMT3A'\n",
       "2. 'rs62237617'\n",
       "3. 'rs62237617_DNMT3A'\n",
       "4. 'wt'\n",
       "\n",
       "\n"
      ],
      "text/plain": [
       "[1] \"DNMT3A\"            \"rs62237617\"        \"rs62237617_DNMT3A\"\n",
       "[4] \"wt\"               "
      ]
     },
     "metadata": {},
     "output_type": "display_data"
    },
    {
     "name": "stdout",
     "output_type": "stream",
     "text": [
      "\n"
     ]
    },
    {
     "data": {
      "text/html": [
       "<style>\n",
       ".list-inline {list-style: none; margin:0; padding: 0}\n",
       ".list-inline>li {display: inline-block}\n",
       ".list-inline>li:not(:last-child)::after {content: \"\\00b7\"; padding: 0 .5ex}\n",
       "</style>\n",
       "<ol class=list-inline><li>'DNMT3A_1'</li><li>'DNMT3A_2'</li><li>'DNMT3A_3'</li><li>'rs62237617_1'</li><li>'rs62237617_2'</li><li>'rs62237617_3'</li><li>'rs62237617_DNMT3A_1'</li><li>'rs62237617_DNMT3A_2'</li><li>'rs62237617_DNMT3A_3'</li><li>'wt_1'</li><li>'wt_2'</li><li>'wt_3'</li></ol>\n"
      ],
      "text/latex": [
       "\\begin{enumerate*}\n",
       "\\item 'DNMT3A\\_1'\n",
       "\\item 'DNMT3A\\_2'\n",
       "\\item 'DNMT3A\\_3'\n",
       "\\item 'rs62237617\\_1'\n",
       "\\item 'rs62237617\\_2'\n",
       "\\item 'rs62237617\\_3'\n",
       "\\item 'rs62237617\\_DNMT3A\\_1'\n",
       "\\item 'rs62237617\\_DNMT3A\\_2'\n",
       "\\item 'rs62237617\\_DNMT3A\\_3'\n",
       "\\item 'wt\\_1'\n",
       "\\item 'wt\\_2'\n",
       "\\item 'wt\\_3'\n",
       "\\end{enumerate*}\n"
      ],
      "text/markdown": [
       "1. 'DNMT3A_1'\n",
       "2. 'DNMT3A_2'\n",
       "3. 'DNMT3A_3'\n",
       "4. 'rs62237617_1'\n",
       "5. 'rs62237617_2'\n",
       "6. 'rs62237617_3'\n",
       "7. 'rs62237617_DNMT3A_1'\n",
       "8. 'rs62237617_DNMT3A_2'\n",
       "9. 'rs62237617_DNMT3A_3'\n",
       "10. 'wt_1'\n",
       "11. 'wt_2'\n",
       "12. 'wt_3'\n",
       "\n",
       "\n"
      ],
      "text/plain": [
       " [1] \"DNMT3A_1\"            \"DNMT3A_2\"            \"DNMT3A_3\"           \n",
       " [4] \"rs62237617_1\"        \"rs62237617_2\"        \"rs62237617_3\"       \n",
       " [7] \"rs62237617_DNMT3A_1\" \"rs62237617_DNMT3A_2\" \"rs62237617_DNMT3A_3\"\n",
       "[10] \"wt_1\"                \"wt_2\"                \"wt_3\"               "
      ]
     },
     "metadata": {},
     "output_type": "display_data"
    },
    {
     "name": "stdout",
     "output_type": "stream",
     "text": [
      "\n"
     ]
    },
    {
     "data": {
      "text/html": [
       "'hESC'"
      ],
      "text/latex": [
       "'hESC'"
      ],
      "text/markdown": [
       "'hESC'"
      ],
      "text/plain": [
       "[1] \"hESC\""
      ]
     },
     "metadata": {},
     "output_type": "display_data"
    },
    {
     "name": "stdout",
     "output_type": "stream",
     "text": [
      "\n",
      "annotation_col_POST\n",
      "'data.frame':\t12 obs. of  3 variables:\n",
      " $ cell_type : Ord.factor w/ 1 level \"hESC\": 1 1 1 1 1 1 1 1 1 1 ...\n",
      " $ clone_line: Ord.factor w/ 12 levels \"wt_1\"<\"wt_2\"<..: 7 8 9 4 5 6 10 11 12 1 ...\n",
      " $ Genotype  : Ord.factor w/ 4 levels \"wt\"<\"rs62237617\"<..: 3 3 3 2 2 2 4 4 4 1 ...\n",
      "\n"
     ]
    },
    {
     "data": {
      "text/html": [
       "<style>\n",
       ".list-inline {list-style: none; margin:0; padding: 0}\n",
       ".list-inline>li {display: inline-block}\n",
       ".list-inline>li:not(:last-child)::after {content: \"\\00b7\"; padding: 0 .5ex}\n",
       "</style>\n",
       "<ol class=list-inline><li>'wt'</li><li>'rs62237617'</li><li>'DNMT3A'</li><li>'rs62237617_DNMT3A'</li></ol>\n"
      ],
      "text/latex": [
       "\\begin{enumerate*}\n",
       "\\item 'wt'\n",
       "\\item 'rs62237617'\n",
       "\\item 'DNMT3A'\n",
       "\\item 'rs62237617\\_DNMT3A'\n",
       "\\end{enumerate*}\n"
      ],
      "text/markdown": [
       "1. 'wt'\n",
       "2. 'rs62237617'\n",
       "3. 'DNMT3A'\n",
       "4. 'rs62237617_DNMT3A'\n",
       "\n",
       "\n"
      ],
      "text/plain": [
       "[1] \"wt\"                \"rs62237617\"        \"DNMT3A\"           \n",
       "[4] \"rs62237617_DNMT3A\""
      ]
     },
     "metadata": {},
     "output_type": "display_data"
    },
    {
     "name": "stdout",
     "output_type": "stream",
     "text": [
      "\n"
     ]
    },
    {
     "data": {
      "text/html": [
       "<style>\n",
       ".list-inline {list-style: none; margin:0; padding: 0}\n",
       ".list-inline>li {display: inline-block}\n",
       ".list-inline>li:not(:last-child)::after {content: \"\\00b7\"; padding: 0 .5ex}\n",
       "</style>\n",
       "<ol class=list-inline><li>'wt_1'</li><li>'wt_2'</li><li>'wt_3'</li><li>'rs62237617_1'</li><li>'rs62237617_2'</li><li>'rs62237617_3'</li><li>'DNMT3A_1'</li><li>'DNMT3A_2'</li><li>'DNMT3A_3'</li><li>'rs62237617_DNMT3A_1'</li><li>'rs62237617_DNMT3A_2'</li><li>'rs62237617_DNMT3A_3'</li></ol>\n"
      ],
      "text/latex": [
       "\\begin{enumerate*}\n",
       "\\item 'wt\\_1'\n",
       "\\item 'wt\\_2'\n",
       "\\item 'wt\\_3'\n",
       "\\item 'rs62237617\\_1'\n",
       "\\item 'rs62237617\\_2'\n",
       "\\item 'rs62237617\\_3'\n",
       "\\item 'DNMT3A\\_1'\n",
       "\\item 'DNMT3A\\_2'\n",
       "\\item 'DNMT3A\\_3'\n",
       "\\item 'rs62237617\\_DNMT3A\\_1'\n",
       "\\item 'rs62237617\\_DNMT3A\\_2'\n",
       "\\item 'rs62237617\\_DNMT3A\\_3'\n",
       "\\end{enumerate*}\n"
      ],
      "text/markdown": [
       "1. 'wt_1'\n",
       "2. 'wt_2'\n",
       "3. 'wt_3'\n",
       "4. 'rs62237617_1'\n",
       "5. 'rs62237617_2'\n",
       "6. 'rs62237617_3'\n",
       "7. 'DNMT3A_1'\n",
       "8. 'DNMT3A_2'\n",
       "9. 'DNMT3A_3'\n",
       "10. 'rs62237617_DNMT3A_1'\n",
       "11. 'rs62237617_DNMT3A_2'\n",
       "12. 'rs62237617_DNMT3A_3'\n",
       "\n",
       "\n"
      ],
      "text/plain": [
       " [1] \"wt_1\"                \"wt_2\"                \"wt_3\"               \n",
       " [4] \"rs62237617_1\"        \"rs62237617_2\"        \"rs62237617_3\"       \n",
       " [7] \"DNMT3A_1\"            \"DNMT3A_2\"            \"DNMT3A_3\"           \n",
       "[10] \"rs62237617_DNMT3A_1\" \"rs62237617_DNMT3A_2\" \"rs62237617_DNMT3A_3\""
      ]
     },
     "metadata": {},
     "output_type": "display_data"
    },
    {
     "name": "stdout",
     "output_type": "stream",
     "text": [
      "\n"
     ]
    },
    {
     "data": {
      "text/html": [
       "'hESC'"
      ],
      "text/latex": [
       "'hESC'"
      ],
      "text/markdown": [
       "'hESC'"
      ],
      "text/plain": [
       "[1] \"hESC\""
      ]
     },
     "metadata": {},
     "output_type": "display_data"
    },
    {
     "name": "stdout",
     "output_type": "stream",
     "text": [
      "\n"
     ]
    }
   ],
   "source": [
    "  \n",
    "  annotation_col<- data.frame(matrix(vector(), length(colnames(Peak_count_matrix)), 2,\n",
    "                                     dimnames=list(c(),\n",
    "                                                   c(\"cell_type\",\"clone_line\"))),stringsAsFactors=F)\n",
    "  \n",
    "  row.names(annotation_col)<-colnames(Peak_count_matrix)\n",
    "  \n",
    "  \n",
    "  cat(\"annotation_col_0\\n\")\n",
    "  cat(str(annotation_col))\n",
    "  cat(\"\\n\")\n",
    "  #cat(sprintf(as.character(row.names(annotation_col))))\n",
    "  #cat(\"\\n\")\n",
    "\n",
    "annotation_col$cell_type<-gsub(\"\\\\|.+$\",\"\", row.names(annotation_col))\n",
    "annotation_col$clone_line<-gsub(\"^[^\\\\|]+\\\\|\",\"\", row.names(annotation_col))\n",
    "\n",
    " cat(\"annotation_col_1\\n\")\n",
    "  cat(str(annotation_col))\n",
    "  cat(\"\\n\")\n",
    "\n",
    "annotation_col$Genotype<-NA\n",
    "  \n",
    "  annotation_col$Genotype[which(annotation_col$clone_line%in%c('wt_1','wt_2','wt_3'))]<-'wt'\n",
    "  annotation_col$Genotype[which(annotation_col$clone_line%in%c('rs62237617_1','rs62237617_2','rs62237617_3'))]<-'rs62237617'\n",
    "  annotation_col$Genotype[which(annotation_col$clone_line%in%c('DNMT3A_1','DNMT3A_2','DNMT3A_3'))]<-'DNMT3A'\n",
    "  annotation_col$Genotype[which(annotation_col$clone_line%in%c('rs62237617_DNMT3A_1','rs62237617_DNMT3A_2','rs62237617_DNMT3A_3'))]<-'rs62237617_DNMT3A'\n",
    "\n",
    "\n",
    "cat(\"annotation_col_PRE\\n\")\n",
    "  cat(str(annotation_col))\n",
    "  cat(\"\\n\")\n",
    "names(summary(as.factor(annotation_col$Genotype)))\n",
    "  cat(\"\\n\")\n",
    "names(summary(as.factor(annotation_col$clone_line)))\n",
    "  cat(\"\\n\")\n",
    "names(summary(as.factor(annotation_col$cell_type)))\n",
    "  cat(\"\\n\")\n",
    "\n",
    "annotation_col$Genotype<-factor(annotation_col$Genotype,\n",
    "                                                    levels=levels(adata@meta.data$Genotype),\n",
    "                                                    ordered=T)\n",
    "\n",
    "annotation_col$clone_line<-droplevels(factor(annotation_col$clone_line,\n",
    "                                                    levels=levels(adata@meta.data$clone_line),\n",
    "                                                    ordered=T))\n",
    "\n",
    "annotation_col$cell_type<-droplevels(factor(annotation_col$cell_type,\n",
    "                                                    levels=levels(adata@meta.data$refined_annotation_majority_vote),\n",
    "                                                    ordered=T))\n",
    "\n",
    "cat(\"annotation_col_POST\\n\")\n",
    "  cat(str(annotation_col))\n",
    "  cat(\"\\n\")\n",
    "names(summary(as.factor(annotation_col$Genotype)))\n",
    "  cat(\"\\n\")\n",
    "names(summary(as.factor(annotation_col$clone_line)))\n",
    "  cat(\"\\n\")\n",
    "names(summary(as.factor(annotation_col$cell_type)))\n",
    "  cat(\"\\n\")"
   ]
  },
  {
   "cell_type": "markdown",
   "id": "d96be3d4-87d4-4adc-bd47-eaa260ab8f45",
   "metadata": {},
   "source": [
    "## Annotation of colors"
   ]
  },
  {
   "cell_type": "code",
   "execution_count": 262,
   "id": "d5e8b085-9d4a-45db-b29a-ce9cd88e0f79",
   "metadata": {
    "execution": {
     "iopub.execute_input": "2025-02-26T16:40:59.421741Z",
     "iopub.status.busy": "2025-02-26T16:40:59.420640Z",
     "iopub.status.idle": "2025-02-26T16:40:59.483405Z",
     "shell.execute_reply": "2025-02-26T16:40:59.482179Z"
    }
   },
   "outputs": [
    {
     "name": "stdout",
     "output_type": "stream",
     "text": [
      "List of 3\n",
      " $ clone_line: Named chr [1:12] \"#74C476\" \"#41AB5D\" \"#238B45\" \"#FB6A4A\" ...\n",
      "  ..- attr(*, \"names\")= chr [1:12] \"wt_1\" \"wt_2\" \"wt_3\" \"rs62237617_1\" ...\n",
      " $ Genotype  : Named chr [1:4] \"#74C476\" \"#FB6A4A\" \"#9E9AC8\" \"#C6DBEF\"\n",
      "  ..- attr(*, \"names\")= chr [1:4] \"wt\" \"rs62237617\" \"DNMT3A\" \"rs62237617_DNMT3A\"\n",
      " $ cluster   : Named chr [1:6] \"#1B9E77\" \"#D95F02\" \"#7570B3\" \"#E7298A\" ...\n",
      "  ..- attr(*, \"names\")= chr [1:6] \"1\" \"2\" \"3\" \"4\" ...\n"
     ]
    }
   ],
   "source": [
    " \n",
    "ann_colors <- list( clone_line = c('wt_1' = brewer.pal(9, \"Greens\")[c(5)],\n",
    "                                  'wt_2' = brewer.pal(9, \"Greens\")[c(6)],\n",
    "                                  'wt_3' = brewer.pal(9, \"Greens\")[c(7)],\n",
    "                                   'rs62237617_1' = brewer.pal(9, \"Reds\")[c(5)],\n",
    "                                    'rs62237617_2' = brewer.pal(9, \"Reds\")[c(6)],\n",
    "                                   'rs62237617_3' = brewer.pal(9, \"Reds\")[c(7)],\n",
    "                                   'DNMT3A_1' = brewer.pal(9, \"Purples\")[c(5)],\n",
    "                                   'DNMT3A_2' = brewer.pal(9, \"Purples\")[c(6)],\n",
    "                                   'DNMT3A_3' = brewer.pal(9, \"Purples\")[c(7)],\n",
    "                                   'rs62237617_DNMT3A_1' = brewer.pal(9, \"Blues\")[c(3)],\n",
    "                                    'rs62237617_DNMT3A_2' = brewer.pal(9, \"Blues\")[c(4)],\n",
    "                                   'rs62237617_DNMT3A_3' = brewer.pal(9, \"Blues\")[c(5)]),\n",
    "                   Genotype = c('wt' = brewer.pal(9, \"Greens\")[c(5)],\n",
    "                                                    'rs62237617' = brewer.pal(9, \"Reds\")[c(5)],\n",
    "                                                    'DNMT3A' = brewer.pal(9, \"Purples\")[c(5)],\n",
    "                                                    'rs62237617_DNMT3A' = brewer.pal(9, \"Blues\")[c(3)]),\n",
    "                   cluster = c('1' = brewer.pal(6, \"Dark2\")[c(1)],\n",
    "                                 '2' = brewer.pal(6, \"Dark2\")[c(2)],\n",
    "                                   '3' = brewer.pal(6, \"Dark2\")[c(3)],\n",
    "                                    '4' = brewer.pal(6, \"Dark2\")[c(4)],\n",
    "                                    '5' = brewer.pal(6, \"Dark2\")[c(5)],\n",
    "                                    '6' = brewer.pal(6, \"Dark2\")[c(6)])                 \n",
    "                                   \n",
    "                  )\n",
    "\n",
    "\n",
    "str(ann_colors)"
   ]
  },
  {
   "cell_type": "markdown",
   "id": "3b175120-63f0-47a3-9e54-70d7e0ce4ad8",
   "metadata": {},
   "source": [
    "## graph"
   ]
  },
  {
   "cell_type": "code",
   "execution_count": 265,
   "id": "bceb0edf-a246-4664-8441-59e90ff56369",
   "metadata": {
    "execution": {
     "iopub.execute_input": "2025-02-26T16:42:03.651404Z",
     "iopub.status.busy": "2025-02-26T16:42:03.650233Z",
     "iopub.status.idle": "2025-02-26T16:42:04.370909Z",
     "shell.execute_reply": "2025-02-26T16:42:04.369632Z"
    }
   },
   "outputs": [
    {
     "data": {
      "image/png": "[encoded data removed]",
      "text/plain": [
       "plot without title"
      ]
     },
     "metadata": {
      "image/png": {
       "height": 420,
       "width": 420
      }
     },
     "output_type": "display_data"
    }
   ],
   "source": [
    "heatmap<-pheatmap(Peak_count_matrix, display_numbers = FALSE, number_format = \"%.1e\",\n",
    "                    show_colnames=FALSE,\n",
    "                      show_rownames=FALSE,\n",
    "                    angle_col = \"45\",\n",
    "                    clustering_method=\"ward.D2\",\n",
    "                    fontsize_row = 8, \n",
    "                    fontsize_col = 8,\n",
    "                    breaks=seq(-2,2,length.out=101),\n",
    "                    color=colorRampPalette(c(\"blue\",\"white\",\"red\"))(100),\n",
    "                    scale=\"row\",\n",
    "                    cluster_cols=TRUE,\n",
    "                    border_color='black',\n",
    "                    treeheight_row=70, treeheight_col=70, cutree_cols=7,\n",
    "                  annotation_col = annotation_col,\n",
    "                  annotation_colors = ann_colors)"
   ]
  },
  {
   "cell_type": "code",
   "execution_count": 267,
   "id": "6e6f68d4-f6a8-427d-adab-6a53cb315944",
   "metadata": {
    "execution": {
     "iopub.execute_input": "2025-02-26T16:43:34.906855Z",
     "iopub.status.busy": "2025-02-26T16:43:34.905758Z",
     "iopub.status.idle": "2025-02-26T16:43:35.254152Z",
     "shell.execute_reply": "2025-02-26T16:43:35.252702Z"
    }
   },
   "outputs": [],
   "source": [
    "setwd(\"/group/soranzo/manuel.tardaguila/2025_hESC_MK_multiome/Downstream_analysis_cluster_after_genotyping/graphs_explore_subclustering/\")\n",
    "\n",
    "\n",
    "svgname<-paste(paste(\"Heatmap_Linked_peaks\",cell_type_sel, time_point_sel, sep='_'),\".svg\",sep='')\n",
    "\n",
    "\n",
    "ggsave(svgname,plot=heatmap, device ='svg', height =13, width =13)\n"
   ]
  },
  {
   "cell_type": "markdown",
   "id": "dc44d2ea-001f-45be-845e-340c83a46192",
   "metadata": {},
   "source": [
    "# Cell count plot"
   ]
  },
  {
   "cell_type": "markdown",
   "id": "c86aa8ee-ce3f-4ea8-946a-47289a2de177",
   "metadata": {},
   "source": [
    "### Define cell_type_sel and time_point_sel"
   ]
  },
  {
   "cell_type": "code",
   "execution_count": 268,
   "id": "bb9bd4d8-75ae-48e6-9488-d5e4e7358bdd",
   "metadata": {
    "execution": {
     "iopub.execute_input": "2025-02-26T16:44:02.663346Z",
     "iopub.status.busy": "2025-02-26T16:44:02.662241Z",
     "iopub.status.idle": "2025-02-26T16:44:02.673177Z",
     "shell.execute_reply": "2025-02-26T16:44:02.671992Z"
    }
   },
   "outputs": [],
   "source": [
    "cell_type_sel<-'hESC'\n",
    "\n",
    "time_point_sel<-'Day_0'\n"
   ]
  },
  {
   "cell_type": "markdown",
   "id": "b82ca5b4-51a4-40f3-af73-76e6fadb720a",
   "metadata": {},
   "source": [
    "### Subset the metadata list"
   ]
  },
  {
   "cell_type": "code",
   "execution_count": 269,
   "id": "ed4e10fa-c967-4c1c-a8be-2f1bb84240d7",
   "metadata": {
    "execution": {
     "iopub.execute_input": "2025-02-26T16:44:03.352459Z",
     "iopub.status.busy": "2025-02-26T16:44:03.351339Z",
     "iopub.status.idle": "2025-02-26T16:44:03.366334Z",
     "shell.execute_reply": "2025-02-26T16:44:03.365115Z"
    }
   },
   "outputs": [
    {
     "name": "stdout",
     "output_type": "stream",
     "text": [
      "'data.frame':\t13 obs. of  7 variables:\n",
      " $ sample_id                                 : chr  \"DNMT3A_1_Day_0\" \"DNMT3A_1_Day_8\" \"DNMT3A_2_Day_0\" \"DNMT3A_3_Day_0\" ...\n",
      " $ refined_annotation_majority_vote_sample_id: chr  \"DNMT3A_1_Day_0_clusterhESC\" \"DNMT3A_1_Day_8_clusterhESC\" \"DNMT3A_2_Day_0_clusterhESC\" \"DNMT3A_3_Day_0_clusterhESC\" ...\n",
      " $ refined_annotation_majority_vote_id       : chr  \"hESC\" \"hESC\" \"hESC\" \"hESC\" ...\n",
      " $ cell_count                                : int  893 1 98 2277 130 119 242 506 600 715 ...\n",
      " $ Genotype                                  : Ord.factor w/ 4 levels \"wt\"<\"rs62237617\"<..: 3 3 3 3 2 2 2 4 4 4 ...\n",
      " $ clone_line                                : Ord.factor w/ 12 levels \"wt_1\"<\"wt_2\"<..: 7 7 8 9 4 5 6 10 11 12 ...\n",
      " $ time_point                                : Ord.factor w/ 4 levels \"Day_0\"<\"Day_8\"<..: 1 2 1 1 1 1 1 1 1 1 ...\n"
     ]
    }
   ],
   "source": [
    "metadata_df<-metadata_ls[[cell_type_sel]]\n",
    "\n",
    "str(metadata_df)"
   ]
  },
  {
   "cell_type": "code",
   "execution_count": 270,
   "id": "98ca739a-0860-4d7d-8cdd-1cb1a3b2bc80",
   "metadata": {
    "execution": {
     "iopub.execute_input": "2025-02-26T16:44:06.256423Z",
     "iopub.status.busy": "2025-02-26T16:44:06.255280Z",
     "iopub.status.idle": "2025-02-26T16:44:06.274911Z",
     "shell.execute_reply": "2025-02-26T16:44:06.273680Z"
    }
   },
   "outputs": [
    {
     "name": "stdout",
     "output_type": "stream",
     "text": [
      "'data.frame':\t12 obs. of  7 variables:\n",
      " $ sample_id                                 : chr  \"wt_1_Day_0\" \"wt_2_Day_0\" \"wt_3_Day_0\" \"rs62237617_1_Day_0\" ...\n",
      " $ refined_annotation_majority_vote_sample_id: chr  \"wt_1_Day_0_clusterhESC\" \"wt_2_Day_0_clusterhESC\" \"wt_3_Day_0_clusterhESC\" \"rs62237617_1_Day_0_clusterhESC\" ...\n",
      " $ refined_annotation_majority_vote_id       : chr  \"hESC\" \"hESC\" \"hESC\" \"hESC\" ...\n",
      " $ cell_count                                : int  60 132 80 130 119 242 893 98 2277 506 ...\n",
      " $ Genotype                                  : Ord.factor w/ 4 levels \"wt\"<\"rs62237617\"<..: 1 1 1 2 2 2 3 3 3 4 ...\n",
      " $ clone_line                                : Ord.factor w/ 12 levels \"wt_1\"<\"wt_2\"<..: 1 2 3 4 5 6 7 8 9 10 ...\n",
      " $ time_point                                : Ord.factor w/ 1 level \"Day_0\": 1 1 1 1 1 1 1 1 1 1 ...\n",
      "\n"
     ]
    }
   ],
   "source": [
    "metadata_df_time_point<-droplevels(metadata_df[which(metadata_df$time_point == time_point_sel),])\n",
    "metadata_df_time_point<-metadata_df_time_point[order(metadata_df_time_point$clone_line),]\n",
    "\n",
    "str(metadata_df_time_point)\n",
    "cat(\"\\n\")"
   ]
  },
  {
   "cell_type": "markdown",
   "id": "efdbf288-4eb0-4d91-ad12-88b6f169b872",
   "metadata": {},
   "source": [
    "## Barplot of cell counts"
   ]
  },
  {
   "cell_type": "code",
   "execution_count": 271,
   "id": "39c28598-6436-4ad9-9a5a-16e10ae7a1c9",
   "metadata": {
    "execution": {
     "iopub.execute_input": "2025-02-26T16:44:07.680992Z",
     "iopub.status.busy": "2025-02-26T16:44:07.679857Z",
     "iopub.status.idle": "2025-02-26T16:44:07.689295Z",
     "shell.execute_reply": "2025-02-26T16:44:07.688114Z"
    }
   },
   "outputs": [],
   "source": [
    "fill_colours<-c(brewer.pal(9, \"Greens\")[c(5,6,7)],brewer.pal(9, \"Reds\")[c(5,6,7)],brewer.pal(9, \"Purples\")[c(5,6,7)],brewer.pal(9, \"Blues\")[c(4,5,6)],'gray','black')"
   ]
  },
  {
   "cell_type": "code",
   "execution_count": 272,
   "id": "99562d18-24a7-4c7d-81ef-18a4404db482",
   "metadata": {
    "execution": {
     "iopub.execute_input": "2025-02-26T16:44:08.021898Z",
     "iopub.status.busy": "2025-02-26T16:44:08.020772Z",
     "iopub.status.idle": "2025-02-26T16:44:08.423240Z",
     "shell.execute_reply": "2025-02-26T16:44:08.421962Z"
    }
   },
   "outputs": [
    {
     "name": "stderr",
     "output_type": "stream",
     "text": [
      "Warning message:\n",
      "“\u001b[1m\u001b[22mThe `size` argument of `element_line()` is deprecated as of ggplot2 3.4.0.\n",
      "\u001b[36mℹ\u001b[39m Please use the `linewidth` argument instead.”\n"
     ]
    },
    {
     "data": {
      "image/png": "[encoded data removed]",
      "text/plain": [
       "plot without title"
      ]
     },
     "metadata": {
      "image/png": {
       "height": 420,
       "width": 420
      }
     },
     "output_type": "display_data"
    }
   ],
   "source": [
    "  barplot<-ggplot(data=metadata_df_time_point,\n",
    "           aes(x=clone_line, y=cell_count,\n",
    "               fill=clone_line)) +\n",
    "    geom_bar(stat=\"identity\",colour='white')+\n",
    "    scale_y_continuous(name=paste(\"Number of cells in each pseudobulk\",sep=\" \"))+\n",
    "    scale_fill_manual(values=fill_colours,\n",
    "                      drop=F,\n",
    "                      name=\"GFPbc\")+\n",
    "     theme_classic()+\n",
    "            theme(axis.title.y=element_text(size=12, color=\"black\", family=\"sans\"),\n",
    "                  axis.title.x=element_blank(),\n",
    "                  axis.text.y=element_text(angle=0,size=8, color=\"black\", family=\"sans\"),\n",
    "                  axis.text.x=element_text(angle=45,size=12,vjust=1,hjust=1,color=\"black\", family=\"sans\"),\n",
    "                  axis.line.x = element_line(size = 0.2),\n",
    "                  axis.ticks.x = element_line(size = 0.2),\n",
    "                  axis.ticks.y = element_line(size = 0.2),\n",
    "                  axis.line.y = element_line(size = 0.2))+\n",
    "            theme(legend.title = element_blank(),\n",
    "                  legend.text = element_text(size=8, color=\"black\", family=\"sans\"),\n",
    "                  legend.key.size = unit(0.25, 'cm'), #change legend key size\n",
    "                  legend.key.height = unit(0.25, 'cm'), #change legend key height\n",
    "                  legend.key.width = unit(0.25, 'cm'), #change legend key width\n",
    "                  legend.position=\"hidden\")\n",
    "\n",
    " barplot"
   ]
  },
  {
   "cell_type": "code",
   "execution_count": 273,
   "id": "38c7d15d-8286-412f-8ebe-6526cbc6d225",
   "metadata": {
    "execution": {
     "iopub.execute_input": "2025-02-26T16:44:30.490812Z",
     "iopub.status.busy": "2025-02-26T16:44:30.489621Z",
     "iopub.status.idle": "2025-02-26T16:44:30.672919Z",
     "shell.execute_reply": "2025-02-26T16:44:30.671441Z"
    }
   },
   "outputs": [],
   "source": [
    "setwd(\"/group/soranzo/manuel.tardaguila/2025_hESC_MK_multiome/Downstream_analysis_cluster_after_genotyping/graphs_explore_subclustering/\")\n",
    "\n",
    "\n",
    "svgname<-paste(paste(\"Barplot_cell_counts_linked_peaks\",cell_type_sel, time_point_sel, sep='_'),\".svg\",sep='')\n",
    "\n",
    "\n",
    "ggsave(svgname,plot=barplot, device ='svg', height =4, width =4)\n"
   ]
  },
  {
   "cell_type": "markdown",
   "id": "58fc3cb1-b5c3-4fd3-8d8f-36ba1e0eb73a",
   "metadata": {},
   "source": [
    "## Read ALL_peaks normalized counts"
   ]
  },
  {
   "cell_type": "code",
   "execution_count": 275,
   "id": "972a9b79-d7ae-4bb3-8fd3-8e3b644fc456",
   "metadata": {
    "execution": {
     "iopub.execute_input": "2025-02-26T16:47:38.402974Z",
     "iopub.status.busy": "2025-02-26T16:47:38.401788Z",
     "iopub.status.idle": "2025-02-26T16:47:38.937352Z",
     "shell.execute_reply": "2025-02-26T16:47:38.935967Z"
    }
   },
   "outputs": [
    {
     "name": "stdout",
     "output_type": "stream",
     "text": [
      "'data.frame':\t308880 obs. of  5 variables:\n",
      " $ Peak_ID   : chr  \"chr1-629782-630038\" \"chr1-633775-634127\" \"chr1-778261-779284\" \"chr1-826625-827692\" ...\n",
      " $ count     : num  208.3 1206.3 53.4 24.1 26.7 ...\n",
      " $ cell_type : chr  \"hESC\" \"hESC\" \"hESC\" \"hESC\" ...\n",
      " $ clone_line: chr  \"DNMT3A_1\" \"DNMT3A_1\" \"DNMT3A_1\" \"DNMT3A_1\" ...\n",
      " $ time_point: chr  \"Day_0\" \"Day_0\" \"Day_0\" \"Day_0\" ...\n"
     ]
    }
   ],
   "source": [
    "setwd(\"/group/soranzo/manuel.tardaguila/2025_hESC_MK_multiome/Downstream_analysis_cluster_after_genotyping/\")\n",
    "\n",
    "nor_counts.m<-read.table(file=paste(\"normalized_ALL_peaks_counts_cell_type_\",cell_type_sel,\"_\",time_point_sel,\".tsv\", sep=''), sep=\"\\t\", header=T)\n",
    "\n",
    "\n",
    "str(nor_counts.m)"
   ]
  },
  {
   "cell_type": "markdown",
   "id": "a5c4b8d5-eb6c-42a4-a3c8-41103207a1a6",
   "metadata": {},
   "source": [
    "# Heatmaps Linked_peaks_counts"
   ]
  },
  {
   "cell_type": "markdown",
   "id": "26eb5c6b-6426-44d7-b517-e6d25344fee7",
   "metadata": {},
   "source": [
    "## Selection of genes"
   ]
  },
  {
   "cell_type": "code",
   "execution_count": 276,
   "id": "d25a4996-a7db-4b70-96da-816716d6b3e7",
   "metadata": {
    "execution": {
     "iopub.execute_input": "2025-02-26T16:47:45.656187Z",
     "iopub.status.busy": "2025-02-26T16:47:45.655015Z",
     "iopub.status.idle": "2025-02-26T16:47:45.669610Z",
     "shell.execute_reply": "2025-02-26T16:47:45.668292Z"
    }
   },
   "outputs": [
    {
     "name": "stdout",
     "output_type": "stream",
     "text": [
      "'data.frame':\t308880 obs. of  5 variables:\n",
      " $ Peak_ID   : chr  \"chr1-629782-630038\" \"chr1-633775-634127\" \"chr1-778261-779284\" \"chr1-826625-827692\" ...\n",
      " $ count     : num  208.3 1206.3 53.4 24.1 26.7 ...\n",
      " $ cell_type : chr  \"hESC\" \"hESC\" \"hESC\" \"hESC\" ...\n",
      " $ clone_line: chr  \"DNMT3A_1\" \"DNMT3A_1\" \"DNMT3A_1\" \"DNMT3A_1\" ...\n",
      " $ time_point: chr  \"Day_0\" \"Day_0\" \"Day_0\" \"Day_0\" ...\n"
     ]
    }
   ],
   "source": [
    "REP<-nor_counts.m\n",
    "\n",
    "str(REP)"
   ]
  },
  {
   "cell_type": "code",
   "execution_count": 277,
   "id": "ff3ee1a0-d988-45af-b926-f09f178303bc",
   "metadata": {
    "execution": {
     "iopub.execute_input": "2025-02-26T16:47:46.424632Z",
     "iopub.status.busy": "2025-02-26T16:47:46.423464Z",
     "iopub.status.idle": "2025-02-26T16:47:46.495904Z",
     "shell.execute_reply": "2025-02-26T16:47:46.494521Z"
    }
   },
   "outputs": [
    {
     "name": "stdout",
     "output_type": "stream",
     "text": [
      "'data.frame':\t25740 obs. of  14 variables:\n",
      " $ Peak_ID                 : chr  \"chr1-629782-630038\" \"chr1-633775-634127\" \"chr1-778261-779284\" \"chr1-826625-827692\" ...\n",
      " $ time_point              : chr  \"Day_0\" \"Day_0\" \"Day_0\" \"Day_0\" ...\n",
      " $ hESC|DNMT3A_1           : num  208.3 1206.3 53.4 24.1 26.7 ...\n",
      " $ hESC|DNMT3A_2           : num  284.9 1344.2 69.9 10.4 15.5 ...\n",
      " $ hESC|DNMT3A_3           : num  223.9 1198.1 53.3 23.4 27.1 ...\n",
      " $ hESC|rs62237617_1       : num  239.6 1254.1 60.5 24.6 17.9 ...\n",
      " $ hESC|rs62237617_2       : num  198.3 1211.6 48.4 36.3 19.3 ...\n",
      " $ hESC|rs62237617_3       : num  269 1268.1 79.3 20.4 32.4 ...\n",
      " $ hESC|rs62237617_DNMT3A_1: num  236.5 1195.5 53.9 24.4 32.4 ...\n",
      " $ hESC|rs62237617_DNMT3A_2: num  219.2 1180.3 63.9 24.3 31.1 ...\n",
      " $ hESC|rs62237617_DNMT3A_3: num  233 1186 64.3 26.7 28.7 ...\n",
      " $ hESC|wt_1               : num  174 1039.6 55.2 12.7 29.7 ...\n",
      " $ hESC|wt_2               : num  305.3 1266 60.7 25.4 25.4 ...\n",
      " $ hESC|wt_3               : num  228.9 1005.3 68.1 18.6 21.7 ...\n"
     ]
    }
   ],
   "source": [
    "REP_wide<-as.data.frame(pivot_wider(REP, id_cols=c('Peak_ID','time_point'), \n",
    "                                    names_from=c('cell_type',\"clone_line\"), \n",
    "                                    values_from='count',\n",
    "                                    names_sep='|'), stringsAsFactors=F)\n",
    "\n",
    "str(REP_wide)"
   ]
  },
  {
   "cell_type": "code",
   "execution_count": 278,
   "id": "26f3af47-c3ae-430b-bf3f-e88632d4f26d",
   "metadata": {
    "execution": {
     "iopub.execute_input": "2025-02-26T16:47:48.788953Z",
     "iopub.status.busy": "2025-02-26T16:47:48.787778Z",
     "iopub.status.idle": "2025-02-26T16:47:48.804075Z",
     "shell.execute_reply": "2025-02-26T16:47:48.802791Z"
    }
   },
   "outputs": [
    {
     "name": "stdout",
     "output_type": "stream",
     "text": [
      " num [1:25740, 1:12] 208.3 1206.3 53.4 24.1 26.7 ...\n",
      " - attr(*, \"dimnames\")=List of 2\n",
      "  ..$ : chr [1:25740] \"chr1-629782-630038\" \"chr1-633775-634127\" \"chr1-778261-779284\" \"chr1-826625-827692\" ...\n",
      "  ..$ : chr [1:12] \"hESC|DNMT3A_1\" \"hESC|DNMT3A_2\" \"hESC|DNMT3A_3\" \"hESC|rs62237617_1\" ...\n"
     ]
    }
   ],
   "source": [
    "Peak_count_matrix<-as.matrix(REP_wide[,-which(colnames(REP_wide)%in%c('Peak_ID','time_point'))])\n",
    "\n",
    "row.names(Peak_count_matrix)<-REP_wide$Peak_ID\n",
    "\n",
    "str(Peak_count_matrix)"
   ]
  },
  {
   "cell_type": "markdown",
   "id": "879f4349-3854-433c-b184-7d4b1dc45c5c",
   "metadata": {},
   "source": [
    "## Annotation of columns"
   ]
  },
  {
   "cell_type": "code",
   "execution_count": 279,
   "id": "dab5b49a-8086-4735-a503-b819c7bf4868",
   "metadata": {
    "execution": {
     "iopub.execute_input": "2025-02-26T16:47:50.531791Z",
     "iopub.status.busy": "2025-02-26T16:47:50.530627Z",
     "iopub.status.idle": "2025-02-26T16:47:50.621998Z",
     "shell.execute_reply": "2025-02-26T16:47:50.620741Z"
    }
   },
   "outputs": [
    {
     "name": "stdout",
     "output_type": "stream",
     "text": [
      "annotation_col_0\n",
      "'data.frame':\t12 obs. of  2 variables:\n",
      " $ cell_type : logi  NA NA NA NA NA NA ...\n",
      " $ clone_line: logi  NA NA NA NA NA NA ...\n",
      "\n",
      "annotation_col_1\n",
      "'data.frame':\t12 obs. of  2 variables:\n",
      " $ cell_type : chr  \"hESC\" \"hESC\" \"hESC\" \"hESC\" ...\n",
      " $ clone_line: chr  \"DNMT3A_1\" \"DNMT3A_2\" \"DNMT3A_3\" \"rs62237617_1\" ...\n",
      "\n",
      "annotation_col_PRE\n",
      "'data.frame':\t12 obs. of  3 variables:\n",
      " $ cell_type : chr  \"hESC\" \"hESC\" \"hESC\" \"hESC\" ...\n",
      " $ clone_line: chr  \"DNMT3A_1\" \"DNMT3A_2\" \"DNMT3A_3\" \"rs62237617_1\" ...\n",
      " $ Genotype  : chr  \"DNMT3A\" \"DNMT3A\" \"DNMT3A\" \"rs62237617\" ...\n",
      "\n"
     ]
    },
    {
     "data": {
      "text/html": [
       "<style>\n",
       ".list-inline {list-style: none; margin:0; padding: 0}\n",
       ".list-inline>li {display: inline-block}\n",
       ".list-inline>li:not(:last-child)::after {content: \"\\00b7\"; padding: 0 .5ex}\n",
       "</style>\n",
       "<ol class=list-inline><li>'DNMT3A'</li><li>'rs62237617'</li><li>'rs62237617_DNMT3A'</li><li>'wt'</li></ol>\n"
      ],
      "text/latex": [
       "\\begin{enumerate*}\n",
       "\\item 'DNMT3A'\n",
       "\\item 'rs62237617'\n",
       "\\item 'rs62237617\\_DNMT3A'\n",
       "\\item 'wt'\n",
       "\\end{enumerate*}\n"
      ],
      "text/markdown": [
       "1. 'DNMT3A'\n",
       "2. 'rs62237617'\n",
       "3. 'rs62237617_DNMT3A'\n",
       "4. 'wt'\n",
       "\n",
       "\n"
      ],
      "text/plain": [
       "[1] \"DNMT3A\"            \"rs62237617\"        \"rs62237617_DNMT3A\"\n",
       "[4] \"wt\"               "
      ]
     },
     "metadata": {},
     "output_type": "display_data"
    },
    {
     "name": "stdout",
     "output_type": "stream",
     "text": [
      "\n"
     ]
    },
    {
     "data": {
      "text/html": [
       "<style>\n",
       ".list-inline {list-style: none; margin:0; padding: 0}\n",
       ".list-inline>li {display: inline-block}\n",
       ".list-inline>li:not(:last-child)::after {content: \"\\00b7\"; padding: 0 .5ex}\n",
       "</style>\n",
       "<ol class=list-inline><li>'DNMT3A_1'</li><li>'DNMT3A_2'</li><li>'DNMT3A_3'</li><li>'rs62237617_1'</li><li>'rs62237617_2'</li><li>'rs62237617_3'</li><li>'rs62237617_DNMT3A_1'</li><li>'rs62237617_DNMT3A_2'</li><li>'rs62237617_DNMT3A_3'</li><li>'wt_1'</li><li>'wt_2'</li><li>'wt_3'</li></ol>\n"
      ],
      "text/latex": [
       "\\begin{enumerate*}\n",
       "\\item 'DNMT3A\\_1'\n",
       "\\item 'DNMT3A\\_2'\n",
       "\\item 'DNMT3A\\_3'\n",
       "\\item 'rs62237617\\_1'\n",
       "\\item 'rs62237617\\_2'\n",
       "\\item 'rs62237617\\_3'\n",
       "\\item 'rs62237617\\_DNMT3A\\_1'\n",
       "\\item 'rs62237617\\_DNMT3A\\_2'\n",
       "\\item 'rs62237617\\_DNMT3A\\_3'\n",
       "\\item 'wt\\_1'\n",
       "\\item 'wt\\_2'\n",
       "\\item 'wt\\_3'\n",
       "\\end{enumerate*}\n"
      ],
      "text/markdown": [
       "1. 'DNMT3A_1'\n",
       "2. 'DNMT3A_2'\n",
       "3. 'DNMT3A_3'\n",
       "4. 'rs62237617_1'\n",
       "5. 'rs62237617_2'\n",
       "6. 'rs62237617_3'\n",
       "7. 'rs62237617_DNMT3A_1'\n",
       "8. 'rs62237617_DNMT3A_2'\n",
       "9. 'rs62237617_DNMT3A_3'\n",
       "10. 'wt_1'\n",
       "11. 'wt_2'\n",
       "12. 'wt_3'\n",
       "\n",
       "\n"
      ],
      "text/plain": [
       " [1] \"DNMT3A_1\"            \"DNMT3A_2\"            \"DNMT3A_3\"           \n",
       " [4] \"rs62237617_1\"        \"rs62237617_2\"        \"rs62237617_3\"       \n",
       " [7] \"rs62237617_DNMT3A_1\" \"rs62237617_DNMT3A_2\" \"rs62237617_DNMT3A_3\"\n",
       "[10] \"wt_1\"                \"wt_2\"                \"wt_3\"               "
      ]
     },
     "metadata": {},
     "output_type": "display_data"
    },
    {
     "name": "stdout",
     "output_type": "stream",
     "text": [
      "\n"
     ]
    },
    {
     "data": {
      "text/html": [
       "'hESC'"
      ],
      "text/latex": [
       "'hESC'"
      ],
      "text/markdown": [
       "'hESC'"
      ],
      "text/plain": [
       "[1] \"hESC\""
      ]
     },
     "metadata": {},
     "output_type": "display_data"
    },
    {
     "name": "stdout",
     "output_type": "stream",
     "text": [
      "\n",
      "annotation_col_POST\n",
      "'data.frame':\t12 obs. of  3 variables:\n",
      " $ cell_type : Ord.factor w/ 1 level \"hESC\": 1 1 1 1 1 1 1 1 1 1 ...\n",
      " $ clone_line: Ord.factor w/ 12 levels \"wt_1\"<\"wt_2\"<..: 7 8 9 4 5 6 10 11 12 1 ...\n",
      " $ Genotype  : Ord.factor w/ 4 levels \"wt\"<\"rs62237617\"<..: 3 3 3 2 2 2 4 4 4 1 ...\n",
      "\n"
     ]
    },
    {
     "data": {
      "text/html": [
       "<style>\n",
       ".list-inline {list-style: none; margin:0; padding: 0}\n",
       ".list-inline>li {display: inline-block}\n",
       ".list-inline>li:not(:last-child)::after {content: \"\\00b7\"; padding: 0 .5ex}\n",
       "</style>\n",
       "<ol class=list-inline><li>'wt'</li><li>'rs62237617'</li><li>'DNMT3A'</li><li>'rs62237617_DNMT3A'</li></ol>\n"
      ],
      "text/latex": [
       "\\begin{enumerate*}\n",
       "\\item 'wt'\n",
       "\\item 'rs62237617'\n",
       "\\item 'DNMT3A'\n",
       "\\item 'rs62237617\\_DNMT3A'\n",
       "\\end{enumerate*}\n"
      ],
      "text/markdown": [
       "1. 'wt'\n",
       "2. 'rs62237617'\n",
       "3. 'DNMT3A'\n",
       "4. 'rs62237617_DNMT3A'\n",
       "\n",
       "\n"
      ],
      "text/plain": [
       "[1] \"wt\"                \"rs62237617\"        \"DNMT3A\"           \n",
       "[4] \"rs62237617_DNMT3A\""
      ]
     },
     "metadata": {},
     "output_type": "display_data"
    },
    {
     "name": "stdout",
     "output_type": "stream",
     "text": [
      "\n"
     ]
    },
    {
     "data": {
      "text/html": [
       "<style>\n",
       ".list-inline {list-style: none; margin:0; padding: 0}\n",
       ".list-inline>li {display: inline-block}\n",
       ".list-inline>li:not(:last-child)::after {content: \"\\00b7\"; padding: 0 .5ex}\n",
       "</style>\n",
       "<ol class=list-inline><li>'wt_1'</li><li>'wt_2'</li><li>'wt_3'</li><li>'rs62237617_1'</li><li>'rs62237617_2'</li><li>'rs62237617_3'</li><li>'DNMT3A_1'</li><li>'DNMT3A_2'</li><li>'DNMT3A_3'</li><li>'rs62237617_DNMT3A_1'</li><li>'rs62237617_DNMT3A_2'</li><li>'rs62237617_DNMT3A_3'</li></ol>\n"
      ],
      "text/latex": [
       "\\begin{enumerate*}\n",
       "\\item 'wt\\_1'\n",
       "\\item 'wt\\_2'\n",
       "\\item 'wt\\_3'\n",
       "\\item 'rs62237617\\_1'\n",
       "\\item 'rs62237617\\_2'\n",
       "\\item 'rs62237617\\_3'\n",
       "\\item 'DNMT3A\\_1'\n",
       "\\item 'DNMT3A\\_2'\n",
       "\\item 'DNMT3A\\_3'\n",
       "\\item 'rs62237617\\_DNMT3A\\_1'\n",
       "\\item 'rs62237617\\_DNMT3A\\_2'\n",
       "\\item 'rs62237617\\_DNMT3A\\_3'\n",
       "\\end{enumerate*}\n"
      ],
      "text/markdown": [
       "1. 'wt_1'\n",
       "2. 'wt_2'\n",
       "3. 'wt_3'\n",
       "4. 'rs62237617_1'\n",
       "5. 'rs62237617_2'\n",
       "6. 'rs62237617_3'\n",
       "7. 'DNMT3A_1'\n",
       "8. 'DNMT3A_2'\n",
       "9. 'DNMT3A_3'\n",
       "10. 'rs62237617_DNMT3A_1'\n",
       "11. 'rs62237617_DNMT3A_2'\n",
       "12. 'rs62237617_DNMT3A_3'\n",
       "\n",
       "\n"
      ],
      "text/plain": [
       " [1] \"wt_1\"                \"wt_2\"                \"wt_3\"               \n",
       " [4] \"rs62237617_1\"        \"rs62237617_2\"        \"rs62237617_3\"       \n",
       " [7] \"DNMT3A_1\"            \"DNMT3A_2\"            \"DNMT3A_3\"           \n",
       "[10] \"rs62237617_DNMT3A_1\" \"rs62237617_DNMT3A_2\" \"rs62237617_DNMT3A_3\""
      ]
     },
     "metadata": {},
     "output_type": "display_data"
    },
    {
     "name": "stdout",
     "output_type": "stream",
     "text": [
      "\n"
     ]
    },
    {
     "data": {
      "text/html": [
       "'hESC'"
      ],
      "text/latex": [
       "'hESC'"
      ],
      "text/markdown": [
       "'hESC'"
      ],
      "text/plain": [
       "[1] \"hESC\""
      ]
     },
     "metadata": {},
     "output_type": "display_data"
    },
    {
     "name": "stdout",
     "output_type": "stream",
     "text": [
      "\n"
     ]
    }
   ],
   "source": [
    "  \n",
    "  annotation_col<- data.frame(matrix(vector(), length(colnames(Peak_count_matrix)), 2,\n",
    "                                     dimnames=list(c(),\n",
    "                                                   c(\"cell_type\",\"clone_line\"))),stringsAsFactors=F)\n",
    "  \n",
    "  row.names(annotation_col)<-colnames(Peak_count_matrix)\n",
    "  \n",
    "  \n",
    "  cat(\"annotation_col_0\\n\")\n",
    "  cat(str(annotation_col))\n",
    "  cat(\"\\n\")\n",
    "  #cat(sprintf(as.character(row.names(annotation_col))))\n",
    "  #cat(\"\\n\")\n",
    "\n",
    "annotation_col$cell_type<-gsub(\"\\\\|.+$\",\"\", row.names(annotation_col))\n",
    "annotation_col$clone_line<-gsub(\"^[^\\\\|]+\\\\|\",\"\", row.names(annotation_col))\n",
    "\n",
    " cat(\"annotation_col_1\\n\")\n",
    "  cat(str(annotation_col))\n",
    "  cat(\"\\n\")\n",
    "\n",
    "annotation_col$Genotype<-NA\n",
    "  \n",
    "  annotation_col$Genotype[which(annotation_col$clone_line%in%c('wt_1','wt_2','wt_3'))]<-'wt'\n",
    "  annotation_col$Genotype[which(annotation_col$clone_line%in%c('rs62237617_1','rs62237617_2','rs62237617_3'))]<-'rs62237617'\n",
    "  annotation_col$Genotype[which(annotation_col$clone_line%in%c('DNMT3A_1','DNMT3A_2','DNMT3A_3'))]<-'DNMT3A'\n",
    "  annotation_col$Genotype[which(annotation_col$clone_line%in%c('rs62237617_DNMT3A_1','rs62237617_DNMT3A_2','rs62237617_DNMT3A_3'))]<-'rs62237617_DNMT3A'\n",
    "\n",
    "\n",
    "cat(\"annotation_col_PRE\\n\")\n",
    "  cat(str(annotation_col))\n",
    "  cat(\"\\n\")\n",
    "names(summary(as.factor(annotation_col$Genotype)))\n",
    "  cat(\"\\n\")\n",
    "names(summary(as.factor(annotation_col$clone_line)))\n",
    "  cat(\"\\n\")\n",
    "names(summary(as.factor(annotation_col$cell_type)))\n",
    "  cat(\"\\n\")\n",
    "\n",
    "annotation_col$Genotype<-factor(annotation_col$Genotype,\n",
    "                                                    levels=levels(adata@meta.data$Genotype),\n",
    "                                                    ordered=T)\n",
    "\n",
    "annotation_col$clone_line<-droplevels(factor(annotation_col$clone_line,\n",
    "                                                    levels=levels(adata@meta.data$clone_line),\n",
    "                                                    ordered=T))\n",
    "\n",
    "annotation_col$cell_type<-droplevels(factor(annotation_col$cell_type,\n",
    "                                                    levels=levels(adata@meta.data$refined_annotation_majority_vote),\n",
    "                                                    ordered=T))\n",
    "\n",
    "cat(\"annotation_col_POST\\n\")\n",
    "  cat(str(annotation_col))\n",
    "  cat(\"\\n\")\n",
    "names(summary(as.factor(annotation_col$Genotype)))\n",
    "  cat(\"\\n\")\n",
    "names(summary(as.factor(annotation_col$clone_line)))\n",
    "  cat(\"\\n\")\n",
    "names(summary(as.factor(annotation_col$cell_type)))\n",
    "  cat(\"\\n\")"
   ]
  },
  {
   "cell_type": "markdown",
   "id": "d60b5807-a7b4-48e3-bdde-87923aedf0b6",
   "metadata": {},
   "source": [
    "## Annotation of colors"
   ]
  },
  {
   "cell_type": "code",
   "execution_count": 280,
   "id": "0c07bffe-21ea-45f8-b554-25966932a3e6",
   "metadata": {
    "execution": {
     "iopub.execute_input": "2025-02-26T16:47:57.217343Z",
     "iopub.status.busy": "2025-02-26T16:47:57.216181Z",
     "iopub.status.idle": "2025-02-26T16:47:57.231568Z",
     "shell.execute_reply": "2025-02-26T16:47:57.230314Z"
    }
   },
   "outputs": [
    {
     "name": "stdout",
     "output_type": "stream",
     "text": [
      "List of 3\n",
      " $ clone_line: Named chr [1:12] \"#74C476\" \"#41AB5D\" \"#238B45\" \"#FB6A4A\" ...\n",
      "  ..- attr(*, \"names\")= chr [1:12] \"wt_1\" \"wt_2\" \"wt_3\" \"rs62237617_1\" ...\n",
      " $ Genotype  : Named chr [1:4] \"#74C476\" \"#FB6A4A\" \"#9E9AC8\" \"#C6DBEF\"\n",
      "  ..- attr(*, \"names\")= chr [1:4] \"wt\" \"rs62237617\" \"DNMT3A\" \"rs62237617_DNMT3A\"\n",
      " $ cluster   : Named chr [1:6] \"#1B9E77\" \"#D95F02\" \"#7570B3\" \"#E7298A\" ...\n",
      "  ..- attr(*, \"names\")= chr [1:6] \"1\" \"2\" \"3\" \"4\" ...\n"
     ]
    }
   ],
   "source": [
    " \n",
    "ann_colors <- list( clone_line = c('wt_1' = brewer.pal(9, \"Greens\")[c(5)],\n",
    "                                  'wt_2' = brewer.pal(9, \"Greens\")[c(6)],\n",
    "                                  'wt_3' = brewer.pal(9, \"Greens\")[c(7)],\n",
    "                                   'rs62237617_1' = brewer.pal(9, \"Reds\")[c(5)],\n",
    "                                    'rs62237617_2' = brewer.pal(9, \"Reds\")[c(6)],\n",
    "                                   'rs62237617_3' = brewer.pal(9, \"Reds\")[c(7)],\n",
    "                                   'DNMT3A_1' = brewer.pal(9, \"Purples\")[c(5)],\n",
    "                                   'DNMT3A_2' = brewer.pal(9, \"Purples\")[c(6)],\n",
    "                                   'DNMT3A_3' = brewer.pal(9, \"Purples\")[c(7)],\n",
    "                                   'rs62237617_DNMT3A_1' = brewer.pal(9, \"Blues\")[c(3)],\n",
    "                                    'rs62237617_DNMT3A_2' = brewer.pal(9, \"Blues\")[c(4)],\n",
    "                                   'rs62237617_DNMT3A_3' = brewer.pal(9, \"Blues\")[c(5)]),\n",
    "                   Genotype = c('wt' = brewer.pal(9, \"Greens\")[c(5)],\n",
    "                                                    'rs62237617' = brewer.pal(9, \"Reds\")[c(5)],\n",
    "                                                    'DNMT3A' = brewer.pal(9, \"Purples\")[c(5)],\n",
    "                                                    'rs62237617_DNMT3A' = brewer.pal(9, \"Blues\")[c(3)]),\n",
    "                   cluster = c('1' = brewer.pal(6, \"Dark2\")[c(1)],\n",
    "                                 '2' = brewer.pal(6, \"Dark2\")[c(2)],\n",
    "                                   '3' = brewer.pal(6, \"Dark2\")[c(3)],\n",
    "                                    '4' = brewer.pal(6, \"Dark2\")[c(4)],\n",
    "                                    '5' = brewer.pal(6, \"Dark2\")[c(5)],\n",
    "                                    '6' = brewer.pal(6, \"Dark2\")[c(6)])                 \n",
    "                                   \n",
    "                  )\n",
    "\n",
    "\n",
    "str(ann_colors)"
   ]
  },
  {
   "cell_type": "markdown",
   "id": "200e5008-b905-4d1d-b847-6bdcbbc0168f",
   "metadata": {},
   "source": [
    "## graph"
   ]
  },
  {
   "cell_type": "code",
   "execution_count": 281,
   "id": "60504445-5f51-4dde-95d5-7b608fc962dd",
   "metadata": {
    "execution": {
     "iopub.execute_input": "2025-02-26T16:47:58.285141Z",
     "iopub.status.busy": "2025-02-26T16:47:58.283982Z",
     "iopub.status.idle": "2025-02-26T16:48:55.568189Z",
     "shell.execute_reply": "2025-02-26T16:48:55.566641Z"
    }
   },
   "outputs": [
    {
     "data": {
      "image/png": "[encoded data removed]",
      "text/plain": [
       "plot without title"
      ]
     },
     "metadata": {
      "image/png": {
       "height": 420,
       "width": 420
      }
     },
     "output_type": "display_data"
    }
   ],
   "source": [
    "heatmap<-pheatmap(Peak_count_matrix, display_numbers = FALSE, number_format = \"%.1e\",\n",
    "                    show_colnames=FALSE,\n",
    "                      show_rownames=FALSE,\n",
    "                    angle_col = \"45\",\n",
    "                    clustering_method=\"ward.D2\",\n",
    "                    fontsize_row = 8, \n",
    "                    fontsize_col = 8,\n",
    "                    breaks=seq(-2,2,length.out=101),\n",
    "                    color=colorRampPalette(c(\"blue\",\"white\",\"red\"))(100),\n",
    "                    scale=\"row\",\n",
    "                    cluster_cols=TRUE,\n",
    "                    border_color='black',\n",
    "                    treeheight_row=70, treeheight_col=70, cutree_cols=7,\n",
    "                  annotation_col = annotation_col,\n",
    "                  annotation_colors = ann_colors)"
   ]
  },
  {
   "cell_type": "code",
   "execution_count": 282,
   "id": "45cee5f8-08ec-41ec-8e26-0409dd3ec126",
   "metadata": {
    "execution": {
     "iopub.execute_input": "2025-02-26T16:48:55.571562Z",
     "iopub.status.busy": "2025-02-26T16:48:55.570423Z",
     "iopub.status.idle": "2025-02-26T16:48:57.810243Z",
     "shell.execute_reply": "2025-02-26T16:48:57.808687Z"
    }
   },
   "outputs": [],
   "source": [
    "setwd(\"/group/soranzo/manuel.tardaguila/2025_hESC_MK_multiome/Downstream_analysis_cluster_after_genotyping/graphs_explore_subclustering/\")\n",
    "\n",
    "\n",
    "svgname<-paste(paste(\"Heatmap_ALL_peaks\",cell_type_sel, time_point_sel, sep='_'),\".svg\",sep='')\n",
    "\n",
    "\n",
    "ggsave(svgname,plot=heatmap, device ='svg', height =13, width =13)\n"
   ]
  },
  {
   "cell_type": "code",
   "execution_count": null,
   "id": "2e8a6bbb-980c-48da-909a-07dc39c98598",
   "metadata": {},
   "outputs": [],
   "source": []
  }
 ],
 "metadata": {
  "kernelspec": {
   "display_name": "R [conda env:multiome_NEW_downstream_analysis]",
   "language": "R",
   "name": "conda-env-multiome_NEW_downstream_analysis-r"
  },
  "language_info": {
   "codemirror_mode": "r",
   "file_extension": ".r",
   "mimetype": "text/x-r-source",
   "name": "R",
   "pygments_lexer": "r",
   "version": "4.3.1"
  }
 },
 "nbformat": 4,
 "nbformat_minor": 5
}
