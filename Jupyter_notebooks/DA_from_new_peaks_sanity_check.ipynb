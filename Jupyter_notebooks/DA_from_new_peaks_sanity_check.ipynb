{
 "cells": [
  {
   "cell_type": "markdown",
   "id": "8906a91b-cc8c-426f-872c-f9eba7108235",
   "metadata": {},
   "source": [
    "# DESEq2 for DA peaks per cell type on peaks called by refined annotation"
   ]
  },
  {
   "cell_type": "markdown",
   "id": "fc1d0c79-46d1-4d3c-b913-7b9d2c9cddf0",
   "metadata": {},
   "source": [
    "## Load packages from new environment"
   ]
  },
  {
   "cell_type": "code",
   "execution_count": 1,
   "id": "b019b1dc-28d6-4721-a976-95fa810cf819",
   "metadata": {
    "execution": {
     "iopub.execute_input": "2025-03-06T08:42:47.280763Z",
     "iopub.status.busy": "2025-03-06T08:42:47.278454Z",
     "iopub.status.idle": "2025-03-06T08:43:32.061150Z",
     "shell.execute_reply": "2025-03-06T08:43:32.059599Z"
    }
   },
   "outputs": [
    {
     "data": {
      "text/html": [
       "<style>\n",
       ".list-inline {list-style: none; margin:0; padding: 0}\n",
       ".list-inline>li {display: inline-block}\n",
       ".list-inline>li:not(:last-child)::after {content: \"\\00b7\"; padding: 0 .5ex}\n",
       "</style>\n",
       "<ol class=list-inline><li>'/home/manuel.tardaguila/R/x86_64-conda-linux-gnu-library/4.3'</li><li>'/home/manuel.tardaguila/conda_envs/multiome_NEW_downstream_analysis/lib/R/library'</li></ol>\n"
      ],
      "text/latex": [
       "\\begin{enumerate*}\n",
       "\\item '/home/manuel.tardaguila/R/x86\\_64-conda-linux-gnu-library/4.3'\n",
       "\\item '/home/manuel.tardaguila/conda\\_envs/multiome\\_NEW\\_downstream\\_analysis/lib/R/library'\n",
       "\\end{enumerate*}\n"
      ],
      "text/markdown": [
       "1. '/home/manuel.tardaguila/R/x86_64-conda-linux-gnu-library/4.3'\n",
       "2. '/home/manuel.tardaguila/conda_envs/multiome_NEW_downstream_analysis/lib/R/library'\n",
       "\n",
       "\n"
      ],
      "text/plain": [
       "[1] \"/home/manuel.tardaguila/R/x86_64-conda-linux-gnu-library/4.3\"                     \n",
       "[2] \"/home/manuel.tardaguila/conda_envs/multiome_NEW_downstream_analysis/lib/R/library\""
      ]
     },
     "metadata": {},
     "output_type": "display_data"
    },
    {
     "data": {
      "text/html": [
       "'/home/manuel.tardaguila/conda_envs/multiome_NEW_downstream_analysis/lib/R/library'"
      ],
      "text/latex": [
       "'/home/manuel.tardaguila/conda\\_envs/multiome\\_NEW\\_downstream\\_analysis/lib/R/library'"
      ],
      "text/markdown": [
       "'/home/manuel.tardaguila/conda_envs/multiome_NEW_downstream_analysis/lib/R/library'"
      ],
      "text/plain": [
       "[1] \"/home/manuel.tardaguila/conda_envs/multiome_NEW_downstream_analysis/lib/R/library\""
      ]
     },
     "metadata": {},
     "output_type": "display_data"
    },
    {
     "name": "stderr",
     "output_type": "stream",
     "text": [
      "Warning message:\n",
      "“package ‘Seurat’ was built under R version 4.3.2”\n",
      "Warning message:\n",
      "“package ‘SeuratObject’ was built under R version 4.3.3”\n",
      "Warning message:\n",
      "“package ‘Signac’ was built under R version 4.3.2”\n",
      "Warning message:\n",
      "“package ‘Matrix’ was built under R version 4.3.3”\n",
      "Warning message:\n",
      "“package ‘qlcMatrix’ was built under R version 4.3.3”\n",
      "Warning message:\n",
      "“package ‘slam’ was built under R version 4.3.3”\n",
      "Warning message:\n",
      "“package ‘sparsesvd’ was built under R version 4.3.3”\n",
      "Warning message:\n",
      "“package ‘ggeasy’ was built under R version 4.3.3”\n",
      "Warning message:\n",
      "“package ‘svglite’ was built under R version 4.3.3”\n",
      "Warning message:\n",
      "“package ‘ape’ was built under R version 4.3.3”\n",
      "Warning message:\n",
      "“package ‘ggforce’ was built under R version 4.3.3”\n",
      "Warning message:\n",
      "“package ‘edgeR’ was built under R version 4.3.3”\n",
      "Warning message:\n",
      "“package ‘limma’ was built under R version 4.3.3”\n",
      "Warning message:\n",
      "“package ‘apeglm’ was built under R version 4.3.3”\n",
      "Warning message:\n",
      "“package ‘DESeq2’ was built under R version 4.3.2”\n",
      "Warning message:\n",
      "“package ‘S4Vectors’ was built under R version 4.3.2”\n",
      "Warning message:\n",
      "“package ‘BiocGenerics’ was built under R version 4.3.2”\n",
      "Warning message:\n",
      "“package ‘IRanges’ was built under R version 4.3.2”\n",
      "Warning message:\n",
      "“package ‘GenomicRanges’ was built under R version 4.3.2”\n",
      "Warning message:\n",
      "“package ‘GenomeInfoDb’ was built under R version 4.3.2”\n",
      "Warning message:\n",
      "“package ‘SummarizedExperiment’ was built under R version 4.3.2”\n",
      "Warning message:\n",
      "“package ‘MatrixGenerics’ was built under R version 4.3.2”\n",
      "Warning message:\n",
      "“package ‘Biobase’ was built under R version 4.3.2”\n"
     ]
    }
   ],
   "source": [
    ".libPaths()\n",
    ".libPaths(new = c(\"/home/manuel.tardaguila/conda_envs/multiome_NEW_downstream_analysis/lib/R/library\"))\n",
    ".libPaths()\n",
    "# sessionInfo()\n",
    "Sys.setenv(RETICULATE_PYTHON=\"/home/manuel.tardaguila/conda_envs/multiome_NEW_downstream_analysis/bin/python\")\n",
    "\n",
    "suppressMessages(library(Seurat))\n",
    "suppressMessages(library(Signac))\n",
    "suppressMessages(library(dplyr)) \n",
    "suppressMessages(library(ggplot2)) \n",
    "suppressMessages(library(Matrix)) \n",
    "suppressMessages(library(data.table)) \n",
    "suppressMessages(library(ggpubr)) \n",
    "suppressMessages(library(ggplot2))\n",
    "suppressMessages(library(pheatmap))\n",
    "suppressMessages(library(presto))\n",
    "suppressMessages(library(\"qlcMatrix\"))\n",
    "suppressMessages(library(\"cowplot\"))\n",
    "suppressMessages(library(\"RColorBrewer\"))\n",
    "suppressMessages(library(\"plyr\"))\n",
    "suppressMessages(library(\"forcats\"))\n",
    "suppressMessages(library('ggeasy'))\n",
    "suppressMessages(library('dplyr'))\n",
    "suppressMessages(library(\"svglite\"))\n",
    "suppressMessages(library(\"ape\"))\n",
    "suppressMessages(library(\"ggforce\"))\n",
    "suppressMessages(library(\"tidyr\"))\n",
    "suppressMessages(library(\"edgeR\"))\n",
    "suppressMessages(library(\"apeglm\"))\n",
    "suppressMessages(library(\"DESeq2\"))\n",
    "suppressMessages(library(\"tibble\")) \n",
    "suppressMessages(library(\"ggrepel\"))"
   ]
  },
  {
   "cell_type": "markdown",
   "id": "bbd5f005-c06a-4085-aaca-69aea57c7404",
   "metadata": {},
   "source": [
    "# Read Seurat object after new peak calling"
   ]
  },
  {
   "cell_type": "code",
   "execution_count": 2,
   "id": "3d5b71e9-d4c8-4bf5-bb67-4ed5b49d7759",
   "metadata": {
    "execution": {
     "iopub.execute_input": "2025-03-06T08:43:32.089260Z",
     "iopub.status.busy": "2025-03-06T08:43:32.063430Z",
     "iopub.status.idle": "2025-03-06T08:43:32.098221Z",
     "shell.execute_reply": "2025-03-06T08:43:32.096858Z"
    },
    "vscode": {
     "languageId": "r"
    }
   },
   "outputs": [],
   "source": [
    "setwd(\"/group/soranzo/manuel.tardaguila/2025_hESC_MK_multiome/Downstream_analysis_cluster_after_genotyping/\")"
   ]
  },
  {
   "cell_type": "code",
   "execution_count": 3,
   "id": "94fc64da-fa9e-4ff8-ae68-f3bcdfee6014",
   "metadata": {
    "execution": {
     "iopub.execute_input": "2025-03-06T08:43:32.101535Z",
     "iopub.status.busy": "2025-03-06T08:43:32.100389Z",
     "iopub.status.idle": "2025-03-06T08:44:57.073618Z",
     "shell.execute_reply": "2025-03-06T08:44:57.072146Z"
    }
   },
   "outputs": [],
   "source": [
    "adata<-readRDS(file=\"merged_clusters_after_genotyping_after_refined_annotation_new_peaks.rds\")\n"
   ]
  },
  {
   "cell_type": "code",
   "execution_count": 4,
   "id": "508c3b09-b472-4ccd-97d8-4649fcdcf5af",
   "metadata": {
    "execution": {
     "iopub.execute_input": "2025-03-06T08:44:57.076431Z",
     "iopub.status.busy": "2025-03-06T08:44:57.075467Z",
     "iopub.status.idle": "2025-03-06T08:44:57.101644Z",
     "shell.execute_reply": "2025-03-06T08:44:57.100494Z"
    }
   },
   "outputs": [
    {
     "data": {
      "text/plain": [
       "An object of class Seurat \n",
       "749604 features across 16835 samples within 5 assays \n",
       "Active assay: ATAC (340606 features, 340606 variable features)\n",
       " 2 layers present: counts, data\n",
       " 4 other assays present: RNA, RNA_raw, SCT, ATAC_by_refined_annotation\n",
       " 7 dimensional reductions calculated: pca, umap.rna, lsi, umap.atac, umap.wnn, harmony.rna, harmony.atac"
      ]
     },
     "metadata": {},
     "output_type": "display_data"
    }
   ],
   "source": [
    "adata\n"
   ]
  },
  {
   "cell_type": "code",
   "execution_count": 5,
   "id": "4795d29d-29c2-4de6-8d66-e6271ca78986",
   "metadata": {
    "execution": {
     "iopub.execute_input": "2025-03-06T08:44:57.104309Z",
     "iopub.status.busy": "2025-03-06T08:44:57.103386Z",
     "iopub.status.idle": "2025-03-06T08:44:57.115170Z",
     "shell.execute_reply": "2025-03-06T08:44:57.114069Z"
    }
   },
   "outputs": [
    {
     "data": {
      "text/html": [
       "<style>\n",
       ".list-inline {list-style: none; margin:0; padding: 0}\n",
       ".list-inline>li {display: inline-block}\n",
       ".list-inline>li:not(:last-child)::after {content: \"\\00b7\"; padding: 0 .5ex}\n",
       "</style>\n",
       "<ol class=list-inline><li>'orig.ident'</li><li>'nCount_RNA'</li><li>'nFeature_RNA'</li><li>'percent.mt'</li><li>'nCount_RNA_raw'</li><li>'nFeature_RNA_raw'</li><li>'nCount_ATAC'</li><li>'nFeature_ATAC'</li><li>'gex_raw_reads'</li><li>'gex_mapped_reads'</li><li>'gex_conf_intergenic_reads'</li><li>'gex_conf_exonic_reads'</li><li>'gex_conf_intronic_reads'</li><li>'gex_conf_exonic_unique_reads'</li><li>'gex_conf_exonic_antisense_reads'</li><li>'gex_conf_exonic_dup_reads'</li><li>'gex_exonic_umis'</li><li>'gex_conf_intronic_unique_reads'</li><li>'gex_conf_intronic_antisense_reads'</li><li>'gex_conf_intronic_dup_reads'</li><li>'gex_intronic_umis'</li><li>'gex_conf_txomic_unique_reads'</li><li>'gex_umis_count'</li><li>'gex_genes_count'</li><li>'atac_raw_reads'</li><li>'atac_unmapped_reads'</li><li>'atac_lowmapq'</li><li>'atac_dup_reads'</li><li>'atac_chimeric_reads'</li><li>'atac_mitochondrial_reads'</li><li>'atac_fragments'</li><li>'atac_TSS_fragments'</li><li>'atac_peak_region_fragments'</li><li>'atac_peak_region_cutsites'</li><li>'TSS.enrichment'</li><li>'TSS.percentile'</li><li>'scDblFinder.class'</li><li>'scDblFinder.score'</li><li>'scDblFinder.weighted'</li><li>'scDblFinder.cxds_score'</li><li>'scDblFinder.class_atac'</li><li>'scDblFinder.score_atac'</li><li>'scDblFinder.weighted_atac'</li><li>'scDblFinder.cxds_score_atac'</li><li>'No_assigned_GFPbc'</li><li>'Assigned_GFPbc'</li><li>'Assigned_GFPgenotype'</li><li>'DBL_comb'</li><li>'amulet_nFrags'</li><li>'amulet_uniqFrags'</li><li>'amulet_nAbove2'</li><li>'amulet_total.nAbove2'</li><li>'amulet_p.value'</li><li>'amulet_q.value'</li><li>'doublet_amulet'</li><li>'nCount_SCT'</li><li>'nFeature_SCT'</li><li>'SCT.weight'</li><li>'ATAC.weight'</li><li>'wsnn_res.0.2'</li><li>'seurat_clusters'</li><li>'doublet'</li><li>'wsnn_res.2'</li><li>'wsnn_res.0.5'</li><li>'wsnn_res.0.25'</li><li>'CellTypist_BMA_label'</li><li>'CellTypist_BMA_conf_score'</li><li>'CellTypist_IPSCs_label'</li><li>'CellTypist_IPSCs_conf_score'</li><li>'CellTypist_BMA_label_filtered'</li><li>'CellTypist_IPSCs_label_filtered'</li><li>'time_point'</li><li>'time'</li><li>'nucleosome_signal'</li><li>'nucleosome_percentile'</li><li>'FRiP'</li><li>'atac_pct_reads_in_peaks'</li><li>'my_anot'</li><li>'FOI'</li><li>'my_anot_updated'</li><li>'majority_voting_BMA'</li><li>'majority_voting_iPSCs'</li><li>'current_anot'</li><li>'Assignation_demux_NO_CB'</li><li>'Assigned_GFPbc_demux_NO_CB'</li><li>'Assignation_demux_CB'</li><li>'Assigned_GFPbc_demux_CB'</li><li>'Assigned_GFPbc_integral'</li><li>'Assigned_GFPgenotype_integral'</li><li>'Subclusters_3'</li><li>'Subclusters_4'</li><li>'Subclusters_7'</li><li>'Subclusters_2'</li><li>'new_clusters'</li><li>'refined_annotation'</li><li>'refined_annotation_majority_vote'</li><li>'clone_line'</li><li>'Genotype'</li><li>'nCount_ATAC_by_refined_annotation'</li><li>'nFeature_ATAC_by_refined_annotation'</li></ol>\n"
      ],
      "text/latex": [
       "\\begin{enumerate*}\n",
       "\\item 'orig.ident'\n",
       "\\item 'nCount\\_RNA'\n",
       "\\item 'nFeature\\_RNA'\n",
       "\\item 'percent.mt'\n",
       "\\item 'nCount\\_RNA\\_raw'\n",
       "\\item 'nFeature\\_RNA\\_raw'\n",
       "\\item 'nCount\\_ATAC'\n",
       "\\item 'nFeature\\_ATAC'\n",
       "\\item 'gex\\_raw\\_reads'\n",
       "\\item 'gex\\_mapped\\_reads'\n",
       "\\item 'gex\\_conf\\_intergenic\\_reads'\n",
       "\\item 'gex\\_conf\\_exonic\\_reads'\n",
       "\\item 'gex\\_conf\\_intronic\\_reads'\n",
       "\\item 'gex\\_conf\\_exonic\\_unique\\_reads'\n",
       "\\item 'gex\\_conf\\_exonic\\_antisense\\_reads'\n",
       "\\item 'gex\\_conf\\_exonic\\_dup\\_reads'\n",
       "\\item 'gex\\_exonic\\_umis'\n",
       "\\item 'gex\\_conf\\_intronic\\_unique\\_reads'\n",
       "\\item 'gex\\_conf\\_intronic\\_antisense\\_reads'\n",
       "\\item 'gex\\_conf\\_intronic\\_dup\\_reads'\n",
       "\\item 'gex\\_intronic\\_umis'\n",
       "\\item 'gex\\_conf\\_txomic\\_unique\\_reads'\n",
       "\\item 'gex\\_umis\\_count'\n",
       "\\item 'gex\\_genes\\_count'\n",
       "\\item 'atac\\_raw\\_reads'\n",
       "\\item 'atac\\_unmapped\\_reads'\n",
       "\\item 'atac\\_lowmapq'\n",
       "\\item 'atac\\_dup\\_reads'\n",
       "\\item 'atac\\_chimeric\\_reads'\n",
       "\\item 'atac\\_mitochondrial\\_reads'\n",
       "\\item 'atac\\_fragments'\n",
       "\\item 'atac\\_TSS\\_fragments'\n",
       "\\item 'atac\\_peak\\_region\\_fragments'\n",
       "\\item 'atac\\_peak\\_region\\_cutsites'\n",
       "\\item 'TSS.enrichment'\n",
       "\\item 'TSS.percentile'\n",
       "\\item 'scDblFinder.class'\n",
       "\\item 'scDblFinder.score'\n",
       "\\item 'scDblFinder.weighted'\n",
       "\\item 'scDblFinder.cxds\\_score'\n",
       "\\item 'scDblFinder.class\\_atac'\n",
       "\\item 'scDblFinder.score\\_atac'\n",
       "\\item 'scDblFinder.weighted\\_atac'\n",
       "\\item 'scDblFinder.cxds\\_score\\_atac'\n",
       "\\item 'No\\_assigned\\_GFPbc'\n",
       "\\item 'Assigned\\_GFPbc'\n",
       "\\item 'Assigned\\_GFPgenotype'\n",
       "\\item 'DBL\\_comb'\n",
       "\\item 'amulet\\_nFrags'\n",
       "\\item 'amulet\\_uniqFrags'\n",
       "\\item 'amulet\\_nAbove2'\n",
       "\\item 'amulet\\_total.nAbove2'\n",
       "\\item 'amulet\\_p.value'\n",
       "\\item 'amulet\\_q.value'\n",
       "\\item 'doublet\\_amulet'\n",
       "\\item 'nCount\\_SCT'\n",
       "\\item 'nFeature\\_SCT'\n",
       "\\item 'SCT.weight'\n",
       "\\item 'ATAC.weight'\n",
       "\\item 'wsnn\\_res.0.2'\n",
       "\\item 'seurat\\_clusters'\n",
       "\\item 'doublet'\n",
       "\\item 'wsnn\\_res.2'\n",
       "\\item 'wsnn\\_res.0.5'\n",
       "\\item 'wsnn\\_res.0.25'\n",
       "\\item 'CellTypist\\_BMA\\_label'\n",
       "\\item 'CellTypist\\_BMA\\_conf\\_score'\n",
       "\\item 'CellTypist\\_IPSCs\\_label'\n",
       "\\item 'CellTypist\\_IPSCs\\_conf\\_score'\n",
       "\\item 'CellTypist\\_BMA\\_label\\_filtered'\n",
       "\\item 'CellTypist\\_IPSCs\\_label\\_filtered'\n",
       "\\item 'time\\_point'\n",
       "\\item 'time'\n",
       "\\item 'nucleosome\\_signal'\n",
       "\\item 'nucleosome\\_percentile'\n",
       "\\item 'FRiP'\n",
       "\\item 'atac\\_pct\\_reads\\_in\\_peaks'\n",
       "\\item 'my\\_anot'\n",
       "\\item 'FOI'\n",
       "\\item 'my\\_anot\\_updated'\n",
       "\\item 'majority\\_voting\\_BMA'\n",
       "\\item 'majority\\_voting\\_iPSCs'\n",
       "\\item 'current\\_anot'\n",
       "\\item 'Assignation\\_demux\\_NO\\_CB'\n",
       "\\item 'Assigned\\_GFPbc\\_demux\\_NO\\_CB'\n",
       "\\item 'Assignation\\_demux\\_CB'\n",
       "\\item 'Assigned\\_GFPbc\\_demux\\_CB'\n",
       "\\item 'Assigned\\_GFPbc\\_integral'\n",
       "\\item 'Assigned\\_GFPgenotype\\_integral'\n",
       "\\item 'Subclusters\\_3'\n",
       "\\item 'Subclusters\\_4'\n",
       "\\item 'Subclusters\\_7'\n",
       "\\item 'Subclusters\\_2'\n",
       "\\item 'new\\_clusters'\n",
       "\\item 'refined\\_annotation'\n",
       "\\item 'refined\\_annotation\\_majority\\_vote'\n",
       "\\item 'clone\\_line'\n",
       "\\item 'Genotype'\n",
       "\\item 'nCount\\_ATAC\\_by\\_refined\\_annotation'\n",
       "\\item 'nFeature\\_ATAC\\_by\\_refined\\_annotation'\n",
       "\\end{enumerate*}\n"
      ],
      "text/markdown": [
       "1. 'orig.ident'\n",
       "2. 'nCount_RNA'\n",
       "3. 'nFeature_RNA'\n",
       "4. 'percent.mt'\n",
       "5. 'nCount_RNA_raw'\n",
       "6. 'nFeature_RNA_raw'\n",
       "7. 'nCount_ATAC'\n",
       "8. 'nFeature_ATAC'\n",
       "9. 'gex_raw_reads'\n",
       "10. 'gex_mapped_reads'\n",
       "11. 'gex_conf_intergenic_reads'\n",
       "12. 'gex_conf_exonic_reads'\n",
       "13. 'gex_conf_intronic_reads'\n",
       "14. 'gex_conf_exonic_unique_reads'\n",
       "15. 'gex_conf_exonic_antisense_reads'\n",
       "16. 'gex_conf_exonic_dup_reads'\n",
       "17. 'gex_exonic_umis'\n",
       "18. 'gex_conf_intronic_unique_reads'\n",
       "19. 'gex_conf_intronic_antisense_reads'\n",
       "20. 'gex_conf_intronic_dup_reads'\n",
       "21. 'gex_intronic_umis'\n",
       "22. 'gex_conf_txomic_unique_reads'\n",
       "23. 'gex_umis_count'\n",
       "24. 'gex_genes_count'\n",
       "25. 'atac_raw_reads'\n",
       "26. 'atac_unmapped_reads'\n",
       "27. 'atac_lowmapq'\n",
       "28. 'atac_dup_reads'\n",
       "29. 'atac_chimeric_reads'\n",
       "30. 'atac_mitochondrial_reads'\n",
       "31. 'atac_fragments'\n",
       "32. 'atac_TSS_fragments'\n",
       "33. 'atac_peak_region_fragments'\n",
       "34. 'atac_peak_region_cutsites'\n",
       "35. 'TSS.enrichment'\n",
       "36. 'TSS.percentile'\n",
       "37. 'scDblFinder.class'\n",
       "38. 'scDblFinder.score'\n",
       "39. 'scDblFinder.weighted'\n",
       "40. 'scDblFinder.cxds_score'\n",
       "41. 'scDblFinder.class_atac'\n",
       "42. 'scDblFinder.score_atac'\n",
       "43. 'scDblFinder.weighted_atac'\n",
       "44. 'scDblFinder.cxds_score_atac'\n",
       "45. 'No_assigned_GFPbc'\n",
       "46. 'Assigned_GFPbc'\n",
       "47. 'Assigned_GFPgenotype'\n",
       "48. 'DBL_comb'\n",
       "49. 'amulet_nFrags'\n",
       "50. 'amulet_uniqFrags'\n",
       "51. 'amulet_nAbove2'\n",
       "52. 'amulet_total.nAbove2'\n",
       "53. 'amulet_p.value'\n",
       "54. 'amulet_q.value'\n",
       "55. 'doublet_amulet'\n",
       "56. 'nCount_SCT'\n",
       "57. 'nFeature_SCT'\n",
       "58. 'SCT.weight'\n",
       "59. 'ATAC.weight'\n",
       "60. 'wsnn_res.0.2'\n",
       "61. 'seurat_clusters'\n",
       "62. 'doublet'\n",
       "63. 'wsnn_res.2'\n",
       "64. 'wsnn_res.0.5'\n",
       "65. 'wsnn_res.0.25'\n",
       "66. 'CellTypist_BMA_label'\n",
       "67. 'CellTypist_BMA_conf_score'\n",
       "68. 'CellTypist_IPSCs_label'\n",
       "69. 'CellTypist_IPSCs_conf_score'\n",
       "70. 'CellTypist_BMA_label_filtered'\n",
       "71. 'CellTypist_IPSCs_label_filtered'\n",
       "72. 'time_point'\n",
       "73. 'time'\n",
       "74. 'nucleosome_signal'\n",
       "75. 'nucleosome_percentile'\n",
       "76. 'FRiP'\n",
       "77. 'atac_pct_reads_in_peaks'\n",
       "78. 'my_anot'\n",
       "79. 'FOI'\n",
       "80. 'my_anot_updated'\n",
       "81. 'majority_voting_BMA'\n",
       "82. 'majority_voting_iPSCs'\n",
       "83. 'current_anot'\n",
       "84. 'Assignation_demux_NO_CB'\n",
       "85. 'Assigned_GFPbc_demux_NO_CB'\n",
       "86. 'Assignation_demux_CB'\n",
       "87. 'Assigned_GFPbc_demux_CB'\n",
       "88. 'Assigned_GFPbc_integral'\n",
       "89. 'Assigned_GFPgenotype_integral'\n",
       "90. 'Subclusters_3'\n",
       "91. 'Subclusters_4'\n",
       "92. 'Subclusters_7'\n",
       "93. 'Subclusters_2'\n",
       "94. 'new_clusters'\n",
       "95. 'refined_annotation'\n",
       "96. 'refined_annotation_majority_vote'\n",
       "97. 'clone_line'\n",
       "98. 'Genotype'\n",
       "99. 'nCount_ATAC_by_refined_annotation'\n",
       "100. 'nFeature_ATAC_by_refined_annotation'\n",
       "\n",
       "\n"
      ],
      "text/plain": [
       "  [1] \"orig.ident\"                         \n",
       "  [2] \"nCount_RNA\"                         \n",
       "  [3] \"nFeature_RNA\"                       \n",
       "  [4] \"percent.mt\"                         \n",
       "  [5] \"nCount_RNA_raw\"                     \n",
       "  [6] \"nFeature_RNA_raw\"                   \n",
       "  [7] \"nCount_ATAC\"                        \n",
       "  [8] \"nFeature_ATAC\"                      \n",
       "  [9] \"gex_raw_reads\"                      \n",
       " [10] \"gex_mapped_reads\"                   \n",
       " [11] \"gex_conf_intergenic_reads\"          \n",
       " [12] \"gex_conf_exonic_reads\"              \n",
       " [13] \"gex_conf_intronic_reads\"            \n",
       " [14] \"gex_conf_exonic_unique_reads\"       \n",
       " [15] \"gex_conf_exonic_antisense_reads\"    \n",
       " [16] \"gex_conf_exonic_dup_reads\"          \n",
       " [17] \"gex_exonic_umis\"                    \n",
       " [18] \"gex_conf_intronic_unique_reads\"     \n",
       " [19] \"gex_conf_intronic_antisense_reads\"  \n",
       " [20] \"gex_conf_intronic_dup_reads\"        \n",
       " [21] \"gex_intronic_umis\"                  \n",
       " [22] \"gex_conf_txomic_unique_reads\"       \n",
       " [23] \"gex_umis_count\"                     \n",
       " [24] \"gex_genes_count\"                    \n",
       " [25] \"atac_raw_reads\"                     \n",
       " [26] \"atac_unmapped_reads\"                \n",
       " [27] \"atac_lowmapq\"                       \n",
       " [28] \"atac_dup_reads\"                     \n",
       " [29] \"atac_chimeric_reads\"                \n",
       " [30] \"atac_mitochondrial_reads\"           \n",
       " [31] \"atac_fragments\"                     \n",
       " [32] \"atac_TSS_fragments\"                 \n",
       " [33] \"atac_peak_region_fragments\"         \n",
       " [34] \"atac_peak_region_cutsites\"          \n",
       " [35] \"TSS.enrichment\"                     \n",
       " [36] \"TSS.percentile\"                     \n",
       " [37] \"scDblFinder.class\"                  \n",
       " [38] \"scDblFinder.score\"                  \n",
       " [39] \"scDblFinder.weighted\"               \n",
       " [40] \"scDblFinder.cxds_score\"             \n",
       " [41] \"scDblFinder.class_atac\"             \n",
       " [42] \"scDblFinder.score_atac\"             \n",
       " [43] \"scDblFinder.weighted_atac\"          \n",
       " [44] \"scDblFinder.cxds_score_atac\"        \n",
       " [45] \"No_assigned_GFPbc\"                  \n",
       " [46] \"Assigned_GFPbc\"                     \n",
       " [47] \"Assigned_GFPgenotype\"               \n",
       " [48] \"DBL_comb\"                           \n",
       " [49] \"amulet_nFrags\"                      \n",
       " [50] \"amulet_uniqFrags\"                   \n",
       " [51] \"amulet_nAbove2\"                     \n",
       " [52] \"amulet_total.nAbove2\"               \n",
       " [53] \"amulet_p.value\"                     \n",
       " [54] \"amulet_q.value\"                     \n",
       " [55] \"doublet_amulet\"                     \n",
       " [56] \"nCount_SCT\"                         \n",
       " [57] \"nFeature_SCT\"                       \n",
       " [58] \"SCT.weight\"                         \n",
       " [59] \"ATAC.weight\"                        \n",
       " [60] \"wsnn_res.0.2\"                       \n",
       " [61] \"seurat_clusters\"                    \n",
       " [62] \"doublet\"                            \n",
       " [63] \"wsnn_res.2\"                         \n",
       " [64] \"wsnn_res.0.5\"                       \n",
       " [65] \"wsnn_res.0.25\"                      \n",
       " [66] \"CellTypist_BMA_label\"               \n",
       " [67] \"CellTypist_BMA_conf_score\"          \n",
       " [68] \"CellTypist_IPSCs_label\"             \n",
       " [69] \"CellTypist_IPSCs_conf_score\"        \n",
       " [70] \"CellTypist_BMA_label_filtered\"      \n",
       " [71] \"CellTypist_IPSCs_label_filtered\"    \n",
       " [72] \"time_point\"                         \n",
       " [73] \"time\"                               \n",
       " [74] \"nucleosome_signal\"                  \n",
       " [75] \"nucleosome_percentile\"              \n",
       " [76] \"FRiP\"                               \n",
       " [77] \"atac_pct_reads_in_peaks\"            \n",
       " [78] \"my_anot\"                            \n",
       " [79] \"FOI\"                                \n",
       " [80] \"my_anot_updated\"                    \n",
       " [81] \"majority_voting_BMA\"                \n",
       " [82] \"majority_voting_iPSCs\"              \n",
       " [83] \"current_anot\"                       \n",
       " [84] \"Assignation_demux_NO_CB\"            \n",
       " [85] \"Assigned_GFPbc_demux_NO_CB\"         \n",
       " [86] \"Assignation_demux_CB\"               \n",
       " [87] \"Assigned_GFPbc_demux_CB\"            \n",
       " [88] \"Assigned_GFPbc_integral\"            \n",
       " [89] \"Assigned_GFPgenotype_integral\"      \n",
       " [90] \"Subclusters_3\"                      \n",
       " [91] \"Subclusters_4\"                      \n",
       " [92] \"Subclusters_7\"                      \n",
       " [93] \"Subclusters_2\"                      \n",
       " [94] \"new_clusters\"                       \n",
       " [95] \"refined_annotation\"                 \n",
       " [96] \"refined_annotation_majority_vote\"   \n",
       " [97] \"clone_line\"                         \n",
       " [98] \"Genotype\"                           \n",
       " [99] \"nCount_ATAC_by_refined_annotation\"  \n",
       "[100] \"nFeature_ATAC_by_refined_annotation\""
      ]
     },
     "metadata": {},
     "output_type": "display_data"
    }
   ],
   "source": [
    "colnames(adata@meta.data)"
   ]
  },
  {
   "cell_type": "markdown",
   "id": "08bc4506-15b3-45b9-b4b0-fed7fed5c110",
   "metadata": {},
   "source": [
    "## Create a variable to correct for clone line and time_point"
   ]
  },
  {
   "cell_type": "code",
   "execution_count": 6,
   "id": "e7ba8351-6748-4253-8242-c9fd4220a04f",
   "metadata": {
    "execution": {
     "iopub.execute_input": "2025-03-06T08:51:04.803380Z",
     "iopub.status.busy": "2025-03-06T08:51:04.802274Z",
     "iopub.status.idle": "2025-03-06T08:51:04.839039Z",
     "shell.execute_reply": "2025-03-06T08:51:04.837889Z"
    }
   },
   "outputs": [
    {
     "name": "stdout",
     "output_type": "stream",
     "text": [
      "wt_1_Day_0 wt_2_Day_0 wt_3_Day_0 rs62237617_1_Day_0 rs62237617_2_Day_0 rs62237617_3_Day_0 DNMT3A_1_Day_0 DNMT3A_2_Day_0 DNMT3A_3_Day_0 rs62237617_DNMT3A_1_Day_0 rs62237617_DNMT3A_2_Day_0 rs62237617_DNMT3A_3_Day_0 wt_1_Day_8 wt_2_Day_8 wt_3_Day_8 rs62237617_1_Day_8 rs62237617_2_Day_8 rs62237617_3_Day_8 DNMT3A_1_Day_8 DNMT3A_2_Day_8 DNMT3A_3_Day_8 rs62237617_DNMT3A_1_Day_8 rs62237617_DNMT3A_2_Day_8 rs62237617_DNMT3A_3_Day_8 wt_1_Day_12 wt_2_Day_12 wt_3_Day_12 rs62237617_1_Day_12 rs62237617_2_Day_12 rs62237617_3_Day_12 DNMT3A_1_Day_12 DNMT3A_2_Day_12 DNMT3A_3_Day_12 rs62237617_DNMT3A_1_Day_12 rs62237617_DNMT3A_2_Day_12 rs62237617_DNMT3A_3_Day_12 wt_1_Day_15 wt_2_Day_15 wt_3_Day_15 rs62237617_1_Day_15 rs62237617_2_Day_15 rs62237617_3_Day_15 DNMT3A_1_Day_15 DNMT3A_2_Day_15 DNMT3A_3_Day_15 rs62237617_DNMT3A_1_Day_15 rs62237617_DNMT3A_2_Day_15 rs62237617_DNMT3A_3_Day_15\n",
      "60 132 80 130 119 242 893 98 2277 506 600 715 6 29 18 9 11 30 68 9 24 19 11 25 58 33 113 348 319 3134 77 13 35 618 65 92 6 32 94 385 327 4590 63 3 19 238 30 32\n"
     ]
    }
   ],
   "source": [
    " adata$sample_id<-droplevels(interaction(adata$clone_line,adata$time_point, sep=\"_\"))\n",
    "  \n",
    "cat(sprintf(as.character(names(summary(adata$sample_id)))))\n",
    "cat(\"\\n\")\n",
    "cat(sprintf(as.character(summary(adata$sample_id))))\n",
    "cat(\"\\n\")"
   ]
  },
  {
   "cell_type": "markdown",
   "id": "3d92e498-fd53-411a-a054-03738547a058",
   "metadata": {},
   "source": [
    "## Extract peak_subset counts"
   ]
  },
  {
   "cell_type": "code",
   "execution_count": 7,
   "id": "358a6b10-3f8c-4481-90bf-a8afc6c4a52d",
   "metadata": {
    "execution": {
     "iopub.execute_input": "2025-03-06T08:51:07.480283Z",
     "iopub.status.busy": "2025-03-06T08:51:07.479186Z",
     "iopub.status.idle": "2025-03-06T08:51:07.523200Z",
     "shell.execute_reply": "2025-03-06T08:51:07.522047Z"
    }
   },
   "outputs": [
    {
     "name": "stdout",
     "output_type": "stream",
     "text": [
      "matrix_ATAC\n",
      "Formal class 'dgCMatrix' [package \"Matrix\"] with 6 slots\n",
      "  ..@ i       : int [1:130903814] 3 6 49 104 110 156 294 474 523 754 ...\n",
      "  ..@ p       : int [1:16836] 0 4089 11554 20087 36626 50177 65911 75543 93596 97760 ...\n",
      "  ..@ Dim     : int [1:2] 340606 16835\n",
      "  ..@ Dimnames:List of 2\n",
      "  .. ..$ : chr [1:340606] \"chr1-10076-10321\" \"chr1-180715-181606\" \"chr1-191225-191765\" \"chr1-629567-630655\" ...\n",
      "  .. ..$ : chr [1:16835] \"MCO_01326_AAACAGCCACAGCCAT-1\" \"MCO_01326_AAACAGCCAGGAAGCC-1\" \"MCO_01326_AAACAGCCAGTATGTT-1\" \"MCO_01326_AAACATGCAAACGCGA-1\" ...\n",
      "  ..@ x       : num [1:130903814] 1 3 1 1 1 1 1 1 1 1 ...\n",
      "  ..@ factors : list()\n",
      "\n"
     ]
    }
   ],
   "source": [
    "matrix_ATAC<-GetAssayData(object = adata, assay = \"ATAC\", layer = \"counts\")\n",
    "  \n",
    "  cat(\"matrix_ATAC\\n\")\n",
    "  cat(str(matrix_ATAC))\n",
    "  cat(\"\\n\")"
   ]
  },
  {
   "cell_type": "markdown",
   "id": "0f384007-cec8-4a6b-bd81-b41063a1a0bf",
   "metadata": {},
   "source": [
    "## Extract metadata"
   ]
  },
  {
   "cell_type": "code",
   "execution_count": 8,
   "id": "e153f2d7-f39d-41fe-8bbe-5eb81e5c7fbb",
   "metadata": {
    "execution": {
     "iopub.execute_input": "2025-03-06T08:51:08.601510Z",
     "iopub.status.busy": "2025-03-06T08:51:08.600503Z",
     "iopub.status.idle": "2025-03-06T08:51:08.650674Z",
     "shell.execute_reply": "2025-03-06T08:51:08.649525Z"
    }
   },
   "outputs": [
    {
     "name": "stdout",
     "output_type": "stream",
     "text": [
      "Day_0 Day_8 Day_12 Day_15\n",
      "5852 259 4905 5819\n",
      "hESC HemogenicEndothelium MEP early erythroid early MK MK PolyPlo MK\n",
      "5853 236 2693 914 108 2863 4168\n",
      "wt_1 wt_2 wt_3 rs62237617_1 rs62237617_2 rs62237617_3 DNMT3A_1 DNMT3A_2 DNMT3A_3 rs62237617_DNMT3A_1 rs62237617_DNMT3A_2 rs62237617_DNMT3A_3\n",
      "130 226 305 872 776 7996 1101 123 2355 1381 706 864\n",
      "wt_1_Day_0 wt_2_Day_0 wt_3_Day_0 rs62237617_1_Day_0 rs62237617_2_Day_0 rs62237617_3_Day_0 DNMT3A_1_Day_0 DNMT3A_2_Day_0 DNMT3A_3_Day_0 rs62237617_DNMT3A_1_Day_0 rs62237617_DNMT3A_2_Day_0 rs62237617_DNMT3A_3_Day_0 wt_1_Day_8 wt_2_Day_8 wt_3_Day_8 rs62237617_1_Day_8 rs62237617_2_Day_8 rs62237617_3_Day_8 DNMT3A_1_Day_8 DNMT3A_2_Day_8 DNMT3A_3_Day_8 rs62237617_DNMT3A_1_Day_8 rs62237617_DNMT3A_2_Day_8 rs62237617_DNMT3A_3_Day_8 wt_1_Day_12 wt_2_Day_12 wt_3_Day_12 rs62237617_1_Day_12 rs62237617_2_Day_12 rs62237617_3_Day_12 DNMT3A_1_Day_12 DNMT3A_2_Day_12 DNMT3A_3_Day_12 rs62237617_DNMT3A_1_Day_12 rs62237617_DNMT3A_2_Day_12 rs62237617_DNMT3A_3_Day_12 wt_1_Day_15 wt_2_Day_15 wt_3_Day_15 rs62237617_1_Day_15 rs62237617_2_Day_15 rs62237617_3_Day_15 DNMT3A_1_Day_15 DNMT3A_2_Day_15 DNMT3A_3_Day_15 rs62237617_DNMT3A_1_Day_15 rs62237617_DNMT3A_2_Day_15 rs62237617_DNMT3A_3_Day_15\n",
      "60 132 80 130 119 242 893 98 2277 506 600 715 6 29 18 9 11 30 68 9 24 19 11 25 58 33 113 348 319 3134 77 13 35 618 65 92 6 32 94 385 327 4590 63 3 19 238 30 32\n"
     ]
    }
   ],
   "source": [
    "metadata<-adata[[]]\n",
    "\n",
    "cat(sprintf(as.character(names(summary(metadata$time_point)))))\n",
    "  cat(\"\\n\")\n",
    "  cat(sprintf(as.character(summary(metadata$time_point))))\n",
    "  cat(\"\\n\")\n",
    "  \n",
    "  \n",
    "  cat(sprintf(as.character(names(summary(metadata$refined_annotation_majority_vote)))))\n",
    "  cat(\"\\n\")\n",
    "  cat(sprintf(as.character(summary(metadata$refined_annotation_majority_vote))))\n",
    "  cat(\"\\n\")\n",
    "\n",
    "\n",
    "  \n",
    "  cat(sprintf(as.character(names(summary(as.factor(metadata$clone_line))))))\n",
    "  cat(\"\\n\")\n",
    "  cat(sprintf(as.character(summary(as.factor(metadata$clone_line)))))\n",
    "  cat(\"\\n\")\n",
    "  \n",
    "  cat(sprintf(as.character(names(summary(as.factor(metadata$sample_id))))))\n",
    "  cat(\"\\n\")\n",
    "  cat(sprintf(as.character(summary(as.factor(metadata$sample_id)))))\n",
    "  cat(\"\\n\")"
   ]
  },
  {
   "cell_type": "markdown",
   "id": "825f1d9f-04b3-4956-839c-c30fdd5d2c88",
   "metadata": {},
   "source": [
    "## Create a new Seurat object with the ATAC and the metadata"
   ]
  },
  {
   "cell_type": "code",
   "execution_count": 9,
   "id": "dc72be3b-4988-46fe-83ba-7f2d7e68241c",
   "metadata": {
    "execution": {
     "iopub.execute_input": "2025-03-06T08:51:09.751724Z",
     "iopub.status.busy": "2025-03-06T08:51:09.750656Z",
     "iopub.status.idle": "2025-03-06T08:51:17.832499Z",
     "shell.execute_reply": "2025-03-06T08:51:17.831222Z"
    }
   },
   "outputs": [
    {
     "data": {
      "text/plain": [
       "An object of class Seurat \n",
       "340606 features across 16835 samples within 1 assay \n",
       "Active assay: RNA (340606 features, 0 variable features)\n",
       " 1 layer present: counts"
      ]
     },
     "metadata": {},
     "output_type": "display_data"
    }
   ],
   "source": [
    "ATAC_object <- CreateSeuratObject(counts = matrix_ATAC, assay = \"RNA\",\n",
    "                                   meta.data=metadata)\n",
    "\n",
    "ATAC_object"
   ]
  },
  {
   "cell_type": "markdown",
   "id": "61fb461d-6392-47f9-bd8d-072dfeb441be",
   "metadata": {},
   "source": [
    "## Seurat2PB Aggregate by sample_id (clone line) and seurat_cluster"
   ]
  },
  {
   "cell_type": "code",
   "execution_count": 10,
   "id": "2d9d8a6b-1802-482f-9cfe-ede7b5416bb2",
   "metadata": {
    "execution": {
     "iopub.execute_input": "2025-03-06T08:51:17.835278Z",
     "iopub.status.busy": "2025-03-06T08:51:17.834317Z",
     "iopub.status.idle": "2025-03-06T08:51:22.026373Z",
     "shell.execute_reply": "2025-03-06T08:51:22.025176Z"
    }
   },
   "outputs": [
    {
     "name": "stdout",
     "output_type": "stream",
     "text": [
      "cluster_names_0\n",
      " chr [1:7] \"hESC\" \"HemogenicEndothelium\" \"MEP\" \"early erythroid\" \"early MK\" ...\n",
      "\n",
      "sample_names_0\n",
      " chr [1:48] \"wt_1_Day_0\" \"wt_2_Day_0\" \"wt_3_Day_0\" \"rs62237617_1_Day_0\" ...\n",
      "\n",
      "groups_0\n",
      "'data.frame':\t16835 obs. of  2 variables:\n",
      " $ sample_id                       : Factor w/ 48 levels \"wt_1_Day_0\",\"wt_2_Day_0\",..: 9 4 7 7 7 11 7 7 9 9 ...\n",
      " $ refined_annotation_majority_vote: Ord.factor w/ 7 levels \"hESC\"<\"HemogenicEndothelium\"<..: 1 1 1 1 1 1 1 1 1 1 ...\n",
      "\n",
      "aggr_counts_0\n",
      "Formal class 'DGEList' [package \"edgeR\"] with 1 slot\n",
      "  ..@ .Data:List of 3\n",
      "  .. ..$ : num [1:340606, 1:131] 1 18 4 805 13 ...\n",
      "  .. .. ..- attr(*, \"dimnames\")=List of 2\n",
      "  .. .. .. ..$ : chr [1:340606] \"chr1-10076-10321\" \"chr1-180715-181606\" \"chr1-191225-191765\" \"chr1-629567-630655\" ...\n",
      "  .. .. .. ..$ : chr [1:131] \"DNMT3A_1_Day_0_clusterhESC\" \"DNMT3A_1_Day_12_clusterearly erythroid\" \"DNMT3A_1_Day_12_clusterMEP\" \"DNMT3A_1_Day_12_clusterMK\" ...\n",
      "  .. ..$ :'data.frame':\t131 obs. of  5 variables:\n",
      "  .. .. ..$ group       : Factor w/ 1 level \"1\": 1 1 1 1 1 1 1 1 1 1 ...\n",
      "  .. .. ..$ lib.size    : num [1:131] 9006493 75805 474176 262997 10813 ...\n",
      "  .. .. ..$ norm.factors: num [1:131] 1 1 1 1 1 1 1 1 1 1 ...\n",
      "  .. .. ..$ sample      : chr [1:131] \"DNMT3A_1_Day_0\" \"DNMT3A_1_Day_12\" \"DNMT3A_1_Day_12\" \"DNMT3A_1_Day_12\" ...\n",
      "  .. .. ..$ cluster     : chr [1:131] \"hESC\" \"early erythroid\" \"MEP\" \"MK\" ...\n",
      "  .. ..$ :'data.frame':\t340606 obs. of  1 variable:\n",
      "  .. .. ..$ gene: chr [1:340606] \"chr1-10076-10321\" \"chr1-180715-181606\" \"chr1-191225-191765\" \"chr1-629567-630655\" ...\n",
      "  ..$ names: chr [1:3] \"counts\" \"samples\" \"genes\"\n",
      "\n"
     ]
    }
   ],
   "source": [
    " cluster_names <- levels(metadata[,which(colnames(metadata) == 'refined_annotation_majority_vote')])\n",
    "  \n",
    "  cat(\"cluster_names_0\\n\")\n",
    "  cat(str(cluster_names))\n",
    "  cat(\"\\n\")\n",
    "  \n",
    "  sample_names <- levels(metadata[,which(colnames(metadata) == 'sample_id')])\n",
    "  \n",
    "  cat(\"sample_names_0\\n\")\n",
    "  cat(str(sample_names))\n",
    "  cat(\"\\n\")\n",
    "  \n",
    "  groups <- metadata[,c(which(colnames(metadata) == 'sample_id'),which(colnames(metadata) == 'refined_annotation_majority_vote'))]\n",
    "  \n",
    "  cat(\"groups_0\\n\")\n",
    "  cat(str(groups))\n",
    "  cat(\"\\n\")\n",
    "  \n",
    "  aggr_counts <- Seurat2PB(ATAC_object, sample=\"sample_id\", cluster=\"refined_annotation_majority_vote\")\n",
    "  \n",
    "  cat(\"aggr_counts_0\\n\")\n",
    "  cat(str(aggr_counts))\n",
    "  cat(\"\\n\")"
   ]
  },
  {
   "cell_type": "markdown",
   "id": "f836ec01-0ad5-4512-be6c-6659688b3362",
   "metadata": {},
   "source": [
    "## List of count subsets"
   ]
  },
  {
   "cell_type": "code",
   "execution_count": 11,
   "id": "dc1a1d28-c470-497e-ace8-fc8a24a58e7d",
   "metadata": {
    "execution": {
     "iopub.execute_input": "2025-03-06T08:51:22.029136Z",
     "iopub.status.busy": "2025-03-06T08:51:22.028155Z",
     "iopub.status.idle": "2025-03-06T08:51:22.262898Z",
     "shell.execute_reply": "2025-03-06T08:51:22.261464Z"
    }
   },
   "outputs": [],
   "source": [
    " ## Initiate empty list\n",
    "  counts_ls <- list()\n",
    "  \n",
    "  DEBUG<-0\n",
    "  \n",
    "\n",
    "for (i in 1:length(cluster_names)) {\n",
    "    \n",
    "    cluster_names[i]\n",
    "    \n",
    "    ## Extract indexes of columns in the global matrix that match a given cluster\n",
    "    column_idx <- which(tstrsplit(colnames(aggr_counts), \"_cluster\")[[2]] == cluster_names[i])\n",
    "    \n",
    "    sub_aggr<- aggr_counts[, column_idx]\n",
    "    \n",
    "    if(DEBUG == 1)\n",
    "    {\n",
    "      cat(\"sub_aggr_0\\n\")\n",
    "      cat(str(sub_aggr))\n",
    "      cat(\"\\n\")\n",
    "      \n",
    "    }\n",
    "    \n",
    "    ## Store corresponding sub-matrix as one element of a list\n",
    "    counts_ls[[i]] <-sub_aggr\n",
    "    names(counts_ls)[i] <- cluster_names[i]\n",
    "\n",
    "    #break\n",
    "    \n",
    "  }"
   ]
  },
  {
   "cell_type": "code",
   "execution_count": 12,
   "id": "c7d8bb0f-6080-4f64-9f38-31383d94378f",
   "metadata": {
    "execution": {
     "iopub.execute_input": "2025-03-06T08:51:22.265688Z",
     "iopub.status.busy": "2025-03-06T08:51:22.264714Z",
     "iopub.status.idle": "2025-03-06T08:51:22.272500Z",
     "shell.execute_reply": "2025-03-06T08:51:22.271381Z"
    }
   },
   "outputs": [],
   "source": [
    "# cat(\"counts_ls_0\\n\")\n",
    "# cat(str(counts_ls))\n",
    "# cat(\"\\n\")\n",
    "\n"
   ]
  },
  {
   "cell_type": "markdown",
   "id": "50942bed-cce6-4d27-bce9-55defe39556d",
   "metadata": {},
   "source": [
    "## List of metadata"
   ]
  },
  {
   "cell_type": "code",
   "execution_count": 13,
   "id": "7149b13d-c043-4c85-a7a7-3f7685b36540",
   "metadata": {
    "execution": {
     "iopub.execute_input": "2025-03-06T08:51:22.275138Z",
     "iopub.status.busy": "2025-03-06T08:51:22.274212Z",
     "iopub.status.idle": "2025-03-06T08:51:22.285498Z",
     "shell.execute_reply": "2025-03-06T08:51:22.284401Z"
    }
   },
   "outputs": [
    {
     "data": {
      "text/html": [
       "<style>\n",
       ".list-inline {list-style: none; margin:0; padding: 0}\n",
       ".list-inline>li {display: inline-block}\n",
       ".list-inline>li:not(:last-child)::after {content: \"\\00b7\"; padding: 0 .5ex}\n",
       "</style>\n",
       "<ol class=list-inline><li>'orig.ident'</li><li>'nCount_RNA'</li><li>'nFeature_RNA'</li><li>'percent.mt'</li><li>'nCount_RNA_raw'</li><li>'nFeature_RNA_raw'</li><li>'nCount_ATAC'</li><li>'nFeature_ATAC'</li><li>'gex_raw_reads'</li><li>'gex_mapped_reads'</li><li>'gex_conf_intergenic_reads'</li><li>'gex_conf_exonic_reads'</li><li>'gex_conf_intronic_reads'</li><li>'gex_conf_exonic_unique_reads'</li><li>'gex_conf_exonic_antisense_reads'</li><li>'gex_conf_exonic_dup_reads'</li><li>'gex_exonic_umis'</li><li>'gex_conf_intronic_unique_reads'</li><li>'gex_conf_intronic_antisense_reads'</li><li>'gex_conf_intronic_dup_reads'</li><li>'gex_intronic_umis'</li><li>'gex_conf_txomic_unique_reads'</li><li>'gex_umis_count'</li><li>'gex_genes_count'</li><li>'atac_raw_reads'</li><li>'atac_unmapped_reads'</li><li>'atac_lowmapq'</li><li>'atac_dup_reads'</li><li>'atac_chimeric_reads'</li><li>'atac_mitochondrial_reads'</li><li>'atac_fragments'</li><li>'atac_TSS_fragments'</li><li>'atac_peak_region_fragments'</li><li>'atac_peak_region_cutsites'</li><li>'TSS.enrichment'</li><li>'TSS.percentile'</li><li>'scDblFinder.class'</li><li>'scDblFinder.score'</li><li>'scDblFinder.weighted'</li><li>'scDblFinder.cxds_score'</li><li>'scDblFinder.class_atac'</li><li>'scDblFinder.score_atac'</li><li>'scDblFinder.weighted_atac'</li><li>'scDblFinder.cxds_score_atac'</li><li>'No_assigned_GFPbc'</li><li>'Assigned_GFPbc'</li><li>'Assigned_GFPgenotype'</li><li>'DBL_comb'</li><li>'amulet_nFrags'</li><li>'amulet_uniqFrags'</li><li>'amulet_nAbove2'</li><li>'amulet_total.nAbove2'</li><li>'amulet_p.value'</li><li>'amulet_q.value'</li><li>'doublet_amulet'</li><li>'nCount_SCT'</li><li>'nFeature_SCT'</li><li>'SCT.weight'</li><li>'ATAC.weight'</li><li>'wsnn_res.0.2'</li><li>'seurat_clusters'</li><li>'doublet'</li><li>'wsnn_res.2'</li><li>'wsnn_res.0.5'</li><li>'wsnn_res.0.25'</li><li>'CellTypist_BMA_label'</li><li>'CellTypist_BMA_conf_score'</li><li>'CellTypist_IPSCs_label'</li><li>'CellTypist_IPSCs_conf_score'</li><li>'CellTypist_BMA_label_filtered'</li><li>'CellTypist_IPSCs_label_filtered'</li><li>'time_point'</li><li>'time'</li><li>'nucleosome_signal'</li><li>'nucleosome_percentile'</li><li>'FRiP'</li><li>'atac_pct_reads_in_peaks'</li><li>'my_anot'</li><li>'FOI'</li><li>'my_anot_updated'</li><li>'majority_voting_BMA'</li><li>'majority_voting_iPSCs'</li><li>'current_anot'</li><li>'Assignation_demux_NO_CB'</li><li>'Assigned_GFPbc_demux_NO_CB'</li><li>'Assignation_demux_CB'</li><li>'Assigned_GFPbc_demux_CB'</li><li>'Assigned_GFPbc_integral'</li><li>'Assigned_GFPgenotype_integral'</li><li>'Subclusters_3'</li><li>'Subclusters_4'</li><li>'Subclusters_7'</li><li>'Subclusters_2'</li><li>'new_clusters'</li><li>'refined_annotation'</li><li>'refined_annotation_majority_vote'</li><li>'clone_line'</li><li>'Genotype'</li><li>'nCount_ATAC_by_refined_annotation'</li><li>'nFeature_ATAC_by_refined_annotation'</li><li>'sample_id'</li></ol>\n"
      ],
      "text/latex": [
       "\\begin{enumerate*}\n",
       "\\item 'orig.ident'\n",
       "\\item 'nCount\\_RNA'\n",
       "\\item 'nFeature\\_RNA'\n",
       "\\item 'percent.mt'\n",
       "\\item 'nCount\\_RNA\\_raw'\n",
       "\\item 'nFeature\\_RNA\\_raw'\n",
       "\\item 'nCount\\_ATAC'\n",
       "\\item 'nFeature\\_ATAC'\n",
       "\\item 'gex\\_raw\\_reads'\n",
       "\\item 'gex\\_mapped\\_reads'\n",
       "\\item 'gex\\_conf\\_intergenic\\_reads'\n",
       "\\item 'gex\\_conf\\_exonic\\_reads'\n",
       "\\item 'gex\\_conf\\_intronic\\_reads'\n",
       "\\item 'gex\\_conf\\_exonic\\_unique\\_reads'\n",
       "\\item 'gex\\_conf\\_exonic\\_antisense\\_reads'\n",
       "\\item 'gex\\_conf\\_exonic\\_dup\\_reads'\n",
       "\\item 'gex\\_exonic\\_umis'\n",
       "\\item 'gex\\_conf\\_intronic\\_unique\\_reads'\n",
       "\\item 'gex\\_conf\\_intronic\\_antisense\\_reads'\n",
       "\\item 'gex\\_conf\\_intronic\\_dup\\_reads'\n",
       "\\item 'gex\\_intronic\\_umis'\n",
       "\\item 'gex\\_conf\\_txomic\\_unique\\_reads'\n",
       "\\item 'gex\\_umis\\_count'\n",
       "\\item 'gex\\_genes\\_count'\n",
       "\\item 'atac\\_raw\\_reads'\n",
       "\\item 'atac\\_unmapped\\_reads'\n",
       "\\item 'atac\\_lowmapq'\n",
       "\\item 'atac\\_dup\\_reads'\n",
       "\\item 'atac\\_chimeric\\_reads'\n",
       "\\item 'atac\\_mitochondrial\\_reads'\n",
       "\\item 'atac\\_fragments'\n",
       "\\item 'atac\\_TSS\\_fragments'\n",
       "\\item 'atac\\_peak\\_region\\_fragments'\n",
       "\\item 'atac\\_peak\\_region\\_cutsites'\n",
       "\\item 'TSS.enrichment'\n",
       "\\item 'TSS.percentile'\n",
       "\\item 'scDblFinder.class'\n",
       "\\item 'scDblFinder.score'\n",
       "\\item 'scDblFinder.weighted'\n",
       "\\item 'scDblFinder.cxds\\_score'\n",
       "\\item 'scDblFinder.class\\_atac'\n",
       "\\item 'scDblFinder.score\\_atac'\n",
       "\\item 'scDblFinder.weighted\\_atac'\n",
       "\\item 'scDblFinder.cxds\\_score\\_atac'\n",
       "\\item 'No\\_assigned\\_GFPbc'\n",
       "\\item 'Assigned\\_GFPbc'\n",
       "\\item 'Assigned\\_GFPgenotype'\n",
       "\\item 'DBL\\_comb'\n",
       "\\item 'amulet\\_nFrags'\n",
       "\\item 'amulet\\_uniqFrags'\n",
       "\\item 'amulet\\_nAbove2'\n",
       "\\item 'amulet\\_total.nAbove2'\n",
       "\\item 'amulet\\_p.value'\n",
       "\\item 'amulet\\_q.value'\n",
       "\\item 'doublet\\_amulet'\n",
       "\\item 'nCount\\_SCT'\n",
       "\\item 'nFeature\\_SCT'\n",
       "\\item 'SCT.weight'\n",
       "\\item 'ATAC.weight'\n",
       "\\item 'wsnn\\_res.0.2'\n",
       "\\item 'seurat\\_clusters'\n",
       "\\item 'doublet'\n",
       "\\item 'wsnn\\_res.2'\n",
       "\\item 'wsnn\\_res.0.5'\n",
       "\\item 'wsnn\\_res.0.25'\n",
       "\\item 'CellTypist\\_BMA\\_label'\n",
       "\\item 'CellTypist\\_BMA\\_conf\\_score'\n",
       "\\item 'CellTypist\\_IPSCs\\_label'\n",
       "\\item 'CellTypist\\_IPSCs\\_conf\\_score'\n",
       "\\item 'CellTypist\\_BMA\\_label\\_filtered'\n",
       "\\item 'CellTypist\\_IPSCs\\_label\\_filtered'\n",
       "\\item 'time\\_point'\n",
       "\\item 'time'\n",
       "\\item 'nucleosome\\_signal'\n",
       "\\item 'nucleosome\\_percentile'\n",
       "\\item 'FRiP'\n",
       "\\item 'atac\\_pct\\_reads\\_in\\_peaks'\n",
       "\\item 'my\\_anot'\n",
       "\\item 'FOI'\n",
       "\\item 'my\\_anot\\_updated'\n",
       "\\item 'majority\\_voting\\_BMA'\n",
       "\\item 'majority\\_voting\\_iPSCs'\n",
       "\\item 'current\\_anot'\n",
       "\\item 'Assignation\\_demux\\_NO\\_CB'\n",
       "\\item 'Assigned\\_GFPbc\\_demux\\_NO\\_CB'\n",
       "\\item 'Assignation\\_demux\\_CB'\n",
       "\\item 'Assigned\\_GFPbc\\_demux\\_CB'\n",
       "\\item 'Assigned\\_GFPbc\\_integral'\n",
       "\\item 'Assigned\\_GFPgenotype\\_integral'\n",
       "\\item 'Subclusters\\_3'\n",
       "\\item 'Subclusters\\_4'\n",
       "\\item 'Subclusters\\_7'\n",
       "\\item 'Subclusters\\_2'\n",
       "\\item 'new\\_clusters'\n",
       "\\item 'refined\\_annotation'\n",
       "\\item 'refined\\_annotation\\_majority\\_vote'\n",
       "\\item 'clone\\_line'\n",
       "\\item 'Genotype'\n",
       "\\item 'nCount\\_ATAC\\_by\\_refined\\_annotation'\n",
       "\\item 'nFeature\\_ATAC\\_by\\_refined\\_annotation'\n",
       "\\item 'sample\\_id'\n",
       "\\end{enumerate*}\n"
      ],
      "text/markdown": [
       "1. 'orig.ident'\n",
       "2. 'nCount_RNA'\n",
       "3. 'nFeature_RNA'\n",
       "4. 'percent.mt'\n",
       "5. 'nCount_RNA_raw'\n",
       "6. 'nFeature_RNA_raw'\n",
       "7. 'nCount_ATAC'\n",
       "8. 'nFeature_ATAC'\n",
       "9. 'gex_raw_reads'\n",
       "10. 'gex_mapped_reads'\n",
       "11. 'gex_conf_intergenic_reads'\n",
       "12. 'gex_conf_exonic_reads'\n",
       "13. 'gex_conf_intronic_reads'\n",
       "14. 'gex_conf_exonic_unique_reads'\n",
       "15. 'gex_conf_exonic_antisense_reads'\n",
       "16. 'gex_conf_exonic_dup_reads'\n",
       "17. 'gex_exonic_umis'\n",
       "18. 'gex_conf_intronic_unique_reads'\n",
       "19. 'gex_conf_intronic_antisense_reads'\n",
       "20. 'gex_conf_intronic_dup_reads'\n",
       "21. 'gex_intronic_umis'\n",
       "22. 'gex_conf_txomic_unique_reads'\n",
       "23. 'gex_umis_count'\n",
       "24. 'gex_genes_count'\n",
       "25. 'atac_raw_reads'\n",
       "26. 'atac_unmapped_reads'\n",
       "27. 'atac_lowmapq'\n",
       "28. 'atac_dup_reads'\n",
       "29. 'atac_chimeric_reads'\n",
       "30. 'atac_mitochondrial_reads'\n",
       "31. 'atac_fragments'\n",
       "32. 'atac_TSS_fragments'\n",
       "33. 'atac_peak_region_fragments'\n",
       "34. 'atac_peak_region_cutsites'\n",
       "35. 'TSS.enrichment'\n",
       "36. 'TSS.percentile'\n",
       "37. 'scDblFinder.class'\n",
       "38. 'scDblFinder.score'\n",
       "39. 'scDblFinder.weighted'\n",
       "40. 'scDblFinder.cxds_score'\n",
       "41. 'scDblFinder.class_atac'\n",
       "42. 'scDblFinder.score_atac'\n",
       "43. 'scDblFinder.weighted_atac'\n",
       "44. 'scDblFinder.cxds_score_atac'\n",
       "45. 'No_assigned_GFPbc'\n",
       "46. 'Assigned_GFPbc'\n",
       "47. 'Assigned_GFPgenotype'\n",
       "48. 'DBL_comb'\n",
       "49. 'amulet_nFrags'\n",
       "50. 'amulet_uniqFrags'\n",
       "51. 'amulet_nAbove2'\n",
       "52. 'amulet_total.nAbove2'\n",
       "53. 'amulet_p.value'\n",
       "54. 'amulet_q.value'\n",
       "55. 'doublet_amulet'\n",
       "56. 'nCount_SCT'\n",
       "57. 'nFeature_SCT'\n",
       "58. 'SCT.weight'\n",
       "59. 'ATAC.weight'\n",
       "60. 'wsnn_res.0.2'\n",
       "61. 'seurat_clusters'\n",
       "62. 'doublet'\n",
       "63. 'wsnn_res.2'\n",
       "64. 'wsnn_res.0.5'\n",
       "65. 'wsnn_res.0.25'\n",
       "66. 'CellTypist_BMA_label'\n",
       "67. 'CellTypist_BMA_conf_score'\n",
       "68. 'CellTypist_IPSCs_label'\n",
       "69. 'CellTypist_IPSCs_conf_score'\n",
       "70. 'CellTypist_BMA_label_filtered'\n",
       "71. 'CellTypist_IPSCs_label_filtered'\n",
       "72. 'time_point'\n",
       "73. 'time'\n",
       "74. 'nucleosome_signal'\n",
       "75. 'nucleosome_percentile'\n",
       "76. 'FRiP'\n",
       "77. 'atac_pct_reads_in_peaks'\n",
       "78. 'my_anot'\n",
       "79. 'FOI'\n",
       "80. 'my_anot_updated'\n",
       "81. 'majority_voting_BMA'\n",
       "82. 'majority_voting_iPSCs'\n",
       "83. 'current_anot'\n",
       "84. 'Assignation_demux_NO_CB'\n",
       "85. 'Assigned_GFPbc_demux_NO_CB'\n",
       "86. 'Assignation_demux_CB'\n",
       "87. 'Assigned_GFPbc_demux_CB'\n",
       "88. 'Assigned_GFPbc_integral'\n",
       "89. 'Assigned_GFPgenotype_integral'\n",
       "90. 'Subclusters_3'\n",
       "91. 'Subclusters_4'\n",
       "92. 'Subclusters_7'\n",
       "93. 'Subclusters_2'\n",
       "94. 'new_clusters'\n",
       "95. 'refined_annotation'\n",
       "96. 'refined_annotation_majority_vote'\n",
       "97. 'clone_line'\n",
       "98. 'Genotype'\n",
       "99. 'nCount_ATAC_by_refined_annotation'\n",
       "100. 'nFeature_ATAC_by_refined_annotation'\n",
       "101. 'sample_id'\n",
       "\n",
       "\n"
      ],
      "text/plain": [
       "  [1] \"orig.ident\"                         \n",
       "  [2] \"nCount_RNA\"                         \n",
       "  [3] \"nFeature_RNA\"                       \n",
       "  [4] \"percent.mt\"                         \n",
       "  [5] \"nCount_RNA_raw\"                     \n",
       "  [6] \"nFeature_RNA_raw\"                   \n",
       "  [7] \"nCount_ATAC\"                        \n",
       "  [8] \"nFeature_ATAC\"                      \n",
       "  [9] \"gex_raw_reads\"                      \n",
       " [10] \"gex_mapped_reads\"                   \n",
       " [11] \"gex_conf_intergenic_reads\"          \n",
       " [12] \"gex_conf_exonic_reads\"              \n",
       " [13] \"gex_conf_intronic_reads\"            \n",
       " [14] \"gex_conf_exonic_unique_reads\"       \n",
       " [15] \"gex_conf_exonic_antisense_reads\"    \n",
       " [16] \"gex_conf_exonic_dup_reads\"          \n",
       " [17] \"gex_exonic_umis\"                    \n",
       " [18] \"gex_conf_intronic_unique_reads\"     \n",
       " [19] \"gex_conf_intronic_antisense_reads\"  \n",
       " [20] \"gex_conf_intronic_dup_reads\"        \n",
       " [21] \"gex_intronic_umis\"                  \n",
       " [22] \"gex_conf_txomic_unique_reads\"       \n",
       " [23] \"gex_umis_count\"                     \n",
       " [24] \"gex_genes_count\"                    \n",
       " [25] \"atac_raw_reads\"                     \n",
       " [26] \"atac_unmapped_reads\"                \n",
       " [27] \"atac_lowmapq\"                       \n",
       " [28] \"atac_dup_reads\"                     \n",
       " [29] \"atac_chimeric_reads\"                \n",
       " [30] \"atac_mitochondrial_reads\"           \n",
       " [31] \"atac_fragments\"                     \n",
       " [32] \"atac_TSS_fragments\"                 \n",
       " [33] \"atac_peak_region_fragments\"         \n",
       " [34] \"atac_peak_region_cutsites\"          \n",
       " [35] \"TSS.enrichment\"                     \n",
       " [36] \"TSS.percentile\"                     \n",
       " [37] \"scDblFinder.class\"                  \n",
       " [38] \"scDblFinder.score\"                  \n",
       " [39] \"scDblFinder.weighted\"               \n",
       " [40] \"scDblFinder.cxds_score\"             \n",
       " [41] \"scDblFinder.class_atac\"             \n",
       " [42] \"scDblFinder.score_atac\"             \n",
       " [43] \"scDblFinder.weighted_atac\"          \n",
       " [44] \"scDblFinder.cxds_score_atac\"        \n",
       " [45] \"No_assigned_GFPbc\"                  \n",
       " [46] \"Assigned_GFPbc\"                     \n",
       " [47] \"Assigned_GFPgenotype\"               \n",
       " [48] \"DBL_comb\"                           \n",
       " [49] \"amulet_nFrags\"                      \n",
       " [50] \"amulet_uniqFrags\"                   \n",
       " [51] \"amulet_nAbove2\"                     \n",
       " [52] \"amulet_total.nAbove2\"               \n",
       " [53] \"amulet_p.value\"                     \n",
       " [54] \"amulet_q.value\"                     \n",
       " [55] \"doublet_amulet\"                     \n",
       " [56] \"nCount_SCT\"                         \n",
       " [57] \"nFeature_SCT\"                       \n",
       " [58] \"SCT.weight\"                         \n",
       " [59] \"ATAC.weight\"                        \n",
       " [60] \"wsnn_res.0.2\"                       \n",
       " [61] \"seurat_clusters\"                    \n",
       " [62] \"doublet\"                            \n",
       " [63] \"wsnn_res.2\"                         \n",
       " [64] \"wsnn_res.0.5\"                       \n",
       " [65] \"wsnn_res.0.25\"                      \n",
       " [66] \"CellTypist_BMA_label\"               \n",
       " [67] \"CellTypist_BMA_conf_score\"          \n",
       " [68] \"CellTypist_IPSCs_label\"             \n",
       " [69] \"CellTypist_IPSCs_conf_score\"        \n",
       " [70] \"CellTypist_BMA_label_filtered\"      \n",
       " [71] \"CellTypist_IPSCs_label_filtered\"    \n",
       " [72] \"time_point\"                         \n",
       " [73] \"time\"                               \n",
       " [74] \"nucleosome_signal\"                  \n",
       " [75] \"nucleosome_percentile\"              \n",
       " [76] \"FRiP\"                               \n",
       " [77] \"atac_pct_reads_in_peaks\"            \n",
       " [78] \"my_anot\"                            \n",
       " [79] \"FOI\"                                \n",
       " [80] \"my_anot_updated\"                    \n",
       " [81] \"majority_voting_BMA\"                \n",
       " [82] \"majority_voting_iPSCs\"              \n",
       " [83] \"current_anot\"                       \n",
       " [84] \"Assignation_demux_NO_CB\"            \n",
       " [85] \"Assigned_GFPbc_demux_NO_CB\"         \n",
       " [86] \"Assignation_demux_CB\"               \n",
       " [87] \"Assigned_GFPbc_demux_CB\"            \n",
       " [88] \"Assigned_GFPbc_integral\"            \n",
       " [89] \"Assigned_GFPgenotype_integral\"      \n",
       " [90] \"Subclusters_3\"                      \n",
       " [91] \"Subclusters_4\"                      \n",
       " [92] \"Subclusters_7\"                      \n",
       " [93] \"Subclusters_2\"                      \n",
       " [94] \"new_clusters\"                       \n",
       " [95] \"refined_annotation\"                 \n",
       " [96] \"refined_annotation_majority_vote\"   \n",
       " [97] \"clone_line\"                         \n",
       " [98] \"Genotype\"                           \n",
       " [99] \"nCount_ATAC_by_refined_annotation\"  \n",
       "[100] \"nFeature_ATAC_by_refined_annotation\"\n",
       "[101] \"sample_id\"                          "
      ]
     },
     "metadata": {},
     "output_type": "display_data"
    }
   ],
   "source": [
    "colnames(metadata)"
   ]
  },
  {
   "cell_type": "markdown",
   "id": "ec6d24be-314b-4bad-acd0-96edab0402e7",
   "metadata": {},
   "source": [
    "### metadata_NEW df"
   ]
  },
  {
   "cell_type": "code",
   "execution_count": 14,
   "id": "56d73691-117e-437b-982e-750794ec2e8b",
   "metadata": {
    "execution": {
     "iopub.execute_input": "2025-03-06T08:51:22.288178Z",
     "iopub.status.busy": "2025-03-06T08:51:22.287191Z",
     "iopub.status.idle": "2025-03-06T08:51:22.362517Z",
     "shell.execute_reply": "2025-03-06T08:51:22.361384Z"
    }
   },
   "outputs": [
    {
     "name": "stdout",
     "output_type": "stream",
     "text": [
      "metadata_NEW_0\n",
      "'data.frame':\t16835 obs. of  4 variables:\n",
      " $ Genotype  : Ord.factor w/ 4 levels \"wt\"<\"rs62237617\"<..: 3 2 3 3 3 4 3 3 3 3 ...\n",
      " $ clone_line: Ord.factor w/ 12 levels \"wt_1\"<\"wt_2\"<..: 9 4 7 7 7 11 7 7 9 9 ...\n",
      " $ time_point: Ord.factor w/ 4 levels \"Day_0\"<\"Day_8\"<..: 1 1 1 1 1 1 1 1 1 1 ...\n",
      " $ sample_id : Factor w/ 48 levels \"wt_1_Day_0\",\"wt_2_Day_0\",..: 9 4 7 7 7 11 7 7 9 9 ...\n",
      "\n",
      "metadata_NEW_0.5\n",
      "'data.frame':\t48 obs. of  4 variables:\n",
      " $ Genotype  : Ord.factor w/ 4 levels \"wt\"<\"rs62237617\"<..: 3 2 3 4 4 1 2 4 3 2 ...\n",
      " $ clone_line: Ord.factor w/ 12 levels \"wt_1\"<\"wt_2\"<..: 9 4 7 11 12 3 6 10 8 5 ...\n",
      " $ time_point: Ord.factor w/ 4 levels \"Day_0\"<\"Day_8\"<..: 1 1 1 1 1 1 1 1 1 1 ...\n",
      " $ sample_id : Factor w/ 48 levels \"wt_1_Day_0\",\"wt_2_Day_0\",..: 9 4 7 11 12 3 6 10 8 5 ...\n",
      "\n",
      "metadata_NEW_1\n",
      "'data.frame':\t48 obs. of  4 variables:\n",
      " $ Genotype  : Ord.factor w/ 4 levels \"wt\"<\"rs62237617\"<..: 3 2 3 4 4 1 2 4 3 2 ...\n",
      " $ clone_line: Ord.factor w/ 12 levels \"wt_1\"<\"wt_2\"<..: 9 4 7 11 12 3 6 10 8 5 ...\n",
      " $ time_point: Ord.factor w/ 4 levels \"Day_0\"<\"Day_8\"<..: 1 1 1 1 1 1 1 1 1 1 ...\n",
      " $ sample_id : Factor w/ 48 levels \"wt_1_Day_0\",\"wt_2_Day_0\",..: 9 4 7 11 12 3 6 10 8 5 ...\n",
      "\n"
     ]
    },
    {
     "data": {
      "text/html": [
       "<style>\n",
       ".list-inline {list-style: none; margin:0; padding: 0}\n",
       ".list-inline>li {display: inline-block}\n",
       ".list-inline>li:not(:last-child)::after {content: \"\\00b7\"; padding: 0 .5ex}\n",
       "</style>\n",
       "<ol class=list-inline><li>'Genotype'</li><li>'clone_line'</li><li>'time_point'</li><li>'sample_id'</li></ol>\n"
      ],
      "text/latex": [
       "\\begin{enumerate*}\n",
       "\\item 'Genotype'\n",
       "\\item 'clone\\_line'\n",
       "\\item 'time\\_point'\n",
       "\\item 'sample\\_id'\n",
       "\\end{enumerate*}\n"
      ],
      "text/markdown": [
       "1. 'Genotype'\n",
       "2. 'clone_line'\n",
       "3. 'time_point'\n",
       "4. 'sample_id'\n",
       "\n",
       "\n"
      ],
      "text/plain": [
       "[1] \"Genotype\"   \"clone_line\" \"time_point\" \"sample_id\" "
      ]
     },
     "metadata": {},
     "output_type": "display_data"
    }
   ],
   "source": [
    "#### Create group level variables -----\n",
    "  \n",
    "  # Extract sample-level variables\n",
    "  metadata_NEW <- metadata %>% \n",
    "    as.data.frame() %>% \n",
    "    dplyr::select(Genotype, clone_line, time_point, sample_id)\n",
    "  \n",
    "cat(\"metadata_NEW_0\\n\")\n",
    "  cat(str(metadata_NEW))\n",
    "  cat(\"\\n\")\n",
    "  \n",
    "  # Exclude duplicated rows\n",
    "  metadata_NEW <- metadata_NEW[!duplicated(metadata_NEW), ]\n",
    "\n",
    "\n",
    "cat(\"metadata_NEW_0.5\\n\")\n",
    "  cat(str(metadata_NEW))\n",
    "  cat(\"\\n\")\n",
    "  \n",
    " \n",
    "  # Rename rows\n",
    "  rownames(metadata_NEW) <- metadata_NEW$sample_id\n",
    "  \n",
    "  cat(\"metadata_NEW_1\\n\")\n",
    "  cat(str(metadata_NEW))\n",
    "  cat(\"\\n\")\n",
    "\n",
    "\n",
    "names(metadata_NEW)"
   ]
  },
  {
   "cell_type": "markdown",
   "id": "001a2444-c03f-4468-85e4-e72d59eaec9c",
   "metadata": {},
   "source": [
    "### Count table"
   ]
  },
  {
   "cell_type": "code",
   "execution_count": 15,
   "id": "a338c6e8-ce75-4ae3-ba59-cafbf1b19dc7",
   "metadata": {
    "execution": {
     "iopub.execute_input": "2025-03-06T08:51:22.365170Z",
     "iopub.status.busy": "2025-03-06T08:51:22.364236Z",
     "iopub.status.idle": "2025-03-06T08:51:22.386229Z",
     "shell.execute_reply": "2025-03-06T08:51:22.385108Z"
    }
   },
   "outputs": [
    {
     "name": "stdout",
     "output_type": "stream",
     "text": [
      "t_0\n",
      " 'table' int [1:48, 1:7] 60 132 80 130 119 242 893 98 2277 506 ...\n",
      " - attr(*, \"dimnames\")=List of 2\n",
      "  ..$ : chr [1:48] \"wt_1_Day_0\" \"wt_2_Day_0\" \"wt_3_Day_0\" \"rs62237617_1_Day_0\" ...\n",
      "  ..$ : chr [1:7] \"hESC\" \"HemogenicEndothelium\" \"MEP\" \"early erythroid\" ...\n",
      "\n"
     ]
    },
    {
     "data": {
      "text/plain": [
       "                            \n",
       "                             hESC HemogenicEndothelium  MEP early erythroid\n",
       "  wt_1_Day_0                   60                    0    0               0\n",
       "  wt_2_Day_0                  132                    0    0               0\n",
       "  wt_3_Day_0                   80                    0    0               0\n",
       "  rs62237617_1_Day_0          130                    0    0               0\n",
       "  rs62237617_2_Day_0          119                    0    0               0\n",
       "  rs62237617_3_Day_0          242                    0    0               0\n",
       "  DNMT3A_1_Day_0              893                    0    0               0\n",
       "  DNMT3A_2_Day_0               98                    0    0               0\n",
       "  DNMT3A_3_Day_0             2277                    0    0               0\n",
       "  rs62237617_DNMT3A_1_Day_0   506                    0    0               0\n",
       "  rs62237617_DNMT3A_2_Day_0   600                    0    0               0\n",
       "  rs62237617_DNMT3A_3_Day_0   715                    0    0               0\n",
       "  wt_1_Day_8                    0                    6    0               0\n",
       "  wt_2_Day_8                    0                   27    2               0\n",
       "  wt_3_Day_8                    0                   16    1               0\n",
       "  rs62237617_1_Day_8            0                    7    0               0\n",
       "  rs62237617_2_Day_8            0                    8    2               0\n",
       "  rs62237617_3_Day_8            0                   28    2               0\n",
       "  DNMT3A_1_Day_8                1                   59    4               0\n",
       "  DNMT3A_2_Day_8                0                    9    0               0\n",
       "  DNMT3A_3_Day_8                0                   20    0               0\n",
       "  rs62237617_DNMT3A_1_Day_8     0                   17    1               0\n",
       "  rs62237617_DNMT3A_2_Day_8     0                    8    2               0\n",
       "  rs62237617_DNMT3A_3_Day_8     0                   20    2               0\n",
       "  wt_1_Day_12                   0                    0   35              10\n",
       "  wt_2_Day_12                   0                    0   14               9\n",
       "  wt_3_Day_12                   0                    0   63              19\n",
       "  rs62237617_1_Day_12           0                    0  165              57\n",
       "  rs62237617_2_Day_12           0                    2  139              76\n",
       "  rs62237617_3_Day_12           0                    7 1557             520\n",
       "  DNMT3A_1_Day_12               0                    0   43              12\n",
       "  DNMT3A_2_Day_12               0                    0    6               2\n",
       "  DNMT3A_3_Day_12               0                    0   18               8\n",
       "  rs62237617_DNMT3A_1_Day_12    0                    0  298             144\n",
       "  rs62237617_DNMT3A_2_Day_12    0                    0   34              11\n",
       "  rs62237617_DNMT3A_3_Day_12    0                    0   30              20\n",
       "  wt_1_Day_15                   0                    0    0               1\n",
       "  wt_2_Day_15                   0                    0    5               0\n",
       "  wt_3_Day_15                   0                    0    3               0\n",
       "  rs62237617_1_Day_15           0                    0   18               3\n",
       "  rs62237617_2_Day_15           0                    1   15               1\n",
       "  rs62237617_3_Day_15           0                    1  219              21\n",
       "  DNMT3A_1_Day_15               0                    0    4               0\n",
       "  DNMT3A_2_Day_15               0                    0    0               0\n",
       "  DNMT3A_3_Day_15               0                    0    0               0\n",
       "  rs62237617_DNMT3A_1_Day_15    0                    0    9               0\n",
       "  rs62237617_DNMT3A_2_Day_15    0                    0    1               0\n",
       "  rs62237617_DNMT3A_3_Day_15    0                    0    1               0\n",
       "                            \n",
       "                             early MK   MK PolyPlo MK\n",
       "  wt_1_Day_0                        0    0          0\n",
       "  wt_2_Day_0                        0    0          0\n",
       "  wt_3_Day_0                        0    0          0\n",
       "  rs62237617_1_Day_0                0    0          0\n",
       "  rs62237617_2_Day_0                0    0          0\n",
       "  rs62237617_3_Day_0                0    0          0\n",
       "  DNMT3A_1_Day_0                    0    0          0\n",
       "  DNMT3A_2_Day_0                    0    0          0\n",
       "  DNMT3A_3_Day_0                    0    0          0\n",
       "  rs62237617_DNMT3A_1_Day_0         0    0          0\n",
       "  rs62237617_DNMT3A_2_Day_0         0    0          0\n",
       "  rs62237617_DNMT3A_3_Day_0         0    0          0\n",
       "  wt_1_Day_8                        0    0          0\n",
       "  wt_2_Day_8                        0    0          0\n",
       "  wt_3_Day_8                        0    1          0\n",
       "  rs62237617_1_Day_8                0    2          0\n",
       "  rs62237617_2_Day_8                0    1          0\n",
       "  rs62237617_3_Day_8                0    0          0\n",
       "  DNMT3A_1_Day_8                    0    4          0\n",
       "  DNMT3A_2_Day_8                    0    0          0\n",
       "  DNMT3A_3_Day_8                    1    3          0\n",
       "  rs62237617_DNMT3A_1_Day_8         0    1          0\n",
       "  rs62237617_DNMT3A_2_Day_8         0    1          0\n",
       "  rs62237617_DNMT3A_3_Day_8         0    3          0\n",
       "  wt_1_Day_12                       0   12          1\n",
       "  wt_2_Day_12                       0   10          0\n",
       "  wt_3_Day_12                       2   29          0\n",
       "  rs62237617_1_Day_12              11  113          2\n",
       "  rs62237617_2_Day_12               9   91          2\n",
       "  rs62237617_3_Day_12              70  959         21\n",
       "  DNMT3A_1_Day_12                   0   22          0\n",
       "  DNMT3A_2_Day_12                   0    5          0\n",
       "  DNMT3A_3_Day_12                   0    9          0\n",
       "  rs62237617_DNMT3A_1_Day_12        8  167          1\n",
       "  rs62237617_DNMT3A_2_Day_12        0   19          1\n",
       "  rs62237617_DNMT3A_3_Day_12        1   41          0\n",
       "  wt_1_Day_15                       0    0          5\n",
       "  wt_2_Day_15                       0    4         23\n",
       "  wt_3_Day_15                       0   26         65\n",
       "  rs62237617_1_Day_15               1   93        270\n",
       "  rs62237617_2_Day_15               0   85        225\n",
       "  rs62237617_3_Day_15               5 1074       3270\n",
       "  DNMT3A_1_Day_15                   0   15         44\n",
       "  DNMT3A_2_Day_15                   0    0          3\n",
       "  DNMT3A_3_Day_15                   0    6         13\n",
       "  rs62237617_DNMT3A_1_Day_15        0   54        175\n",
       "  rs62237617_DNMT3A_2_Day_15        0    5         24\n",
       "  rs62237617_DNMT3A_3_Day_15        0    8         23"
      ]
     },
     "metadata": {},
     "output_type": "display_data"
    }
   ],
   "source": [
    "t <- table(metadata$sample_id,\n",
    "             metadata$refined_annotation_majority_vote)\n",
    "  \n",
    "  cat(\"t_0\\n\")\n",
    "  cat(str(t))\n",
    "  cat(\"\\n\")\n",
    "\n",
    "t"
   ]
  },
  {
   "cell_type": "markdown",
   "id": "872ba020-055a-48d4-97cb-6d8652e5e9ec",
   "metadata": {},
   "source": [
    "### List population"
   ]
  },
  {
   "cell_type": "code",
   "execution_count": 16,
   "id": "1b3f12dd-5328-43dd-9302-2e053adb69f6",
   "metadata": {
    "execution": {
     "iopub.execute_input": "2025-03-06T08:51:22.388977Z",
     "iopub.status.busy": "2025-03-06T08:51:22.388031Z",
     "iopub.status.idle": "2025-03-06T08:51:22.475211Z",
     "shell.execute_reply": "2025-03-06T08:51:22.474040Z"
    }
   },
   "outputs": [],
   "source": [
    "##### Creating metadata list ----------------\n",
    "  \n",
    "  ## Initiate empty list\n",
    "  metadata_ls <- list()\n",
    "  \n",
    "  DEBUG<-0\n",
    "  \n",
    "  for (i in 1:length(counts_ls)) {\n",
    "    \n",
    "    ## Initiate a data frame for cluster i with one row per sample (matching column names in the counts matrix)\n",
    "    df <- data.frame(refined_annotation_majority_vote_sample_id = colnames(counts_ls[[i]]))\n",
    "\n",
    "      if(DEBUG == 1){\n",
    "\n",
    "         cat(\"df_0\\n\")\n",
    "         cat(str(df))\n",
    "         cat(\"\\n\")\n",
    "      }\n",
    "    \n",
    "    ## Use tstrsplit() to separate cluster (cell type) and sample IDs\n",
    "    df$refined_annotation_majority_vote_id <- tstrsplit(df$refined_annotation_majority_vote_sample_id, \"_cluster\")[[2]]\n",
    "    df$sample_id  <- tstrsplit(df$refined_annotation_majority_vote_sample_id, \"_cluster\")[[1]]\n",
    "    \n",
    "    \n",
    "     if(DEBUG == 1){\n",
    "\n",
    "         cat(\"df_1\\n\")\n",
    "         cat(str(df))\n",
    "         cat(\"\\n\")\n",
    "      }\n",
    "    \n",
    "    \n",
    "    ## Retrieve cell count information for this cluster from global cell count table\n",
    "    idx <- which(colnames(t) == unique(df$refined_annotation_majority_vote_id))\n",
    "\n",
    "       if(DEBUG == 1){\n",
    "\n",
    "                 cat(\"idx_0\\n\")\n",
    "                 cat(str(idx))\n",
    "                 cat(\"\\n\")          \n",
    "           }\n",
    "      \n",
    "    cell_counts <- t[, idx]\n",
    "\n",
    "       if(DEBUG == 1){\n",
    "\n",
    "                 cat(\"cell_counts_0\\n\")\n",
    "                 cat(str(cell_counts))\n",
    "                 cat(\"\\n\")          \n",
    "           }\n",
    " \n",
    "    \n",
    "    \n",
    "    \n",
    "    \n",
    "    \n",
    "    ## Remove samples with zero cell contributing to the cluster\n",
    "    \n",
    "    cell_counts <- cell_counts[cell_counts > 0]\n",
    "    \n",
    "    if(DEBUG == 1){\n",
    "\n",
    "                 cat(\"cell_counts_1\\n\")\n",
    "                 cat(str(cell_counts))\n",
    "                 cat(\"\\n\")          \n",
    "           }\n",
    "\n",
    "    names_of_vector<-names(cell_counts)\n",
    "\n",
    "        if(DEBUG == 1){\n",
    "\n",
    "                 cat(\"names_of_vector_0\\n\")\n",
    "                 cat(str(names_of_vector))\n",
    "                 cat(\"\\n\")          \n",
    "           }\n",
    "    \n",
    "    \n",
    "    ## Match order of cell_counts and sample_ids\n",
    "    sample_order <- which(df$sample_id%in%names_of_vector)\n",
    "\n",
    "       if(DEBUG == 1){\n",
    "\n",
    "                 cat(\"sample_order_0\\n\")\n",
    "                 cat(str(sample_order))\n",
    "                 cat(\"\\n\")          \n",
    "           }\n",
    "    cell_counts <- cell_counts[sample_order]\n",
    "\n",
    "      if(DEBUG == 1){\n",
    "\n",
    "                 cat(\"cell_counts_2\\n\")\n",
    "                 cat(str(cell_counts))\n",
    "                 cat(\"\\n\")          \n",
    "           }\n",
    "\n",
    "      cell_counts_df<-as.data.frame(cbind(cell_counts,names(cell_counts)))\n",
    "\n",
    "      colnames(cell_counts_df)<-c(\"cell_count\",\"sample_id\")\n",
    "\n",
    "      cell_counts_df$cell_count<-as.integer(cell_counts_df$cell_count)\n",
    "\n",
    "        if(DEBUG == 1){\n",
    "\n",
    "                 cat(\"cell_counts_df_0\\n\")\n",
    "                 cat(str(cell_counts_df))\n",
    "                 cat(\"\\n\")          \n",
    "           }\n",
    "    \n",
    "    \n",
    "    \n",
    "    ## Merge cell_counts to data frame\n",
    "\n",
    "      df<-merge(df,\n",
    "                cell_counts_df,\n",
    "               by=\"sample_id\")\n",
    "\n",
    "       if(DEBUG == 1){\n",
    "\n",
    "         cat(\"df_2\\n\")\n",
    "         cat(str(df))\n",
    "         cat(\"\\n\")\n",
    "      }\n",
    "    \n",
    "    \n",
    "    ## Join data frame (capturing metadata specific to cluster) to generic metadata\n",
    "    df <- plyr::join(df, metadata_NEW, \n",
    "                     by = intersect(names(df), names(metadata_NEW)))\n",
    "\n",
    "        if(DEBUG == 1){\n",
    "\n",
    "         cat(\"df_3\\n\")\n",
    "         cat(str(df))\n",
    "         cat(\"\\n\")\n",
    "      }\n",
    "    \n",
    "    ## Update rownames of metadata to match colnames of count matrix, as needed later for DE\n",
    "    rownames(df) <- df$current_anot_sample_id\n",
    "\n",
    "         if(DEBUG == 1){\n",
    "\n",
    "         cat(\"df_4\\n\")\n",
    "         cat(str(df))\n",
    "         cat(\"\\n\")\n",
    "      }\n",
    "    \n",
    "    ## Store complete metadata for cluster i in list\n",
    "    metadata_ls[[i]] <- df\n",
    "    names(metadata_ls)[i] <- unique(df$cluster_id)\n",
    "\n",
    "     #break\n",
    "    \n",
    "  }"
   ]
  },
  {
   "cell_type": "code",
   "execution_count": 17,
   "id": "2b4b35f6-e5bd-4312-b44b-05f4e0d0dc07",
   "metadata": {
    "execution": {
     "iopub.execute_input": "2025-03-06T08:51:22.477904Z",
     "iopub.status.busy": "2025-03-06T08:51:22.476951Z",
     "iopub.status.idle": "2025-03-06T08:51:22.525331Z",
     "shell.execute_reply": "2025-03-06T08:51:22.524184Z"
    }
   },
   "outputs": [
    {
     "name": "stdout",
     "output_type": "stream",
     "text": [
      "metadata_ls_0\n",
      "List of 7\n",
      " $ hESC                :'data.frame':\t13 obs. of  7 variables:\n",
      "  ..$ sample_id                                 : chr [1:13] \"DNMT3A_1_Day_0\" \"DNMT3A_1_Day_8\" \"DNMT3A_2_Day_0\" \"DNMT3A_3_Day_0\" ...\n",
      "  ..$ refined_annotation_majority_vote_sample_id: chr [1:13] \"DNMT3A_1_Day_0_clusterhESC\" \"DNMT3A_1_Day_8_clusterhESC\" \"DNMT3A_2_Day_0_clusterhESC\" \"DNMT3A_3_Day_0_clusterhESC\" ...\n",
      "  ..$ refined_annotation_majority_vote_id       : chr [1:13] \"hESC\" \"hESC\" \"hESC\" \"hESC\" ...\n",
      "  ..$ cell_count                                : int [1:13] 893 1 98 2277 130 119 242 506 600 715 ...\n",
      "  ..$ Genotype                                  : Ord.factor w/ 4 levels \"wt\"<\"rs62237617\"<..: 3 3 3 3 2 2 2 4 4 4 ...\n",
      "  ..$ clone_line                                : Ord.factor w/ 12 levels \"wt_1\"<\"wt_2\"<..: 7 7 8 9 4 5 6 10 11 12 ...\n",
      "  ..$ time_point                                : Ord.factor w/ 4 levels \"Day_0\"<\"Day_8\"<..: 1 2 1 1 1 1 1 1 1 1 ...\n",
      " $ HemogenicEndothelium:'data.frame':\t16 obs. of  7 variables:\n",
      "  ..$ sample_id                                 : chr [1:16] \"DNMT3A_1_Day_8\" \"DNMT3A_2_Day_8\" \"DNMT3A_3_Day_8\" \"rs62237617_1_Day_8\" ...\n",
      "  ..$ refined_annotation_majority_vote_sample_id: chr [1:16] \"DNMT3A_1_Day_8_clusterHemogenicEndothelium\" \"DNMT3A_2_Day_8_clusterHemogenicEndothelium\" \"DNMT3A_3_Day_8_clusterHemogenicEndothelium\" \"rs62237617_1_Day_8_clusterHemogenicEndothelium\" ...\n",
      "  ..$ refined_annotation_majority_vote_id       : chr [1:16] \"HemogenicEndothelium\" \"HemogenicEndothelium\" \"HemogenicEndothelium\" \"HemogenicEndothelium\" ...\n",
      "  ..$ cell_count                                : int [1:16] 59 9 20 7 2 1 8 7 1 28 ...\n",
      "  ..$ Genotype                                  : Ord.factor w/ 4 levels \"wt\"<\"rs62237617\"<..: 3 3 3 2 2 2 2 2 2 2 ...\n",
      "  ..$ clone_line                                : Ord.factor w/ 12 levels \"wt_1\"<\"wt_2\"<..: 7 8 9 4 5 5 5 6 6 6 ...\n",
      "  ..$ time_point                                : Ord.factor w/ 4 levels \"Day_0\"<\"Day_8\"<..: 2 2 2 2 3 4 2 3 4 2 ...\n",
      " $ MEP                 :'data.frame':\t29 obs. of  7 variables:\n",
      "  ..$ sample_id                                 : chr [1:29] \"DNMT3A_1_Day_12\" \"DNMT3A_1_Day_15\" \"DNMT3A_1_Day_8\" \"DNMT3A_2_Day_12\" ...\n",
      "  ..$ refined_annotation_majority_vote_sample_id: chr [1:29] \"DNMT3A_1_Day_12_clusterMEP\" \"DNMT3A_1_Day_15_clusterMEP\" \"DNMT3A_1_Day_8_clusterMEP\" \"DNMT3A_2_Day_12_clusterMEP\" ...\n",
      "  ..$ refined_annotation_majority_vote_id       : chr [1:29] \"MEP\" \"MEP\" \"MEP\" \"MEP\" ...\n",
      "  ..$ cell_count                                : int [1:29] 43 4 4 6 18 165 18 139 15 2 ...\n",
      "  ..$ Genotype                                  : Ord.factor w/ 4 levels \"wt\"<\"rs62237617\"<..: 3 3 3 3 3 2 2 2 2 2 ...\n",
      "  ..$ clone_line                                : Ord.factor w/ 12 levels \"wt_1\"<\"wt_2\"<..: 7 7 7 8 9 4 4 5 5 5 ...\n",
      "  ..$ time_point                                : Ord.factor w/ 4 levels \"Day_0\"<\"Day_8\"<..: 3 4 2 3 3 3 4 3 4 2 ...\n",
      " $ early erythroid     :'data.frame':\t16 obs. of  7 variables:\n",
      "  ..$ sample_id                                 : chr [1:16] \"DNMT3A_1_Day_12\" \"DNMT3A_2_Day_12\" \"DNMT3A_3_Day_12\" \"rs62237617_1_Day_12\" ...\n",
      "  ..$ refined_annotation_majority_vote_sample_id: chr [1:16] \"DNMT3A_1_Day_12_clusterearly erythroid\" \"DNMT3A_2_Day_12_clusterearly erythroid\" \"DNMT3A_3_Day_12_clusterearly erythroid\" \"rs62237617_1_Day_12_clusterearly erythroid\" ...\n",
      "  ..$ refined_annotation_majority_vote_id       : chr [1:16] \"early erythroid\" \"early erythroid\" \"early erythroid\" \"early erythroid\" ...\n",
      "  ..$ cell_count                                : int [1:16] 12 2 8 57 3 76 1 520 21 144 ...\n",
      "  ..$ Genotype                                  : Ord.factor w/ 4 levels \"wt\"<\"rs62237617\"<..: 3 3 3 2 2 2 2 2 2 4 ...\n",
      "  ..$ clone_line                                : Ord.factor w/ 12 levels \"wt_1\"<\"wt_2\"<..: 7 8 9 4 4 5 5 6 6 10 ...\n",
      "  ..$ time_point                                : Ord.factor w/ 4 levels \"Day_0\"<\"Day_8\"<..: 3 3 3 3 4 3 4 3 4 3 ...\n",
      " $ early MK            :'data.frame':\t9 obs. of  7 variables:\n",
      "  ..$ sample_id                                 : chr [1:9] \"DNMT3A_3_Day_8\" \"rs62237617_1_Day_12\" \"rs62237617_1_Day_15\" \"rs62237617_2_Day_12\" ...\n",
      "  ..$ refined_annotation_majority_vote_sample_id: chr [1:9] \"DNMT3A_3_Day_8_clusterearly MK\" \"rs62237617_1_Day_12_clusterearly MK\" \"rs62237617_1_Day_15_clusterearly MK\" \"rs62237617_2_Day_12_clusterearly MK\" ...\n",
      "  ..$ refined_annotation_majority_vote_id       : chr [1:9] \"early MK\" \"early MK\" \"early MK\" \"early MK\" ...\n",
      "  ..$ cell_count                                : int [1:9] 1 11 1 9 70 5 8 1 2\n",
      "  ..$ Genotype                                  : Ord.factor w/ 4 levels \"wt\"<\"rs62237617\"<..: 3 2 2 2 2 2 4 4 1\n",
      "  ..$ clone_line                                : Ord.factor w/ 12 levels \"wt_1\"<\"wt_2\"<..: 9 4 4 5 6 6 10 12 3\n",
      "  ..$ time_point                                : Ord.factor w/ 4 levels \"Day_0\"<\"Day_8\"<..: 2 3 4 3 3 4 3 3 3\n",
      " $ MK                  :'data.frame':\t30 obs. of  7 variables:\n",
      "  ..$ sample_id                                 : chr [1:30] \"DNMT3A_1_Day_12\" \"DNMT3A_1_Day_15\" \"DNMT3A_1_Day_8\" \"DNMT3A_2_Day_12\" ...\n",
      "  ..$ refined_annotation_majority_vote_sample_id: chr [1:30] \"DNMT3A_1_Day_12_clusterMK\" \"DNMT3A_1_Day_15_clusterMK\" \"DNMT3A_1_Day_8_clusterMK\" \"DNMT3A_2_Day_12_clusterMK\" ...\n",
      "  ..$ refined_annotation_majority_vote_id       : chr [1:30] \"MK\" \"MK\" \"MK\" \"MK\" ...\n",
      "  ..$ cell_count                                : int [1:30] 22 15 4 5 9 6 3 113 93 2 ...\n",
      "  ..$ Genotype                                  : Ord.factor w/ 4 levels \"wt\"<\"rs62237617\"<..: 3 3 3 3 3 3 3 2 2 2 ...\n",
      "  ..$ clone_line                                : Ord.factor w/ 12 levels \"wt_1\"<\"wt_2\"<..: 7 7 7 8 9 9 9 4 4 4 ...\n",
      "  ..$ time_point                                : Ord.factor w/ 4 levels \"Day_0\"<\"Day_8\"<..: 3 4 2 3 3 4 2 3 4 2 ...\n",
      " $ PolyPlo MK          :'data.frame':\t18 obs. of  7 variables:\n",
      "  ..$ sample_id                                 : chr [1:18] \"DNMT3A_1_Day_15\" \"DNMT3A_2_Day_15\" \"DNMT3A_3_Day_15\" \"rs62237617_1_Day_12\" ...\n",
      "  ..$ refined_annotation_majority_vote_sample_id: chr [1:18] \"DNMT3A_1_Day_15_clusterPolyPlo MK\" \"DNMT3A_2_Day_15_clusterPolyPlo MK\" \"DNMT3A_3_Day_15_clusterPolyPlo MK\" \"rs62237617_1_Day_12_clusterPolyPlo MK\" ...\n",
      "  ..$ refined_annotation_majority_vote_id       : chr [1:18] \"PolyPlo MK\" \"PolyPlo MK\" \"PolyPlo MK\" \"PolyPlo MK\" ...\n",
      "  ..$ cell_count                                : int [1:18] 44 3 13 2 270 2 225 21 3270 1 ...\n",
      "  ..$ Genotype                                  : Ord.factor w/ 4 levels \"wt\"<\"rs62237617\"<..: 3 3 3 2 2 2 2 2 2 4 ...\n",
      "  ..$ clone_line                                : Ord.factor w/ 12 levels \"wt_1\"<\"wt_2\"<..: 7 8 9 4 4 5 5 6 6 10 ...\n",
      "  ..$ time_point                                : Ord.factor w/ 4 levels \"Day_0\"<\"Day_8\"<..: 4 4 4 3 4 3 4 3 4 3 ...\n",
      "\n"
     ]
    },
    {
     "data": {
      "text/html": [
       "<style>\n",
       ".list-inline {list-style: none; margin:0; padding: 0}\n",
       ".list-inline>li {display: inline-block}\n",
       ".list-inline>li:not(:last-child)::after {content: \"\\00b7\"; padding: 0 .5ex}\n",
       "</style>\n",
       "<ol class=list-inline><li>'hESC'</li><li>'HemogenicEndothelium'</li><li>'MEP'</li><li>'early erythroid'</li><li>'early MK'</li><li>'MK'</li><li>'PolyPlo MK'</li></ol>\n"
      ],
      "text/latex": [
       "\\begin{enumerate*}\n",
       "\\item 'hESC'\n",
       "\\item 'HemogenicEndothelium'\n",
       "\\item 'MEP'\n",
       "\\item 'early erythroid'\n",
       "\\item 'early MK'\n",
       "\\item 'MK'\n",
       "\\item 'PolyPlo MK'\n",
       "\\end{enumerate*}\n"
      ],
      "text/markdown": [
       "1. 'hESC'\n",
       "2. 'HemogenicEndothelium'\n",
       "3. 'MEP'\n",
       "4. 'early erythroid'\n",
       "5. 'early MK'\n",
       "6. 'MK'\n",
       "7. 'PolyPlo MK'\n",
       "\n",
       "\n"
      ],
      "text/plain": [
       "[1] \"hESC\"                 \"HemogenicEndothelium\" \"MEP\"                 \n",
       "[4] \"early erythroid\"      \"early MK\"             \"MK\"                  \n",
       "[7] \"PolyPlo MK\"          "
      ]
     },
     "metadata": {},
     "output_type": "display_data"
    },
    {
     "name": "stdout",
     "output_type": "stream",
     "text": [
      "\n"
     ]
    },
    {
     "data": {
      "text/html": [
       "<style>\n",
       ".list-inline {list-style: none; margin:0; padding: 0}\n",
       ".list-inline>li {display: inline-block}\n",
       ".list-inline>li:not(:last-child)::after {content: \"\\00b7\"; padding: 0 .5ex}\n",
       "</style>\n",
       "<ol class=list-inline><li>'hESC'</li><li>'HemogenicEndothelium'</li><li>'MEP'</li><li>'early erythroid'</li><li>'early MK'</li><li>'MK'</li><li>'PolyPlo MK'</li></ol>\n"
      ],
      "text/latex": [
       "\\begin{enumerate*}\n",
       "\\item 'hESC'\n",
       "\\item 'HemogenicEndothelium'\n",
       "\\item 'MEP'\n",
       "\\item 'early erythroid'\n",
       "\\item 'early MK'\n",
       "\\item 'MK'\n",
       "\\item 'PolyPlo MK'\n",
       "\\end{enumerate*}\n"
      ],
      "text/markdown": [
       "1. 'hESC'\n",
       "2. 'HemogenicEndothelium'\n",
       "3. 'MEP'\n",
       "4. 'early erythroid'\n",
       "5. 'early MK'\n",
       "6. 'MK'\n",
       "7. 'PolyPlo MK'\n",
       "\n",
       "\n"
      ],
      "text/plain": [
       "[1] \"hESC\"                 \"HemogenicEndothelium\" \"MEP\"                 \n",
       "[4] \"early erythroid\"      \"early MK\"             \"MK\"                  \n",
       "[7] \"PolyPlo MK\"          "
      ]
     },
     "metadata": {},
     "output_type": "display_data"
    },
    {
     "name": "stdout",
     "output_type": "stream",
     "text": [
      "\n"
     ]
    }
   ],
   "source": [
    " # Explore the different components of the list\n",
    "  \n",
    "  #cat(\"metadata_ls_0\\n\")\n",
    "  #cat(str(metadata_ls))\n",
    "  #cat(\"\\n\")\n",
    "\n",
    "names(metadata_ls)<-names(counts_ls)\n",
    "\n",
    "  cat(\"metadata_ls_0\\n\")\n",
    "  cat(str(metadata_ls))\n",
    "  cat(\"\\n\")\n",
    "\n",
    "names(metadata_ls)\n",
    "cat(\"\\n\")\n",
    "\n",
    "names(counts_ls)\n",
    "cat(\"\\n\")\n",
    "\n",
    "# List of df. Each index is a cell type. Each df per index has the combination of current anot (cell type) and sample_id (time_point and clone line), the cell count of each of this triple combination together with the accesory column of GFPbc, GFPgenotype and time_point"
   ]
  },
  {
   "cell_type": "markdown",
   "id": "e17fe78f-e4c4-4d5f-a67d-4807af0b0d1b",
   "metadata": {},
   "source": [
    "## Double-check that both lists have same names"
   ]
  },
  {
   "cell_type": "code",
   "execution_count": 18,
   "id": "f1f95ec9-20ad-4016-9489-afabe6b14881",
   "metadata": {
    "execution": {
     "iopub.execute_input": "2025-03-06T08:51:22.527985Z",
     "iopub.status.busy": "2025-03-06T08:51:22.527066Z",
     "iopub.status.idle": "2025-03-06T08:51:22.542016Z",
     "shell.execute_reply": "2025-03-06T08:51:22.540924Z"
    }
   },
   "outputs": [
    {
     "name": "stdout",
     "output_type": "stream",
     "text": [
      "check_1\n",
      "TRUE\n"
     ]
    }
   ],
   "source": [
    "# Double-check that both lists have same names\n",
    "  check_1<-all(names(counts_ls) == names(metadata_ls))\n",
    "  \n",
    "  cat(\"check_1\\n\")\n",
    "  cat(sprintf(as.character(check_1)))\n",
    "  cat(\"\\n\")"
   ]
  },
  {
   "cell_type": "markdown",
   "id": "de143e2c-555d-417f-b3bc-ca156dee2364",
   "metadata": {},
   "source": [
    "## Subset hESC vs MK"
   ]
  },
  {
   "cell_type": "markdown",
   "id": "1155dc7a-920d-4420-a26b-ec0146d7401f",
   "metadata": {},
   "source": [
    "### Define cell_type_sel and time_point_sel"
   ]
  },
  {
   "cell_type": "code",
   "execution_count": 19,
   "id": "7f134972-827e-41e1-b46e-a7b95c1e9d68",
   "metadata": {
    "execution": {
     "iopub.execute_input": "2025-03-06T08:51:52.299053Z",
     "iopub.status.busy": "2025-03-06T08:51:52.297941Z",
     "iopub.status.idle": "2025-03-06T08:51:52.308865Z",
     "shell.execute_reply": "2025-03-06T08:51:52.307690Z"
    }
   },
   "outputs": [],
   "source": [
    "cell_type_sel<-c('hESC','MK')\n",
    "\n",
    "time_point_sel<-c('Day_0','Day_15')\n"
   ]
  },
  {
   "cell_type": "markdown",
   "id": "6f7ff9fd-92ab-41c4-baaa-c3348956c06b",
   "metadata": {},
   "source": [
    "### Subset the metadata list"
   ]
  },
  {
   "cell_type": "code",
   "execution_count": 20,
   "id": "09ea3a93-5b78-46f6-aadd-a5da1f127681",
   "metadata": {
    "execution": {
     "iopub.execute_input": "2025-03-06T08:51:52.924066Z",
     "iopub.status.busy": "2025-03-06T08:51:52.923022Z",
     "iopub.status.idle": "2025-03-06T08:51:52.934516Z",
     "shell.execute_reply": "2025-03-06T08:51:52.933390Z"
    }
   },
   "outputs": [
    {
     "name": "stdout",
     "output_type": "stream",
     "text": [
      " int [1:2] 1 6\n"
     ]
    }
   ],
   "source": [
    "indx<-which(names(metadata_ls)%in%cell_type_sel)\n",
    "\n",
    "str(indx)"
   ]
  },
  {
   "cell_type": "code",
   "execution_count": 25,
   "id": "212d0092-fa58-4fed-8a15-88b6a15f6bea",
   "metadata": {
    "execution": {
     "iopub.execute_input": "2025-03-06T08:55:17.035880Z",
     "iopub.status.busy": "2025-03-06T08:55:17.034701Z",
     "iopub.status.idle": "2025-03-06T08:55:17.059329Z",
     "shell.execute_reply": "2025-03-06T08:55:17.058170Z"
    }
   },
   "outputs": [
    {
     "name": "stdout",
     "output_type": "stream",
     "text": [
      "'data.frame':\t43 obs. of  7 variables:\n",
      " $ sample_id                                 : chr  \"DNMT3A_1_Day_12\" \"DNMT3A_1_Day_15\" \"DNMT3A_1_Day_8\" \"DNMT3A_2_Day_12\" ...\n",
      " $ refined_annotation_majority_vote_sample_id: chr  \"DNMT3A_1_Day_12_clusterMK\" \"DNMT3A_1_Day_15_clusterMK\" \"DNMT3A_1_Day_8_clusterMK\" \"DNMT3A_2_Day_12_clusterMK\" ...\n",
      " $ refined_annotation_majority_vote_id       : chr  \"MK\" \"MK\" \"MK\" \"MK\" ...\n",
      " $ cell_count                                : int  22 15 4 5 9 6 3 113 93 2 ...\n",
      " $ Genotype                                  : Ord.factor w/ 4 levels \"wt\"<\"rs62237617\"<..: 3 3 3 3 3 3 3 2 2 2 ...\n",
      " $ clone_line                                : Ord.factor w/ 12 levels \"wt_1\"<\"wt_2\"<..: 7 7 7 8 9 9 9 4 4 4 ...\n",
      " $ time_point                                : Ord.factor w/ 4 levels \"Day_0\"<\"Day_8\"<..: 3 4 2 3 3 4 2 3 4 2 ...\n"
     ]
    }
   ],
   "source": [
    "\n",
    "metadata_df<-data.frame()\n",
    "\n",
    "for(i in 1:length(indx))\n",
    "{\n",
    "    indx_sel<-indx[i]\n",
    "\n",
    "    df<-metadata_ls[[indx_sel]]\n",
    "\n",
    "    metadata_df<-rbind(df,metadata_df)\n",
    "    \n",
    "}\n",
    "\n",
    "str(metadata_df)"
   ]
  },
  {
   "cell_type": "code",
   "execution_count": 26,
   "id": "cb59c8f4-b497-49e3-9ebe-83a114569e24",
   "metadata": {
    "execution": {
     "iopub.execute_input": "2025-03-06T08:56:42.147992Z",
     "iopub.status.busy": "2025-03-06T08:56:42.146662Z",
     "iopub.status.idle": "2025-03-06T08:56:42.167262Z",
     "shell.execute_reply": "2025-03-06T08:56:42.165876Z"
    }
   },
   "outputs": [
    {
     "name": "stdout",
     "output_type": "stream",
     "text": [
      " int [1:12] 31 33 34 35 36 37 38 39 40 41 ...\n",
      " int [1:10] 2 6 9 12 15 17 20 23 27 29\n"
     ]
    }
   ],
   "source": [
    "indx_1<-which(metadata_df$refined_annotation_majority_vote_id == 'hESC' & metadata_df$time_point == 'Day_0')\n",
    "\n",
    "str(indx_1)\n",
    "\n",
    "indx_2<-which(metadata_df$refined_annotation_majority_vote_id == 'MK' & metadata_df$time_point == 'Day_15')\n",
    "\n",
    "str(indx_2)"
   ]
  },
  {
   "cell_type": "code",
   "execution_count": 27,
   "id": "568f9d3e-8169-4bb4-810d-1dea744a58ed",
   "metadata": {
    "execution": {
     "iopub.execute_input": "2025-03-06T08:57:15.880594Z",
     "iopub.status.busy": "2025-03-06T08:57:15.879244Z",
     "iopub.status.idle": "2025-03-06T08:57:15.897267Z",
     "shell.execute_reply": "2025-03-06T08:57:15.895890Z"
    }
   },
   "outputs": [
    {
     "name": "stdout",
     "output_type": "stream",
     "text": [
      "'data.frame':\t22 obs. of  7 variables:\n",
      " $ sample_id                                 : chr  \"DNMT3A_1_Day_0\" \"DNMT3A_2_Day_0\" \"DNMT3A_3_Day_0\" \"rs62237617_1_Day_0\" ...\n",
      " $ refined_annotation_majority_vote_sample_id: chr  \"DNMT3A_1_Day_0_clusterhESC\" \"DNMT3A_2_Day_0_clusterhESC\" \"DNMT3A_3_Day_0_clusterhESC\" \"rs62237617_1_Day_0_clusterhESC\" ...\n",
      " $ refined_annotation_majority_vote_id       : chr  \"hESC\" \"hESC\" \"hESC\" \"hESC\" ...\n",
      " $ cell_count                                : int  893 98 2277 130 119 242 506 600 715 60 ...\n",
      " $ Genotype                                  : Ord.factor w/ 4 levels \"wt\"<\"rs62237617\"<..: 3 3 3 2 2 2 4 4 4 1 ...\n",
      " $ clone_line                                : Ord.factor w/ 12 levels \"wt_1\"<\"wt_2\"<..: 7 8 9 4 5 6 10 11 12 1 ...\n",
      " $ time_point                                : Ord.factor w/ 2 levels \"Day_0\"<\"Day_15\": 1 1 1 1 1 1 1 1 1 1 ...\n"
     ]
    }
   ],
   "source": [
    "metadata_df_time_point<-droplevels(metadata_df[c(indx_1,indx_2),])\n",
    "str(metadata_df_time_point)"
   ]
  },
  {
   "cell_type": "markdown",
   "id": "a75cf990-0ea1-4677-bbea-a725d8966bb2",
   "metadata": {},
   "source": [
    "### Subset the counts list"
   ]
  },
  {
   "cell_type": "code",
   "execution_count": 29,
   "id": "137bf0c3-e7f9-490b-bb37-d9cc2b75a371",
   "metadata": {
    "execution": {
     "iopub.execute_input": "2025-03-06T08:58:25.610058Z",
     "iopub.status.busy": "2025-03-06T08:58:25.608740Z",
     "iopub.status.idle": "2025-03-06T08:58:25.621700Z",
     "shell.execute_reply": "2025-03-06T08:58:25.620351Z"
    }
   },
   "outputs": [
    {
     "data": {
      "text/html": [
       "<style>\n",
       ".list-inline {list-style: none; margin:0; padding: 0}\n",
       ".list-inline>li {display: inline-block}\n",
       ".list-inline>li:not(:last-child)::after {content: \"\\00b7\"; padding: 0 .5ex}\n",
       "</style>\n",
       "<ol class=list-inline><li>1</li><li>6</li></ol>\n"
      ],
      "text/latex": [
       "\\begin{enumerate*}\n",
       "\\item 1\n",
       "\\item 6\n",
       "\\end{enumerate*}\n"
      ],
      "text/markdown": [
       "1. 1\n",
       "2. 6\n",
       "\n",
       "\n"
      ],
      "text/plain": [
       "[1] 1 6"
      ]
     },
     "metadata": {},
     "output_type": "display_data"
    }
   ],
   "source": [
    "indx<-which(names(counts_ls)%in%cell_type_sel)"
   ]
  },
  {
   "cell_type": "code",
   "execution_count": 31,
   "id": "9b89648a-ab71-4d2a-9f0a-f5c3afcd6e0d",
   "metadata": {
    "execution": {
     "iopub.execute_input": "2025-03-06T08:58:50.325965Z",
     "iopub.status.busy": "2025-03-06T08:58:50.324628Z",
     "iopub.status.idle": "2025-03-06T08:58:50.352490Z",
     "shell.execute_reply": "2025-03-06T08:58:50.351145Z"
    }
   },
   "outputs": [
    {
     "name": "stdout",
     "output_type": "stream",
     "text": [
      "List of 2\n",
      " $ hESC:Formal class 'DGEList' [package \"edgeR\"] with 1 slot\n",
      "  .. ..@ .Data:List of 3\n",
      "  .. .. ..$ : num [1:340606, 1:13] 1 18 4 805 13 ...\n",
      "  .. .. .. ..- attr(*, \"dimnames\")=List of 2\n",
      "  .. .. .. .. ..$ : chr [1:340606] \"chr1-10076-10321\" \"chr1-180715-181606\" \"chr1-191225-191765\" \"chr1-629567-630655\" ...\n",
      "  .. .. .. .. ..$ : chr [1:13] \"DNMT3A_1_Day_0_clusterhESC\" \"DNMT3A_1_Day_8_clusterhESC\" \"DNMT3A_2_Day_0_clusterhESC\" \"DNMT3A_3_Day_0_clusterhESC\" ...\n",
      "  .. .. ..$ :'data.frame':\t13 obs. of  5 variables:\n",
      "  .. .. .. ..$ group       : Factor w/ 1 level \"1\": 1 1 1 1 1 1 1 1 1 1 ...\n",
      "  .. .. .. ..$ lib.size    : num [1:13] 9006493 40121 898622 22981250 1048724 ...\n",
      "  .. .. .. ..$ norm.factors: num [1:13] 1 1 1 1 1 1 1 1 1 1 ...\n",
      "  .. .. .. ..$ sample      : chr [1:13] \"DNMT3A_1_Day_0\" \"DNMT3A_1_Day_8\" \"DNMT3A_2_Day_0\" \"DNMT3A_3_Day_0\" ...\n",
      "  .. .. .. ..$ cluster     : chr [1:13] \"hESC\" \"hESC\" \"hESC\" \"hESC\" ...\n",
      "  .. .. ..$ :'data.frame':\t340606 obs. of  1 variable:\n",
      "  .. .. .. ..$ gene: chr [1:340606] \"chr1-10076-10321\" \"chr1-180715-181606\" \"chr1-191225-191765\" \"chr1-629567-630655\" ...\n",
      "  .. ..$ names: chr [1:3] \"counts\" \"samples\" \"genes\"\n",
      " $ MK  :Formal class 'DGEList' [package \"edgeR\"] with 1 slot\n",
      "  .. ..@ .Data:List of 3\n",
      "  .. .. ..$ : num [1:340606, 1:30] 0 4 0 18 1 0 97 7 0 0 ...\n",
      "  .. .. .. ..- attr(*, \"dimnames\")=List of 2\n",
      "  .. .. .. .. ..$ : chr [1:340606] \"chr1-10076-10321\" \"chr1-180715-181606\" \"chr1-191225-191765\" \"chr1-629567-630655\" ...\n",
      "  .. .. .. .. ..$ : chr [1:30] \"DNMT3A_1_Day_12_clusterMK\" \"DNMT3A_1_Day_15_clusterMK\" \"DNMT3A_1_Day_8_clusterMK\" \"DNMT3A_2_Day_12_clusterMK\" ...\n",
      "  .. .. ..$ :'data.frame':\t30 obs. of  5 variables:\n",
      "  .. .. .. ..$ group       : Factor w/ 1 level \"1\": 1 1 1 1 1 1 1 1 1 1 ...\n",
      "  .. .. .. ..$ lib.size    : num [1:30] 262997 85540 116242 81782 95999 ...\n",
      "  .. .. .. ..$ norm.factors: num [1:30] 1 1 1 1 1 1 1 1 1 1 ...\n",
      "  .. .. .. ..$ sample      : chr [1:30] \"DNMT3A_1_Day_12\" \"DNMT3A_1_Day_15\" \"DNMT3A_1_Day_8\" \"DNMT3A_2_Day_12\" ...\n",
      "  .. .. .. ..$ cluster     : chr [1:30] \"MK\" \"MK\" \"MK\" \"MK\" ...\n",
      "  .. .. ..$ :'data.frame':\t340606 obs. of  1 variable:\n",
      "  .. .. .. ..$ gene: chr [1:340606] \"chr1-10076-10321\" \"chr1-180715-181606\" \"chr1-191225-191765\" \"chr1-629567-630655\" ...\n",
      "  .. ..$ names: chr [1:3] \"counts\" \"samples\" \"genes\"\n"
     ]
    }
   ],
   "source": [
    "counts_ls_subset<-counts_ls[indx]\n",
    "\n",
    "str(counts_ls_subset)"
   ]
  },
  {
   "cell_type": "code",
   "execution_count": 35,
   "id": "c2140ebb-d880-4a57-ba27-a0fdd752bec5",
   "metadata": {
    "execution": {
     "iopub.execute_input": "2025-03-06T09:00:14.110563Z",
     "iopub.status.busy": "2025-03-06T09:00:14.109205Z",
     "iopub.status.idle": "2025-03-06T09:00:14.123287Z",
     "shell.execute_reply": "2025-03-06T09:00:14.121950Z"
    }
   },
   "outputs": [
    {
     "data": {
      "text/html": [
       "<style>\n",
       ".list-inline {list-style: none; margin:0; padding: 0}\n",
       ".list-inline>li {display: inline-block}\n",
       ".list-inline>li:not(:last-child)::after {content: \"\\00b7\"; padding: 0 .5ex}\n",
       "</style>\n",
       "<ol class=list-inline><li>'hESC'</li><li>'MK'</li></ol>\n"
      ],
      "text/latex": [
       "\\begin{enumerate*}\n",
       "\\item 'hESC'\n",
       "\\item 'MK'\n",
       "\\end{enumerate*}\n"
      ],
      "text/markdown": [
       "1. 'hESC'\n",
       "2. 'MK'\n",
       "\n",
       "\n"
      ],
      "text/plain": [
       "[1] \"hESC\" \"MK\"  "
      ]
     },
     "metadata": {},
     "output_type": "display_data"
    }
   ],
   "source": [
    "names(counts_ls_subset)"
   ]
  },
  {
   "cell_type": "code",
   "execution_count": 37,
   "id": "e18a4cec-f45f-44ed-88c1-f1beb9ccfa58",
   "metadata": {
    "execution": {
     "iopub.execute_input": "2025-03-06T09:03:40.085841Z",
     "iopub.status.busy": "2025-03-06T09:03:40.084493Z",
     "iopub.status.idle": "2025-03-06T09:03:40.180910Z",
     "shell.execute_reply": "2025-03-06T09:03:40.179446Z"
    }
   },
   "outputs": [
    {
     "name": "stdout",
     "output_type": "stream",
     "text": [
      "Formal class 'DGEList' [package \"edgeR\"] with 1 slot\n",
      "  ..@ .Data:List of 3\n",
      "  .. ..$ : num [1:340606, 1:12] 1 18 4 805 13 ...\n",
      "  .. .. ..- attr(*, \"dimnames\")=List of 2\n",
      "  .. .. .. ..$ : chr [1:340606] \"chr1-10076-10321\" \"chr1-180715-181606\" \"chr1-191225-191765\" \"chr1-629567-630655\" ...\n",
      "  .. .. .. ..$ : chr [1:12] \"DNMT3A_1_Day_0_clusterhESC\" \"DNMT3A_2_Day_0_clusterhESC\" \"DNMT3A_3_Day_0_clusterhESC\" \"rs62237617_1_Day_0_clusterhESC\" ...\n",
      "  .. ..$ :'data.frame':\t12 obs. of  5 variables:\n",
      "  .. .. ..$ group       : Factor w/ 1 level \"1\": 1 1 1 1 1 1 1 1 1 1 ...\n",
      "  .. .. ..$ lib.size    : num [1:12] 9006493 898622 22981250 1048724 972788 ...\n",
      "  .. .. ..$ norm.factors: num [1:12] 1 1 1 1 1 1 1 1 1 1 ...\n",
      "  .. .. ..$ sample      : chr [1:12] \"DNMT3A_1_Day_0\" \"DNMT3A_2_Day_0\" \"DNMT3A_3_Day_0\" \"rs62237617_1_Day_0\" ...\n",
      "  .. .. ..$ cluster     : chr [1:12] \"hESC\" \"hESC\" \"hESC\" \"hESC\" ...\n",
      "  .. ..$ :'data.frame':\t340606 obs. of  1 variable:\n",
      "  .. .. ..$ gene: chr [1:340606] \"chr1-10076-10321\" \"chr1-180715-181606\" \"chr1-191225-191765\" \"chr1-629567-630655\" ...\n",
      "  ..$ names: chr [1:3] \"counts\" \"samples\" \"genes\"\n",
      "\n",
      "Formal class 'DGEList' [package \"edgeR\"] with 1 slot\n",
      "  ..@ .Data:List of 3\n",
      "  .. ..$ : num [1:340606, 1:10] 0 1 1 11 0 0 46 6 0 0 ...\n",
      "  .. .. ..- attr(*, \"dimnames\")=List of 2\n",
      "  .. .. .. ..$ : chr [1:340606] \"chr1-10076-10321\" \"chr1-180715-181606\" \"chr1-191225-191765\" \"chr1-629567-630655\" ...\n",
      "  .. .. .. ..$ : chr [1:10] \"DNMT3A_1_Day_15_clusterMK\" \"DNMT3A_3_Day_15_clusterMK\" \"rs62237617_1_Day_15_clusterMK\" \"rs62237617_2_Day_15_clusterMK\" ...\n",
      "  .. ..$ :'data.frame':\t10 obs. of  5 variables:\n",
      "  .. .. ..$ group       : Factor w/ 1 level \"1\": 1 1 1 1 1 1 1 1 1 1\n",
      "  .. .. ..$ lib.size    : num [1:10] 85540 25727 551029 482176 7249542 ...\n",
      "  .. .. ..$ norm.factors: num [1:10] 1 1 1 1 1 1 1 1 1 1\n",
      "  .. .. ..$ sample      : chr [1:10] \"DNMT3A_1_Day_15\" \"DNMT3A_3_Day_15\" \"rs62237617_1_Day_15\" \"rs62237617_2_Day_15\" ...\n",
      "  .. .. ..$ cluster     : chr [1:10] \"MK\" \"MK\" \"MK\" \"MK\" ...\n",
      "  .. ..$ :'data.frame':\t340606 obs. of  1 variable:\n",
      "  .. .. ..$ gene: chr [1:340606] \"chr1-10076-10321\" \"chr1-180715-181606\" \"chr1-191225-191765\" \"chr1-629567-630655\" ...\n",
      "  ..$ names: chr [1:3] \"counts\" \"samples\" \"genes\"\n",
      "\n",
      "List of 2\n",
      " $ hESC:Formal class 'DGEList' [package \"edgeR\"] with 1 slot\n",
      "  .. ..@ .Data:List of 3\n",
      "  .. .. ..$ : num [1:340606, 1:12] 1 18 4 805 13 ...\n",
      "  .. .. .. ..- attr(*, \"dimnames\")=List of 2\n",
      "  .. .. .. .. ..$ : chr [1:340606] \"chr1-10076-10321\" \"chr1-180715-181606\" \"chr1-191225-191765\" \"chr1-629567-630655\" ...\n",
      "  .. .. .. .. ..$ : chr [1:12] \"DNMT3A_1_Day_0_clusterhESC\" \"DNMT3A_2_Day_0_clusterhESC\" \"DNMT3A_3_Day_0_clusterhESC\" \"rs62237617_1_Day_0_clusterhESC\" ...\n",
      "  .. .. ..$ :'data.frame':\t12 obs. of  5 variables:\n",
      "  .. .. .. ..$ group       : Factor w/ 1 level \"1\": 1 1 1 1 1 1 1 1 1 1 ...\n",
      "  .. .. .. ..$ lib.size    : num [1:12] 9006493 898622 22981250 1048724 972788 ...\n",
      "  .. .. .. ..$ norm.factors: num [1:12] 1 1 1 1 1 1 1 1 1 1 ...\n",
      "  .. .. .. ..$ sample      : chr [1:12] \"DNMT3A_1_Day_0\" \"DNMT3A_2_Day_0\" \"DNMT3A_3_Day_0\" \"rs62237617_1_Day_0\" ...\n",
      "  .. .. .. ..$ cluster     : chr [1:12] \"hESC\" \"hESC\" \"hESC\" \"hESC\" ...\n",
      "  .. .. ..$ :'data.frame':\t340606 obs. of  1 variable:\n",
      "  .. .. .. ..$ gene: chr [1:340606] \"chr1-10076-10321\" \"chr1-180715-181606\" \"chr1-191225-191765\" \"chr1-629567-630655\" ...\n",
      "  .. ..$ names: chr [1:3] \"counts\" \"samples\" \"genes\"\n",
      " $ MK  :Formal class 'DGEList' [package \"edgeR\"] with 1 slot\n",
      "  .. ..@ .Data:List of 3\n",
      "  .. .. ..$ : num [1:340606, 1:10] 0 1 1 11 0 0 46 6 0 0 ...\n",
      "  .. .. .. ..- attr(*, \"dimnames\")=List of 2\n",
      "  .. .. .. .. ..$ : chr [1:340606] \"chr1-10076-10321\" \"chr1-180715-181606\" \"chr1-191225-191765\" \"chr1-629567-630655\" ...\n",
      "  .. .. .. .. ..$ : chr [1:10] \"DNMT3A_1_Day_15_clusterMK\" \"DNMT3A_3_Day_15_clusterMK\" \"rs62237617_1_Day_15_clusterMK\" \"rs62237617_2_Day_15_clusterMK\" ...\n",
      "  .. .. ..$ :'data.frame':\t10 obs. of  5 variables:\n",
      "  .. .. .. ..$ group       : Factor w/ 1 level \"1\": 1 1 1 1 1 1 1 1 1 1\n",
      "  .. .. .. ..$ lib.size    : num [1:10] 85540 25727 551029 482176 7249542 ...\n",
      "  .. .. .. ..$ norm.factors: num [1:10] 1 1 1 1 1 1 1 1 1 1\n",
      "  .. .. .. ..$ sample      : chr [1:10] \"DNMT3A_1_Day_15\" \"DNMT3A_3_Day_15\" \"rs62237617_1_Day_15\" \"rs62237617_2_Day_15\" ...\n",
      "  .. .. .. ..$ cluster     : chr [1:10] \"MK\" \"MK\" \"MK\" \"MK\" ...\n",
      "  .. .. ..$ :'data.frame':\t340606 obs. of  1 variable:\n",
      "  .. .. .. ..$ gene: chr [1:340606] \"chr1-10076-10321\" \"chr1-180715-181606\" \"chr1-191225-191765\" \"chr1-629567-630655\" ...\n",
      "  .. ..$ names: chr [1:3] \"counts\" \"samples\" \"genes\"\n",
      "\n"
     ]
    }
   ],
   "source": [
    "list_of_counts_time_point_sel<-list()\n",
    "\n",
    "for(i in 1:length(names(counts_ls_subset))){\n",
    "\n",
    "    selected<-names(counts_ls_subset)[i]\n",
    "    \n",
    "    counts_ls_subset_time_point<-counts_ls_subset[[selected]][,\n",
    "                                                              which(colnames(counts_ls_subset[[selected]])%in%metadata_df_time_point$refined_annotation_majority_vote_sample_id)]\n",
    "\n",
    "    str(counts_ls_subset_time_point)\n",
    "    cat(\"\\n\")\n",
    "\n",
    "    list_of_counts_time_point_sel[[selected]]<-counts_ls_subset_time_point\n",
    "    \n",
    "}\n",
    "\n",
    "str(list_of_counts_time_point_sel)\n",
    "cat(\"\\n\")"
   ]
  },
  {
   "cell_type": "markdown",
   "id": "d56e2832-c33e-497f-85a8-216440eea714",
   "metadata": {},
   "source": [
    "### Ref factor genotype"
   ]
  },
  {
   "cell_type": "code",
   "execution_count": 38,
   "id": "8bf18985-8933-4632-99a8-e181d25c3940",
   "metadata": {
    "execution": {
     "iopub.execute_input": "2025-03-06T09:05:00.598380Z",
     "iopub.status.busy": "2025-03-06T09:05:00.597037Z",
     "iopub.status.idle": "2025-03-06T09:05:00.623915Z",
     "shell.execute_reply": "2025-03-06T09:05:00.622498Z"
    }
   },
   "outputs": [
    {
     "name": "stdout",
     "output_type": "stream",
     "text": [
      "'data.frame':\t22 obs. of  7 variables:\n",
      " $ sample_id                                 : chr  \"DNMT3A_1_Day_0\" \"DNMT3A_2_Day_0\" \"DNMT3A_3_Day_0\" \"rs62237617_1_Day_0\" ...\n",
      " $ refined_annotation_majority_vote_sample_id: chr  \"DNMT3A_1_Day_0_clusterhESC\" \"DNMT3A_2_Day_0_clusterhESC\" \"DNMT3A_3_Day_0_clusterhESC\" \"rs62237617_1_Day_0_clusterhESC\" ...\n",
      " $ refined_annotation_majority_vote_id       : Factor w/ 2 levels \"hESC\",\"MK\": 1 1 1 1 1 1 1 1 1 1 ...\n",
      " $ cell_count                                : int  893 98 2277 130 119 242 506 600 715 60 ...\n",
      " $ Genotype                                  : Factor w/ 4 levels \"wt\",\"DNMT3A\",..: 2 2 2 3 3 3 4 4 4 1 ...\n",
      " $ clone_line                                : Ord.factor w/ 12 levels \"wt_1\"<\"wt_2\"<..: 7 8 9 4 5 6 10 11 12 1 ...\n",
      " $ time_point                                : Ord.factor w/ 2 levels \"Day_0\"<\"Day_15\": 1 1 1 1 1 1 1 1 1 1 ...\n"
     ]
    }
   ],
   "source": [
    "metadata_df_time_point$Genotype<-as.character(metadata_df_time_point$Genotype)\n",
    "metadata_df_time_point$Genotype<-factor(metadata_df_time_point$Genotype)\n",
    "metadata_df_time_point$Genotype<-relevel(metadata_df_time_point$Genotype, ref='wt') ### Nothing works with ordered factors\n",
    "\n",
    "metadata_df_time_point$refined_annotation_majority_vote_id<-as.character(metadata_df_time_point$refined_annotation_majority_vote_id)\n",
    "metadata_df_time_point$refined_annotation_majority_vote_id<-factor(metadata_df_time_point$refined_annotation_majority_vote_id)\n",
    "metadata_df_time_point$refined_annotation_majority_vote_id<-relevel(metadata_df_time_point$refined_annotation_majority_vote_id, ref='hESC') ### Nothing works with ordered factors\n",
    "\n",
    "str(metadata_df_time_point)\n"
   ]
  },
  {
   "cell_type": "markdown",
   "id": "4bd19321-5f4c-4350-9d8d-b5f868141c45",
   "metadata": {},
   "source": [
    "# Create a common count mtrix from both lists"
   ]
  },
  {
   "cell_type": "code",
   "execution_count": 43,
   "id": "d0821f54-0846-4540-88bf-28d780d7f301",
   "metadata": {
    "execution": {
     "iopub.execute_input": "2025-03-06T09:06:43.056434Z",
     "iopub.status.busy": "2025-03-06T09:06:43.055112Z",
     "iopub.status.idle": "2025-03-06T09:06:43.085715Z",
     "shell.execute_reply": "2025-03-06T09:06:43.084334Z"
    }
   },
   "outputs": [
    {
     "name": "stdout",
     "output_type": "stream",
     "text": [
      "List of 2\n",
      " $ hESC:Formal class 'DGEList' [package \"edgeR\"] with 1 slot\n",
      "  .. ..@ .Data:List of 3\n",
      "  .. .. ..$ : num [1:340606, 1:12] 1 18 4 805 13 ...\n",
      "  .. .. .. ..- attr(*, \"dimnames\")=List of 2\n",
      "  .. .. .. .. ..$ : chr [1:340606] \"chr1-10076-10321\" \"chr1-180715-181606\" \"chr1-191225-191765\" \"chr1-629567-630655\" ...\n",
      "  .. .. .. .. ..$ : chr [1:12] \"DNMT3A_1_Day_0_clusterhESC\" \"DNMT3A_2_Day_0_clusterhESC\" \"DNMT3A_3_Day_0_clusterhESC\" \"rs62237617_1_Day_0_clusterhESC\" ...\n",
      "  .. .. ..$ :'data.frame':\t12 obs. of  5 variables:\n",
      "  .. .. .. ..$ group       : Factor w/ 1 level \"1\": 1 1 1 1 1 1 1 1 1 1 ...\n",
      "  .. .. .. ..$ lib.size    : num [1:12] 9006493 898622 22981250 1048724 972788 ...\n",
      "  .. .. .. ..$ norm.factors: num [1:12] 1 1 1 1 1 1 1 1 1 1 ...\n",
      "  .. .. .. ..$ sample      : chr [1:12] \"DNMT3A_1_Day_0\" \"DNMT3A_2_Day_0\" \"DNMT3A_3_Day_0\" \"rs62237617_1_Day_0\" ...\n",
      "  .. .. .. ..$ cluster     : chr [1:12] \"hESC\" \"hESC\" \"hESC\" \"hESC\" ...\n",
      "  .. .. ..$ :'data.frame':\t340606 obs. of  1 variable:\n",
      "  .. .. .. ..$ gene: chr [1:340606] \"chr1-10076-10321\" \"chr1-180715-181606\" \"chr1-191225-191765\" \"chr1-629567-630655\" ...\n",
      "  .. ..$ names: chr [1:3] \"counts\" \"samples\" \"genes\"\n",
      " $ MK  :Formal class 'DGEList' [package \"edgeR\"] with 1 slot\n",
      "  .. ..@ .Data:List of 3\n",
      "  .. .. ..$ : num [1:340606, 1:10] 0 1 1 11 0 0 46 6 0 0 ...\n",
      "  .. .. .. ..- attr(*, \"dimnames\")=List of 2\n",
      "  .. .. .. .. ..$ : chr [1:340606] \"chr1-10076-10321\" \"chr1-180715-181606\" \"chr1-191225-191765\" \"chr1-629567-630655\" ...\n",
      "  .. .. .. .. ..$ : chr [1:10] \"DNMT3A_1_Day_15_clusterMK\" \"DNMT3A_3_Day_15_clusterMK\" \"rs62237617_1_Day_15_clusterMK\" \"rs62237617_2_Day_15_clusterMK\" ...\n",
      "  .. .. ..$ :'data.frame':\t10 obs. of  5 variables:\n",
      "  .. .. .. ..$ group       : Factor w/ 1 level \"1\": 1 1 1 1 1 1 1 1 1 1\n",
      "  .. .. .. ..$ lib.size    : num [1:10] 85540 25727 551029 482176 7249542 ...\n",
      "  .. .. .. ..$ norm.factors: num [1:10] 1 1 1 1 1 1 1 1 1 1\n",
      "  .. .. .. ..$ sample      : chr [1:10] \"DNMT3A_1_Day_15\" \"DNMT3A_3_Day_15\" \"rs62237617_1_Day_15\" \"rs62237617_2_Day_15\" ...\n",
      "  .. .. .. ..$ cluster     : chr [1:10] \"MK\" \"MK\" \"MK\" \"MK\" ...\n",
      "  .. .. ..$ :'data.frame':\t340606 obs. of  1 variable:\n",
      "  .. .. .. ..$ gene: chr [1:340606] \"chr1-10076-10321\" \"chr1-180715-181606\" \"chr1-191225-191765\" \"chr1-629567-630655\" ...\n",
      "  .. ..$ names: chr [1:3] \"counts\" \"samples\" \"genes\"\n",
      "\n"
     ]
    }
   ],
   "source": [
    "str(list_of_counts_time_point_sel)\n",
    "cat(\"\\n\")"
   ]
  },
  {
   "cell_type": "code",
   "execution_count": 46,
   "id": "77c14ae1-8963-4c32-87e1-2bd6c2ee6a9e",
   "metadata": {
    "execution": {
     "iopub.execute_input": "2025-03-06T09:07:46.214055Z",
     "iopub.status.busy": "2025-03-06T09:07:46.212716Z",
     "iopub.status.idle": "2025-03-06T09:07:46.232381Z",
     "shell.execute_reply": "2025-03-06T09:07:46.231047Z"
    }
   },
   "outputs": [
    {
     "name": "stdout",
     "output_type": "stream",
     "text": [
      " num [1:340606, 1:12] 1 18 4 805 13 ...\n",
      " - attr(*, \"dimnames\")=List of 2\n",
      "  ..$ : chr [1:340606] \"chr1-10076-10321\" \"chr1-180715-181606\" \"chr1-191225-191765\" \"chr1-629567-630655\" ...\n",
      "  ..$ : chr [1:12] \"DNMT3A_1_Day_0_clusterhESC\" \"DNMT3A_2_Day_0_clusterhESC\" \"DNMT3A_3_Day_0_clusterhESC\" \"rs62237617_1_Day_0_clusterhESC\" ...\n"
     ]
    }
   ],
   "source": [
    "matrix1<-as.matrix(list_of_counts_time_point_sel[['hESC']])\n",
    "\n",
    "str(matrix1)"
   ]
  },
  {
   "cell_type": "code",
   "execution_count": 47,
   "id": "9c333d89-b986-488d-9cd9-8c280e775968",
   "metadata": {
    "execution": {
     "iopub.execute_input": "2025-03-06T09:08:13.130184Z",
     "iopub.status.busy": "2025-03-06T09:08:13.128843Z",
     "iopub.status.idle": "2025-03-06T09:08:13.144152Z",
     "shell.execute_reply": "2025-03-06T09:08:13.142819Z"
    }
   },
   "outputs": [
    {
     "name": "stdout",
     "output_type": "stream",
     "text": [
      " num [1:340606, 1:10] 0 1 1 11 0 0 46 6 0 0 ...\n",
      " - attr(*, \"dimnames\")=List of 2\n",
      "  ..$ : chr [1:340606] \"chr1-10076-10321\" \"chr1-180715-181606\" \"chr1-191225-191765\" \"chr1-629567-630655\" ...\n",
      "  ..$ : chr [1:10] \"DNMT3A_1_Day_15_clusterMK\" \"DNMT3A_3_Day_15_clusterMK\" \"rs62237617_1_Day_15_clusterMK\" \"rs62237617_2_Day_15_clusterMK\" ...\n"
     ]
    }
   ],
   "source": [
    "matrix2<-as.matrix(list_of_counts_time_point_sel[['MK']])\n",
    "\n",
    "str(matrix2)"
   ]
  },
  {
   "cell_type": "code",
   "execution_count": 48,
   "id": "d91a5c26-90d5-4276-a53b-c592ac7a279f",
   "metadata": {
    "execution": {
     "iopub.execute_input": "2025-03-06T09:09:33.528658Z",
     "iopub.status.busy": "2025-03-06T09:09:33.527325Z",
     "iopub.status.idle": "2025-03-06T09:09:33.562822Z",
     "shell.execute_reply": "2025-03-06T09:09:33.561323Z"
    }
   },
   "outputs": [
    {
     "name": "stdout",
     "output_type": "stream",
     "text": [
      " num [1:340606, 1:22] 1 18 4 805 13 ...\n",
      " - attr(*, \"dimnames\")=List of 2\n",
      "  ..$ : chr [1:340606] \"chr1-10076-10321\" \"chr1-180715-181606\" \"chr1-191225-191765\" \"chr1-629567-630655\" ...\n",
      "  ..$ : chr [1:22] \"DNMT3A_1_Day_0_clusterhESC\" \"DNMT3A_2_Day_0_clusterhESC\" \"DNMT3A_3_Day_0_clusterhESC\" \"rs62237617_1_Day_0_clusterhESC\" ...\n"
     ]
    }
   ],
   "source": [
    "matrix_DEF<-cbind(matrix1,matrix2)\n",
    "\n",
    "str(matrix_DEF)"
   ]
  },
  {
   "cell_type": "markdown",
   "id": "889e2613-6bc9-4e1e-81f0-48b0ed50fe10",
   "metadata": {},
   "source": [
    "### check"
   ]
  },
  {
   "cell_type": "code",
   "execution_count": 49,
   "id": "a7068d14-93ad-4c25-b75c-9d35164c6b25",
   "metadata": {
    "execution": {
     "iopub.execute_input": "2025-03-06T09:09:58.150632Z",
     "iopub.status.busy": "2025-03-06T09:09:58.149298Z",
     "iopub.status.idle": "2025-03-06T09:09:58.161653Z",
     "shell.execute_reply": "2025-03-06T09:09:58.160304Z"
    }
   },
   "outputs": [
    {
     "name": "stdout",
     "output_type": "stream",
     "text": [
      " chr [1:22] \"DNMT3A_1_Day_0_clusterhESC\" \"DNMT3A_2_Day_0_clusterhESC\" ...\n"
     ]
    }
   ],
   "source": [
    "str(colnames(matrix_DEF))"
   ]
  },
  {
   "cell_type": "code",
   "execution_count": 50,
   "id": "4c1eb383-469a-47c6-95ee-c39efceca6fc",
   "metadata": {
    "execution": {
     "iopub.execute_input": "2025-03-06T09:09:58.739589Z",
     "iopub.status.busy": "2025-03-06T09:09:58.738306Z",
     "iopub.status.idle": "2025-03-06T09:09:58.750053Z",
     "shell.execute_reply": "2025-03-06T09:09:58.748722Z"
    }
   },
   "outputs": [
    {
     "name": "stdout",
     "output_type": "stream",
     "text": [
      " chr [1:22] \"DNMT3A_1_Day_0_clusterhESC\" \"DNMT3A_2_Day_0_clusterhESC\" ...\n"
     ]
    }
   ],
   "source": [
    "str(row.names(metadata_df_time_point))"
   ]
  },
  {
   "cell_type": "code",
   "execution_count": 51,
   "id": "61ba5940-8249-44d7-b9b4-c33d4057ea69",
   "metadata": {
    "execution": {
     "iopub.execute_input": "2025-03-06T09:09:59.755476Z",
     "iopub.status.busy": "2025-03-06T09:09:59.754179Z",
     "iopub.status.idle": "2025-03-06T09:09:59.764469Z",
     "shell.execute_reply": "2025-03-06T09:09:59.763134Z"
    }
   },
   "outputs": [],
   "source": [
    "row.names(metadata_df_time_point)<-metadata_df_time_point$refined_annotation_majority_vote_sample_id"
   ]
  },
  {
   "cell_type": "code",
   "execution_count": 52,
   "id": "d3b294ad-4c3a-41dd-9295-5247b971b65e",
   "metadata": {
    "execution": {
     "iopub.execute_input": "2025-03-06T09:10:00.206881Z",
     "iopub.status.busy": "2025-03-06T09:10:00.205570Z",
     "iopub.status.idle": "2025-03-06T09:10:00.230238Z",
     "shell.execute_reply": "2025-03-06T09:10:00.228857Z"
    }
   },
   "outputs": [
    {
     "name": "stdout",
     "output_type": "stream",
     "text": [
      "check_2\n",
      "TRUE\n",
      "DNMT3A_1_Day_0_clusterhESC DNMT3A_2_Day_0_clusterhESC DNMT3A_3_Day_0_clusterhESC rs62237617_1_Day_0_clusterhESC rs62237617_2_Day_0_clusterhESC rs62237617_3_Day_0_clusterhESC rs62237617_DNMT3A_1_Day_0_clusterhESC rs62237617_DNMT3A_2_Day_0_clusterhESC rs62237617_DNMT3A_3_Day_0_clusterhESC wt_1_Day_0_clusterhESC wt_2_Day_0_clusterhESC wt_3_Day_0_clusterhESC DNMT3A_1_Day_15_clusterMK DNMT3A_3_Day_15_clusterMK rs62237617_1_Day_15_clusterMK rs62237617_2_Day_15_clusterMK rs62237617_3_Day_15_clusterMK rs62237617_DNMT3A_1_Day_15_clusterMK rs62237617_DNMT3A_2_Day_15_clusterMK rs62237617_DNMT3A_3_Day_15_clusterMK wt_2_Day_15_clusterMK wt_3_Day_15_clusterMK\n"
     ]
    }
   ],
   "source": [
    "check_2<-all(colnames(matrix_DEF) == rownames(metadata_df_time_point))\n",
    "\n",
    "    \n",
    "cat(\"check_2\\n\")\n",
    "cat(sprintf(as.character(check_2)))\n",
    "cat(\"\\n\")\n",
    "cat(sprintf(as.character(rownames(metadata_df_time_point))))\n",
    "cat(\"\\n\")\n",
    "    "
   ]
  },
  {
   "cell_type": "markdown",
   "id": "0ebac518-6f2e-4cc9-87a8-a1f6a2463e2d",
   "metadata": {},
   "source": [
    "### DESeq2 model"
   ]
  },
  {
   "cell_type": "markdown",
   "id": "a3535881-ab7b-4e1d-bd3e-88cfbeb52af1",
   "metadata": {},
   "source": [
    "#### DESeqDataSetFromMatrix"
   ]
  },
  {
   "cell_type": "code",
   "execution_count": 54,
   "id": "131a99ac-14c3-49f4-bc71-3b0535c24b7b",
   "metadata": {
    "execution": {
     "iopub.execute_input": "2025-03-06T09:10:41.233504Z",
     "iopub.status.busy": "2025-03-06T09:10:41.232370Z",
     "iopub.status.idle": "2025-03-06T09:10:41.965409Z",
     "shell.execute_reply": "2025-03-06T09:10:41.964010Z"
    }
   },
   "outputs": [
    {
     "name": "stderr",
     "output_type": "stream",
     "text": [
      "converting counts to integer mode\n",
      "\n"
     ]
    }
   ],
   "source": [
    "dds_NEW <- DESeqDataSetFromMatrix(matrix_DEF, \n",
    "                                  colData = metadata_df_time_point, \n",
    "                                  design = ~ refined_annotation_majority_vote_id)"
   ]
  },
  {
   "cell_type": "markdown",
   "id": "e9bb17a3-53ea-4fcf-b88d-bf08a3ef2678",
   "metadata": {},
   "source": [
    "#### estimateSizeFactors ----------------------------------"
   ]
  },
  {
   "cell_type": "code",
   "execution_count": 55,
   "id": "4a7764da-b183-4cbb-960c-56b8a7a79213",
   "metadata": {
    "execution": {
     "iopub.execute_input": "2025-03-06T09:10:44.206887Z",
     "iopub.status.busy": "2025-03-06T09:10:44.205712Z",
     "iopub.status.idle": "2025-03-06T09:10:45.691781Z",
     "shell.execute_reply": "2025-03-06T09:10:45.690355Z"
    }
   },
   "outputs": [],
   "source": [
    "dds_NEW<-estimateSizeFactors(dds_NEW)"
   ]
  },
  {
   "cell_type": "markdown",
   "id": "9fa8e4e9-2ebf-407b-8131-7e62160dbeb7",
   "metadata": {},
   "source": [
    "#### Filter out low count peaks"
   ]
  },
  {
   "cell_type": "code",
   "execution_count": 61,
   "id": "7ffe4e30-df43-46f6-b547-1b2d09c179ef",
   "metadata": {
    "execution": {
     "iopub.execute_input": "2025-03-06T09:11:45.148345Z",
     "iopub.status.busy": "2025-03-06T09:11:45.147183Z",
     "iopub.status.idle": "2025-03-06T09:11:45.190029Z",
     "shell.execute_reply": "2025-03-06T09:11:45.188542Z"
    }
   },
   "outputs": [],
   "source": [
    "idx <- rowSums( counts(dds_NEW, normalized=TRUE) >= 3 ) >= 10\n"
   ]
  },
  {
   "cell_type": "code",
   "execution_count": 62,
   "id": "1f2122ab-61f4-44bc-875d-d989a79b8ab0",
   "metadata": {
    "execution": {
     "iopub.execute_input": "2025-03-06T09:11:45.397363Z",
     "iopub.status.busy": "2025-03-06T09:11:45.396336Z",
     "iopub.status.idle": "2025-03-06T09:11:45.407620Z",
     "shell.execute_reply": "2025-03-06T09:11:45.406437Z"
    }
   },
   "outputs": [
    {
     "data": {
      "text/html": [
       "45851"
      ],
      "text/latex": [
       "45851"
      ],
      "text/markdown": [
       "45851"
      ],
      "text/plain": [
       "[1] 45851"
      ]
     },
     "metadata": {},
     "output_type": "display_data"
    }
   ],
   "source": [
    "sum(idx == TRUE)"
   ]
  },
  {
   "cell_type": "code",
   "execution_count": 63,
   "id": "c9a9eba5-7a92-45b0-8c92-952a1fe42b95",
   "metadata": {
    "execution": {
     "iopub.execute_input": "2025-03-06T09:11:46.462246Z",
     "iopub.status.busy": "2025-03-06T09:11:46.461124Z",
     "iopub.status.idle": "2025-03-06T09:11:46.493057Z",
     "shell.execute_reply": "2025-03-06T09:11:46.491821Z"
    }
   },
   "outputs": [],
   "source": [
    "dds_NEW <- dds_NEW[idx,]\n"
   ]
  },
  {
   "cell_type": "markdown",
   "id": "aee9d60f-49d3-447d-bf26-d22d6602b2a4",
   "metadata": {},
   "source": [
    "##### LRT comparing to the reduced model"
   ]
  },
  {
   "cell_type": "code",
   "execution_count": 64,
   "id": "eb09b444-b9c3-4097-8365-a2789668305c",
   "metadata": {
    "execution": {
     "iopub.execute_input": "2025-03-06T09:11:53.075718Z",
     "iopub.status.busy": "2025-03-06T09:11:53.074545Z",
     "iopub.status.idle": "2025-03-06T09:12:22.405465Z",
     "shell.execute_reply": "2025-03-06T09:12:22.404132Z"
    }
   },
   "outputs": [
    {
     "name": "stderr",
     "output_type": "stream",
     "text": [
      "using pre-existing size factors\n",
      "\n",
      "estimating dispersions\n",
      "\n",
      "gene-wise dispersion estimates\n",
      "\n",
      "mean-dispersion relationship\n",
      "\n",
      "-- note: fitType='parametric', but the dispersion trend was not well captured by the\n",
      "   function: y = a/x + b, and a local regression fit was automatically substituted.\n",
      "   specify fitType='local' or 'mean' to avoid this message next time.\n",
      "\n",
      "final dispersion estimates\n",
      "\n",
      "fitting model and testing\n",
      "\n",
      "-- replacing outliers and refitting for 12262 genes\n",
      "-- DESeq argument 'minReplicatesForReplace' = 7 \n",
      "-- original counts are preserved in counts(dds)\n",
      "\n",
      "estimating dispersions\n",
      "\n",
      "fitting model and testing\n",
      "\n"
     ]
    }
   ],
   "source": [
    "dds_NEW_lrt <- DESeq(dds_NEW, test = \"LRT\", reduced = ~ 1)"
   ]
  },
  {
   "cell_type": "markdown",
   "id": "91346168-029f-4769-86cd-15f560f4a746",
   "metadata": {},
   "source": [
    "#### Wald test to extract specific contrasts"
   ]
  },
  {
   "cell_type": "code",
   "execution_count": 70,
   "id": "6c056b84-de14-4825-8f87-ff988e5b12f8",
   "metadata": {
    "execution": {
     "iopub.execute_input": "2025-03-06T09:16:06.924157Z",
     "iopub.status.busy": "2025-03-06T09:16:06.923023Z",
     "iopub.status.idle": "2025-03-06T09:16:20.703808Z",
     "shell.execute_reply": "2025-03-06T09:16:20.702427Z"
    }
   },
   "outputs": [
    {
     "name": "stdout",
     "output_type": "stream",
     "text": [
      "------------------------------------->\trefined_annotation_majority_vote_id_MK_vs_hESC\n"
     ]
    },
    {
     "name": "stderr",
     "output_type": "stream",
     "text": [
      "using 'apeglm' for LFC shrinkage. If used in published research, please cite:\n",
      "    Zhu, A., Ibrahim, J.G., Love, M.I. (2018) Heavy-tailed prior distributions for\n",
      "    sequence count data: removing the noise and preserving large differences.\n",
      "    Bioinformatics. https://doi.org/10.1093/bioinformatics/bty895\n",
      "\n"
     ]
    },
    {
     "name": "stdout",
     "output_type": "stream",
     "text": [
      "'data.frame':\t45851 obs. of  7 variables:\n",
      " $ Peak_ID       : chr  \"chr19-13102559-13103687\" \"chr8-94638919-94642637\" \"chr1-156126102-156127474\" \"chr19-3284359-3286198\" ...\n",
      " $ baseMean      : num  24.6 40.9 21.5 42 37.3 ...\n",
      " $ log2FoldChange: num  2.98 -3.39 2.87 -2.72 -2.71 ...\n",
      " $ lfcSE         : num  0.117 0.148 0.126 0.121 0.126 ...\n",
      " $ pvalue        : num  2.21e-145 6.29e-117 1.67e-116 1.39e-111 8.60e-103 ...\n",
      " $ padj          : num  1.01e-140 1.44e-112 2.55e-112 1.59e-107 7.89e-99 ...\n",
      " $ contrast      : chr  \"MK_vs_hESC\" \"MK_vs_hESC\" \"MK_vs_hESC\" \"MK_vs_hESC\" ...\n",
      "\n"
     ]
    }
   ],
   "source": [
    "Results_per_comparison_within_cell_type<-data.frame()\n",
    "\n",
    "possible_contrasts<-colnames(dds_NEW_lrt@modelMatrix)[-1] # -1 because 1 is the Intercept term\n",
    "\n",
    "for(iteration_contrasts in 1:length(possible_contrasts)){\n",
    "\n",
    "    contrast_sel<-possible_contrasts[iteration_contrasts]\n",
    "\n",
    "    cat(\"------------------------------------->\\t\")\n",
    "    cat(sprintf(as.character(contrast_sel)))\n",
    "    cat(\"\\n\")\n",
    "    \n",
    "\n",
    "    ############ obtain the result for this contrast with its specific pvalue coming from Wald test see ?results\n",
    "\n",
    "    tmp_results<-results(dds_NEW_lrt, test= \"Wald\", name=contrast_sel, independentFiltering=FALSE)\n",
    "\n",
    "    #### expand LogFC #########################################\n",
    "\n",
    "    tmp_results <- lfcShrink(dds_NEW_lrt, \n",
    "                                 coef = contrast_sel,\n",
    "                                 res=tmp_results,\n",
    "                                 type = \"apeglm\")\n",
    "\n",
    "\n",
    "      #### obtain data frame #########################################\n",
    "\n",
    "      tmp_tb <- as.data.frame(tmp_results %>%\n",
    "                  data.frame() %>%\n",
    "                  rownames_to_column(var = \"Peak_ID\") %>%\n",
    "                  as_tibble() %>%\n",
    "                  arrange(padj), stringsAsFactors=F)\n",
    "                \n",
    "\n",
    "    tmp_tb$contrast<-gsub(\"refined_annotation_majority_vote_id_\", \"\", contrast_sel)\n",
    "\n",
    "\n",
    "    Results_per_comparison_within_cell_type<-rbind(tmp_tb,Results_per_comparison_within_cell_type)\n",
    "\n",
    "\n",
    "\n",
    "    }#iteration_contrasts in 1:length(possible_contrasts)\n",
    "\n",
    "\n",
    "str(Results_per_comparison_within_cell_type)\n",
    "cat(\"\\n\")\n"
   ]
  },
  {
   "cell_type": "markdown",
   "id": "f1051681-6a8e-4065-b669-933a9d7d3818",
   "metadata": {},
   "source": [
    "#### Extract normalized counts to plot heatmaps later ----------------------------------------"
   ]
  },
  {
   "cell_type": "code",
   "execution_count": 71,
   "id": "f9d8dafb-9ccc-4c06-9282-df5dfa36cffc",
   "metadata": {
    "execution": {
     "iopub.execute_input": "2025-03-06T09:16:27.428041Z",
     "iopub.status.busy": "2025-03-06T09:16:27.426905Z",
     "iopub.status.idle": "2025-03-06T09:16:28.638808Z",
     "shell.execute_reply": "2025-03-06T09:16:28.637539Z"
    }
   },
   "outputs": [
    {
     "name": "stdout",
     "output_type": "stream",
     "text": [
      "nor_counts_0\n",
      "'data.frame':\t45851 obs. of  23 variables:\n",
      " $ DNMT3A_1_Day_0_clusterhESC           : num  78.49 454.07 20.38 9.07 3.71 ...\n",
      " $ DNMT3A_2_Day_0_clusterhESC           : num  107.34 508.4 26.35 3.9 5.85 ...\n",
      " $ DNMT3A_3_Day_0_clusterhESC           : num  85.25 454.03 20.63 8.86 4.26 ...\n",
      " $ rs62237617_1_Day_0_clusterhESC       : num  85.79 449.8 21.65 8.82 7.22 ...\n",
      " $ rs62237617_2_Day_0_clusterhESC       : num  74.39 445.48 17.71 13.28 8.86 ...\n",
      " $ rs62237617_3_Day_0_clusterhESC       : num  97.23 458.35 28.65 7.38 6.08 ...\n",
      " $ rs62237617_DNMT3A_1_Day_0_clusterhESC: num  86.44 436.04 19.98 8.9 5.27 ...\n",
      " $ rs62237617_DNMT3A_2_Day_0_clusterhESC: num  81.63 437.96 23.96 8.99 4.79 ...\n",
      " $ rs62237617_DNMT3A_3_Day_0_clusterhESC: num  86.87 440.39 24.32 9.9 5.27 ...\n",
      " $ wt_1_Day_0_clusterhESC               : num  69.06 414.38 21.9 5.05 3.37 ...\n",
      " $ wt_2_Day_0_clusterhESC               : num  114.2 473.64 22.69 9.52 9.52 ...\n",
      " $ wt_3_Day_0_clusterhESC               : num  85.61 376 25.45 6.94 8.1 ...\n",
      " $ DNMT3A_1_Day_15_clusterMK            : num  69.7 291.3 38 19 0 ...\n",
      " $ DNMT3A_3_Day_15_clusterMK            : num  67.8 169.4 67.8 0 0 ...\n",
      " $ rs62237617_1_Day_15_clusterMK        : num  66.7 306.7 20.4 15.8 0 ...\n",
      " $ rs62237617_2_Day_15_clusterMK        : num  67.6 340 27.5 10.6 0 ...\n",
      " $ rs62237617_3_Day_15_clusterMK        : num  56.04 256.77 25.75 12.1 0.28 ...\n",
      " $ rs62237617_DNMT3A_1_Day_15_clusterMK : num  37 297.8 18.5 16.8 0 ...\n",
      " $ rs62237617_DNMT3A_2_Day_15_clusterMK : num  30.4 273.4 75.9 15.2 0 ...\n",
      " $ rs62237617_DNMT3A_3_Day_15_clusterMK : num  61.1 122.3 36.7 12.2 0 ...\n",
      " $ wt_2_Day_15_clusterMK                : num  35.5 195.5 17.8 35.5 0 ...\n",
      " $ wt_3_Day_15_clusterMK                : num  65.62 283.37 20.88 8.95 0 ...\n",
      " $ gene                                 : chr  \"chr1-629567-630655\" \"chr1-633491-634520\" \"chr1-777545-779326\" \"chr1-826597-827673\" ...\n",
      "\n"
     ]
    },
    {
     "name": "stderr",
     "output_type": "stream",
     "text": [
      "Warning message in melt(nor_counts, id.vars = \"gene\", variable.name = \"sample_id_seurat_cell_type_id\", :\n",
      "“The melt generic in data.table has been passed a data.frame and will attempt to redirect to the relevant reshape2 method; please note that reshape2 is deprecated, and this redirection is now deprecated as well. To continue using melt methods from reshape2 while both libraries are attached, e.g. melt.list, you can prepend the namespace like reshape2::melt(nor_counts). In the next version, this warning will become an error.”\n"
     ]
    },
    {
     "name": "stdout",
     "output_type": "stream",
     "text": [
      "nor_counts.m_0\n",
      "'data.frame':\t1008722 obs. of  5 variables:\n",
      " $ Peak_ID   : chr  \"chr1-629567-630655\" \"chr1-633491-634520\" \"chr1-777545-779326\" \"chr1-826597-827673\" ...\n",
      " $ count     : num  78.49 454.07 20.38 9.07 3.71 ...\n",
      " $ cell_type : chr  \"hESC\" \"hESC\" \"hESC\" \"hESC\" ...\n",
      " $ clone_line: chr  \"DNMT3A_1\" \"DNMT3A_1\" \"DNMT3A_1\" \"DNMT3A_1\" ...\n",
      " $ time_point: chr  \"Day_0\" \"Day_0\" \"Day_0\" \"Day_0\" ...\n",
      "\n"
     ]
    }
   ],
   "source": [
    "nor_counts<-as.data.frame(counts(dds_NEW, normalized=TRUE))\n",
    "\n",
    "nor_counts$gene<-row.names(nor_counts)\n",
    "row.names(nor_counts)<-NULL\n",
    "\n",
    "cat(\"nor_counts_0\\n\")\n",
    "str(nor_counts)\n",
    "cat(\"\\n\")\n",
    "\n",
    "\n",
    "\n",
    "nor_counts.m<-melt(nor_counts, id.vars='gene', variable.name=\"sample_id_seurat_cell_type_id\", value.name=\"count\")\n",
    "nor_counts.m$cell_type<-gsub(\"^.+_cluster\",\"\",nor_counts.m$sample_id_seurat_cell_type_id)\n",
    "nor_counts.m$string<-gsub(\"_cluster.+$\",\"\",nor_counts.m$sample_id_seurat_cell_type_id)\n",
    "nor_counts.m$clone_line<-gsub(\"_Day.+$\",\"\",nor_counts.m$string)\n",
    "nor_counts.m$time_point<-gsub(\"^.+_Day\",\"Day\",nor_counts.m$string)\n",
    "nor_counts.m<-nor_counts.m[,-which(colnames(nor_counts.m)%in%c('sample_id_seurat_cell_type_id','string'))]\n",
    "\n",
    "colnames(nor_counts.m)[which(colnames(nor_counts.m) == 'gene')]<-'Peak_ID'\n",
    "    \n",
    "cat(\"nor_counts.m_0\\n\")\n",
    " str(nor_counts.m)\n",
    " cat(\"\\n\")\n",
    "      "
   ]
  },
  {
   "cell_type": "code",
   "execution_count": 72,
   "id": "90e7d843-07c4-4e05-bf25-b9605bcb3749",
   "metadata": {
    "execution": {
     "iopub.execute_input": "2025-03-06T09:16:31.320065Z",
     "iopub.status.busy": "2025-03-06T09:16:31.318941Z",
     "iopub.status.idle": "2025-03-06T09:16:31.332756Z",
     "shell.execute_reply": "2025-03-06T09:16:31.331554Z"
    }
   },
   "outputs": [
    {
     "name": "stdout",
     "output_type": "stream",
     "text": [
      "'data.frame':\t45851 obs. of  7 variables:\n",
      " $ Peak_ID       : chr  \"chr19-13102559-13103687\" \"chr8-94638919-94642637\" \"chr1-156126102-156127474\" \"chr19-3284359-3286198\" ...\n",
      " $ baseMean      : num  24.6 40.9 21.5 42 37.3 ...\n",
      " $ log2FoldChange: num  2.98 -3.39 2.87 -2.72 -2.71 ...\n",
      " $ lfcSE         : num  0.117 0.148 0.126 0.121 0.126 ...\n",
      " $ pvalue        : num  2.21e-145 6.29e-117 1.67e-116 1.39e-111 8.60e-103 ...\n",
      " $ padj          : num  1.01e-140 1.44e-112 2.55e-112 1.59e-107 7.89e-99 ...\n",
      " $ contrast      : chr  \"MK_vs_hESC\" \"MK_vs_hESC\" \"MK_vs_hESC\" \"MK_vs_hESC\" ...\n"
     ]
    }
   ],
   "source": [
    "str(Results_per_comparison_within_cell_type)"
   ]
  },
  {
   "cell_type": "code",
   "execution_count": 73,
   "id": "8bca9458-c0e0-4bb9-81bb-3a8cf07f6d87",
   "metadata": {
    "execution": {
     "iopub.execute_input": "2025-03-06T09:16:32.793991Z",
     "iopub.status.busy": "2025-03-06T09:16:32.792870Z",
     "iopub.status.idle": "2025-03-06T09:16:32.818891Z",
     "shell.execute_reply": "2025-03-06T09:16:32.817697Z"
    }
   },
   "outputs": [
    {
     "name": "stdout",
     "output_type": "stream",
     "text": [
      "'data.frame':\t36387 obs. of  7 variables:\n",
      " $ Peak_ID       : chr  \"chr19-13102559-13103687\" \"chr8-94638919-94642637\" \"chr1-156126102-156127474\" \"chr19-3284359-3286198\" ...\n",
      " $ baseMean      : num  24.6 40.9 21.5 42 37.3 ...\n",
      " $ log2FoldChange: num  2.98 -3.39 2.87 -2.72 -2.71 ...\n",
      " $ lfcSE         : num  0.117 0.148 0.126 0.121 0.126 ...\n",
      " $ pvalue        : num  2.21e-145 6.29e-117 1.67e-116 1.39e-111 8.60e-103 ...\n",
      " $ padj          : num  1.01e-140 1.44e-112 2.55e-112 1.59e-107 7.89e-99 ...\n",
      " $ contrast      : chr  \"MK_vs_hESC\" \"MK_vs_hESC\" \"MK_vs_hESC\" \"MK_vs_hESC\" ...\n"
     ]
    },
    {
     "data": {
      "text/html": [
       "<strong>MK_vs_hESC:</strong> 36387"
      ],
      "text/latex": [
       "\\textbf{MK\\textbackslash{}\\_vs\\textbackslash{}\\_hESC:} 36387"
      ],
      "text/markdown": [
       "**MK_vs_hESC:** 36387"
      ],
      "text/plain": [
       "MK_vs_hESC \n",
       "     36387 "
      ]
     },
     "metadata": {},
     "output_type": "display_data"
    }
   ],
   "source": [
    "Results_per_comparison_within_cell_type_SIG<-Results_per_comparison_within_cell_type[which(Results_per_comparison_within_cell_type$padj < 0.05),]\n",
    "\n",
    "str(Results_per_comparison_within_cell_type_SIG)\n",
    "\n",
    "summary(as.factor(Results_per_comparison_within_cell_type_SIG$contrast))"
   ]
  },
  {
   "cell_type": "code",
   "execution_count": 69,
   "id": "83d3ec4e-30a1-4873-9965-2feb7bb84f51",
   "metadata": {
    "execution": {
     "iopub.execute_input": "2025-03-06T09:14:25.408017Z",
     "iopub.status.busy": "2025-03-06T09:14:25.407003Z",
     "iopub.status.idle": "2025-03-06T09:14:25.414561Z",
     "shell.execute_reply": "2025-03-06T09:14:25.413384Z"
    }
   },
   "outputs": [],
   "source": [
    "# check https://bioconductor.org/packages/release/bioc/vignettes/DESeq2/inst/doc/DESeq2.html#pvaluesNA"
   ]
  },
  {
   "cell_type": "markdown",
   "id": "21665d78-fc1c-4b7d-9192-c379f895b752",
   "metadata": {},
   "source": [
    "### SAVE DA results"
   ]
  },
  {
   "cell_type": "code",
   "execution_count": 208,
   "id": "9604d60b-6ed8-4093-9ea9-f0ac2a6f3bee",
   "metadata": {
    "execution": {
     "iopub.execute_input": "2025-02-26T16:31:48.915974Z",
     "iopub.status.busy": "2025-02-26T16:31:48.914808Z",
     "iopub.status.idle": "2025-02-26T16:31:48.924544Z",
     "shell.execute_reply": "2025-02-26T16:31:48.923240Z"
    }
   },
   "outputs": [],
   "source": [
    "setwd(\"/group/soranzo/manuel.tardaguila/2025_hESC_MK_multiome/Downstream_analysis_cluster_after_genotyping/\")"
   ]
  },
  {
   "cell_type": "code",
   "execution_count": 74,
   "id": "5b9e6240-7543-4886-8373-59e89a5011e6",
   "metadata": {
    "execution": {
     "iopub.execute_input": "2025-03-06T09:17:25.648438Z",
     "iopub.status.busy": "2025-03-06T09:17:25.647297Z",
     "iopub.status.idle": "2025-03-06T09:17:25.966122Z",
     "shell.execute_reply": "2025-03-06T09:17:25.964718Z"
    }
   },
   "outputs": [],
   "source": [
    "write.table(Results_per_comparison_within_cell_type, file=paste(\"DA_peaks_sanity_check_\",paste(cell_type_sel, collapse=\"_vs_\"),\".tsv\", sep=''), sep=\"\\t\", quote=F, row.names=F)"
   ]
  },
  {
   "cell_type": "code",
   "execution_count": 75,
   "id": "3b58bfc4-70ab-4220-8dcc-c511b3f8568f",
   "metadata": {
    "execution": {
     "iopub.execute_input": "2025-03-06T09:17:53.900288Z",
     "iopub.status.busy": "2025-03-06T09:17:53.899160Z",
     "iopub.status.idle": "2025-03-06T09:17:56.387986Z",
     "shell.execute_reply": "2025-03-06T09:17:56.386537Z"
    }
   },
   "outputs": [],
   "source": [
    "write.table(nor_counts.m, file=paste(\"normalized_peaks_sanity_check_\",paste(cell_type_sel, collapse=\"_vs_\"),\".tsv\", sep=''), sep=\"\\t\", quote=F, row.names=F)"
   ]
  },
  {
   "cell_type": "markdown",
   "id": "c3ab9210-1991-4ba0-8733-be330057f374",
   "metadata": {},
   "source": [
    "# Pickup for DA graphs"
   ]
  },
  {
   "cell_type": "markdown",
   "id": "d733e935-3146-498c-9503-2eb85962cbfc",
   "metadata": {},
   "source": [
    "## Load libraries"
   ]
  },
  {
   "cell_type": "code",
   "execution_count": 76,
   "id": "aa8f1f1d-6210-43a1-943b-8e47f8539454",
   "metadata": {
    "execution": {
     "iopub.execute_input": "2025-03-06T09:19:30.108981Z",
     "iopub.status.busy": "2025-03-06T09:19:30.107846Z",
     "iopub.status.idle": "2025-03-06T09:19:30.146443Z",
     "shell.execute_reply": "2025-03-06T09:19:30.145243Z"
    }
   },
   "outputs": [
    {
     "data": {
      "text/html": [
       "'/home/manuel.tardaguila/conda_envs/multiome_NEW_downstream_analysis/lib/R/library'"
      ],
      "text/latex": [
       "'/home/manuel.tardaguila/conda\\_envs/multiome\\_NEW\\_downstream\\_analysis/lib/R/library'"
      ],
      "text/markdown": [
       "'/home/manuel.tardaguila/conda_envs/multiome_NEW_downstream_analysis/lib/R/library'"
      ],
      "text/plain": [
       "[1] \"/home/manuel.tardaguila/conda_envs/multiome_NEW_downstream_analysis/lib/R/library\""
      ]
     },
     "metadata": {},
     "output_type": "display_data"
    },
    {
     "data": {
      "text/html": [
       "'/home/manuel.tardaguila/conda_envs/multiome_NEW_downstream_analysis/lib/R/library'"
      ],
      "text/latex": [
       "'/home/manuel.tardaguila/conda\\_envs/multiome\\_NEW\\_downstream\\_analysis/lib/R/library'"
      ],
      "text/markdown": [
       "'/home/manuel.tardaguila/conda_envs/multiome_NEW_downstream_analysis/lib/R/library'"
      ],
      "text/plain": [
       "[1] \"/home/manuel.tardaguila/conda_envs/multiome_NEW_downstream_analysis/lib/R/library\""
      ]
     },
     "metadata": {},
     "output_type": "display_data"
    }
   ],
   "source": [
    ".libPaths()\n",
    ".libPaths(new = c(\"/home/manuel.tardaguila/conda_envs/multiome_NEW_downstream_analysis/lib/R/library\"))\n",
    ".libPaths()\n",
    "\n",
    "suppressMessages(library(presto))\n",
    "suppressMessages(library(\"qlcMatrix\"))\n",
    "suppressMessages(library(\"cowplot\"))\n",
    "suppressMessages(library(\"RColorBrewer\"))\n",
    "suppressMessages(library(\"plyr\"))\n",
    "suppressMessages(library(\"forcats\"))\n",
    "suppressMessages(library('ggeasy'))\n",
    "suppressMessages(library('dplyr'))\n",
    "suppressMessages(library(\"svglite\"))\n",
    "suppressMessages(library(\"ape\"))\n",
    "suppressMessages(library(\"ggforce\"))\n",
    "suppressMessages(library(\"tidyr\"))\n",
    "suppressMessages(library(\"edgeR\"))\n",
    "suppressMessages(library(\"apeglm\"))\n",
    "suppressMessages(library(\"DESeq2\"))\n",
    "suppressMessages(library(\"tibble\")) \n",
    "library(\"ggrepel\")\n"
   ]
  },
  {
   "cell_type": "markdown",
   "id": "ef8b60b4-fdc5-4815-adcf-dec8fd5593dc",
   "metadata": {},
   "source": [
    "## Subset hESC vs MK"
   ]
  },
  {
   "cell_type": "markdown",
   "id": "717086e5-6ac6-4057-bd5c-95b08f0b2216",
   "metadata": {},
   "source": [
    "### Define cell_type_sel and time_point_sel"
   ]
  },
  {
   "cell_type": "code",
   "execution_count": 78,
   "id": "ff65454e-d273-41a5-8a4a-cf75473a35c8",
   "metadata": {
    "execution": {
     "iopub.execute_input": "2025-03-06T09:20:07.358963Z",
     "iopub.status.busy": "2025-03-06T09:20:07.357810Z",
     "iopub.status.idle": "2025-03-06T09:20:07.368955Z",
     "shell.execute_reply": "2025-03-06T09:20:07.367757Z"
    }
   },
   "outputs": [],
   "source": [
    "cell_type_sel<-c('hESC','MK')\n",
    "\n",
    "time_point_sel<-c('Day_0','Day_15')\n"
   ]
  },
  {
   "cell_type": "markdown",
   "id": "3e268ede-3d54-491c-a157-236af598f427",
   "metadata": {},
   "source": [
    "# Read in DA linked peaks"
   ]
  },
  {
   "cell_type": "code",
   "execution_count": 107,
   "id": "a0f8250a-0849-45ea-9247-ee3e17b62add",
   "metadata": {
    "execution": {
     "iopub.execute_input": "2025-03-06T09:46:25.590885Z",
     "iopub.status.busy": "2025-03-06T09:46:25.589798Z",
     "iopub.status.idle": "2025-03-06T09:46:25.601089Z",
     "shell.execute_reply": "2025-03-06T09:46:25.599972Z"
    }
   },
   "outputs": [],
   "source": [
    "setwd(\"/group/soranzo/manuel.tardaguila/2025_hESC_MK_multiome/Downstream_analysis_cluster_after_genotyping/\")"
   ]
  },
  {
   "cell_type": "code",
   "execution_count": 108,
   "id": "a9c4e127-fb7d-4150-9d60-9ed13dbb6bc4",
   "metadata": {
    "execution": {
     "iopub.execute_input": "2025-03-06T09:46:25.807148Z",
     "iopub.status.busy": "2025-03-06T09:46:25.806212Z",
     "iopub.status.idle": "2025-03-06T09:46:26.138820Z",
     "shell.execute_reply": "2025-03-06T09:46:26.137524Z"
    }
   },
   "outputs": [
    {
     "name": "stdout",
     "output_type": "stream",
     "text": [
      "'data.frame':\t45851 obs. of  7 variables:\n",
      " $ Peak_ID       : chr  \"chr19-13102559-13103687\" \"chr8-94638919-94642637\" \"chr1-156126102-156127474\" \"chr19-3284359-3286198\" ...\n",
      " $ baseMean      : num  24.6 40.9 21.5 42 37.3 ...\n",
      " $ log2FoldChange: num  2.98 -3.39 2.87 -2.72 -2.71 ...\n",
      " $ lfcSE         : num  0.117 0.148 0.126 0.121 0.126 ...\n",
      " $ pvalue        : num  2.21e-145 6.29e-117 1.67e-116 1.39e-111 8.60e-103 ...\n",
      " $ padj          : num  1.01e-140 1.44e-112 2.55e-112 1.59e-107 7.89e-99 ...\n",
      " $ contrast      : chr  \"MK_vs_hESC\" \"MK_vs_hESC\" \"MK_vs_hESC\" \"MK_vs_hESC\" ...\n"
     ]
    }
   ],
   "source": [
    "Results_per_comparison_within_cell_type<-read.table(file=paste(\"DA_peaks_sanity_check_\",paste(cell_type_sel, collapse=\"_vs_\"),\".tsv\", sep=''), sep=\"\\t\", header=T)\n",
    "\n",
    "str(Results_per_comparison_within_cell_type)"
   ]
  },
  {
   "cell_type": "code",
   "execution_count": 109,
   "id": "ee703b25-3251-49e3-9e68-c8a953986a0a",
   "metadata": {
    "execution": {
     "iopub.execute_input": "2025-03-06T09:46:26.141572Z",
     "iopub.status.busy": "2025-03-06T09:46:26.140621Z",
     "iopub.status.idle": "2025-03-06T09:46:26.162351Z",
     "shell.execute_reply": "2025-03-06T09:46:26.161217Z"
    }
   },
   "outputs": [
    {
     "name": "stdout",
     "output_type": "stream",
     "text": [
      "'data.frame':\t45851 obs. of  9 variables:\n",
      " $ Peak_ID       : chr  \"chr19-13102559-13103687\" \"chr8-94638919-94642637\" \"chr1-156126102-156127474\" \"chr19-3284359-3286198\" ...\n",
      " $ baseMean      : num  24.6 40.9 21.5 42 37.3 ...\n",
      " $ log2FoldChange: num  2.98 -3.39 2.87 -2.72 -2.71 ...\n",
      " $ lfcSE         : num  0.117 0.148 0.126 0.121 0.126 ...\n",
      " $ pvalue        : num  2.21e-145 6.29e-117 1.67e-116 1.39e-111 8.60e-103 ...\n",
      " $ padj          : num  1.01e-140 1.44e-112 2.55e-112 1.59e-107 7.89e-99 ...\n",
      " $ contrast      : chr  \"MK_vs_hESC\" \"MK_vs_hESC\" \"MK_vs_hESC\" \"MK_vs_hESC\" ...\n",
      " $ minuslog10padj: num  140 111.8 111.6 106.8 98.1 ...\n",
      " $ abslogfc      : num  2.98 3.39 2.87 2.72 2.71 ...\n"
     ]
    },
    {
     "data": {
      "text/plain": [
       "     Min.   1st Qu.    Median      Mean   3rd Qu.      Max. \n",
       "  0.00023   1.59070   2.94140   5.95188   7.76670 139.99399 "
      ]
     },
     "metadata": {},
     "output_type": "display_data"
    }
   ],
   "source": [
    "Results_per_comparison_within_cell_type$minuslog10padj <- -log10(Results_per_comparison_within_cell_type$padj)\n",
    "\n",
    "Results_per_comparison_within_cell_type$abslogfc<-abs(Results_per_comparison_within_cell_type$log2FoldChange)\n",
    "\n",
    "str(Results_per_comparison_within_cell_type)\n",
    "\n",
    "summary(Results_per_comparison_within_cell_type$minuslog10padj)"
   ]
  },
  {
   "cell_type": "code",
   "execution_count": 119,
   "id": "1f0d829a-5ddb-4d0d-961a-5973e55755fa",
   "metadata": {
    "execution": {
     "iopub.execute_input": "2025-03-06T09:47:45.167870Z",
     "iopub.status.busy": "2025-03-06T09:47:45.166761Z",
     "iopub.status.idle": "2025-03-06T09:47:45.188407Z",
     "shell.execute_reply": "2025-03-06T09:47:45.187280Z"
    }
   },
   "outputs": [
    {
     "name": "stdout",
     "output_type": "stream",
     "text": [
      "'data.frame':\t859 obs. of  9 variables:\n",
      " $ Peak_ID       : chr  \"chr19-13102559-13103687\" \"chr8-94638919-94642637\" \"chr1-156126102-156127474\" \"chr19-3284359-3286198\" ...\n",
      " $ baseMean      : num  24.6 40.9 21.5 42 37.3 ...\n",
      " $ log2FoldChange: num  2.98 -3.39 2.87 -2.72 -2.71 ...\n",
      " $ lfcSE         : num  0.117 0.148 0.126 0.121 0.126 ...\n",
      " $ pvalue        : num  2.21e-145 6.29e-117 1.67e-116 1.39e-111 8.60e-103 ...\n",
      " $ padj          : num  1.01e-140 1.44e-112 2.55e-112 1.59e-107 7.89e-99 ...\n",
      " $ contrast      : chr  \"MK_vs_hESC\" \"MK_vs_hESC\" \"MK_vs_hESC\" \"MK_vs_hESC\" ...\n",
      " $ minuslog10padj: num  140 111.8 111.6 106.8 98.1 ...\n",
      " $ abslogfc      : num  2.98 3.39 2.87 2.72 2.71 ...\n",
      "\n"
     ]
    }
   ],
   "source": [
    "Results_per_comparison_within_cell_type_SIG<-Results_per_comparison_within_cell_type[which(Results_per_comparison_within_cell_type$minuslog10padj >= 30),]\n",
    "\n",
    "str(Results_per_comparison_within_cell_type_SIG)\n",
    "cat(\"\\n\")"
   ]
  },
  {
   "cell_type": "markdown",
   "id": "9924f71d-ac82-443b-9679-4f2b2ba99793",
   "metadata": {},
   "source": [
    "## Read Linked_peaks normalized counts"
   ]
  },
  {
   "cell_type": "code",
   "execution_count": 120,
   "id": "db2e34c2-3552-4fef-8ecc-e8f912b49673",
   "metadata": {
    "execution": {
     "iopub.execute_input": "2025-03-06T09:47:46.825351Z",
     "iopub.status.busy": "2025-03-06T09:47:46.824294Z",
     "iopub.status.idle": "2025-03-06T09:47:48.411762Z",
     "shell.execute_reply": "2025-03-06T09:47:48.410379Z"
    }
   },
   "outputs": [
    {
     "name": "stdout",
     "output_type": "stream",
     "text": [
      "'data.frame':\t1008722 obs. of  5 variables:\n",
      " $ Peak_ID   : chr  \"chr1-629567-630655\" \"chr1-633491-634520\" \"chr1-777545-779326\" \"chr1-826597-827673\" ...\n",
      " $ count     : num  78.49 454.07 20.38 9.07 3.71 ...\n",
      " $ cell_type : chr  \"hESC\" \"hESC\" \"hESC\" \"hESC\" ...\n",
      " $ clone_line: chr  \"DNMT3A_1\" \"DNMT3A_1\" \"DNMT3A_1\" \"DNMT3A_1\" ...\n",
      " $ time_point: chr  \"Day_0\" \"Day_0\" \"Day_0\" \"Day_0\" ...\n"
     ]
    }
   ],
   "source": [
    "setwd(\"/group/soranzo/manuel.tardaguila/2025_hESC_MK_multiome/Downstream_analysis_cluster_after_genotyping/\")\n",
    "\n",
    "nor_counts.m<-read.table(file=paste(\"normalized_peaks_sanity_check_\",paste(cell_type_sel, collapse=\"_vs_\"),\".tsv\", sep=''), sep=\"\\t\", header=T)\n",
    "\n",
    "\n",
    "str(nor_counts.m)"
   ]
  },
  {
   "cell_type": "markdown",
   "id": "85d86119-416c-4671-905f-e476da259a59",
   "metadata": {},
   "source": [
    "# Heatmaps Linked_peaks_counts"
   ]
  },
  {
   "cell_type": "markdown",
   "id": "982c522f-ceaa-4a95-8520-cca70ed34cbd",
   "metadata": {},
   "source": [
    "## Selection of genes"
   ]
  },
  {
   "cell_type": "code",
   "execution_count": 121,
   "id": "a88322dd-5522-4da4-b837-70d11a52be05",
   "metadata": {
    "execution": {
     "iopub.execute_input": "2025-03-06T09:47:51.167050Z",
     "iopub.status.busy": "2025-03-06T09:47:51.165940Z",
     "iopub.status.idle": "2025-03-06T09:47:51.219216Z",
     "shell.execute_reply": "2025-03-06T09:47:51.217979Z"
    }
   },
   "outputs": [
    {
     "name": "stdout",
     "output_type": "stream",
     "text": [
      "'data.frame':\t18898 obs. of  5 variables:\n",
      " $ Peak_ID   : chr  \"chr1-1032200-1034859\" \"chr1-1539364-1541381\" \"chr1-2049360-2050807\" \"chr1-2300018-2301813\" ...\n",
      " $ count     : num  39.1 30.23 42.51 1.95 36.37 ...\n",
      " $ cell_type : chr  \"hESC\" \"hESC\" \"hESC\" \"hESC\" ...\n",
      " $ clone_line: chr  \"DNMT3A_1\" \"DNMT3A_1\" \"DNMT3A_1\" \"DNMT3A_1\" ...\n",
      " $ time_point: chr  \"Day_0\" \"Day_0\" \"Day_0\" \"Day_0\" ...\n"
     ]
    }
   ],
   "source": [
    "REP<-nor_counts.m[which(nor_counts.m$Peak_ID%in%Results_per_comparison_within_cell_type_SIG$Peak_ID),]\n",
    "\n",
    "str(REP)"
   ]
  },
  {
   "cell_type": "code",
   "execution_count": 122,
   "id": "476b80bc-e9b0-44d1-bfbd-461c242d8260",
   "metadata": {
    "execution": {
     "iopub.execute_input": "2025-03-06T09:47:51.221985Z",
     "iopub.status.busy": "2025-03-06T09:47:51.221039Z",
     "iopub.status.idle": "2025-03-06T09:47:51.254007Z",
     "shell.execute_reply": "2025-03-06T09:47:51.252870Z"
    }
   },
   "outputs": [
    {
     "name": "stdout",
     "output_type": "stream",
     "text": [
      "'data.frame':\t859 obs. of  23 variables:\n",
      " $ Peak_ID                 : chr  \"chr1-1032200-1034859\" \"chr1-1539364-1541381\" \"chr1-2049360-2050807\" \"chr1-2300018-2301813\" ...\n",
      " $ hESC|DNMT3A_1           : num  39.1 30.23 42.51 1.95 36.37 ...\n",
      " $ hESC|DNMT3A_2           : num  47.815 34.154 59.525 0.976 38.057 ...\n",
      " $ hESC|DNMT3A_3           : num  40.61 29.26 43.6 1.84 38.81 ...\n",
      " $ hESC|rs62237617_1       : num  55.32 28.86 41.69 2.41 31.27 ...\n",
      " $ hESC|rs62237617_2       : num  47.82 37.2 36.31 4.43 28.34 ...\n",
      " $ hESC|rs62237617_3       : num  36.46 30.38 37.76 3.91 36.46 ...\n",
      " $ hESC|rs62237617_DNMT3A_1: num  40.86 28.51 43.95 1.63 30.87 ...\n",
      " $ hESC|rs62237617_DNMT3A_2: num  40.29 26.66 37.89 1.65 35.8 ...\n",
      " $ hESC|rs62237617_DNMT3A_3: num  42 27.58 43 1.13 34.35 ...\n",
      " $ hESC|wt_1               : num  47.16 21.9 45.48 1.68 47.16 ...\n",
      " $ hESC|wt_2               : num  33.7 33.7 43.2 2.2 30 ...\n",
      " $ hESC|wt_3               : num  39.3 27.8 48.6 0 41.6 ...\n",
      " $ MK|DNMT3A_1             : num  12.67 12.67 6.33 38 19 ...\n",
      " $ MK|DNMT3A_3             : num  16.9 16.9 0 67.8 16.9 ...\n",
      " $ MK|rs62237617_1         : num  18.53 5.56 3.71 22.24 3.71 ...\n",
      " $ MK|rs62237617_2         : num  15.84 8.45 5.28 19 1.06 ...\n",
      " $ MK|rs62237617_3         : num  13.36 5.18 5.74 30.01 5.81 ...\n",
      " $ MK|rs62237617_DNMT3A_1  : num  8.41 0 6.73 38.7 6.73 ...\n",
      " $ MK|rs62237617_DNMT3A_2  : num  15.2 0 15.2 0 0 ...\n",
      " $ MK|rs62237617_DNMT3A_3  : num  12.2 12.2 0 61.1 12.2 ...\n",
      " $ MK|wt_2                 : num  0 0 0 35.5 0 ...\n",
      " $ MK|wt_3                 : num  8.95 2.98 5.97 23.86 11.93 ...\n"
     ]
    }
   ],
   "source": [
    "REP_wide<-as.data.frame(pivot_wider(REP, id_cols=c('Peak_ID'), \n",
    "                                    names_from=c('cell_type',\"clone_line\"), \n",
    "                                    values_from='count',\n",
    "                                    names_sep='|'), stringsAsFactors=F)\n",
    "\n",
    "str(REP_wide)"
   ]
  },
  {
   "cell_type": "code",
   "execution_count": 123,
   "id": "adda22f1-f848-48d9-8941-6cc778368285",
   "metadata": {
    "execution": {
     "iopub.execute_input": "2025-03-06T09:47:51.256715Z",
     "iopub.status.busy": "2025-03-06T09:47:51.255769Z",
     "iopub.status.idle": "2025-03-06T09:47:51.269129Z",
     "shell.execute_reply": "2025-03-06T09:47:51.268021Z"
    }
   },
   "outputs": [
    {
     "name": "stdout",
     "output_type": "stream",
     "text": [
      " num [1:859, 1:22] 39.1 30.23 42.51 1.95 36.37 ...\n",
      " - attr(*, \"dimnames\")=List of 2\n",
      "  ..$ : chr [1:859] \"chr1-1032200-1034859\" \"chr1-1539364-1541381\" \"chr1-2049360-2050807\" \"chr1-2300018-2301813\" ...\n",
      "  ..$ : chr [1:22] \"hESC|DNMT3A_1\" \"hESC|DNMT3A_2\" \"hESC|DNMT3A_3\" \"hESC|rs62237617_1\" ...\n"
     ]
    }
   ],
   "source": [
    "Peak_count_matrix<-as.matrix(REP_wide[,-which(colnames(REP_wide)%in%c('Peak_ID'))])\n",
    "\n",
    "row.names(Peak_count_matrix)<-REP_wide$Peak_ID\n",
    "\n",
    "str(Peak_count_matrix)"
   ]
  },
  {
   "cell_type": "markdown",
   "id": "d03ddbb2-e5a3-45ba-b592-a4122db00a8b",
   "metadata": {},
   "source": [
    "## Annotation of columns"
   ]
  },
  {
   "cell_type": "code",
   "execution_count": 124,
   "id": "189bf514-7737-465d-94d7-2dbc0392d60a",
   "metadata": {
    "execution": {
     "iopub.execute_input": "2025-03-06T09:47:51.271894Z",
     "iopub.status.busy": "2025-03-06T09:47:51.270948Z",
     "iopub.status.idle": "2025-03-06T09:47:51.355737Z",
     "shell.execute_reply": "2025-03-06T09:47:51.354547Z"
    }
   },
   "outputs": [
    {
     "name": "stdout",
     "output_type": "stream",
     "text": [
      "annotation_col_0\n",
      "'data.frame':\t22 obs. of  2 variables:\n",
      " $ cell_type : logi  NA NA NA NA NA NA ...\n",
      " $ clone_line: logi  NA NA NA NA NA NA ...\n",
      "\n",
      "annotation_col_1\n",
      "'data.frame':\t22 obs. of  2 variables:\n",
      " $ cell_type : chr  \"hESC\" \"hESC\" \"hESC\" \"hESC\" ...\n",
      " $ clone_line: chr  \"DNMT3A_1\" \"DNMT3A_2\" \"DNMT3A_3\" \"rs62237617_1\" ...\n",
      "\n",
      "annotation_col_PRE\n",
      "'data.frame':\t22 obs. of  3 variables:\n",
      " $ cell_type : chr  \"hESC\" \"hESC\" \"hESC\" \"hESC\" ...\n",
      " $ clone_line: chr  \"DNMT3A_1\" \"DNMT3A_2\" \"DNMT3A_3\" \"rs62237617_1\" ...\n",
      " $ Genotype  : chr  \"DNMT3A\" \"DNMT3A\" \"DNMT3A\" \"rs62237617\" ...\n",
      "\n"
     ]
    },
    {
     "data": {
      "text/html": [
       "<style>\n",
       ".list-inline {list-style: none; margin:0; padding: 0}\n",
       ".list-inline>li {display: inline-block}\n",
       ".list-inline>li:not(:last-child)::after {content: \"\\00b7\"; padding: 0 .5ex}\n",
       "</style>\n",
       "<ol class=list-inline><li>'DNMT3A'</li><li>'rs62237617'</li><li>'rs62237617_DNMT3A'</li><li>'wt'</li></ol>\n"
      ],
      "text/latex": [
       "\\begin{enumerate*}\n",
       "\\item 'DNMT3A'\n",
       "\\item 'rs62237617'\n",
       "\\item 'rs62237617\\_DNMT3A'\n",
       "\\item 'wt'\n",
       "\\end{enumerate*}\n"
      ],
      "text/markdown": [
       "1. 'DNMT3A'\n",
       "2. 'rs62237617'\n",
       "3. 'rs62237617_DNMT3A'\n",
       "4. 'wt'\n",
       "\n",
       "\n"
      ],
      "text/plain": [
       "[1] \"DNMT3A\"            \"rs62237617\"        \"rs62237617_DNMT3A\"\n",
       "[4] \"wt\"               "
      ]
     },
     "metadata": {},
     "output_type": "display_data"
    },
    {
     "name": "stdout",
     "output_type": "stream",
     "text": [
      "\n"
     ]
    },
    {
     "data": {
      "text/html": [
       "<style>\n",
       ".list-inline {list-style: none; margin:0; padding: 0}\n",
       ".list-inline>li {display: inline-block}\n",
       ".list-inline>li:not(:last-child)::after {content: \"\\00b7\"; padding: 0 .5ex}\n",
       "</style>\n",
       "<ol class=list-inline><li>'DNMT3A_1'</li><li>'DNMT3A_2'</li><li>'DNMT3A_3'</li><li>'rs62237617_1'</li><li>'rs62237617_2'</li><li>'rs62237617_3'</li><li>'rs62237617_DNMT3A_1'</li><li>'rs62237617_DNMT3A_2'</li><li>'rs62237617_DNMT3A_3'</li><li>'wt_1'</li><li>'wt_2'</li><li>'wt_3'</li></ol>\n"
      ],
      "text/latex": [
       "\\begin{enumerate*}\n",
       "\\item 'DNMT3A\\_1'\n",
       "\\item 'DNMT3A\\_2'\n",
       "\\item 'DNMT3A\\_3'\n",
       "\\item 'rs62237617\\_1'\n",
       "\\item 'rs62237617\\_2'\n",
       "\\item 'rs62237617\\_3'\n",
       "\\item 'rs62237617\\_DNMT3A\\_1'\n",
       "\\item 'rs62237617\\_DNMT3A\\_2'\n",
       "\\item 'rs62237617\\_DNMT3A\\_3'\n",
       "\\item 'wt\\_1'\n",
       "\\item 'wt\\_2'\n",
       "\\item 'wt\\_3'\n",
       "\\end{enumerate*}\n"
      ],
      "text/markdown": [
       "1. 'DNMT3A_1'\n",
       "2. 'DNMT3A_2'\n",
       "3. 'DNMT3A_3'\n",
       "4. 'rs62237617_1'\n",
       "5. 'rs62237617_2'\n",
       "6. 'rs62237617_3'\n",
       "7. 'rs62237617_DNMT3A_1'\n",
       "8. 'rs62237617_DNMT3A_2'\n",
       "9. 'rs62237617_DNMT3A_3'\n",
       "10. 'wt_1'\n",
       "11. 'wt_2'\n",
       "12. 'wt_3'\n",
       "\n",
       "\n"
      ],
      "text/plain": [
       " [1] \"DNMT3A_1\"            \"DNMT3A_2\"            \"DNMT3A_3\"           \n",
       " [4] \"rs62237617_1\"        \"rs62237617_2\"        \"rs62237617_3\"       \n",
       " [7] \"rs62237617_DNMT3A_1\" \"rs62237617_DNMT3A_2\" \"rs62237617_DNMT3A_3\"\n",
       "[10] \"wt_1\"                \"wt_2\"                \"wt_3\"               "
      ]
     },
     "metadata": {},
     "output_type": "display_data"
    },
    {
     "name": "stdout",
     "output_type": "stream",
     "text": [
      "\n"
     ]
    },
    {
     "data": {
      "text/html": [
       "<style>\n",
       ".list-inline {list-style: none; margin:0; padding: 0}\n",
       ".list-inline>li {display: inline-block}\n",
       ".list-inline>li:not(:last-child)::after {content: \"\\00b7\"; padding: 0 .5ex}\n",
       "</style>\n",
       "<ol class=list-inline><li>'hESC'</li><li>'MK'</li></ol>\n"
      ],
      "text/latex": [
       "\\begin{enumerate*}\n",
       "\\item 'hESC'\n",
       "\\item 'MK'\n",
       "\\end{enumerate*}\n"
      ],
      "text/markdown": [
       "1. 'hESC'\n",
       "2. 'MK'\n",
       "\n",
       "\n"
      ],
      "text/plain": [
       "[1] \"hESC\" \"MK\"  "
      ]
     },
     "metadata": {},
     "output_type": "display_data"
    },
    {
     "name": "stdout",
     "output_type": "stream",
     "text": [
      "\n",
      "annotation_col_POST\n",
      "'data.frame':\t22 obs. of  3 variables:\n",
      " $ cell_type : Ord.factor w/ 2 levels \"hESC\"<\"MK\": 1 1 1 1 1 1 1 1 1 1 ...\n",
      " $ clone_line: Ord.factor w/ 12 levels \"wt_1\"<\"wt_2\"<..: 7 8 9 4 5 6 10 11 12 1 ...\n",
      " $ Genotype  : Ord.factor w/ 4 levels \"wt\"<\"rs62237617\"<..: 3 3 3 2 2 2 4 4 4 1 ...\n",
      "\n"
     ]
    },
    {
     "data": {
      "text/html": [
       "<style>\n",
       ".list-inline {list-style: none; margin:0; padding: 0}\n",
       ".list-inline>li {display: inline-block}\n",
       ".list-inline>li:not(:last-child)::after {content: \"\\00b7\"; padding: 0 .5ex}\n",
       "</style>\n",
       "<ol class=list-inline><li>'wt'</li><li>'rs62237617'</li><li>'DNMT3A'</li><li>'rs62237617_DNMT3A'</li></ol>\n"
      ],
      "text/latex": [
       "\\begin{enumerate*}\n",
       "\\item 'wt'\n",
       "\\item 'rs62237617'\n",
       "\\item 'DNMT3A'\n",
       "\\item 'rs62237617\\_DNMT3A'\n",
       "\\end{enumerate*}\n"
      ],
      "text/markdown": [
       "1. 'wt'\n",
       "2. 'rs62237617'\n",
       "3. 'DNMT3A'\n",
       "4. 'rs62237617_DNMT3A'\n",
       "\n",
       "\n"
      ],
      "text/plain": [
       "[1] \"wt\"                \"rs62237617\"        \"DNMT3A\"           \n",
       "[4] \"rs62237617_DNMT3A\""
      ]
     },
     "metadata": {},
     "output_type": "display_data"
    },
    {
     "name": "stdout",
     "output_type": "stream",
     "text": [
      "\n"
     ]
    },
    {
     "data": {
      "text/html": [
       "<style>\n",
       ".list-inline {list-style: none; margin:0; padding: 0}\n",
       ".list-inline>li {display: inline-block}\n",
       ".list-inline>li:not(:last-child)::after {content: \"\\00b7\"; padding: 0 .5ex}\n",
       "</style>\n",
       "<ol class=list-inline><li>'wt_1'</li><li>'wt_2'</li><li>'wt_3'</li><li>'rs62237617_1'</li><li>'rs62237617_2'</li><li>'rs62237617_3'</li><li>'DNMT3A_1'</li><li>'DNMT3A_2'</li><li>'DNMT3A_3'</li><li>'rs62237617_DNMT3A_1'</li><li>'rs62237617_DNMT3A_2'</li><li>'rs62237617_DNMT3A_3'</li></ol>\n"
      ],
      "text/latex": [
       "\\begin{enumerate*}\n",
       "\\item 'wt\\_1'\n",
       "\\item 'wt\\_2'\n",
       "\\item 'wt\\_3'\n",
       "\\item 'rs62237617\\_1'\n",
       "\\item 'rs62237617\\_2'\n",
       "\\item 'rs62237617\\_3'\n",
       "\\item 'DNMT3A\\_1'\n",
       "\\item 'DNMT3A\\_2'\n",
       "\\item 'DNMT3A\\_3'\n",
       "\\item 'rs62237617\\_DNMT3A\\_1'\n",
       "\\item 'rs62237617\\_DNMT3A\\_2'\n",
       "\\item 'rs62237617\\_DNMT3A\\_3'\n",
       "\\end{enumerate*}\n"
      ],
      "text/markdown": [
       "1. 'wt_1'\n",
       "2. 'wt_2'\n",
       "3. 'wt_3'\n",
       "4. 'rs62237617_1'\n",
       "5. 'rs62237617_2'\n",
       "6. 'rs62237617_3'\n",
       "7. 'DNMT3A_1'\n",
       "8. 'DNMT3A_2'\n",
       "9. 'DNMT3A_3'\n",
       "10. 'rs62237617_DNMT3A_1'\n",
       "11. 'rs62237617_DNMT3A_2'\n",
       "12. 'rs62237617_DNMT3A_3'\n",
       "\n",
       "\n"
      ],
      "text/plain": [
       " [1] \"wt_1\"                \"wt_2\"                \"wt_3\"               \n",
       " [4] \"rs62237617_1\"        \"rs62237617_2\"        \"rs62237617_3\"       \n",
       " [7] \"DNMT3A_1\"            \"DNMT3A_2\"            \"DNMT3A_3\"           \n",
       "[10] \"rs62237617_DNMT3A_1\" \"rs62237617_DNMT3A_2\" \"rs62237617_DNMT3A_3\""
      ]
     },
     "metadata": {},
     "output_type": "display_data"
    },
    {
     "name": "stdout",
     "output_type": "stream",
     "text": [
      "\n"
     ]
    },
    {
     "data": {
      "text/html": [
       "<style>\n",
       ".list-inline {list-style: none; margin:0; padding: 0}\n",
       ".list-inline>li {display: inline-block}\n",
       ".list-inline>li:not(:last-child)::after {content: \"\\00b7\"; padding: 0 .5ex}\n",
       "</style>\n",
       "<ol class=list-inline><li>'hESC'</li><li>'MK'</li></ol>\n"
      ],
      "text/latex": [
       "\\begin{enumerate*}\n",
       "\\item 'hESC'\n",
       "\\item 'MK'\n",
       "\\end{enumerate*}\n"
      ],
      "text/markdown": [
       "1. 'hESC'\n",
       "2. 'MK'\n",
       "\n",
       "\n"
      ],
      "text/plain": [
       "[1] \"hESC\" \"MK\"  "
      ]
     },
     "metadata": {},
     "output_type": "display_data"
    },
    {
     "name": "stdout",
     "output_type": "stream",
     "text": [
      "\n"
     ]
    }
   ],
   "source": [
    "  \n",
    "  annotation_col<- data.frame(matrix(vector(), length(colnames(Peak_count_matrix)), 2,\n",
    "                                     dimnames=list(c(),\n",
    "                                                   c(\"cell_type\",\"clone_line\"))),stringsAsFactors=F)\n",
    "  \n",
    "  row.names(annotation_col)<-colnames(Peak_count_matrix)\n",
    "  \n",
    "  \n",
    "  cat(\"annotation_col_0\\n\")\n",
    "  cat(str(annotation_col))\n",
    "  cat(\"\\n\")\n",
    "  #cat(sprintf(as.character(row.names(annotation_col))))\n",
    "  #cat(\"\\n\")\n",
    "\n",
    "annotation_col$cell_type<-gsub(\"\\\\|.+$\",\"\", row.names(annotation_col))\n",
    "annotation_col$clone_line<-gsub(\"^[^\\\\|]+\\\\|\",\"\", row.names(annotation_col))\n",
    "\n",
    " cat(\"annotation_col_1\\n\")\n",
    "  cat(str(annotation_col))\n",
    "  cat(\"\\n\")\n",
    "\n",
    "annotation_col$Genotype<-NA\n",
    "  \n",
    "  annotation_col$Genotype[which(annotation_col$clone_line%in%c('wt_1','wt_2','wt_3'))]<-'wt'\n",
    "  annotation_col$Genotype[which(annotation_col$clone_line%in%c('rs62237617_1','rs62237617_2','rs62237617_3'))]<-'rs62237617'\n",
    "  annotation_col$Genotype[which(annotation_col$clone_line%in%c('DNMT3A_1','DNMT3A_2','DNMT3A_3'))]<-'DNMT3A'\n",
    "  annotation_col$Genotype[which(annotation_col$clone_line%in%c('rs62237617_DNMT3A_1','rs62237617_DNMT3A_2','rs62237617_DNMT3A_3'))]<-'rs62237617_DNMT3A'\n",
    "\n",
    "\n",
    "cat(\"annotation_col_PRE\\n\")\n",
    "  cat(str(annotation_col))\n",
    "  cat(\"\\n\")\n",
    "names(summary(as.factor(annotation_col$Genotype)))\n",
    "  cat(\"\\n\")\n",
    "names(summary(as.factor(annotation_col$clone_line)))\n",
    "  cat(\"\\n\")\n",
    "names(summary(as.factor(annotation_col$cell_type)))\n",
    "  cat(\"\\n\")\n",
    "\n",
    "annotation_col$Genotype<-factor(annotation_col$Genotype,\n",
    "                                                    levels=levels(adata@meta.data$Genotype),\n",
    "                                                    ordered=T)\n",
    "\n",
    "annotation_col$clone_line<-droplevels(factor(annotation_col$clone_line,\n",
    "                                                    levels=levels(adata@meta.data$clone_line),\n",
    "                                                    ordered=T))\n",
    "\n",
    "annotation_col$cell_type<-droplevels(factor(annotation_col$cell_type,\n",
    "                                                    levels=levels(adata@meta.data$refined_annotation_majority_vote),\n",
    "                                                    ordered=T))\n",
    "\n",
    "cat(\"annotation_col_POST\\n\")\n",
    "  cat(str(annotation_col))\n",
    "  cat(\"\\n\")\n",
    "names(summary(as.factor(annotation_col$Genotype)))\n",
    "  cat(\"\\n\")\n",
    "names(summary(as.factor(annotation_col$clone_line)))\n",
    "  cat(\"\\n\")\n",
    "names(summary(as.factor(annotation_col$cell_type)))\n",
    "  cat(\"\\n\")"
   ]
  },
  {
   "cell_type": "markdown",
   "id": "d96be3d4-87d4-4adc-bd47-eaa260ab8f45",
   "metadata": {},
   "source": [
    "## Annotation of colors"
   ]
  },
  {
   "cell_type": "code",
   "execution_count": 125,
   "id": "d5e8b085-9d4a-45db-b29a-ce9cd88e0f79",
   "metadata": {
    "execution": {
     "iopub.execute_input": "2025-03-06T09:47:51.995591Z",
     "iopub.status.busy": "2025-03-06T09:47:51.994644Z",
     "iopub.status.idle": "2025-03-06T09:47:52.007943Z",
     "shell.execute_reply": "2025-03-06T09:47:52.006814Z"
    }
   },
   "outputs": [
    {
     "name": "stdout",
     "output_type": "stream",
     "text": [
      "List of 3\n",
      " $ clone_line: Named chr [1:12] \"#74C476\" \"#41AB5D\" \"#238B45\" \"#FB6A4A\" ...\n",
      "  ..- attr(*, \"names\")= chr [1:12] \"wt_1\" \"wt_2\" \"wt_3\" \"rs62237617_1\" ...\n",
      " $ Genotype  : Named chr [1:4] \"#74C476\" \"#FB6A4A\" \"#9E9AC8\" \"#C6DBEF\"\n",
      "  ..- attr(*, \"names\")= chr [1:4] \"wt\" \"rs62237617\" \"DNMT3A\" \"rs62237617_DNMT3A\"\n",
      " $ cell_type : Named chr [1:2] \"#1B9E77\" \"#D95F02\"\n",
      "  ..- attr(*, \"names\")= chr [1:2] \"hESC\" \"MK\"\n"
     ]
    }
   ],
   "source": [
    " \n",
    "ann_colors <- list( clone_line = c('wt_1' = brewer.pal(9, \"Greens\")[c(5)],\n",
    "                                  'wt_2' = brewer.pal(9, \"Greens\")[c(6)],\n",
    "                                  'wt_3' = brewer.pal(9, \"Greens\")[c(7)],\n",
    "                                   'rs62237617_1' = brewer.pal(9, \"Reds\")[c(5)],\n",
    "                                    'rs62237617_2' = brewer.pal(9, \"Reds\")[c(6)],\n",
    "                                   'rs62237617_3' = brewer.pal(9, \"Reds\")[c(7)],\n",
    "                                   'DNMT3A_1' = brewer.pal(9, \"Purples\")[c(5)],\n",
    "                                   'DNMT3A_2' = brewer.pal(9, \"Purples\")[c(6)],\n",
    "                                   'DNMT3A_3' = brewer.pal(9, \"Purples\")[c(7)],\n",
    "                                   'rs62237617_DNMT3A_1' = brewer.pal(9, \"Blues\")[c(3)],\n",
    "                                    'rs62237617_DNMT3A_2' = brewer.pal(9, \"Blues\")[c(4)],\n",
    "                                   'rs62237617_DNMT3A_3' = brewer.pal(9, \"Blues\")[c(5)]),\n",
    "                   Genotype = c('wt' = brewer.pal(9, \"Greens\")[c(5)],\n",
    "                                                    'rs62237617' = brewer.pal(9, \"Reds\")[c(5)],\n",
    "                                                    'DNMT3A' = brewer.pal(9, \"Purples\")[c(5)],\n",
    "                                                    'rs62237617_DNMT3A' = brewer.pal(9, \"Blues\")[c(3)]),\n",
    "                   cell_type = c('hESC' = brewer.pal(6, \"Dark2\")[c(1)],\n",
    "                                 'MK' = brewer.pal(6, \"Dark2\")[c(2)])                 \n",
    "                                   \n",
    "                  )\n",
    "\n",
    "\n",
    "str(ann_colors)"
   ]
  },
  {
   "cell_type": "markdown",
   "id": "3b175120-63f0-47a3-9e54-70d7e0ce4ad8",
   "metadata": {},
   "source": [
    "## graph"
   ]
  },
  {
   "cell_type": "code",
   "execution_count": 126,
   "id": "bceb0edf-a246-4664-8441-59e90ff56369",
   "metadata": {
    "execution": {
     "iopub.execute_input": "2025-03-06T09:47:52.941197Z",
     "iopub.status.busy": "2025-03-06T09:47:52.940216Z",
     "iopub.status.idle": "2025-03-06T09:47:53.409724Z",
     "shell.execute_reply": "2025-03-06T09:47:53.408369Z"
    }
   },
   "outputs": [
    {
     "data": {
      "image/png": "[encoded data removed]",
      "text/plain": [
       "plot without title"
      ]
     },
     "metadata": {
      "image/png": {
       "height": 420,
       "width": 420
      }
     },
     "output_type": "display_data"
    }
   ],
   "source": [
    "heatmap<-pheatmap(Peak_count_matrix, display_numbers = FALSE, number_format = \"%.1e\",\n",
    "                    show_colnames=FALSE,\n",
    "                      show_rownames=FALSE,\n",
    "                    angle_col = \"45\",\n",
    "                    clustering_method=\"ward.D2\",\n",
    "                    fontsize_row = 8, \n",
    "                    fontsize_col = 8,\n",
    "                    breaks=seq(-2,2,length.out=101),\n",
    "                    color=colorRampPalette(c(\"blue\",\"white\",\"red\"))(100),\n",
    "                    scale=\"row\",\n",
    "                    cluster_cols=TRUE,\n",
    "                    border_color='black',\n",
    "                    treeheight_row=70, treeheight_col=70, cutree_cols=7,\n",
    "                  annotation_col = annotation_col,\n",
    "                  annotation_colors = ann_colors)"
   ]
  },
  {
   "cell_type": "code",
   "execution_count": 127,
   "id": "6e6f68d4-f6a8-427d-adab-6a53cb315944",
   "metadata": {
    "execution": {
     "iopub.execute_input": "2025-03-06T09:48:13.369190Z",
     "iopub.status.busy": "2025-03-06T09:48:13.367953Z",
     "iopub.status.idle": "2025-03-06T09:48:13.548101Z",
     "shell.execute_reply": "2025-03-06T09:48:13.546777Z"
    }
   },
   "outputs": [],
   "source": [
    "setwd(\"/group/soranzo/manuel.tardaguila/2025_hESC_MK_multiome/Downstream_analysis_cluster_after_genotyping/graphs_explore_subclustering/\")\n",
    "\n",
    "\n",
    "svgname<-paste(paste(\"Heatmap_sanity_check\",paste(cell_type_sel, collapse=\"_vs_\"), sep='_'),\".svg\",sep='')\n",
    "\n",
    "\n",
    "ggsave(svgname,plot=heatmap, device ='svg', height =13, width =13)\n"
   ]
  },
  {
   "cell_type": "code",
   "execution_count": null,
   "id": "16684d1b-d3e1-42ca-a085-ff76dc5ca791",
   "metadata": {},
   "outputs": [],
   "source": []
  }
 ],
 "metadata": {
  "kernelspec": {
   "display_name": "R [conda env:multiome_NEW_downstream_analysis]",
   "language": "R",
   "name": "conda-env-multiome_NEW_downstream_analysis-r"
  },
  "language_info": {
   "codemirror_mode": "r",
   "file_extension": ".r",
   "mimetype": "text/x-r-source",
   "name": "R",
   "pygments_lexer": "r",
   "version": "4.3.1"
  }
 },
 "nbformat": 4,
 "nbformat_minor": 5
}
