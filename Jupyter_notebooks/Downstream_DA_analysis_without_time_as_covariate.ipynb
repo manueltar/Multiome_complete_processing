{
 "cells": [
  {
   "cell_type": "markdown",
   "id": "6aa90505-d963-4f35-be51-e57a2b285ffa",
   "metadata": {},
   "source": [
    "# Load packages and libraries"
   ]
  },
  {
   "cell_type": "code",
   "execution_count": 1,
   "id": "abcc97a1-28a1-4588-939d-0adc2b54439d",
   "metadata": {
    "execution": {
     "iopub.execute_input": "2025-02-07T10:42:23.528826Z",
     "iopub.status.busy": "2025-02-07T10:42:23.526201Z",
     "iopub.status.idle": "2025-02-07T10:43:24.137630Z",
     "shell.execute_reply": "2025-02-07T10:43:24.136231Z"
    },
    "vscode": {
     "languageId": "r"
    }
   },
   "outputs": [
    {
     "data": {
      "text/html": [
       "<style>\n",
       ".list-inline {list-style: none; margin:0; padding: 0}\n",
       ".list-inline>li {display: inline-block}\n",
       ".list-inline>li:not(:last-child)::after {content: \"\\00b7\"; padding: 0 .5ex}\n",
       "</style>\n",
       "<ol class=list-inline><li>'/home/manuel.tardaguila/R/x86_64-conda-linux-gnu-library/4.3'</li><li>'/home/manuel.tardaguila/conda_envs/multiome_QC/lib/R/library'</li></ol>\n"
      ],
      "text/latex": [
       "\\begin{enumerate*}\n",
       "\\item '/home/manuel.tardaguila/R/x86\\_64-conda-linux-gnu-library/4.3'\n",
       "\\item '/home/manuel.tardaguila/conda\\_envs/multiome\\_QC/lib/R/library'\n",
       "\\end{enumerate*}\n"
      ],
      "text/markdown": [
       "1. '/home/manuel.tardaguila/R/x86_64-conda-linux-gnu-library/4.3'\n",
       "2. '/home/manuel.tardaguila/conda_envs/multiome_QC/lib/R/library'\n",
       "\n",
       "\n"
      ],
      "text/plain": [
       "[1] \"/home/manuel.tardaguila/R/x86_64-conda-linux-gnu-library/4.3\"\n",
       "[2] \"/home/manuel.tardaguila/conda_envs/multiome_QC/lib/R/library\""
      ]
     },
     "metadata": {},
     "output_type": "display_data"
    },
    {
     "data": {
      "text/html": [
       "<style>\n",
       ".list-inline {list-style: none; margin:0; padding: 0}\n",
       ".list-inline>li {display: inline-block}\n",
       ".list-inline>li:not(:last-child)::after {content: \"\\00b7\"; padding: 0 .5ex}\n",
       "</style>\n",
       "<ol class=list-inline><li>'/home/manuel.tardaguila/conda_envs/multiome_NEW_downstream_analysis/lib/R/library'</li><li>'/home/manuel.tardaguila/conda_envs/multiome_QC/lib/R/library'</li></ol>\n"
      ],
      "text/latex": [
       "\\begin{enumerate*}\n",
       "\\item '/home/manuel.tardaguila/conda\\_envs/multiome\\_NEW\\_downstream\\_analysis/lib/R/library'\n",
       "\\item '/home/manuel.tardaguila/conda\\_envs/multiome\\_QC/lib/R/library'\n",
       "\\end{enumerate*}\n"
      ],
      "text/markdown": [
       "1. '/home/manuel.tardaguila/conda_envs/multiome_NEW_downstream_analysis/lib/R/library'\n",
       "2. '/home/manuel.tardaguila/conda_envs/multiome_QC/lib/R/library'\n",
       "\n",
       "\n"
      ],
      "text/plain": [
       "[1] \"/home/manuel.tardaguila/conda_envs/multiome_NEW_downstream_analysis/lib/R/library\"\n",
       "[2] \"/home/manuel.tardaguila/conda_envs/multiome_QC/lib/R/library\"                     "
      ]
     },
     "metadata": {},
     "output_type": "display_data"
    },
    {
     "name": "stderr",
     "output_type": "stream",
     "text": [
      "Warning message:\n",
      "“package ‘Seurat’ was built under R version 4.3.2”\n",
      "Warning message:\n",
      "“package ‘SeuratObject’ was built under R version 4.3.3”\n",
      "Warning message:\n",
      "“package ‘Signac’ was built under R version 4.3.2”\n",
      "Warning message:\n",
      "“package ‘BiocGenerics’ was built under R version 4.3.2”\n",
      "Warning message:\n",
      "“package ‘GenomicRanges’ was built under R version 4.3.2”\n",
      "Warning message:\n",
      "“package ‘S4Vectors’ was built under R version 4.3.2”\n",
      "Warning message:\n",
      "“package ‘IRanges’ was built under R version 4.3.2”\n",
      "Warning message:\n",
      "“package ‘GenomeInfoDb’ was built under R version 4.3.2”\n",
      "Warning message:\n",
      "“package ‘Biobase’ was built under R version 4.3.2”\n",
      "Warning message:\n",
      "\"package 'Matrix' was built under R version 4.3.3\"\n",
      "Warning message:\n",
      "\"package 'qlcMatrix' was built under R version 4.3.3\"\n",
      "Warning message:\n",
      "\"package 'slam' was built under R version 4.3.3\"\n",
      "Warning message:\n",
      "\"package 'sparsesvd' was built under R version 4.3.3\"\n",
      "Warning message:\n",
      "\"package 'ggeasy' was built under R version 4.3.3\"\n",
      "Warning message:\n",
      "\"package 'svglite' was built under R version 4.3.3\"\n",
      "Warning message:\n",
      "\"package 'ape' was built under R version 4.3.3\"\n",
      "Warning message:\n",
      "\"package 'ggforce' was built under R version 4.3.3\"\n",
      "Warning message:\n",
      "\"package 'edgeR' was built under R version 4.3.3\"\n",
      "Warning message:\n",
      "\"package 'limma' was built under R version 4.3.3\"\n",
      "Warning message:\n",
      "\"package 'apeglm' was built under R version 4.3.3\"\n",
      "Warning message:\n",
      "\"package 'DESeq2' was built under R version 4.3.2\"\n",
      "Warning message:\n",
      "\"package 'SummarizedExperiment' was built under R version 4.3.2\"\n",
      "Warning message:\n",
      "\"package 'MatrixGenerics' was built under R version 4.3.2\"\n",
      "Warning message:\n",
      "\"package 'BSgenome' was built under R version 4.3.2\"\n",
      "Warning message:\n",
      "\"package 'Biostrings' was built under R version 4.3.2\"\n",
      "Warning message:\n",
      "\"package 'XVector' was built under R version 4.3.2\"\n",
      "Warning message:\n",
      "\"package 'BiocIO' was built under R version 4.3.2\"\n",
      "Warning message:\n",
      "\"package 'rtracklayer' was built under R version 4.3.3\"\n"
     ]
    }
   ],
   "source": [
    ".libPaths()\n",
    ".libPaths(new = c(\"/home/manuel.tardaguila/conda_envs/multiome_NEW_downstream_analysis/lib/R/library\"))\n",
    ".libPaths()\n",
    "# sessionInfo()\n",
    "Sys.setenv(RETICULATE_PYTHON=\"/home/manuel.tardaguila/conda_envs/multiome_NEW_downstream_analysis/bin/python\")\n",
    "\n",
    "suppressMessages(library(Seurat))\n",
    "suppressMessages(library(Signac))\n",
    " suppressMessages(library(EnsDb.Hsapiens.v86)) \n",
    "suppressMessages(library(dplyr)) \n",
    "suppressMessages(library(ggplot2)) \n",
    "suppressMessages(library(Matrix)) \n",
    "suppressMessages(library(data.table)) \n",
    "suppressMessages(library(ggpubr)) \n",
    "suppressMessages(library(ggplot2))\n",
    "suppressMessages(library(pheatmap))\n",
    "suppressMessages(library(presto))\n",
    "suppressMessages(library(\"qlcMatrix\"))\n",
    "suppressMessages(library(\"cowplot\"))\n",
    "suppressMessages(library(\"RColorBrewer\"))\n",
    "suppressMessages(library(\"plyr\"))\n",
    "suppressMessages(library(\"forcats\"))\n",
    "suppressMessages(library('ggeasy'))\n",
    "suppressMessages(library('dplyr'))\n",
    "suppressMessages(library(\"svglite\"))\n",
    "suppressMessages(library(\"ape\"))\n",
    "suppressMessages(library(\"ggforce\"))\n",
    "suppressMessages(library(\"tidyr\"))\n",
    "suppressMessages(library(\"edgeR\"))\n",
    "suppressMessages(library(\"apeglm\"))\n",
    "suppressMessages(library(\"DESeq2\"))\n",
    "suppressMessages(library(\"tibble\"))\n",
    "\n",
    "suppressMessages(library(BSgenome.Hsapiens.NCBI.GRCh38))\n",
    "suppressMessages(library(BSgenome.Hsapiens.UCSC.hg38))\n"
   ]
  },
  {
   "cell_type": "code",
   "execution_count": 2,
   "id": "51e59a40-5f6c-4b44-965e-d63e8497a7a5",
   "metadata": {
    "execution": {
     "iopub.execute_input": "2025-02-07T10:43:24.160445Z",
     "iopub.status.busy": "2025-02-07T10:43:24.139521Z",
     "iopub.status.idle": "2025-02-07T10:43:24.169026Z",
     "shell.execute_reply": "2025-02-07T10:43:24.167822Z"
    }
   },
   "outputs": [],
   "source": [
    "#sessionInfo()"
   ]
  },
  {
   "cell_type": "markdown",
   "id": "2fde3c4f-09d2-4108-b589-cb4d0808fb2a",
   "metadata": {},
   "source": [
    "# Checkpoint after integrative genotyping"
   ]
  },
  {
   "cell_type": "code",
   "execution_count": 3,
   "id": "2d776103-3535-41b6-a315-4c71270849cb",
   "metadata": {
    "execution": {
     "iopub.execute_input": "2025-02-07T10:43:24.171802Z",
     "iopub.status.busy": "2025-02-07T10:43:24.170879Z",
     "iopub.status.idle": "2025-02-07T10:45:01.709129Z",
     "shell.execute_reply": "2025-02-07T10:45:01.707668Z"
    }
   },
   "outputs": [
    {
     "data": {
      "text/plain": [
       "An object of class Seurat \n",
       "445320 features across 37504 samples within 4 assays \n",
       "Active assay: SCT (31512 features, 3000 variable features)\n",
       " 3 layers present: counts, data, scale.data\n",
       " 3 other assays present: RNA, RNA_raw, ATAC\n",
       " 7 dimensional reductions calculated: pca, umap.rna, lsi, umap.atac, umap.wnn, harmony.rna, harmony.atac"
      ]
     },
     "metadata": {},
     "output_type": "display_data"
    }
   ],
   "source": [
    "setwd(\"/group/soranzo/manuel.tardaguila/2025_hESC_MK_multiome/processing_outputs/\")\n",
    "\n",
    "adata<-readRDS(file=\"merged_processed_presentation_updated_integrative_genotyping.rds\")\n",
    "\n",
    "adata"
   ]
  },
  {
   "cell_type": "code",
   "execution_count": 4,
   "id": "e7c6f600-eed0-465f-aa28-210e31edc9dd",
   "metadata": {
    "execution": {
     "iopub.execute_input": "2025-02-07T10:45:01.712658Z",
     "iopub.status.busy": "2025-02-07T10:45:01.711541Z",
     "iopub.status.idle": "2025-02-07T10:45:01.723079Z",
     "shell.execute_reply": "2025-02-07T10:45:01.721785Z"
    }
   },
   "outputs": [],
   "source": [
    "#colnames(adata@meta.data)"
   ]
  },
  {
   "cell_type": "markdown",
   "id": "a45eb2f4-fb74-4d7a-8e1e-767d38bdb76f",
   "metadata": {},
   "source": [
    "# Create a genotype factor"
   ]
  },
  {
   "cell_type": "code",
   "execution_count": 5,
   "id": "c5cca29a-0338-45c4-834d-1310b603354c",
   "metadata": {
    "execution": {
     "iopub.execute_input": "2025-02-07T10:45:01.726314Z",
     "iopub.status.busy": "2025-02-07T10:45:01.725231Z",
     "iopub.status.idle": "2025-02-07T10:45:01.772777Z",
     "shell.execute_reply": "2025-02-07T10:45:01.771428Z"
    }
   },
   "outputs": [
    {
     "data": {
      "text/html": [
       "<style>\n",
       ".dl-inline {width: auto; margin:0; padding: 0}\n",
       ".dl-inline>dt, .dl-inline>dd {float: none; width: auto; display: inline-block}\n",
       ".dl-inline>dt::after {content: \":\\0020\"; padding-right: .5ex}\n",
       ".dl-inline>dt:not(:first-of-type) {padding-left: .5ex}\n",
       "</style><dl class=dl-inline><dt>chrGFP_WTA</dt><dd>130</dd><dt>chrGFP_WTB</dt><dd>226</dd><dt>chrGFP_WTC</dt><dd>305</dd><dt>chrGFP_rs1</dt><dd>872</dd><dt>chrGFP_rs2</dt><dd>776</dd><dt>chrGFP_rs3</dt><dd>7996</dd><dt>chrGFP_R882H1</dt><dd>1101</dd><dt>chrGFP_R882H2</dt><dd>123</dd><dt>chrGFP_R882H3</dt><dd>2355</dd><dt>chrGFP_rs_R882H1</dt><dd>1381</dd><dt>chrGFP_rs_R882H2</dt><dd>706</dd><dt>chrGFP_rs_R882H3</dt><dd>864</dd><dt>Doublet</dt><dd>10781</dd><dt>Negative</dt><dd>9888</dd></dl>\n"
      ],
      "text/latex": [
       "\\begin{description*}\n",
       "\\item[chrGFP\\textbackslash{}\\_WTA] 130\n",
       "\\item[chrGFP\\textbackslash{}\\_WTB] 226\n",
       "\\item[chrGFP\\textbackslash{}\\_WTC] 305\n",
       "\\item[chrGFP\\textbackslash{}\\_rs1] 872\n",
       "\\item[chrGFP\\textbackslash{}\\_rs2] 776\n",
       "\\item[chrGFP\\textbackslash{}\\_rs3] 7996\n",
       "\\item[chrGFP\\textbackslash{}\\_R882H1] 1101\n",
       "\\item[chrGFP\\textbackslash{}\\_R882H2] 123\n",
       "\\item[chrGFP\\textbackslash{}\\_R882H3] 2355\n",
       "\\item[chrGFP\\textbackslash{}\\_rs\\textbackslash{}\\_R882H1] 1381\n",
       "\\item[chrGFP\\textbackslash{}\\_rs\\textbackslash{}\\_R882H2] 706\n",
       "\\item[chrGFP\\textbackslash{}\\_rs\\textbackslash{}\\_R882H3] 864\n",
       "\\item[Doublet] 10781\n",
       "\\item[Negative] 9888\n",
       "\\end{description*}\n"
      ],
      "text/markdown": [
       "chrGFP_WTA\n",
       ":   130chrGFP_WTB\n",
       ":   226chrGFP_WTC\n",
       ":   305chrGFP_rs1\n",
       ":   872chrGFP_rs2\n",
       ":   776chrGFP_rs3\n",
       ":   7996chrGFP_R882H1\n",
       ":   1101chrGFP_R882H2\n",
       ":   123chrGFP_R882H3\n",
       ":   2355chrGFP_rs_R882H1\n",
       ":   1381chrGFP_rs_R882H2\n",
       ":   706chrGFP_rs_R882H3\n",
       ":   864Doublet\n",
       ":   10781Negative\n",
       ":   9888\n",
       "\n"
      ],
      "text/plain": [
       "      chrGFP_WTA       chrGFP_WTB       chrGFP_WTC       chrGFP_rs1 \n",
       "             130              226              305              872 \n",
       "      chrGFP_rs2       chrGFP_rs3    chrGFP_R882H1    chrGFP_R882H2 \n",
       "             776             7996             1101              123 \n",
       "   chrGFP_R882H3 chrGFP_rs_R882H1 chrGFP_rs_R882H2 chrGFP_rs_R882H3 \n",
       "            2355             1381              706              864 \n",
       "         Doublet         Negative \n",
       "           10781             9888 "
      ]
     },
     "metadata": {},
     "output_type": "display_data"
    },
    {
     "data": {
      "text/html": [
       "<style>\n",
       ".dl-inline {width: auto; margin:0; padding: 0}\n",
       ".dl-inline>dt, .dl-inline>dd {float: none; width: auto; display: inline-block}\n",
       ".dl-inline>dt::after {content: \":\\0020\"; padding-right: .5ex}\n",
       ".dl-inline>dt:not(:first-of-type) {padding-left: .5ex}\n",
       "</style><dl class=dl-inline><dt>CHEK2 T/T</dt><dd>9644</dd><dt>DNMT3A R882H</dt><dd>3579</dd><dt>Double mutants</dt><dd>2951</dd><dt>wt</dt><dd>661</dd><dt>NA's</dt><dd>20669</dd></dl>\n"
      ],
      "text/latex": [
       "\\begin{description*}\n",
       "\\item[CHEK2 T/T] 9644\n",
       "\\item[DNMT3A R882H] 3579\n",
       "\\item[Double mutants] 2951\n",
       "\\item[wt] 661\n",
       "\\item[NA's] 20669\n",
       "\\end{description*}\n"
      ],
      "text/markdown": [
       "CHEK2 T/T\n",
       ":   9644DNMT3A R882H\n",
       ":   3579Double mutants\n",
       ":   2951wt\n",
       ":   661NA's\n",
       ":   20669\n",
       "\n"
      ],
      "text/plain": [
       "     CHEK2 T/T   DNMT3A R882H Double mutants             wt           NA's \n",
       "          9644           3579           2951            661          20669 "
      ]
     },
     "metadata": {},
     "output_type": "display_data"
    },
    {
     "data": {
      "text/html": [
       "<style>\n",
       ".dl-inline {width: auto; margin:0; padding: 0}\n",
       ".dl-inline>dt, .dl-inline>dd {float: none; width: auto; display: inline-block}\n",
       ".dl-inline>dt::after {content: \":\\0020\"; padding-right: .5ex}\n",
       ".dl-inline>dt:not(:first-of-type) {padding-left: .5ex}\n",
       "</style><dl class=dl-inline><dt>wt</dt><dd>661</dd><dt>CHEK2 T/T</dt><dd>9644</dd><dt>DNMT3A R882H</dt><dd>3579</dd><dt>Double mutants</dt><dd>2951</dd><dt>NA's</dt><dd>20669</dd></dl>\n"
      ],
      "text/latex": [
       "\\begin{description*}\n",
       "\\item[wt] 661\n",
       "\\item[CHEK2 T/T] 9644\n",
       "\\item[DNMT3A R882H] 3579\n",
       "\\item[Double mutants] 2951\n",
       "\\item[NA's] 20669\n",
       "\\end{description*}\n"
      ],
      "text/markdown": [
       "wt\n",
       ":   661CHEK2 T/T\n",
       ":   9644DNMT3A R882H\n",
       ":   3579Double mutants\n",
       ":   2951NA's\n",
       ":   20669\n",
       "\n"
      ],
      "text/plain": [
       "            wt      CHEK2 T/T   DNMT3A R882H Double mutants           NA's \n",
       "           661           9644           3579           2951          20669 "
      ]
     },
     "metadata": {},
     "output_type": "display_data"
    }
   ],
   "source": [
    "\n",
    "summary(adata@meta.data$Assigned_GFPbc_integral)\n",
    "\n",
    "adata@meta.data$Assigned_GFPgenotype_integral<-NA\n",
    "\n",
    "adata@meta.data$Assigned_GFPgenotype_integral[which(adata@meta.data$Assigned_GFPbc_integral%in%c('chrGFP_WTA','chrGFP_WTB','chrGFP_WTC'))]<-'wt'\n",
    "adata@meta.data$Assigned_GFPgenotype_integral[which(adata@meta.data$Assigned_GFPbc_integral%in%c('chrGFP_rs1','chrGFP_rs2','chrGFP_rs3'))]<-'CHEK2 T/T'\n",
    "adata@meta.data$Assigned_GFPgenotype_integral[which(adata@meta.data$Assigned_GFPbc_integral%in%c('chrGFP_R882H1','chrGFP_R882H2','chrGFP_R882H3'))]<-'DNMT3A R882H'\n",
    "adata@meta.data$Assigned_GFPgenotype_integral[which(adata@meta.data$Assigned_GFPbc_integral%in%c('chrGFP_rs_R882H1','chrGFP_rs_R882H2','chrGFP_rs_R882H3'))]<-'Double mutants'\n",
    "\n",
    "\n",
    "summary(as.factor(adata@meta.data$Assigned_GFPgenotype_integral))\n",
    "\n",
    "\n",
    "adata@meta.data$Assigned_GFPgenotype_integral<-factor(adata@meta.data$Assigned_GFPgenotype_integral,\n",
    "                                                     levels=c('wt','CHEK2 T/T','DNMT3A R882H','Double mutants'),\n",
    "                                                     ordered=T)\n",
    "\n",
    "\n",
    "summary(adata@meta.data$Assigned_GFPgenotype_integral)\n",
    "\n"
   ]
  },
  {
   "cell_type": "markdown",
   "id": "50a18d9e-0a74-44ea-aa73-cbb8d8814e26",
   "metadata": {},
   "source": [
    "# Subset my object for cells with genotype assigned"
   ]
  },
  {
   "cell_type": "code",
   "execution_count": 6,
   "id": "ae25597e-a7ba-4e9a-acc6-90b35eff7885",
   "metadata": {
    "execution": {
     "iopub.execute_input": "2025-02-07T10:45:01.776031Z",
     "iopub.status.busy": "2025-02-07T10:45:01.774909Z",
     "iopub.status.idle": "2025-02-07T10:45:13.886786Z",
     "shell.execute_reply": "2025-02-07T10:45:13.885637Z"
    }
   },
   "outputs": [
    {
     "name": "stderr",
     "output_type": "stream",
     "text": [
      "Warning message:\n",
      "\"Removing 20669 cells missing data for vars requested\"\n"
     ]
    },
    {
     "data": {
      "text/plain": [
       "An object of class Seurat \n",
       "445320 features across 16835 samples within 4 assays \n",
       "Active assay: SCT (31512 features, 3000 variable features)\n",
       " 3 layers present: counts, data, scale.data\n",
       " 3 other assays present: RNA, RNA_raw, ATAC\n",
       " 7 dimensional reductions calculated: pca, umap.rna, lsi, umap.atac, umap.wnn, harmony.rna, harmony.atac"
      ]
     },
     "metadata": {},
     "output_type": "display_data"
    }
   ],
   "source": [
    "adata_geno<-subset(adata, Assigned_GFPgenotype_integral != \"NA\")\n",
    "\n",
    "adata_geno"
   ]
  },
  {
   "cell_type": "markdown",
   "id": "c4142dc3-46fc-4bdd-bd2e-93d229613d6c",
   "metadata": {},
   "source": [
    "# Create a variable to correct for clone line"
   ]
  },
  {
   "cell_type": "code",
   "execution_count": 7,
   "id": "73fe3035-7a6f-40c8-9eaf-c876fc8139bf",
   "metadata": {
    "execution": {
     "iopub.execute_input": "2025-02-07T10:45:13.889511Z",
     "iopub.status.busy": "2025-02-07T10:45:13.888584Z",
     "iopub.status.idle": "2025-02-07T10:45:13.916140Z",
     "shell.execute_reply": "2025-02-07T10:45:13.915043Z"
    }
   },
   "outputs": [
    {
     "name": "stdout",
     "output_type": "stream",
     "text": [
      "chrGFP_WTA chrGFP_WTB chrGFP_WTC chrGFP_rs1 chrGFP_rs2 chrGFP_rs3 chrGFP_R882H1 chrGFP_R882H2 chrGFP_R882H3 chrGFP_rs_R882H1 chrGFP_rs_R882H2 chrGFP_rs_R882H3 Doublet Negative\n",
      "130 226 305 872 776 7996 1101 123 2355 1381 706 864 0 0\n"
     ]
    }
   ],
   "source": [
    " adata_geno$sample_id<-adata_geno$Assigned_GFPbc_integral\n",
    "  \n",
    "  cat(sprintf(as.character(names(summary(adata_geno$sample_id)))))\n",
    "  cat(\"\\n\")\n",
    "  cat(sprintf(as.character(summary(adata_geno$sample_id))))\n",
    "  cat(\"\\n\")"
   ]
  },
  {
   "cell_type": "markdown",
   "id": "29de9e18-d38d-487f-af1f-7baf7d06b4ed",
   "metadata": {},
   "source": [
    "# Read DE genes"
   ]
  },
  {
   "cell_type": "code",
   "execution_count": 8,
   "id": "05b7eb21-9199-42b6-8bbf-87f14c86557d",
   "metadata": {
    "execution": {
     "iopub.execute_input": "2025-02-07T10:45:13.918857Z",
     "iopub.status.busy": "2025-02-07T10:45:13.917945Z",
     "iopub.status.idle": "2025-02-07T10:45:22.180635Z",
     "shell.execute_reply": "2025-02-07T10:45:22.179465Z"
    }
   },
   "outputs": [
    {
     "name": "stdout",
     "output_type": "stream",
     "text": [
      "'data.frame':\t658818 obs. of  8 variables:\n",
      " $ gene          : chr  \"DACH1\" \"CYTIP\" \"TANC1\" \"ROBO1\" ...\n",
      " $ baseMean      : num  292.8 29.9 92.8 97.7 111.2 ...\n",
      " $ log2FoldChange: num  -0.60416 -0.00375 -0.79762 -0.81306 -0.00554 ...\n",
      " $ lfcSE         : num  0.1771 0.0248 0.2968 0.2864 0.0253 ...\n",
      " $ pvalue        : num  2.25e-05 1.59e-04 1.79e-04 1.74e-04 8.20e-05 ...\n",
      " $ padj          : num  0.665 0.753 0.753 0.753 0.753 ...\n",
      " $ contrast      : chr  \"Genotype_Double.mutants_vs_wt\" \"Genotype_Double.mutants_vs_wt\" \"Genotype_Double.mutants_vs_wt\" \"Genotype_Double.mutants_vs_wt\" ...\n",
      " $ cell_type     : chr  \"MK\" \"MK\" \"MK\" \"MK\" ...\n",
      "\n",
      "'data.frame':\t2598671 obs. of  4 variables:\n",
      " $ Symbol        : chr  \"MIR1302-2HG\" \"FAM138A\" \"OR4F5\" \"AL627309.1\" ...\n",
      " $ count         : num  0 0 0 3.5 0 ...\n",
      " $ GFPbc_integral: chr  \"chrGFP_R882H1\" \"chrGFP_R882H1\" \"chrGFP_R882H1\" \"chrGFP_R882H1\" ...\n",
      " $ current_anot  : chr  \"MK\" \"MK\" \"MK\" \"MK\" ...\n",
      "\n",
      "'data.frame':\t780 obs. of  8 variables:\n",
      " $ gene          : chr  \"PCDH11X\" \"DACH1\" \"SFRP1\" \"RPL19\" ...\n",
      " $ baseMean      : num  3.14 292.78 22.73 202.96 48.37 ...\n",
      " $ log2FoldChange: num  -0.000602 -0.678629 -0.002084 1.504969 2.364305 ...\n",
      " $ lfcSE         : num  0.0126 0.1622 0.0128 0.2503 0.4309 ...\n",
      " $ pvalue        : num  1.60e-07 1.05e-06 4.69e-06 2.58e-10 8.60e-09 ...\n",
      " $ padj          : num  4.72e-03 1.55e-02 4.61e-02 5.70e-07 9.49e-06 ...\n",
      " $ contrast      : chr  \"Genotype_CHEK2.T.T_vs_wt\" \"Genotype_CHEK2.T.T_vs_wt\" \"Genotype_CHEK2.T.T_vs_wt\" \"Genotype_CHEK2.T.T_vs_wt\" ...\n",
      " $ cell_type     : chr  \"MK\" \"MK\" \"MK\" \"early MK\" ...\n",
      "\n"
     ]
    }
   ],
   "source": [
    "setwd(\"/group/soranzo/manuel.tardaguila/2025_hESC_MK_multiome/Downstream_analysis/\")\n",
    "\n",
    "Global_results<-as.data.frame(read.table(file=\"DE_results_without_time_as_a_covariate_NEW_METHOD.tsv\", sep=\"\\t\", header=T), stringsAsFactors=F)\n",
    "\n",
    "str(Global_results)\n",
    "cat(\"\\n\")\n",
    "\n",
    "Global_normalized<-as.data.frame(read.table(file=\"Normalized_gene_counts_NEW_METHOD.tsv\", sep=\"\\t\", header=T), stringsAsFactors=F)\n",
    "\n",
    "str(Global_normalized)\n",
    "cat(\"\\n\")\n",
    "\n",
    "SIG<-as.data.frame(read.table(file=\"DE_results_without_time_as_a_covariate_NEW_METHOD_only_padj_less_0.05.tsv\", sep=\"\\t\", header=T), stringsAsFactors=F)\n",
    "\n",
    "str(SIG)\n",
    "cat(\"\\n\")"
   ]
  },
  {
   "cell_type": "code",
   "execution_count": 9,
   "id": "8bcde859-343f-4cf2-a6db-0651bed2ee9c",
   "metadata": {
    "execution": {
     "iopub.execute_input": "2025-02-07T10:45:22.183437Z",
     "iopub.status.busy": "2025-02-07T10:45:22.182486Z",
     "iopub.status.idle": "2025-02-07T10:45:22.197843Z",
     "shell.execute_reply": "2025-02-07T10:45:22.196718Z"
    }
   },
   "outputs": [
    {
     "data": {
      "text/plain": [
       "An object of class Seurat \n",
       "445320 features across 16835 samples within 4 assays \n",
       "Active assay: SCT (31512 features, 3000 variable features)\n",
       " 3 layers present: counts, data, scale.data\n",
       " 3 other assays present: RNA, RNA_raw, ATAC\n",
       " 7 dimensional reductions calculated: pca, umap.rna, lsi, umap.atac, umap.wnn, harmony.rna, harmony.atac"
      ]
     },
     "metadata": {},
     "output_type": "display_data"
    }
   ],
   "source": [
    "adata_geno"
   ]
  },
  {
   "cell_type": "code",
   "execution_count": 10,
   "id": "e9011ffa-7ad8-4f35-97e9-79847fb801be",
   "metadata": {
    "execution": {
     "iopub.execute_input": "2025-02-06T17:07:06.637793Z",
     "iopub.status.busy": "2025-02-06T17:07:06.636886Z",
     "iopub.status.idle": "2025-02-06T17:07:06.644610Z",
     "shell.execute_reply": "2025-02-06T17:07:06.643579Z"
    }
   },
   "outputs": [],
   "source": [
    "DefaultAssay(adata_geno)<-'ATAC'"
   ]
  },
  {
   "cell_type": "code",
   "execution_count": 50,
   "id": "db5457f4-efc9-4fd2-bbf0-9dcce8e1adf9",
   "metadata": {
    "execution": {
     "iopub.execute_input": "2025-02-06T16:11:38.624523Z",
     "iopub.status.busy": "2025-02-06T16:11:38.623562Z",
     "iopub.status.idle": "2025-02-06T16:11:39.590445Z",
     "shell.execute_reply": "2025-02-06T16:11:39.589251Z"
    }
   },
   "outputs": [
    {
     "name": "stderr",
     "output_type": "stream",
     "text": [
      "  [[ suppressing 34 column names 'MCO_01326_AAACAGCCACAGCCAT-1', 'MCO_01326_AAACAGCCAGGAAGCC-1', 'MCO_01326_AAACAGCCAGTATGTT-1' ... ]]\n",
      "\n"
     ]
    },
    {
     "data": {
      "text/plain": [
       "6 x 16835 sparse Matrix of class \"dgCMatrix\"\n",
       "                                                                              \n",
       "chr1-10076-10321   . . . . . . . . . . . . . . . . . . . . . . . . . . . . . .\n",
       "chr1-180715-181606 . . . . . . . . . . . . . . . . . . . . . . . . . . . . 2 .\n",
       "chr1-191225-191765 . . . . . . . . . . . . . . . . . . . . . . . . . . . . . .\n",
       "chr1-629567-630655 1 1 1 1 . 3 . 4 4 . 1 2 2 . . 1 2 1 1 3 1 . 1 2 . . . 1 . 1\n",
       "chr1-631349-631875 . . . . . 1 . . . . . . . . . . . . . . . . . . . . . . . .\n",
       "chr1-632832-633078 . . . . . . . . . . . . . . . . . . . . . . . . . . . . . .\n",
       "                                 \n",
       "chr1-10076-10321   . . . . ......\n",
       "chr1-180715-181606 . . . . ......\n",
       "chr1-191225-191765 . . . . ......\n",
       "chr1-629567-630655 . 2 1 1 ......\n",
       "chr1-631349-631875 . . . . ......\n",
       "chr1-632832-633078 . . . . ......\n",
       "\n",
       " .....suppressing 16801 columns in show(); maybe adjust 'options(max.print= *, width = *)'\n",
       " .............................."
      ]
     },
     "metadata": {},
     "output_type": "display_data"
    }
   ],
   "source": [
    "peaks_PRE <- GetAssayData(adata_geno,layer=\"counts\")\n",
    "\n",
    "head(peaks_PRE)"
   ]
  },
  {
   "cell_type": "markdown",
   "id": "5fca9dda-74cc-41c5-a8a6-14a3fe2555c3",
   "metadata": {},
   "source": [
    "# TF IDF normalize ATAC data"
   ]
  },
  {
   "cell_type": "code",
   "execution_count": 51,
   "id": "c0334fdb-fc18-405c-bc29-38e7427acbe0",
   "metadata": {
    "execution": {
     "iopub.execute_input": "2025-02-06T16:11:39.593264Z",
     "iopub.status.busy": "2025-02-06T16:11:39.592281Z",
     "iopub.status.idle": "2025-02-06T16:11:44.949109Z",
     "shell.execute_reply": "2025-02-06T16:11:44.947887Z"
    }
   },
   "outputs": [
    {
     "name": "stderr",
     "output_type": "stream",
     "text": [
      "Performing TF-IDF normalization\n",
      "\n"
     ]
    },
    {
     "data": {
      "text/plain": [
       "ChromatinAssay data with 340606 features for 16835 cells\n",
       "Variable features: 340606 \n",
       "Genome: hg38 \n",
       "Annotation present: TRUE \n",
       "Motifs present: FALSE \n",
       "Fragment files: 1 "
      ]
     },
     "metadata": {},
     "output_type": "display_data"
    }
   ],
   "source": [
    "RunTFIDF(adata_geno[['ATAC']])\n"
   ]
  },
  {
   "cell_type": "code",
   "execution_count": 52,
   "id": "da917404-78ab-4a5c-bb04-ba3e1662249d",
   "metadata": {
    "execution": {
     "iopub.execute_input": "2025-02-06T16:11:44.951926Z",
     "iopub.status.busy": "2025-02-06T16:11:44.950952Z",
     "iopub.status.idle": "2025-02-06T16:11:46.142198Z",
     "shell.execute_reply": "2025-02-06T16:11:46.141032Z"
    }
   },
   "outputs": [
    {
     "name": "stderr",
     "output_type": "stream",
     "text": [
      "  [[ suppressing 34 column names 'MCO_01326_AAACAGCCACAGCCAT-1', 'MCO_01326_AAACAGCCAGGAAGCC-1', 'MCO_01326_AAACAGCCAGTATGTT-1' ... ]]\n",
      "\n"
     ]
    },
    {
     "data": {
      "text/plain": [
       "6 x 16835 sparse Matrix of class \"dgCMatrix\"\n",
       "                                                                              \n",
       "chr1-10076-10321   . . . . . . . . . . . . . . . . . . . . . . . . . . . . . .\n",
       "chr1-180715-181606 . . . . . . . . . . . . . . . . . . . . . . . . . . . . 2 .\n",
       "chr1-191225-191765 . . . . . . . . . . . . . . . . . . . . . . . . . . . . . .\n",
       "chr1-629567-630655 1 1 1 1 . 3 . 4 4 . 1 2 2 . . 1 2 1 1 3 1 . 1 2 . . . 1 . 1\n",
       "chr1-631349-631875 . . . . . 1 . . . . . . . . . . . . . . . . . . . . . . . .\n",
       "chr1-632832-633078 . . . . . . . . . . . . . . . . . . . . . . . . . . . . . .\n",
       "                                 \n",
       "chr1-10076-10321   . . . . ......\n",
       "chr1-180715-181606 . . . . ......\n",
       "chr1-191225-191765 . . . . ......\n",
       "chr1-629567-630655 . 2 1 1 ......\n",
       "chr1-631349-631875 . . . . ......\n",
       "chr1-632832-633078 . . . . ......\n",
       "\n",
       " .....suppressing 16801 columns in show(); maybe adjust 'options(max.print= *, width = *)'\n",
       " .............................."
      ]
     },
     "metadata": {},
     "output_type": "display_data"
    }
   ],
   "source": [
    "peaks_POST <- GetAssayData(adata_geno,layer=\"counts\")\n",
    "\n",
    "head(peaks_POST)"
   ]
  },
  {
   "cell_type": "code",
   "execution_count": 53,
   "id": "c0ea5da7-1d2b-4f6b-a2da-dd129662981c",
   "metadata": {
    "execution": {
     "iopub.execute_input": "2025-02-06T16:11:46.144895Z",
     "iopub.status.busy": "2025-02-06T16:11:46.143959Z",
     "iopub.status.idle": "2025-02-06T16:11:46.154094Z",
     "shell.execute_reply": "2025-02-06T16:11:46.152996Z"
    }
   },
   "outputs": [
    {
     "data": {
      "text/html": [
       "TRUE"
      ],
      "text/latex": [
       "TRUE"
      ],
      "text/markdown": [
       "TRUE"
      ],
      "text/plain": [
       "[1] TRUE"
      ]
     },
     "metadata": {},
     "output_type": "display_data"
    }
   ],
   "source": [
    "identical(peaks_PRE,peaks_POST)"
   ]
  },
  {
   "cell_type": "markdown",
   "id": "a0d4fac1-aca8-458b-b15e-4808bd0e9174",
   "metadata": {},
   "source": [
    "The data was already normalized"
   ]
  },
  {
   "cell_type": "markdown",
   "id": "056880d6-29ca-425d-a54f-d97faecb4d58",
   "metadata": {},
   "source": [
    "# Link Peaks to DE genes"
   ]
  },
  {
   "cell_type": "code",
   "execution_count": 17,
   "id": "62bad5bf-8e44-4578-ba94-2bcbb5ebc8e5",
   "metadata": {
    "execution": {
     "iopub.execute_input": "2025-02-07T10:46:53.094216Z",
     "iopub.status.busy": "2025-02-07T10:46:53.093071Z",
     "iopub.status.idle": "2025-02-07T10:46:53.101108Z",
     "shell.execute_reply": "2025-02-07T10:46:53.100037Z"
    }
   },
   "outputs": [],
   "source": [
    "# $ bash ~/Scripts/Wraper_scripts/133_Link_peaks.sh /group/soranzo/manuel.tardaguila/2025_hESC_MK_multiome/ Downstream_analysis"
   ]
  },
  {
   "cell_type": "markdown",
   "id": "a12ce9c8-6ec6-4367-b97e-3fa97de86262",
   "metadata": {},
   "source": [
    "# Perform DA"
   ]
  },
  {
   "cell_type": "markdown",
   "id": "f056375a-6a4c-4ead-be97-389ebc6fcd16",
   "metadata": {},
   "source": [
    "# Subset for Linked Peaks"
   ]
  },
  {
   "cell_type": "code",
   "execution_count": 18,
   "id": "aca94538-2ba9-4d6d-b469-4ce1a9ad1e04",
   "metadata": {
    "execution": {
     "iopub.execute_input": "2025-02-07T10:46:54.916146Z",
     "iopub.status.busy": "2025-02-07T10:46:54.915043Z",
     "iopub.status.idle": "2025-02-07T10:46:54.924156Z",
     "shell.execute_reply": "2025-02-07T10:46:54.923071Z"
    }
   },
   "outputs": [],
   "source": [
    "setwd(\"/group/soranzo/manuel.tardaguila/2025_hESC_MK_multiome/Downstream_analysis/\")"
   ]
  },
  {
   "cell_type": "code",
   "execution_count": 19,
   "id": "425c97d8-3aab-4b35-a54d-0d43301a66c6",
   "metadata": {
    "execution": {
     "iopub.execute_input": "2025-02-07T10:46:55.385480Z",
     "iopub.status.busy": "2025-02-07T10:46:55.384364Z",
     "iopub.status.idle": "2025-02-07T10:46:55.407141Z",
     "shell.execute_reply": "2025-02-07T10:46:55.405875Z"
    }
   },
   "outputs": [],
   "source": [
    "LinkedPeaks<-readRDS(file=\"Linked_peak_to_selected_genes.rds\")"
   ]
  },
  {
   "cell_type": "code",
   "execution_count": 20,
   "id": "bbae9b5d-23a8-4d11-97ca-0b85fd74a7ed",
   "metadata": {
    "execution": {
     "iopub.execute_input": "2025-02-07T10:46:55.929824Z",
     "iopub.status.busy": "2025-02-07T10:46:55.928689Z",
     "iopub.status.idle": "2025-02-07T10:46:55.943959Z",
     "shell.execute_reply": "2025-02-07T10:46:55.942827Z"
    }
   },
   "outputs": [
    {
     "name": "stdout",
     "output_type": "stream",
     "text": [
      "'data.frame':\t8746 obs. of  11 variables:\n",
      " $ seqnames     : Factor w/ 24 levels \"chr1\",\"chr2\",..: 1 1 1 1 1 1 1 1 1 1 ...\n",
      " $ start        : int  5717468 5764659 5766687 5831502 5897165 5949489 6141768 6148525 6183751 6205209 ...\n",
      " $ end          : int  6209389 6209389 6209389 6209389 6209389 6209389 6209389 6209389 6209389 6209389 ...\n",
      " $ width        : int  491922 444731 442703 377888 312225 259901 67622 60865 25639 4181 ...\n",
      " $ strand       : Factor w/ 3 levels \"+\",\"-\",\"*\": 3 3 3 3 3 3 3 3 3 3 ...\n",
      " $ score        : num  0.1025 0.0549 0.1003 0.13 0.1072 ...\n",
      " $ Symbol       : chr  \"RPL22\" \"RPL22\" \"RPL22\" \"RPL22\" ...\n",
      " $ Peak_ID      : chr  \"chr1-5716645-5718290\" \"chr1-5764546-5764772\" \"chr1-5766017-5767357\" \"chr1-5830392-5832611\" ...\n",
      " $ zscore       : num  2.69 2.3 1.77 2.56 2.14 ...\n",
      " $ pvalue       : num  0.00362 0.01064 0.03877 0.00523 0.01614 ...\n",
      " $ Minus_logpval: num  2.44 1.97 1.41 2.28 1.79 4.08 1.64 1.53 2.04 1.88 ...\n"
     ]
    }
   ],
   "source": [
    "str(LinkedPeaks)"
   ]
  },
  {
   "cell_type": "markdown",
   "id": "ad13b9f3-517b-423f-a02d-4b84224b69fd",
   "metadata": {},
   "source": [
    "## Deine peak_subset assay"
   ]
  },
  {
   "cell_type": "code",
   "execution_count": 25,
   "id": "8ad57892-9635-47b0-974c-3a2637421800",
   "metadata": {
    "execution": {
     "iopub.execute_input": "2025-02-07T10:56:38.324720Z",
     "iopub.status.busy": "2025-02-07T10:56:38.323354Z",
     "iopub.status.idle": "2025-02-07T10:56:38.955358Z",
     "shell.execute_reply": "2025-02-07T10:56:38.953850Z"
    }
   },
   "outputs": [],
   "source": [
    "adata_geno[[\"peak_subset\"]] <- CreateChromatinAssay(\n",
    "    counts = peak_subset,\n",
    "    fragments = Fragments(adata_geno),\n",
    "    min.cells = 0, min.features = -1 )\n",
    "  \n",
    "  DefaultAssay(adata_geno) <- 'peak_subset'"
   ]
  },
  {
   "cell_type": "markdown",
   "id": "99079e23-e91c-4fdb-b334-530d736176b6",
   "metadata": {},
   "source": [
    "## Define interest regions"
   ]
  },
  {
   "cell_type": "code",
   "execution_count": 26,
   "id": "e710140b-4c7f-4bea-a6fa-53fd44a9017e",
   "metadata": {
    "execution": {
     "iopub.execute_input": "2025-02-05T10:31:54.650315Z",
     "iopub.status.busy": "2025-02-05T10:31:54.649419Z",
     "iopub.status.idle": "2025-02-05T10:31:54.675618Z",
     "shell.execute_reply": "2025-02-05T10:31:54.674577Z"
    }
   },
   "outputs": [
    {
     "name": "stdout",
     "output_type": "stream",
     "text": [
      "selected_variants_df_0\n",
      "'data.frame':\t1 obs. of  6 variables:\n",
      " $ rs   : chr \"rs62237617\"\n",
      " $ VAR  : chr \"chr22_28365160_C_T\"\n",
      " $ chr  : chr \"chr22\"\n",
      " $ pos38: int 28365160\n",
      " $ ref  : chr \"C\"\n",
      " $ alt  : chr \"T\"\n",
      "\n"
     ]
    }
   ],
   "source": [
    "### GRCh38 rs62237617\n",
    "\n",
    "rs_vector<-c(\"rs62237617\")\n",
    "VAR_vector<-c(\"chr22_28365160_C_T\")\n",
    "\n",
    "selected_variants_df<-as.data.frame(cbind(rs_vector,VAR_vector))\n",
    "  \n",
    "  colnames(selected_variants_df)<-c('rs','VAR')\n",
    "  \n",
    "  selected_variants_df$chr<-gsub(\"_.+$\",\"\",selected_variants_df$VAR)\n",
    "  selected_variants_df$pos38<-gsub(\"^[^_]+_\",\"\",selected_variants_df$VAR)\n",
    "  selected_variants_df$pos38<-as.integer(gsub(\"_.+$\",\"\",selected_variants_df$pos38))\n",
    "  selected_variants_df$ref<-gsub(\"^[^_]+_[^_]+_\",\"\",selected_variants_df$VAR)\n",
    "  selected_variants_df$ref<-gsub(\"_.+$\",\"\",selected_variants_df$ref)\n",
    "  selected_variants_df$alt<-gsub(\"^[^_]+_[^_]+_[^_]+_\",\"\",selected_variants_df$VAR)\n",
    "  \n",
    "  cat(\"selected_variants_df_0\\n\")\n",
    "  cat(str(selected_variants_df))\n",
    "  cat(\"\\n\")"
   ]
  },
  {
   "cell_type": "code",
   "execution_count": 27,
   "id": "5288277a-f42b-47f3-b5e6-531b83e70ad3",
   "metadata": {
    "execution": {
     "iopub.execute_input": "2025-02-05T10:31:54.678133Z",
     "iopub.status.busy": "2025-02-05T10:31:54.677257Z",
     "iopub.status.idle": "2025-02-05T10:31:54.706618Z",
     "shell.execute_reply": "2025-02-05T10:31:54.705586Z"
    }
   },
   "outputs": [
    {
     "name": "stdout",
     "output_type": "stream",
     "text": [
      "gr_VARS_0\n",
      "Formal class 'GRanges' [package \"GenomicRanges\"] with 7 slots\n",
      "  ..@ seqnames       :Formal class 'Rle' [package \"S4Vectors\"] with 4 slots\n",
      "  .. .. ..@ values         : Factor w/ 1 level \"22\": 1\n",
      "  .. .. ..@ lengths        : int 1\n",
      "  .. .. ..@ elementMetadata: NULL\n",
      "  .. .. ..@ metadata       : list()\n",
      "  ..@ ranges         :Formal class 'IRanges' [package \"IRanges\"] with 6 slots\n",
      "  .. .. ..@ start          : int 28365160\n",
      "  .. .. ..@ width          : int 1\n",
      "  .. .. ..@ NAMES          : chr \"chr22_28365160_C_T\"\n",
      "  .. .. ..@ elementType    : chr \"ANY\"\n",
      "  .. .. ..@ elementMetadata: NULL\n",
      "  .. .. ..@ metadata       : list()\n",
      "  ..@ strand         :Formal class 'Rle' [package \"S4Vectors\"] with 4 slots\n",
      "  .. .. ..@ values         : Factor w/ 3 levels \"+\",\"-\",\"*\": 3\n",
      "  .. .. ..@ lengths        : int 1\n",
      "  .. .. ..@ elementMetadata: NULL\n",
      "  .. .. ..@ metadata       : list()\n",
      "  ..@ seqinfo        :Formal class 'Seqinfo' [package \"GenomeInfoDb\"] with 4 slots\n",
      "  .. .. ..@ seqnames   : chr \"22\"\n",
      "  .. .. ..@ seqlengths : int NA\n",
      "  .. .. ..@ is_circular: logi NA\n",
      "  .. .. ..@ genome     : chr NA\n",
      "  ..@ elementMetadata:Formal class 'DFrame' [package \"S4Vectors\"] with 6 slots\n",
      "  .. .. ..@ rownames       : NULL\n",
      "  .. .. ..@ nrows          : int 1\n",
      "  .. .. ..@ elementType    : chr \"ANY\"\n",
      "  .. .. ..@ elementMetadata: NULL\n",
      "  .. .. ..@ metadata       : list()\n",
      "  .. .. ..@ listData       :List of 1\n",
      "  .. .. .. ..$ name2: chr \"rs62237617\"\n",
      "  ..@ elementType    : chr \"ANY\"\n",
      "  ..@ metadata       : list()\n",
      "\n"
     ]
    }
   ],
   "source": [
    " gr_VARS <- GRanges(\n",
    "    seqnames = as.character(gsub(\"chr\",\"\",selected_variants_df$chr)),\n",
    "    name2=as.character(selected_variants_df$rs),\n",
    "    ranges=IRanges(\n",
    "      start=as.numeric(selected_variants_df$pos38),\n",
    "      end=as.numeric(selected_variants_df$pos38),\n",
    "      name=selected_variants_df$VAR))\n",
    "  \n",
    "  cat(\"gr_VARS_0\\n\")\n",
    "  cat(str(gr_VARS))\n",
    "  cat(\"\\n\")"
   ]
  },
  {
   "cell_type": "code",
   "execution_count": 28,
   "id": "cd2befd7-f636-4888-abd3-e3771c1cb322",
   "metadata": {
    "execution": {
     "iopub.execute_input": "2025-02-05T10:32:12.680494Z",
     "iopub.status.busy": "2025-02-05T10:32:12.679446Z",
     "iopub.status.idle": "2025-02-05T10:32:12.710724Z",
     "shell.execute_reply": "2025-02-05T10:32:12.709591Z"
    }
   },
   "outputs": [
    {
     "name": "stdout",
     "output_type": "stream",
     "text": [
      "gr_region\n",
      "Formal class 'GRanges' [package \"GenomicRanges\"] with 7 slots\n",
      "  ..@ seqnames       :Formal class 'Rle' [package \"S4Vectors\"] with 4 slots\n",
      "  .. .. ..@ values         : Factor w/ 1 level \"22\": 1\n",
      "  .. .. ..@ lengths        : int 1\n",
      "  .. .. ..@ elementMetadata: NULL\n",
      "  .. .. ..@ metadata       : list()\n",
      "  ..@ ranges         :Formal class 'IRanges' [package \"IRanges\"] with 6 slots\n",
      "  .. .. ..@ start          : int 28360000\n",
      "  .. .. ..@ width          : int 20001\n",
      "  .. .. ..@ NAMES          : chr \"ROI_1\"\n",
      "  .. .. ..@ elementType    : chr \"ANY\"\n",
      "  .. .. ..@ elementMetadata: NULL\n",
      "  .. .. ..@ metadata       : list()\n",
      "  ..@ strand         :Formal class 'Rle' [package \"S4Vectors\"] with 4 slots\n",
      "  .. .. ..@ values         : Factor w/ 3 levels \"+\",\"-\",\"*\": 3\n",
      "  .. .. ..@ lengths        : int 1\n",
      "  .. .. ..@ elementMetadata: NULL\n",
      "  .. .. ..@ metadata       : list()\n",
      "  ..@ seqinfo        :Formal class 'Seqinfo' [package \"GenomeInfoDb\"] with 4 slots\n",
      "  .. .. ..@ seqnames   : chr \"22\"\n",
      "  .. .. ..@ seqlengths : int NA\n",
      "  .. .. ..@ is_circular: logi NA\n",
      "  .. .. ..@ genome     : chr NA\n",
      "  ..@ elementMetadata:Formal class 'DFrame' [package \"S4Vectors\"] with 6 slots\n",
      "  .. .. ..@ rownames       : NULL\n",
      "  .. .. ..@ nrows          : int 1\n",
      "  .. .. ..@ elementType    : chr \"ANY\"\n",
      "  .. .. ..@ elementMetadata: NULL\n",
      "  .. .. ..@ metadata       : list()\n",
      "  .. .. ..@ listData       :List of 1\n",
      "  .. .. .. ..$ name2: chr \"ROI_1\"\n",
      "  ..@ elementType    : chr \"ANY\"\n",
      "  ..@ metadata       : list()\n",
      "\n"
     ]
    }
   ],
   "source": [
    "  gr_region <- GRanges(\n",
    "    seqnames = as.character(\"22\"),\n",
    "    name2=as.character(\"ROI_1\"),\n",
    "    ranges=IRanges(\n",
    "      start=as.numeric(28360000),\n",
    "      end=as.numeric(28380000),\n",
    "      name='ROI_1'))\n",
    "  \n",
    "  cat(\"gr_region\\n\")\n",
    "  cat(str(gr_region))\n",
    "  cat(\"\\n\")"
   ]
  },
  {
   "cell_type": "code",
   "execution_count": 29,
   "id": "37cd9174-d6b7-470c-bafc-e7a103ee5adc",
   "metadata": {
    "execution": {
     "iopub.execute_input": "2025-02-05T10:32:17.471012Z",
     "iopub.status.busy": "2025-02-05T10:32:17.470081Z",
     "iopub.status.idle": "2025-02-05T10:32:17.490497Z",
     "shell.execute_reply": "2025-02-05T10:32:17.489491Z"
    }
   },
   "outputs": [],
   "source": [
    "gr_VARS<-append(gr_VARS, gr_region)"
   ]
  },
  {
   "cell_type": "markdown",
   "id": "8d312176-57b1-4ac5-8999-2fa49054191f",
   "metadata": {},
   "source": [
    "## Find the overlap"
   ]
  },
  {
   "cell_type": "code",
   "execution_count": 30,
   "id": "363889cc-e7ea-412c-b131-e9be95192fe1",
   "metadata": {
    "execution": {
     "iopub.execute_input": "2025-02-05T10:32:18.619688Z",
     "iopub.status.busy": "2025-02-05T10:32:18.618775Z",
     "iopub.status.idle": "2025-02-05T10:32:18.682062Z",
     "shell.execute_reply": "2025-02-05T10:32:18.680964Z"
    }
   },
   "outputs": [
    {
     "name": "stdout",
     "output_type": "stream",
     "text": [
      "m\n",
      "Formal class 'SortedByQueryHits' [package \"S4Vectors\"] with 6 slots\n",
      "  ..@ from           : int [1:4] 2 2 2 2\n",
      "  ..@ to             : int [1:4] 195865 195866 195867 195868\n",
      "  ..@ nLnode         : int 2\n",
      "  ..@ nRnode         : int 340606\n",
      "  ..@ elementMetadata: NULL\n",
      "  ..@ metadata       : list()\n",
      "\n",
      "subjectHits_peaks\n",
      " int [1:4] 195865 195866 195867 195868\n",
      "\n",
      "queryHits_VARS\n",
      " int [1:4] 2 2 2 2\n",
      "\n",
      "VARS_df_0\n",
      "'data.frame':\t2 obs. of  2 variables:\n",
      " $ rs : chr  \"rs62237617\" \"ROI_1\"\n",
      " $ VAR: chr  \"chr22_28365160_C_T\" \"ROI_1\"\n",
      "\n",
      "VARS_df_hits_0\n",
      "'data.frame':\t4 obs. of  2 variables:\n",
      " $ rs : chr  \"ROI_1\" \"ROI_1\" \"ROI_1\" \"ROI_1\"\n",
      " $ VAR: chr  \"ROI_1\" \"ROI_1\" \"ROI_1\" \"ROI_1\"\n",
      "\n",
      "peaks_df_SNP_0\n",
      "'data.frame':\t340606 obs. of  4 variables:\n",
      " $ chr    : chr  \"1\" \"1\" \"1\" \"1\" ...\n",
      " $ start  : int  10076 180715 191225 629567 631349 632832 633491 777545 779621 817115 ...\n",
      " $ end    : int  10321 181606 191765 630655 631875 633078 634520 779326 779846 817388 ...\n",
      " $ Peak_ID: chr  \"chr1-10076-10321\" \"chr1-180715-181606\" \"chr1-191225-191765\" \"chr1-629567-630655\" ...\n",
      "\n",
      "peaks_df_SNP_hits_0\n",
      "'data.frame':\t4 obs. of  4 variables:\n",
      " $ chr    : chr  \"22\" \"22\" \"22\" \"22\"\n",
      " $ start  : int  28369863 28370782 28375659 28376635\n",
      " $ end    : int  28370369 28371417 28376055 28376915\n",
      " $ Peak_ID: chr  \"chr22-28369863-28370369\" \"chr22-28370782-28371417\" \"chr22-28375659-28376055\" \"chr22-28376635-28376915\"\n",
      "\n",
      "peaks_df_SNP_hits_1\n",
      "'data.frame':\t4 obs. of  6 variables:\n",
      " $ chr    : chr  \"chr22\" \"chr22\" \"chr22\" \"chr22\"\n",
      " $ start  : int  28369863 28370782 28375659 28376635\n",
      " $ end    : int  28370369 28371417 28376055 28376915\n",
      " $ Peak_ID: chr  \"chr22-28369863-28370369\" \"chr22-28370782-28371417\" \"chr22-28375659-28376055\" \"chr22-28376635-28376915\"\n",
      " $ rs     : chr  \"ROI_1\" \"ROI_1\" \"ROI_1\" \"ROI_1\"\n",
      " $ VAR    : chr  \"ROI_1\" \"ROI_1\" \"ROI_1\" \"ROI_1\"\n",
      "\n"
     ]
    }
   ],
   "source": [
    " #### Intersect Peak to genes with SNP ----\n",
    "  \n",
    "  DEBUG <- 1\n",
    "  \n",
    "  m <- findOverlaps(gr_VARS,gr_peaks)\n",
    "  \n",
    "  if(DEBUG == 1)\n",
    "  {\n",
    "    cat(\"m\\n\")\n",
    "    cat(str(m))\n",
    "    cat(\"\\n\")\n",
    "  }\n",
    "  \n",
    "  subjectHits_peaks<-subjectHits(m)\n",
    "  \n",
    "  if(DEBUG == 1)\n",
    "  {\n",
    "    cat(\"subjectHits_peaks\\n\")\n",
    "    cat(str(subjectHits_peaks))\n",
    "    cat(\"\\n\")\n",
    "  }\n",
    "  \n",
    "  queryHits_VARS<-queryHits(m)\n",
    "  \n",
    "  if(DEBUG == 1)\n",
    "  {\n",
    "    cat(\"queryHits_VARS\\n\")\n",
    "    cat(str(queryHits_VARS))\n",
    "    cat(\"\\n\")\n",
    "  }\n",
    "  \n",
    "  VARS_df <- data.frame(rs=as.character(gr_VARS$name2),\n",
    "                        VAR=names(gr_VARS), stringsAsFactors = F)\n",
    "  \n",
    "  if(DEBUG == 1)\n",
    "  {\n",
    "    cat(\"VARS_df_0\\n\")\n",
    "    cat(str(VARS_df))\n",
    "    cat(\"\\n\")\n",
    "  }\n",
    "  \n",
    "  VARS_df_hits<-VARS_df[queryHits_VARS,]\n",
    "  \n",
    "  if(DEBUG == 1)\n",
    "  {\n",
    "    cat(\"VARS_df_hits_0\\n\")\n",
    "    cat(str(VARS_df_hits))\n",
    "    cat(\"\\n\")\n",
    "  }\n",
    "  \n",
    "  peaks_df_SNP <- data.frame(chr=as.character(seqnames(gr_peaks)),\n",
    "                                     start=as.integer(start(gr_peaks)),\n",
    "                                     end=as.integer(end(gr_peaks)),\n",
    "                                     Peak_ID=names(gr_peaks),\n",
    "                                     stringsAsFactors = F)\n",
    "  \n",
    "  \n",
    "  if(DEBUG == 1)\n",
    "  {\n",
    "    cat(\"peaks_df_SNP_0\\n\")\n",
    "    cat(str(peaks_df_SNP))\n",
    "    cat(\"\\n\")\n",
    "  }\n",
    "  \n",
    "  peaks_df_SNP_hits<-peaks_df_SNP[subjectHits_peaks,]\n",
    "  \n",
    "  if(dim(peaks_df_SNP_hits)[1] >0)\n",
    "  {\n",
    "    if(DEBUG == 1)\n",
    "    {\n",
    "      cat(\"peaks_df_SNP_hits_0\\n\")\n",
    "      cat(str(peaks_df_SNP_hits))\n",
    "      cat(\"\\n\")\n",
    "    }\n",
    "    \n",
    "    peaks_df_SNP_hits<-cbind(peaks_df_SNP_hits,VARS_df_hits)\n",
    "    \n",
    "    peaks_df_SNP_hits$chr<-paste('chr',peaks_df_SNP_hits$chr,sep='')\n",
    "    \n",
    "    if(DEBUG == 1)\n",
    "    {\n",
    "      cat(\"peaks_df_SNP_hits_1\\n\")\n",
    "      cat(str(peaks_df_SNP_hits))\n",
    "      cat(\"\\n\")\n",
    "    }\n",
    "    \n",
    " \n",
    "       \n",
    "  }#dim(peaks_df_SNP_hits)[1] >0"
   ]
  },
  {
   "cell_type": "code",
   "execution_count": 34,
   "id": "2a92cecd-e123-48c5-83cc-1ef13342b7f2",
   "metadata": {
    "execution": {
     "iopub.execute_input": "2025-02-05T10:35:22.502334Z",
     "iopub.status.busy": "2025-02-05T10:35:22.501337Z",
     "iopub.status.idle": "2025-02-05T10:35:22.702000Z",
     "shell.execute_reply": "2025-02-05T10:35:22.700924Z"
    }
   },
   "outputs": [
    {
     "data": {
      "text/plain": [
       "An object of class Seurat \n",
       "445324 features across 16835 samples within 5 assays \n",
       "Active assay: peak_subset (4 features, 0 variable features)\n",
       " 2 layers present: counts, data\n",
       " 4 other assays present: RNA, RNA_raw, SCT, ATAC\n",
       " 7 dimensional reductions calculated: pca, umap.rna, lsi, umap.atac, umap.wnn, harmony.rna, harmony.atac"
      ]
     },
     "metadata": {},
     "output_type": "display_data"
    }
   ],
   "source": [
    "adata_geno"
   ]
  },
  {
   "cell_type": "markdown",
   "id": "1495591c-0d12-436d-b59b-b8cb547f2e36",
   "metadata": {},
   "source": [
    "## Extract peak_subset counts"
   ]
  },
  {
   "cell_type": "code",
   "execution_count": 26,
   "id": "fd694cf8-4be5-4c9e-a003-9a96da21ccd6",
   "metadata": {
    "execution": {
     "iopub.execute_input": "2025-02-07T10:56:45.813115Z",
     "iopub.status.busy": "2025-02-07T10:56:45.811765Z",
     "iopub.status.idle": "2025-02-07T10:56:45.849136Z",
     "shell.execute_reply": "2025-02-07T10:56:45.847717Z"
    }
   },
   "outputs": [
    {
     "name": "stdout",
     "output_type": "stream",
     "text": [
      "matrix_ATAC\n",
      "Formal class 'dgCMatrix' [package \"Matrix\"] with 6 slots\n",
      "  ..@ i       : int [1:8912623] 0 46 50 58 76 87 96 124 170 205 ...\n",
      "  ..@ p       : int [1:16836] 0 285 857 1539 2773 3799 4960 5707 6984 7289 ...\n",
      "  ..@ Dim     : int [1:2] 8086 16835\n",
      "  ..@ Dimnames:List of 2\n",
      "  .. ..$ : chr [1:8086] \"chr1-5716645-5718290\" \"chr1-5764546-5764772\" \"chr1-5766017-5767357\" \"chr1-5830392-5832611\" ...\n",
      "  .. ..$ : chr [1:16835] \"MCO_01326_AAACAGCCACAGCCAT-1\" \"MCO_01326_AAACAGCCAGGAAGCC-1\" \"MCO_01326_AAACAGCCAGTATGTT-1\" \"MCO_01326_AAACATGCAAACGCGA-1\" ...\n",
      "  ..@ x       : num [1:8912623] 1 1 1 1 1 1 1 1 1 1 ...\n",
      "  ..@ factors : list()\n",
      "\n"
     ]
    }
   ],
   "source": [
    " matrix_ATAC<-GetAssayData(object = adata_geno, assay = \"peak_subset\", layer = \"counts\")\n",
    "  \n",
    "  cat(\"matrix_ATAC\\n\")\n",
    "  cat(str(matrix_ATAC))\n",
    "  cat(\"\\n\")"
   ]
  },
  {
   "cell_type": "markdown",
   "id": "e7877034-6cb7-4600-ada3-548bf362a24f",
   "metadata": {},
   "source": [
    "## Extract metadata"
   ]
  },
  {
   "cell_type": "code",
   "execution_count": 27,
   "id": "b44944e8-6dd9-4462-911e-1b42050a4892",
   "metadata": {
    "execution": {
     "iopub.execute_input": "2025-02-07T10:56:50.755116Z",
     "iopub.status.busy": "2025-02-07T10:56:50.753804Z",
     "iopub.status.idle": "2025-02-07T10:56:50.828000Z",
     "shell.execute_reply": "2025-02-07T10:56:50.826620Z"
    }
   },
   "outputs": [
    {
     "name": "stdout",
     "output_type": "stream",
     "text": [
      "Day_0 Day_8 Day_12 Day_15\n",
      "5852 259 4905 5819\n",
      "hESC HemogenicEndothelium MEP early erythroid early MK MK\n",
      "5705 191 3532 678 466 6263\n",
      "chrGFP_WTA chrGFP_WTB chrGFP_WTC chrGFP_rs1 chrGFP_rs2 chrGFP_rs3 chrGFP_R882H1 chrGFP_R882H2 chrGFP_R882H3 chrGFP_rs_R882H1 chrGFP_rs_R882H2 chrGFP_rs_R882H3\n",
      "130 226 305 872 776 7996 1101 123 2355 1381 706 864\n",
      "chrGFP_WTA chrGFP_WTB chrGFP_WTC chrGFP_rs1 chrGFP_rs2 chrGFP_rs3 chrGFP_R882H1 chrGFP_R882H2 chrGFP_R882H3 chrGFP_rs_R882H1 chrGFP_rs_R882H2 chrGFP_rs_R882H3\n",
      "130 226 305 872 776 7996 1101 123 2355 1381 706 864\n"
     ]
    }
   ],
   "source": [
    "  metadata<-droplevels(adata_geno[[]])\n",
    "\n",
    "cat(sprintf(as.character(names(summary(metadata$time_point)))))\n",
    "  cat(\"\\n\")\n",
    "  cat(sprintf(as.character(summary(metadata$time_point))))\n",
    "  cat(\"\\n\")\n",
    "  \n",
    "  \n",
    "  cat(sprintf(as.character(names(summary(metadata$current_anot)))))\n",
    "  cat(\"\\n\")\n",
    "  cat(sprintf(as.character(summary(metadata$current_anot))))\n",
    "  cat(\"\\n\")\n",
    "  \n",
    "  \n",
    "  cat(sprintf(as.character(names(summary(as.factor(metadata$Assigned_GFPbc_integral))))))\n",
    "  cat(\"\\n\")\n",
    "  cat(sprintf(as.character(summary(as.factor(metadata$Assigned_GFPbc_integral)))))\n",
    "  cat(\"\\n\")\n",
    "  \n",
    "  cat(sprintf(as.character(names(summary(as.factor(metadata$sample_id))))))\n",
    "  cat(\"\\n\")\n",
    "  cat(sprintf(as.character(summary(as.factor(metadata$sample_id)))))\n",
    "  cat(\"\\n\")\n"
   ]
  },
  {
   "cell_type": "markdown",
   "id": "84d1e0e0-63ca-47b1-9018-d5729947f56b",
   "metadata": {},
   "source": [
    "## Create a new Seurat object with the ATAC and the metadata"
   ]
  },
  {
   "cell_type": "code",
   "execution_count": 28,
   "id": "54cfbc54-c6ea-4a00-aaac-a3c48c5b7855",
   "metadata": {
    "execution": {
     "iopub.execute_input": "2025-02-07T10:57:01.638147Z",
     "iopub.status.busy": "2025-02-07T10:57:01.636812Z",
     "iopub.status.idle": "2025-02-07T10:57:02.314223Z",
     "shell.execute_reply": "2025-02-07T10:57:02.312783Z"
    }
   },
   "outputs": [
    {
     "data": {
      "text/plain": [
       "An object of class Seurat \n",
       "8086 features across 16835 samples within 1 assay \n",
       "Active assay: RNA (8086 features, 0 variable features)\n",
       " 1 layer present: counts"
      ]
     },
     "metadata": {},
     "output_type": "display_data"
    }
   ],
   "source": [
    "\n",
    "  ATAC_object <- CreateSeuratObject(counts = matrix_ATAC, assay = \"RNA\",\n",
    "                                   meta.data=metadata)\n",
    "\n",
    "ATAC_object"
   ]
  },
  {
   "cell_type": "markdown",
   "id": "1dd4c87b-4d85-4026-86cf-0e7b3b8072c8",
   "metadata": {},
   "source": [
    "## Aggregate by sample_id (clone line) and current_anot (cell type)"
   ]
  },
  {
   "cell_type": "code",
   "execution_count": 29,
   "id": "fc33dbe0-9a1b-4eb0-9641-457e9173c295",
   "metadata": {
    "execution": {
     "iopub.execute_input": "2025-02-07T10:57:13.208427Z",
     "iopub.status.busy": "2025-02-07T10:57:13.207073Z",
     "iopub.status.idle": "2025-02-07T10:57:13.529021Z",
     "shell.execute_reply": "2025-02-07T10:57:13.527657Z"
    }
   },
   "outputs": [
    {
     "name": "stdout",
     "output_type": "stream",
     "text": [
      "cell_type_names_0\n",
      " chr [1:6] \"hESC\" \"HemogenicEndothelium\" \"MEP\" \"early erythroid\" \"early MK\" ...\n",
      "\n",
      "sample_names_0\n",
      " chr [1:12] \"chrGFP_WTA\" \"chrGFP_WTB\" \"chrGFP_WTC\" \"chrGFP_rs1\" ...\n",
      "\n",
      "groups_0\n",
      "'data.frame':\t16835 obs. of  2 variables:\n",
      " $ sample_id   : Factor w/ 12 levels \"chrGFP_WTA\",\"chrGFP_WTB\",..: 9 4 7 7 7 11 7 7 9 9 ...\n",
      " $ current_anot: Ord.factor w/ 6 levels \"hESC\"<\"HemogenicEndothelium\"<..: 1 1 1 1 1 1 1 1 1 1 ...\n",
      "\n",
      "aggr_counts_0\n",
      "Formal class 'DGEList' [package \"edgeR\"] with 1 slot\n",
      "  ..@ .Data:List of 3\n",
      "  .. ..$ : num [1:8086, 1:71] 0 0 0 0 0 0 0 4 0 1 ...\n",
      "  .. .. ..- attr(*, \"dimnames\")=List of 2\n",
      "  .. .. .. ..$ : chr [1:8086] \"chr1-5716645-5718290\" \"chr1-5764546-5764772\" \"chr1-5766017-5767357\" \"chr1-5830392-5832611\" ...\n",
      "  .. .. .. ..$ : chr [1:71] \"chrGFP_R882H1_clusterearly erythroid\" \"chrGFP_R882H1_clusterearly MK\" \"chrGFP_R882H1_clusterHemogenicEndothelium\" \"chrGFP_R882H1_clusterhESC\" ...\n",
      "  .. ..$ :'data.frame':\t71 obs. of  5 variables:\n",
      "  .. .. ..$ group       : Factor w/ 1 level \"1\": 1 1 1 1 1 1 1 1 1 1 ...\n",
      "  .. .. ..$ lib.size    : num [1:71] 4341 8948 63948 724296 59409 ...\n",
      "  .. .. ..$ norm.factors: num [1:71] 1 1 1 1 1 1 1 1 1 1 ...\n",
      "  .. .. ..$ sample      : chr [1:71] \"chrGFP_R882H1\" \"chrGFP_R882H1\" \"chrGFP_R882H1\" \"chrGFP_R882H1\" ...\n",
      "  .. .. ..$ cluster     : chr [1:71] \"early erythroid\" \"early MK\" \"HemogenicEndothelium\" \"hESC\" ...\n",
      "  .. ..$ :'data.frame':\t8086 obs. of  1 variable:\n",
      "  .. .. ..$ gene: chr [1:8086] \"chr1-5716645-5718290\" \"chr1-5764546-5764772\" \"chr1-5766017-5767357\" \"chr1-5830392-5832611\" ...\n",
      "  ..$ names: chr [1:3] \"counts\" \"samples\" \"genes\"\n",
      "\n"
     ]
    }
   ],
   "source": [
    " cell_type_names <- levels(metadata[,which(colnames(metadata) == 'current_anot')])\n",
    "  \n",
    "  cat(\"cell_type_names_0\\n\")\n",
    "  cat(str(cell_type_names))\n",
    "  cat(\"\\n\")\n",
    "  \n",
    "  sample_names <- levels(metadata[,which(colnames(metadata) == 'sample_id')])\n",
    "  \n",
    "  cat(\"sample_names_0\\n\")\n",
    "  cat(str(sample_names))\n",
    "  cat(\"\\n\")\n",
    "  \n",
    "  groups <- metadata[,c(which(colnames(metadata) == 'sample_id'),which(colnames(metadata) == 'current_anot'))]\n",
    "  \n",
    "  cat(\"groups_0\\n\")\n",
    "  cat(str(groups))\n",
    "  cat(\"\\n\")\n",
    "  \n",
    "  aggr_counts <- Seurat2PB(ATAC_object, sample=\"sample_id\", cluster=\"current_anot\")\n",
    "  \n",
    "  cat(\"aggr_counts_0\\n\")\n",
    "  cat(str(aggr_counts))\n",
    "  cat(\"\\n\")"
   ]
  },
  {
   "cell_type": "markdown",
   "id": "3e69baef-7366-4d09-9485-c058deb6bbaf",
   "metadata": {},
   "source": [
    "## Go to a list format"
   ]
  },
  {
   "cell_type": "code",
   "execution_count": 30,
   "id": "2f71d93e-65e4-4f06-bb86-9b90eea34b3f",
   "metadata": {
    "execution": {
     "iopub.execute_input": "2025-02-07T10:57:20.419829Z",
     "iopub.status.busy": "2025-02-07T10:57:20.418476Z",
     "iopub.status.idle": "2025-02-07T10:57:20.478915Z",
     "shell.execute_reply": "2025-02-07T10:57:20.477358Z"
    }
   },
   "outputs": [],
   "source": [
    " ## Initiate empty list\n",
    "  counts_ls <- list()\n",
    "  \n",
    "  DEBUG<-0\n",
    "  \n",
    "\n",
    "for (i in 1:length(cell_type_names)) {\n",
    "    \n",
    "    cell_type_names[i]\n",
    "    \n",
    "    ## Extract indexes of columns in the global matrix that match a given cluster\n",
    "    column_idx <- which(tstrsplit(colnames(aggr_counts), \"_cluster\")[[2]] == cell_type_names[i])\n",
    "    \n",
    "    sub_aggr<- aggr_counts[, column_idx]\n",
    "    \n",
    "    if(DEBUG == 1)\n",
    "    {\n",
    "      cat(\"sub_aggr_0\\n\")\n",
    "      cat(str(sub_aggr))\n",
    "      cat(\"\\n\")\n",
    "      \n",
    "    }\n",
    "    \n",
    "    ## Store corresponding sub-matrix as one element of a list\n",
    "    counts_ls[[i]] <-sub_aggr\n",
    "    names(counts_ls)[i] <- cell_type_names[i]\n",
    "\n",
    "    #break\n",
    "    \n",
    "  }"
   ]
  },
  {
   "cell_type": "code",
   "execution_count": 31,
   "id": "977fdd22-4c36-4d2a-8f7d-c84c159d79cd",
   "metadata": {
    "execution": {
     "iopub.execute_input": "2025-02-07T10:57:28.558115Z",
     "iopub.status.busy": "2025-02-07T10:57:28.556771Z",
     "iopub.status.idle": "2025-02-07T10:57:28.747470Z",
     "shell.execute_reply": "2025-02-07T10:57:28.746310Z"
    }
   },
   "outputs": [
    {
     "name": "stdout",
     "output_type": "stream",
     "text": [
      "counts_ls_0\n",
      "\n"
     ]
    }
   ],
   "source": [
    " # Explore the different components of the list\n",
    "  \n",
    " cat(\"counts_ls_0\\n\")\n",
    "# cat(str(counts_ls))\n",
    "    cat(\"\\n\")\n",
    "\n",
    "# Each index of the list is a cell type with the counts in all the sample_ids (time_point + clone_line)"
   ]
  },
  {
   "cell_type": "code",
   "execution_count": 33,
   "id": "c49cce7a-90bd-48bc-8f59-e9e14a9662a6",
   "metadata": {
    "execution": {
     "iopub.execute_input": "2025-02-07T10:57:46.092610Z",
     "iopub.status.busy": "2025-02-07T10:57:46.091496Z",
     "iopub.status.idle": "2025-02-07T10:57:46.104098Z",
     "shell.execute_reply": "2025-02-07T10:57:46.102955Z"
    }
   },
   "outputs": [],
   "source": [
    "#counts_ls[['MK']]$counts"
   ]
  },
  {
   "cell_type": "markdown",
   "id": "eb6a1f25-6d62-4ab0-8cf1-77591aa16c27",
   "metadata": {},
   "source": [
    "## Create a metadata list"
   ]
  },
  {
   "cell_type": "code",
   "execution_count": 35,
   "id": "b5e73176-0814-44a6-a5cf-3f2862d23e39",
   "metadata": {
    "execution": {
     "iopub.execute_input": "2025-02-07T10:58:04.114064Z",
     "iopub.status.busy": "2025-02-07T10:58:04.112950Z",
     "iopub.status.idle": "2025-02-07T10:58:04.121174Z",
     "shell.execute_reply": "2025-02-07T10:58:04.120049Z"
    }
   },
   "outputs": [],
   "source": [
    "#colnames(metadata)"
   ]
  },
  {
   "cell_type": "code",
   "execution_count": 36,
   "id": "78c7cadf-5ea7-40c0-ab88-c32c7694119c",
   "metadata": {
    "execution": {
     "iopub.execute_input": "2025-02-07T10:58:05.050678Z",
     "iopub.status.busy": "2025-02-07T10:58:05.049544Z",
     "iopub.status.idle": "2025-02-07T10:58:05.114795Z",
     "shell.execute_reply": "2025-02-07T10:58:05.113618Z"
    }
   },
   "outputs": [
    {
     "name": "stdout",
     "output_type": "stream",
     "text": [
      "metadata_NEW_0\n",
      "'data.frame':\t16835 obs. of  3 variables:\n",
      " $ Assigned_GFPgenotype_integral: Ord.factor w/ 4 levels \"wt\"<\"CHEK2 T/T\"<..: 3 2 3 3 3 4 3 3 3 3 ...\n",
      " $ Assigned_GFPbc_integral      : Ord.factor w/ 12 levels \"chrGFP_WTA\"<\"chrGFP_WTB\"<..: 9 4 7 7 7 11 7 7 9 9 ...\n",
      " $ sample_id                    : Factor w/ 12 levels \"chrGFP_WTA\",\"chrGFP_WTB\",..: 9 4 7 7 7 11 7 7 9 9 ...\n",
      "\n",
      "metadata_NEW_0.5\n",
      "'data.frame':\t12 obs. of  3 variables:\n",
      " $ Assigned_GFPgenotype_integral: Ord.factor w/ 4 levels \"wt\"<\"CHEK2 T/T\"<..: 3 2 3 4 4 1 2 4 3 2 ...\n",
      " $ Assigned_GFPbc_integral      : Ord.factor w/ 12 levels \"chrGFP_WTA\"<\"chrGFP_WTB\"<..: 9 4 7 11 12 3 6 10 8 5 ...\n",
      " $ sample_id                    : Factor w/ 12 levels \"chrGFP_WTA\",\"chrGFP_WTB\",..: 9 4 7 11 12 3 6 10 8 5 ...\n",
      "\n",
      "metadata_NEW_1\n",
      "'data.frame':\t12 obs. of  3 variables:\n",
      " $ Assigned_GFPgenotype_integral: Ord.factor w/ 4 levels \"wt\"<\"CHEK2 T/T\"<..: 3 2 3 4 4 1 2 4 3 2 ...\n",
      " $ Assigned_GFPbc_integral      : Ord.factor w/ 12 levels \"chrGFP_WTA\"<\"chrGFP_WTB\"<..: 9 4 7 11 12 3 6 10 8 5 ...\n",
      " $ sample_id                    : Factor w/ 12 levels \"chrGFP_WTA\",\"chrGFP_WTB\",..: 9 4 7 11 12 3 6 10 8 5 ...\n",
      "\n"
     ]
    }
   ],
   "source": [
    " #### Create group level variables -----\n",
    "  \n",
    "  # Extract sample-level variables\n",
    "  metadata_NEW <- metadata %>% \n",
    "    as.data.frame() %>% \n",
    "    dplyr::select(Assigned_GFPgenotype_integral, Assigned_GFPbc_integral, sample_id)\n",
    "  \n",
    "cat(\"metadata_NEW_0\\n\")\n",
    "  cat(str(metadata_NEW))\n",
    "  cat(\"\\n\")\n",
    "  \n",
    "  # Exclude duplicated rows\n",
    "  metadata_NEW <- metadata_NEW[!duplicated(metadata_NEW), ]\n",
    "\n",
    "\n",
    "cat(\"metadata_NEW_0.5\\n\")\n",
    "  cat(str(metadata_NEW))\n",
    "  cat(\"\\n\")\n",
    "  \n",
    " \n",
    "  # Rename rows\n",
    "  rownames(metadata_NEW) <- metadata_NEW$sample_id\n",
    "  \n",
    "  cat(\"metadata_NEW_1\\n\")\n",
    "  cat(str(metadata_NEW))\n",
    "  cat(\"\\n\")\n",
    "  "
   ]
  },
  {
   "cell_type": "code",
   "execution_count": 37,
   "id": "9d1e7ca8-ca0b-47a6-87df-723848b77476",
   "metadata": {
    "execution": {
     "iopub.execute_input": "2025-02-07T10:58:06.723419Z",
     "iopub.status.busy": "2025-02-07T10:58:06.722325Z",
     "iopub.status.idle": "2025-02-07T10:58:06.740890Z",
     "shell.execute_reply": "2025-02-07T10:58:06.739777Z"
    }
   },
   "outputs": [
    {
     "name": "stdout",
     "output_type": "stream",
     "text": [
      "t_0\n",
      " 'table' int [1:12, 1:6] 59 133 76 127 113 252 875 93 2199 496 ...\n",
      " - attr(*, \"dimnames\")=List of 2\n",
      "  ..$ : chr [1:12] \"chrGFP_WTA\" \"chrGFP_WTB\" \"chrGFP_WTC\" \"chrGFP_rs1\" ...\n",
      "  ..$ : chr [1:6] \"hESC\" \"HemogenicEndothelium\" \"MEP\" \"early erythroid\" ...\n",
      "\n"
     ]
    }
   ],
   "source": [
    "t <- table(metadata$sample_id,\n",
    "             metadata$current_anot)\n",
    "  \n",
    "  cat(\"t_0\\n\")\n",
    "  cat(str(t))\n",
    "  cat(\"\\n\")"
   ]
  },
  {
   "cell_type": "code",
   "execution_count": 38,
   "id": "37cb4b8d-63be-4214-844c-d5df6b9bfd75",
   "metadata": {
    "execution": {
     "iopub.execute_input": "2025-02-07T10:58:07.519102Z",
     "iopub.status.busy": "2025-02-07T10:58:07.518008Z",
     "iopub.status.idle": "2025-02-07T10:58:07.592677Z",
     "shell.execute_reply": "2025-02-07T10:58:07.591379Z"
    }
   },
   "outputs": [],
   "source": [
    "##### Creating metadata list ----------------\n",
    "  \n",
    "  ## Initiate empty list\n",
    "  metadata_ls <- list()\n",
    "  \n",
    "  DEBUG<-0\n",
    "  \n",
    "  for (i in 1:length(counts_ls)) {\n",
    "    \n",
    "    ## Initiate a data frame for cluster i with one row per sample (matching column names in the counts matrix)\n",
    "    df <- data.frame(current_anot_sample_id = colnames(counts_ls[[i]]))\n",
    "\n",
    "      if(DEBUG == 1){\n",
    "\n",
    "         cat(\"df_0\\n\")\n",
    "         cat(str(df))\n",
    "         cat(\"\\n\")\n",
    "      }\n",
    "    \n",
    "    ## Use tstrsplit() to separate cluster (cell type) and sample IDs\n",
    "    df$current_anot_id <- tstrsplit(df$current_anot_sample_id, \"_cluster\")[[2]]\n",
    "    df$sample_id  <- tstrsplit(df$current_anot_sample_id, \"_cluster\")[[1]]\n",
    "    \n",
    "    \n",
    "     if(DEBUG == 1){\n",
    "\n",
    "         cat(\"df_1\\n\")\n",
    "         cat(str(df))\n",
    "         cat(\"\\n\")\n",
    "      }\n",
    "    \n",
    "    \n",
    "    ## Retrieve cell count information for this cluster from global cell count table\n",
    "    idx <- which(colnames(t) == unique(df$current_anot_id))\n",
    "\n",
    "       if(DEBUG == 1){\n",
    "\n",
    "                 cat(\"idx_0\\n\")\n",
    "                 cat(str(idx))\n",
    "                 cat(\"\\n\")          \n",
    "           }\n",
    "      \n",
    "    cell_counts <- t[, idx]\n",
    "\n",
    "       if(DEBUG == 1){\n",
    "\n",
    "                 cat(\"cell_counts_0\\n\")\n",
    "                 cat(str(cell_counts))\n",
    "                 cat(\"\\n\")          \n",
    "           }\n",
    " \n",
    "    \n",
    "    \n",
    "    \n",
    "    \n",
    "    \n",
    "    ## Remove samples with zero cell contributing to the cluster\n",
    "    cell_counts <- cell_counts[cell_counts > 0]\n",
    "    \n",
    "    if(DEBUG == 1){\n",
    "\n",
    "                 cat(\"cell_counts_1\\n\")\n",
    "                 cat(str(cell_counts))\n",
    "                 cat(\"\\n\")          \n",
    "           }\n",
    "    \n",
    "    \n",
    "    ## Match order of cell_counts and sample_ids\n",
    "    sample_order <- match(df$sample_id, names(cell_counts))\n",
    "    cell_counts <- cell_counts[sample_order]\n",
    "\n",
    "      if(DEBUG == 1){\n",
    "\n",
    "                 cat(\"cell_counts_2\\n\")\n",
    "                 cat(str(cell_counts))\n",
    "                 cat(\"\\n\")          \n",
    "           }\n",
    "    \n",
    "    \n",
    "    \n",
    "    ## Append cell_counts to data frame\n",
    "    df$cell_count <- cell_counts\n",
    "\n",
    "       if(DEBUG == 1){\n",
    "\n",
    "         cat(\"df_2\\n\")\n",
    "         cat(str(df))\n",
    "         cat(\"\\n\")\n",
    "      }\n",
    "    \n",
    "    \n",
    "    ## Join data frame (capturing metadata specific to cluster) to generic metadata\n",
    "    df <- plyr::join(df, metadata_NEW, \n",
    "                     by = intersect(names(df), names(metadata_NEW)))\n",
    "\n",
    "        if(DEBUG == 1){\n",
    "\n",
    "         cat(\"df_3\\n\")\n",
    "         cat(str(df))\n",
    "         cat(\"\\n\")\n",
    "      }\n",
    "    \n",
    "    ## Update rownames of metadata to match colnames of count matrix, as needed later for DE\n",
    "    rownames(df) <- df$current_anot_sample_id\n",
    "\n",
    "         if(DEBUG == 1){\n",
    "\n",
    "         cat(\"df_4\\n\")\n",
    "         cat(str(df))\n",
    "         cat(\"\\n\")\n",
    "      }\n",
    "    \n",
    "    ## Store complete metadata for cluster i in list\n",
    "    metadata_ls[[i]] <- df\n",
    "    names(metadata_ls)[i] <- unique(df$cluster_id)\n",
    "\n",
    "     # break\n",
    "    \n",
    "  }"
   ]
  },
  {
   "cell_type": "code",
   "execution_count": 67,
   "id": "bb21ddf2-1b66-4679-b707-a577f679ba64",
   "metadata": {
    "execution": {
     "iopub.execute_input": "2025-02-05T10:43:22.013124Z",
     "iopub.status.busy": "2025-02-05T10:43:22.012254Z",
     "iopub.status.idle": "2025-02-05T10:43:22.018826Z",
     "shell.execute_reply": "2025-02-05T10:43:22.017891Z"
    }
   },
   "outputs": [],
   "source": [
    " # Explore the different components of the list\n",
    "  \n",
    "  #cat(\"metadata_ls_0\\n\")\n",
    "  #cat(str(metadata_ls))\n",
    "  #cat(\"\\n\")\n",
    "\n",
    "# List of df. Each index is a cell type. Each df per index has the combination of current anot (cell type) and sample_id (time_point and clone line), the cell count of each of this triple combination together with the accesory column of GFPbc, GFPgenotype and time_point"
   ]
  },
  {
   "cell_type": "markdown",
   "id": "4b7b7e07-d9b9-4421-8d5e-011b3e20e5a8",
   "metadata": {},
   "source": [
    "# DESeq2 for DA analysis"
   ]
  },
  {
   "cell_type": "code",
   "execution_count": 39,
   "id": "6010103e-a263-413e-b622-d580b874fb04",
   "metadata": {
    "execution": {
     "iopub.execute_input": "2025-02-07T10:59:39.527991Z",
     "iopub.status.busy": "2025-02-07T10:59:39.526840Z",
     "iopub.status.idle": "2025-02-07T10:59:39.546987Z",
     "shell.execute_reply": "2025-02-07T10:59:39.545835Z"
    }
   },
   "outputs": [
    {
     "name": "stdout",
     "output_type": "stream",
     "text": [
      "check_1\n",
      "TRUE\n"
     ]
    }
   ],
   "source": [
    "# Double-check that both lists have same names\n",
    "  check_1<-all(names(counts_ls) == names(metadata_ls))\n",
    "  \n",
    "  cat(\"check_1\\n\")\n",
    "  cat(sprintf(as.character(check_1)))\n",
    "  cat(\"\\n\")"
   ]
  },
  {
   "cell_type": "code",
   "execution_count": 40,
   "id": "83caf98e-2855-4f56-b2bb-bbad276baf55",
   "metadata": {
    "execution": {
     "iopub.execute_input": "2025-02-07T10:59:42.384329Z",
     "iopub.status.busy": "2025-02-07T10:59:42.383214Z",
     "iopub.status.idle": "2025-02-07T10:59:42.395141Z",
     "shell.execute_reply": "2025-02-07T10:59:42.394040Z"
    }
   },
   "outputs": [
    {
     "name": "stdout",
     "output_type": "stream",
     "text": [
      " chr [1:6] \"hESC\" \"HemogenicEndothelium\" \"MEP\" \"early erythroid\" \"early MK\" ...\n"
     ]
    }
   ],
   "source": [
    "array_cell_annotations<-names(counts_ls)\n",
    "\n",
    "str(array_cell_annotations)"
   ]
  },
  {
   "cell_type": "markdown",
   "id": "189a5bcb-a12d-4fb5-8cc6-1101ee225855",
   "metadata": {},
   "source": [
    "### Loop within a cell type"
   ]
  },
  {
   "cell_type": "code",
   "execution_count": 44,
   "id": "ccef78bc-cd53-4e2b-847e-5a8d1c533a0b",
   "metadata": {
    "execution": {
     "iopub.execute_input": "2025-02-07T11:06:21.695921Z",
     "iopub.status.busy": "2025-02-07T11:06:21.694638Z",
     "iopub.status.idle": "2025-02-07T11:08:40.269811Z",
     "shell.execute_reply": "2025-02-07T11:08:40.268396Z"
    },
    "scrolled": true
   },
   "outputs": [
    {
     "name": "stdout",
     "output_type": "stream",
     "text": [
      "----------------------------------->\thESC\n"
     ]
    },
    {
     "name": "stderr",
     "output_type": "stream",
     "text": [
      "converting counts to integer mode\n",
      "\n",
      "  Note: levels of factors in the design contain characters other than\n",
      "  letters, numbers, '_' and '.'. It is recommended (but not required) to use\n",
      "  only letters, numbers, and delimiters '_' or '.', as these are safe characters\n",
      "  for column names in R. [This is a message, not a warning or an error]\n",
      "\n",
      "  Note: levels of factors in the design contain characters other than\n",
      "  letters, numbers, '_' and '.'. It is recommended (but not required) to use\n",
      "  only letters, numbers, and delimiters '_' or '.', as these are safe characters\n",
      "  for column names in R. [This is a message, not a warning or an error]\n",
      "\n",
      "using pre-existing size factors\n",
      "\n",
      "estimating dispersions\n",
      "\n",
      "gene-wise dispersion estimates\n",
      "\n",
      "mean-dispersion relationship\n",
      "\n",
      "-- note: fitType='parametric', but the dispersion trend was not well captured by the\n",
      "   function: y = a/x + b, and a local regression fit was automatically substituted.\n",
      "   specify fitType='local' or 'mean' to avoid this message next time.\n",
      "\n",
      "  Note: levels of factors in the design contain characters other than\n",
      "  letters, numbers, '_' and '.'. It is recommended (but not required) to use\n",
      "  only letters, numbers, and delimiters '_' or '.', as these are safe characters\n",
      "  for column names in R. [This is a message, not a warning or an error]\n",
      "\n",
      "final dispersion estimates\n",
      "\n",
      "fitting model and testing\n",
      "\n"
     ]
    },
    {
     "name": "stdout",
     "output_type": "stream",
     "text": [
      "------------------------------------->\tGenotype_CHEK2.T.T_vs_wt\n"
     ]
    },
    {
     "name": "stderr",
     "output_type": "stream",
     "text": [
      "using 'apeglm' for LFC shrinkage. If used in published research, please cite:\n",
      "    Zhu, A., Ibrahim, J.G., Love, M.I. (2018) Heavy-tailed prior distributions for\n",
      "    sequence count data: removing the noise and preserving large differences.\n",
      "    Bioinformatics. https://doi.org/10.1093/bioinformatics/bty895\n",
      "\n",
      "Warning message in nbinomGLM(x = x, Y = YNZ, size = size, weights = weightsNZ, offset = offsetNZ, :\n",
      "\"the line search routine failed, unable to sufficiently decrease the function value\"\n"
     ]
    },
    {
     "name": "stdout",
     "output_type": "stream",
     "text": [
      "------------------------------------->\tGenotype_DNMT3A.R882H_vs_wt\n"
     ]
    },
    {
     "name": "stderr",
     "output_type": "stream",
     "text": [
      "using 'apeglm' for LFC shrinkage. If used in published research, please cite:\n",
      "    Zhu, A., Ibrahim, J.G., Love, M.I. (2018) Heavy-tailed prior distributions for\n",
      "    sequence count data: removing the noise and preserving large differences.\n",
      "    Bioinformatics. https://doi.org/10.1093/bioinformatics/bty895\n",
      "\n",
      "Warning message in nbinomGLM(x = x, Y = YNZ, size = size, weights = weightsNZ, offset = offsetNZ, :\n",
      "\"the line search routine failed, unable to sufficiently decrease the function value\"\n",
      "Warning message in nbinomGLM(x = x, Y = YNZ, size = size, weights = weightsNZ, offset = offsetNZ, :\n",
      "\"the line search routine failed, unable to sufficiently decrease the function value\"\n"
     ]
    },
    {
     "name": "stdout",
     "output_type": "stream",
     "text": [
      "------------------------------------->\tGenotype_Double.mutants_vs_wt\n"
     ]
    },
    {
     "name": "stderr",
     "output_type": "stream",
     "text": [
      "using 'apeglm' for LFC shrinkage. If used in published research, please cite:\n",
      "    Zhu, A., Ibrahim, J.G., Love, M.I. (2018) Heavy-tailed prior distributions for\n",
      "    sequence count data: removing the noise and preserving large differences.\n",
      "    Bioinformatics. https://doi.org/10.1093/bioinformatics/bty895\n",
      "\n",
      "Warning message in nbinomGLM(x = x, Y = YNZ, size = size, weights = weightsNZ, offset = offsetNZ, :\n",
      "\"the line search routine failed, unable to sufficiently decrease the function value\"\n",
      "Warning message in melt(nor_counts, id.vars = \"Peak_ID\", variable.name = \"sample_id_current_annot_id\", :\n",
      "\"The melt generic in data.table has been passed a data.frame and will attempt to redirect to the relevant reshape2 method; please note that reshape2 is deprecated, and this redirection is now deprecated as well. To continue using melt methods from reshape2 while both libraries are attached, e.g. melt.list, you can prepend the namespace like reshape2::melt(nor_counts). In the next version, this warning will become an error.\"\n"
     ]
    },
    {
     "name": "stdout",
     "output_type": "stream",
     "text": [
      "----------------------------------->\tHemogenicEndothelium\n"
     ]
    },
    {
     "name": "stderr",
     "output_type": "stream",
     "text": [
      "converting counts to integer mode\n",
      "\n",
      "  Note: levels of factors in the design contain characters other than\n",
      "  letters, numbers, '_' and '.'. It is recommended (but not required) to use\n",
      "  only letters, numbers, and delimiters '_' or '.', as these are safe characters\n",
      "  for column names in R. [This is a message, not a warning or an error]\n",
      "\n",
      "  Note: levels of factors in the design contain characters other than\n",
      "  letters, numbers, '_' and '.'. It is recommended (but not required) to use\n",
      "  only letters, numbers, and delimiters '_' or '.', as these are safe characters\n",
      "  for column names in R. [This is a message, not a warning or an error]\n",
      "\n",
      "using pre-existing size factors\n",
      "\n",
      "estimating dispersions\n",
      "\n",
      "gene-wise dispersion estimates\n",
      "\n",
      "mean-dispersion relationship\n",
      "\n",
      "-- note: fitType='parametric', but the dispersion trend was not well captured by the\n",
      "   function: y = a/x + b, and a local regression fit was automatically substituted.\n",
      "   specify fitType='local' or 'mean' to avoid this message next time.\n",
      "\n",
      "  Note: levels of factors in the design contain characters other than\n",
      "  letters, numbers, '_' and '.'. It is recommended (but not required) to use\n",
      "  only letters, numbers, and delimiters '_' or '.', as these are safe characters\n",
      "  for column names in R. [This is a message, not a warning or an error]\n",
      "\n",
      "final dispersion estimates\n",
      "\n",
      "fitting model and testing\n",
      "\n"
     ]
    },
    {
     "name": "stdout",
     "output_type": "stream",
     "text": [
      "------------------------------------->\tGenotype_CHEK2.T.T_vs_wt\n"
     ]
    },
    {
     "name": "stderr",
     "output_type": "stream",
     "text": [
      "using 'apeglm' for LFC shrinkage. If used in published research, please cite:\n",
      "    Zhu, A., Ibrahim, J.G., Love, M.I. (2018) Heavy-tailed prior distributions for\n",
      "    sequence count data: removing the noise and preserving large differences.\n",
      "    Bioinformatics. https://doi.org/10.1093/bioinformatics/bty895\n",
      "\n",
      "Warning message in nbinomGLM(x = x, Y = YNZ, size = size, weights = weightsNZ, offset = offsetNZ, :\n",
      "\"the line search routine failed, unable to sufficiently decrease the function value\"\n",
      "Warning message in nbinomGLM(x = x, Y = YNZ, size = size, weights = weightsNZ, offset = offsetNZ, :\n",
      "\"the line search routine failed, unable to sufficiently decrease the function value\"\n",
      "Warning message in nbinomGLM(x = x, Y = YNZ, size = size, weights = weightsNZ, offset = offsetNZ, :\n",
      "\"the line search routine failed, unable to sufficiently decrease the function value\"\n",
      "Warning message in nbinomGLM(x = x, Y = YNZ, size = size, weights = weightsNZ, offset = offsetNZ, :\n",
      "\"the line search routine failed, unable to sufficiently decrease the function value\"\n",
      "Warning message in nbinomGLM(x = x, Y = YNZ, size = size, weights = weightsNZ, offset = offsetNZ, :\n",
      "\"the line search routine failed, unable to sufficiently decrease the function value\"\n",
      "Warning message in nbinomGLM(x = x, Y = YNZ, size = size, weights = weightsNZ, offset = offsetNZ, :\n",
      "\"the line search routine failed, unable to sufficiently decrease the function value\"\n",
      "Warning message in nbinomGLM(x = x, Y = YNZ, size = size, weights = weightsNZ, offset = offsetNZ, :\n",
      "\"the line search routine failed, unable to sufficiently decrease the function value\"\n",
      "Warning message in nbinomGLM(x = x, Y = YNZ, size = size, weights = weightsNZ, offset = offsetNZ, :\n",
      "\"the line search routine failed, unable to sufficiently decrease the function value\"\n",
      "Warning message in nbinomGLM(x = x, Y = YNZ, size = size, weights = weightsNZ, offset = offsetNZ, :\n",
      "\"the line search routine failed, unable to sufficiently decrease the function value\"\n",
      "Warning message in nbinomGLM(x = x, Y = YNZ, size = size, weights = weightsNZ, offset = offsetNZ, :\n",
      "\"the line search routine failed, unable to sufficiently decrease the function value\"\n",
      "Warning message in nbinomGLM(x = x, Y = YNZ, size = size, weights = weightsNZ, offset = offsetNZ, :\n",
      "\"the line search routine failed, unable to sufficiently decrease the function value\"\n",
      "Warning message in nbinomGLM(x = x, Y = YNZ, size = size, weights = weightsNZ, offset = offsetNZ, :\n",
      "\"the line search routine failed, unable to sufficiently decrease the function value\"\n",
      "Warning message in nbinomGLM(x = x, Y = YNZ, size = size, weights = weightsNZ, offset = offsetNZ, :\n",
      "\"the line search routine failed, unable to sufficiently decrease the function value\"\n",
      "Warning message in nbinomGLM(x = x, Y = YNZ, size = size, weights = weightsNZ, offset = offsetNZ, :\n",
      "\"the line search routine failed, unable to sufficiently decrease the function value\"\n"
     ]
    },
    {
     "name": "stdout",
     "output_type": "stream",
     "text": [
      "------------------------------------->\tGenotype_DNMT3A.R882H_vs_wt\n"
     ]
    },
    {
     "name": "stderr",
     "output_type": "stream",
     "text": [
      "using 'apeglm' for LFC shrinkage. If used in published research, please cite:\n",
      "    Zhu, A., Ibrahim, J.G., Love, M.I. (2018) Heavy-tailed prior distributions for\n",
      "    sequence count data: removing the noise and preserving large differences.\n",
      "    Bioinformatics. https://doi.org/10.1093/bioinformatics/bty895\n",
      "\n",
      "Warning message in nbinomGLM(x = x, Y = YNZ, size = size, weights = weightsNZ, offset = offsetNZ, :\n",
      "\"the line search routine failed, unable to sufficiently decrease the function value\"\n",
      "Warning message in nbinomGLM(x = x, Y = YNZ, size = size, weights = weightsNZ, offset = offsetNZ, :\n",
      "\"the line search routine failed, unable to sufficiently decrease the function value\"\n",
      "Warning message in nbinomGLM(x = x, Y = YNZ, size = size, weights = weightsNZ, offset = offsetNZ, :\n",
      "\"the line search routine failed, unable to sufficiently decrease the function value\"\n",
      "Warning message in nbinomGLM(x = x, Y = YNZ, size = size, weights = weightsNZ, offset = offsetNZ, :\n",
      "\"the line search routine failed, unable to sufficiently decrease the function value\"\n",
      "Warning message in nbinomGLM(x = x, Y = YNZ, size = size, weights = weightsNZ, offset = offsetNZ, :\n",
      "\"the line search routine failed, unable to sufficiently decrease the function value\"\n",
      "Warning message in nbinomGLM(x = x, Y = YNZ, size = size, weights = weightsNZ, offset = offsetNZ, :\n",
      "\"the line search routine failed, unable to sufficiently decrease the function value\"\n",
      "Warning message in nbinomGLM(x = x, Y = YNZ, size = size, weights = weightsNZ, offset = offsetNZ, :\n",
      "\"the line search routine failed, unable to sufficiently decrease the function value\"\n",
      "Warning message in nbinomGLM(x = x, Y = YNZ, size = size, weights = weightsNZ, offset = offsetNZ, :\n",
      "\"the line search routine failed, unable to sufficiently decrease the function value\"\n",
      "Warning message in nbinomGLM(x = x, Y = YNZ, size = size, weights = weightsNZ, offset = offsetNZ, :\n",
      "\"the line search routine failed, unable to sufficiently decrease the function value\"\n",
      "Warning message in nbinomGLM(x = x, Y = YNZ, size = size, weights = weightsNZ, offset = offsetNZ, :\n",
      "\"the line search routine failed, unable to sufficiently decrease the function value\"\n",
      "Warning message in nbinomGLM(x = x, Y = YNZ, size = size, weights = weightsNZ, offset = offsetNZ, :\n",
      "\"the line search routine failed, unable to sufficiently decrease the function value\"\n",
      "Warning message in nbinomGLM(x = x, Y = YNZ, size = size, weights = weightsNZ, offset = offsetNZ, :\n",
      "\"the line search routine failed, unable to sufficiently decrease the function value\"\n",
      "Warning message in nbinomGLM(x = x, Y = YNZ, size = size, weights = weightsNZ, offset = offsetNZ, :\n",
      "\"the line search routine failed, unable to sufficiently decrease the function value\"\n",
      "Warning message in nbinomGLM(x = x, Y = YNZ, size = size, weights = weightsNZ, offset = offsetNZ, :\n",
      "\"the line search routine failed, unable to sufficiently decrease the function value\"\n"
     ]
    },
    {
     "name": "stdout",
     "output_type": "stream",
     "text": [
      "------------------------------------->\tGenotype_Double.mutants_vs_wt\n"
     ]
    },
    {
     "name": "stderr",
     "output_type": "stream",
     "text": [
      "using 'apeglm' for LFC shrinkage. If used in published research, please cite:\n",
      "    Zhu, A., Ibrahim, J.G., Love, M.I. (2018) Heavy-tailed prior distributions for\n",
      "    sequence count data: removing the noise and preserving large differences.\n",
      "    Bioinformatics. https://doi.org/10.1093/bioinformatics/bty895\n",
      "\n",
      "Warning message in nbinomGLM(x = x, Y = YNZ, size = size, weights = weightsNZ, offset = offsetNZ, :\n",
      "\"the line search routine failed, unable to sufficiently decrease the function value\"\n",
      "Warning message in nbinomGLM(x = x, Y = YNZ, size = size, weights = weightsNZ, offset = offsetNZ, :\n",
      "\"the line search routine failed, unable to sufficiently decrease the function value\"\n",
      "Warning message in nbinomGLM(x = x, Y = YNZ, size = size, weights = weightsNZ, offset = offsetNZ, :\n",
      "\"the line search routine failed, unable to sufficiently decrease the function value\"\n",
      "Warning message in nbinomGLM(x = x, Y = YNZ, size = size, weights = weightsNZ, offset = offsetNZ, :\n",
      "\"the line search routine failed, unable to sufficiently decrease the function value\"\n",
      "Warning message in nbinomGLM(x = x, Y = YNZ, size = size, weights = weightsNZ, offset = offsetNZ, :\n",
      "\"the line search routine failed, unable to sufficiently decrease the function value\"\n",
      "Warning message in nbinomGLM(x = x, Y = YNZ, size = size, weights = weightsNZ, offset = offsetNZ, :\n",
      "\"the line search routine failed, unable to sufficiently decrease the function value\"\n",
      "Warning message in nbinomGLM(x = x, Y = YNZ, size = size, weights = weightsNZ, offset = offsetNZ, :\n",
      "\"the line search routine failed, unable to sufficiently decrease the function value\"\n",
      "Warning message in nbinomGLM(x = x, Y = YNZ, size = size, weights = weightsNZ, offset = offsetNZ, :\n",
      "\"the line search routine failed, unable to sufficiently decrease the function value\"\n",
      "Warning message in nbinomGLM(x = x, Y = YNZ, size = size, weights = weightsNZ, offset = offsetNZ, :\n",
      "\"the line search routine failed, unable to sufficiently decrease the function value\"\n",
      "Warning message in nbinomGLM(x = x, Y = YNZ, size = size, weights = weightsNZ, offset = offsetNZ, :\n",
      "\"the line search routine failed, unable to sufficiently decrease the function value\"\n",
      "Warning message in nbinomGLM(x = x, Y = YNZ, size = size, weights = weightsNZ, offset = offsetNZ, :\n",
      "\"the line search routine failed, unable to sufficiently decrease the function value\"\n",
      "Warning message in nbinomGLM(x = x, Y = YNZ, size = size, weights = weightsNZ, offset = offsetNZ, :\n",
      "\"the line search routine failed, unable to sufficiently decrease the function value\"\n",
      "Warning message in nbinomGLM(x = x, Y = YNZ, size = size, weights = weightsNZ, offset = offsetNZ, :\n",
      "\"the line search routine failed, unable to sufficiently decrease the function value\"\n",
      "Warning message in nbinomGLM(x = x, Y = YNZ, size = size, weights = weightsNZ, offset = offsetNZ, :\n",
      "\"the line search routine failed, unable to sufficiently decrease the function value\"\n",
      "Warning message in nbinomGLM(x = x, Y = YNZ, size = size, weights = weightsNZ, offset = offsetNZ, :\n",
      "\"the line search routine failed, unable to sufficiently decrease the function value\"\n",
      "Warning message in nbinomGLM(x = x, Y = YNZ, size = size, weights = weightsNZ, offset = offsetNZ, :\n",
      "\"the line search routine failed, unable to sufficiently decrease the function value\"\n",
      "Warning message in nbinomGLM(x = x, Y = YNZ, size = size, weights = weightsNZ, offset = offsetNZ, :\n",
      "\"the line search routine failed, unable to sufficiently decrease the function value\"\n",
      "Warning message in nbinomGLM(x = x, Y = YNZ, size = size, weights = weightsNZ, offset = offsetNZ, :\n",
      "\"the line search routine failed, unable to sufficiently decrease the function value\"\n",
      "Warning message in melt(nor_counts, id.vars = \"Peak_ID\", variable.name = \"sample_id_current_annot_id\", :\n",
      "\"The melt generic in data.table has been passed a data.frame and will attempt to redirect to the relevant reshape2 method; please note that reshape2 is deprecated, and this redirection is now deprecated as well. To continue using melt methods from reshape2 while both libraries are attached, e.g. melt.list, you can prepend the namespace like reshape2::melt(nor_counts). In the next version, this warning will become an error.\"\n"
     ]
    },
    {
     "name": "stdout",
     "output_type": "stream",
     "text": [
      "----------------------------------->\tMEP\n"
     ]
    },
    {
     "name": "stderr",
     "output_type": "stream",
     "text": [
      "converting counts to integer mode\n",
      "\n",
      "  Note: levels of factors in the design contain characters other than\n",
      "  letters, numbers, '_' and '.'. It is recommended (but not required) to use\n",
      "  only letters, numbers, and delimiters '_' or '.', as these are safe characters\n",
      "  for column names in R. [This is a message, not a warning or an error]\n",
      "\n",
      "  Note: levels of factors in the design contain characters other than\n",
      "  letters, numbers, '_' and '.'. It is recommended (but not required) to use\n",
      "  only letters, numbers, and delimiters '_' or '.', as these are safe characters\n",
      "  for column names in R. [This is a message, not a warning or an error]\n",
      "\n",
      "using pre-existing size factors\n",
      "\n",
      "estimating dispersions\n",
      "\n",
      "gene-wise dispersion estimates\n",
      "\n",
      "mean-dispersion relationship\n",
      "\n",
      "-- note: fitType='parametric', but the dispersion trend was not well captured by the\n",
      "   function: y = a/x + b, and a local regression fit was automatically substituted.\n",
      "   specify fitType='local' or 'mean' to avoid this message next time.\n",
      "\n",
      "  Note: levels of factors in the design contain characters other than\n",
      "  letters, numbers, '_' and '.'. It is recommended (but not required) to use\n",
      "  only letters, numbers, and delimiters '_' or '.', as these are safe characters\n",
      "  for column names in R. [This is a message, not a warning or an error]\n",
      "\n",
      "final dispersion estimates\n",
      "\n",
      "fitting model and testing\n",
      "\n"
     ]
    },
    {
     "name": "stdout",
     "output_type": "stream",
     "text": [
      "------------------------------------->\tGenotype_CHEK2.T.T_vs_wt\n"
     ]
    },
    {
     "name": "stderr",
     "output_type": "stream",
     "text": [
      "using 'apeglm' for LFC shrinkage. If used in published research, please cite:\n",
      "    Zhu, A., Ibrahim, J.G., Love, M.I. (2018) Heavy-tailed prior distributions for\n",
      "    sequence count data: removing the noise and preserving large differences.\n",
      "    Bioinformatics. https://doi.org/10.1093/bioinformatics/bty895\n",
      "\n",
      "Warning message in nbinomGLM(x = x, Y = YNZ, size = size, weights = weightsNZ, offset = offsetNZ, :\n",
      "\"the line search routine failed, unable to sufficiently decrease the function value\"\n",
      "Warning message in nbinomGLM(x = x, Y = YNZ, size = size, weights = weightsNZ, offset = offsetNZ, :\n",
      "\"the line search routine failed, unable to sufficiently decrease the function value\"\n",
      "Warning message in nbinomGLM(x = x, Y = YNZ, size = size, weights = weightsNZ, offset = offsetNZ, :\n",
      "\"the line search routine failed, unable to sufficiently decrease the function value\"\n",
      "Warning message in nbinomGLM(x = x, Y = YNZ, size = size, weights = weightsNZ, offset = offsetNZ, :\n",
      "\"the line search routine failed, unable to sufficiently decrease the function value\"\n"
     ]
    },
    {
     "name": "stdout",
     "output_type": "stream",
     "text": [
      "------------------------------------->\tGenotype_DNMT3A.R882H_vs_wt\n"
     ]
    },
    {
     "name": "stderr",
     "output_type": "stream",
     "text": [
      "using 'apeglm' for LFC shrinkage. If used in published research, please cite:\n",
      "    Zhu, A., Ibrahim, J.G., Love, M.I. (2018) Heavy-tailed prior distributions for\n",
      "    sequence count data: removing the noise and preserving large differences.\n",
      "    Bioinformatics. https://doi.org/10.1093/bioinformatics/bty895\n",
      "\n"
     ]
    },
    {
     "name": "stdout",
     "output_type": "stream",
     "text": [
      "------------------------------------->\tGenotype_Double.mutants_vs_wt\n"
     ]
    },
    {
     "name": "stderr",
     "output_type": "stream",
     "text": [
      "using 'apeglm' for LFC shrinkage. If used in published research, please cite:\n",
      "    Zhu, A., Ibrahim, J.G., Love, M.I. (2018) Heavy-tailed prior distributions for\n",
      "    sequence count data: removing the noise and preserving large differences.\n",
      "    Bioinformatics. https://doi.org/10.1093/bioinformatics/bty895\n",
      "\n",
      "Warning message in nbinomGLM(x = x, Y = YNZ, size = size, weights = weightsNZ, offset = offsetNZ, :\n",
      "\"the line search routine failed, unable to sufficiently decrease the function value\"\n",
      "Warning message in melt(nor_counts, id.vars = \"Peak_ID\", variable.name = \"sample_id_current_annot_id\", :\n",
      "\"The melt generic in data.table has been passed a data.frame and will attempt to redirect to the relevant reshape2 method; please note that reshape2 is deprecated, and this redirection is now deprecated as well. To continue using melt methods from reshape2 while both libraries are attached, e.g. melt.list, you can prepend the namespace like reshape2::melt(nor_counts). In the next version, this warning will become an error.\"\n"
     ]
    },
    {
     "name": "stdout",
     "output_type": "stream",
     "text": [
      "----------------------------------->\tearly erythroid\n"
     ]
    },
    {
     "name": "stderr",
     "output_type": "stream",
     "text": [
      "converting counts to integer mode\n",
      "\n",
      "  Note: levels of factors in the design contain characters other than\n",
      "  letters, numbers, '_' and '.'. It is recommended (but not required) to use\n",
      "  only letters, numbers, and delimiters '_' or '.', as these are safe characters\n",
      "  for column names in R. [This is a message, not a warning or an error]\n",
      "\n",
      "  Note: levels of factors in the design contain characters other than\n",
      "  letters, numbers, '_' and '.'. It is recommended (but not required) to use\n",
      "  only letters, numbers, and delimiters '_' or '.', as these are safe characters\n",
      "  for column names in R. [This is a message, not a warning or an error]\n",
      "\n",
      "using pre-existing size factors\n",
      "\n",
      "estimating dispersions\n",
      "\n",
      "gene-wise dispersion estimates\n",
      "\n",
      "mean-dispersion relationship\n",
      "\n",
      "-- note: fitType='parametric', but the dispersion trend was not well captured by the\n",
      "   function: y = a/x + b, and a local regression fit was automatically substituted.\n",
      "   specify fitType='local' or 'mean' to avoid this message next time.\n",
      "\n",
      "  Note: levels of factors in the design contain characters other than\n",
      "  letters, numbers, '_' and '.'. It is recommended (but not required) to use\n",
      "  only letters, numbers, and delimiters '_' or '.', as these are safe characters\n",
      "  for column names in R. [This is a message, not a warning or an error]\n",
      "\n",
      "final dispersion estimates\n",
      "\n",
      "fitting model and testing\n",
      "\n"
     ]
    },
    {
     "name": "stdout",
     "output_type": "stream",
     "text": [
      "------------------------------------->\tGenotype_CHEK2.T.T_vs_wt\n"
     ]
    },
    {
     "name": "stderr",
     "output_type": "stream",
     "text": [
      "using 'apeglm' for LFC shrinkage. If used in published research, please cite:\n",
      "    Zhu, A., Ibrahim, J.G., Love, M.I. (2018) Heavy-tailed prior distributions for\n",
      "    sequence count data: removing the noise and preserving large differences.\n",
      "    Bioinformatics. https://doi.org/10.1093/bioinformatics/bty895\n",
      "\n"
     ]
    },
    {
     "name": "stdout",
     "output_type": "stream",
     "text": [
      "------------------------------------->\tGenotype_DNMT3A.R882H_vs_wt\n"
     ]
    },
    {
     "name": "stderr",
     "output_type": "stream",
     "text": [
      "using 'apeglm' for LFC shrinkage. If used in published research, please cite:\n",
      "    Zhu, A., Ibrahim, J.G., Love, M.I. (2018) Heavy-tailed prior distributions for\n",
      "    sequence count data: removing the noise and preserving large differences.\n",
      "    Bioinformatics. https://doi.org/10.1093/bioinformatics/bty895\n",
      "\n",
      "Warning message in nbinomGLM(x = x, Y = YNZ, size = size, weights = weightsNZ, offset = offsetNZ, :\n",
      "\"the line search routine failed, unable to sufficiently decrease the function value\"\n",
      "Warning message in nbinomGLM(x = x, Y = YNZ, size = size, weights = weightsNZ, offset = offsetNZ, :\n",
      "\"the line search routine failed, unable to sufficiently decrease the function value\"\n"
     ]
    },
    {
     "name": "stdout",
     "output_type": "stream",
     "text": [
      "------------------------------------->\tGenotype_Double.mutants_vs_wt\n"
     ]
    },
    {
     "name": "stderr",
     "output_type": "stream",
     "text": [
      "using 'apeglm' for LFC shrinkage. If used in published research, please cite:\n",
      "    Zhu, A., Ibrahim, J.G., Love, M.I. (2018) Heavy-tailed prior distributions for\n",
      "    sequence count data: removing the noise and preserving large differences.\n",
      "    Bioinformatics. https://doi.org/10.1093/bioinformatics/bty895\n",
      "\n",
      "Warning message in melt(nor_counts, id.vars = \"Peak_ID\", variable.name = \"sample_id_current_annot_id\", :\n",
      "\"The melt generic in data.table has been passed a data.frame and will attempt to redirect to the relevant reshape2 method; please note that reshape2 is deprecated, and this redirection is now deprecated as well. To continue using melt methods from reshape2 while both libraries are attached, e.g. melt.list, you can prepend the namespace like reshape2::melt(nor_counts). In the next version, this warning will become an error.\"\n"
     ]
    },
    {
     "name": "stdout",
     "output_type": "stream",
     "text": [
      "----------------------------------->\tearly MK\n"
     ]
    },
    {
     "name": "stderr",
     "output_type": "stream",
     "text": [
      "converting counts to integer mode\n",
      "\n",
      "  Note: levels of factors in the design contain characters other than\n",
      "  letters, numbers, '_' and '.'. It is recommended (but not required) to use\n",
      "  only letters, numbers, and delimiters '_' or '.', as these are safe characters\n",
      "  for column names in R. [This is a message, not a warning or an error]\n",
      "\n",
      "  Note: levels of factors in the design contain characters other than\n",
      "  letters, numbers, '_' and '.'. It is recommended (but not required) to use\n",
      "  only letters, numbers, and delimiters '_' or '.', as these are safe characters\n",
      "  for column names in R. [This is a message, not a warning or an error]\n",
      "\n",
      "using pre-existing size factors\n",
      "\n",
      "estimating dispersions\n",
      "\n",
      "gene-wise dispersion estimates\n",
      "\n",
      "mean-dispersion relationship\n",
      "\n",
      "-- note: fitType='parametric', but the dispersion trend was not well captured by the\n",
      "   function: y = a/x + b, and a local regression fit was automatically substituted.\n",
      "   specify fitType='local' or 'mean' to avoid this message next time.\n",
      "\n",
      "  Note: levels of factors in the design contain characters other than\n",
      "  letters, numbers, '_' and '.'. It is recommended (but not required) to use\n",
      "  only letters, numbers, and delimiters '_' or '.', as these are safe characters\n",
      "  for column names in R. [This is a message, not a warning or an error]\n",
      "\n",
      "final dispersion estimates\n",
      "\n",
      "fitting model and testing\n",
      "\n"
     ]
    },
    {
     "name": "stdout",
     "output_type": "stream",
     "text": [
      "------------------------------------->\tGenotype_CHEK2.T.T_vs_wt\n"
     ]
    },
    {
     "name": "stderr",
     "output_type": "stream",
     "text": [
      "using 'apeglm' for LFC shrinkage. If used in published research, please cite:\n",
      "    Zhu, A., Ibrahim, J.G., Love, M.I. (2018) Heavy-tailed prior distributions for\n",
      "    sequence count data: removing the noise and preserving large differences.\n",
      "    Bioinformatics. https://doi.org/10.1093/bioinformatics/bty895\n",
      "\n"
     ]
    },
    {
     "name": "stdout",
     "output_type": "stream",
     "text": [
      "------------------------------------->\tGenotype_DNMT3A.R882H_vs_wt\n"
     ]
    },
    {
     "name": "stderr",
     "output_type": "stream",
     "text": [
      "using 'apeglm' for LFC shrinkage. If used in published research, please cite:\n",
      "    Zhu, A., Ibrahim, J.G., Love, M.I. (2018) Heavy-tailed prior distributions for\n",
      "    sequence count data: removing the noise and preserving large differences.\n",
      "    Bioinformatics. https://doi.org/10.1093/bioinformatics/bty895\n",
      "\n",
      "Warning message in nbinomGLM(x = x, Y = YNZ, size = size, weights = weightsNZ, offset = offsetNZ, :\n",
      "\"the line search routine failed, unable to sufficiently decrease the function value\"\n",
      "Warning message in nbinomGLM(x = x, Y = YNZ, size = size, weights = weightsNZ, offset = offsetNZ, :\n",
      "\"the line search routine failed, unable to sufficiently decrease the function value\"\n",
      "Warning message in nbinomGLM(x = x, Y = YNZ, size = size, weights = weightsNZ, offset = offsetNZ, :\n",
      "\"the line search routine failed, unable to sufficiently decrease the function value\"\n"
     ]
    },
    {
     "name": "stdout",
     "output_type": "stream",
     "text": [
      "------------------------------------->\tGenotype_Double.mutants_vs_wt\n"
     ]
    },
    {
     "name": "stderr",
     "output_type": "stream",
     "text": [
      "using 'apeglm' for LFC shrinkage. If used in published research, please cite:\n",
      "    Zhu, A., Ibrahim, J.G., Love, M.I. (2018) Heavy-tailed prior distributions for\n",
      "    sequence count data: removing the noise and preserving large differences.\n",
      "    Bioinformatics. https://doi.org/10.1093/bioinformatics/bty895\n",
      "\n",
      "Warning message in nbinomGLM(x = x, Y = YNZ, size = size, weights = weightsNZ, offset = offsetNZ, :\n",
      "\"the line search routine failed, unable to sufficiently decrease the function value\"\n",
      "Warning message in melt(nor_counts, id.vars = \"Peak_ID\", variable.name = \"sample_id_current_annot_id\", :\n",
      "\"The melt generic in data.table has been passed a data.frame and will attempt to redirect to the relevant reshape2 method; please note that reshape2 is deprecated, and this redirection is now deprecated as well. To continue using melt methods from reshape2 while both libraries are attached, e.g. melt.list, you can prepend the namespace like reshape2::melt(nor_counts). In the next version, this warning will become an error.\"\n"
     ]
    },
    {
     "name": "stdout",
     "output_type": "stream",
     "text": [
      "----------------------------------->\tMK\n"
     ]
    },
    {
     "name": "stderr",
     "output_type": "stream",
     "text": [
      "converting counts to integer mode\n",
      "\n",
      "  Note: levels of factors in the design contain characters other than\n",
      "  letters, numbers, '_' and '.'. It is recommended (but not required) to use\n",
      "  only letters, numbers, and delimiters '_' or '.', as these are safe characters\n",
      "  for column names in R. [This is a message, not a warning or an error]\n",
      "\n",
      "  Note: levels of factors in the design contain characters other than\n",
      "  letters, numbers, '_' and '.'. It is recommended (but not required) to use\n",
      "  only letters, numbers, and delimiters '_' or '.', as these are safe characters\n",
      "  for column names in R. [This is a message, not a warning or an error]\n",
      "\n",
      "using pre-existing size factors\n",
      "\n",
      "estimating dispersions\n",
      "\n",
      "gene-wise dispersion estimates\n",
      "\n",
      "mean-dispersion relationship\n",
      "\n",
      "-- note: fitType='parametric', but the dispersion trend was not well captured by the\n",
      "   function: y = a/x + b, and a local regression fit was automatically substituted.\n",
      "   specify fitType='local' or 'mean' to avoid this message next time.\n",
      "\n",
      "  Note: levels of factors in the design contain characters other than\n",
      "  letters, numbers, '_' and '.'. It is recommended (but not required) to use\n",
      "  only letters, numbers, and delimiters '_' or '.', as these are safe characters\n",
      "  for column names in R. [This is a message, not a warning or an error]\n",
      "\n",
      "final dispersion estimates\n",
      "\n",
      "fitting model and testing\n",
      "\n"
     ]
    },
    {
     "name": "stdout",
     "output_type": "stream",
     "text": [
      "------------------------------------->\tGenotype_CHEK2.T.T_vs_wt\n"
     ]
    },
    {
     "name": "stderr",
     "output_type": "stream",
     "text": [
      "using 'apeglm' for LFC shrinkage. If used in published research, please cite:\n",
      "    Zhu, A., Ibrahim, J.G., Love, M.I. (2018) Heavy-tailed prior distributions for\n",
      "    sequence count data: removing the noise and preserving large differences.\n",
      "    Bioinformatics. https://doi.org/10.1093/bioinformatics/bty895\n",
      "\n",
      "Warning message in nbinomGLM(x = x, Y = YNZ, size = size, weights = weightsNZ, offset = offsetNZ, :\n",
      "\"the line search routine failed, unable to sufficiently decrease the function value\"\n",
      "Warning message in nbinomGLM(x = x, Y = YNZ, size = size, weights = weightsNZ, offset = offsetNZ, :\n",
      "\"the line search routine failed, unable to sufficiently decrease the function value\"\n",
      "Warning message in nbinomGLM(x = x, Y = YNZ, size = size, weights = weightsNZ, offset = offsetNZ, :\n",
      "\"the line search routine failed, unable to sufficiently decrease the function value\"\n",
      "Warning message in nbinomGLM(x = x, Y = YNZ, size = size, weights = weightsNZ, offset = offsetNZ, :\n",
      "\"the line search routine failed, unable to sufficiently decrease the function value\"\n"
     ]
    },
    {
     "name": "stdout",
     "output_type": "stream",
     "text": [
      "------------------------------------->\tGenotype_DNMT3A.R882H_vs_wt\n"
     ]
    },
    {
     "name": "stderr",
     "output_type": "stream",
     "text": [
      "using 'apeglm' for LFC shrinkage. If used in published research, please cite:\n",
      "    Zhu, A., Ibrahim, J.G., Love, M.I. (2018) Heavy-tailed prior distributions for\n",
      "    sequence count data: removing the noise and preserving large differences.\n",
      "    Bioinformatics. https://doi.org/10.1093/bioinformatics/bty895\n",
      "\n"
     ]
    },
    {
     "name": "stdout",
     "output_type": "stream",
     "text": [
      "------------------------------------->\tGenotype_Double.mutants_vs_wt\n"
     ]
    },
    {
     "name": "stderr",
     "output_type": "stream",
     "text": [
      "using 'apeglm' for LFC shrinkage. If used in published research, please cite:\n",
      "    Zhu, A., Ibrahim, J.G., Love, M.I. (2018) Heavy-tailed prior distributions for\n",
      "    sequence count data: removing the noise and preserving large differences.\n",
      "    Bioinformatics. https://doi.org/10.1093/bioinformatics/bty895\n",
      "\n",
      "Warning message in melt(nor_counts, id.vars = \"Peak_ID\", variable.name = \"sample_id_current_annot_id\", :\n",
      "\"The melt generic in data.table has been passed a data.frame and will attempt to redirect to the relevant reshape2 method; please note that reshape2 is deprecated, and this redirection is now deprecated as well. To continue using melt methods from reshape2 while both libraries are attached, e.g. melt.list, you can prepend the namespace like reshape2::melt(nor_counts). In the next version, this warning will become an error.\"\n"
     ]
    }
   ],
   "source": [
    "DEBUG<-0\n",
    "\n",
    "Global_results<-data.frame()\n",
    "\n",
    "Global_normalized<-data.frame()\n",
    "\n",
    "for(i in 1:length(array_cell_annotations)){\n",
    "\n",
    "    Results_per_comparison_within_cell_type<-data.frame()\n",
    "\n",
    "\n",
    "    cell_type_sel<-array_cell_annotations[i]\n",
    "\n",
    "    cat(\"----------------------------------->\\t\")\n",
    "    cat(sprintf(as.character(cell_type_sel)))\n",
    "    cat(\"\\n\")\n",
    "\n",
    "    idx.sel<-which(names(counts_ls) == cell_type_sel)\n",
    "      cluster_counts <- counts_ls[[idx.sel]]\n",
    "\n",
    "    if(DEBUG == 1){\n",
    "          cat(\"cluster_counts_0\\n\")\n",
    "          cat(str(cluster_counts))\n",
    "          cat(\"\\n\")\n",
    "    }\n",
    "\n",
    "     cell_type_metadata <- metadata_ls[[idx.sel]]\n",
    "\n",
    "      if(DEBUG == 1){\n",
    "          cat(\"cell_type_metadata_0\\n\")\n",
    "          cat(str(cell_type_metadata))\n",
    "          cat(\"\\n\")\n",
    "    }\n",
    "\n",
    "    \n",
    "      cell_type_metadata$Genotype<-as.character(cell_type_metadata$Assigned_GFPgenotype_integral)\n",
    "      cell_type_metadata$Genotype<-factor(cell_type_metadata$Genotype)\n",
    "      cell_type_metadata$Genotype<-relevel(cell_type_metadata$Genotype, ref='wt') ### Nothing works with ordered factors\n",
    "\n",
    "\n",
    "       if(DEBUG == 1){\n",
    "          cat(\"cell_type_metadata_1\\n\")\n",
    "          cat(str(cell_type_metadata))\n",
    "          cat(\"\\n\")\n",
    "          cat(str(unique(cell_type_metadata$current_anot_id)))\n",
    "          cat(\"\\n\")\n",
    "    }\n",
    "\n",
    "    check_2<-all(colnames(cluster_counts) == rownames(cell_type_metadata))\n",
    "\n",
    "    if(DEBUG == 1){\n",
    "      cat(\"check_2\\n\")\n",
    "      cat(sprintf(as.character(check_2)))\n",
    "      cat(\"\\n\")\n",
    "        cat(sprintf(as.character(rownames(cell_type_metadata))))\n",
    "      cat(\"\\n\")\n",
    "    }\n",
    "\n",
    "\n",
    "    \n",
    "    ### DESeq data set with all the columns the contrast will be every column against the reference wt level set before\n",
    "\n",
    "     dds_NEW <- DESeqDataSetFromMatrix(cluster_counts, \n",
    "                                  colData = cell_type_metadata, \n",
    "                                  design = ~ Genotype)\n",
    "\n",
    "    ### Normalize ----------------------------------\n",
    "\n",
    "    dds_NEW<-estimateSizeFactors(dds_NEW)\n",
    "\n",
    "    #### Run DESeq LRT comparing to the reduced model\n",
    "\n",
    "    dds_NEW_lrt <- DESeq(dds_NEW, test = \"LRT\", reduced = ~ 1)\n",
    "\n",
    "   \n",
    "     ###### Obtain all the possible contrasts --------------------------\n",
    "\n",
    "    possible_contrasts<-colnames(dds_NEW_lrt@modelMatrix)[-1] # -1 because 1 is the Intercept term\n",
    "\n",
    "    for(iteration_contrasts in 1:length(possible_contrasts)){\n",
    "\n",
    "        contrast_sel<-possible_contrasts[iteration_contrasts]\n",
    "\n",
    "        cat(\"------------------------------------->\\t\")\n",
    "        cat(sprintf(as.character(contrast_sel)))\n",
    "        cat(\"\\n\")\n",
    "        \n",
    "\n",
    "        ############ obtain the result for this contrast with its specific pvalue coming from Wald test see ?results\n",
    "\n",
    "        tmp_results<-results(dds_NEW_lrt, test= \"Wald\", name=contrast_sel)\n",
    "\n",
    "        #### expand LogFC #########################################\n",
    "    \n",
    "        tmp_results <- lfcShrink(dds_NEW_lrt, \n",
    "                                     coef = contrast_sel,\n",
    "                                     res=tmp_results,\n",
    "                                     type = \"apeglm\")\n",
    "\n",
    "          if(DEBUG == 1){\n",
    "          cat(\"tmp_results_0\\n\")\n",
    "          cat(str(tmp_results))\n",
    "          cat(\"\\n\")\n",
    "            }\n",
    "\n",
    "\n",
    "          #### obtain data frame #########################################\n",
    "\n",
    "          tmp_tb <- as.data.frame(tmp_results %>%\n",
    "                      data.frame() %>%\n",
    "                      rownames_to_column(var = \"Peak_ID\") %>%\n",
    "                      as_tibble() %>%\n",
    "                      arrange(padj), stringsAsFactors=F)\n",
    "                    \n",
    "                    \n",
    "\n",
    "        if(DEBUG == 1){\n",
    "          cat(\"tmp_tb_0\\n\")\n",
    "          cat(str(tmp_tb))\n",
    "          cat(\"\\n\")\n",
    "            }\n",
    "\n",
    "        tmp_tb$contrast<-contrast_sel\n",
    "\n",
    "\n",
    "        if(DEBUG == 1){\n",
    "          cat(\"tmp_tb_1\\n\")\n",
    "          cat(str(tmp_tb))\n",
    "          cat(\"\\n\")\n",
    "            }\n",
    "\n",
    "\n",
    "        Results_per_comparison_within_cell_type<-rbind(tmp_tb,Results_per_comparison_within_cell_type)\n",
    "    \n",
    "\n",
    "        \n",
    "\n",
    "        }#iteration_contrasts in 1:length(possible_contrasts)\n",
    "\n",
    "\n",
    "    Results_per_comparison_within_cell_type$cell_type<-cell_type_sel\n",
    "\n",
    "    Global_results<-rbind(Results_per_comparison_within_cell_type,Global_results)\n",
    "\n",
    "    #### Extract normalized counts to plot heatmaps later ----------------------------------------\n",
    "\n",
    "    nor_counts<-as.data.frame(counts(dds_NEW, normalized=TRUE))\n",
    "\n",
    "    nor_counts$Peak_ID<-row.names(nor_counts)\n",
    "    row.names(nor_counts)<-NULL\n",
    "\n",
    "    nor_counts.m<-melt(nor_counts, id.vars='Peak_ID', variable.name=\"sample_id_current_annot_id\", value.name=\"count\")\n",
    "    nor_counts.m$GFPbc_integral<-gsub(\"_cluster.+$\",\"\",nor_counts.m$sample_id_current_annot_id)\n",
    "    nor_counts.m$current_anot<-gsub(\"^.+_cluster\",\"\",nor_counts.m$sample_id_current_annot_id)    \n",
    "    nor_counts.m<-nor_counts.m[,-which(colnames(nor_counts.m) == 'sample_id_current_annot_id')]\n",
    "\n",
    "    if(DEBUG == 1){\n",
    "       cat(\"nor_counts.m_0\\n\")\n",
    "         str(nor_counts.m)\n",
    "         cat(\"\\n\")\n",
    "        }\n",
    "    \n",
    "\n",
    "    Global_normalized<-rbind(nor_counts.m, Global_normalized)\n",
    "\n",
    "    \n",
    "    \n",
    "}# i in 1:length(array_cell_annotations"
   ]
  },
  {
   "cell_type": "code",
   "execution_count": 45,
   "id": "8e676669-3893-4afb-8374-90bce7570b27",
   "metadata": {
    "execution": {
     "iopub.execute_input": "2025-02-07T11:21:24.835861Z",
     "iopub.status.busy": "2025-02-07T11:21:24.834737Z",
     "iopub.status.idle": "2025-02-07T11:21:24.851961Z",
     "shell.execute_reply": "2025-02-07T11:21:24.850843Z"
    }
   },
   "outputs": [
    {
     "name": "stdout",
     "output_type": "stream",
     "text": [
      "'data.frame':\t145548 obs. of  8 variables:\n",
      " $ Peak_ID       : chr  \"chr1-5716645-5718290\" \"chr1-5764546-5764772\" \"chr1-5766017-5767357\" \"chr1-5830392-5832611\" ...\n",
      " $ baseMean      : num  0.967 0.119 0.526 1.718 0.171 ...\n",
      " $ log2FoldChange: num  4.92e-07 -7.88e-08 2.17e-07 -1.10e-06 7.82e-08 ...\n",
      " $ lfcSE         : num  0.00144 0.00144 0.00144 0.00144 0.00144 ...\n",
      " $ pvalue        : num  0.579 0.744 0.852 0.429 0.989 ...\n",
      " $ padj          : num  1 1 1 1 1 ...\n",
      " $ contrast      : chr  \"Genotype_Double.mutants_vs_wt\" \"Genotype_Double.mutants_vs_wt\" \"Genotype_Double.mutants_vs_wt\" \"Genotype_Double.mutants_vs_wt\" ...\n",
      " $ cell_type     : chr  \"MK\" \"MK\" \"MK\" \"MK\" ...\n"
     ]
    }
   ],
   "source": [
    "str(Global_results)"
   ]
  },
  {
   "cell_type": "code",
   "execution_count": 48,
   "id": "7aded999-0989-48fb-b8fa-a19860d41c09",
   "metadata": {
    "execution": {
     "iopub.execute_input": "2025-02-07T11:22:06.634894Z",
     "iopub.status.busy": "2025-02-07T11:22:06.633833Z",
     "iopub.status.idle": "2025-02-07T11:22:06.645912Z",
     "shell.execute_reply": "2025-02-07T11:22:06.644848Z"
    }
   },
   "outputs": [
    {
     "name": "stdout",
     "output_type": "stream",
     "text": [
      "'data.frame':\t574106 obs. of  4 variables:\n",
      " $ Peak_ID       : chr  \"chr1-5716645-5718290\" \"chr1-5764546-5764772\" \"chr1-5766017-5767357\" \"chr1-5830392-5832611\" ...\n",
      " $ count         : num  3.69 0 0 4.92 0 ...\n",
      " $ GFPbc_integral: chr  \"chrGFP_R882H1\" \"chrGFP_R882H1\" \"chrGFP_R882H1\" \"chrGFP_R882H1\" ...\n",
      " $ current_anot  : chr  \"MK\" \"MK\" \"MK\" \"MK\" ...\n"
     ]
    }
   ],
   "source": [
    "str(Global_normalized)"
   ]
  },
  {
   "cell_type": "code",
   "execution_count": 55,
   "id": "8c65d59f-a106-4892-9a5b-bc74b44ca626",
   "metadata": {
    "execution": {
     "iopub.execute_input": "2025-02-07T11:27:11.801422Z",
     "iopub.status.busy": "2025-02-07T11:27:11.800206Z",
     "iopub.status.idle": "2025-02-07T11:27:11.813813Z",
     "shell.execute_reply": "2025-02-07T11:27:11.812594Z"
    }
   },
   "outputs": [],
   "source": [
    "colnames(LinkedPeaks)[which(colnames(LinkedPeaks) == 'pvalue')]<-'pvalue_Links'\n",
    "colnames(LinkedPeaks)[which(colnames(LinkedPeaks) == 'Minus_logpval')]<-'Minus_logpval_Links'"
   ]
  },
  {
   "cell_type": "code",
   "execution_count": 56,
   "id": "2e512ad8-a126-452c-8f00-a15ec50d15c0",
   "metadata": {
    "execution": {
     "iopub.execute_input": "2025-02-07T11:27:12.242630Z",
     "iopub.status.busy": "2025-02-07T11:27:12.241520Z",
     "iopub.status.idle": "2025-02-07T11:27:12.853831Z",
     "shell.execute_reply": "2025-02-07T11:27:12.852287Z"
    }
   },
   "outputs": [],
   "source": [
    "Global_results<-merge(Global_results,  LinkedPeaks, by ='Peak_ID')"
   ]
  },
  {
   "cell_type": "code",
   "execution_count": 57,
   "id": "b74ae2c5-14a9-4ee4-a2e7-8d40c1d7419c",
   "metadata": {
    "execution": {
     "iopub.execute_input": "2025-02-07T11:27:12.857060Z",
     "iopub.status.busy": "2025-02-07T11:27:12.855945Z",
     "iopub.status.idle": "2025-02-07T11:27:12.874935Z",
     "shell.execute_reply": "2025-02-07T11:27:12.873718Z"
    }
   },
   "outputs": [
    {
     "name": "stdout",
     "output_type": "stream",
     "text": [
      "'data.frame':\t157428 obs. of  18 variables:\n",
      " $ Peak_ID            : chr  \"chr1-102834710-102835233\" \"chr1-102834710-102835233\" \"chr1-102834710-102835233\" \"chr1-102834710-102835233\" ...\n",
      " $ baseMean           : num  0.4392 0.0681 0.1381 0.0404 0.049 ...\n",
      " $ log2FoldChange     : num  -2.17e-08 5.97e-08 5.44e-03 -3.77e-09 -1.12e-08 ...\n",
      " $ lfcSE              : num  0.00144 0.00144 0.27509 0.00144 0.00144 ...\n",
      " $ pvalue             : num  0.992 0.606 0.776 0.907 0.833 ...\n",
      " $ padj               : num  0.998 1 0.918 0.952 1 ...\n",
      " $ contrast           : chr  \"Genotype_CHEK2.T.T_vs_wt\" \"Genotype_CHEK2.T.T_vs_wt\" \"Genotype_CHEK2.T.T_vs_wt\" \"Genotype_DNMT3A.R882H_vs_wt\" ...\n",
      " $ cell_type          : chr  \"HemogenicEndothelium\" \"MK\" \"early MK\" \"early erythroid\" ...\n",
      " $ seqnames           : Factor w/ 24 levels \"chr1\",\"chr2\",..: 1 1 1 1 1 1 1 1 1 1 ...\n",
      " $ start              : int  102834972 102834972 102834972 102834972 102834972 102834972 102834972 102834972 102834972 102834972 ...\n",
      " $ end                : int  103108496 103108496 103108496 103108496 103108496 103108496 103108496 103108496 103108496 103108496 ...\n",
      " $ width              : int  273525 273525 273525 273525 273525 273525 273525 273525 273525 273525 ...\n",
      " $ strand             : Factor w/ 3 levels \"+\",\"-\",\"*\": 3 3 3 3 3 3 3 3 3 3 ...\n",
      " $ score              : num  0.109 0.109 0.109 0.109 0.109 ...\n",
      " $ Symbol             : chr  \"COL11A1\" \"COL11A1\" \"COL11A1\" \"COL11A1\" ...\n",
      " $ zscore             : num  2.2 2.2 2.2 2.2 2.2 ...\n",
      " $ pvalue_Links       : num  0.014 0.014 0.014 0.014 0.014 ...\n",
      " $ Minus_logpval_Links: num  1.85 1.85 1.85 1.85 1.85 1.85 1.85 1.85 1.85 1.85 ...\n"
     ]
    }
   ],
   "source": [
    "str(Global_results)"
   ]
  },
  {
   "cell_type": "code",
   "execution_count": 59,
   "id": "ca9fa8a2-70be-459f-a031-00757d42de2a",
   "metadata": {
    "execution": {
     "iopub.execute_input": "2025-02-07T11:27:59.705345Z",
     "iopub.status.busy": "2025-02-07T11:27:59.704132Z",
     "iopub.status.idle": "2025-02-07T11:27:59.725254Z",
     "shell.execute_reply": "2025-02-07T11:27:59.723993Z"
    }
   },
   "outputs": [
    {
     "name": "stdout",
     "output_type": "stream",
     "text": [
      "'data.frame':\t0 obs. of  18 variables:\n",
      " $ Peak_ID            : chr \n",
      " $ baseMean           : num \n",
      " $ log2FoldChange     : num \n",
      " $ lfcSE              : num \n",
      " $ pvalue             : num \n",
      " $ padj               : num \n",
      " $ contrast           : chr \n",
      " $ cell_type          : chr \n",
      " $ seqnames           : Factor w/ 24 levels \"chr1\",\"chr2\",..: \n",
      " $ start              : int \n",
      " $ end                : int \n",
      " $ width              : int \n",
      " $ strand             : Factor w/ 3 levels \"+\",\"-\",\"*\": \n",
      " $ score              : num \n",
      " $ Symbol             : chr \n",
      " $ zscore             : num \n",
      " $ pvalue_Links       : num \n",
      " $ Minus_logpval_Links: num \n"
     ]
    }
   ],
   "source": [
    "SIG<-Global_results[which(Global_results$padj < 0.05),]\n",
    "\n",
    "str(SIG)"
   ]
  },
  {
   "cell_type": "code",
   "execution_count": 60,
   "id": "0688dbef-0bd3-436d-a678-f78c34def19c",
   "metadata": {
    "execution": {
     "iopub.execute_input": "2025-02-07T11:28:04.475908Z",
     "iopub.status.busy": "2025-02-07T11:28:04.474678Z",
     "iopub.status.idle": "2025-02-07T11:28:04.486810Z",
     "shell.execute_reply": "2025-02-07T11:28:04.485553Z"
    }
   },
   "outputs": [
    {
     "data": {
      "text/html": [],
      "text/latex": [],
      "text/markdown": [],
      "text/plain": [
       "integer(0)"
      ]
     },
     "metadata": {},
     "output_type": "display_data"
    }
   ],
   "source": [
    "summary(as.factor(SIG$contrast))"
   ]
  },
  {
   "attachments": {},
   "cell_type": "markdown",
   "id": "d49c34a8-e525-47a2-a7e0-5ef435f154ba",
   "metadata": {},
   "source": [
    "# SAVE DA results"
   ]
  },
  {
   "cell_type": "code",
   "execution_count": 61,
   "id": "908efc80-bd45-43de-8799-d1a070b113b0",
   "metadata": {
    "execution": {
     "iopub.execute_input": "2025-02-07T11:29:03.649997Z",
     "iopub.status.busy": "2025-02-07T11:29:03.648728Z",
     "iopub.status.idle": "2025-02-07T11:29:05.435385Z",
     "shell.execute_reply": "2025-02-07T11:29:05.433916Z"
    }
   },
   "outputs": [],
   "source": [
    "setwd(\"/group/soranzo/manuel.tardaguila/2025_hESC_MK_multiome/Downstream_analysis/\")\n",
    "\n",
    "write.table(Global_results, file=\"DA_results_without_time_as_a_covariate_NEW_METHOD_only_linked_peaks_to_DE_genes.tsv\", sep=\"\\t\", quote=F, row.names=F)"
   ]
  },
  {
   "cell_type": "code",
   "execution_count": 62,
   "id": "f02dbade-d7aa-44ce-bd8f-67c08d094079",
   "metadata": {
    "execution": {
     "iopub.execute_input": "2025-02-07T11:29:05.438596Z",
     "iopub.status.busy": "2025-02-07T11:29:05.437501Z",
     "iopub.status.idle": "2025-02-07T11:29:06.447991Z",
     "shell.execute_reply": "2025-02-07T11:29:06.446503Z"
    }
   },
   "outputs": [],
   "source": [
    "setwd(\"/group/soranzo/manuel.tardaguila/2025_hESC_MK_multiome/Downstream_analysis/\")\n",
    "\n",
    "write.table(Global_normalized, file=\"Normalized_Peak_counts_NEW_METHOD_only_linked_peaks_to_DE_genes.tsv\", sep=\"\\t\", quote=F, row.names=F)"
   ]
  },
  {
   "cell_type": "code",
   "execution_count": 64,
   "id": "98e22ed3-5a62-4365-80cb-d997ca421c0a",
   "metadata": {
    "execution": {
     "iopub.execute_input": "2025-02-07T11:37:19.020414Z",
     "iopub.status.busy": "2025-02-07T11:37:19.019205Z",
     "iopub.status.idle": "2025-02-07T11:37:19.030676Z",
     "shell.execute_reply": "2025-02-07T11:37:19.029435Z"
    }
   },
   "outputs": [
    {
     "name": "stdout",
     "output_type": "stream",
     "text": [
      " Ord.factor w/ 6 levels \"hESC\"<\"HemogenicEndothelium\"<..: 1 1 1 1 1 1 1 1 1 1 ...\n"
     ]
    }
   ],
   "source": [
    "str(adata_geno@meta.data$current_anot)"
   ]
  },
  {
   "cell_type": "code",
   "execution_count": 65,
   "id": "cfadb7e4-0690-4da2-bf99-85eb08ca1470",
   "metadata": {
    "execution": {
     "iopub.execute_input": "2025-02-07T11:38:12.063416Z",
     "iopub.status.busy": "2025-02-07T11:38:12.062226Z",
     "iopub.status.idle": "2025-02-07T11:38:12.077389Z",
     "shell.execute_reply": "2025-02-07T11:38:12.076143Z"
    }
   },
   "outputs": [
    {
     "data": {
      "text/html": [
       "<style>\n",
       ".dl-inline {width: auto; margin:0; padding: 0}\n",
       ".dl-inline>dt, .dl-inline>dd {float: none; width: auto; display: inline-block}\n",
       ".dl-inline>dt::after {content: \":\\0020\"; padding-right: .5ex}\n",
       ".dl-inline>dt:not(:first-of-type) {padding-left: .5ex}\n",
       "</style><dl class=dl-inline><dt>hESC</dt><dd>5705</dd><dt>HemogenicEndothelium</dt><dd>0</dd><dt>MEP</dt><dd>0</dd><dt>early erythroid</dt><dd>0</dd><dt>early MK</dt><dd>0</dd><dt>MK</dt><dd>0</dd></dl>\n"
      ],
      "text/latex": [
       "\\begin{description*}\n",
       "\\item[hESC] 5705\n",
       "\\item[HemogenicEndothelium] 0\n",
       "\\item[MEP] 0\n",
       "\\item[early erythroid] 0\n",
       "\\item[early MK] 0\n",
       "\\item[MK] 0\n",
       "\\end{description*}\n"
      ],
      "text/markdown": [
       "hESC\n",
       ":   5705HemogenicEndothelium\n",
       ":   0MEP\n",
       ":   0early erythroid\n",
       ":   0early MK\n",
       ":   0MK\n",
       ":   0\n",
       "\n"
      ],
      "text/plain": [
       "                hESC HemogenicEndothelium                  MEP \n",
       "                5705                    0                    0 \n",
       "     early erythroid             early MK                   MK \n",
       "                   0                    0                    0 "
      ]
     },
     "metadata": {},
     "output_type": "display_data"
    }
   ],
   "source": [
    "summary(adata_geno@meta.data$current_anot[which(as.numeric(adata_geno@meta.data$current_anot) ==1)])"
   ]
  },
  {
   "cell_type": "code",
   "execution_count": 70,
   "id": "6735917f-7db6-4249-9dbb-df04387bb551",
   "metadata": {
    "execution": {
     "iopub.execute_input": "2025-02-07T11:42:54.856409Z",
     "iopub.status.busy": "2025-02-07T11:42:54.855177Z",
     "iopub.status.idle": "2025-02-07T11:42:54.869811Z",
     "shell.execute_reply": "2025-02-07T11:42:54.868516Z"
    }
   },
   "outputs": [
    {
     "data": {
      "text/html": [
       "'early erythroid'"
      ],
      "text/latex": [
       "'early erythroid'"
      ],
      "text/markdown": [
       "'early erythroid'"
      ],
      "text/plain": [
       "[1] \"early erythroid\""
      ]
     },
     "metadata": {},
     "output_type": "display_data"
    }
   ],
   "source": [
    "ct<-as.character(unique(adata_geno@meta.data$current_anot[which(as.numeric(adata_geno@meta.data$current_anot) ==4)]))\n",
    "\n",
    "ct"
   ]
  },
  {
   "cell_type": "code",
   "execution_count": null,
   "id": "211e4f9e-d2b5-48b3-a300-c8b9a83feead",
   "metadata": {},
   "outputs": [],
   "source": []
  },
  {
   "cell_type": "code",
   "execution_count": 73,
   "id": "aa356b0e-e713-4657-b9fb-13ab4b48e6d5",
   "metadata": {
    "execution": {
     "iopub.execute_input": "2025-02-07T11:44:11.842412Z",
     "iopub.status.busy": "2025-02-07T11:44:11.841176Z",
     "iopub.status.idle": "2025-02-07T11:44:15.288608Z",
     "shell.execute_reply": "2025-02-07T11:44:15.286680Z"
    }
   },
   "outputs": [],
   "source": [
    "adata_geno_cell_type_sel<-subset(adata_geno, current_anot == ct)"
   ]
  },
  {
   "cell_type": "code",
   "execution_count": 74,
   "id": "6d01c4e8-ac86-4082-9906-7414316fa72d",
   "metadata": {
    "execution": {
     "iopub.execute_input": "2025-02-07T11:44:23.083837Z",
     "iopub.status.busy": "2025-02-07T11:44:23.082525Z",
     "iopub.status.idle": "2025-02-07T11:44:23.101500Z",
     "shell.execute_reply": "2025-02-07T11:44:23.100255Z"
    }
   },
   "outputs": [
    {
     "data": {
      "text/plain": [
       "An object of class Seurat \n",
       "453406 features across 678 samples within 5 assays \n",
       "Active assay: peak_subset (8086 features, 0 variable features)\n",
       " 2 layers present: counts, data\n",
       " 4 other assays present: RNA, RNA_raw, SCT, ATAC\n",
       " 7 dimensional reductions calculated: pca, umap.rna, lsi, umap.atac, umap.wnn, harmony.rna, harmony.atac"
      ]
     },
     "metadata": {},
     "output_type": "display_data"
    }
   ],
   "source": [
    "adata_geno_cell_type_sel"
   ]
  },
  {
   "cell_type": "code",
   "execution_count": null,
   "id": "63ff3102-5af7-4edd-befc-3041a62686ca",
   "metadata": {},
   "outputs": [],
   "source": []
  },
  {
   "cell_type": "code",
   "execution_count": null,
   "id": "9d91a900-e58b-43b0-aa0d-874449f7ec9e",
   "metadata": {},
   "outputs": [],
   "source": []
  },
  {
   "cell_type": "code",
   "execution_count": null,
   "id": "17459a19-bb99-4691-bfe5-06de9527dfc1",
   "metadata": {},
   "outputs": [],
   "source": []
  },
  {
   "cell_type": "code",
   "execution_count": null,
   "id": "1be6b0c0-7665-473b-8c0e-83eecf901407",
   "metadata": {},
   "outputs": [],
   "source": []
  },
  {
   "cell_type": "code",
   "execution_count": null,
   "id": "7492966b-df78-436f-9cdc-f6f6adafe916",
   "metadata": {},
   "outputs": [],
   "source": []
  }
 ],
 "metadata": {
  "kernelspec": {
   "display_name": "R [conda env:multiome_QC]",
   "language": "R",
   "name": "conda-env-multiome_QC-r"
  },
  "language_info": {
   "codemirror_mode": "r",
   "file_extension": ".r",
   "mimetype": "text/x-r-source",
   "name": "R",
   "pygments_lexer": "r",
   "version": "4.3.1"
  }
 },
 "nbformat": 4,
 "nbformat_minor": 5
}
