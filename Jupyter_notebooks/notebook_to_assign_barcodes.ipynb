{
 "cells": [
  {
   "cell_type": "markdown",
   "id": "6aa90505-d963-4f35-be51-e57a2b285ffa",
   "metadata": {},
   "source": [
    "# Load packages and libraries"
   ]
  },
  {
   "cell_type": "code",
   "execution_count": 87,
   "id": "abcc97a1-28a1-4588-939d-0adc2b54439d",
   "metadata": {
    "execution": {
     "iopub.execute_input": "2025-02-03T16:31:12.707901Z",
     "iopub.status.busy": "2025-02-03T16:31:12.706768Z",
     "iopub.status.idle": "2025-02-03T16:31:21.835536Z",
     "shell.execute_reply": "2025-02-03T16:31:21.834346Z"
    },
    "vscode": {
     "languageId": "r"
    }
   },
   "outputs": [
    {
     "data": {
      "text/html": [
       "'/home/manuel.tardaguila/conda_envs/multiome_QC/lib/R/library'"
      ],
      "text/latex": [
       "'/home/manuel.tardaguila/conda\\_envs/multiome\\_QC/lib/R/library'"
      ],
      "text/markdown": [
       "'/home/manuel.tardaguila/conda_envs/multiome_QC/lib/R/library'"
      ],
      "text/plain": [
       "[1] \"/home/manuel.tardaguila/conda_envs/multiome_QC/lib/R/library\""
      ]
     },
     "metadata": {},
     "output_type": "display_data"
    },
    {
     "data": {
      "text/html": [
       "'/home/manuel.tardaguila/conda_envs/multiome_QC/lib/R/library'"
      ],
      "text/latex": [
       "'/home/manuel.tardaguila/conda\\_envs/multiome\\_QC/lib/R/library'"
      ],
      "text/markdown": [
       "'/home/manuel.tardaguila/conda_envs/multiome_QC/lib/R/library'"
      ],
      "text/plain": [
       "[1] \"/home/manuel.tardaguila/conda_envs/multiome_QC/lib/R/library\""
      ]
     },
     "metadata": {},
     "output_type": "display_data"
    },
    {
     "data": {
      "text/html": [
       "TRUE"
      ],
      "text/latex": [
       "TRUE"
      ],
      "text/markdown": [
       "TRUE"
      ],
      "text/plain": [
       "[1] TRUE"
      ]
     },
     "metadata": {},
     "output_type": "display_data"
    },
    {
     "data": {
      "text/plain": [
       "Module(leidenalg)"
      ]
     },
     "metadata": {},
     "output_type": "display_data"
    }
   ],
   "source": [
    ".libPaths()\n",
    ".libPaths(new = c(\"/home/manuel.tardaguila/conda_envs/multiome_QC/lib/R/library\"))\n",
    ".libPaths()\n",
    "# sessionInfo()\n",
    "\n",
    "Sys.setenv(RETICULATE_PYTHON=\"/home/manuel.tardaguila/conda_envs/multiome_QC/bin/python\")\n",
    "library(reticulate)\n",
    "reticulate::use_python(\"/home/manuel.tardaguila/conda_envs/multiome_QC/bin/python\")\n",
    "reticulate::use_condaenv(\"/home/manuel.tardaguila/conda_envs/multiome_QC\")\n",
    "reticulate::py_module_available(module='leidenalg')\n",
    "reticulate::import('leidenalg')\n",
    "suppressMessages(library(\"optparse\"))\n",
    "suppressMessages(library(hdf5r))\n",
    "suppressMessages(library(Seurat))\n",
    "suppressMessages(library(Signac))\n",
    "suppressMessages(library(EnsDb.Hsapiens.v86))\n",
    "suppressMessages(library(dplyr))\n",
    "suppressMessages(library(ggplot2))\n",
    "suppressMessages(library(Matrix))\n",
    "suppressMessages(library(data.table))\n",
    "suppressMessages(library(ggpubr))\n",
    "suppressMessages(library(ggplot2))\n",
    "suppressMessages(library(scDblFinder))\n",
    "suppressMessages(library(\"tidyr\"))\n",
    "suppressMessages(library(\"tibble\"))\n",
    "suppressMessages(library(\"biovizBase\"))\n",
    "suppressMessages(library(\"patchwork\"))\n",
    "suppressMessages(library(glmGamPoi))\n",
    "suppressMessages(library(SeuratData))\n",
    "suppressMessages(library(SeuratDisk))\n",
    "library(svglite)\n",
    "library(RColorBrewer)\n",
    "\n",
    "\n"
   ]
  },
  {
   "cell_type": "markdown",
   "id": "2fde3c4f-09d2-4108-b589-cb4d0808fb2a",
   "metadata": {},
   "source": [
    "# Checkpoint after presentation"
   ]
  },
  {
   "cell_type": "code",
   "execution_count": 88,
   "id": "2d776103-3535-41b6-a315-4c71270849cb",
   "metadata": {
    "execution": {
     "iopub.execute_input": "2025-02-03T16:31:21.838427Z",
     "iopub.status.busy": "2025-02-03T16:31:21.837449Z",
     "iopub.status.idle": "2025-02-03T16:34:33.079640Z",
     "shell.execute_reply": "2025-02-03T16:34:33.077260Z"
    }
   },
   "outputs": [],
   "source": [
    "setwd(\"/group/soranzo/manuel.tardaguila/2025_hESC_MK_multiome/processing_outputs/\")\n",
    "\n",
    "adata<-readRDS(file=\"merged_processed_presentation_updated.rds\")"
   ]
  },
  {
   "cell_type": "markdown",
   "id": "03346242-3bb4-4356-b67a-3180f3076fed",
   "metadata": {},
   "source": [
    "## Read each of the files in Seurat"
   ]
  },
  {
   "cell_type": "code",
   "execution_count": 89,
   "id": "7dc3f508-324b-4947-9c8f-6807954d9879",
   "metadata": {
    "execution": {
     "iopub.execute_input": "2025-02-03T16:34:33.083686Z",
     "iopub.status.busy": "2025-02-03T16:34:33.082527Z",
     "iopub.status.idle": "2025-02-03T16:34:46.373038Z",
     "shell.execute_reply": "2025-02-03T16:34:46.371630Z"
    }
   },
   "outputs": [
    {
     "name": "stderr",
     "output_type": "stream",
     "text": [
      "Warning message:\n",
      "\"Feature names cannot have underscores ('_'), replacing with dashes ('-')\"\n",
      "Warning message:\n",
      "\"Feature names cannot have underscores ('_'), replacing with dashes ('-')\"\n",
      "Warning message:\n",
      "\"Feature names cannot have underscores ('_'), replacing with dashes ('-')\"\n",
      "Warning message:\n",
      "\"Feature names cannot have underscores ('_'), replacing with dashes ('-')\"\n"
     ]
    }
   ],
   "source": [
    " adata_samp_1                 <- CreateSeuratObject(counts=Read10X_h5(file.path(\"/group/soranzo/manuel.tardaguila/2025_hESC_MK_multiome/GEX_reseq/alignment/cellranger/MCO_01326/outs/\", 'raw_feature_bc_matrix.h5')))\n",
    "  \n",
    " adata_samp_1$orig.ident<-'MCO_01326'\n",
    "\n",
    "adata_samp_2                 <- CreateSeuratObject(counts=Read10X_h5(file.path(\"/group/soranzo/manuel.tardaguila/2025_hESC_MK_multiome/GEX_reseq/alignment/cellranger/MCO_01327/outs/\", 'raw_feature_bc_matrix.h5')))\n",
    "  \n",
    "adata_samp_2$orig.ident<-'MCO_01327'\n",
    "\n",
    "\n",
    "adata_samp_3                 <- CreateSeuratObject(counts=Read10X_h5(file.path(\"/group/soranzo/manuel.tardaguila/2025_hESC_MK_multiome/GEX_reseq/alignment/cellranger/MCO_01328/outs/\", 'raw_feature_bc_matrix.h5')))\n",
    "  \n",
    " \n",
    "adata_samp_3$orig.ident<-'MCO_01328'\n",
    "\n",
    "adata_samp_4                 <- CreateSeuratObject(counts=Read10X_h5(file.path(\"/group/soranzo/manuel.tardaguila/2025_hESC_MK_multiome/GEX_reseq/alignment/cellranger/MCO_01329/outs/\", 'raw_feature_bc_matrix.h5')))\n",
    "  \n",
    "adata_samp_4$orig.ident<-'MCO_01329'\n"
   ]
  },
  {
   "cell_type": "markdown",
   "id": "883e1372-5dfb-4333-8622-c8e5c19467fa",
   "metadata": {},
   "source": [
    "## combine them in a single object"
   ]
  },
  {
   "cell_type": "code",
   "execution_count": 90,
   "id": "891d4525-d580-496e-a00e-bf140a2967a6",
   "metadata": {
    "execution": {
     "iopub.execute_input": "2025-02-03T16:34:46.376035Z",
     "iopub.status.busy": "2025-02-03T16:34:46.375038Z",
     "iopub.status.idle": "2025-02-03T16:34:55.681565Z",
     "shell.execute_reply": "2025-02-03T16:34:55.680171Z"
    }
   },
   "outputs": [
    {
     "data": {
      "text/plain": [
       "An object of class Seurat \n",
       "12 features across 434347 samples within 1 assay \n",
       "Active assay: RNA (12 features, 0 variable features)\n",
       " 1 layer present: counts"
      ]
     },
     "metadata": {},
     "output_type": "display_data"
    }
   ],
   "source": [
    "adatas<-list()\n",
    "\n",
    "adatas[[1]]<-adata_samp_1\n",
    "adatas[[2]]<-adata_samp_2\n",
    "adatas[[3]]<-adata_samp_3\n",
    "adatas[[4]]<-adata_samp_4\n",
    "\n",
    "sample_array<-c('MCO_01326','MCO_01327','MCO_01328','MCO_01329')\n",
    "\n",
    "merged = merge(x =adatas[[1]], y=adatas[2:4], add.cell.ids = sample_array )\n",
    "\n",
    "merged[[\"RNA\"]] <-JoinLayers(merged[[\"RNA\"]])\n",
    "\n",
    "merged\n"
   ]
  },
  {
   "cell_type": "markdown",
   "id": "8d7a788d-3cc6-4736-bffb-c6c448200caf",
   "metadata": {},
   "source": [
    "## Only use the barcodes that are part of my final object"
   ]
  },
  {
   "cell_type": "code",
   "execution_count": 91,
   "id": "a7cf2654-05e6-435e-ad1a-530d8cdeed07",
   "metadata": {
    "execution": {
     "iopub.execute_input": "2025-02-03T16:34:55.684972Z",
     "iopub.status.busy": "2025-02-03T16:34:55.683920Z",
     "iopub.status.idle": "2025-02-03T16:34:55.721977Z",
     "shell.execute_reply": "2025-02-03T16:34:55.720653Z"
    }
   },
   "outputs": [
    {
     "name": "stdout",
     "output_type": "stream",
     "text": [
      " chr [1:37492] \"MCO_01326_AAACAGCCACAGCCAT-1\" ...\n"
     ]
    }
   ],
   "source": [
    "joint.bcs <- intersect(colnames(adata), colnames(merged))\n",
    "\n",
    "str(joint.bcs)"
   ]
  },
  {
   "cell_type": "code",
   "execution_count": 92,
   "id": "a6d552c5-186a-4937-8f1c-0191ec89e404",
   "metadata": {
    "execution": {
     "iopub.execute_input": "2025-02-03T16:34:55.725189Z",
     "iopub.status.busy": "2025-02-03T16:34:55.724166Z",
     "iopub.status.idle": "2025-02-03T16:34:58.968535Z",
     "shell.execute_reply": "2025-02-03T16:34:58.967297Z"
    }
   },
   "outputs": [
    {
     "data": {
      "text/plain": [
       "An object of class Seurat \n",
       "12 features across 37492 samples within 1 assay \n",
       "Active assay: RNA (12 features, 0 variable features)\n",
       " 1 layer present: counts"
      ]
     },
     "metadata": {},
     "output_type": "display_data"
    }
   ],
   "source": [
    "merged_restricted <- subset(merged, cells = joint.bcs)\n",
    "\n",
    "merged_restricted"
   ]
  },
  {
   "cell_type": "code",
   "execution_count": 93,
   "id": "e42d7ae0-37df-45a9-943e-abb9730e33e1",
   "metadata": {
    "execution": {
     "iopub.execute_input": "2025-02-03T16:34:58.971422Z",
     "iopub.status.busy": "2025-02-03T16:34:58.970467Z",
     "iopub.status.idle": "2025-02-03T16:34:59.001474Z",
     "shell.execute_reply": "2025-02-03T16:34:59.000154Z"
    }
   },
   "outputs": [],
   "source": [
    "hto_nocb_counts<-GetAssayData(\n",
    "  merged_restricted,\n",
    "  layer = c(\"counts\"))+1\n",
    "\n",
    "### Adding a pseudocount as seen in https://github.com/satijalab/seurat/issues/5640\n"
   ]
  },
  {
   "cell_type": "code",
   "execution_count": 94,
   "id": "0eadce3a-35bc-4d6f-9ac1-da15d73169dc",
   "metadata": {
    "execution": {
     "iopub.execute_input": "2025-02-03T16:34:59.004413Z",
     "iopub.status.busy": "2025-02-03T16:34:59.003458Z",
     "iopub.status.idle": "2025-02-03T16:34:59.016083Z",
     "shell.execute_reply": "2025-02-03T16:34:59.014933Z"
    }
   },
   "outputs": [
    {
     "name": "stdout",
     "output_type": "stream",
     "text": [
      "Formal class 'dgeMatrix' [package \"Matrix\"] with 4 slots\n",
      "  ..@ Dim     : int [1:2] 12 37492\n",
      "  ..@ Dimnames:List of 2\n",
      "  .. ..$ : chr [1:12] \"GFP-chrGFP-WTA\" \"GFP-chrGFP-WTB\" \"GFP-chrGFP-WTC\" \"GFP-chrGFP-rs1\" ...\n",
      "  .. ..$ : chr [1:37492] \"MCO_01326_AAACAGCCACAGCCAT-1\" \"MCO_01326_AAACAGCCACCAGGTT-1\" \"MCO_01326_AAACAGCCACGGTACT-1\" \"MCO_01326_AAACAGCCAGCCGCTA-1\" ...\n",
      "  ..@ x       : num [1:449904] 1 1 1 2 1 2 4 1 29 4 ...\n",
      "  ..@ factors : list()\n"
     ]
    }
   ],
   "source": [
    "str(hto_nocb_counts)"
   ]
  },
  {
   "cell_type": "code",
   "execution_count": 95,
   "id": "b5c02647-ef1f-45f5-874d-8f139a37ad02",
   "metadata": {
    "execution": {
     "iopub.execute_input": "2025-02-03T16:34:59.018985Z",
     "iopub.status.busy": "2025-02-03T16:34:59.018011Z",
     "iopub.status.idle": "2025-02-03T16:34:59.535960Z",
     "shell.execute_reply": "2025-02-03T16:34:59.534646Z"
    }
   },
   "outputs": [],
   "source": [
    "merged_restricted[[\"HTO_NOCB\"]] <- CreateAssayObject(counts = hto_nocb_counts)"
   ]
  },
  {
   "cell_type": "code",
   "execution_count": 96,
   "id": "5793bb29-6de6-42c3-a342-5c8530d419f4",
   "metadata": {
    "execution": {
     "iopub.execute_input": "2025-02-03T16:34:59.538996Z",
     "iopub.status.busy": "2025-02-03T16:34:59.537987Z",
     "iopub.status.idle": "2025-02-03T16:34:59.551972Z",
     "shell.execute_reply": "2025-02-03T16:34:59.550804Z"
    }
   },
   "outputs": [
    {
     "data": {
      "text/plain": [
       "An object of class Seurat \n",
       "24 features across 37492 samples within 2 assays \n",
       "Active assay: RNA (12 features, 0 variable features)\n",
       " 1 layer present: counts\n",
       " 1 other assay present: HTO_NOCB"
      ]
     },
     "metadata": {},
     "output_type": "display_data"
    }
   ],
   "source": [
    "merged_restricted"
   ]
  },
  {
   "cell_type": "markdown",
   "id": "756f9c96-f9f7-40f7-b574-5ac82164f6a7",
   "metadata": {
    "editable": true,
    "slideshow": {
     "slide_type": ""
    },
    "tags": []
   },
   "source": [
    "## normalize CLR"
   ]
  },
  {
   "cell_type": "code",
   "execution_count": 97,
   "id": "9d3ae64a-9e7a-40b4-91d6-9b07a8af9cf4",
   "metadata": {
    "execution": {
     "iopub.execute_input": "2025-02-03T16:34:59.554891Z",
     "iopub.status.busy": "2025-02-03T16:34:59.553915Z",
     "iopub.status.idle": "2025-02-03T16:34:59.717918Z",
     "shell.execute_reply": "2025-02-03T16:34:59.716537Z"
    }
   },
   "outputs": [
    {
     "name": "stderr",
     "output_type": "stream",
     "text": [
      "Normalizing across features\n",
      "\n"
     ]
    }
   ],
   "source": [
    "merged_restricted <- NormalizeData(merged_restricted, assay = \"HTO_NOCB\", normalization.method = \"CLR\")\n"
   ]
  },
  {
   "cell_type": "markdown",
   "id": "66ad5e14-5bc4-46a8-9c5f-29fd4c753c09",
   "metadata": {},
   "source": [
    "## Demultiplex using HTO Demux"
   ]
  },
  {
   "cell_type": "code",
   "execution_count": 98,
   "id": "028e6591-0596-4f54-9d6b-2fe8798d43e6",
   "metadata": {
    "execution": {
     "iopub.execute_input": "2025-02-03T16:34:59.721066Z",
     "iopub.status.busy": "2025-02-03T16:34:59.720014Z",
     "iopub.status.idle": "2025-02-03T16:35:05.801086Z",
     "shell.execute_reply": "2025-02-03T16:35:05.799701Z"
    }
   },
   "outputs": [
    {
     "name": "stderr",
     "output_type": "stream",
     "text": [
      "Cutoff for GFP-chrGFP-WTA : 4 reads\n",
      "\n",
      "Cutoff for GFP-chrGFP-WTB : 4 reads\n",
      "\n",
      "Cutoff for GFP-chrGFP-WTC : 4 reads\n",
      "\n",
      "Cutoff for GFP-chrGFP-rs1 : 5 reads\n",
      "\n",
      "Cutoff for GFP-chrGFP-rs2 : 5 reads\n",
      "\n",
      "Cutoff for GFP-chrGFP-rs3 : 7 reads\n",
      "\n",
      "Cutoff for GFP-chrGFP-R882H1 : 5 reads\n",
      "\n",
      "Cutoff for GFP-chrGFP-R882H2 : 4 reads\n",
      "\n",
      "Cutoff for GFP-chrGFP-R882H3 : 4 reads\n",
      "\n",
      "Cutoff for GFP-chrGFP-rs-R882H1 : 6 reads\n",
      "\n",
      "Cutoff for GFP-chrGFP-rs-R882H2 : 5 reads\n",
      "\n",
      "Cutoff for GFP-chrGFP-rs-R882H3 : 5 reads\n",
      "\n"
     ]
    }
   ],
   "source": [
    "merged_restricted <- HTODemux(merged_restricted, assay = \"HTO_NOCB\", positive.quantile = 0.99)\n"
   ]
  },
  {
   "cell_type": "code",
   "execution_count": 99,
   "id": "43666a6d-d59f-470a-9014-7ca9dfef67f1",
   "metadata": {
    "execution": {
     "iopub.execute_input": "2025-02-03T16:35:05.804108Z",
     "iopub.status.busy": "2025-02-03T16:35:05.803122Z",
     "iopub.status.idle": "2025-02-03T16:35:05.817989Z",
     "shell.execute_reply": "2025-02-03T16:35:05.816828Z"
    }
   },
   "outputs": [
    {
     "name": "stdout",
     "output_type": "stream",
     "text": [
      "'data.frame':\t37492 obs. of  11 variables:\n",
      " $ orig.ident                    : chr  \"MCO_01326\" \"MCO_01326\" \"MCO_01326\" \"MCO_01326\" ...\n",
      " $ nCount_RNA                    : num  41 4 14 19 30 6 32 18 34 32 ...\n",
      " $ nFeature_RNA                  : int  7 3 9 8 8 6 7 9 8 9 ...\n",
      " $ nCount_HTO_NOCB               : num  53 16 26 31 42 18 44 30 46 44 ...\n",
      " $ nFeature_HTO_NOCB             : int  12 12 12 12 12 12 12 12 12 12 ...\n",
      " $ HTO_NOCB_maxID                : chr  \"GFP-chrGFP-R882H3\" \"GFP-chrGFP-rs-R882H3\" \"GFP-chrGFP-R882H1\" \"GFP-chrGFP-rs-R882H3\" ...\n",
      " $ HTO_NOCB_secondID             : chr  \"GFP-chrGFP-rs-R882H3\" \"GFP-chrGFP-rs-R882H2\" \"GFP-chrGFP-rs-R882H3\" \"GFP-chrGFP-R882H3\" ...\n",
      " $ HTO_NOCB_margin               : num  1.4326 0.152 0.0979 0.3472 0.7371 ...\n",
      " $ HTO_NOCB_classification       : chr  \"GFP-chrGFP-R882H3\" \"Negative\" \"Negative\" \"GFP-chrGFP-R882H3_GFP-chrGFP-rs-R882H3\" ...\n",
      " $ HTO_NOCB_classification.global: chr  \"Singlet\" \"Negative\" \"Negative\" \"Doublet\" ...\n",
      " $ hash.ID                       : Factor w/ 14 levels \"Doublet\",\"GFP-chrGFP-R882H3\",..: 2 3 3 1 1 3 4 3 1 4 ...\n"
     ]
    }
   ],
   "source": [
    "str(merged_restricted@meta.data)"
   ]
  },
  {
   "cell_type": "code",
   "execution_count": 100,
   "id": "0d074392-93dc-4799-b42c-c14704157003",
   "metadata": {
    "execution": {
     "iopub.execute_input": "2025-02-03T16:35:05.820946Z",
     "iopub.status.busy": "2025-02-03T16:35:05.819959Z",
     "iopub.status.idle": "2025-02-03T16:35:05.831959Z",
     "shell.execute_reply": "2025-02-03T16:35:05.830806Z"
    }
   },
   "outputs": [
    {
     "data": {
      "text/html": [
       "<style>\n",
       ".dl-inline {width: auto; margin:0; padding: 0}\n",
       ".dl-inline>dt, .dl-inline>dd {float: none; width: auto; display: inline-block}\n",
       ".dl-inline>dt::after {content: \":\\0020\"; padding-right: .5ex}\n",
       ".dl-inline>dt:not(:first-of-type) {padding-left: .5ex}\n",
       "</style><dl class=dl-inline><dt>Doublet</dt><dd>14894</dd><dt>GFP-chrGFP-R882H3</dt><dd>2009</dd><dt>Negative</dt><dd>9183</dd><dt>GFP-chrGFP-R882H1</dt><dd>714</dd><dt>GFP-chrGFP-rs-R882H2</dt><dd>378</dd><dt>GFP-chrGFP-rs-R882H3</dt><dd>445</dd><dt>GFP-chrGFP-rs-R882H1</dt><dd>939</dd><dt>GFP-chrGFP-WTC</dt><dd>223</dd><dt>GFP-chrGFP-R882H2</dt><dd>68</dd><dt>GFP-chrGFP-rs2</dt><dd>598</dd><dt>GFP-chrGFP-rs3</dt><dd>7120</dd><dt>GFP-chrGFP-WTB</dt><dd>144</dd><dt>GFP-chrGFP-rs1</dt><dd>692</dd><dt>GFP-chrGFP-WTA</dt><dd>85</dd></dl>\n"
      ],
      "text/latex": [
       "\\begin{description*}\n",
       "\\item[Doublet] 14894\n",
       "\\item[GFP-chrGFP-R882H3] 2009\n",
       "\\item[Negative] 9183\n",
       "\\item[GFP-chrGFP-R882H1] 714\n",
       "\\item[GFP-chrGFP-rs-R882H2] 378\n",
       "\\item[GFP-chrGFP-rs-R882H3] 445\n",
       "\\item[GFP-chrGFP-rs-R882H1] 939\n",
       "\\item[GFP-chrGFP-WTC] 223\n",
       "\\item[GFP-chrGFP-R882H2] 68\n",
       "\\item[GFP-chrGFP-rs2] 598\n",
       "\\item[GFP-chrGFP-rs3] 7120\n",
       "\\item[GFP-chrGFP-WTB] 144\n",
       "\\item[GFP-chrGFP-rs1] 692\n",
       "\\item[GFP-chrGFP-WTA] 85\n",
       "\\end{description*}\n"
      ],
      "text/markdown": [
       "Doublet\n",
       ":   14894GFP-chrGFP-R882H3\n",
       ":   2009Negative\n",
       ":   9183GFP-chrGFP-R882H1\n",
       ":   714GFP-chrGFP-rs-R882H2\n",
       ":   378GFP-chrGFP-rs-R882H3\n",
       ":   445GFP-chrGFP-rs-R882H1\n",
       ":   939GFP-chrGFP-WTC\n",
       ":   223GFP-chrGFP-R882H2\n",
       ":   68GFP-chrGFP-rs2\n",
       ":   598GFP-chrGFP-rs3\n",
       ":   7120GFP-chrGFP-WTB\n",
       ":   144GFP-chrGFP-rs1\n",
       ":   692GFP-chrGFP-WTA\n",
       ":   85\n",
       "\n"
      ],
      "text/plain": [
       "             Doublet    GFP-chrGFP-R882H3             Negative \n",
       "               14894                 2009                 9183 \n",
       "   GFP-chrGFP-R882H1 GFP-chrGFP-rs-R882H2 GFP-chrGFP-rs-R882H3 \n",
       "                 714                  378                  445 \n",
       "GFP-chrGFP-rs-R882H1       GFP-chrGFP-WTC    GFP-chrGFP-R882H2 \n",
       "                 939                  223                   68 \n",
       "      GFP-chrGFP-rs2       GFP-chrGFP-rs3       GFP-chrGFP-WTB \n",
       "                 598                 7120                  144 \n",
       "      GFP-chrGFP-rs1       GFP-chrGFP-WTA \n",
       "                 692                   85 "
      ]
     },
     "metadata": {},
     "output_type": "display_data"
    }
   ],
   "source": [
    "summary(merged_restricted@meta.data$hash.ID)"
   ]
  },
  {
   "cell_type": "code",
   "execution_count": 101,
   "id": "7302e8fd-e5fa-4acd-93b1-a9370903a252",
   "metadata": {
    "execution": {
     "iopub.execute_input": "2025-02-03T16:35:05.834847Z",
     "iopub.status.busy": "2025-02-03T16:35:05.833869Z",
     "iopub.status.idle": "2025-02-03T16:35:05.848822Z",
     "shell.execute_reply": "2025-02-03T16:35:05.847678Z"
    }
   },
   "outputs": [
    {
     "data": {
      "text/plain": [
       "\n",
       " Doublet Negative  Singlet \n",
       "   14894     9183    13415 "
      ]
     },
     "metadata": {},
     "output_type": "display_data"
    }
   ],
   "source": [
    "table(merged_restricted$HTO_NOCB_classification.global)"
   ]
  },
  {
   "cell_type": "code",
   "execution_count": 102,
   "id": "a9116cf3-56a8-443c-8384-197ecccfee3d",
   "metadata": {
    "execution": {
     "iopub.execute_input": "2025-02-03T16:35:05.851818Z",
     "iopub.status.busy": "2025-02-03T16:35:05.850868Z",
     "iopub.status.idle": "2025-02-03T16:35:08.401308Z",
     "shell.execute_reply": "2025-02-03T16:35:08.399924Z"
    }
   },
   "outputs": [],
   "source": [
    "# Group cells based on the max HTO_NOCB signal\n",
    "Idents(merged_restricted) <- \"HTO_NOCB_maxID\"\n",
    "rp1<-RidgePlot(merged_restricted, assay = \"HTO_NOCB\", features = rownames(merged_restricted[[\"HTO_NOCB\"]])[1], ncol = 1)+\n",
    "             theme(legend.title = element_blank(),\n",
    "                      legend.text = element_text(color=\"black\", family=\"sans\"),\n",
    "                      legend.key.size = unit(0.25, 'cm'), #change legend key size\n",
    "                      legend.key.height = unit(0.25, 'cm'), #change legend key height\n",
    "                      legend.key.width = unit(0.25, 'cm'), #change legend key width\n",
    "                      legend.position=\"hidden\")\n",
    "\n",
    "rp2<-RidgePlot(merged_restricted, assay = \"HTO_NOCB\", features = rownames(merged_restricted[[\"HTO_NOCB\"]])[2], ncol = 1)+\n",
    "             theme(legend.title = element_blank(),\n",
    "                      legend.text = element_text(color=\"black\", family=\"sans\"),\n",
    "                      legend.key.size = unit(0.25, 'cm'), #change legend key size\n",
    "                      legend.key.height = unit(0.25, 'cm'), #change legend key height\n",
    "                      legend.key.width = unit(0.25, 'cm'), #change legend key width\n",
    "                      legend.position=\"hidden\")\n",
    "\n",
    "rp3<-RidgePlot(merged_restricted, assay = \"HTO_NOCB\", features = rownames(merged_restricted[[\"HTO_NOCB\"]])[3], ncol = 1)+\n",
    "             theme(legend.title = element_blank(),\n",
    "                      legend.text = element_text(color=\"black\", family=\"sans\"),\n",
    "                      legend.key.size = unit(0.25, 'cm'), #change legend key size\n",
    "                      legend.key.height = unit(0.25, 'cm'), #change legend key height\n",
    "                      legend.key.width = unit(0.25, 'cm'), #change legend key width\n",
    "                      legend.position=\"hidden\")\n",
    "\n",
    "rp4<-RidgePlot(merged_restricted, assay = \"HTO_NOCB\", features = rownames(merged_restricted[[\"HTO_NOCB\"]])[4], ncol = 1)+\n",
    "             theme(legend.title = element_blank(),\n",
    "                      legend.text = element_text(color=\"black\", family=\"sans\"),\n",
    "                      legend.key.size = unit(0.25, 'cm'), #change legend key size\n",
    "                      legend.key.height = unit(0.25, 'cm'), #change legend key height\n",
    "                      legend.key.width = unit(0.25, 'cm'), #change legend key width\n",
    "                      legend.position=\"hidden\")\n",
    "\n",
    "##\n",
    "\n",
    "rp5<-RidgePlot(merged_restricted, assay = \"HTO_NOCB\", features = rownames(merged_restricted[[\"HTO_NOCB\"]])[5], ncol = 1)+\n",
    "             theme(legend.title = element_blank(),\n",
    "                      legend.text = element_text(color=\"black\", family=\"sans\"),\n",
    "                      legend.key.size = unit(0.25, 'cm'), #change legend key size\n",
    "                      legend.key.height = unit(0.25, 'cm'), #change legend key height\n",
    "                      legend.key.width = unit(0.25, 'cm'), #change legend key width\n",
    "                      legend.position=\"hidden\")\n",
    "\n",
    "rp6<-RidgePlot(merged_restricted, assay = \"HTO_NOCB\", features = rownames(merged_restricted[[\"HTO_NOCB\"]])[6], ncol = 1)+\n",
    "             theme(legend.title = element_blank(),\n",
    "                      legend.text = element_text(color=\"black\", family=\"sans\"),\n",
    "                      legend.key.size = unit(0.25, 'cm'), #change legend key size\n",
    "                      legend.key.height = unit(0.25, 'cm'), #change legend key height\n",
    "                      legend.key.width = unit(0.25, 'cm'), #change legend key width\n",
    "                      legend.position=\"hidden\")\n",
    "\n",
    "rp7<-RidgePlot(merged_restricted, assay = \"HTO_NOCB\", features = rownames(merged_restricted[[\"HTO_NOCB\"]])[7], ncol = 1)+\n",
    "             theme(legend.title = element_blank(),\n",
    "                      legend.text = element_text(color=\"black\", family=\"sans\"),\n",
    "                      legend.key.size = unit(0.25, 'cm'), #change legend key size\n",
    "                      legend.key.height = unit(0.25, 'cm'), #change legend key height\n",
    "                      legend.key.width = unit(0.25, 'cm'), #change legend key width\n",
    "                      legend.position=\"hidden\")\n",
    "\n",
    "rp8<-RidgePlot(merged_restricted, assay = \"HTO_NOCB\", features = rownames(merged_restricted[[\"HTO_NOCB\"]])[8], ncol = 1)+\n",
    "             theme(legend.title = element_blank(),\n",
    "                      legend.text = element_text(color=\"black\", family=\"sans\"),\n",
    "                      legend.key.size = unit(0.25, 'cm'), #change legend key size\n",
    "                      legend.key.height = unit(0.25, 'cm'), #change legend key height\n",
    "                      legend.key.width = unit(0.25, 'cm'), #change legend key width\n",
    "                      legend.position=\"hidden\")\n",
    "\n",
    "##\n",
    "\n",
    "rp9<-RidgePlot(merged_restricted, assay = \"HTO_NOCB\", features = rownames(merged_restricted[[\"HTO_NOCB\"]])[9], ncol = 1)+\n",
    "             theme(legend.title = element_blank(),\n",
    "                      legend.text = element_text(color=\"black\", family=\"sans\"),\n",
    "                      legend.key.size = unit(0.25, 'cm'), #change legend key size\n",
    "                      legend.key.height = unit(0.25, 'cm'), #change legend key height\n",
    "                      legend.key.width = unit(0.25, 'cm'), #change legend key width\n",
    "                      legend.position=\"hidden\")\n",
    "\n",
    "rp10<-RidgePlot(merged_restricted, assay = \"HTO_NOCB\", features = rownames(merged_restricted[[\"HTO_NOCB\"]])[10], ncol = 1)+\n",
    "             theme(legend.title = element_blank(),\n",
    "                      legend.text = element_text(color=\"black\", family=\"sans\"),\n",
    "                      legend.key.size = unit(0.25, 'cm'), #change legend key size\n",
    "                      legend.key.height = unit(0.25, 'cm'), #change legend key height\n",
    "                      legend.key.width = unit(0.25, 'cm'), #change legend key width\n",
    "                      legend.position=\"hidden\")\n",
    "\n",
    "rp11<-RidgePlot(merged_restricted, assay = \"HTO_NOCB\", features = rownames(merged_restricted[[\"HTO_NOCB\"]])[11], ncol = 1)+\n",
    "             theme(legend.title = element_blank(),\n",
    "                      legend.text = element_text(color=\"black\", family=\"sans\"),\n",
    "                      legend.key.size = unit(0.25, 'cm'), #change legend key size\n",
    "                      legend.key.height = unit(0.25, 'cm'), #change legend key height\n",
    "                      legend.key.width = unit(0.25, 'cm'), #change legend key width\n",
    "                      legend.position=\"hidden\")\n",
    "\n",
    "rp12<-RidgePlot(merged_restricted, assay = \"HTO_NOCB\", features = rownames(merged_restricted[[\"HTO_NOCB\"]])[12], ncol = 1)+\n",
    "             theme(legend.title = element_blank(),\n",
    "                      legend.text = element_text(color=\"black\", family=\"sans\"),\n",
    "                      legend.key.size = unit(0.25, 'cm'), #change legend key size\n",
    "                      legend.key.height = unit(0.25, 'cm'), #change legend key height\n",
    "                      legend.key.width = unit(0.25, 'cm'), #change legend key width\n",
    "                      legend.position=\"hidden\")"
   ]
  },
  {
   "cell_type": "code",
   "execution_count": 103,
   "id": "7bce8857-38b5-4f32-a3b8-06d50f1d612d",
   "metadata": {
    "editable": true,
    "execution": {
     "iopub.execute_input": "2025-02-03T16:35:08.404356Z",
     "iopub.status.busy": "2025-02-03T16:35:08.403355Z",
     "iopub.status.idle": "2025-02-03T16:35:08.412373Z",
     "shell.execute_reply": "2025-02-03T16:35:08.411201Z"
    },
    "slideshow": {
     "slide_type": ""
    },
    "tags": []
   },
   "outputs": [],
   "source": [
    "path_graphs<-\"/group/soranzo/manuel.tardaguila/2025_hESC_MK_multiome/GEX_reseq/alignment/cellranger/processing_outputs/graphs/\""
   ]
  },
  {
   "cell_type": "code",
   "execution_count": 104,
   "id": "91a05bf3-1d92-4004-8761-77bfe38cb608",
   "metadata": {
    "execution": {
     "iopub.execute_input": "2025-02-03T16:35:08.415303Z",
     "iopub.status.busy": "2025-02-03T16:35:08.414309Z",
     "iopub.status.idle": "2025-02-03T16:35:08.427273Z",
     "shell.execute_reply": "2025-02-03T16:35:08.426092Z"
    }
   },
   "outputs": [
    {
     "data": {
      "text/plain": [
       "NULL"
      ]
     },
     "metadata": {},
     "output_type": "display_data"
    }
   ],
   "source": [
    "if (file.exists(path_graphs)){\n",
    "\n",
    "    }else{\n",
    "\n",
    "    dir.create(path_graphs)\n",
    "    }"
   ]
  },
  {
   "cell_type": "code",
   "execution_count": 105,
   "id": "61d8afd2-e771-44d1-862d-350fbd0e6668",
   "metadata": {
    "editable": true,
    "execution": {
     "iopub.execute_input": "2025-02-03T16:35:08.430132Z",
     "iopub.status.busy": "2025-02-03T16:35:08.429152Z",
     "iopub.status.idle": "2025-02-03T16:35:09.605509Z",
     "shell.execute_reply": "2025-02-03T16:35:09.604217Z"
    },
    "slideshow": {
     "slide_type": ""
    },
    "tags": []
   },
   "outputs": [
    {
     "name": "stderr",
     "output_type": "stream",
     "text": [
      "Picking joint bandwidth of 0.0334\n",
      "\n",
      "Picking joint bandwidth of 0.0389\n",
      "\n",
      "Picking joint bandwidth of 0.039\n",
      "\n"
     ]
    },
    {
     "data": {
      "text/html": [
       "<strong>png:</strong> 2"
      ],
      "text/latex": [
       "\\textbf{png:} 2"
      ],
      "text/markdown": [
       "**png:** 2"
      ],
      "text/plain": [
       "png \n",
       "  2 "
      ]
     },
     "metadata": {},
     "output_type": "display_data"
    }
   ],
   "source": [
    "setwd(path_graphs)\n",
    "png(file='Ridgeplot_assignation_WTs_NO_CB.png', width =1050, height = 350)\n",
    "rp1 | rp2 | rp3\n",
    "dev.off()"
   ]
  },
  {
   "cell_type": "code",
   "execution_count": 106,
   "id": "7211c25d-bdd8-4328-bd6c-af70ebe3663d",
   "metadata": {
    "editable": true,
    "execution": {
     "iopub.execute_input": "2025-02-03T16:35:09.608462Z",
     "iopub.status.busy": "2025-02-03T16:35:09.607439Z",
     "iopub.status.idle": "2025-02-03T16:35:10.735246Z",
     "shell.execute_reply": "2025-02-03T16:35:10.734009Z"
    },
    "slideshow": {
     "slide_type": ""
    },
    "tags": []
   },
   "outputs": [
    {
     "name": "stderr",
     "output_type": "stream",
     "text": [
      "Picking joint bandwidth of 0.0423\n",
      "\n",
      "Picking joint bandwidth of 0.0469\n",
      "\n",
      "Picking joint bandwidth of 0.0527\n",
      "\n"
     ]
    },
    {
     "data": {
      "text/html": [
       "<strong>png:</strong> 2"
      ],
      "text/latex": [
       "\\textbf{png:} 2"
      ],
      "text/markdown": [
       "**png:** 2"
      ],
      "text/plain": [
       "png \n",
       "  2 "
      ]
     },
     "metadata": {},
     "output_type": "display_data"
    }
   ],
   "source": [
    "setwd(path_graphs)\n",
    "png(file='Ridgeplot_assignation_rs_NO_CB.png', width =1050, height = 350)\n",
    "rp4 | rp5 | rp6\n",
    "dev.off()"
   ]
  },
  {
   "cell_type": "code",
   "execution_count": 107,
   "id": "9dbb387e-4f2c-4eda-90e6-698259ab8004",
   "metadata": {
    "execution": {
     "iopub.execute_input": "2025-02-03T16:35:10.738024Z",
     "iopub.status.busy": "2025-02-03T16:35:10.737053Z",
     "iopub.status.idle": "2025-02-03T16:35:11.752154Z",
     "shell.execute_reply": "2025-02-03T16:35:11.750884Z"
    }
   },
   "outputs": [
    {
     "name": "stderr",
     "output_type": "stream",
     "text": [
      "Picking joint bandwidth of 0.0606\n",
      "\n",
      "Picking joint bandwidth of 0.032\n",
      "\n",
      "Picking joint bandwidth of 0.0626\n",
      "\n"
     ]
    },
    {
     "data": {
      "text/html": [
       "<strong>png:</strong> 2"
      ],
      "text/latex": [
       "\\textbf{png:} 2"
      ],
      "text/markdown": [
       "**png:** 2"
      ],
      "text/plain": [
       "png \n",
       "  2 "
      ]
     },
     "metadata": {},
     "output_type": "display_data"
    }
   ],
   "source": [
    "setwd(path_graphs)\n",
    "png(file='Ridgeplot_assignation_DNMT3A_NO_CB.png', width =1050, height = 350)\n",
    "rp7 | rp8 | rp9\n",
    "dev.off()"
   ]
  },
  {
   "cell_type": "code",
   "execution_count": 108,
   "id": "481681ab-8bf8-4901-a0e4-73006b9f1724",
   "metadata": {
    "execution": {
     "iopub.execute_input": "2025-02-03T16:35:11.754972Z",
     "iopub.status.busy": "2025-02-03T16:35:11.754035Z",
     "iopub.status.idle": "2025-02-03T16:35:12.782979Z",
     "shell.execute_reply": "2025-02-03T16:35:12.781755Z"
    }
   },
   "outputs": [
    {
     "name": "stderr",
     "output_type": "stream",
     "text": [
      "Picking joint bandwidth of 0.055\n",
      "\n",
      "Picking joint bandwidth of 0.0545\n",
      "\n",
      "Picking joint bandwidth of 0.052\n",
      "\n"
     ]
    },
    {
     "data": {
      "text/html": [
       "<strong>png:</strong> 2"
      ],
      "text/latex": [
       "\\textbf{png:} 2"
      ],
      "text/markdown": [
       "**png:** 2"
      ],
      "text/plain": [
       "png \n",
       "  2 "
      ]
     },
     "metadata": {},
     "output_type": "display_data"
    }
   ],
   "source": [
    "setwd(path_graphs)\n",
    "png(file='Ridgeplot_assignation_Double_mutants_NO_CB.png', width =1050, height = 350)\n",
    "rp10 | rp11 | rp12\n",
    "dev.off()"
   ]
  },
  {
   "cell_type": "markdown",
   "id": "18d82964-d1cf-4e8b-8738-15e9025580a6",
   "metadata": {
    "editable": true,
    "slideshow": {
     "slide_type": ""
    },
    "tags": []
   },
   "source": [
    "### Save this assignation"
   ]
  },
  {
   "cell_type": "code",
   "execution_count": 109,
   "id": "a1a872f4-9d2d-4bb6-a849-62c41c123318",
   "metadata": {
    "execution": {
     "iopub.execute_input": "2025-02-03T16:35:12.785738Z",
     "iopub.status.busy": "2025-02-03T16:35:12.784766Z",
     "iopub.status.idle": "2025-02-03T16:35:12.800423Z",
     "shell.execute_reply": "2025-02-03T16:35:12.799239Z"
    }
   },
   "outputs": [
    {
     "data": {
      "text/html": [
       "<style>\n",
       ".list-inline {list-style: none; margin:0; padding: 0}\n",
       ".list-inline>li {display: inline-block}\n",
       ".list-inline>li:not(:last-child)::after {content: \"\\00b7\"; padding: 0 .5ex}\n",
       "</style>\n",
       "<ol class=list-inline><li>'orig.ident'</li><li>'nCount_RNA'</li><li>'nFeature_RNA'</li><li>'nCount_HTO_NOCB'</li><li>'nFeature_HTO_NOCB'</li><li>'HTO_NOCB_maxID'</li><li>'HTO_NOCB_secondID'</li><li>'HTO_NOCB_margin'</li><li>'HTO_NOCB_classification'</li><li>'HTO_NOCB_classification.global'</li><li>'hash.ID'</li></ol>\n"
      ],
      "text/latex": [
       "\\begin{enumerate*}\n",
       "\\item 'orig.ident'\n",
       "\\item 'nCount\\_RNA'\n",
       "\\item 'nFeature\\_RNA'\n",
       "\\item 'nCount\\_HTO\\_NOCB'\n",
       "\\item 'nFeature\\_HTO\\_NOCB'\n",
       "\\item 'HTO\\_NOCB\\_maxID'\n",
       "\\item 'HTO\\_NOCB\\_secondID'\n",
       "\\item 'HTO\\_NOCB\\_margin'\n",
       "\\item 'HTO\\_NOCB\\_classification'\n",
       "\\item 'HTO\\_NOCB\\_classification.global'\n",
       "\\item 'hash.ID'\n",
       "\\end{enumerate*}\n"
      ],
      "text/markdown": [
       "1. 'orig.ident'\n",
       "2. 'nCount_RNA'\n",
       "3. 'nFeature_RNA'\n",
       "4. 'nCount_HTO_NOCB'\n",
       "5. 'nFeature_HTO_NOCB'\n",
       "6. 'HTO_NOCB_maxID'\n",
       "7. 'HTO_NOCB_secondID'\n",
       "8. 'HTO_NOCB_margin'\n",
       "9. 'HTO_NOCB_classification'\n",
       "10. 'HTO_NOCB_classification.global'\n",
       "11. 'hash.ID'\n",
       "\n",
       "\n"
      ],
      "text/plain": [
       " [1] \"orig.ident\"                     \"nCount_RNA\"                    \n",
       " [3] \"nFeature_RNA\"                   \"nCount_HTO_NOCB\"               \n",
       " [5] \"nFeature_HTO_NOCB\"              \"HTO_NOCB_maxID\"                \n",
       " [7] \"HTO_NOCB_secondID\"              \"HTO_NOCB_margin\"               \n",
       " [9] \"HTO_NOCB_classification\"        \"HTO_NOCB_classification.global\"\n",
       "[11] \"hash.ID\"                       "
      ]
     },
     "metadata": {},
     "output_type": "display_data"
    },
    {
     "name": "stdout",
     "output_type": "stream",
     "text": [
      " chr [1:37492] \"MCO_01326_AAACAGCCACAGCCAT-1\" ...\n"
     ]
    }
   ],
   "source": [
    "colnames(merged_restricted@meta.data)\n",
    "\n",
    "\n",
    "str(row.names(merged_restricted@meta.data))"
   ]
  },
  {
   "cell_type": "code",
   "execution_count": 110,
   "id": "7519e725-1584-4bbc-bb3b-2bbe307310f1",
   "metadata": {
    "editable": true,
    "execution": {
     "iopub.execute_input": "2025-02-03T16:35:12.803239Z",
     "iopub.status.busy": "2025-02-03T16:35:12.802274Z",
     "iopub.status.idle": "2025-02-03T16:35:12.810300Z",
     "shell.execute_reply": "2025-02-03T16:35:12.809224Z"
    },
    "slideshow": {
     "slide_type": ""
    },
    "tags": []
   },
   "outputs": [],
   "source": [
    "path_save<-\"/group/soranzo/manuel.tardaguila/2025_hESC_MK_multiome/GEX_reseq/alignment/cellranger/processing_outputs/\""
   ]
  },
  {
   "cell_type": "code",
   "execution_count": 111,
   "id": "c5396a3e-b0b5-4de1-88e0-f92263189771",
   "metadata": {
    "execution": {
     "iopub.execute_input": "2025-02-03T16:35:12.813024Z",
     "iopub.status.busy": "2025-02-03T16:35:12.812036Z",
     "iopub.status.idle": "2025-02-03T16:35:13.375373Z",
     "shell.execute_reply": "2025-02-03T16:35:13.373953Z"
    }
   },
   "outputs": [],
   "source": [
    "setwd(path_save)\n",
    "\n",
    "write.csv(merged_restricted@meta.data,\"NO_CB_Barcodes_demux_assignation.csv\")"
   ]
  },
  {
   "cell_type": "code",
   "execution_count": null,
   "id": "ff9b91a7-34cd-4948-a8ac-5cc854df94f1",
   "metadata": {},
   "outputs": [],
   "source": []
  },
  {
   "cell_type": "markdown",
   "id": "84e1266d-95f5-47ca-8b60-3decc3354b9e",
   "metadata": {},
   "source": [
    "# Add new Genotype Annotation to adata"
   ]
  },
  {
   "cell_type": "code",
   "execution_count": 112,
   "id": "2e80fe4a-389a-4630-a30c-79190b3ca876",
   "metadata": {
    "execution": {
     "iopub.execute_input": "2025-02-03T16:36:38.510284Z",
     "iopub.status.busy": "2025-02-03T16:36:38.509147Z",
     "iopub.status.idle": "2025-02-03T16:36:38.523006Z",
     "shell.execute_reply": "2025-02-03T16:36:38.521875Z"
    }
   },
   "outputs": [
    {
     "data": {
      "text/html": [
       "<style>\n",
       ".list-inline {list-style: none; margin:0; padding: 0}\n",
       ".list-inline>li {display: inline-block}\n",
       ".list-inline>li:not(:last-child)::after {content: \"\\00b7\"; padding: 0 .5ex}\n",
       "</style>\n",
       "<ol class=list-inline><li>'orig.ident'</li><li>'nCount_RNA'</li><li>'nFeature_RNA'</li><li>'percent.mt'</li><li>'nCount_RNA_raw'</li><li>'nFeature_RNA_raw'</li><li>'nCount_ATAC'</li><li>'nFeature_ATAC'</li><li>'gex_raw_reads'</li><li>'gex_mapped_reads'</li><li>'gex_conf_intergenic_reads'</li><li>'gex_conf_exonic_reads'</li><li>'gex_conf_intronic_reads'</li><li>'gex_conf_exonic_unique_reads'</li><li>'gex_conf_exonic_antisense_reads'</li><li>'gex_conf_exonic_dup_reads'</li><li>'gex_exonic_umis'</li><li>'gex_conf_intronic_unique_reads'</li><li>'gex_conf_intronic_antisense_reads'</li><li>'gex_conf_intronic_dup_reads'</li><li>'gex_intronic_umis'</li><li>'gex_conf_txomic_unique_reads'</li><li>'gex_umis_count'</li><li>'gex_genes_count'</li><li>'atac_raw_reads'</li><li>'atac_unmapped_reads'</li><li>'atac_lowmapq'</li><li>'atac_dup_reads'</li><li>'atac_chimeric_reads'</li><li>'atac_mitochondrial_reads'</li><li>'atac_fragments'</li><li>'atac_TSS_fragments'</li><li>'atac_peak_region_fragments'</li><li>'atac_peak_region_cutsites'</li><li>'TSS.enrichment'</li><li>'TSS.percentile'</li><li>'scDblFinder.class'</li><li>'scDblFinder.score'</li><li>'scDblFinder.weighted'</li><li>'scDblFinder.cxds_score'</li><li>'scDblFinder.class_atac'</li><li>'scDblFinder.score_atac'</li><li>'scDblFinder.weighted_atac'</li><li>'scDblFinder.cxds_score_atac'</li><li>'No_assigned_GFPbc'</li><li>'Assigned_GFPbc'</li><li>'Assigned_GFPgenotype'</li><li>'DBL_comb'</li><li>'amulet_nFrags'</li><li>'amulet_uniqFrags'</li><li>'amulet_nAbove2'</li><li>'amulet_total.nAbove2'</li><li>'amulet_p.value'</li><li>'amulet_q.value'</li><li>'doublet_amulet'</li><li>'nCount_SCT'</li><li>'nFeature_SCT'</li><li>'SCT.weight'</li><li>'ATAC.weight'</li><li>'wsnn_res.0.2'</li><li>'seurat_clusters'</li><li>'doublet'</li><li>'wsnn_res.2'</li><li>'wsnn_res.0.5'</li><li>'wsnn_res.0.25'</li><li>'CellTypist_BMA_label'</li><li>'CellTypist_BMA_conf_score'</li><li>'CellTypist_IPSCs_label'</li><li>'CellTypist_IPSCs_conf_score'</li><li>'CellTypist_BMA_label_filtered'</li><li>'CellTypist_IPSCs_label_filtered'</li><li>'time_point'</li><li>'time'</li><li>'nucleosome_signal'</li><li>'nucleosome_percentile'</li><li>'FRiP'</li><li>'atac_pct_reads_in_peaks'</li><li>'my_anot'</li><li>'FOI'</li><li>'my_anot_updated'</li><li>'majority_voting_BMA'</li><li>'majority_voting_iPSCs'</li><li>'current_anot'</li></ol>\n"
      ],
      "text/latex": [
       "\\begin{enumerate*}\n",
       "\\item 'orig.ident'\n",
       "\\item 'nCount\\_RNA'\n",
       "\\item 'nFeature\\_RNA'\n",
       "\\item 'percent.mt'\n",
       "\\item 'nCount\\_RNA\\_raw'\n",
       "\\item 'nFeature\\_RNA\\_raw'\n",
       "\\item 'nCount\\_ATAC'\n",
       "\\item 'nFeature\\_ATAC'\n",
       "\\item 'gex\\_raw\\_reads'\n",
       "\\item 'gex\\_mapped\\_reads'\n",
       "\\item 'gex\\_conf\\_intergenic\\_reads'\n",
       "\\item 'gex\\_conf\\_exonic\\_reads'\n",
       "\\item 'gex\\_conf\\_intronic\\_reads'\n",
       "\\item 'gex\\_conf\\_exonic\\_unique\\_reads'\n",
       "\\item 'gex\\_conf\\_exonic\\_antisense\\_reads'\n",
       "\\item 'gex\\_conf\\_exonic\\_dup\\_reads'\n",
       "\\item 'gex\\_exonic\\_umis'\n",
       "\\item 'gex\\_conf\\_intronic\\_unique\\_reads'\n",
       "\\item 'gex\\_conf\\_intronic\\_antisense\\_reads'\n",
       "\\item 'gex\\_conf\\_intronic\\_dup\\_reads'\n",
       "\\item 'gex\\_intronic\\_umis'\n",
       "\\item 'gex\\_conf\\_txomic\\_unique\\_reads'\n",
       "\\item 'gex\\_umis\\_count'\n",
       "\\item 'gex\\_genes\\_count'\n",
       "\\item 'atac\\_raw\\_reads'\n",
       "\\item 'atac\\_unmapped\\_reads'\n",
       "\\item 'atac\\_lowmapq'\n",
       "\\item 'atac\\_dup\\_reads'\n",
       "\\item 'atac\\_chimeric\\_reads'\n",
       "\\item 'atac\\_mitochondrial\\_reads'\n",
       "\\item 'atac\\_fragments'\n",
       "\\item 'atac\\_TSS\\_fragments'\n",
       "\\item 'atac\\_peak\\_region\\_fragments'\n",
       "\\item 'atac\\_peak\\_region\\_cutsites'\n",
       "\\item 'TSS.enrichment'\n",
       "\\item 'TSS.percentile'\n",
       "\\item 'scDblFinder.class'\n",
       "\\item 'scDblFinder.score'\n",
       "\\item 'scDblFinder.weighted'\n",
       "\\item 'scDblFinder.cxds\\_score'\n",
       "\\item 'scDblFinder.class\\_atac'\n",
       "\\item 'scDblFinder.score\\_atac'\n",
       "\\item 'scDblFinder.weighted\\_atac'\n",
       "\\item 'scDblFinder.cxds\\_score\\_atac'\n",
       "\\item 'No\\_assigned\\_GFPbc'\n",
       "\\item 'Assigned\\_GFPbc'\n",
       "\\item 'Assigned\\_GFPgenotype'\n",
       "\\item 'DBL\\_comb'\n",
       "\\item 'amulet\\_nFrags'\n",
       "\\item 'amulet\\_uniqFrags'\n",
       "\\item 'amulet\\_nAbove2'\n",
       "\\item 'amulet\\_total.nAbove2'\n",
       "\\item 'amulet\\_p.value'\n",
       "\\item 'amulet\\_q.value'\n",
       "\\item 'doublet\\_amulet'\n",
       "\\item 'nCount\\_SCT'\n",
       "\\item 'nFeature\\_SCT'\n",
       "\\item 'SCT.weight'\n",
       "\\item 'ATAC.weight'\n",
       "\\item 'wsnn\\_res.0.2'\n",
       "\\item 'seurat\\_clusters'\n",
       "\\item 'doublet'\n",
       "\\item 'wsnn\\_res.2'\n",
       "\\item 'wsnn\\_res.0.5'\n",
       "\\item 'wsnn\\_res.0.25'\n",
       "\\item 'CellTypist\\_BMA\\_label'\n",
       "\\item 'CellTypist\\_BMA\\_conf\\_score'\n",
       "\\item 'CellTypist\\_IPSCs\\_label'\n",
       "\\item 'CellTypist\\_IPSCs\\_conf\\_score'\n",
       "\\item 'CellTypist\\_BMA\\_label\\_filtered'\n",
       "\\item 'CellTypist\\_IPSCs\\_label\\_filtered'\n",
       "\\item 'time\\_point'\n",
       "\\item 'time'\n",
       "\\item 'nucleosome\\_signal'\n",
       "\\item 'nucleosome\\_percentile'\n",
       "\\item 'FRiP'\n",
       "\\item 'atac\\_pct\\_reads\\_in\\_peaks'\n",
       "\\item 'my\\_anot'\n",
       "\\item 'FOI'\n",
       "\\item 'my\\_anot\\_updated'\n",
       "\\item 'majority\\_voting\\_BMA'\n",
       "\\item 'majority\\_voting\\_iPSCs'\n",
       "\\item 'current\\_anot'\n",
       "\\end{enumerate*}\n"
      ],
      "text/markdown": [
       "1. 'orig.ident'\n",
       "2. 'nCount_RNA'\n",
       "3. 'nFeature_RNA'\n",
       "4. 'percent.mt'\n",
       "5. 'nCount_RNA_raw'\n",
       "6. 'nFeature_RNA_raw'\n",
       "7. 'nCount_ATAC'\n",
       "8. 'nFeature_ATAC'\n",
       "9. 'gex_raw_reads'\n",
       "10. 'gex_mapped_reads'\n",
       "11. 'gex_conf_intergenic_reads'\n",
       "12. 'gex_conf_exonic_reads'\n",
       "13. 'gex_conf_intronic_reads'\n",
       "14. 'gex_conf_exonic_unique_reads'\n",
       "15. 'gex_conf_exonic_antisense_reads'\n",
       "16. 'gex_conf_exonic_dup_reads'\n",
       "17. 'gex_exonic_umis'\n",
       "18. 'gex_conf_intronic_unique_reads'\n",
       "19. 'gex_conf_intronic_antisense_reads'\n",
       "20. 'gex_conf_intronic_dup_reads'\n",
       "21. 'gex_intronic_umis'\n",
       "22. 'gex_conf_txomic_unique_reads'\n",
       "23. 'gex_umis_count'\n",
       "24. 'gex_genes_count'\n",
       "25. 'atac_raw_reads'\n",
       "26. 'atac_unmapped_reads'\n",
       "27. 'atac_lowmapq'\n",
       "28. 'atac_dup_reads'\n",
       "29. 'atac_chimeric_reads'\n",
       "30. 'atac_mitochondrial_reads'\n",
       "31. 'atac_fragments'\n",
       "32. 'atac_TSS_fragments'\n",
       "33. 'atac_peak_region_fragments'\n",
       "34. 'atac_peak_region_cutsites'\n",
       "35. 'TSS.enrichment'\n",
       "36. 'TSS.percentile'\n",
       "37. 'scDblFinder.class'\n",
       "38. 'scDblFinder.score'\n",
       "39. 'scDblFinder.weighted'\n",
       "40. 'scDblFinder.cxds_score'\n",
       "41. 'scDblFinder.class_atac'\n",
       "42. 'scDblFinder.score_atac'\n",
       "43. 'scDblFinder.weighted_atac'\n",
       "44. 'scDblFinder.cxds_score_atac'\n",
       "45. 'No_assigned_GFPbc'\n",
       "46. 'Assigned_GFPbc'\n",
       "47. 'Assigned_GFPgenotype'\n",
       "48. 'DBL_comb'\n",
       "49. 'amulet_nFrags'\n",
       "50. 'amulet_uniqFrags'\n",
       "51. 'amulet_nAbove2'\n",
       "52. 'amulet_total.nAbove2'\n",
       "53. 'amulet_p.value'\n",
       "54. 'amulet_q.value'\n",
       "55. 'doublet_amulet'\n",
       "56. 'nCount_SCT'\n",
       "57. 'nFeature_SCT'\n",
       "58. 'SCT.weight'\n",
       "59. 'ATAC.weight'\n",
       "60. 'wsnn_res.0.2'\n",
       "61. 'seurat_clusters'\n",
       "62. 'doublet'\n",
       "63. 'wsnn_res.2'\n",
       "64. 'wsnn_res.0.5'\n",
       "65. 'wsnn_res.0.25'\n",
       "66. 'CellTypist_BMA_label'\n",
       "67. 'CellTypist_BMA_conf_score'\n",
       "68. 'CellTypist_IPSCs_label'\n",
       "69. 'CellTypist_IPSCs_conf_score'\n",
       "70. 'CellTypist_BMA_label_filtered'\n",
       "71. 'CellTypist_IPSCs_label_filtered'\n",
       "72. 'time_point'\n",
       "73. 'time'\n",
       "74. 'nucleosome_signal'\n",
       "75. 'nucleosome_percentile'\n",
       "76. 'FRiP'\n",
       "77. 'atac_pct_reads_in_peaks'\n",
       "78. 'my_anot'\n",
       "79. 'FOI'\n",
       "80. 'my_anot_updated'\n",
       "81. 'majority_voting_BMA'\n",
       "82. 'majority_voting_iPSCs'\n",
       "83. 'current_anot'\n",
       "\n",
       "\n"
      ],
      "text/plain": [
       " [1] \"orig.ident\"                        \"nCount_RNA\"                       \n",
       " [3] \"nFeature_RNA\"                      \"percent.mt\"                       \n",
       " [5] \"nCount_RNA_raw\"                    \"nFeature_RNA_raw\"                 \n",
       " [7] \"nCount_ATAC\"                       \"nFeature_ATAC\"                    \n",
       " [9] \"gex_raw_reads\"                     \"gex_mapped_reads\"                 \n",
       "[11] \"gex_conf_intergenic_reads\"         \"gex_conf_exonic_reads\"            \n",
       "[13] \"gex_conf_intronic_reads\"           \"gex_conf_exonic_unique_reads\"     \n",
       "[15] \"gex_conf_exonic_antisense_reads\"   \"gex_conf_exonic_dup_reads\"        \n",
       "[17] \"gex_exonic_umis\"                   \"gex_conf_intronic_unique_reads\"   \n",
       "[19] \"gex_conf_intronic_antisense_reads\" \"gex_conf_intronic_dup_reads\"      \n",
       "[21] \"gex_intronic_umis\"                 \"gex_conf_txomic_unique_reads\"     \n",
       "[23] \"gex_umis_count\"                    \"gex_genes_count\"                  \n",
       "[25] \"atac_raw_reads\"                    \"atac_unmapped_reads\"              \n",
       "[27] \"atac_lowmapq\"                      \"atac_dup_reads\"                   \n",
       "[29] \"atac_chimeric_reads\"               \"atac_mitochondrial_reads\"         \n",
       "[31] \"atac_fragments\"                    \"atac_TSS_fragments\"               \n",
       "[33] \"atac_peak_region_fragments\"        \"atac_peak_region_cutsites\"        \n",
       "[35] \"TSS.enrichment\"                    \"TSS.percentile\"                   \n",
       "[37] \"scDblFinder.class\"                 \"scDblFinder.score\"                \n",
       "[39] \"scDblFinder.weighted\"              \"scDblFinder.cxds_score\"           \n",
       "[41] \"scDblFinder.class_atac\"            \"scDblFinder.score_atac\"           \n",
       "[43] \"scDblFinder.weighted_atac\"         \"scDblFinder.cxds_score_atac\"      \n",
       "[45] \"No_assigned_GFPbc\"                 \"Assigned_GFPbc\"                   \n",
       "[47] \"Assigned_GFPgenotype\"              \"DBL_comb\"                         \n",
       "[49] \"amulet_nFrags\"                     \"amulet_uniqFrags\"                 \n",
       "[51] \"amulet_nAbove2\"                    \"amulet_total.nAbove2\"             \n",
       "[53] \"amulet_p.value\"                    \"amulet_q.value\"                   \n",
       "[55] \"doublet_amulet\"                    \"nCount_SCT\"                       \n",
       "[57] \"nFeature_SCT\"                      \"SCT.weight\"                       \n",
       "[59] \"ATAC.weight\"                       \"wsnn_res.0.2\"                     \n",
       "[61] \"seurat_clusters\"                   \"doublet\"                          \n",
       "[63] \"wsnn_res.2\"                        \"wsnn_res.0.5\"                     \n",
       "[65] \"wsnn_res.0.25\"                     \"CellTypist_BMA_label\"             \n",
       "[67] \"CellTypist_BMA_conf_score\"         \"CellTypist_IPSCs_label\"           \n",
       "[69] \"CellTypist_IPSCs_conf_score\"       \"CellTypist_BMA_label_filtered\"    \n",
       "[71] \"CellTypist_IPSCs_label_filtered\"   \"time_point\"                       \n",
       "[73] \"time\"                              \"nucleosome_signal\"                \n",
       "[75] \"nucleosome_percentile\"             \"FRiP\"                             \n",
       "[77] \"atac_pct_reads_in_peaks\"           \"my_anot\"                          \n",
       "[79] \"FOI\"                               \"my_anot_updated\"                  \n",
       "[81] \"majority_voting_BMA\"               \"majority_voting_iPSCs\"            \n",
       "[83] \"current_anot\"                     "
      ]
     },
     "metadata": {},
     "output_type": "display_data"
    }
   ],
   "source": [
    "colnames(adata@meta.data)"
   ]
  },
  {
   "cell_type": "code",
   "execution_count": 113,
   "id": "d987d178-bc02-4842-810d-b6e3e60a3556",
   "metadata": {
    "execution": {
     "iopub.execute_input": "2025-02-03T16:37:15.795038Z",
     "iopub.status.busy": "2025-02-03T16:37:15.793882Z",
     "iopub.status.idle": "2025-02-03T16:37:15.807338Z",
     "shell.execute_reply": "2025-02-03T16:37:15.806249Z"
    }
   },
   "outputs": [
    {
     "data": {
      "text/html": [
       "<style>\n",
       ".dl-inline {width: auto; margin:0; padding: 0}\n",
       ".dl-inline>dt, .dl-inline>dd {float: none; width: auto; display: inline-block}\n",
       ".dl-inline>dt::after {content: \":\\0020\"; padding-right: .5ex}\n",
       ".dl-inline>dt:not(:first-of-type) {padding-left: .5ex}\n",
       "</style><dl class=dl-inline><dt>chrGFP_WTA</dt><dd>14</dd><dt>chrGFP_WTB</dt><dd>20</dd><dt>chrGFP_WTC</dt><dd>36</dd><dt>chrGFP_rs1</dt><dd>118</dd><dt>chrGFP_rs2</dt><dd>134</dd><dt>chrGFP_rs3</dt><dd>1629</dd><dt>chrGFP_R882H1</dt><dd>105</dd><dt>chrGFP_R882H2</dt><dd>9</dd><dt>chrGFP_R882H3</dt><dd>109</dd><dt>chrGFP_rs_R882H1</dt><dd>236</dd><dt>chrGFP_rs_R882H2</dt><dd>79</dd><dt>chrGFP_rs_R882H3</dt><dd>80</dd><dt>Genotype missing</dt><dd>34935</dd></dl>\n"
      ],
      "text/latex": [
       "\\begin{description*}\n",
       "\\item[chrGFP\\textbackslash{}\\_WTA] 14\n",
       "\\item[chrGFP\\textbackslash{}\\_WTB] 20\n",
       "\\item[chrGFP\\textbackslash{}\\_WTC] 36\n",
       "\\item[chrGFP\\textbackslash{}\\_rs1] 118\n",
       "\\item[chrGFP\\textbackslash{}\\_rs2] 134\n",
       "\\item[chrGFP\\textbackslash{}\\_rs3] 1629\n",
       "\\item[chrGFP\\textbackslash{}\\_R882H1] 105\n",
       "\\item[chrGFP\\textbackslash{}\\_R882H2] 9\n",
       "\\item[chrGFP\\textbackslash{}\\_R882H3] 109\n",
       "\\item[chrGFP\\textbackslash{}\\_rs\\textbackslash{}\\_R882H1] 236\n",
       "\\item[chrGFP\\textbackslash{}\\_rs\\textbackslash{}\\_R882H2] 79\n",
       "\\item[chrGFP\\textbackslash{}\\_rs\\textbackslash{}\\_R882H3] 80\n",
       "\\item[Genotype missing] 34935\n",
       "\\end{description*}\n"
      ],
      "text/markdown": [
       "chrGFP_WTA\n",
       ":   14chrGFP_WTB\n",
       ":   20chrGFP_WTC\n",
       ":   36chrGFP_rs1\n",
       ":   118chrGFP_rs2\n",
       ":   134chrGFP_rs3\n",
       ":   1629chrGFP_R882H1\n",
       ":   105chrGFP_R882H2\n",
       ":   9chrGFP_R882H3\n",
       ":   109chrGFP_rs_R882H1\n",
       ":   236chrGFP_rs_R882H2\n",
       ":   79chrGFP_rs_R882H3\n",
       ":   80Genotype missing\n",
       ":   34935\n",
       "\n"
      ],
      "text/plain": [
       "      chrGFP_WTA       chrGFP_WTB       chrGFP_WTC       chrGFP_rs1 \n",
       "              14               20               36              118 \n",
       "      chrGFP_rs2       chrGFP_rs3    chrGFP_R882H1    chrGFP_R882H2 \n",
       "             134             1629              105                9 \n",
       "   chrGFP_R882H3 chrGFP_rs_R882H1 chrGFP_rs_R882H2 chrGFP_rs_R882H3 \n",
       "             109              236               79               80 \n",
       "Genotype missing \n",
       "           34935 "
      ]
     },
     "metadata": {},
     "output_type": "display_data"
    }
   ],
   "source": [
    "summary(as.factor(adata@meta.data$Assigned_GFPbc))"
   ]
  },
  {
   "cell_type": "code",
   "execution_count": 126,
   "id": "123996ac-ec86-48e8-83e3-45e534d4d626",
   "metadata": {
    "execution": {
     "iopub.execute_input": "2025-02-03T16:46:43.996846Z",
     "iopub.status.busy": "2025-02-03T16:46:43.995779Z",
     "iopub.status.idle": "2025-02-03T16:46:44.091490Z",
     "shell.execute_reply": "2025-02-03T16:46:44.090073Z"
    }
   },
   "outputs": [],
   "source": [
    "adata<-AddMetaData(object= adata,\n",
    "                  metadata= merged_restricted@meta.data$hash.ID,\n",
    "                  col.name = \"Assignation_demux_NO_CB\")"
   ]
  },
  {
   "cell_type": "code",
   "execution_count": 127,
   "id": "01938479-6ea1-46da-ace3-c5c576a24696",
   "metadata": {
    "execution": {
     "iopub.execute_input": "2025-02-03T16:46:44.921361Z",
     "iopub.status.busy": "2025-02-03T16:46:44.920225Z",
     "iopub.status.idle": "2025-02-03T16:46:44.932926Z",
     "shell.execute_reply": "2025-02-03T16:46:44.931726Z"
    }
   },
   "outputs": [
    {
     "data": {
      "text/html": [
       "<style>\n",
       ".dl-inline {width: auto; margin:0; padding: 0}\n",
       ".dl-inline>dt, .dl-inline>dd {float: none; width: auto; display: inline-block}\n",
       ".dl-inline>dt::after {content: \":\\0020\"; padding-right: .5ex}\n",
       ".dl-inline>dt:not(:first-of-type) {padding-left: .5ex}\n",
       "</style><dl class=dl-inline><dt>Doublet</dt><dd>14897</dd><dt>GFP-chrGFP-R882H3</dt><dd>2010</dd><dt>Negative</dt><dd>9187</dd><dt>GFP-chrGFP-R882H1</dt><dd>717</dd><dt>GFP-chrGFP-rs-R882H2</dt><dd>379</dd><dt>GFP-chrGFP-rs-R882H3</dt><dd>445</dd><dt>GFP-chrGFP-rs-R882H1</dt><dd>939</dd><dt>GFP-chrGFP-WTC</dt><dd>223</dd><dt>GFP-chrGFP-R882H2</dt><dd>68</dd><dt>GFP-chrGFP-rs2</dt><dd>598</dd><dt>GFP-chrGFP-rs3</dt><dd>7120</dd><dt>GFP-chrGFP-WTB</dt><dd>144</dd><dt>GFP-chrGFP-rs1</dt><dd>692</dd><dt>GFP-chrGFP-WTA</dt><dd>85</dd></dl>\n"
      ],
      "text/latex": [
       "\\begin{description*}\n",
       "\\item[Doublet] 14897\n",
       "\\item[GFP-chrGFP-R882H3] 2010\n",
       "\\item[Negative] 9187\n",
       "\\item[GFP-chrGFP-R882H1] 717\n",
       "\\item[GFP-chrGFP-rs-R882H2] 379\n",
       "\\item[GFP-chrGFP-rs-R882H3] 445\n",
       "\\item[GFP-chrGFP-rs-R882H1] 939\n",
       "\\item[GFP-chrGFP-WTC] 223\n",
       "\\item[GFP-chrGFP-R882H2] 68\n",
       "\\item[GFP-chrGFP-rs2] 598\n",
       "\\item[GFP-chrGFP-rs3] 7120\n",
       "\\item[GFP-chrGFP-WTB] 144\n",
       "\\item[GFP-chrGFP-rs1] 692\n",
       "\\item[GFP-chrGFP-WTA] 85\n",
       "\\end{description*}\n"
      ],
      "text/markdown": [
       "Doublet\n",
       ":   14897GFP-chrGFP-R882H3\n",
       ":   2010Negative\n",
       ":   9187GFP-chrGFP-R882H1\n",
       ":   717GFP-chrGFP-rs-R882H2\n",
       ":   379GFP-chrGFP-rs-R882H3\n",
       ":   445GFP-chrGFP-rs-R882H1\n",
       ":   939GFP-chrGFP-WTC\n",
       ":   223GFP-chrGFP-R882H2\n",
       ":   68GFP-chrGFP-rs2\n",
       ":   598GFP-chrGFP-rs3\n",
       ":   7120GFP-chrGFP-WTB\n",
       ":   144GFP-chrGFP-rs1\n",
       ":   692GFP-chrGFP-WTA\n",
       ":   85\n",
       "\n"
      ],
      "text/plain": [
       "             Doublet    GFP-chrGFP-R882H3             Negative \n",
       "               14897                 2010                 9187 \n",
       "   GFP-chrGFP-R882H1 GFP-chrGFP-rs-R882H2 GFP-chrGFP-rs-R882H3 \n",
       "                 717                  379                  445 \n",
       "GFP-chrGFP-rs-R882H1       GFP-chrGFP-WTC    GFP-chrGFP-R882H2 \n",
       "                 939                  223                   68 \n",
       "      GFP-chrGFP-rs2       GFP-chrGFP-rs3       GFP-chrGFP-WTB \n",
       "                 598                 7120                  144 \n",
       "      GFP-chrGFP-rs1       GFP-chrGFP-WTA \n",
       "                 692                   85 "
      ]
     },
     "metadata": {},
     "output_type": "display_data"
    }
   ],
   "source": [
    "summary(as.factor(adata@meta.data$Assignation_demux_NO_CB))"
   ]
  },
  {
   "cell_type": "code",
   "execution_count": 128,
   "id": "62905367-fe31-48c5-8f8d-87635e303250",
   "metadata": {
    "execution": {
     "iopub.execute_input": "2025-02-03T16:46:45.577203Z",
     "iopub.status.busy": "2025-02-03T16:46:45.576204Z",
     "iopub.status.idle": "2025-02-03T16:46:45.585031Z",
     "shell.execute_reply": "2025-02-03T16:46:45.583908Z"
    }
   },
   "outputs": [],
   "source": [
    "adata@meta.data$Assigned_GFPbc_demux_NO_CB<-gsub(\"^GFP-\",\"\",adata@meta.data$Assignation_demux_NO_CB)"
   ]
  },
  {
   "cell_type": "code",
   "execution_count": 129,
   "id": "b4db5fb7-0f67-474b-bcc1-0f24e453a3a8",
   "metadata": {
    "execution": {
     "iopub.execute_input": "2025-02-03T16:46:46.196322Z",
     "iopub.status.busy": "2025-02-03T16:46:46.195326Z",
     "iopub.status.idle": "2025-02-03T16:46:46.213846Z",
     "shell.execute_reply": "2025-02-03T16:46:46.212719Z"
    }
   },
   "outputs": [],
   "source": [
    "adata@meta.data$Assigned_GFPbc_demux_NO_CB<-gsub(\"-\",\"_\",adata@meta.data$Assigned_GFPbc_demux_NO_CB)"
   ]
  },
  {
   "cell_type": "code",
   "execution_count": 130,
   "id": "99613a8c-096a-479e-a75e-4d771006b3d5",
   "metadata": {
    "execution": {
     "iopub.execute_input": "2025-02-03T16:46:46.629825Z",
     "iopub.status.busy": "2025-02-03T16:46:46.628822Z",
     "iopub.status.idle": "2025-02-03T16:46:46.641286Z",
     "shell.execute_reply": "2025-02-03T16:46:46.640133Z"
    }
   },
   "outputs": [
    {
     "data": {
      "text/html": [
       "<style>\n",
       ".dl-inline {width: auto; margin:0; padding: 0}\n",
       ".dl-inline>dt, .dl-inline>dd {float: none; width: auto; display: inline-block}\n",
       ".dl-inline>dt::after {content: \":\\0020\"; padding-right: .5ex}\n",
       ".dl-inline>dt:not(:first-of-type) {padding-left: .5ex}\n",
       "</style><dl class=dl-inline><dt>chrGFP_R882H1</dt><dd>717</dd><dt>chrGFP_R882H2</dt><dd>68</dd><dt>chrGFP_R882H3</dt><dd>2010</dd><dt>chrGFP_rs_R882H1</dt><dd>939</dd><dt>chrGFP_rs_R882H2</dt><dd>379</dd><dt>chrGFP_rs_R882H3</dt><dd>445</dd><dt>chrGFP_rs1</dt><dd>692</dd><dt>chrGFP_rs2</dt><dd>598</dd><dt>chrGFP_rs3</dt><dd>7120</dd><dt>chrGFP_WTA</dt><dd>85</dd><dt>chrGFP_WTB</dt><dd>144</dd><dt>chrGFP_WTC</dt><dd>223</dd><dt>Doublet</dt><dd>14897</dd><dt>Negative</dt><dd>9187</dd></dl>\n"
      ],
      "text/latex": [
       "\\begin{description*}\n",
       "\\item[chrGFP\\textbackslash{}\\_R882H1] 717\n",
       "\\item[chrGFP\\textbackslash{}\\_R882H2] 68\n",
       "\\item[chrGFP\\textbackslash{}\\_R882H3] 2010\n",
       "\\item[chrGFP\\textbackslash{}\\_rs\\textbackslash{}\\_R882H1] 939\n",
       "\\item[chrGFP\\textbackslash{}\\_rs\\textbackslash{}\\_R882H2] 379\n",
       "\\item[chrGFP\\textbackslash{}\\_rs\\textbackslash{}\\_R882H3] 445\n",
       "\\item[chrGFP\\textbackslash{}\\_rs1] 692\n",
       "\\item[chrGFP\\textbackslash{}\\_rs2] 598\n",
       "\\item[chrGFP\\textbackslash{}\\_rs3] 7120\n",
       "\\item[chrGFP\\textbackslash{}\\_WTA] 85\n",
       "\\item[chrGFP\\textbackslash{}\\_WTB] 144\n",
       "\\item[chrGFP\\textbackslash{}\\_WTC] 223\n",
       "\\item[Doublet] 14897\n",
       "\\item[Negative] 9187\n",
       "\\end{description*}\n"
      ],
      "text/markdown": [
       "chrGFP_R882H1\n",
       ":   717chrGFP_R882H2\n",
       ":   68chrGFP_R882H3\n",
       ":   2010chrGFP_rs_R882H1\n",
       ":   939chrGFP_rs_R882H2\n",
       ":   379chrGFP_rs_R882H3\n",
       ":   445chrGFP_rs1\n",
       ":   692chrGFP_rs2\n",
       ":   598chrGFP_rs3\n",
       ":   7120chrGFP_WTA\n",
       ":   85chrGFP_WTB\n",
       ":   144chrGFP_WTC\n",
       ":   223Doublet\n",
       ":   14897Negative\n",
       ":   9187\n",
       "\n"
      ],
      "text/plain": [
       "   chrGFP_R882H1    chrGFP_R882H2    chrGFP_R882H3 chrGFP_rs_R882H1 \n",
       "             717               68             2010              939 \n",
       "chrGFP_rs_R882H2 chrGFP_rs_R882H3       chrGFP_rs1       chrGFP_rs2 \n",
       "             379              445              692              598 \n",
       "      chrGFP_rs3       chrGFP_WTA       chrGFP_WTB       chrGFP_WTC \n",
       "            7120               85              144              223 \n",
       "         Doublet         Negative \n",
       "           14897             9187 "
      ]
     },
     "metadata": {},
     "output_type": "display_data"
    }
   ],
   "source": [
    "summary(as.factor(adata@meta.data$Assigned_GFPbc_demux_NO_CB))"
   ]
  },
  {
   "cell_type": "code",
   "execution_count": 131,
   "id": "00fca079-44f8-4e22-ac18-f0a7b28d1736",
   "metadata": {
    "execution": {
     "iopub.execute_input": "2025-02-03T16:46:48.448867Z",
     "iopub.status.busy": "2025-02-03T16:46:48.447803Z",
     "iopub.status.idle": "2025-02-03T16:46:48.457136Z",
     "shell.execute_reply": "2025-02-03T16:46:48.455917Z"
    }
   },
   "outputs": [],
   "source": [
    "adata@meta.data$Assigned_GFPbc_demux_NO_CB<-factor(adata@meta.data$Assigned_GFPbc_demux_NO_CB,\n",
    "                                       levels = c(\"chrGFP_WTA\",\"chrGFP_WTB\",\"chrGFP_WTC\",\n",
    "                                                  \"chrGFP_rs1\",\"chrGFP_rs2\",\"chrGFP_rs3\",\n",
    "                                                  \"chrGFP_R882H1\",\"chrGFP_R882H2\",\"chrGFP_R882H3\",\n",
    "                                                  \"chrGFP_rs_R882H1\",\"chrGFP_rs_R882H2\",\"chrGFP_rs_R882H3\",\"Doublet\",\"Negative\"),\n",
    "                                       ordered=T)"
   ]
  },
  {
   "cell_type": "code",
   "execution_count": 134,
   "id": "21a35382-6753-4b1e-8650-842d86165f4a",
   "metadata": {
    "execution": {
     "iopub.execute_input": "2025-02-03T16:48:26.704641Z",
     "iopub.status.busy": "2025-02-03T16:48:26.703485Z",
     "iopub.status.idle": "2025-02-03T16:48:26.717786Z",
     "shell.execute_reply": "2025-02-03T16:48:26.716560Z"
    }
   },
   "outputs": [
    {
     "data": {
      "text/html": [
       "<style>\n",
       ".dl-inline {width: auto; margin:0; padding: 0}\n",
       ".dl-inline>dt, .dl-inline>dd {float: none; width: auto; display: inline-block}\n",
       ".dl-inline>dt::after {content: \":\\0020\"; padding-right: .5ex}\n",
       ".dl-inline>dt:not(:first-of-type) {padding-left: .5ex}\n",
       "</style><dl class=dl-inline><dt>chrGFP_WTA</dt><dd>85</dd><dt>chrGFP_WTB</dt><dd>144</dd><dt>chrGFP_WTC</dt><dd>223</dd><dt>chrGFP_rs1</dt><dd>692</dd><dt>chrGFP_rs2</dt><dd>598</dd><dt>chrGFP_rs3</dt><dd>7120</dd><dt>chrGFP_R882H1</dt><dd>717</dd><dt>chrGFP_R882H2</dt><dd>68</dd><dt>chrGFP_R882H3</dt><dd>2010</dd><dt>chrGFP_rs_R882H1</dt><dd>939</dd><dt>chrGFP_rs_R882H2</dt><dd>379</dd><dt>chrGFP_rs_R882H3</dt><dd>445</dd><dt>Doublet</dt><dd>14897</dd><dt>Negative</dt><dd>9187</dd></dl>\n"
      ],
      "text/latex": [
       "\\begin{description*}\n",
       "\\item[chrGFP\\textbackslash{}\\_WTA] 85\n",
       "\\item[chrGFP\\textbackslash{}\\_WTB] 144\n",
       "\\item[chrGFP\\textbackslash{}\\_WTC] 223\n",
       "\\item[chrGFP\\textbackslash{}\\_rs1] 692\n",
       "\\item[chrGFP\\textbackslash{}\\_rs2] 598\n",
       "\\item[chrGFP\\textbackslash{}\\_rs3] 7120\n",
       "\\item[chrGFP\\textbackslash{}\\_R882H1] 717\n",
       "\\item[chrGFP\\textbackslash{}\\_R882H2] 68\n",
       "\\item[chrGFP\\textbackslash{}\\_R882H3] 2010\n",
       "\\item[chrGFP\\textbackslash{}\\_rs\\textbackslash{}\\_R882H1] 939\n",
       "\\item[chrGFP\\textbackslash{}\\_rs\\textbackslash{}\\_R882H2] 379\n",
       "\\item[chrGFP\\textbackslash{}\\_rs\\textbackslash{}\\_R882H3] 445\n",
       "\\item[Doublet] 14897\n",
       "\\item[Negative] 9187\n",
       "\\end{description*}\n"
      ],
      "text/markdown": [
       "chrGFP_WTA\n",
       ":   85chrGFP_WTB\n",
       ":   144chrGFP_WTC\n",
       ":   223chrGFP_rs1\n",
       ":   692chrGFP_rs2\n",
       ":   598chrGFP_rs3\n",
       ":   7120chrGFP_R882H1\n",
       ":   717chrGFP_R882H2\n",
       ":   68chrGFP_R882H3\n",
       ":   2010chrGFP_rs_R882H1\n",
       ":   939chrGFP_rs_R882H2\n",
       ":   379chrGFP_rs_R882H3\n",
       ":   445Doublet\n",
       ":   14897Negative\n",
       ":   9187\n",
       "\n"
      ],
      "text/plain": [
       "      chrGFP_WTA       chrGFP_WTB       chrGFP_WTC       chrGFP_rs1 \n",
       "              85              144              223              692 \n",
       "      chrGFP_rs2       chrGFP_rs3    chrGFP_R882H1    chrGFP_R882H2 \n",
       "             598             7120              717               68 \n",
       "   chrGFP_R882H3 chrGFP_rs_R882H1 chrGFP_rs_R882H2 chrGFP_rs_R882H3 \n",
       "            2010              939              379              445 \n",
       "         Doublet         Negative \n",
       "           14897             9187 "
      ]
     },
     "metadata": {},
     "output_type": "display_data"
    }
   ],
   "source": [
    "summary(adata@meta.data$Assigned_GFPbc_demux_NO_CB)"
   ]
  },
  {
   "cell_type": "code",
   "execution_count": 135,
   "id": "c707fb01-8c71-4c16-9085-631e04379c6b",
   "metadata": {
    "execution": {
     "iopub.execute_input": "2025-02-03T16:48:29.604485Z",
     "iopub.status.busy": "2025-02-03T16:48:29.603430Z",
     "iopub.status.idle": "2025-02-03T16:48:29.620086Z",
     "shell.execute_reply": "2025-02-03T16:48:29.618870Z"
    }
   },
   "outputs": [
    {
     "data": {
      "text/html": [
       "<style>\n",
       ".dl-inline {width: auto; margin:0; padding: 0}\n",
       ".dl-inline>dt, .dl-inline>dd {float: none; width: auto; display: inline-block}\n",
       ".dl-inline>dt::after {content: \":\\0020\"; padding-right: .5ex}\n",
       ".dl-inline>dt:not(:first-of-type) {padding-left: .5ex}\n",
       "</style><dl class=dl-inline><dt>chrGFP_WTA</dt><dd>14</dd><dt>chrGFP_WTB</dt><dd>20</dd><dt>chrGFP_WTC</dt><dd>36</dd><dt>chrGFP_rs1</dt><dd>118</dd><dt>chrGFP_rs2</dt><dd>134</dd><dt>chrGFP_rs3</dt><dd>1629</dd><dt>chrGFP_R882H1</dt><dd>105</dd><dt>chrGFP_R882H2</dt><dd>9</dd><dt>chrGFP_R882H3</dt><dd>109</dd><dt>chrGFP_rs_R882H1</dt><dd>236</dd><dt>chrGFP_rs_R882H2</dt><dd>79</dd><dt>chrGFP_rs_R882H3</dt><dd>80</dd><dt>Genotype missing</dt><dd>34935</dd></dl>\n"
      ],
      "text/latex": [
       "\\begin{description*}\n",
       "\\item[chrGFP\\textbackslash{}\\_WTA] 14\n",
       "\\item[chrGFP\\textbackslash{}\\_WTB] 20\n",
       "\\item[chrGFP\\textbackslash{}\\_WTC] 36\n",
       "\\item[chrGFP\\textbackslash{}\\_rs1] 118\n",
       "\\item[chrGFP\\textbackslash{}\\_rs2] 134\n",
       "\\item[chrGFP\\textbackslash{}\\_rs3] 1629\n",
       "\\item[chrGFP\\textbackslash{}\\_R882H1] 105\n",
       "\\item[chrGFP\\textbackslash{}\\_R882H2] 9\n",
       "\\item[chrGFP\\textbackslash{}\\_R882H3] 109\n",
       "\\item[chrGFP\\textbackslash{}\\_rs\\textbackslash{}\\_R882H1] 236\n",
       "\\item[chrGFP\\textbackslash{}\\_rs\\textbackslash{}\\_R882H2] 79\n",
       "\\item[chrGFP\\textbackslash{}\\_rs\\textbackslash{}\\_R882H3] 80\n",
       "\\item[Genotype missing] 34935\n",
       "\\end{description*}\n"
      ],
      "text/markdown": [
       "chrGFP_WTA\n",
       ":   14chrGFP_WTB\n",
       ":   20chrGFP_WTC\n",
       ":   36chrGFP_rs1\n",
       ":   118chrGFP_rs2\n",
       ":   134chrGFP_rs3\n",
       ":   1629chrGFP_R882H1\n",
       ":   105chrGFP_R882H2\n",
       ":   9chrGFP_R882H3\n",
       ":   109chrGFP_rs_R882H1\n",
       ":   236chrGFP_rs_R882H2\n",
       ":   79chrGFP_rs_R882H3\n",
       ":   80Genotype missing\n",
       ":   34935\n",
       "\n"
      ],
      "text/plain": [
       "      chrGFP_WTA       chrGFP_WTB       chrGFP_WTC       chrGFP_rs1 \n",
       "              14               20               36              118 \n",
       "      chrGFP_rs2       chrGFP_rs3    chrGFP_R882H1    chrGFP_R882H2 \n",
       "             134             1629              105                9 \n",
       "   chrGFP_R882H3 chrGFP_rs_R882H1 chrGFP_rs_R882H2 chrGFP_rs_R882H3 \n",
       "             109              236               79               80 \n",
       "Genotype missing \n",
       "           34935 "
      ]
     },
     "metadata": {},
     "output_type": "display_data"
    }
   ],
   "source": [
    "summary(adata@meta.data$Assigned_GFPbc)"
   ]
  },
  {
   "cell_type": "markdown",
   "id": "937c6b2e-263a-4b75-b142-48368b970c0c",
   "metadata": {},
   "source": [
    "## Compare results between both assignations"
   ]
  },
  {
   "cell_type": "code",
   "execution_count": 137,
   "id": "74a05637-5cf9-4493-ba6e-8e7de0530b0a",
   "metadata": {
    "execution": {
     "iopub.execute_input": "2025-02-03T16:51:52.355045Z",
     "iopub.status.busy": "2025-02-03T16:51:52.353962Z",
     "iopub.status.idle": "2025-02-03T16:51:52.371235Z",
     "shell.execute_reply": "2025-02-03T16:51:52.370155Z"
    }
   },
   "outputs": [
    {
     "data": {
      "text/html": [
       "<style>\n",
       ".dl-inline {width: auto; margin:0; padding: 0}\n",
       ".dl-inline>dt, .dl-inline>dd {float: none; width: auto; display: inline-block}\n",
       ".dl-inline>dt::after {content: \":\\0020\"; padding-right: .5ex}\n",
       ".dl-inline>dt:not(:first-of-type) {padding-left: .5ex}\n",
       "</style><dl class=dl-inline><dt>chrGFP_WTA.chrGFP_WTA</dt><dd>4</dd><dt>chrGFP_rs3.chrGFP_WTA</dt><dd>3</dd><dt>Genotype missing.chrGFP_WTA</dt><dd>78</dd><dt>chrGFP_WTB.chrGFP_WTB</dt><dd>6</dd><dt>chrGFP_rs1.chrGFP_WTB</dt><dd>1</dd><dt>chrGFP_rs3.chrGFP_WTB</dt><dd>3</dd><dt>chrGFP_rs_R882H1.chrGFP_WTB</dt><dd>1</dd><dt>Genotype missing.chrGFP_WTB</dt><dd>133</dd><dt>chrGFP_WTC.chrGFP_WTC</dt><dd>9</dd><dt>chrGFP_rs3.chrGFP_WTC</dt><dd>8</dd><dt>Genotype missing.chrGFP_WTC</dt><dd>206</dd><dt>chrGFP_rs1.chrGFP_rs1</dt><dd>26</dd><dt>chrGFP_rs2.chrGFP_rs1</dt><dd>1</dd><dt>chrGFP_rs3.chrGFP_rs1</dt><dd>36</dd><dt>chrGFP_rs_R882H1.chrGFP_rs1</dt><dd>1</dd><dt>Genotype missing.chrGFP_rs1</dt><dd>628</dd><dt>chrGFP_rs1.chrGFP_rs2</dt><dd>1</dd><dt>chrGFP_rs2.chrGFP_rs2</dt><dd>28</dd><dt>chrGFP_rs3.chrGFP_rs2</dt><dd>22</dd><dt>Genotype missing.chrGFP_rs2</dt><dd>547</dd><dt>chrGFP_WTB.chrGFP_rs3</dt><dd>1</dd><dt>chrGFP_WTC.chrGFP_rs3</dt><dd>5</dd><dt>chrGFP_rs1.chrGFP_rs3</dt><dd>22</dd><dt>chrGFP_rs2.chrGFP_rs3</dt><dd>20</dd><dt>chrGFP_rs3.chrGFP_rs3</dt><dd>836</dd><dt>chrGFP_R882H1.chrGFP_rs3</dt><dd>5</dd><dt>chrGFP_R882H3.chrGFP_rs3</dt><dd>1</dd><dt>chrGFP_rs_R882H1.chrGFP_rs3</dt><dd>20</dd><dt>chrGFP_rs_R882H2.chrGFP_rs3</dt><dd>2</dd><dt>chrGFP_rs_R882H3.chrGFP_rs3</dt><dd>5</dd><dt>Genotype missing.chrGFP_rs3</dt><dd>6203</dd><dt>chrGFP_rs3.chrGFP_R882H1</dt><dd>7</dd><dt>chrGFP_R882H1.chrGFP_R882H1</dt><dd>32</dd><dt>chrGFP_R882H3.chrGFP_R882H1</dt><dd>1</dd><dt>chrGFP_rs_R882H3.chrGFP_R882H1</dt><dd>2</dd><dt>Genotype missing.chrGFP_R882H1</dt><dd>675</dd><dt>chrGFP_R882H2.chrGFP_R882H2</dt><dd>2</dd><dt>Genotype missing.chrGFP_R882H2</dt><dd>66</dd><dt>chrGFP_rs2.chrGFP_R882H3</dt><dd>1</dd><dt>chrGFP_rs3.chrGFP_R882H3</dt><dd>5</dd><dt>chrGFP_R882H1.chrGFP_R882H3</dt><dd>1</dd><dt>chrGFP_R882H3.chrGFP_R882H3</dt><dd>71</dd><dt>chrGFP_rs_R882H1.chrGFP_R882H3</dt><dd>2</dd><dt>Genotype missing.chrGFP_R882H3</dt><dd>1930</dd><dt>chrGFP_WTA.chrGFP_rs_R882H1</dt><dd>1</dd><dt>chrGFP_rs2.chrGFP_rs_R882H1</dt><dd>1</dd><dt>chrGFP_rs3.chrGFP_rs_R882H1</dt><dd>12</dd><dt>chrGFP_rs_R882H1.chrGFP_rs_R882H1</dt><dd>78</dd><dt>Genotype missing.chrGFP_rs_R882H1</dt><dd>847</dd><dt>chrGFP_WTA.chrGFP_rs_R882H2</dt><dd>1</dd><dt>chrGFP_rs3.chrGFP_rs_R882H2</dt><dd>1</dd><dt>chrGFP_R882H1.chrGFP_rs_R882H2</dt><dd>1</dd><dt>chrGFP_rs_R882H2.chrGFP_rs_R882H2</dt><dd>28</dd><dt>Genotype missing.chrGFP_rs_R882H2</dt><dd>348</dd><dt>chrGFP_rs2.chrGFP_rs_R882H3</dt><dd>1</dd><dt>chrGFP_rs3.chrGFP_rs_R882H3</dt><dd>3</dd><dt>chrGFP_rs_R882H2.chrGFP_rs_R882H3</dt><dd>1</dd><dt>chrGFP_rs_R882H3.chrGFP_rs_R882H3</dt><dd>29</dd><dt>Genotype missing.chrGFP_rs_R882H3</dt><dd>411</dd><dt>chrGFP_WTA.Doublet</dt><dd>4</dd><dt>chrGFP_WTB.Doublet</dt><dd>12</dd><dt>chrGFP_WTC.Doublet</dt><dd>14</dd><dt>chrGFP_rs1.Doublet</dt><dd>42</dd><dt>chrGFP_rs2.Doublet</dt><dd>45</dd><dt>chrGFP_rs3.Doublet</dt><dd>187</dd><dt>chrGFP_R882H1.Doublet</dt><dd>54</dd><dt>chrGFP_R882H2.Doublet</dt><dd>7</dd><dt>chrGFP_R882H3.Doublet</dt><dd>33</dd><dt>chrGFP_rs_R882H1.Doublet</dt><dd>89</dd><dt>chrGFP_rs_R882H2.Doublet</dt><dd>41</dd><dt>chrGFP_rs_R882H3.Doublet</dt><dd>37</dd><dt>Genotype missing.Doublet</dt><dd>14332</dd><dt>chrGFP_WTA.Negative</dt><dd>4</dd><dt>chrGFP_WTB.Negative</dt><dd>1</dd><dt>chrGFP_WTC.Negative</dt><dd>8</dd><dt>chrGFP_rs1.Negative</dt><dd>26</dd><dt>chrGFP_rs2.Negative</dt><dd>37</dd><dt>chrGFP_rs3.Negative</dt><dd>506</dd><dt>chrGFP_R882H1.Negative</dt><dd>12</dd><dt>chrGFP_R882H3.Negative</dt><dd>3</dd><dt>chrGFP_rs_R882H1.Negative</dt><dd>45</dd><dt>chrGFP_rs_R882H2.Negative</dt><dd>7</dd><dt>chrGFP_rs_R882H3.Negative</dt><dd>7</dd><dt>Genotype missing.Negative</dt><dd>8531</dd></dl>\n"
      ],
      "text/latex": [
       "\\begin{description*}\n",
       "\\item[chrGFP\\textbackslash{}\\_WTA.chrGFP\\textbackslash{}\\_WTA] 4\n",
       "\\item[chrGFP\\textbackslash{}\\_rs3.chrGFP\\textbackslash{}\\_WTA] 3\n",
       "\\item[Genotype missing.chrGFP\\textbackslash{}\\_WTA] 78\n",
       "\\item[chrGFP\\textbackslash{}\\_WTB.chrGFP\\textbackslash{}\\_WTB] 6\n",
       "\\item[chrGFP\\textbackslash{}\\_rs1.chrGFP\\textbackslash{}\\_WTB] 1\n",
       "\\item[chrGFP\\textbackslash{}\\_rs3.chrGFP\\textbackslash{}\\_WTB] 3\n",
       "\\item[chrGFP\\textbackslash{}\\_rs\\textbackslash{}\\_R882H1.chrGFP\\textbackslash{}\\_WTB] 1\n",
       "\\item[Genotype missing.chrGFP\\textbackslash{}\\_WTB] 133\n",
       "\\item[chrGFP\\textbackslash{}\\_WTC.chrGFP\\textbackslash{}\\_WTC] 9\n",
       "\\item[chrGFP\\textbackslash{}\\_rs3.chrGFP\\textbackslash{}\\_WTC] 8\n",
       "\\item[Genotype missing.chrGFP\\textbackslash{}\\_WTC] 206\n",
       "\\item[chrGFP\\textbackslash{}\\_rs1.chrGFP\\textbackslash{}\\_rs1] 26\n",
       "\\item[chrGFP\\textbackslash{}\\_rs2.chrGFP\\textbackslash{}\\_rs1] 1\n",
       "\\item[chrGFP\\textbackslash{}\\_rs3.chrGFP\\textbackslash{}\\_rs1] 36\n",
       "\\item[chrGFP\\textbackslash{}\\_rs\\textbackslash{}\\_R882H1.chrGFP\\textbackslash{}\\_rs1] 1\n",
       "\\item[Genotype missing.chrGFP\\textbackslash{}\\_rs1] 628\n",
       "\\item[chrGFP\\textbackslash{}\\_rs1.chrGFP\\textbackslash{}\\_rs2] 1\n",
       "\\item[chrGFP\\textbackslash{}\\_rs2.chrGFP\\textbackslash{}\\_rs2] 28\n",
       "\\item[chrGFP\\textbackslash{}\\_rs3.chrGFP\\textbackslash{}\\_rs2] 22\n",
       "\\item[Genotype missing.chrGFP\\textbackslash{}\\_rs2] 547\n",
       "\\item[chrGFP\\textbackslash{}\\_WTB.chrGFP\\textbackslash{}\\_rs3] 1\n",
       "\\item[chrGFP\\textbackslash{}\\_WTC.chrGFP\\textbackslash{}\\_rs3] 5\n",
       "\\item[chrGFP\\textbackslash{}\\_rs1.chrGFP\\textbackslash{}\\_rs3] 22\n",
       "\\item[chrGFP\\textbackslash{}\\_rs2.chrGFP\\textbackslash{}\\_rs3] 20\n",
       "\\item[chrGFP\\textbackslash{}\\_rs3.chrGFP\\textbackslash{}\\_rs3] 836\n",
       "\\item[chrGFP\\textbackslash{}\\_R882H1.chrGFP\\textbackslash{}\\_rs3] 5\n",
       "\\item[chrGFP\\textbackslash{}\\_R882H3.chrGFP\\textbackslash{}\\_rs3] 1\n",
       "\\item[chrGFP\\textbackslash{}\\_rs\\textbackslash{}\\_R882H1.chrGFP\\textbackslash{}\\_rs3] 20\n",
       "\\item[chrGFP\\textbackslash{}\\_rs\\textbackslash{}\\_R882H2.chrGFP\\textbackslash{}\\_rs3] 2\n",
       "\\item[chrGFP\\textbackslash{}\\_rs\\textbackslash{}\\_R882H3.chrGFP\\textbackslash{}\\_rs3] 5\n",
       "\\item[Genotype missing.chrGFP\\textbackslash{}\\_rs3] 6203\n",
       "\\item[chrGFP\\textbackslash{}\\_rs3.chrGFP\\textbackslash{}\\_R882H1] 7\n",
       "\\item[chrGFP\\textbackslash{}\\_R882H1.chrGFP\\textbackslash{}\\_R882H1] 32\n",
       "\\item[chrGFP\\textbackslash{}\\_R882H3.chrGFP\\textbackslash{}\\_R882H1] 1\n",
       "\\item[chrGFP\\textbackslash{}\\_rs\\textbackslash{}\\_R882H3.chrGFP\\textbackslash{}\\_R882H1] 2\n",
       "\\item[Genotype missing.chrGFP\\textbackslash{}\\_R882H1] 675\n",
       "\\item[chrGFP\\textbackslash{}\\_R882H2.chrGFP\\textbackslash{}\\_R882H2] 2\n",
       "\\item[Genotype missing.chrGFP\\textbackslash{}\\_R882H2] 66\n",
       "\\item[chrGFP\\textbackslash{}\\_rs2.chrGFP\\textbackslash{}\\_R882H3] 1\n",
       "\\item[chrGFP\\textbackslash{}\\_rs3.chrGFP\\textbackslash{}\\_R882H3] 5\n",
       "\\item[chrGFP\\textbackslash{}\\_R882H1.chrGFP\\textbackslash{}\\_R882H3] 1\n",
       "\\item[chrGFP\\textbackslash{}\\_R882H3.chrGFP\\textbackslash{}\\_R882H3] 71\n",
       "\\item[chrGFP\\textbackslash{}\\_rs\\textbackslash{}\\_R882H1.chrGFP\\textbackslash{}\\_R882H3] 2\n",
       "\\item[Genotype missing.chrGFP\\textbackslash{}\\_R882H3] 1930\n",
       "\\item[chrGFP\\textbackslash{}\\_WTA.chrGFP\\textbackslash{}\\_rs\\textbackslash{}\\_R882H1] 1\n",
       "\\item[chrGFP\\textbackslash{}\\_rs2.chrGFP\\textbackslash{}\\_rs\\textbackslash{}\\_R882H1] 1\n",
       "\\item[chrGFP\\textbackslash{}\\_rs3.chrGFP\\textbackslash{}\\_rs\\textbackslash{}\\_R882H1] 12\n",
       "\\item[chrGFP\\textbackslash{}\\_rs\\textbackslash{}\\_R882H1.chrGFP\\textbackslash{}\\_rs\\textbackslash{}\\_R882H1] 78\n",
       "\\item[Genotype missing.chrGFP\\textbackslash{}\\_rs\\textbackslash{}\\_R882H1] 847\n",
       "\\item[chrGFP\\textbackslash{}\\_WTA.chrGFP\\textbackslash{}\\_rs\\textbackslash{}\\_R882H2] 1\n",
       "\\item[chrGFP\\textbackslash{}\\_rs3.chrGFP\\textbackslash{}\\_rs\\textbackslash{}\\_R882H2] 1\n",
       "\\item[chrGFP\\textbackslash{}\\_R882H1.chrGFP\\textbackslash{}\\_rs\\textbackslash{}\\_R882H2] 1\n",
       "\\item[chrGFP\\textbackslash{}\\_rs\\textbackslash{}\\_R882H2.chrGFP\\textbackslash{}\\_rs\\textbackslash{}\\_R882H2] 28\n",
       "\\item[Genotype missing.chrGFP\\textbackslash{}\\_rs\\textbackslash{}\\_R882H2] 348\n",
       "\\item[chrGFP\\textbackslash{}\\_rs2.chrGFP\\textbackslash{}\\_rs\\textbackslash{}\\_R882H3] 1\n",
       "\\item[chrGFP\\textbackslash{}\\_rs3.chrGFP\\textbackslash{}\\_rs\\textbackslash{}\\_R882H3] 3\n",
       "\\item[chrGFP\\textbackslash{}\\_rs\\textbackslash{}\\_R882H2.chrGFP\\textbackslash{}\\_rs\\textbackslash{}\\_R882H3] 1\n",
       "\\item[chrGFP\\textbackslash{}\\_rs\\textbackslash{}\\_R882H3.chrGFP\\textbackslash{}\\_rs\\textbackslash{}\\_R882H3] 29\n",
       "\\item[Genotype missing.chrGFP\\textbackslash{}\\_rs\\textbackslash{}\\_R882H3] 411\n",
       "\\item[chrGFP\\textbackslash{}\\_WTA.Doublet] 4\n",
       "\\item[chrGFP\\textbackslash{}\\_WTB.Doublet] 12\n",
       "\\item[chrGFP\\textbackslash{}\\_WTC.Doublet] 14\n",
       "\\item[chrGFP\\textbackslash{}\\_rs1.Doublet] 42\n",
       "\\item[chrGFP\\textbackslash{}\\_rs2.Doublet] 45\n",
       "\\item[chrGFP\\textbackslash{}\\_rs3.Doublet] 187\n",
       "\\item[chrGFP\\textbackslash{}\\_R882H1.Doublet] 54\n",
       "\\item[chrGFP\\textbackslash{}\\_R882H2.Doublet] 7\n",
       "\\item[chrGFP\\textbackslash{}\\_R882H3.Doublet] 33\n",
       "\\item[chrGFP\\textbackslash{}\\_rs\\textbackslash{}\\_R882H1.Doublet] 89\n",
       "\\item[chrGFP\\textbackslash{}\\_rs\\textbackslash{}\\_R882H2.Doublet] 41\n",
       "\\item[chrGFP\\textbackslash{}\\_rs\\textbackslash{}\\_R882H3.Doublet] 37\n",
       "\\item[Genotype missing.Doublet] 14332\n",
       "\\item[chrGFP\\textbackslash{}\\_WTA.Negative] 4\n",
       "\\item[chrGFP\\textbackslash{}\\_WTB.Negative] 1\n",
       "\\item[chrGFP\\textbackslash{}\\_WTC.Negative] 8\n",
       "\\item[chrGFP\\textbackslash{}\\_rs1.Negative] 26\n",
       "\\item[chrGFP\\textbackslash{}\\_rs2.Negative] 37\n",
       "\\item[chrGFP\\textbackslash{}\\_rs3.Negative] 506\n",
       "\\item[chrGFP\\textbackslash{}\\_R882H1.Negative] 12\n",
       "\\item[chrGFP\\textbackslash{}\\_R882H3.Negative] 3\n",
       "\\item[chrGFP\\textbackslash{}\\_rs\\textbackslash{}\\_R882H1.Negative] 45\n",
       "\\item[chrGFP\\textbackslash{}\\_rs\\textbackslash{}\\_R882H2.Negative] 7\n",
       "\\item[chrGFP\\textbackslash{}\\_rs\\textbackslash{}\\_R882H3.Negative] 7\n",
       "\\item[Genotype missing.Negative] 8531\n",
       "\\end{description*}\n"
      ],
      "text/markdown": [
       "chrGFP_WTA.chrGFP_WTA\n",
       ":   4chrGFP_rs3.chrGFP_WTA\n",
       ":   3Genotype missing.chrGFP_WTA\n",
       ":   78chrGFP_WTB.chrGFP_WTB\n",
       ":   6chrGFP_rs1.chrGFP_WTB\n",
       ":   1chrGFP_rs3.chrGFP_WTB\n",
       ":   3chrGFP_rs_R882H1.chrGFP_WTB\n",
       ":   1Genotype missing.chrGFP_WTB\n",
       ":   133chrGFP_WTC.chrGFP_WTC\n",
       ":   9chrGFP_rs3.chrGFP_WTC\n",
       ":   8Genotype missing.chrGFP_WTC\n",
       ":   206chrGFP_rs1.chrGFP_rs1\n",
       ":   26chrGFP_rs2.chrGFP_rs1\n",
       ":   1chrGFP_rs3.chrGFP_rs1\n",
       ":   36chrGFP_rs_R882H1.chrGFP_rs1\n",
       ":   1Genotype missing.chrGFP_rs1\n",
       ":   628chrGFP_rs1.chrGFP_rs2\n",
       ":   1chrGFP_rs2.chrGFP_rs2\n",
       ":   28chrGFP_rs3.chrGFP_rs2\n",
       ":   22Genotype missing.chrGFP_rs2\n",
       ":   547chrGFP_WTB.chrGFP_rs3\n",
       ":   1chrGFP_WTC.chrGFP_rs3\n",
       ":   5chrGFP_rs1.chrGFP_rs3\n",
       ":   22chrGFP_rs2.chrGFP_rs3\n",
       ":   20chrGFP_rs3.chrGFP_rs3\n",
       ":   836chrGFP_R882H1.chrGFP_rs3\n",
       ":   5chrGFP_R882H3.chrGFP_rs3\n",
       ":   1chrGFP_rs_R882H1.chrGFP_rs3\n",
       ":   20chrGFP_rs_R882H2.chrGFP_rs3\n",
       ":   2chrGFP_rs_R882H3.chrGFP_rs3\n",
       ":   5Genotype missing.chrGFP_rs3\n",
       ":   6203chrGFP_rs3.chrGFP_R882H1\n",
       ":   7chrGFP_R882H1.chrGFP_R882H1\n",
       ":   32chrGFP_R882H3.chrGFP_R882H1\n",
       ":   1chrGFP_rs_R882H3.chrGFP_R882H1\n",
       ":   2Genotype missing.chrGFP_R882H1\n",
       ":   675chrGFP_R882H2.chrGFP_R882H2\n",
       ":   2Genotype missing.chrGFP_R882H2\n",
       ":   66chrGFP_rs2.chrGFP_R882H3\n",
       ":   1chrGFP_rs3.chrGFP_R882H3\n",
       ":   5chrGFP_R882H1.chrGFP_R882H3\n",
       ":   1chrGFP_R882H3.chrGFP_R882H3\n",
       ":   71chrGFP_rs_R882H1.chrGFP_R882H3\n",
       ":   2Genotype missing.chrGFP_R882H3\n",
       ":   1930chrGFP_WTA.chrGFP_rs_R882H1\n",
       ":   1chrGFP_rs2.chrGFP_rs_R882H1\n",
       ":   1chrGFP_rs3.chrGFP_rs_R882H1\n",
       ":   12chrGFP_rs_R882H1.chrGFP_rs_R882H1\n",
       ":   78Genotype missing.chrGFP_rs_R882H1\n",
       ":   847chrGFP_WTA.chrGFP_rs_R882H2\n",
       ":   1chrGFP_rs3.chrGFP_rs_R882H2\n",
       ":   1chrGFP_R882H1.chrGFP_rs_R882H2\n",
       ":   1chrGFP_rs_R882H2.chrGFP_rs_R882H2\n",
       ":   28Genotype missing.chrGFP_rs_R882H2\n",
       ":   348chrGFP_rs2.chrGFP_rs_R882H3\n",
       ":   1chrGFP_rs3.chrGFP_rs_R882H3\n",
       ":   3chrGFP_rs_R882H2.chrGFP_rs_R882H3\n",
       ":   1chrGFP_rs_R882H3.chrGFP_rs_R882H3\n",
       ":   29Genotype missing.chrGFP_rs_R882H3\n",
       ":   411chrGFP_WTA.Doublet\n",
       ":   4chrGFP_WTB.Doublet\n",
       ":   12chrGFP_WTC.Doublet\n",
       ":   14chrGFP_rs1.Doublet\n",
       ":   42chrGFP_rs2.Doublet\n",
       ":   45chrGFP_rs3.Doublet\n",
       ":   187chrGFP_R882H1.Doublet\n",
       ":   54chrGFP_R882H2.Doublet\n",
       ":   7chrGFP_R882H3.Doublet\n",
       ":   33chrGFP_rs_R882H1.Doublet\n",
       ":   89chrGFP_rs_R882H2.Doublet\n",
       ":   41chrGFP_rs_R882H3.Doublet\n",
       ":   37Genotype missing.Doublet\n",
       ":   14332chrGFP_WTA.Negative\n",
       ":   4chrGFP_WTB.Negative\n",
       ":   1chrGFP_WTC.Negative\n",
       ":   8chrGFP_rs1.Negative\n",
       ":   26chrGFP_rs2.Negative\n",
       ":   37chrGFP_rs3.Negative\n",
       ":   506chrGFP_R882H1.Negative\n",
       ":   12chrGFP_R882H3.Negative\n",
       ":   3chrGFP_rs_R882H1.Negative\n",
       ":   45chrGFP_rs_R882H2.Negative\n",
       ":   7chrGFP_rs_R882H3.Negative\n",
       ":   7Genotype missing.Negative\n",
       ":   8531\n",
       "\n"
      ],
      "text/plain": [
       "            chrGFP_WTA.chrGFP_WTA             chrGFP_rs3.chrGFP_WTA \n",
       "                                4                                 3 \n",
       "      Genotype missing.chrGFP_WTA             chrGFP_WTB.chrGFP_WTB \n",
       "                               78                                 6 \n",
       "            chrGFP_rs1.chrGFP_WTB             chrGFP_rs3.chrGFP_WTB \n",
       "                                1                                 3 \n",
       "      chrGFP_rs_R882H1.chrGFP_WTB       Genotype missing.chrGFP_WTB \n",
       "                                1                               133 \n",
       "            chrGFP_WTC.chrGFP_WTC             chrGFP_rs3.chrGFP_WTC \n",
       "                                9                                 8 \n",
       "      Genotype missing.chrGFP_WTC             chrGFP_rs1.chrGFP_rs1 \n",
       "                              206                                26 \n",
       "            chrGFP_rs2.chrGFP_rs1             chrGFP_rs3.chrGFP_rs1 \n",
       "                                1                                36 \n",
       "      chrGFP_rs_R882H1.chrGFP_rs1       Genotype missing.chrGFP_rs1 \n",
       "                                1                               628 \n",
       "            chrGFP_rs1.chrGFP_rs2             chrGFP_rs2.chrGFP_rs2 \n",
       "                                1                                28 \n",
       "            chrGFP_rs3.chrGFP_rs2       Genotype missing.chrGFP_rs2 \n",
       "                               22                               547 \n",
       "            chrGFP_WTB.chrGFP_rs3             chrGFP_WTC.chrGFP_rs3 \n",
       "                                1                                 5 \n",
       "            chrGFP_rs1.chrGFP_rs3             chrGFP_rs2.chrGFP_rs3 \n",
       "                               22                                20 \n",
       "            chrGFP_rs3.chrGFP_rs3          chrGFP_R882H1.chrGFP_rs3 \n",
       "                              836                                 5 \n",
       "         chrGFP_R882H3.chrGFP_rs3       chrGFP_rs_R882H1.chrGFP_rs3 \n",
       "                                1                                20 \n",
       "      chrGFP_rs_R882H2.chrGFP_rs3       chrGFP_rs_R882H3.chrGFP_rs3 \n",
       "                                2                                 5 \n",
       "      Genotype missing.chrGFP_rs3          chrGFP_rs3.chrGFP_R882H1 \n",
       "                             6203                                 7 \n",
       "      chrGFP_R882H1.chrGFP_R882H1       chrGFP_R882H3.chrGFP_R882H1 \n",
       "                               32                                 1 \n",
       "   chrGFP_rs_R882H3.chrGFP_R882H1    Genotype missing.chrGFP_R882H1 \n",
       "                                2                               675 \n",
       "      chrGFP_R882H2.chrGFP_R882H2    Genotype missing.chrGFP_R882H2 \n",
       "                                2                                66 \n",
       "         chrGFP_rs2.chrGFP_R882H3          chrGFP_rs3.chrGFP_R882H3 \n",
       "                                1                                 5 \n",
       "      chrGFP_R882H1.chrGFP_R882H3       chrGFP_R882H3.chrGFP_R882H3 \n",
       "                                1                                71 \n",
       "   chrGFP_rs_R882H1.chrGFP_R882H3    Genotype missing.chrGFP_R882H3 \n",
       "                                2                              1930 \n",
       "      chrGFP_WTA.chrGFP_rs_R882H1       chrGFP_rs2.chrGFP_rs_R882H1 \n",
       "                                1                                 1 \n",
       "      chrGFP_rs3.chrGFP_rs_R882H1 chrGFP_rs_R882H1.chrGFP_rs_R882H1 \n",
       "                               12                                78 \n",
       "Genotype missing.chrGFP_rs_R882H1       chrGFP_WTA.chrGFP_rs_R882H2 \n",
       "                              847                                 1 \n",
       "      chrGFP_rs3.chrGFP_rs_R882H2    chrGFP_R882H1.chrGFP_rs_R882H2 \n",
       "                                1                                 1 \n",
       "chrGFP_rs_R882H2.chrGFP_rs_R882H2 Genotype missing.chrGFP_rs_R882H2 \n",
       "                               28                               348 \n",
       "      chrGFP_rs2.chrGFP_rs_R882H3       chrGFP_rs3.chrGFP_rs_R882H3 \n",
       "                                1                                 3 \n",
       "chrGFP_rs_R882H2.chrGFP_rs_R882H3 chrGFP_rs_R882H3.chrGFP_rs_R882H3 \n",
       "                                1                                29 \n",
       "Genotype missing.chrGFP_rs_R882H3                chrGFP_WTA.Doublet \n",
       "                              411                                 4 \n",
       "               chrGFP_WTB.Doublet                chrGFP_WTC.Doublet \n",
       "                               12                                14 \n",
       "               chrGFP_rs1.Doublet                chrGFP_rs2.Doublet \n",
       "                               42                                45 \n",
       "               chrGFP_rs3.Doublet             chrGFP_R882H1.Doublet \n",
       "                              187                                54 \n",
       "            chrGFP_R882H2.Doublet             chrGFP_R882H3.Doublet \n",
       "                                7                                33 \n",
       "         chrGFP_rs_R882H1.Doublet          chrGFP_rs_R882H2.Doublet \n",
       "                               89                                41 \n",
       "         chrGFP_rs_R882H3.Doublet          Genotype missing.Doublet \n",
       "                               37                             14332 \n",
       "              chrGFP_WTA.Negative               chrGFP_WTB.Negative \n",
       "                                4                                 1 \n",
       "              chrGFP_WTC.Negative               chrGFP_rs1.Negative \n",
       "                                8                                26 \n",
       "              chrGFP_rs2.Negative               chrGFP_rs3.Negative \n",
       "                               37                               506 \n",
       "           chrGFP_R882H1.Negative            chrGFP_R882H3.Negative \n",
       "                               12                                 3 \n",
       "        chrGFP_rs_R882H1.Negative         chrGFP_rs_R882H2.Negative \n",
       "                               45                                 7 \n",
       "        chrGFP_rs_R882H3.Negative         Genotype missing.Negative \n",
       "                                7                              8531 "
      ]
     },
     "metadata": {},
     "output_type": "display_data"
    }
   ],
   "source": [
    "summary(droplevels(interaction(adata@meta.data$Assigned_GFPbc, adata@meta.data$Assigned_GFPbc_demux_NO_CB)))"
   ]
  },
  {
   "cell_type": "markdown",
   "id": "213db75f-2832-4eec-a58f-39c5c2fbb679",
   "metadata": {},
   "source": [
    "## Show the genotype breakdown new"
   ]
  },
  {
   "cell_type": "markdown",
   "id": "b11d1ab5-5c84-4d43-a345-03ea07d1430a",
   "metadata": {},
   "source": [
    "## Freq tables genotype factor vs time_point vs current_anot"
   ]
  },
  {
   "cell_type": "markdown",
   "id": "308b9500-a28e-492f-8a6b-619d23c42422",
   "metadata": {},
   "source": [
    "### genotype clone line vs my anot updated vs time_point"
   ]
  },
  {
   "cell_type": "code",
   "execution_count": 140,
   "id": "68529c37-7b6b-4ac8-8d42-4a3be9dd1168",
   "metadata": {
    "execution": {
     "iopub.execute_input": "2025-02-03T16:57:33.062095Z",
     "iopub.status.busy": "2025-02-03T16:57:33.061031Z",
     "iopub.status.idle": "2025-02-03T16:57:33.071538Z",
     "shell.execute_reply": "2025-02-03T16:57:33.070505Z"
    }
   },
   "outputs": [],
   "source": [
    "met<-adata[[]]"
   ]
  },
  {
   "cell_type": "code",
   "execution_count": 141,
   "id": "2b5b2ec0-9a58-44ef-a235-a311845b085b",
   "metadata": {
    "execution": {
     "iopub.execute_input": "2025-02-03T16:57:33.532545Z",
     "iopub.status.busy": "2025-02-03T16:57:33.531499Z",
     "iopub.status.idle": "2025-02-03T16:57:33.542659Z",
     "shell.execute_reply": "2025-02-03T16:57:33.541599Z"
    }
   },
   "outputs": [
    {
     "data": {
      "text/html": [
       "<style>\n",
       ".list-inline {list-style: none; margin:0; padding: 0}\n",
       ".list-inline>li {display: inline-block}\n",
       ".list-inline>li:not(:last-child)::after {content: \"\\00b7\"; padding: 0 .5ex}\n",
       "</style>\n",
       "<ol class=list-inline><li>'orig.ident'</li><li>'nCount_RNA'</li><li>'nFeature_RNA'</li><li>'percent.mt'</li><li>'nCount_RNA_raw'</li><li>'nFeature_RNA_raw'</li><li>'nCount_ATAC'</li><li>'nFeature_ATAC'</li><li>'gex_raw_reads'</li><li>'gex_mapped_reads'</li><li>'gex_conf_intergenic_reads'</li><li>'gex_conf_exonic_reads'</li><li>'gex_conf_intronic_reads'</li><li>'gex_conf_exonic_unique_reads'</li><li>'gex_conf_exonic_antisense_reads'</li><li>'gex_conf_exonic_dup_reads'</li><li>'gex_exonic_umis'</li><li>'gex_conf_intronic_unique_reads'</li><li>'gex_conf_intronic_antisense_reads'</li><li>'gex_conf_intronic_dup_reads'</li><li>'gex_intronic_umis'</li><li>'gex_conf_txomic_unique_reads'</li><li>'gex_umis_count'</li><li>'gex_genes_count'</li><li>'atac_raw_reads'</li><li>'atac_unmapped_reads'</li><li>'atac_lowmapq'</li><li>'atac_dup_reads'</li><li>'atac_chimeric_reads'</li><li>'atac_mitochondrial_reads'</li><li>'atac_fragments'</li><li>'atac_TSS_fragments'</li><li>'atac_peak_region_fragments'</li><li>'atac_peak_region_cutsites'</li><li>'TSS.enrichment'</li><li>'TSS.percentile'</li><li>'scDblFinder.class'</li><li>'scDblFinder.score'</li><li>'scDblFinder.weighted'</li><li>'scDblFinder.cxds_score'</li><li>'scDblFinder.class_atac'</li><li>'scDblFinder.score_atac'</li><li>'scDblFinder.weighted_atac'</li><li>'scDblFinder.cxds_score_atac'</li><li>'No_assigned_GFPbc'</li><li>'Assigned_GFPbc'</li><li>'Assigned_GFPgenotype'</li><li>'DBL_comb'</li><li>'amulet_nFrags'</li><li>'amulet_uniqFrags'</li><li>'amulet_nAbove2'</li><li>'amulet_total.nAbove2'</li><li>'amulet_p.value'</li><li>'amulet_q.value'</li><li>'doublet_amulet'</li><li>'nCount_SCT'</li><li>'nFeature_SCT'</li><li>'SCT.weight'</li><li>'ATAC.weight'</li><li>'wsnn_res.0.2'</li><li>'seurat_clusters'</li><li>'doublet'</li><li>'wsnn_res.2'</li><li>'wsnn_res.0.5'</li><li>'wsnn_res.0.25'</li><li>'CellTypist_BMA_label'</li><li>'CellTypist_BMA_conf_score'</li><li>'CellTypist_IPSCs_label'</li><li>'CellTypist_IPSCs_conf_score'</li><li>'CellTypist_BMA_label_filtered'</li><li>'CellTypist_IPSCs_label_filtered'</li><li>'time_point'</li><li>'time'</li><li>'nucleosome_signal'</li><li>'nucleosome_percentile'</li><li>'FRiP'</li><li>'atac_pct_reads_in_peaks'</li><li>'my_anot'</li><li>'FOI'</li><li>'my_anot_updated'</li><li>'majority_voting_BMA'</li><li>'majority_voting_iPSCs'</li><li>'current_anot'</li><li>'Assignation_demux_NO_CB'</li><li>'Assigned_GFPbc_demux_NO_CB'</li></ol>\n"
      ],
      "text/latex": [
       "\\begin{enumerate*}\n",
       "\\item 'orig.ident'\n",
       "\\item 'nCount\\_RNA'\n",
       "\\item 'nFeature\\_RNA'\n",
       "\\item 'percent.mt'\n",
       "\\item 'nCount\\_RNA\\_raw'\n",
       "\\item 'nFeature\\_RNA\\_raw'\n",
       "\\item 'nCount\\_ATAC'\n",
       "\\item 'nFeature\\_ATAC'\n",
       "\\item 'gex\\_raw\\_reads'\n",
       "\\item 'gex\\_mapped\\_reads'\n",
       "\\item 'gex\\_conf\\_intergenic\\_reads'\n",
       "\\item 'gex\\_conf\\_exonic\\_reads'\n",
       "\\item 'gex\\_conf\\_intronic\\_reads'\n",
       "\\item 'gex\\_conf\\_exonic\\_unique\\_reads'\n",
       "\\item 'gex\\_conf\\_exonic\\_antisense\\_reads'\n",
       "\\item 'gex\\_conf\\_exonic\\_dup\\_reads'\n",
       "\\item 'gex\\_exonic\\_umis'\n",
       "\\item 'gex\\_conf\\_intronic\\_unique\\_reads'\n",
       "\\item 'gex\\_conf\\_intronic\\_antisense\\_reads'\n",
       "\\item 'gex\\_conf\\_intronic\\_dup\\_reads'\n",
       "\\item 'gex\\_intronic\\_umis'\n",
       "\\item 'gex\\_conf\\_txomic\\_unique\\_reads'\n",
       "\\item 'gex\\_umis\\_count'\n",
       "\\item 'gex\\_genes\\_count'\n",
       "\\item 'atac\\_raw\\_reads'\n",
       "\\item 'atac\\_unmapped\\_reads'\n",
       "\\item 'atac\\_lowmapq'\n",
       "\\item 'atac\\_dup\\_reads'\n",
       "\\item 'atac\\_chimeric\\_reads'\n",
       "\\item 'atac\\_mitochondrial\\_reads'\n",
       "\\item 'atac\\_fragments'\n",
       "\\item 'atac\\_TSS\\_fragments'\n",
       "\\item 'atac\\_peak\\_region\\_fragments'\n",
       "\\item 'atac\\_peak\\_region\\_cutsites'\n",
       "\\item 'TSS.enrichment'\n",
       "\\item 'TSS.percentile'\n",
       "\\item 'scDblFinder.class'\n",
       "\\item 'scDblFinder.score'\n",
       "\\item 'scDblFinder.weighted'\n",
       "\\item 'scDblFinder.cxds\\_score'\n",
       "\\item 'scDblFinder.class\\_atac'\n",
       "\\item 'scDblFinder.score\\_atac'\n",
       "\\item 'scDblFinder.weighted\\_atac'\n",
       "\\item 'scDblFinder.cxds\\_score\\_atac'\n",
       "\\item 'No\\_assigned\\_GFPbc'\n",
       "\\item 'Assigned\\_GFPbc'\n",
       "\\item 'Assigned\\_GFPgenotype'\n",
       "\\item 'DBL\\_comb'\n",
       "\\item 'amulet\\_nFrags'\n",
       "\\item 'amulet\\_uniqFrags'\n",
       "\\item 'amulet\\_nAbove2'\n",
       "\\item 'amulet\\_total.nAbove2'\n",
       "\\item 'amulet\\_p.value'\n",
       "\\item 'amulet\\_q.value'\n",
       "\\item 'doublet\\_amulet'\n",
       "\\item 'nCount\\_SCT'\n",
       "\\item 'nFeature\\_SCT'\n",
       "\\item 'SCT.weight'\n",
       "\\item 'ATAC.weight'\n",
       "\\item 'wsnn\\_res.0.2'\n",
       "\\item 'seurat\\_clusters'\n",
       "\\item 'doublet'\n",
       "\\item 'wsnn\\_res.2'\n",
       "\\item 'wsnn\\_res.0.5'\n",
       "\\item 'wsnn\\_res.0.25'\n",
       "\\item 'CellTypist\\_BMA\\_label'\n",
       "\\item 'CellTypist\\_BMA\\_conf\\_score'\n",
       "\\item 'CellTypist\\_IPSCs\\_label'\n",
       "\\item 'CellTypist\\_IPSCs\\_conf\\_score'\n",
       "\\item 'CellTypist\\_BMA\\_label\\_filtered'\n",
       "\\item 'CellTypist\\_IPSCs\\_label\\_filtered'\n",
       "\\item 'time\\_point'\n",
       "\\item 'time'\n",
       "\\item 'nucleosome\\_signal'\n",
       "\\item 'nucleosome\\_percentile'\n",
       "\\item 'FRiP'\n",
       "\\item 'atac\\_pct\\_reads\\_in\\_peaks'\n",
       "\\item 'my\\_anot'\n",
       "\\item 'FOI'\n",
       "\\item 'my\\_anot\\_updated'\n",
       "\\item 'majority\\_voting\\_BMA'\n",
       "\\item 'majority\\_voting\\_iPSCs'\n",
       "\\item 'current\\_anot'\n",
       "\\item 'Assignation\\_demux\\_NO\\_CB'\n",
       "\\item 'Assigned\\_GFPbc\\_demux\\_NO\\_CB'\n",
       "\\end{enumerate*}\n"
      ],
      "text/markdown": [
       "1. 'orig.ident'\n",
       "2. 'nCount_RNA'\n",
       "3. 'nFeature_RNA'\n",
       "4. 'percent.mt'\n",
       "5. 'nCount_RNA_raw'\n",
       "6. 'nFeature_RNA_raw'\n",
       "7. 'nCount_ATAC'\n",
       "8. 'nFeature_ATAC'\n",
       "9. 'gex_raw_reads'\n",
       "10. 'gex_mapped_reads'\n",
       "11. 'gex_conf_intergenic_reads'\n",
       "12. 'gex_conf_exonic_reads'\n",
       "13. 'gex_conf_intronic_reads'\n",
       "14. 'gex_conf_exonic_unique_reads'\n",
       "15. 'gex_conf_exonic_antisense_reads'\n",
       "16. 'gex_conf_exonic_dup_reads'\n",
       "17. 'gex_exonic_umis'\n",
       "18. 'gex_conf_intronic_unique_reads'\n",
       "19. 'gex_conf_intronic_antisense_reads'\n",
       "20. 'gex_conf_intronic_dup_reads'\n",
       "21. 'gex_intronic_umis'\n",
       "22. 'gex_conf_txomic_unique_reads'\n",
       "23. 'gex_umis_count'\n",
       "24. 'gex_genes_count'\n",
       "25. 'atac_raw_reads'\n",
       "26. 'atac_unmapped_reads'\n",
       "27. 'atac_lowmapq'\n",
       "28. 'atac_dup_reads'\n",
       "29. 'atac_chimeric_reads'\n",
       "30. 'atac_mitochondrial_reads'\n",
       "31. 'atac_fragments'\n",
       "32. 'atac_TSS_fragments'\n",
       "33. 'atac_peak_region_fragments'\n",
       "34. 'atac_peak_region_cutsites'\n",
       "35. 'TSS.enrichment'\n",
       "36. 'TSS.percentile'\n",
       "37. 'scDblFinder.class'\n",
       "38. 'scDblFinder.score'\n",
       "39. 'scDblFinder.weighted'\n",
       "40. 'scDblFinder.cxds_score'\n",
       "41. 'scDblFinder.class_atac'\n",
       "42. 'scDblFinder.score_atac'\n",
       "43. 'scDblFinder.weighted_atac'\n",
       "44. 'scDblFinder.cxds_score_atac'\n",
       "45. 'No_assigned_GFPbc'\n",
       "46. 'Assigned_GFPbc'\n",
       "47. 'Assigned_GFPgenotype'\n",
       "48. 'DBL_comb'\n",
       "49. 'amulet_nFrags'\n",
       "50. 'amulet_uniqFrags'\n",
       "51. 'amulet_nAbove2'\n",
       "52. 'amulet_total.nAbove2'\n",
       "53. 'amulet_p.value'\n",
       "54. 'amulet_q.value'\n",
       "55. 'doublet_amulet'\n",
       "56. 'nCount_SCT'\n",
       "57. 'nFeature_SCT'\n",
       "58. 'SCT.weight'\n",
       "59. 'ATAC.weight'\n",
       "60. 'wsnn_res.0.2'\n",
       "61. 'seurat_clusters'\n",
       "62. 'doublet'\n",
       "63. 'wsnn_res.2'\n",
       "64. 'wsnn_res.0.5'\n",
       "65. 'wsnn_res.0.25'\n",
       "66. 'CellTypist_BMA_label'\n",
       "67. 'CellTypist_BMA_conf_score'\n",
       "68. 'CellTypist_IPSCs_label'\n",
       "69. 'CellTypist_IPSCs_conf_score'\n",
       "70. 'CellTypist_BMA_label_filtered'\n",
       "71. 'CellTypist_IPSCs_label_filtered'\n",
       "72. 'time_point'\n",
       "73. 'time'\n",
       "74. 'nucleosome_signal'\n",
       "75. 'nucleosome_percentile'\n",
       "76. 'FRiP'\n",
       "77. 'atac_pct_reads_in_peaks'\n",
       "78. 'my_anot'\n",
       "79. 'FOI'\n",
       "80. 'my_anot_updated'\n",
       "81. 'majority_voting_BMA'\n",
       "82. 'majority_voting_iPSCs'\n",
       "83. 'current_anot'\n",
       "84. 'Assignation_demux_NO_CB'\n",
       "85. 'Assigned_GFPbc_demux_NO_CB'\n",
       "\n",
       "\n"
      ],
      "text/plain": [
       " [1] \"orig.ident\"                        \"nCount_RNA\"                       \n",
       " [3] \"nFeature_RNA\"                      \"percent.mt\"                       \n",
       " [5] \"nCount_RNA_raw\"                    \"nFeature_RNA_raw\"                 \n",
       " [7] \"nCount_ATAC\"                       \"nFeature_ATAC\"                    \n",
       " [9] \"gex_raw_reads\"                     \"gex_mapped_reads\"                 \n",
       "[11] \"gex_conf_intergenic_reads\"         \"gex_conf_exonic_reads\"            \n",
       "[13] \"gex_conf_intronic_reads\"           \"gex_conf_exonic_unique_reads\"     \n",
       "[15] \"gex_conf_exonic_antisense_reads\"   \"gex_conf_exonic_dup_reads\"        \n",
       "[17] \"gex_exonic_umis\"                   \"gex_conf_intronic_unique_reads\"   \n",
       "[19] \"gex_conf_intronic_antisense_reads\" \"gex_conf_intronic_dup_reads\"      \n",
       "[21] \"gex_intronic_umis\"                 \"gex_conf_txomic_unique_reads\"     \n",
       "[23] \"gex_umis_count\"                    \"gex_genes_count\"                  \n",
       "[25] \"atac_raw_reads\"                    \"atac_unmapped_reads\"              \n",
       "[27] \"atac_lowmapq\"                      \"atac_dup_reads\"                   \n",
       "[29] \"atac_chimeric_reads\"               \"atac_mitochondrial_reads\"         \n",
       "[31] \"atac_fragments\"                    \"atac_TSS_fragments\"               \n",
       "[33] \"atac_peak_region_fragments\"        \"atac_peak_region_cutsites\"        \n",
       "[35] \"TSS.enrichment\"                    \"TSS.percentile\"                   \n",
       "[37] \"scDblFinder.class\"                 \"scDblFinder.score\"                \n",
       "[39] \"scDblFinder.weighted\"              \"scDblFinder.cxds_score\"           \n",
       "[41] \"scDblFinder.class_atac\"            \"scDblFinder.score_atac\"           \n",
       "[43] \"scDblFinder.weighted_atac\"         \"scDblFinder.cxds_score_atac\"      \n",
       "[45] \"No_assigned_GFPbc\"                 \"Assigned_GFPbc\"                   \n",
       "[47] \"Assigned_GFPgenotype\"              \"DBL_comb\"                         \n",
       "[49] \"amulet_nFrags\"                     \"amulet_uniqFrags\"                 \n",
       "[51] \"amulet_nAbove2\"                    \"amulet_total.nAbove2\"             \n",
       "[53] \"amulet_p.value\"                    \"amulet_q.value\"                   \n",
       "[55] \"doublet_amulet\"                    \"nCount_SCT\"                       \n",
       "[57] \"nFeature_SCT\"                      \"SCT.weight\"                       \n",
       "[59] \"ATAC.weight\"                       \"wsnn_res.0.2\"                     \n",
       "[61] \"seurat_clusters\"                   \"doublet\"                          \n",
       "[63] \"wsnn_res.2\"                        \"wsnn_res.0.5\"                     \n",
       "[65] \"wsnn_res.0.25\"                     \"CellTypist_BMA_label\"             \n",
       "[67] \"CellTypist_BMA_conf_score\"         \"CellTypist_IPSCs_label\"           \n",
       "[69] \"CellTypist_IPSCs_conf_score\"       \"CellTypist_BMA_label_filtered\"    \n",
       "[71] \"CellTypist_IPSCs_label_filtered\"   \"time_point\"                       \n",
       "[73] \"time\"                              \"nucleosome_signal\"                \n",
       "[75] \"nucleosome_percentile\"             \"FRiP\"                             \n",
       "[77] \"atac_pct_reads_in_peaks\"           \"my_anot\"                          \n",
       "[79] \"FOI\"                               \"my_anot_updated\"                  \n",
       "[81] \"majority_voting_BMA\"               \"majority_voting_iPSCs\"            \n",
       "[83] \"current_anot\"                      \"Assignation_demux_NO_CB\"          \n",
       "[85] \"Assigned_GFPbc_demux_NO_CB\"       "
      ]
     },
     "metadata": {},
     "output_type": "display_data"
    }
   ],
   "source": [
    "colnames(met)"
   ]
  },
  {
   "cell_type": "code",
   "execution_count": 142,
   "id": "28b2e661-cb04-4264-9b5f-dee45bc1f78e",
   "metadata": {
    "execution": {
     "iopub.execute_input": "2025-02-03T16:57:34.422288Z",
     "iopub.status.busy": "2025-02-03T16:57:34.421374Z",
     "iopub.status.idle": "2025-02-03T16:57:34.479282Z",
     "shell.execute_reply": "2025-02-03T16:57:34.478096Z"
    }
   },
   "outputs": [],
   "source": [
    "met.dt<-data.table(met,key=c(\"time_point\",\"current_anot\",\"Assigned_GFPbc_demux_NO_CB\"))"
   ]
  },
  {
   "cell_type": "code",
   "execution_count": 143,
   "id": "9d00f4d1-0138-4808-8cef-f27c500a698d",
   "metadata": {
    "execution": {
     "iopub.execute_input": "2025-02-03T16:57:37.291461Z",
     "iopub.status.busy": "2025-02-03T16:57:37.290489Z",
     "iopub.status.idle": "2025-02-03T16:57:37.297778Z",
     "shell.execute_reply": "2025-02-03T16:57:37.296785Z"
    }
   },
   "outputs": [],
   "source": [
    "#str(met.dt)"
   ]
  },
  {
   "cell_type": "code",
   "execution_count": 144,
   "id": "d551d332-3749-49ad-89c5-8ab70afd07ba",
   "metadata": {
    "execution": {
     "iopub.execute_input": "2025-02-03T16:57:37.300348Z",
     "iopub.status.busy": "2025-02-03T16:57:37.299437Z",
     "iopub.status.idle": "2025-02-03T16:57:37.314764Z",
     "shell.execute_reply": "2025-02-03T16:57:37.313711Z"
    }
   },
   "outputs": [],
   "source": [
    "Freq.table<-as.data.frame(met.dt[,.(Freq=.N),by=key(met.dt)], stringsAsFactors=F)\n",
    "#Freq.table"
   ]
  },
  {
   "cell_type": "code",
   "execution_count": 145,
   "id": "d3807ee8-9563-44e3-a1f6-f9738f173001",
   "metadata": {
    "execution": {
     "iopub.execute_input": "2025-02-03T16:57:37.390740Z",
     "iopub.status.busy": "2025-02-03T16:57:37.389829Z",
     "iopub.status.idle": "2025-02-03T16:57:37.412772Z",
     "shell.execute_reply": "2025-02-03T16:57:37.411692Z"
    }
   },
   "outputs": [],
   "source": [
    "met.dt<-data.table(met, key=c(\"time_point\",\"current_anot\"))\n",
    "Freq.TOTAL<-as.data.frame(met.dt[,.(TOTAL=.N),by=key(met.dt)], stringsAsFactors=F)\n",
    "#Freq.TOTAL"
   ]
  },
  {
   "cell_type": "code",
   "execution_count": 146,
   "id": "b351c42b-b666-4ca1-b693-e7b1acacab2d",
   "metadata": {
    "execution": {
     "iopub.execute_input": "2025-02-03T16:57:37.415326Z",
     "iopub.status.busy": "2025-02-03T16:57:37.414440Z",
     "iopub.status.idle": "2025-02-03T16:57:37.425952Z",
     "shell.execute_reply": "2025-02-03T16:57:37.424976Z"
    }
   },
   "outputs": [],
   "source": [
    "Freq.table<-merge(Freq.table,\n",
    "                  Freq.TOTAL,\n",
    "                  by=c(\"time_point\",\"current_anot\"))\n",
    "Freq.table$Perc<-round((100*(Freq.table$Freq/Freq.table$TOTAL)),2)\n",
    "\n",
    "#Freq.table"
   ]
  },
  {
   "cell_type": "code",
   "execution_count": 147,
   "id": "f0e09ae1-96e7-4665-8d92-350d6afd0d01",
   "metadata": {
    "execution": {
     "iopub.execute_input": "2025-02-03T16:57:37.778157Z",
     "iopub.status.busy": "2025-02-03T16:57:37.777220Z",
     "iopub.status.idle": "2025-02-03T16:57:37.788620Z",
     "shell.execute_reply": "2025-02-03T16:57:37.787612Z"
    }
   },
   "outputs": [
    {
     "name": "stdout",
     "output_type": "stream",
     "text": [
      "'data.frame':\t189 obs. of  6 variables:\n",
      " $ time_point                : Ord.factor w/ 4 levels \"Day_0\"<\"Day_8\"<..: 1 1 1 1 1 1 1 1 1 1 ...\n",
      " $ current_anot              : Ord.factor w/ 6 levels \"hESC\"<\"HemogenicEndothelium\"<..: 5 5 5 5 5 5 5 5 5 5 ...\n",
      " $ Assigned_GFPbc_demux_NO_CB: Ord.factor w/ 14 levels \"chrGFP_WTA\"<\"chrGFP_WTB\"<..: 2 3 4 5 6 7 8 9 10 11 ...\n",
      " $ Freq                      : int  1 2 1 2 2 17 3 70 6 4 ...\n",
      " $ TOTAL                     : int  380 380 380 380 380 380 380 380 380 380 ...\n",
      " $ Perc                      : num  0.26 0.53 0.26 0.53 0.53 ...\n"
     ]
    }
   ],
   "source": [
    "str(Freq.table)"
   ]
  },
  {
   "cell_type": "code",
   "execution_count": 148,
   "id": "d19bc71f-f56c-4d29-83e7-9363a54fb298",
   "metadata": {
    "execution": {
     "iopub.execute_input": "2025-02-03T16:57:39.293879Z",
     "iopub.status.busy": "2025-02-03T16:57:39.292976Z",
     "iopub.status.idle": "2025-02-03T16:57:39.314126Z",
     "shell.execute_reply": "2025-02-03T16:57:39.313070Z"
    }
   },
   "outputs": [],
   "source": [
    "met.dt<-data.table(met, key=c(\"time_point\"))\n",
    "Freq.time_point<-as.data.frame(met.dt[,.(ntime=.N),by=key(met.dt)], stringsAsFactors=F)\n",
    "\n",
    "Freq.table<-merge(Freq.table,\n",
    "                  Freq.time_point,\n",
    "                  by=\"time_point\")\n",
    "\n",
    "#Freq.table"
   ]
  },
  {
   "cell_type": "code",
   "execution_count": 149,
   "id": "8a05c372-c676-4a28-9f11-f1e200c450ca",
   "metadata": {
    "execution": {
     "iopub.execute_input": "2025-02-03T16:57:42.307572Z",
     "iopub.status.busy": "2025-02-03T16:57:42.306631Z",
     "iopub.status.idle": "2025-02-03T16:57:42.318425Z",
     "shell.execute_reply": "2025-02-03T16:57:42.317407Z"
    },
    "scrolled": true
   },
   "outputs": [
    {
     "name": "stdout",
     "output_type": "stream",
     "text": [
      "'data.frame':\t189 obs. of  7 variables:\n",
      " $ time_point                : Ord.factor w/ 4 levels \"Day_0\"<\"Day_8\"<..: 1 1 1 1 1 1 1 1 1 1 ...\n",
      " $ current_anot              : Ord.factor w/ 6 levels \"hESC\"<\"HemogenicEndothelium\"<..: 5 5 5 5 5 5 5 5 5 5 ...\n",
      " $ Assigned_GFPbc_demux_NO_CB: Ord.factor w/ 14 levels \"chrGFP_WTA\"<\"chrGFP_WTB\"<..: 2 3 4 5 6 7 8 9 10 11 ...\n",
      " $ Freq                      : int  1 2 1 2 2 17 3 70 6 4 ...\n",
      " $ TOTAL                     : int  380 380 380 380 380 380 380 380 380 380 ...\n",
      " $ Perc                      : num  0.26 0.53 0.26 0.53 0.53 ...\n",
      " $ ntime                     : int  13520 13520 13520 13520 13520 13520 13520 13520 13520 13520 ...\n"
     ]
    }
   ],
   "source": [
    "str(Freq.table)"
   ]
  },
  {
   "cell_type": "code",
   "execution_count": 150,
   "id": "180ac8f7-229a-453f-8b87-b8269c747779",
   "metadata": {
    "execution": {
     "iopub.execute_input": "2025-02-03T16:57:43.313701Z",
     "iopub.status.busy": "2025-02-03T16:57:43.312791Z",
     "iopub.status.idle": "2025-02-03T16:57:43.320700Z",
     "shell.execute_reply": "2025-02-03T16:57:43.319726Z"
    }
   },
   "outputs": [],
   "source": [
    "Freq.TOTAL<-merge(Freq.TOTAL,\n",
    "                  Freq.time_point,\n",
    "                  by=\"time_point\")"
   ]
  },
  {
   "cell_type": "code",
   "execution_count": 151,
   "id": "19a34b9e-2e39-4938-885c-b73334a46b7c",
   "metadata": {
    "execution": {
     "iopub.execute_input": "2025-02-03T16:57:44.316366Z",
     "iopub.status.busy": "2025-02-03T16:57:44.315376Z",
     "iopub.status.idle": "2025-02-03T16:57:44.329162Z",
     "shell.execute_reply": "2025-02-03T16:57:44.328109Z"
    }
   },
   "outputs": [
    {
     "name": "stdout",
     "output_type": "stream",
     "text": [
      "'data.frame':\t157 obs. of  7 variables:\n",
      " $ time_point                : Ord.factor w/ 4 levels \"Day_0\"<\"Day_8\"<..: 1 1 1 1 1 1 1 1 1 1 ...\n",
      " $ current_anot              : Ord.factor w/ 6 levels \"hESC\"<\"HemogenicEndothelium\"<..: 5 5 5 5 5 5 5 5 5 5 ...\n",
      " $ Assigned_GFPbc_demux_NO_CB: Ord.factor w/ 14 levels \"chrGFP_WTA\"<\"chrGFP_WTB\"<..: 2 3 4 5 6 7 8 9 10 11 ...\n",
      " $ Freq                      : int  1 2 1 2 2 17 3 70 6 4 ...\n",
      " $ TOTAL                     : int  380 380 380 380 380 380 380 380 380 380 ...\n",
      " $ Perc                      : num  0.26 0.53 0.26 0.53 0.53 ...\n",
      " $ ntime                     : int  13520 13520 13520 13520 13520 13520 13520 13520 13520 13520 ...\n"
     ]
    }
   ],
   "source": [
    "Freq.table_filtered<-Freq.table[which(Freq.table$TOTAL >= 100),]\n",
    "\n",
    "str(Freq.table_filtered)"
   ]
  },
  {
   "cell_type": "code",
   "execution_count": 152,
   "id": "849e99f5-faeb-43af-97d0-7c5b10129916",
   "metadata": {
    "execution": {
     "iopub.execute_input": "2025-02-03T16:57:45.674360Z",
     "iopub.status.busy": "2025-02-03T16:57:45.673433Z",
     "iopub.status.idle": "2025-02-03T16:57:45.722886Z",
     "shell.execute_reply": "2025-02-03T16:57:45.721908Z"
    }
   },
   "outputs": [],
   "source": [
    "fill_colours<-c(brewer.pal(9, \"Greens\")[c(5,6,7)],brewer.pal(9, \"Reds\")[c(5,6,7)],brewer.pal(9, \"Purples\")[c(5,6,7)],brewer.pal(9, \"PuRd\")[c(5,6,7)],'gray','black')"
   ]
  },
  {
   "cell_type": "code",
   "execution_count": 153,
   "id": "28d55c54-dacb-4ea6-838d-9d5eb3c7a4be",
   "metadata": {
    "execution": {
     "iopub.execute_input": "2025-02-03T16:57:46.997391Z",
     "iopub.status.busy": "2025-02-03T16:57:46.996497Z",
     "iopub.status.idle": "2025-02-03T16:57:47.249313Z",
     "shell.execute_reply": "2025-02-03T16:57:47.248234Z"
    }
   },
   "outputs": [
    {
     "name": "stderr",
     "output_type": "stream",
     "text": [
      "\n",
      "Attaching package: 'cowplot'\n",
      "\n",
      "\n",
      "The following object is masked from 'package:patchwork':\n",
      "\n",
      "    align_plots\n",
      "\n",
      "\n",
      "The following object is masked from 'package:ggpubr':\n",
      "\n",
      "    get_legend\n",
      "\n",
      "\n"
     ]
    }
   ],
   "source": [
    "library(forcats)\n",
    "library(cowplot)"
   ]
  },
  {
   "cell_type": "code",
   "execution_count": 154,
   "id": "bb1a60d3-9a4d-4a8f-a12c-0ea664dd02c7",
   "metadata": {
    "execution": {
     "iopub.execute_input": "2025-02-03T16:57:53.599812Z",
     "iopub.status.busy": "2025-02-03T16:57:53.598790Z",
     "iopub.status.idle": "2025-02-03T16:57:54.602793Z",
     "shell.execute_reply": "2025-02-03T16:57:54.601657Z"
    }
   },
   "outputs": [
    {
     "name": "stdout",
     "output_type": "stream",
     "text": [
      "-------------------------------------->\t0 25 50 75 100\n"
     ]
    },
    {
     "name": "stderr",
     "output_type": "stream",
     "text": [
      "Warning message:\n",
      "\"\u001b[1m\u001b[22mThe `size` argument of `element_rect()` is deprecated as of ggplot2 3.4.0.\n",
      "\u001b[36mℹ\u001b[39m Please use the `linewidth` argument instead.\"\n",
      "Warning message:\n",
      "\"\u001b[1m\u001b[22mThe `size` argument of `element_line()` is deprecated as of ggplot2 3.4.0.\n",
      "\u001b[36mℹ\u001b[39m Please use the `linewidth` argument instead.\"\n"
     ]
    },
    {
     "data": {
      "image/png": "[encoded data removed]",
      "text/plain": [
       "plot without title"
      ]
     },
     "metadata": {
      "image/png": {
       "height": 420,
       "width": 420
      }
     },
     "output_type": "display_data"
    }
   ],
   "source": [
    "#### Stacked Graph #2---------------\n",
    "  \n",
    "  breaks.Rank<-(seq(0,100,by=25))\n",
    "  labels.Rank<-as.character(breaks.Rank)\n",
    "  \n",
    "  cat(\"-------------------------------------->\\t\")\n",
    "  cat(sprintf(as.character(labels.Rank)))\n",
    "  cat(\"\\n\")\n",
    "  \n",
    "  \n",
    "  stacked_barplot<-Freq.table_filtered %>%\n",
    "    mutate(myaxis = paste0(current_anot, \"\\n\", \"n=\", TOTAL), drop=F) %>%\n",
    "    mutate(myaxis=fct_reorder(myaxis,as.numeric(current_anot)), drop=F) %>%\n",
    "    ggplot(aes(x=myaxis, y=Perc, fill=Assigned_GFPbc_demux_NO_CB)) +\n",
    "    geom_bar(stat=\"identity\",colour='white')+\n",
    "    scale_y_continuous(name=paste(\"Percentage of cells in each cell type\",sep=\" \"),breaks=breaks.Rank,labels=labels.Rank,\n",
    "                       limits=c(breaks.Rank[1],breaks.Rank[length(breaks.Rank)]+1))+\n",
    "    scale_fill_manual(values=fill_colours,\n",
    "                      drop=F,\n",
    "                      name=\"Genotype\")\n",
    "\n",
    " stacked_barplot<-stacked_barplot+\n",
    "    theme_cowplot(font_size = 2)+\n",
    "    facet_grid(. ~ time_point+ntime, scales='free_x', space='free_x', switch=\"y\", labeller=labeller(paste0(Freq.table_filtered$time_point, \"\\n\", \"n=\", Freq.table_filtered$ntime)))+   \n",
    "    scale_x_discrete(name=\"current_anot\", drop=T)+\n",
    "    theme( strip.background = element_blank(),\n",
    "           strip.placement = \"outside\",\n",
    "           strip.text = element_text(size=6),\n",
    "           panel.spacing = unit(0.2, \"lines\"),\n",
    "           panel.background=element_rect(fill=\"white\"),\n",
    "           panel.border=element_rect(colour=\"white\",size=0,5),\n",
    "           panel.grid.major = element_blank(),\n",
    "           panel.grid.minor = element_blank())+\n",
    "        theme_classic()+\n",
    "            theme(axis.title.y=element_text(size=12, color=\"black\", family=\"sans\"),\n",
    "                  axis.title.x=element_blank(),\n",
    "                  axis.text.y=element_text(angle=0,size=10, color=\"black\", family=\"sans\"),\n",
    "                  axis.text.x=element_text(angle=45,size=6,vjust=1,hjust=1,color=\"black\", family=\"sans\"),\n",
    "                  axis.line.x = element_line(size = 0.2),\n",
    "                  axis.ticks.x = element_line(size = 0.2),\n",
    "                  axis.ticks.y = element_line(size = 0.2),\n",
    "                  axis.line.y = element_line(size = 0.2))+\n",
    "            theme(legend.title = element_blank(),\n",
    "                  legend.text = element_text(size=8, color=\"black\", family=\"sans\"),\n",
    "                  legend.key.size = unit(0.25, 'cm'), #change legend key size\n",
    "                  legend.key.height = unit(0.25, 'cm'), #change legend key height\n",
    "                  legend.key.width = unit(0.25, 'cm'), #change legend key width\n",
    "                  legend.position=\"bottom\")\n",
    "\n",
    "\n",
    "\n",
    "stacked_barplot"
   ]
  },
  {
   "cell_type": "code",
   "execution_count": 155,
   "id": "4a5bf46d-cc31-4e14-8bae-246faf9c8d52",
   "metadata": {
    "execution": {
     "iopub.execute_input": "2025-02-03T17:01:02.983179Z",
     "iopub.status.busy": "2025-02-03T17:01:02.982169Z",
     "iopub.status.idle": "2025-02-03T17:01:06.498018Z",
     "shell.execute_reply": "2025-02-03T17:01:06.496768Z"
    }
   },
   "outputs": [],
   "source": [
    "setwd(path_graphs)\n",
    "\n",
    "svgname<-paste(\"stacked_barplot_time_point_current_anot_vs_Assigned_GFPbc_demux_NO_C\",\".png\",sep='')\n",
    "makesvg = TRUE\n",
    "\n",
    "if (makesvg == TRUE)\n",
    "{\n",
    "  ggsave(svgname, plot= stacked_barplot,\n",
    "         device=\"png\",\n",
    "        width=12, height=6)\n",
    "}"
   ]
  },
  {
   "cell_type": "markdown",
   "id": "7864cf0e-8047-498a-a3a9-c2c152bd8695",
   "metadata": {},
   "source": [
    "# Read each of the cellbender corrected files in Seurat"
   ]
  },
  {
   "cell_type": "code",
   "execution_count": 160,
   "id": "afb1e3e7-94b6-4525-807d-065a295a26e2",
   "metadata": {
    "execution": {
     "iopub.execute_input": "2025-02-03T17:07:59.740942Z",
     "iopub.status.busy": "2025-02-03T17:07:59.739930Z",
     "iopub.status.idle": "2025-02-03T17:08:02.961935Z",
     "shell.execute_reply": "2025-02-03T17:08:02.960700Z"
    }
   },
   "outputs": [
    {
     "name": "stdout",
     "output_type": "stream",
     "text": [
      "cb_counts_0\n",
      "Formal class 'dgCMatrix' [package \"Matrix\"] with 6 slots\n",
      "  ..@ i       : int [1:61611] 4 5 6 7 8 9 10 6 8 9 ...\n",
      "  ..@ p       : int [1:132581] 0 0 0 0 0 0 0 0 0 0 ...\n",
      "  ..@ Dim     : int [1:2] 12 132580\n",
      "  ..@ Dimnames:List of 2\n",
      "  .. ..$ : chr [1:12] \"GFP_chrGFP_WTA\" \"GFP_chrGFP_WTB\" \"GFP_chrGFP_WTC\" \"GFP_chrGFP_rs1\" ...\n",
      "  .. ..$ : chr [1:132580] \"AAACAGCCAAAGCCTC-1\" \"AAACAGCCAAAGGTAC-1\" \"AAACAGCCAAATACCT-1\" \"AAACAGCCAACACCTA-1\" ...\n",
      "  ..@ x       : num [1:61611] 1 1 1 1 17 1 1 1 26 2 ...\n",
      "  ..@ factors : list()\n",
      "\n"
     ]
    },
    {
     "name": "stderr",
     "output_type": "stream",
     "text": [
      "Warning message:\n",
      "\"Feature names cannot have underscores ('_'), replacing with dashes ('-')\"\n"
     ]
    }
   ],
   "source": [
    " \n",
    "\n",
    "  cb_counts = Read10X_h5(file.path(\"/group/soranzo/manuel.tardaguila/2025_hESC_MK_multiome/GEX_reseq/alignment/cellranger/processing_outputs/MCO_01326/\", 'cellbender_gex_seurat.h5'))\n",
    "\n",
    "  cat(\"cb_counts_0\\n\")\n",
    "  cat(str(cb_counts))\n",
    "  cat(\"\\n\")\n",
    "\n",
    "  adata_samp_1_CB = CreateSeuratObject(counts = cb_counts)\n",
    "\n",
    "adata_samp_1_CB$orig.ident<-'MCO_01326'\n"
   ]
  },
  {
   "cell_type": "code",
   "execution_count": 161,
   "id": "747d95a3-5fd2-4802-912a-5250e6f5eef9",
   "metadata": {
    "execution": {
     "iopub.execute_input": "2025-02-03T17:08:40.448295Z",
     "iopub.status.busy": "2025-02-03T17:08:40.447260Z",
     "iopub.status.idle": "2025-02-03T17:08:42.669817Z",
     "shell.execute_reply": "2025-02-03T17:08:42.668609Z"
    }
   },
   "outputs": [
    {
     "name": "stdout",
     "output_type": "stream",
     "text": [
      "cb_counts_0\n",
      "Formal class 'dgCMatrix' [package \"Matrix\"] with 6 slots\n",
      "  ..@ i       : int [1:2994] 0 1 2 3 4 5 6 7 8 9 ...\n",
      "  ..@ p       : int [1:77970] 0 0 0 0 0 0 0 0 0 0 ...\n",
      "  ..@ Dim     : int [1:2] 12 77969\n",
      "  ..@ Dimnames:List of 2\n",
      "  .. ..$ : chr [1:12] \"GFP_chrGFP_WTA\" \"GFP_chrGFP_WTB\" \"GFP_chrGFP_WTC\" \"GFP_chrGFP_rs1\" ...\n",
      "  .. ..$ : chr [1:77969] \"AAACAGCCAAACAACA-1\" \"AAACAGCCAAACCTTG-1\" \"AAACAGCCAAAGGTAC-1\" \"AAACAGCCAACACCTA-1\" ...\n",
      "  ..@ x       : num [1:2994] 1 2 15 4 7 11 6 5 37 3 ...\n",
      "  ..@ factors : list()\n",
      "\n"
     ]
    },
    {
     "name": "stderr",
     "output_type": "stream",
     "text": [
      "Warning message:\n",
      "\"Feature names cannot have underscores ('_'), replacing with dashes ('-')\"\n"
     ]
    }
   ],
   "source": [
    "cb_counts = Read10X_h5(file.path(\"/group/soranzo/manuel.tardaguila/2025_hESC_MK_multiome/GEX_reseq/alignment/cellranger/processing_outputs/MCO_01327/\", 'cellbender_gex_seurat.h5'))\n",
    "\n",
    "  cat(\"cb_counts_0\\n\")\n",
    "  cat(str(cb_counts))\n",
    "  cat(\"\\n\")\n",
    "\n",
    "  adata_samp_2_CB = CreateSeuratObject(counts = cb_counts)\n",
    "\n",
    "adata_samp_2_CB$orig.ident<-'MCO_01327'"
   ]
  },
  {
   "cell_type": "code",
   "execution_count": 162,
   "id": "b404eb14-a632-48fe-92d0-ef5c90c39dfd",
   "metadata": {
    "execution": {
     "iopub.execute_input": "2025-02-03T17:09:07.112838Z",
     "iopub.status.busy": "2025-02-03T17:09:07.111757Z",
     "iopub.status.idle": "2025-02-03T17:09:10.245059Z",
     "shell.execute_reply": "2025-02-03T17:09:10.243848Z"
    }
   },
   "outputs": [
    {
     "name": "stdout",
     "output_type": "stream",
     "text": [
      "cb_counts_0\n",
      "Formal class 'dgCMatrix' [package \"Matrix\"] with 6 slots\n",
      "  ..@ i       : int [1:63072] 3 4 5 9 3 5 9 11 2 3 ...\n",
      "  ..@ p       : int [1:128113] 0 0 0 0 0 0 0 0 0 0 ...\n",
      "  ..@ Dim     : int [1:2] 12 128112\n",
      "  ..@ Dimnames:List of 2\n",
      "  .. ..$ : chr [1:12] \"GFP_chrGFP_WTA\" \"GFP_chrGFP_WTB\" \"GFP_chrGFP_WTC\" \"GFP_chrGFP_rs1\" ...\n",
      "  .. ..$ : chr [1:128112] \"AAACAGCCAAACATAG-1\" \"AAACAGCCAAACTAAG-1\" \"AAACAGCCAAAGCGCA-1\" \"AAACAGCCAAAGCTAA-1\" ...\n",
      "  ..@ x       : num [1:63072] 1 3 8 21 3 7 2 2 2 1 ...\n",
      "  ..@ factors : list()\n",
      "\n"
     ]
    },
    {
     "name": "stderr",
     "output_type": "stream",
     "text": [
      "Warning message:\n",
      "\"Feature names cannot have underscores ('_'), replacing with dashes ('-')\"\n"
     ]
    }
   ],
   "source": [
    "cb_counts = Read10X_h5(file.path(\"/group/soranzo/manuel.tardaguila/2025_hESC_MK_multiome/GEX_reseq/alignment/cellranger/processing_outputs/MCO_01328/\", 'cellbender_gex_seurat.h5'))\n",
    "\n",
    "  cat(\"cb_counts_0\\n\")\n",
    "  cat(str(cb_counts))\n",
    "  cat(\"\\n\")\n",
    "\n",
    "  adata_samp_3_CB = CreateSeuratObject(counts = cb_counts)\n",
    "\n",
    "adata_samp_3_CB$orig.ident<-'MCO_01328'"
   ]
  },
  {
   "cell_type": "code",
   "execution_count": 163,
   "id": "ab49559d-77e5-48e9-94ca-4e2fc79b4136",
   "metadata": {
    "execution": {
     "iopub.execute_input": "2025-02-03T17:09:34.026560Z",
     "iopub.status.busy": "2025-02-03T17:09:34.025518Z",
     "iopub.status.idle": "2025-02-03T17:09:36.607655Z",
     "shell.execute_reply": "2025-02-03T17:09:36.606454Z"
    }
   },
   "outputs": [
    {
     "name": "stdout",
     "output_type": "stream",
     "text": [
      "cb_counts_0\n",
      "Formal class 'dgCMatrix' [package \"Matrix\"] with 6 slots\n",
      "  ..@ i       : int [1:21538] 3 9 4 5 2 4 5 9 10 11 ...\n",
      "  ..@ p       : int [1:95687] 0 0 0 0 0 0 0 0 0 0 ...\n",
      "  ..@ Dim     : int [1:2] 12 95686\n",
      "  ..@ Dimnames:List of 2\n",
      "  .. ..$ : chr [1:12] \"GFP_chrGFP_WTA\" \"GFP_chrGFP_WTB\" \"GFP_chrGFP_WTC\" \"GFP_chrGFP_rs1\" ...\n",
      "  .. ..$ : chr [1:95686] \"AAACAGCCAAACCTTG-1\" \"AAACAGCCAACAACAA-1\" \"AAACAGCCAACCTGGT-1\" \"AAACAGCCAACTAGAA-1\" ...\n",
      "  ..@ x       : num [1:21538] 5 2 2 3 1 56 23 4 2 1 ...\n",
      "  ..@ factors : list()\n",
      "\n"
     ]
    },
    {
     "name": "stderr",
     "output_type": "stream",
     "text": [
      "Warning message:\n",
      "\"Feature names cannot have underscores ('_'), replacing with dashes ('-')\"\n"
     ]
    }
   ],
   "source": [
    "cb_counts = Read10X_h5(file.path(\"/group/soranzo/manuel.tardaguila/2025_hESC_MK_multiome/GEX_reseq/alignment/cellranger/processing_outputs/MCO_01329/\", 'cellbender_gex_seurat.h5'))\n",
    "\n",
    "  cat(\"cb_counts_0\\n\")\n",
    "  cat(str(cb_counts))\n",
    "  cat(\"\\n\")\n",
    "\n",
    "  adata_samp_4_CB = CreateSeuratObject(counts = cb_counts)\n",
    "\n",
    "adata_samp_4_CB$orig.ident<-'MCO_01329'"
   ]
  },
  {
   "cell_type": "markdown",
   "id": "fca1d645-0b4c-4fe5-8aa3-72ef25fe846b",
   "metadata": {},
   "source": [
    "## combine them in a single object"
   ]
  },
  {
   "cell_type": "code",
   "execution_count": 164,
   "id": "23f45b28-b605-4162-8b55-f0e401e2d1b8",
   "metadata": {
    "execution": {
     "iopub.execute_input": "2025-02-03T17:11:47.301879Z",
     "iopub.status.busy": "2025-02-03T17:11:47.300837Z",
     "iopub.status.idle": "2025-02-03T17:11:55.829890Z",
     "shell.execute_reply": "2025-02-03T17:11:55.828692Z"
    }
   },
   "outputs": [
    {
     "data": {
      "text/plain": [
       "An object of class Seurat \n",
       "12 features across 434347 samples within 1 assay \n",
       "Active assay: RNA (12 features, 0 variable features)\n",
       " 1 layer present: counts"
      ]
     },
     "metadata": {},
     "output_type": "display_data"
    }
   ],
   "source": [
    "adatas<-list()\n",
    "\n",
    "adatas[[1]]<-adata_samp_1_CB\n",
    "adatas[[2]]<-adata_samp_2_CB\n",
    "adatas[[3]]<-adata_samp_3_CB\n",
    "adatas[[4]]<-adata_samp_4_CB\n",
    "\n",
    "sample_array<-c('MCO_01326','MCO_01327','MCO_01328','MCO_01329')\n",
    "\n",
    "merged_CB = merge(x =adatas[[1]], y=adatas[2:4], add.cell.ids = sample_array )\n",
    "\n",
    "merged_CB[[\"RNA\"]] <-JoinLayers(merged_CB[[\"RNA\"]])\n",
    "\n",
    "merged_CB\n"
   ]
  },
  {
   "cell_type": "markdown",
   "id": "98591a66-99b6-47d4-97ec-ce83c6be63aa",
   "metadata": {},
   "source": [
    "## Only use the barcodes that are part of my final object"
   ]
  },
  {
   "cell_type": "code",
   "execution_count": 165,
   "id": "0e7b95bb-b3f3-4dd8-9606-2b74fd4f6a52",
   "metadata": {
    "execution": {
     "iopub.execute_input": "2025-02-03T17:12:08.954522Z",
     "iopub.status.busy": "2025-02-03T17:12:08.953474Z",
     "iopub.status.idle": "2025-02-03T17:12:08.988492Z",
     "shell.execute_reply": "2025-02-03T17:12:08.987311Z"
    }
   },
   "outputs": [
    {
     "name": "stdout",
     "output_type": "stream",
     "text": [
      " chr [1:37492] \"MCO_01326_AAACAGCCACAGCCAT-1\" ...\n"
     ]
    }
   ],
   "source": [
    "joint.bcs <- intersect(colnames(adata), colnames(merged_CB))\n",
    "\n",
    "str(joint.bcs)"
   ]
  },
  {
   "cell_type": "code",
   "execution_count": 166,
   "id": "74c9a6d1-325b-463e-b27b-05130bb7e560",
   "metadata": {
    "execution": {
     "iopub.execute_input": "2025-02-03T17:12:09.374361Z",
     "iopub.status.busy": "2025-02-03T17:12:09.373422Z",
     "iopub.status.idle": "2025-02-03T17:12:12.374236Z",
     "shell.execute_reply": "2025-02-03T17:12:12.373073Z"
    }
   },
   "outputs": [
    {
     "data": {
      "text/plain": [
       "An object of class Seurat \n",
       "12 features across 37492 samples within 1 assay \n",
       "Active assay: RNA (12 features, 0 variable features)\n",
       " 1 layer present: counts"
      ]
     },
     "metadata": {},
     "output_type": "display_data"
    }
   ],
   "source": [
    "merged_CB_restricted <- subset(merged_CB, cells = joint.bcs)\n",
    "\n",
    "merged_CB_restricted"
   ]
  },
  {
   "cell_type": "code",
   "execution_count": 168,
   "id": "e3ff5011-1101-4f3c-8251-e0a11c96e55c",
   "metadata": {
    "execution": {
     "iopub.execute_input": "2025-02-03T17:13:07.858345Z",
     "iopub.status.busy": "2025-02-03T17:13:07.857324Z",
     "iopub.status.idle": "2025-02-03T17:13:07.885812Z",
     "shell.execute_reply": "2025-02-03T17:13:07.884681Z"
    }
   },
   "outputs": [],
   "source": [
    "hto_cb_counts<-GetAssayData(\n",
    "  merged_CB_restricted,\n",
    "  layer = c(\"counts\"))+1\n",
    "\n",
    "### Adding a pseudocount as seen in https://github.com/satijalab/seurat/issues/5640\n"
   ]
  },
  {
   "cell_type": "code",
   "execution_count": 169,
   "id": "c417b97e-c158-41df-9ad1-5f654f3d1eeb",
   "metadata": {
    "execution": {
     "iopub.execute_input": "2025-02-03T17:13:11.440849Z",
     "iopub.status.busy": "2025-02-03T17:13:11.439873Z",
     "iopub.status.idle": "2025-02-03T17:13:11.451669Z",
     "shell.execute_reply": "2025-02-03T17:13:11.450594Z"
    }
   },
   "outputs": [
    {
     "name": "stdout",
     "output_type": "stream",
     "text": [
      "Formal class 'dgeMatrix' [package \"Matrix\"] with 4 slots\n",
      "  ..@ Dim     : int [1:2] 12 37492\n",
      "  ..@ Dimnames:List of 2\n",
      "  .. ..$ : chr [1:12] \"GFP-chrGFP-WTA\" \"GFP-chrGFP-WTB\" \"GFP-chrGFP-WTC\" \"GFP-chrGFP-rs1\" ...\n",
      "  .. ..$ : chr [1:37492] \"MCO_01326_AAACAGCCACAGCCAT-1\" \"MCO_01326_AAACAGCCACCAGGTT-1\" \"MCO_01326_AAACAGCCACGGTACT-1\" \"MCO_01326_AAACAGCCAGCCGCTA-1\" ...\n",
      "  ..@ x       : num [1:449904] 1 1 1 1 1 1 2 1 27 3 ...\n",
      "  ..@ factors : list()\n"
     ]
    }
   ],
   "source": [
    "str(hto_cb_counts)"
   ]
  },
  {
   "cell_type": "code",
   "execution_count": 170,
   "id": "b1bd5267-ed4c-4ee3-9123-144b1ff4af1c",
   "metadata": {
    "execution": {
     "iopub.execute_input": "2025-02-03T17:13:20.184422Z",
     "iopub.status.busy": "2025-02-03T17:13:20.183383Z",
     "iopub.status.idle": "2025-02-03T17:13:20.695229Z",
     "shell.execute_reply": "2025-02-03T17:13:20.693984Z"
    }
   },
   "outputs": [],
   "source": [
    "merged_CB_restricted[[\"HTO_CB\"]] <- CreateAssayObject(counts = hto_cb_counts)"
   ]
  },
  {
   "cell_type": "code",
   "execution_count": 171,
   "id": "98b850b6-62f6-4dcd-b1e1-6c00818d1113",
   "metadata": {
    "execution": {
     "iopub.execute_input": "2025-02-03T17:13:25.144163Z",
     "iopub.status.busy": "2025-02-03T17:13:25.143105Z",
     "iopub.status.idle": "2025-02-03T17:13:25.156737Z",
     "shell.execute_reply": "2025-02-03T17:13:25.155633Z"
    }
   },
   "outputs": [
    {
     "data": {
      "text/plain": [
       "An object of class Seurat \n",
       "24 features across 37492 samples within 2 assays \n",
       "Active assay: RNA (12 features, 0 variable features)\n",
       " 1 layer present: counts\n",
       " 1 other assay present: HTO_CB"
      ]
     },
     "metadata": {},
     "output_type": "display_data"
    }
   ],
   "source": [
    "merged_CB_restricted"
   ]
  },
  {
   "cell_type": "markdown",
   "id": "7d252a72-84ac-4b20-965c-06a736c7feb1",
   "metadata": {
    "editable": true,
    "slideshow": {
     "slide_type": ""
    },
    "tags": []
   },
   "source": [
    "## normalize CLR"
   ]
  },
  {
   "cell_type": "code",
   "execution_count": 172,
   "id": "fdf4223f-85e9-4e79-b56d-5252cc6ccc27",
   "metadata": {
    "execution": {
     "iopub.execute_input": "2025-02-03T17:13:42.743736Z",
     "iopub.status.busy": "2025-02-03T17:13:42.742638Z",
     "iopub.status.idle": "2025-02-03T17:13:42.894322Z",
     "shell.execute_reply": "2025-02-03T17:13:42.893083Z"
    }
   },
   "outputs": [
    {
     "name": "stderr",
     "output_type": "stream",
     "text": [
      "Normalizing across features\n",
      "\n"
     ]
    }
   ],
   "source": [
    "merged_CB_restricted <- NormalizeData(merged_CB_restricted, assay = \"HTO_CB\", normalization.method = \"CLR\")\n"
   ]
  },
  {
   "cell_type": "markdown",
   "id": "a9bc45dd-d884-4ae0-bbe3-96c7fb06eaae",
   "metadata": {},
   "source": [
    "## Demultiplex using HTO Demux"
   ]
  },
  {
   "cell_type": "code",
   "execution_count": 173,
   "id": "edb8b853-2797-4e03-adc9-557c9519733c",
   "metadata": {
    "execution": {
     "iopub.execute_input": "2025-02-03T17:14:01.346944Z",
     "iopub.status.busy": "2025-02-03T17:14:01.345871Z",
     "iopub.status.idle": "2025-02-03T17:14:08.552693Z",
     "shell.execute_reply": "2025-02-03T17:14:08.551480Z"
    }
   },
   "outputs": [
    {
     "name": "stderr",
     "output_type": "stream",
     "text": [
      "Cutoff for GFP-chrGFP-WTA : 4 reads\n",
      "\n",
      "Cutoff for GFP-chrGFP-WTB : 4 reads\n",
      "\n",
      "Cutoff for GFP-chrGFP-WTC : 4 reads\n",
      "\n",
      "Cutoff for GFP-chrGFP-rs1 : 4 reads\n",
      "\n",
      "Cutoff for GFP-chrGFP-rs2 : 4 reads\n",
      "\n",
      "Cutoff for GFP-chrGFP-rs3 : 4 reads\n",
      "\n",
      "Cutoff for GFP-chrGFP-R882H1 : 6 reads\n",
      "\n",
      "Cutoff for GFP-chrGFP-R882H2 : 4 reads\n",
      "\n",
      "Cutoff for GFP-chrGFP-R882H3 : 4 reads\n",
      "\n",
      "Cutoff for GFP-chrGFP-rs-R882H1 : 4 reads\n",
      "\n",
      "Cutoff for GFP-chrGFP-rs-R882H2 : 4 reads\n",
      "\n",
      "Cutoff for GFP-chrGFP-rs-R882H3 : 4 reads\n",
      "\n"
     ]
    }
   ],
   "source": [
    "merged_CB_restricted <- HTODemux(merged_CB_restricted, assay = \"HTO_CB\", positive.quantile = 0.99)\n"
   ]
  },
  {
   "cell_type": "code",
   "execution_count": 174,
   "id": "3f0f999f-a7d9-4b11-a7ee-fa1967f2efee",
   "metadata": {
    "execution": {
     "iopub.execute_input": "2025-02-03T17:14:35.717106Z",
     "iopub.status.busy": "2025-02-03T17:14:35.716062Z",
     "iopub.status.idle": "2025-02-03T17:14:35.729459Z",
     "shell.execute_reply": "2025-02-03T17:14:35.728385Z"
    }
   },
   "outputs": [
    {
     "data": {
      "text/html": [
       "<style>\n",
       ".dl-inline {width: auto; margin:0; padding: 0}\n",
       ".dl-inline>dt, .dl-inline>dd {float: none; width: auto; display: inline-block}\n",
       ".dl-inline>dt::after {content: \":\\0020\"; padding-right: .5ex}\n",
       ".dl-inline>dt:not(:first-of-type) {padding-left: .5ex}\n",
       "</style><dl class=dl-inline><dt>Doublet</dt><dd>11574</dd><dt>GFP-chrGFP-R882H3</dt><dd>938</dd><dt>Negative</dt><dd>14948</dd><dt>GFP-chrGFP-rs1</dt><dd>622</dd><dt>GFP-chrGFP-R882H1</dt><dd>607</dd><dt>GFP-chrGFP-rs-R882H2</dt><dd>513</dd><dt>GFP-chrGFP-rs-R882H3</dt><dd>645</dd><dt>GFP-chrGFP-WTC</dt><dd>215</dd><dt>GFP-chrGFP-rs3</dt><dd>5511</dd><dt>GFP-chrGFP-R882H2</dt><dd>79</dd><dt>GFP-chrGFP-rs-R882H1</dt><dd>1097</dd><dt>GFP-chrGFP-rs2</dt><dd>493</dd><dt>GFP-chrGFP-WTA</dt><dd>98</dd><dt>GFP-chrGFP-WTB</dt><dd>152</dd></dl>\n"
      ],
      "text/latex": [
       "\\begin{description*}\n",
       "\\item[Doublet] 11574\n",
       "\\item[GFP-chrGFP-R882H3] 938\n",
       "\\item[Negative] 14948\n",
       "\\item[GFP-chrGFP-rs1] 622\n",
       "\\item[GFP-chrGFP-R882H1] 607\n",
       "\\item[GFP-chrGFP-rs-R882H2] 513\n",
       "\\item[GFP-chrGFP-rs-R882H3] 645\n",
       "\\item[GFP-chrGFP-WTC] 215\n",
       "\\item[GFP-chrGFP-rs3] 5511\n",
       "\\item[GFP-chrGFP-R882H2] 79\n",
       "\\item[GFP-chrGFP-rs-R882H1] 1097\n",
       "\\item[GFP-chrGFP-rs2] 493\n",
       "\\item[GFP-chrGFP-WTA] 98\n",
       "\\item[GFP-chrGFP-WTB] 152\n",
       "\\end{description*}\n"
      ],
      "text/markdown": [
       "Doublet\n",
       ":   11574GFP-chrGFP-R882H3\n",
       ":   938Negative\n",
       ":   14948GFP-chrGFP-rs1\n",
       ":   622GFP-chrGFP-R882H1\n",
       ":   607GFP-chrGFP-rs-R882H2\n",
       ":   513GFP-chrGFP-rs-R882H3\n",
       ":   645GFP-chrGFP-WTC\n",
       ":   215GFP-chrGFP-rs3\n",
       ":   5511GFP-chrGFP-R882H2\n",
       ":   79GFP-chrGFP-rs-R882H1\n",
       ":   1097GFP-chrGFP-rs2\n",
       ":   493GFP-chrGFP-WTA\n",
       ":   98GFP-chrGFP-WTB\n",
       ":   152\n",
       "\n"
      ],
      "text/plain": [
       "             Doublet    GFP-chrGFP-R882H3             Negative \n",
       "               11574                  938                14948 \n",
       "      GFP-chrGFP-rs1    GFP-chrGFP-R882H1 GFP-chrGFP-rs-R882H2 \n",
       "                 622                  607                  513 \n",
       "GFP-chrGFP-rs-R882H3       GFP-chrGFP-WTC       GFP-chrGFP-rs3 \n",
       "                 645                  215                 5511 \n",
       "   GFP-chrGFP-R882H2 GFP-chrGFP-rs-R882H1       GFP-chrGFP-rs2 \n",
       "                  79                 1097                  493 \n",
       "      GFP-chrGFP-WTA       GFP-chrGFP-WTB \n",
       "                  98                  152 "
      ]
     },
     "metadata": {},
     "output_type": "display_data"
    }
   ],
   "source": [
    "summary(merged_CB_restricted@meta.data$hash.ID)"
   ]
  },
  {
   "cell_type": "markdown",
   "id": "d9af12bc-e1fb-42e6-b99b-af8f43b2718b",
   "metadata": {},
   "source": [
    "# Add CB to Genotype Annotation to adata"
   ]
  },
  {
   "cell_type": "code",
   "execution_count": 176,
   "id": "b902a3fa-7804-4097-8dc4-36ac20b58974",
   "metadata": {
    "execution": {
     "iopub.execute_input": "2025-02-03T17:20:01.259005Z",
     "iopub.status.busy": "2025-02-03T17:20:01.257952Z",
     "iopub.status.idle": "2025-02-03T17:20:01.345265Z",
     "shell.execute_reply": "2025-02-03T17:20:01.344080Z"
    }
   },
   "outputs": [],
   "source": [
    "adata<-AddMetaData(object= adata,\n",
    "                  metadata= merged_CB_restricted@meta.data$hash.ID,\n",
    "                  col.name = \"Assignation_demux_CB\")"
   ]
  },
  {
   "cell_type": "code",
   "execution_count": 177,
   "id": "06dc45b2-ecf1-47c2-98d0-3c6883a5803e",
   "metadata": {
    "execution": {
     "iopub.execute_input": "2025-02-03T17:20:03.202851Z",
     "iopub.status.busy": "2025-02-03T17:20:03.201870Z",
     "iopub.status.idle": "2025-02-03T17:20:03.213383Z",
     "shell.execute_reply": "2025-02-03T17:20:03.212335Z"
    }
   },
   "outputs": [
    {
     "data": {
      "text/html": [
       "<style>\n",
       ".dl-inline {width: auto; margin:0; padding: 0}\n",
       ".dl-inline>dt, .dl-inline>dd {float: none; width: auto; display: inline-block}\n",
       ".dl-inline>dt::after {content: \":\\0020\"; padding-right: .5ex}\n",
       ".dl-inline>dt:not(:first-of-type) {padding-left: .5ex}\n",
       "</style><dl class=dl-inline><dt>Doublet</dt><dd>11575</dd><dt>GFP-chrGFP-R882H3</dt><dd>939</dd><dt>Negative</dt><dd>14953</dd><dt>GFP-chrGFP-rs1</dt><dd>623</dd><dt>GFP-chrGFP-R882H1</dt><dd>610</dd><dt>GFP-chrGFP-rs-R882H2</dt><dd>514</dd><dt>GFP-chrGFP-rs-R882H3</dt><dd>645</dd><dt>GFP-chrGFP-WTC</dt><dd>215</dd><dt>GFP-chrGFP-rs3</dt><dd>5511</dd><dt>GFP-chrGFP-R882H2</dt><dd>79</dd><dt>GFP-chrGFP-rs-R882H1</dt><dd>1097</dd><dt>GFP-chrGFP-rs2</dt><dd>493</dd><dt>GFP-chrGFP-WTA</dt><dd>98</dd><dt>GFP-chrGFP-WTB</dt><dd>152</dd></dl>\n"
      ],
      "text/latex": [
       "\\begin{description*}\n",
       "\\item[Doublet] 11575\n",
       "\\item[GFP-chrGFP-R882H3] 939\n",
       "\\item[Negative] 14953\n",
       "\\item[GFP-chrGFP-rs1] 623\n",
       "\\item[GFP-chrGFP-R882H1] 610\n",
       "\\item[GFP-chrGFP-rs-R882H2] 514\n",
       "\\item[GFP-chrGFP-rs-R882H3] 645\n",
       "\\item[GFP-chrGFP-WTC] 215\n",
       "\\item[GFP-chrGFP-rs3] 5511\n",
       "\\item[GFP-chrGFP-R882H2] 79\n",
       "\\item[GFP-chrGFP-rs-R882H1] 1097\n",
       "\\item[GFP-chrGFP-rs2] 493\n",
       "\\item[GFP-chrGFP-WTA] 98\n",
       "\\item[GFP-chrGFP-WTB] 152\n",
       "\\end{description*}\n"
      ],
      "text/markdown": [
       "Doublet\n",
       ":   11575GFP-chrGFP-R882H3\n",
       ":   939Negative\n",
       ":   14953GFP-chrGFP-rs1\n",
       ":   623GFP-chrGFP-R882H1\n",
       ":   610GFP-chrGFP-rs-R882H2\n",
       ":   514GFP-chrGFP-rs-R882H3\n",
       ":   645GFP-chrGFP-WTC\n",
       ":   215GFP-chrGFP-rs3\n",
       ":   5511GFP-chrGFP-R882H2\n",
       ":   79GFP-chrGFP-rs-R882H1\n",
       ":   1097GFP-chrGFP-rs2\n",
       ":   493GFP-chrGFP-WTA\n",
       ":   98GFP-chrGFP-WTB\n",
       ":   152\n",
       "\n"
      ],
      "text/plain": [
       "             Doublet    GFP-chrGFP-R882H3             Negative \n",
       "               11575                  939                14953 \n",
       "      GFP-chrGFP-rs1    GFP-chrGFP-R882H1 GFP-chrGFP-rs-R882H2 \n",
       "                 623                  610                  514 \n",
       "GFP-chrGFP-rs-R882H3       GFP-chrGFP-WTC       GFP-chrGFP-rs3 \n",
       "                 645                  215                 5511 \n",
       "   GFP-chrGFP-R882H2 GFP-chrGFP-rs-R882H1       GFP-chrGFP-rs2 \n",
       "                  79                 1097                  493 \n",
       "      GFP-chrGFP-WTA       GFP-chrGFP-WTB \n",
       "                  98                  152 "
      ]
     },
     "metadata": {},
     "output_type": "display_data"
    }
   ],
   "source": [
    "summary(as.factor(adata@meta.data$Assignation_demux_CB))"
   ]
  },
  {
   "cell_type": "code",
   "execution_count": 178,
   "id": "ea639aad-b1da-4dcf-a716-5867ffd79b81",
   "metadata": {
    "execution": {
     "iopub.execute_input": "2025-02-03T17:20:07.455888Z",
     "iopub.status.busy": "2025-02-03T17:20:07.454889Z",
     "iopub.status.idle": "2025-02-03T17:20:07.464718Z",
     "shell.execute_reply": "2025-02-03T17:20:07.463732Z"
    }
   },
   "outputs": [],
   "source": [
    "adata@meta.data$Assigned_GFPbc_demux_CB<-gsub(\"^GFP-\",\"\",adata@meta.data$Assignation_demux_CB)"
   ]
  },
  {
   "cell_type": "code",
   "execution_count": 179,
   "id": "dd433240-960c-40da-9ae7-776b84d527c0",
   "metadata": {
    "execution": {
     "iopub.execute_input": "2025-02-03T17:20:08.432240Z",
     "iopub.status.busy": "2025-02-03T17:20:08.431351Z",
     "iopub.status.idle": "2025-02-03T17:20:08.448647Z",
     "shell.execute_reply": "2025-02-03T17:20:08.447670Z"
    }
   },
   "outputs": [],
   "source": [
    "adata@meta.data$Assigned_GFPbc_demux_CB<-gsub(\"-\",\"_\",adata@meta.data$Assigned_GFPbc_demux_CB)"
   ]
  },
  {
   "cell_type": "code",
   "execution_count": 180,
   "id": "39ef92d6-6179-4aee-8fa2-81f8aae3a2f7",
   "metadata": {
    "execution": {
     "iopub.execute_input": "2025-02-03T17:20:12.870919Z",
     "iopub.status.busy": "2025-02-03T17:20:12.869980Z",
     "iopub.status.idle": "2025-02-03T17:20:12.881875Z",
     "shell.execute_reply": "2025-02-03T17:20:12.880832Z"
    }
   },
   "outputs": [
    {
     "data": {
      "text/html": [
       "<style>\n",
       ".dl-inline {width: auto; margin:0; padding: 0}\n",
       ".dl-inline>dt, .dl-inline>dd {float: none; width: auto; display: inline-block}\n",
       ".dl-inline>dt::after {content: \":\\0020\"; padding-right: .5ex}\n",
       ".dl-inline>dt:not(:first-of-type) {padding-left: .5ex}\n",
       "</style><dl class=dl-inline><dt>chrGFP_R882H1</dt><dd>610</dd><dt>chrGFP_R882H2</dt><dd>79</dd><dt>chrGFP_R882H3</dt><dd>939</dd><dt>chrGFP_rs_R882H1</dt><dd>1097</dd><dt>chrGFP_rs_R882H2</dt><dd>514</dd><dt>chrGFP_rs_R882H3</dt><dd>645</dd><dt>chrGFP_rs1</dt><dd>623</dd><dt>chrGFP_rs2</dt><dd>493</dd><dt>chrGFP_rs3</dt><dd>5511</dd><dt>chrGFP_WTA</dt><dd>98</dd><dt>chrGFP_WTB</dt><dd>152</dd><dt>chrGFP_WTC</dt><dd>215</dd><dt>Doublet</dt><dd>11575</dd><dt>Negative</dt><dd>14953</dd></dl>\n"
      ],
      "text/latex": [
       "\\begin{description*}\n",
       "\\item[chrGFP\\textbackslash{}\\_R882H1] 610\n",
       "\\item[chrGFP\\textbackslash{}\\_R882H2] 79\n",
       "\\item[chrGFP\\textbackslash{}\\_R882H3] 939\n",
       "\\item[chrGFP\\textbackslash{}\\_rs\\textbackslash{}\\_R882H1] 1097\n",
       "\\item[chrGFP\\textbackslash{}\\_rs\\textbackslash{}\\_R882H2] 514\n",
       "\\item[chrGFP\\textbackslash{}\\_rs\\textbackslash{}\\_R882H3] 645\n",
       "\\item[chrGFP\\textbackslash{}\\_rs1] 623\n",
       "\\item[chrGFP\\textbackslash{}\\_rs2] 493\n",
       "\\item[chrGFP\\textbackslash{}\\_rs3] 5511\n",
       "\\item[chrGFP\\textbackslash{}\\_WTA] 98\n",
       "\\item[chrGFP\\textbackslash{}\\_WTB] 152\n",
       "\\item[chrGFP\\textbackslash{}\\_WTC] 215\n",
       "\\item[Doublet] 11575\n",
       "\\item[Negative] 14953\n",
       "\\end{description*}\n"
      ],
      "text/markdown": [
       "chrGFP_R882H1\n",
       ":   610chrGFP_R882H2\n",
       ":   79chrGFP_R882H3\n",
       ":   939chrGFP_rs_R882H1\n",
       ":   1097chrGFP_rs_R882H2\n",
       ":   514chrGFP_rs_R882H3\n",
       ":   645chrGFP_rs1\n",
       ":   623chrGFP_rs2\n",
       ":   493chrGFP_rs3\n",
       ":   5511chrGFP_WTA\n",
       ":   98chrGFP_WTB\n",
       ":   152chrGFP_WTC\n",
       ":   215Doublet\n",
       ":   11575Negative\n",
       ":   14953\n",
       "\n"
      ],
      "text/plain": [
       "   chrGFP_R882H1    chrGFP_R882H2    chrGFP_R882H3 chrGFP_rs_R882H1 \n",
       "             610               79              939             1097 \n",
       "chrGFP_rs_R882H2 chrGFP_rs_R882H3       chrGFP_rs1       chrGFP_rs2 \n",
       "             514              645              623              493 \n",
       "      chrGFP_rs3       chrGFP_WTA       chrGFP_WTB       chrGFP_WTC \n",
       "            5511               98              152              215 \n",
       "         Doublet         Negative \n",
       "           11575            14953 "
      ]
     },
     "metadata": {},
     "output_type": "display_data"
    }
   ],
   "source": [
    "summary(as.factor(adata@meta.data$Assigned_GFPbc_demux_CB))"
   ]
  },
  {
   "cell_type": "code",
   "execution_count": 181,
   "id": "971ce387-f05d-4ede-9d2d-c6617520dcff",
   "metadata": {
    "execution": {
     "iopub.execute_input": "2025-02-03T17:20:13.876143Z",
     "iopub.status.busy": "2025-02-03T17:20:13.875175Z",
     "iopub.status.idle": "2025-02-03T17:20:13.883993Z",
     "shell.execute_reply": "2025-02-03T17:20:13.882931Z"
    }
   },
   "outputs": [],
   "source": [
    "adata@meta.data$Assigned_GFPbc_demux_CB<-factor(adata@meta.data$Assigned_GFPbc_demux_CB,\n",
    "                                       levels = c(\"chrGFP_WTA\",\"chrGFP_WTB\",\"chrGFP_WTC\",\n",
    "                                                  \"chrGFP_rs1\",\"chrGFP_rs2\",\"chrGFP_rs3\",\n",
    "                                                  \"chrGFP_R882H1\",\"chrGFP_R882H2\",\"chrGFP_R882H3\",\n",
    "                                                  \"chrGFP_rs_R882H1\",\"chrGFP_rs_R882H2\",\"chrGFP_rs_R882H3\",\"Doublet\",\"Negative\"),\n",
    "                                       ordered=T)"
   ]
  },
  {
   "cell_type": "code",
   "execution_count": 182,
   "id": "91da3d76-27b4-4827-af2f-7f08449e1a5b",
   "metadata": {
    "execution": {
     "iopub.execute_input": "2025-02-03T17:20:19.620339Z",
     "iopub.status.busy": "2025-02-03T17:20:19.619320Z",
     "iopub.status.idle": "2025-02-03T17:20:19.630814Z",
     "shell.execute_reply": "2025-02-03T17:20:19.629740Z"
    }
   },
   "outputs": [
    {
     "data": {
      "text/html": [
       "<style>\n",
       ".dl-inline {width: auto; margin:0; padding: 0}\n",
       ".dl-inline>dt, .dl-inline>dd {float: none; width: auto; display: inline-block}\n",
       ".dl-inline>dt::after {content: \":\\0020\"; padding-right: .5ex}\n",
       ".dl-inline>dt:not(:first-of-type) {padding-left: .5ex}\n",
       "</style><dl class=dl-inline><dt>chrGFP_WTA</dt><dd>98</dd><dt>chrGFP_WTB</dt><dd>152</dd><dt>chrGFP_WTC</dt><dd>215</dd><dt>chrGFP_rs1</dt><dd>623</dd><dt>chrGFP_rs2</dt><dd>493</dd><dt>chrGFP_rs3</dt><dd>5511</dd><dt>chrGFP_R882H1</dt><dd>610</dd><dt>chrGFP_R882H2</dt><dd>79</dd><dt>chrGFP_R882H3</dt><dd>939</dd><dt>chrGFP_rs_R882H1</dt><dd>1097</dd><dt>chrGFP_rs_R882H2</dt><dd>514</dd><dt>chrGFP_rs_R882H3</dt><dd>645</dd><dt>Doublet</dt><dd>11575</dd><dt>Negative</dt><dd>14953</dd></dl>\n"
      ],
      "text/latex": [
       "\\begin{description*}\n",
       "\\item[chrGFP\\textbackslash{}\\_WTA] 98\n",
       "\\item[chrGFP\\textbackslash{}\\_WTB] 152\n",
       "\\item[chrGFP\\textbackslash{}\\_WTC] 215\n",
       "\\item[chrGFP\\textbackslash{}\\_rs1] 623\n",
       "\\item[chrGFP\\textbackslash{}\\_rs2] 493\n",
       "\\item[chrGFP\\textbackslash{}\\_rs3] 5511\n",
       "\\item[chrGFP\\textbackslash{}\\_R882H1] 610\n",
       "\\item[chrGFP\\textbackslash{}\\_R882H2] 79\n",
       "\\item[chrGFP\\textbackslash{}\\_R882H3] 939\n",
       "\\item[chrGFP\\textbackslash{}\\_rs\\textbackslash{}\\_R882H1] 1097\n",
       "\\item[chrGFP\\textbackslash{}\\_rs\\textbackslash{}\\_R882H2] 514\n",
       "\\item[chrGFP\\textbackslash{}\\_rs\\textbackslash{}\\_R882H3] 645\n",
       "\\item[Doublet] 11575\n",
       "\\item[Negative] 14953\n",
       "\\end{description*}\n"
      ],
      "text/markdown": [
       "chrGFP_WTA\n",
       ":   98chrGFP_WTB\n",
       ":   152chrGFP_WTC\n",
       ":   215chrGFP_rs1\n",
       ":   623chrGFP_rs2\n",
       ":   493chrGFP_rs3\n",
       ":   5511chrGFP_R882H1\n",
       ":   610chrGFP_R882H2\n",
       ":   79chrGFP_R882H3\n",
       ":   939chrGFP_rs_R882H1\n",
       ":   1097chrGFP_rs_R882H2\n",
       ":   514chrGFP_rs_R882H3\n",
       ":   645Doublet\n",
       ":   11575Negative\n",
       ":   14953\n",
       "\n"
      ],
      "text/plain": [
       "      chrGFP_WTA       chrGFP_WTB       chrGFP_WTC       chrGFP_rs1 \n",
       "              98              152              215              623 \n",
       "      chrGFP_rs2       chrGFP_rs3    chrGFP_R882H1    chrGFP_R882H2 \n",
       "             493             5511              610               79 \n",
       "   chrGFP_R882H3 chrGFP_rs_R882H1 chrGFP_rs_R882H2 chrGFP_rs_R882H3 \n",
       "             939             1097              514              645 \n",
       "         Doublet         Negative \n",
       "           11575            14953 "
      ]
     },
     "metadata": {},
     "output_type": "display_data"
    }
   ],
   "source": [
    "summary(adata@meta.data$Assigned_GFPbc_demux_CB)"
   ]
  },
  {
   "cell_type": "markdown",
   "id": "a4a5f0fd-3a7e-4a19-81c8-8c6333757e34",
   "metadata": {},
   "source": [
    "## Compare results between demux pre and post CB assignations"
   ]
  },
  {
   "cell_type": "code",
   "execution_count": 183,
   "id": "3d4ad8cb-6d4a-4a9b-8a32-452827d68d0b",
   "metadata": {
    "execution": {
     "iopub.execute_input": "2025-02-03T17:21:06.081603Z",
     "iopub.status.busy": "2025-02-03T17:21:06.080592Z",
     "iopub.status.idle": "2025-02-03T17:21:06.098906Z",
     "shell.execute_reply": "2025-02-03T17:21:06.097875Z"
    }
   },
   "outputs": [
    {
     "data": {
      "text/html": [
       "<style>\n",
       ".dl-inline {width: auto; margin:0; padding: 0}\n",
       ".dl-inline>dt, .dl-inline>dd {float: none; width: auto; display: inline-block}\n",
       ".dl-inline>dt::after {content: \":\\0020\"; padding-right: .5ex}\n",
       ".dl-inline>dt:not(:first-of-type) {padding-left: .5ex}\n",
       "</style><dl class=dl-inline><dt>Doublet.Doublet</dt><dd>11164</dd><dt>Negative.Negative</dt><dd>9106</dd><dt>chrGFP_rs3.chrGFP_rs3</dt><dd>5228</dd><dt>chrGFP_rs3.Negative</dt><dd>1482</dd><dt>Doublet.Negative</dt><dd>1385</dd><dt>chrGFP_R882H3.Negative</dt><dd>1334</dd><dt>chrGFP_rs_R882H1.chrGFP_rs_R882H1</dt><dd>701</dd><dt>chrGFP_R882H3.chrGFP_R882H3</dt><dd>609</dd><dt>chrGFP_rs1.chrGFP_rs1</dt><dd>458</dd><dt>chrGFP_R882H1.Negative</dt><dd>457</dd><dt>Doublet.chrGFP_rs_R882H3</dt><dd>396</dd><dt>chrGFP_rs2.chrGFP_rs2</dt><dd>380</dd><dt>Doublet.chrGFP_R882H1</dt><dd>341</dd><dt>Doublet.chrGFP_R882H3</dt><dd>325</dd><dt>Doublet.chrGFP_rs_R882H1</dt><dd>325</dd><dt>chrGFP_rs3.Doublet</dt><dd>315</dd><dt>Doublet.chrGFP_rs_R882H2</dt><dd>298</dd><dt>chrGFP_R882H1.chrGFP_R882H1</dt><dd>247</dd><dt>chrGFP_rs_R882H3.chrGFP_rs_R882H3</dt><dd>214</dd><dt>chrGFP_rs_R882H1.Negative</dt><dd>212</dd><dt>chrGFP_rs_R882H3.Negative</dt><dd>212</dd><dt>chrGFP_rs1.Negative</dt><dd>202</dd><dt>chrGFP_rs_R882H2.chrGFP_rs_R882H2</dt><dd>193</dd><dt>Doublet.chrGFP_rs3</dt><dd>177</dd><dt>chrGFP_rs2.Negative</dt><dd>169</dd><dt>chrGFP_rs_R882H2.Negative</dt><dd>169</dd><dt>Doublet.chrGFP_rs1</dt><dd>149</dd><dt>chrGFP_WTC.chrGFP_WTC</dt><dd>132</dd><dt>Doublet.chrGFP_rs2</dt><dd>106</dd><dt>chrGFP_WTB.Negative</dt><dd>83</dd><dt>chrGFP_WTC.Negative</dt><dd>80</dd><dt>Doublet.chrGFP_WTB</dt><dd>78</dd><dt>Doublet.chrGFP_WTC</dt><dd>67</dd><dt>chrGFP_WTB.chrGFP_WTB</dt><dd>60</dd><dt>chrGFP_WTA.chrGFP_WTA</dt><dd>58</dd><dt>Doublet.chrGFP_R882H2</dt><dd>48</dd><dt>chrGFP_R882H3.Doublet</dt><dd>43</dd><dt>chrGFP_rs2.chrGFP_rs3</dt><dd>39</dd><dt>Negative.chrGFP_rs_R882H1</dt><dd>39</dd><dt>Doublet.chrGFP_WTA</dt><dd>38</dd><dt>chrGFP_R882H2.Negative</dt><dd>37</dd><dt>chrGFP_R882H2.chrGFP_R882H2</dt><dd>29</dd><dt>chrGFP_WTA.Negative</dt><dd>25</dd><dt>chrGFP_rs3.chrGFP_R882H1</dt><dd>20</dd><dt>chrGFP_rs1.chrGFP_rs3</dt><dd>19</dd><dt>Negative.chrGFP_rs_R882H3</dt><dd>17</dd><dt>chrGFP_rs3.chrGFP_rs_R882H1</dt><dd>16</dd><dt>Negative.chrGFP_rs_R882H2</dt><dd>16</dd><dt>chrGFP_rs3.chrGFP_WTC</dt><dd>14</dd><dt>chrGFP_rs_R882H1.chrGFP_rs3</dt><dd>14</dd><dt>chrGFP_rs3.chrGFP_WTB</dt><dd>13</dd><dt>chrGFP_rs_R882H2.Doublet</dt><dd>13</dd><dt>chrGFP_rs3.chrGFP_rs_R882H3</dt><dd>12</dd><dt>chrGFP_rs_R882H3.Doublet</dt><dd>12</dd><dt>chrGFP_rs3.chrGFP_rs1</dt><dd>11</dd><dt>chrGFP_R882H3.chrGFP_rs_R882H1</dt><dd>10</dd><dt>chrGFP_rs_R882H1.Doublet</dt><dd>9</dd><dt>chrGFP_R882H3.chrGFP_rs3</dt><dd>7</dd><dt>chrGFP_rs2.Doublet</dt><dd>7</dd><dt>chrGFP_R882H1.chrGFP_rs3</dt><dd>6</dd><dt>chrGFP_rs_R882H3.chrGFP_rs3</dt><dd>6</dd><dt>chrGFP_WTC.chrGFP_rs3</dt><dd>5</dd><dt>chrGFP_rs3.chrGFP_rs_R882H2</dt><dd>5</dd><dt>chrGFP_rs1.Doublet</dt><dd>5</dd><dt>Negative.chrGFP_rs2</dt><dd>4</dd><dt>chrGFP_rs1.chrGFP_rs_R882H3</dt><dd>4</dd><dt>chrGFP_R882H1.Doublet</dt><dd>4</dd><dt>chrGFP_R882H3.chrGFP_rs1</dt><dd>3</dd><dt>chrGFP_rs_R882H2.chrGFP_rs3</dt><dd>3</dd><dt>Negative.chrGFP_rs3</dt><dd>3</dd><dt>chrGFP_rs3.chrGFP_R882H3</dt><dd>3</dd><dt>chrGFP_R882H1.chrGFP_rs2</dt><dd>2</dd><dt>chrGFP_WTA.chrGFP_rs3</dt><dd>2</dd><dt>chrGFP_WTC.Doublet</dt><dd>2</dd><dt>chrGFP_rs3.chrGFP_WTA</dt><dd>1</dd><dt>chrGFP_R882H3.chrGFP_WTA</dt><dd>1</dd><dt>chrGFP_rs1.chrGFP_WTB</dt><dd>1</dd><dt>chrGFP_rs1.chrGFP_WTC</dt><dd>1</dd><dt>chrGFP_rs_R882H1.chrGFP_WTC</dt><dd>1</dd><dt>chrGFP_WTC.chrGFP_rs1</dt><dd>1</dd><dt>Negative.chrGFP_rs1</dt><dd>1</dd><dt>chrGFP_R882H3.chrGFP_rs2</dt><dd>1</dd><dt>chrGFP_WTB.chrGFP_rs3</dt><dd>1</dd><dt>chrGFP_R882H2.chrGFP_rs3</dt><dd>1</dd><dt>chrGFP_rs1.chrGFP_R882H1</dt><dd>1</dd><dt>chrGFP_rs_R882H1.chrGFP_R882H1</dt><dd>1</dd><dt>chrGFP_rs_R882H1.chrGFP_R882H2</dt><dd>1</dd><dt>Negative.chrGFP_R882H2</dt><dd>1</dd><dt>chrGFP_WTC.chrGFP_R882H3</dt><dd>1</dd><dt>chrGFP_rs2.chrGFP_R882H3</dt><dd>1</dd><dt>chrGFP_WTC.chrGFP_rs_R882H1</dt><dd>1</dd><dt>chrGFP_rs1.chrGFP_rs_R882H1</dt><dd>1</dd><dt>chrGFP_rs2.chrGFP_rs_R882H1</dt><dd>1</dd><dt>chrGFP_R882H1.chrGFP_rs_R882H1</dt><dd>1</dd><dt>chrGFP_rs_R882H2.chrGFP_rs_R882H1</dt><dd>1</dd><dt>chrGFP_rs_R882H3.chrGFP_rs_R882H1</dt><dd>1</dd><dt>chrGFP_WTC.chrGFP_rs_R882H2</dt><dd>1</dd><dt>chrGFP_R882H3.chrGFP_rs_R882H2</dt><dd>1</dd><dt>chrGFP_rs2.chrGFP_rs_R882H3</dt><dd>1</dd><dt>(Other)</dt><dd>2</dd></dl>\n"
      ],
      "text/latex": [
       "\\begin{description*}\n",
       "\\item[Doublet.Doublet] 11164\n",
       "\\item[Negative.Negative] 9106\n",
       "\\item[chrGFP\\textbackslash{}\\_rs3.chrGFP\\textbackslash{}\\_rs3] 5228\n",
       "\\item[chrGFP\\textbackslash{}\\_rs3.Negative] 1482\n",
       "\\item[Doublet.Negative] 1385\n",
       "\\item[chrGFP\\textbackslash{}\\_R882H3.Negative] 1334\n",
       "\\item[chrGFP\\textbackslash{}\\_rs\\textbackslash{}\\_R882H1.chrGFP\\textbackslash{}\\_rs\\textbackslash{}\\_R882H1] 701\n",
       "\\item[chrGFP\\textbackslash{}\\_R882H3.chrGFP\\textbackslash{}\\_R882H3] 609\n",
       "\\item[chrGFP\\textbackslash{}\\_rs1.chrGFP\\textbackslash{}\\_rs1] 458\n",
       "\\item[chrGFP\\textbackslash{}\\_R882H1.Negative] 457\n",
       "\\item[Doublet.chrGFP\\textbackslash{}\\_rs\\textbackslash{}\\_R882H3] 396\n",
       "\\item[chrGFP\\textbackslash{}\\_rs2.chrGFP\\textbackslash{}\\_rs2] 380\n",
       "\\item[Doublet.chrGFP\\textbackslash{}\\_R882H1] 341\n",
       "\\item[Doublet.chrGFP\\textbackslash{}\\_R882H3] 325\n",
       "\\item[Doublet.chrGFP\\textbackslash{}\\_rs\\textbackslash{}\\_R882H1] 325\n",
       "\\item[chrGFP\\textbackslash{}\\_rs3.Doublet] 315\n",
       "\\item[Doublet.chrGFP\\textbackslash{}\\_rs\\textbackslash{}\\_R882H2] 298\n",
       "\\item[chrGFP\\textbackslash{}\\_R882H1.chrGFP\\textbackslash{}\\_R882H1] 247\n",
       "\\item[chrGFP\\textbackslash{}\\_rs\\textbackslash{}\\_R882H3.chrGFP\\textbackslash{}\\_rs\\textbackslash{}\\_R882H3] 214\n",
       "\\item[chrGFP\\textbackslash{}\\_rs\\textbackslash{}\\_R882H1.Negative] 212\n",
       "\\item[chrGFP\\textbackslash{}\\_rs\\textbackslash{}\\_R882H3.Negative] 212\n",
       "\\item[chrGFP\\textbackslash{}\\_rs1.Negative] 202\n",
       "\\item[chrGFP\\textbackslash{}\\_rs\\textbackslash{}\\_R882H2.chrGFP\\textbackslash{}\\_rs\\textbackslash{}\\_R882H2] 193\n",
       "\\item[Doublet.chrGFP\\textbackslash{}\\_rs3] 177\n",
       "\\item[chrGFP\\textbackslash{}\\_rs2.Negative] 169\n",
       "\\item[chrGFP\\textbackslash{}\\_rs\\textbackslash{}\\_R882H2.Negative] 169\n",
       "\\item[Doublet.chrGFP\\textbackslash{}\\_rs1] 149\n",
       "\\item[chrGFP\\textbackslash{}\\_WTC.chrGFP\\textbackslash{}\\_WTC] 132\n",
       "\\item[Doublet.chrGFP\\textbackslash{}\\_rs2] 106\n",
       "\\item[chrGFP\\textbackslash{}\\_WTB.Negative] 83\n",
       "\\item[chrGFP\\textbackslash{}\\_WTC.Negative] 80\n",
       "\\item[Doublet.chrGFP\\textbackslash{}\\_WTB] 78\n",
       "\\item[Doublet.chrGFP\\textbackslash{}\\_WTC] 67\n",
       "\\item[chrGFP\\textbackslash{}\\_WTB.chrGFP\\textbackslash{}\\_WTB] 60\n",
       "\\item[chrGFP\\textbackslash{}\\_WTA.chrGFP\\textbackslash{}\\_WTA] 58\n",
       "\\item[Doublet.chrGFP\\textbackslash{}\\_R882H2] 48\n",
       "\\item[chrGFP\\textbackslash{}\\_R882H3.Doublet] 43\n",
       "\\item[chrGFP\\textbackslash{}\\_rs2.chrGFP\\textbackslash{}\\_rs3] 39\n",
       "\\item[Negative.chrGFP\\textbackslash{}\\_rs\\textbackslash{}\\_R882H1] 39\n",
       "\\item[Doublet.chrGFP\\textbackslash{}\\_WTA] 38\n",
       "\\item[chrGFP\\textbackslash{}\\_R882H2.Negative] 37\n",
       "\\item[chrGFP\\textbackslash{}\\_R882H2.chrGFP\\textbackslash{}\\_R882H2] 29\n",
       "\\item[chrGFP\\textbackslash{}\\_WTA.Negative] 25\n",
       "\\item[chrGFP\\textbackslash{}\\_rs3.chrGFP\\textbackslash{}\\_R882H1] 20\n",
       "\\item[chrGFP\\textbackslash{}\\_rs1.chrGFP\\textbackslash{}\\_rs3] 19\n",
       "\\item[Negative.chrGFP\\textbackslash{}\\_rs\\textbackslash{}\\_R882H3] 17\n",
       "\\item[chrGFP\\textbackslash{}\\_rs3.chrGFP\\textbackslash{}\\_rs\\textbackslash{}\\_R882H1] 16\n",
       "\\item[Negative.chrGFP\\textbackslash{}\\_rs\\textbackslash{}\\_R882H2] 16\n",
       "\\item[chrGFP\\textbackslash{}\\_rs3.chrGFP\\textbackslash{}\\_WTC] 14\n",
       "\\item[chrGFP\\textbackslash{}\\_rs\\textbackslash{}\\_R882H1.chrGFP\\textbackslash{}\\_rs3] 14\n",
       "\\item[chrGFP\\textbackslash{}\\_rs3.chrGFP\\textbackslash{}\\_WTB] 13\n",
       "\\item[chrGFP\\textbackslash{}\\_rs\\textbackslash{}\\_R882H2.Doublet] 13\n",
       "\\item[chrGFP\\textbackslash{}\\_rs3.chrGFP\\textbackslash{}\\_rs\\textbackslash{}\\_R882H3] 12\n",
       "\\item[chrGFP\\textbackslash{}\\_rs\\textbackslash{}\\_R882H3.Doublet] 12\n",
       "\\item[chrGFP\\textbackslash{}\\_rs3.chrGFP\\textbackslash{}\\_rs1] 11\n",
       "\\item[chrGFP\\textbackslash{}\\_R882H3.chrGFP\\textbackslash{}\\_rs\\textbackslash{}\\_R882H1] 10\n",
       "\\item[chrGFP\\textbackslash{}\\_rs\\textbackslash{}\\_R882H1.Doublet] 9\n",
       "\\item[chrGFP\\textbackslash{}\\_R882H3.chrGFP\\textbackslash{}\\_rs3] 7\n",
       "\\item[chrGFP\\textbackslash{}\\_rs2.Doublet] 7\n",
       "\\item[chrGFP\\textbackslash{}\\_R882H1.chrGFP\\textbackslash{}\\_rs3] 6\n",
       "\\item[chrGFP\\textbackslash{}\\_rs\\textbackslash{}\\_R882H3.chrGFP\\textbackslash{}\\_rs3] 6\n",
       "\\item[chrGFP\\textbackslash{}\\_WTC.chrGFP\\textbackslash{}\\_rs3] 5\n",
       "\\item[chrGFP\\textbackslash{}\\_rs3.chrGFP\\textbackslash{}\\_rs\\textbackslash{}\\_R882H2] 5\n",
       "\\item[chrGFP\\textbackslash{}\\_rs1.Doublet] 5\n",
       "\\item[Negative.chrGFP\\textbackslash{}\\_rs2] 4\n",
       "\\item[chrGFP\\textbackslash{}\\_rs1.chrGFP\\textbackslash{}\\_rs\\textbackslash{}\\_R882H3] 4\n",
       "\\item[chrGFP\\textbackslash{}\\_R882H1.Doublet] 4\n",
       "\\item[chrGFP\\textbackslash{}\\_R882H3.chrGFP\\textbackslash{}\\_rs1] 3\n",
       "\\item[chrGFP\\textbackslash{}\\_rs\\textbackslash{}\\_R882H2.chrGFP\\textbackslash{}\\_rs3] 3\n",
       "\\item[Negative.chrGFP\\textbackslash{}\\_rs3] 3\n",
       "\\item[chrGFP\\textbackslash{}\\_rs3.chrGFP\\textbackslash{}\\_R882H3] 3\n",
       "\\item[chrGFP\\textbackslash{}\\_R882H1.chrGFP\\textbackslash{}\\_rs2] 2\n",
       "\\item[chrGFP\\textbackslash{}\\_WTA.chrGFP\\textbackslash{}\\_rs3] 2\n",
       "\\item[chrGFP\\textbackslash{}\\_WTC.Doublet] 2\n",
       "\\item[chrGFP\\textbackslash{}\\_rs3.chrGFP\\textbackslash{}\\_WTA] 1\n",
       "\\item[chrGFP\\textbackslash{}\\_R882H3.chrGFP\\textbackslash{}\\_WTA] 1\n",
       "\\item[chrGFP\\textbackslash{}\\_rs1.chrGFP\\textbackslash{}\\_WTB] 1\n",
       "\\item[chrGFP\\textbackslash{}\\_rs1.chrGFP\\textbackslash{}\\_WTC] 1\n",
       "\\item[chrGFP\\textbackslash{}\\_rs\\textbackslash{}\\_R882H1.chrGFP\\textbackslash{}\\_WTC] 1\n",
       "\\item[chrGFP\\textbackslash{}\\_WTC.chrGFP\\textbackslash{}\\_rs1] 1\n",
       "\\item[Negative.chrGFP\\textbackslash{}\\_rs1] 1\n",
       "\\item[chrGFP\\textbackslash{}\\_R882H3.chrGFP\\textbackslash{}\\_rs2] 1\n",
       "\\item[chrGFP\\textbackslash{}\\_WTB.chrGFP\\textbackslash{}\\_rs3] 1\n",
       "\\item[chrGFP\\textbackslash{}\\_R882H2.chrGFP\\textbackslash{}\\_rs3] 1\n",
       "\\item[chrGFP\\textbackslash{}\\_rs1.chrGFP\\textbackslash{}\\_R882H1] 1\n",
       "\\item[chrGFP\\textbackslash{}\\_rs\\textbackslash{}\\_R882H1.chrGFP\\textbackslash{}\\_R882H1] 1\n",
       "\\item[chrGFP\\textbackslash{}\\_rs\\textbackslash{}\\_R882H1.chrGFP\\textbackslash{}\\_R882H2] 1\n",
       "\\item[Negative.chrGFP\\textbackslash{}\\_R882H2] 1\n",
       "\\item[chrGFP\\textbackslash{}\\_WTC.chrGFP\\textbackslash{}\\_R882H3] 1\n",
       "\\item[chrGFP\\textbackslash{}\\_rs2.chrGFP\\textbackslash{}\\_R882H3] 1\n",
       "\\item[chrGFP\\textbackslash{}\\_WTC.chrGFP\\textbackslash{}\\_rs\\textbackslash{}\\_R882H1] 1\n",
       "\\item[chrGFP\\textbackslash{}\\_rs1.chrGFP\\textbackslash{}\\_rs\\textbackslash{}\\_R882H1] 1\n",
       "\\item[chrGFP\\textbackslash{}\\_rs2.chrGFP\\textbackslash{}\\_rs\\textbackslash{}\\_R882H1] 1\n",
       "\\item[chrGFP\\textbackslash{}\\_R882H1.chrGFP\\textbackslash{}\\_rs\\textbackslash{}\\_R882H1] 1\n",
       "\\item[chrGFP\\textbackslash{}\\_rs\\textbackslash{}\\_R882H2.chrGFP\\textbackslash{}\\_rs\\textbackslash{}\\_R882H1] 1\n",
       "\\item[chrGFP\\textbackslash{}\\_rs\\textbackslash{}\\_R882H3.chrGFP\\textbackslash{}\\_rs\\textbackslash{}\\_R882H1] 1\n",
       "\\item[chrGFP\\textbackslash{}\\_WTC.chrGFP\\textbackslash{}\\_rs\\textbackslash{}\\_R882H2] 1\n",
       "\\item[chrGFP\\textbackslash{}\\_R882H3.chrGFP\\textbackslash{}\\_rs\\textbackslash{}\\_R882H2] 1\n",
       "\\item[chrGFP\\textbackslash{}\\_rs2.chrGFP\\textbackslash{}\\_rs\\textbackslash{}\\_R882H3] 1\n",
       "\\item[(Other)] 2\n",
       "\\end{description*}\n"
      ],
      "text/markdown": [
       "Doublet.Doublet\n",
       ":   11164Negative.Negative\n",
       ":   9106chrGFP_rs3.chrGFP_rs3\n",
       ":   5228chrGFP_rs3.Negative\n",
       ":   1482Doublet.Negative\n",
       ":   1385chrGFP_R882H3.Negative\n",
       ":   1334chrGFP_rs_R882H1.chrGFP_rs_R882H1\n",
       ":   701chrGFP_R882H3.chrGFP_R882H3\n",
       ":   609chrGFP_rs1.chrGFP_rs1\n",
       ":   458chrGFP_R882H1.Negative\n",
       ":   457Doublet.chrGFP_rs_R882H3\n",
       ":   396chrGFP_rs2.chrGFP_rs2\n",
       ":   380Doublet.chrGFP_R882H1\n",
       ":   341Doublet.chrGFP_R882H3\n",
       ":   325Doublet.chrGFP_rs_R882H1\n",
       ":   325chrGFP_rs3.Doublet\n",
       ":   315Doublet.chrGFP_rs_R882H2\n",
       ":   298chrGFP_R882H1.chrGFP_R882H1\n",
       ":   247chrGFP_rs_R882H3.chrGFP_rs_R882H3\n",
       ":   214chrGFP_rs_R882H1.Negative\n",
       ":   212chrGFP_rs_R882H3.Negative\n",
       ":   212chrGFP_rs1.Negative\n",
       ":   202chrGFP_rs_R882H2.chrGFP_rs_R882H2\n",
       ":   193Doublet.chrGFP_rs3\n",
       ":   177chrGFP_rs2.Negative\n",
       ":   169chrGFP_rs_R882H2.Negative\n",
       ":   169Doublet.chrGFP_rs1\n",
       ":   149chrGFP_WTC.chrGFP_WTC\n",
       ":   132Doublet.chrGFP_rs2\n",
       ":   106chrGFP_WTB.Negative\n",
       ":   83chrGFP_WTC.Negative\n",
       ":   80Doublet.chrGFP_WTB\n",
       ":   78Doublet.chrGFP_WTC\n",
       ":   67chrGFP_WTB.chrGFP_WTB\n",
       ":   60chrGFP_WTA.chrGFP_WTA\n",
       ":   58Doublet.chrGFP_R882H2\n",
       ":   48chrGFP_R882H3.Doublet\n",
       ":   43chrGFP_rs2.chrGFP_rs3\n",
       ":   39Negative.chrGFP_rs_R882H1\n",
       ":   39Doublet.chrGFP_WTA\n",
       ":   38chrGFP_R882H2.Negative\n",
       ":   37chrGFP_R882H2.chrGFP_R882H2\n",
       ":   29chrGFP_WTA.Negative\n",
       ":   25chrGFP_rs3.chrGFP_R882H1\n",
       ":   20chrGFP_rs1.chrGFP_rs3\n",
       ":   19Negative.chrGFP_rs_R882H3\n",
       ":   17chrGFP_rs3.chrGFP_rs_R882H1\n",
       ":   16Negative.chrGFP_rs_R882H2\n",
       ":   16chrGFP_rs3.chrGFP_WTC\n",
       ":   14chrGFP_rs_R882H1.chrGFP_rs3\n",
       ":   14chrGFP_rs3.chrGFP_WTB\n",
       ":   13chrGFP_rs_R882H2.Doublet\n",
       ":   13chrGFP_rs3.chrGFP_rs_R882H3\n",
       ":   12chrGFP_rs_R882H3.Doublet\n",
       ":   12chrGFP_rs3.chrGFP_rs1\n",
       ":   11chrGFP_R882H3.chrGFP_rs_R882H1\n",
       ":   10chrGFP_rs_R882H1.Doublet\n",
       ":   9chrGFP_R882H3.chrGFP_rs3\n",
       ":   7chrGFP_rs2.Doublet\n",
       ":   7chrGFP_R882H1.chrGFP_rs3\n",
       ":   6chrGFP_rs_R882H3.chrGFP_rs3\n",
       ":   6chrGFP_WTC.chrGFP_rs3\n",
       ":   5chrGFP_rs3.chrGFP_rs_R882H2\n",
       ":   5chrGFP_rs1.Doublet\n",
       ":   5Negative.chrGFP_rs2\n",
       ":   4chrGFP_rs1.chrGFP_rs_R882H3\n",
       ":   4chrGFP_R882H1.Doublet\n",
       ":   4chrGFP_R882H3.chrGFP_rs1\n",
       ":   3chrGFP_rs_R882H2.chrGFP_rs3\n",
       ":   3Negative.chrGFP_rs3\n",
       ":   3chrGFP_rs3.chrGFP_R882H3\n",
       ":   3chrGFP_R882H1.chrGFP_rs2\n",
       ":   2chrGFP_WTA.chrGFP_rs3\n",
       ":   2chrGFP_WTC.Doublet\n",
       ":   2chrGFP_rs3.chrGFP_WTA\n",
       ":   1chrGFP_R882H3.chrGFP_WTA\n",
       ":   1chrGFP_rs1.chrGFP_WTB\n",
       ":   1chrGFP_rs1.chrGFP_WTC\n",
       ":   1chrGFP_rs_R882H1.chrGFP_WTC\n",
       ":   1chrGFP_WTC.chrGFP_rs1\n",
       ":   1Negative.chrGFP_rs1\n",
       ":   1chrGFP_R882H3.chrGFP_rs2\n",
       ":   1chrGFP_WTB.chrGFP_rs3\n",
       ":   1chrGFP_R882H2.chrGFP_rs3\n",
       ":   1chrGFP_rs1.chrGFP_R882H1\n",
       ":   1chrGFP_rs_R882H1.chrGFP_R882H1\n",
       ":   1chrGFP_rs_R882H1.chrGFP_R882H2\n",
       ":   1Negative.chrGFP_R882H2\n",
       ":   1chrGFP_WTC.chrGFP_R882H3\n",
       ":   1chrGFP_rs2.chrGFP_R882H3\n",
       ":   1chrGFP_WTC.chrGFP_rs_R882H1\n",
       ":   1chrGFP_rs1.chrGFP_rs_R882H1\n",
       ":   1chrGFP_rs2.chrGFP_rs_R882H1\n",
       ":   1chrGFP_R882H1.chrGFP_rs_R882H1\n",
       ":   1chrGFP_rs_R882H2.chrGFP_rs_R882H1\n",
       ":   1chrGFP_rs_R882H3.chrGFP_rs_R882H1\n",
       ":   1chrGFP_WTC.chrGFP_rs_R882H2\n",
       ":   1chrGFP_R882H3.chrGFP_rs_R882H2\n",
       ":   1chrGFP_rs2.chrGFP_rs_R882H3\n",
       ":   1(Other)\n",
       ":   2\n",
       "\n"
      ],
      "text/plain": [
       "                  Doublet.Doublet                 Negative.Negative \n",
       "                            11164                              9106 \n",
       "            chrGFP_rs3.chrGFP_rs3               chrGFP_rs3.Negative \n",
       "                             5228                              1482 \n",
       "                 Doublet.Negative            chrGFP_R882H3.Negative \n",
       "                             1385                              1334 \n",
       "chrGFP_rs_R882H1.chrGFP_rs_R882H1       chrGFP_R882H3.chrGFP_R882H3 \n",
       "                              701                               609 \n",
       "            chrGFP_rs1.chrGFP_rs1            chrGFP_R882H1.Negative \n",
       "                              458                               457 \n",
       "         Doublet.chrGFP_rs_R882H3             chrGFP_rs2.chrGFP_rs2 \n",
       "                              396                               380 \n",
       "            Doublet.chrGFP_R882H1             Doublet.chrGFP_R882H3 \n",
       "                              341                               325 \n",
       "         Doublet.chrGFP_rs_R882H1                chrGFP_rs3.Doublet \n",
       "                              325                               315 \n",
       "         Doublet.chrGFP_rs_R882H2       chrGFP_R882H1.chrGFP_R882H1 \n",
       "                              298                               247 \n",
       "chrGFP_rs_R882H3.chrGFP_rs_R882H3         chrGFP_rs_R882H1.Negative \n",
       "                              214                               212 \n",
       "        chrGFP_rs_R882H3.Negative               chrGFP_rs1.Negative \n",
       "                              212                               202 \n",
       "chrGFP_rs_R882H2.chrGFP_rs_R882H2                Doublet.chrGFP_rs3 \n",
       "                              193                               177 \n",
       "              chrGFP_rs2.Negative         chrGFP_rs_R882H2.Negative \n",
       "                              169                               169 \n",
       "               Doublet.chrGFP_rs1             chrGFP_WTC.chrGFP_WTC \n",
       "                              149                               132 \n",
       "               Doublet.chrGFP_rs2               chrGFP_WTB.Negative \n",
       "                              106                                83 \n",
       "              chrGFP_WTC.Negative                Doublet.chrGFP_WTB \n",
       "                               80                                78 \n",
       "               Doublet.chrGFP_WTC             chrGFP_WTB.chrGFP_WTB \n",
       "                               67                                60 \n",
       "            chrGFP_WTA.chrGFP_WTA             Doublet.chrGFP_R882H2 \n",
       "                               58                                48 \n",
       "            chrGFP_R882H3.Doublet             chrGFP_rs2.chrGFP_rs3 \n",
       "                               43                                39 \n",
       "        Negative.chrGFP_rs_R882H1                Doublet.chrGFP_WTA \n",
       "                               39                                38 \n",
       "           chrGFP_R882H2.Negative       chrGFP_R882H2.chrGFP_R882H2 \n",
       "                               37                                29 \n",
       "              chrGFP_WTA.Negative          chrGFP_rs3.chrGFP_R882H1 \n",
       "                               25                                20 \n",
       "            chrGFP_rs1.chrGFP_rs3         Negative.chrGFP_rs_R882H3 \n",
       "                               19                                17 \n",
       "      chrGFP_rs3.chrGFP_rs_R882H1         Negative.chrGFP_rs_R882H2 \n",
       "                               16                                16 \n",
       "            chrGFP_rs3.chrGFP_WTC       chrGFP_rs_R882H1.chrGFP_rs3 \n",
       "                               14                                14 \n",
       "            chrGFP_rs3.chrGFP_WTB          chrGFP_rs_R882H2.Doublet \n",
       "                               13                                13 \n",
       "      chrGFP_rs3.chrGFP_rs_R882H3          chrGFP_rs_R882H3.Doublet \n",
       "                               12                                12 \n",
       "            chrGFP_rs3.chrGFP_rs1    chrGFP_R882H3.chrGFP_rs_R882H1 \n",
       "                               11                                10 \n",
       "         chrGFP_rs_R882H1.Doublet          chrGFP_R882H3.chrGFP_rs3 \n",
       "                                9                                 7 \n",
       "               chrGFP_rs2.Doublet          chrGFP_R882H1.chrGFP_rs3 \n",
       "                                7                                 6 \n",
       "      chrGFP_rs_R882H3.chrGFP_rs3             chrGFP_WTC.chrGFP_rs3 \n",
       "                                6                                 5 \n",
       "      chrGFP_rs3.chrGFP_rs_R882H2                chrGFP_rs1.Doublet \n",
       "                                5                                 5 \n",
       "              Negative.chrGFP_rs2       chrGFP_rs1.chrGFP_rs_R882H3 \n",
       "                                4                                 4 \n",
       "            chrGFP_R882H1.Doublet          chrGFP_R882H3.chrGFP_rs1 \n",
       "                                4                                 3 \n",
       "      chrGFP_rs_R882H2.chrGFP_rs3               Negative.chrGFP_rs3 \n",
       "                                3                                 3 \n",
       "         chrGFP_rs3.chrGFP_R882H3          chrGFP_R882H1.chrGFP_rs2 \n",
       "                                3                                 2 \n",
       "            chrGFP_WTA.chrGFP_rs3                chrGFP_WTC.Doublet \n",
       "                                2                                 2 \n",
       "            chrGFP_rs3.chrGFP_WTA          chrGFP_R882H3.chrGFP_WTA \n",
       "                                1                                 1 \n",
       "            chrGFP_rs1.chrGFP_WTB             chrGFP_rs1.chrGFP_WTC \n",
       "                                1                                 1 \n",
       "      chrGFP_rs_R882H1.chrGFP_WTC             chrGFP_WTC.chrGFP_rs1 \n",
       "                                1                                 1 \n",
       "              Negative.chrGFP_rs1          chrGFP_R882H3.chrGFP_rs2 \n",
       "                                1                                 1 \n",
       "            chrGFP_WTB.chrGFP_rs3          chrGFP_R882H2.chrGFP_rs3 \n",
       "                                1                                 1 \n",
       "         chrGFP_rs1.chrGFP_R882H1    chrGFP_rs_R882H1.chrGFP_R882H1 \n",
       "                                1                                 1 \n",
       "   chrGFP_rs_R882H1.chrGFP_R882H2            Negative.chrGFP_R882H2 \n",
       "                                1                                 1 \n",
       "         chrGFP_WTC.chrGFP_R882H3          chrGFP_rs2.chrGFP_R882H3 \n",
       "                                1                                 1 \n",
       "      chrGFP_WTC.chrGFP_rs_R882H1       chrGFP_rs1.chrGFP_rs_R882H1 \n",
       "                                1                                 1 \n",
       "      chrGFP_rs2.chrGFP_rs_R882H1    chrGFP_R882H1.chrGFP_rs_R882H1 \n",
       "                                1                                 1 \n",
       "chrGFP_rs_R882H2.chrGFP_rs_R882H1 chrGFP_rs_R882H3.chrGFP_rs_R882H1 \n",
       "                                1                                 1 \n",
       "      chrGFP_WTC.chrGFP_rs_R882H2    chrGFP_R882H3.chrGFP_rs_R882H2 \n",
       "                                1                                 1 \n",
       "      chrGFP_rs2.chrGFP_rs_R882H3                           (Other) \n",
       "                                1                                 2 "
      ]
     },
     "metadata": {},
     "output_type": "display_data"
    }
   ],
   "source": [
    "summary(droplevels(interaction(adata@meta.data$Assigned_GFPbc_demux_NO_CB, adata@meta.data$Assigned_GFPbc_demux_CB)))"
   ]
  },
  {
   "cell_type": "markdown",
   "id": "27355519-bfaa-407b-9ba2-46da8eeb1a82",
   "metadata": {},
   "source": [
    "## Compare results between Paola from GEX and demux pre and post CB assignations"
   ]
  },
  {
   "cell_type": "code",
   "execution_count": 184,
   "id": "b6b5be7f-6bef-463b-8e0c-cd1dea55ac13",
   "metadata": {
    "execution": {
     "iopub.execute_input": "2025-02-03T17:25:18.321966Z",
     "iopub.status.busy": "2025-02-03T17:25:18.320921Z",
     "iopub.status.idle": "2025-02-03T17:25:18.343107Z",
     "shell.execute_reply": "2025-02-03T17:25:18.342015Z"
    }
   },
   "outputs": [
    {
     "data": {
      "text/html": [
       "<style>\n",
       ".dl-inline {width: auto; margin:0; padding: 0}\n",
       ".dl-inline>dt, .dl-inline>dd {float: none; width: auto; display: inline-block}\n",
       ".dl-inline>dt::after {content: \":\\0020\"; padding-right: .5ex}\n",
       ".dl-inline>dt:not(:first-of-type) {padding-left: .5ex}\n",
       "</style><dl class=dl-inline><dt>Genotype missing...Doublet...Doublet</dt><dd>10781</dd><dt>Genotype missing...Negative...Negative</dt><dd>8456</dd><dt>Genotype missing...chrGFP_rs3...chrGFP_rs3</dt><dd>4554</dd><dt>Genotype missing...Doublet...Negative</dt><dd>1357</dd><dt>Genotype missing...chrGFP_R882H3...Negative</dt><dd>1313</dd><dt>Genotype missing...chrGFP_rs3...Negative</dt><dd>1283</dd><dt>Genotype missing...chrGFP_rs_R882H1...chrGFP_rs_R882H1</dt><dd>626</dd><dt>chrGFP_rs3...chrGFP_rs3...chrGFP_rs3</dt><dd>624</dd><dt>Genotype missing...chrGFP_R882H3...chrGFP_R882H3</dt><dd>554</dd><dt>chrGFP_rs3...Negative...Negative</dt><dd>503</dd><dt>Genotype missing...chrGFP_R882H1...Negative</dt><dd>439</dd><dt>Genotype missing...chrGFP_rs1...chrGFP_rs1</dt><dd>414</dd><dt>Genotype missing...Doublet...chrGFP_rs_R882H3</dt><dd>373</dd><dt>Genotype missing...chrGFP_rs2...chrGFP_rs2</dt><dd>346</dd><dt>Genotype missing...Doublet...chrGFP_R882H1</dt><dd>321</dd><dt>Genotype missing...Doublet...chrGFP_R882H3</dt><dd>316</dd><dt>Genotype missing...Doublet...chrGFP_rs_R882H1</dt><dd>298</dd><dt>Genotype missing...chrGFP_rs3...Doublet</dt><dd>283</dd><dt>Genotype missing...Doublet...chrGFP_rs_R882H2</dt><dd>279</dd><dt>Genotype missing...chrGFP_R882H1...chrGFP_R882H1</dt><dd>223</dd><dt>Genotype missing...chrGFP_rs_R882H3...Negative</dt><dd>204</dd><dt>Genotype missing...chrGFP_rs_R882H1...Negative</dt><dd>195</dd><dt>Genotype missing...chrGFP_rs_R882H3...chrGFP_rs_R882H3</dt><dd>189</dd><dt>Genotype missing...chrGFP_rs1...Negative</dt><dd>182</dd><dt>chrGFP_rs3...chrGFP_rs3...Negative</dt><dd>174</dd><dt>Genotype missing...chrGFP_rs_R882H2...chrGFP_rs_R882H2</dt><dd>170</dd><dt>Genotype missing...Doublet...chrGFP_rs3</dt><dd>164</dd><dt>Genotype missing...chrGFP_rs_R882H2...Negative</dt><dd>161</dd><dt>chrGFP_rs3...Doublet...Doublet</dt><dd>154</dd><dt>Genotype missing...chrGFP_rs2...Negative</dt><dd>154</dd><dt>Genotype missing...Doublet...chrGFP_rs1</dt><dd>126</dd><dt>Genotype missing...chrGFP_WTC...chrGFP_WTC</dt><dd>121</dd><dt>Genotype missing...Doublet...chrGFP_rs2</dt><dd>95</dd><dt>Genotype missing...chrGFP_WTB...Negative</dt><dd>79</dd><dt>Genotype missing...chrGFP_WTC...Negative</dt><dd>74</dd><dt>Genotype missing...Doublet...chrGFP_WTB</dt><dd>73</dd><dt>chrGFP_rs_R882H1...chrGFP_rs_R882H1...chrGFP_rs_R882H1</dt><dd>65</dd><dt>Genotype missing...Doublet...chrGFP_WTC</dt><dd>63</dd><dt>chrGFP_rs_R882H1...Doublet...Doublet</dt><dd>59</dd><dt>Genotype missing...chrGFP_WTA...chrGFP_WTA</dt><dd>53</dd><dt>Genotype missing...chrGFP_WTB...chrGFP_WTB</dt><dd>53</dd><dt>chrGFP_R882H3...chrGFP_R882H3...chrGFP_R882H3</dt><dd>53</dd><dt>Genotype missing...Doublet...chrGFP_R882H2</dt><dd>48</dd><dt>chrGFP_rs_R882H1...Negative...Negative</dt><dd>44</dd><dt>Genotype missing...chrGFP_R882H3...Doublet</dt><dd>39</dd><dt>Genotype missing...Doublet...chrGFP_WTA</dt><dd>38</dd><dt>Genotype missing...chrGFP_rs2...chrGFP_rs3</dt><dd>37</dd><dt>chrGFP_rs2...Negative...Negative</dt><dd>37</dd><dt>chrGFP_rs2...Doublet...Doublet</dt><dd>36</dd><dt>Genotype missing...chrGFP_R882H2...Negative</dt><dd>36</dd><dt>Genotype missing...Negative...chrGFP_rs_R882H1</dt><dd>35</dd><dt>chrGFP_R882H1...Doublet...Doublet</dt><dd>32</dd><dt>chrGFP_rs3...chrGFP_rs3...Doublet</dt><dd>29</dd><dt>Genotype missing...chrGFP_R882H2...chrGFP_R882H2</dt><dd>28</dd><dt>chrGFP_rs1...Negative...Negative</dt><dd>25</dd><dt>chrGFP_rs_R882H1...Doublet...chrGFP_rs_R882H1</dt><dd>24</dd><dt>chrGFP_rs_R882H3...chrGFP_rs_R882H3...chrGFP_rs_R882H3</dt><dd>23</dd><dt>chrGFP_rs1...Doublet...Doublet</dt><dd>23</dd><dt>Genotype missing...chrGFP_WTA...Negative</dt><dd>23</dd><dt>chrGFP_rs3...chrGFP_rs1...chrGFP_rs1</dt><dd>22</dd><dt>chrGFP_rs_R882H2...chrGFP_rs_R882H2...chrGFP_rs_R882H2</dt><dd>22</dd><dt>chrGFP_rs_R882H3...Doublet...chrGFP_rs_R882H3</dt><dd>22</dd><dt>chrGFP_R882H1...chrGFP_R882H1...chrGFP_R882H1</dt><dd>21</dd><dt>chrGFP_rs_R882H2...Doublet...Doublet</dt><dd>21</dd><dt>chrGFP_rs1...chrGFP_rs1...chrGFP_rs1</dt><dd>20</dd><dt>chrGFP_rs2...chrGFP_rs2...chrGFP_rs2</dt><dd>20</dd><dt>chrGFP_R882H3...Doublet...Doublet</dt><dd>20</dd><dt>Genotype missing...chrGFP_rs1...chrGFP_rs3</dt><dd>19</dd><dt>Genotype missing...chrGFP_rs3...chrGFP_R882H1</dt><dd>19</dd><dt>chrGFP_rs_R882H2...Doublet...chrGFP_rs_R882H2</dt><dd>19</dd><dt>chrGFP_R882H1...Doublet...chrGFP_R882H1</dt><dd>17</dd><dt>Genotype missing...Negative...chrGFP_rs_R882H3</dt><dd>17</dd><dt>chrGFP_rs1...chrGFP_rs3...chrGFP_rs3</dt><dd>15</dd><dt>Genotype missing...chrGFP_rs3...chrGFP_rs_R882H1</dt><dd>15</dd><dt>chrGFP_rs1...Doublet...chrGFP_rs1</dt><dd>14</dd><dt>Genotype missing...chrGFP_rs_R882H1...chrGFP_rs3</dt><dd>14</dd><dt>Genotype missing...Negative...chrGFP_rs_R882H2</dt><dd>14</dd><dt>chrGFP_rs_R882H3...Doublet...Doublet</dt><dd>14</dd><dt>chrGFP_rs3...chrGFP_rs1...Negative</dt><dd>14</dd><dt>chrGFP_R882H3...chrGFP_R882H3...Negative</dt><dd>14</dd><dt>chrGFP_rs3...chrGFP_rs2...chrGFP_rs2</dt><dd>13</dd><dt>chrGFP_rs2...chrGFP_rs3...chrGFP_rs3</dt><dd>13</dd><dt>chrGFP_rs3...Doublet...chrGFP_rs3</dt><dd>13</dd><dt>Genotype missing...chrGFP_rs_R882H2...Doublet</dt><dd>13</dd><dt>chrGFP_rs_R882H1...chrGFP_rs_R882H1...Negative</dt><dd>13</dd><dt>Genotype missing...chrGFP_rs_R882H3...Doublet</dt><dd>12</dd><dt>chrGFP_R882H1...Negative...Negative</dt><dd>12</dd><dt>Genotype missing...chrGFP_rs3...chrGFP_WTC</dt><dd>11</dd><dt>Genotype missing...chrGFP_rs3...chrGFP_rs_R882H3</dt><dd>11</dd><dt>chrGFP_R882H1...chrGFP_R882H1...Negative</dt><dd>11</dd><dt>chrGFP_rs_R882H1...chrGFP_rs3...chrGFP_rs3</dt><dd>10</dd><dt>Genotype missing...chrGFP_R882H3...chrGFP_rs_R882H1</dt><dd>10</dd><dt>Genotype missing...chrGFP_rs3...chrGFP_WTB</dt><dd>9</dd><dt>Genotype missing...chrGFP_rs3...chrGFP_rs1</dt><dd>9</dd><dt>chrGFP_rs2...Doublet...chrGFP_rs2</dt><dd>9</dd><dt>Genotype missing...chrGFP_rs_R882H1...Doublet</dt><dd>9</dd><dt>chrGFP_WTC...Doublet...Doublet</dt><dd>9</dd><dt>chrGFP_rs3...Doublet...chrGFP_rs1</dt><dd>8</dd><dt>chrGFP_R882H3...Doublet...chrGFP_R882H3</dt><dd>8</dd><dt>(Other)</dt><dd>367</dd></dl>\n"
      ],
      "text/latex": [
       "\\begin{description*}\n",
       "\\item[Genotype missing...Doublet...Doublet] 10781\n",
       "\\item[Genotype missing...Negative...Negative] 8456\n",
       "\\item[Genotype missing...chrGFP\\textbackslash{}\\_rs3...chrGFP\\textbackslash{}\\_rs3] 4554\n",
       "\\item[Genotype missing...Doublet...Negative] 1357\n",
       "\\item[Genotype missing...chrGFP\\textbackslash{}\\_R882H3...Negative] 1313\n",
       "\\item[Genotype missing...chrGFP\\textbackslash{}\\_rs3...Negative] 1283\n",
       "\\item[Genotype missing...chrGFP\\textbackslash{}\\_rs\\textbackslash{}\\_R882H1...chrGFP\\textbackslash{}\\_rs\\textbackslash{}\\_R882H1] 626\n",
       "\\item[chrGFP\\textbackslash{}\\_rs3...chrGFP\\textbackslash{}\\_rs3...chrGFP\\textbackslash{}\\_rs3] 624\n",
       "\\item[Genotype missing...chrGFP\\textbackslash{}\\_R882H3...chrGFP\\textbackslash{}\\_R882H3] 554\n",
       "\\item[chrGFP\\textbackslash{}\\_rs3...Negative...Negative] 503\n",
       "\\item[Genotype missing...chrGFP\\textbackslash{}\\_R882H1...Negative] 439\n",
       "\\item[Genotype missing...chrGFP\\textbackslash{}\\_rs1...chrGFP\\textbackslash{}\\_rs1] 414\n",
       "\\item[Genotype missing...Doublet...chrGFP\\textbackslash{}\\_rs\\textbackslash{}\\_R882H3] 373\n",
       "\\item[Genotype missing...chrGFP\\textbackslash{}\\_rs2...chrGFP\\textbackslash{}\\_rs2] 346\n",
       "\\item[Genotype missing...Doublet...chrGFP\\textbackslash{}\\_R882H1] 321\n",
       "\\item[Genotype missing...Doublet...chrGFP\\textbackslash{}\\_R882H3] 316\n",
       "\\item[Genotype missing...Doublet...chrGFP\\textbackslash{}\\_rs\\textbackslash{}\\_R882H1] 298\n",
       "\\item[Genotype missing...chrGFP\\textbackslash{}\\_rs3...Doublet] 283\n",
       "\\item[Genotype missing...Doublet...chrGFP\\textbackslash{}\\_rs\\textbackslash{}\\_R882H2] 279\n",
       "\\item[Genotype missing...chrGFP\\textbackslash{}\\_R882H1...chrGFP\\textbackslash{}\\_R882H1] 223\n",
       "\\item[Genotype missing...chrGFP\\textbackslash{}\\_rs\\textbackslash{}\\_R882H3...Negative] 204\n",
       "\\item[Genotype missing...chrGFP\\textbackslash{}\\_rs\\textbackslash{}\\_R882H1...Negative] 195\n",
       "\\item[Genotype missing...chrGFP\\textbackslash{}\\_rs\\textbackslash{}\\_R882H3...chrGFP\\textbackslash{}\\_rs\\textbackslash{}\\_R882H3] 189\n",
       "\\item[Genotype missing...chrGFP\\textbackslash{}\\_rs1...Negative] 182\n",
       "\\item[chrGFP\\textbackslash{}\\_rs3...chrGFP\\textbackslash{}\\_rs3...Negative] 174\n",
       "\\item[Genotype missing...chrGFP\\textbackslash{}\\_rs\\textbackslash{}\\_R882H2...chrGFP\\textbackslash{}\\_rs\\textbackslash{}\\_R882H2] 170\n",
       "\\item[Genotype missing...Doublet...chrGFP\\textbackslash{}\\_rs3] 164\n",
       "\\item[Genotype missing...chrGFP\\textbackslash{}\\_rs\\textbackslash{}\\_R882H2...Negative] 161\n",
       "\\item[chrGFP\\textbackslash{}\\_rs3...Doublet...Doublet] 154\n",
       "\\item[Genotype missing...chrGFP\\textbackslash{}\\_rs2...Negative] 154\n",
       "\\item[Genotype missing...Doublet...chrGFP\\textbackslash{}\\_rs1] 126\n",
       "\\item[Genotype missing...chrGFP\\textbackslash{}\\_WTC...chrGFP\\textbackslash{}\\_WTC] 121\n",
       "\\item[Genotype missing...Doublet...chrGFP\\textbackslash{}\\_rs2] 95\n",
       "\\item[Genotype missing...chrGFP\\textbackslash{}\\_WTB...Negative] 79\n",
       "\\item[Genotype missing...chrGFP\\textbackslash{}\\_WTC...Negative] 74\n",
       "\\item[Genotype missing...Doublet...chrGFP\\textbackslash{}\\_WTB] 73\n",
       "\\item[chrGFP\\textbackslash{}\\_rs\\textbackslash{}\\_R882H1...chrGFP\\textbackslash{}\\_rs\\textbackslash{}\\_R882H1...chrGFP\\textbackslash{}\\_rs\\textbackslash{}\\_R882H1] 65\n",
       "\\item[Genotype missing...Doublet...chrGFP\\textbackslash{}\\_WTC] 63\n",
       "\\item[chrGFP\\textbackslash{}\\_rs\\textbackslash{}\\_R882H1...Doublet...Doublet] 59\n",
       "\\item[Genotype missing...chrGFP\\textbackslash{}\\_WTA...chrGFP\\textbackslash{}\\_WTA] 53\n",
       "\\item[Genotype missing...chrGFP\\textbackslash{}\\_WTB...chrGFP\\textbackslash{}\\_WTB] 53\n",
       "\\item[chrGFP\\textbackslash{}\\_R882H3...chrGFP\\textbackslash{}\\_R882H3...chrGFP\\textbackslash{}\\_R882H3] 53\n",
       "\\item[Genotype missing...Doublet...chrGFP\\textbackslash{}\\_R882H2] 48\n",
       "\\item[chrGFP\\textbackslash{}\\_rs\\textbackslash{}\\_R882H1...Negative...Negative] 44\n",
       "\\item[Genotype missing...chrGFP\\textbackslash{}\\_R882H3...Doublet] 39\n",
       "\\item[Genotype missing...Doublet...chrGFP\\textbackslash{}\\_WTA] 38\n",
       "\\item[Genotype missing...chrGFP\\textbackslash{}\\_rs2...chrGFP\\textbackslash{}\\_rs3] 37\n",
       "\\item[chrGFP\\textbackslash{}\\_rs2...Negative...Negative] 37\n",
       "\\item[chrGFP\\textbackslash{}\\_rs2...Doublet...Doublet] 36\n",
       "\\item[Genotype missing...chrGFP\\textbackslash{}\\_R882H2...Negative] 36\n",
       "\\item[Genotype missing...Negative...chrGFP\\textbackslash{}\\_rs\\textbackslash{}\\_R882H1] 35\n",
       "\\item[chrGFP\\textbackslash{}\\_R882H1...Doublet...Doublet] 32\n",
       "\\item[chrGFP\\textbackslash{}\\_rs3...chrGFP\\textbackslash{}\\_rs3...Doublet] 29\n",
       "\\item[Genotype missing...chrGFP\\textbackslash{}\\_R882H2...chrGFP\\textbackslash{}\\_R882H2] 28\n",
       "\\item[chrGFP\\textbackslash{}\\_rs1...Negative...Negative] 25\n",
       "\\item[chrGFP\\textbackslash{}\\_rs\\textbackslash{}\\_R882H1...Doublet...chrGFP\\textbackslash{}\\_rs\\textbackslash{}\\_R882H1] 24\n",
       "\\item[chrGFP\\textbackslash{}\\_rs\\textbackslash{}\\_R882H3...chrGFP\\textbackslash{}\\_rs\\textbackslash{}\\_R882H3...chrGFP\\textbackslash{}\\_rs\\textbackslash{}\\_R882H3] 23\n",
       "\\item[chrGFP\\textbackslash{}\\_rs1...Doublet...Doublet] 23\n",
       "\\item[Genotype missing...chrGFP\\textbackslash{}\\_WTA...Negative] 23\n",
       "\\item[chrGFP\\textbackslash{}\\_rs3...chrGFP\\textbackslash{}\\_rs1...chrGFP\\textbackslash{}\\_rs1] 22\n",
       "\\item[chrGFP\\textbackslash{}\\_rs\\textbackslash{}\\_R882H2...chrGFP\\textbackslash{}\\_rs\\textbackslash{}\\_R882H2...chrGFP\\textbackslash{}\\_rs\\textbackslash{}\\_R882H2] 22\n",
       "\\item[chrGFP\\textbackslash{}\\_rs\\textbackslash{}\\_R882H3...Doublet...chrGFP\\textbackslash{}\\_rs\\textbackslash{}\\_R882H3] 22\n",
       "\\item[chrGFP\\textbackslash{}\\_R882H1...chrGFP\\textbackslash{}\\_R882H1...chrGFP\\textbackslash{}\\_R882H1] 21\n",
       "\\item[chrGFP\\textbackslash{}\\_rs\\textbackslash{}\\_R882H2...Doublet...Doublet] 21\n",
       "\\item[chrGFP\\textbackslash{}\\_rs1...chrGFP\\textbackslash{}\\_rs1...chrGFP\\textbackslash{}\\_rs1] 20\n",
       "\\item[chrGFP\\textbackslash{}\\_rs2...chrGFP\\textbackslash{}\\_rs2...chrGFP\\textbackslash{}\\_rs2] 20\n",
       "\\item[chrGFP\\textbackslash{}\\_R882H3...Doublet...Doublet] 20\n",
       "\\item[Genotype missing...chrGFP\\textbackslash{}\\_rs1...chrGFP\\textbackslash{}\\_rs3] 19\n",
       "\\item[Genotype missing...chrGFP\\textbackslash{}\\_rs3...chrGFP\\textbackslash{}\\_R882H1] 19\n",
       "\\item[chrGFP\\textbackslash{}\\_rs\\textbackslash{}\\_R882H2...Doublet...chrGFP\\textbackslash{}\\_rs\\textbackslash{}\\_R882H2] 19\n",
       "\\item[chrGFP\\textbackslash{}\\_R882H1...Doublet...chrGFP\\textbackslash{}\\_R882H1] 17\n",
       "\\item[Genotype missing...Negative...chrGFP\\textbackslash{}\\_rs\\textbackslash{}\\_R882H3] 17\n",
       "\\item[chrGFP\\textbackslash{}\\_rs1...chrGFP\\textbackslash{}\\_rs3...chrGFP\\textbackslash{}\\_rs3] 15\n",
       "\\item[Genotype missing...chrGFP\\textbackslash{}\\_rs3...chrGFP\\textbackslash{}\\_rs\\textbackslash{}\\_R882H1] 15\n",
       "\\item[chrGFP\\textbackslash{}\\_rs1...Doublet...chrGFP\\textbackslash{}\\_rs1] 14\n",
       "\\item[Genotype missing...chrGFP\\textbackslash{}\\_rs\\textbackslash{}\\_R882H1...chrGFP\\textbackslash{}\\_rs3] 14\n",
       "\\item[Genotype missing...Negative...chrGFP\\textbackslash{}\\_rs\\textbackslash{}\\_R882H2] 14\n",
       "\\item[chrGFP\\textbackslash{}\\_rs\\textbackslash{}\\_R882H3...Doublet...Doublet] 14\n",
       "\\item[chrGFP\\textbackslash{}\\_rs3...chrGFP\\textbackslash{}\\_rs1...Negative] 14\n",
       "\\item[chrGFP\\textbackslash{}\\_R882H3...chrGFP\\textbackslash{}\\_R882H3...Negative] 14\n",
       "\\item[chrGFP\\textbackslash{}\\_rs3...chrGFP\\textbackslash{}\\_rs2...chrGFP\\textbackslash{}\\_rs2] 13\n",
       "\\item[chrGFP\\textbackslash{}\\_rs2...chrGFP\\textbackslash{}\\_rs3...chrGFP\\textbackslash{}\\_rs3] 13\n",
       "\\item[chrGFP\\textbackslash{}\\_rs3...Doublet...chrGFP\\textbackslash{}\\_rs3] 13\n",
       "\\item[Genotype missing...chrGFP\\textbackslash{}\\_rs\\textbackslash{}\\_R882H2...Doublet] 13\n",
       "\\item[chrGFP\\textbackslash{}\\_rs\\textbackslash{}\\_R882H1...chrGFP\\textbackslash{}\\_rs\\textbackslash{}\\_R882H1...Negative] 13\n",
       "\\item[Genotype missing...chrGFP\\textbackslash{}\\_rs\\textbackslash{}\\_R882H3...Doublet] 12\n",
       "\\item[chrGFP\\textbackslash{}\\_R882H1...Negative...Negative] 12\n",
       "\\item[Genotype missing...chrGFP\\textbackslash{}\\_rs3...chrGFP\\textbackslash{}\\_WTC] 11\n",
       "\\item[Genotype missing...chrGFP\\textbackslash{}\\_rs3...chrGFP\\textbackslash{}\\_rs\\textbackslash{}\\_R882H3] 11\n",
       "\\item[chrGFP\\textbackslash{}\\_R882H1...chrGFP\\textbackslash{}\\_R882H1...Negative] 11\n",
       "\\item[chrGFP\\textbackslash{}\\_rs\\textbackslash{}\\_R882H1...chrGFP\\textbackslash{}\\_rs3...chrGFP\\textbackslash{}\\_rs3] 10\n",
       "\\item[Genotype missing...chrGFP\\textbackslash{}\\_R882H3...chrGFP\\textbackslash{}\\_rs\\textbackslash{}\\_R882H1] 10\n",
       "\\item[Genotype missing...chrGFP\\textbackslash{}\\_rs3...chrGFP\\textbackslash{}\\_WTB] 9\n",
       "\\item[Genotype missing...chrGFP\\textbackslash{}\\_rs3...chrGFP\\textbackslash{}\\_rs1] 9\n",
       "\\item[chrGFP\\textbackslash{}\\_rs2...Doublet...chrGFP\\textbackslash{}\\_rs2] 9\n",
       "\\item[Genotype missing...chrGFP\\textbackslash{}\\_rs\\textbackslash{}\\_R882H1...Doublet] 9\n",
       "\\item[chrGFP\\textbackslash{}\\_WTC...Doublet...Doublet] 9\n",
       "\\item[chrGFP\\textbackslash{}\\_rs3...Doublet...chrGFP\\textbackslash{}\\_rs1] 8\n",
       "\\item[chrGFP\\textbackslash{}\\_R882H3...Doublet...chrGFP\\textbackslash{}\\_R882H3] 8\n",
       "\\item[(Other)] 367\n",
       "\\end{description*}\n"
      ],
      "text/markdown": [
       "Genotype missing...Doublet...Doublet\n",
       ":   10781Genotype missing...Negative...Negative\n",
       ":   8456Genotype missing...chrGFP_rs3...chrGFP_rs3\n",
       ":   4554Genotype missing...Doublet...Negative\n",
       ":   1357Genotype missing...chrGFP_R882H3...Negative\n",
       ":   1313Genotype missing...chrGFP_rs3...Negative\n",
       ":   1283Genotype missing...chrGFP_rs_R882H1...chrGFP_rs_R882H1\n",
       ":   626chrGFP_rs3...chrGFP_rs3...chrGFP_rs3\n",
       ":   624Genotype missing...chrGFP_R882H3...chrGFP_R882H3\n",
       ":   554chrGFP_rs3...Negative...Negative\n",
       ":   503Genotype missing...chrGFP_R882H1...Negative\n",
       ":   439Genotype missing...chrGFP_rs1...chrGFP_rs1\n",
       ":   414Genotype missing...Doublet...chrGFP_rs_R882H3\n",
       ":   373Genotype missing...chrGFP_rs2...chrGFP_rs2\n",
       ":   346Genotype missing...Doublet...chrGFP_R882H1\n",
       ":   321Genotype missing...Doublet...chrGFP_R882H3\n",
       ":   316Genotype missing...Doublet...chrGFP_rs_R882H1\n",
       ":   298Genotype missing...chrGFP_rs3...Doublet\n",
       ":   283Genotype missing...Doublet...chrGFP_rs_R882H2\n",
       ":   279Genotype missing...chrGFP_R882H1...chrGFP_R882H1\n",
       ":   223Genotype missing...chrGFP_rs_R882H3...Negative\n",
       ":   204Genotype missing...chrGFP_rs_R882H1...Negative\n",
       ":   195Genotype missing...chrGFP_rs_R882H3...chrGFP_rs_R882H3\n",
       ":   189Genotype missing...chrGFP_rs1...Negative\n",
       ":   182chrGFP_rs3...chrGFP_rs3...Negative\n",
       ":   174Genotype missing...chrGFP_rs_R882H2...chrGFP_rs_R882H2\n",
       ":   170Genotype missing...Doublet...chrGFP_rs3\n",
       ":   164Genotype missing...chrGFP_rs_R882H2...Negative\n",
       ":   161chrGFP_rs3...Doublet...Doublet\n",
       ":   154Genotype missing...chrGFP_rs2...Negative\n",
       ":   154Genotype missing...Doublet...chrGFP_rs1\n",
       ":   126Genotype missing...chrGFP_WTC...chrGFP_WTC\n",
       ":   121Genotype missing...Doublet...chrGFP_rs2\n",
       ":   95Genotype missing...chrGFP_WTB...Negative\n",
       ":   79Genotype missing...chrGFP_WTC...Negative\n",
       ":   74Genotype missing...Doublet...chrGFP_WTB\n",
       ":   73chrGFP_rs_R882H1...chrGFP_rs_R882H1...chrGFP_rs_R882H1\n",
       ":   65Genotype missing...Doublet...chrGFP_WTC\n",
       ":   63chrGFP_rs_R882H1...Doublet...Doublet\n",
       ":   59Genotype missing...chrGFP_WTA...chrGFP_WTA\n",
       ":   53Genotype missing...chrGFP_WTB...chrGFP_WTB\n",
       ":   53chrGFP_R882H3...chrGFP_R882H3...chrGFP_R882H3\n",
       ":   53Genotype missing...Doublet...chrGFP_R882H2\n",
       ":   48chrGFP_rs_R882H1...Negative...Negative\n",
       ":   44Genotype missing...chrGFP_R882H3...Doublet\n",
       ":   39Genotype missing...Doublet...chrGFP_WTA\n",
       ":   38Genotype missing...chrGFP_rs2...chrGFP_rs3\n",
       ":   37chrGFP_rs2...Negative...Negative\n",
       ":   37chrGFP_rs2...Doublet...Doublet\n",
       ":   36Genotype missing...chrGFP_R882H2...Negative\n",
       ":   36Genotype missing...Negative...chrGFP_rs_R882H1\n",
       ":   35chrGFP_R882H1...Doublet...Doublet\n",
       ":   32chrGFP_rs3...chrGFP_rs3...Doublet\n",
       ":   29Genotype missing...chrGFP_R882H2...chrGFP_R882H2\n",
       ":   28chrGFP_rs1...Negative...Negative\n",
       ":   25chrGFP_rs_R882H1...Doublet...chrGFP_rs_R882H1\n",
       ":   24chrGFP_rs_R882H3...chrGFP_rs_R882H3...chrGFP_rs_R882H3\n",
       ":   23chrGFP_rs1...Doublet...Doublet\n",
       ":   23Genotype missing...chrGFP_WTA...Negative\n",
       ":   23chrGFP_rs3...chrGFP_rs1...chrGFP_rs1\n",
       ":   22chrGFP_rs_R882H2...chrGFP_rs_R882H2...chrGFP_rs_R882H2\n",
       ":   22chrGFP_rs_R882H3...Doublet...chrGFP_rs_R882H3\n",
       ":   22chrGFP_R882H1...chrGFP_R882H1...chrGFP_R882H1\n",
       ":   21chrGFP_rs_R882H2...Doublet...Doublet\n",
       ":   21chrGFP_rs1...chrGFP_rs1...chrGFP_rs1\n",
       ":   20chrGFP_rs2...chrGFP_rs2...chrGFP_rs2\n",
       ":   20chrGFP_R882H3...Doublet...Doublet\n",
       ":   20Genotype missing...chrGFP_rs1...chrGFP_rs3\n",
       ":   19Genotype missing...chrGFP_rs3...chrGFP_R882H1\n",
       ":   19chrGFP_rs_R882H2...Doublet...chrGFP_rs_R882H2\n",
       ":   19chrGFP_R882H1...Doublet...chrGFP_R882H1\n",
       ":   17Genotype missing...Negative...chrGFP_rs_R882H3\n",
       ":   17chrGFP_rs1...chrGFP_rs3...chrGFP_rs3\n",
       ":   15Genotype missing...chrGFP_rs3...chrGFP_rs_R882H1\n",
       ":   15chrGFP_rs1...Doublet...chrGFP_rs1\n",
       ":   14Genotype missing...chrGFP_rs_R882H1...chrGFP_rs3\n",
       ":   14Genotype missing...Negative...chrGFP_rs_R882H2\n",
       ":   14chrGFP_rs_R882H3...Doublet...Doublet\n",
       ":   14chrGFP_rs3...chrGFP_rs1...Negative\n",
       ":   14chrGFP_R882H3...chrGFP_R882H3...Negative\n",
       ":   14chrGFP_rs3...chrGFP_rs2...chrGFP_rs2\n",
       ":   13chrGFP_rs2...chrGFP_rs3...chrGFP_rs3\n",
       ":   13chrGFP_rs3...Doublet...chrGFP_rs3\n",
       ":   13Genotype missing...chrGFP_rs_R882H2...Doublet\n",
       ":   13chrGFP_rs_R882H1...chrGFP_rs_R882H1...Negative\n",
       ":   13Genotype missing...chrGFP_rs_R882H3...Doublet\n",
       ":   12chrGFP_R882H1...Negative...Negative\n",
       ":   12Genotype missing...chrGFP_rs3...chrGFP_WTC\n",
       ":   11Genotype missing...chrGFP_rs3...chrGFP_rs_R882H3\n",
       ":   11chrGFP_R882H1...chrGFP_R882H1...Negative\n",
       ":   11chrGFP_rs_R882H1...chrGFP_rs3...chrGFP_rs3\n",
       ":   10Genotype missing...chrGFP_R882H3...chrGFP_rs_R882H1\n",
       ":   10Genotype missing...chrGFP_rs3...chrGFP_WTB\n",
       ":   9Genotype missing...chrGFP_rs3...chrGFP_rs1\n",
       ":   9chrGFP_rs2...Doublet...chrGFP_rs2\n",
       ":   9Genotype missing...chrGFP_rs_R882H1...Doublet\n",
       ":   9chrGFP_WTC...Doublet...Doublet\n",
       ":   9chrGFP_rs3...Doublet...chrGFP_rs1\n",
       ":   8chrGFP_R882H3...Doublet...chrGFP_R882H3\n",
       ":   8(Other)\n",
       ":   367\n",
       "\n"
      ],
      "text/plain": [
       "                  Genotype missing...Doublet...Doublet \n",
       "                                                 10781 \n",
       "                Genotype missing...Negative...Negative \n",
       "                                                  8456 \n",
       "            Genotype missing...chrGFP_rs3...chrGFP_rs3 \n",
       "                                                  4554 \n",
       "                 Genotype missing...Doublet...Negative \n",
       "                                                  1357 \n",
       "           Genotype missing...chrGFP_R882H3...Negative \n",
       "                                                  1313 \n",
       "              Genotype missing...chrGFP_rs3...Negative \n",
       "                                                  1283 \n",
       "Genotype missing...chrGFP_rs_R882H1...chrGFP_rs_R882H1 \n",
       "                                                   626 \n",
       "                  chrGFP_rs3...chrGFP_rs3...chrGFP_rs3 \n",
       "                                                   624 \n",
       "      Genotype missing...chrGFP_R882H3...chrGFP_R882H3 \n",
       "                                                   554 \n",
       "                      chrGFP_rs3...Negative...Negative \n",
       "                                                   503 \n",
       "           Genotype missing...chrGFP_R882H1...Negative \n",
       "                                                   439 \n",
       "            Genotype missing...chrGFP_rs1...chrGFP_rs1 \n",
       "                                                   414 \n",
       "         Genotype missing...Doublet...chrGFP_rs_R882H3 \n",
       "                                                   373 \n",
       "            Genotype missing...chrGFP_rs2...chrGFP_rs2 \n",
       "                                                   346 \n",
       "            Genotype missing...Doublet...chrGFP_R882H1 \n",
       "                                                   321 \n",
       "            Genotype missing...Doublet...chrGFP_R882H3 \n",
       "                                                   316 \n",
       "         Genotype missing...Doublet...chrGFP_rs_R882H1 \n",
       "                                                   298 \n",
       "               Genotype missing...chrGFP_rs3...Doublet \n",
       "                                                   283 \n",
       "         Genotype missing...Doublet...chrGFP_rs_R882H2 \n",
       "                                                   279 \n",
       "      Genotype missing...chrGFP_R882H1...chrGFP_R882H1 \n",
       "                                                   223 \n",
       "        Genotype missing...chrGFP_rs_R882H3...Negative \n",
       "                                                   204 \n",
       "        Genotype missing...chrGFP_rs_R882H1...Negative \n",
       "                                                   195 \n",
       "Genotype missing...chrGFP_rs_R882H3...chrGFP_rs_R882H3 \n",
       "                                                   189 \n",
       "              Genotype missing...chrGFP_rs1...Negative \n",
       "                                                   182 \n",
       "                    chrGFP_rs3...chrGFP_rs3...Negative \n",
       "                                                   174 \n",
       "Genotype missing...chrGFP_rs_R882H2...chrGFP_rs_R882H2 \n",
       "                                                   170 \n",
       "               Genotype missing...Doublet...chrGFP_rs3 \n",
       "                                                   164 \n",
       "        Genotype missing...chrGFP_rs_R882H2...Negative \n",
       "                                                   161 \n",
       "                        chrGFP_rs3...Doublet...Doublet \n",
       "                                                   154 \n",
       "              Genotype missing...chrGFP_rs2...Negative \n",
       "                                                   154 \n",
       "               Genotype missing...Doublet...chrGFP_rs1 \n",
       "                                                   126 \n",
       "            Genotype missing...chrGFP_WTC...chrGFP_WTC \n",
       "                                                   121 \n",
       "               Genotype missing...Doublet...chrGFP_rs2 \n",
       "                                                    95 \n",
       "              Genotype missing...chrGFP_WTB...Negative \n",
       "                                                    79 \n",
       "              Genotype missing...chrGFP_WTC...Negative \n",
       "                                                    74 \n",
       "               Genotype missing...Doublet...chrGFP_WTB \n",
       "                                                    73 \n",
       "chrGFP_rs_R882H1...chrGFP_rs_R882H1...chrGFP_rs_R882H1 \n",
       "                                                    65 \n",
       "               Genotype missing...Doublet...chrGFP_WTC \n",
       "                                                    63 \n",
       "                  chrGFP_rs_R882H1...Doublet...Doublet \n",
       "                                                    59 \n",
       "            Genotype missing...chrGFP_WTA...chrGFP_WTA \n",
       "                                                    53 \n",
       "            Genotype missing...chrGFP_WTB...chrGFP_WTB \n",
       "                                                    53 \n",
       "         chrGFP_R882H3...chrGFP_R882H3...chrGFP_R882H3 \n",
       "                                                    53 \n",
       "            Genotype missing...Doublet...chrGFP_R882H2 \n",
       "                                                    48 \n",
       "                chrGFP_rs_R882H1...Negative...Negative \n",
       "                                                    44 \n",
       "            Genotype missing...chrGFP_R882H3...Doublet \n",
       "                                                    39 \n",
       "               Genotype missing...Doublet...chrGFP_WTA \n",
       "                                                    38 \n",
       "            Genotype missing...chrGFP_rs2...chrGFP_rs3 \n",
       "                                                    37 \n",
       "                      chrGFP_rs2...Negative...Negative \n",
       "                                                    37 \n",
       "                        chrGFP_rs2...Doublet...Doublet \n",
       "                                                    36 \n",
       "           Genotype missing...chrGFP_R882H2...Negative \n",
       "                                                    36 \n",
       "        Genotype missing...Negative...chrGFP_rs_R882H1 \n",
       "                                                    35 \n",
       "                     chrGFP_R882H1...Doublet...Doublet \n",
       "                                                    32 \n",
       "                     chrGFP_rs3...chrGFP_rs3...Doublet \n",
       "                                                    29 \n",
       "      Genotype missing...chrGFP_R882H2...chrGFP_R882H2 \n",
       "                                                    28 \n",
       "                      chrGFP_rs1...Negative...Negative \n",
       "                                                    25 \n",
       "         chrGFP_rs_R882H1...Doublet...chrGFP_rs_R882H1 \n",
       "                                                    24 \n",
       "chrGFP_rs_R882H3...chrGFP_rs_R882H3...chrGFP_rs_R882H3 \n",
       "                                                    23 \n",
       "                        chrGFP_rs1...Doublet...Doublet \n",
       "                                                    23 \n",
       "              Genotype missing...chrGFP_WTA...Negative \n",
       "                                                    23 \n",
       "                  chrGFP_rs3...chrGFP_rs1...chrGFP_rs1 \n",
       "                                                    22 \n",
       "chrGFP_rs_R882H2...chrGFP_rs_R882H2...chrGFP_rs_R882H2 \n",
       "                                                    22 \n",
       "         chrGFP_rs_R882H3...Doublet...chrGFP_rs_R882H3 \n",
       "                                                    22 \n",
       "         chrGFP_R882H1...chrGFP_R882H1...chrGFP_R882H1 \n",
       "                                                    21 \n",
       "                  chrGFP_rs_R882H2...Doublet...Doublet \n",
       "                                                    21 \n",
       "                  chrGFP_rs1...chrGFP_rs1...chrGFP_rs1 \n",
       "                                                    20 \n",
       "                  chrGFP_rs2...chrGFP_rs2...chrGFP_rs2 \n",
       "                                                    20 \n",
       "                     chrGFP_R882H3...Doublet...Doublet \n",
       "                                                    20 \n",
       "            Genotype missing...chrGFP_rs1...chrGFP_rs3 \n",
       "                                                    19 \n",
       "         Genotype missing...chrGFP_rs3...chrGFP_R882H1 \n",
       "                                                    19 \n",
       "         chrGFP_rs_R882H2...Doublet...chrGFP_rs_R882H2 \n",
       "                                                    19 \n",
       "               chrGFP_R882H1...Doublet...chrGFP_R882H1 \n",
       "                                                    17 \n",
       "        Genotype missing...Negative...chrGFP_rs_R882H3 \n",
       "                                                    17 \n",
       "                  chrGFP_rs1...chrGFP_rs3...chrGFP_rs3 \n",
       "                                                    15 \n",
       "      Genotype missing...chrGFP_rs3...chrGFP_rs_R882H1 \n",
       "                                                    15 \n",
       "                     chrGFP_rs1...Doublet...chrGFP_rs1 \n",
       "                                                    14 \n",
       "      Genotype missing...chrGFP_rs_R882H1...chrGFP_rs3 \n",
       "                                                    14 \n",
       "        Genotype missing...Negative...chrGFP_rs_R882H2 \n",
       "                                                    14 \n",
       "                  chrGFP_rs_R882H3...Doublet...Doublet \n",
       "                                                    14 \n",
       "                    chrGFP_rs3...chrGFP_rs1...Negative \n",
       "                                                    14 \n",
       "              chrGFP_R882H3...chrGFP_R882H3...Negative \n",
       "                                                    14 \n",
       "                  chrGFP_rs3...chrGFP_rs2...chrGFP_rs2 \n",
       "                                                    13 \n",
       "                  chrGFP_rs2...chrGFP_rs3...chrGFP_rs3 \n",
       "                                                    13 \n",
       "                     chrGFP_rs3...Doublet...chrGFP_rs3 \n",
       "                                                    13 \n",
       "         Genotype missing...chrGFP_rs_R882H2...Doublet \n",
       "                                                    13 \n",
       "        chrGFP_rs_R882H1...chrGFP_rs_R882H1...Negative \n",
       "                                                    13 \n",
       "         Genotype missing...chrGFP_rs_R882H3...Doublet \n",
       "                                                    12 \n",
       "                   chrGFP_R882H1...Negative...Negative \n",
       "                                                    12 \n",
       "            Genotype missing...chrGFP_rs3...chrGFP_WTC \n",
       "                                                    11 \n",
       "      Genotype missing...chrGFP_rs3...chrGFP_rs_R882H3 \n",
       "                                                    11 \n",
       "              chrGFP_R882H1...chrGFP_R882H1...Negative \n",
       "                                                    11 \n",
       "            chrGFP_rs_R882H1...chrGFP_rs3...chrGFP_rs3 \n",
       "                                                    10 \n",
       "   Genotype missing...chrGFP_R882H3...chrGFP_rs_R882H1 \n",
       "                                                    10 \n",
       "            Genotype missing...chrGFP_rs3...chrGFP_WTB \n",
       "                                                     9 \n",
       "            Genotype missing...chrGFP_rs3...chrGFP_rs1 \n",
       "                                                     9 \n",
       "                     chrGFP_rs2...Doublet...chrGFP_rs2 \n",
       "                                                     9 \n",
       "         Genotype missing...chrGFP_rs_R882H1...Doublet \n",
       "                                                     9 \n",
       "                        chrGFP_WTC...Doublet...Doublet \n",
       "                                                     9 \n",
       "                     chrGFP_rs3...Doublet...chrGFP_rs1 \n",
       "                                                     8 \n",
       "               chrGFP_R882H3...Doublet...chrGFP_R882H3 \n",
       "                                                     8 \n",
       "                                               (Other) \n",
       "                                                   367 "
      ]
     },
     "metadata": {},
     "output_type": "display_data"
    }
   ],
   "source": [
    "summary(droplevels(interaction(adata@meta.data$Assigned_GFPbc, adata@meta.data$Assigned_GFPbc_demux_NO_CB, adata@meta.data$Assigned_GFPbc_demux_CB, sep=\"...\")))"
   ]
  },
  {
   "cell_type": "markdown",
   "id": "4a177c7b-172d-4a33-988e-a101fe261cca",
   "metadata": {},
   "source": [
    "# Create an integrative genotype assignation"
   ]
  },
  {
   "cell_type": "code",
   "execution_count": 216,
   "id": "a4412e7f-badb-4a6f-8c47-31ebfe8340ad",
   "metadata": {
    "execution": {
     "iopub.execute_input": "2025-02-03T18:12:18.558722Z",
     "iopub.status.busy": "2025-02-03T18:12:18.557627Z",
     "iopub.status.idle": "2025-02-03T18:12:18.566437Z",
     "shell.execute_reply": "2025-02-03T18:12:18.565376Z"
    }
   },
   "outputs": [],
   "source": [
    "adata@meta.data$Assigned_GFPbc_integral<-NA"
   ]
  },
  {
   "cell_type": "markdown",
   "id": "0c50766e-29a4-489b-910d-83ae986c9a99",
   "metadata": {},
   "source": [
    "## 1. First keep the genotype assignation from the GEX library using Paola's criteria (3 UMIs and no conflicting barcodes)"
   ]
  },
  {
   "cell_type": "code",
   "execution_count": 217,
   "id": "25a3d1a1-2c87-4ca4-8860-cabffce84206",
   "metadata": {
    "execution": {
     "iopub.execute_input": "2025-02-03T18:12:18.569037Z",
     "iopub.status.busy": "2025-02-03T18:12:18.568123Z",
     "iopub.status.idle": "2025-02-03T18:12:18.582690Z",
     "shell.execute_reply": "2025-02-03T18:12:18.581599Z"
    }
   },
   "outputs": [
    {
     "name": "stdout",
     "output_type": "stream",
     "text": [
      " int [1:2569] 11 36 96 191 229 237 340 341 342 349 ...\n",
      " int [1:34935] 1 2 3 4 5 6 7 8 9 10 ...\n"
     ]
    }
   ],
   "source": [
    "indx.keep<-which(adata@meta.data$Assigned_GFPbc != 'Genotype missing')\n",
    "\n",
    "str(indx.keep)\n",
    "\n",
    "indx.change<-which(adata@meta.data$Assigned_GFPbc == 'Genotype missing')\n",
    "\n",
    "str(indx.change)"
   ]
  },
  {
   "cell_type": "code",
   "execution_count": 218,
   "id": "1df6a8f6-39b8-408e-bdad-9c3166d0a208",
   "metadata": {
    "execution": {
     "iopub.execute_input": "2025-02-03T18:12:18.585314Z",
     "iopub.status.busy": "2025-02-03T18:12:18.584409Z",
     "iopub.status.idle": "2025-02-03T18:12:18.592438Z",
     "shell.execute_reply": "2025-02-03T18:12:18.591359Z"
    }
   },
   "outputs": [],
   "source": [
    "adata@meta.data$Assigned_GFPbc_integral[indx.keep]<-as.character(adata@meta.data$Assigned_GFPbc[indx.keep])"
   ]
  },
  {
   "cell_type": "markdown",
   "id": "bf7bf0c0-456b-4965-aaa0-3cd0d322ec17",
   "metadata": {},
   "source": [
    "## 2. Inside the 'Genotype missing' use the targeted amplification data. For the targeted amplification library use the assignation of Demux without CellBender except for the Doublets label"
   ]
  },
  {
   "cell_type": "code",
   "execution_count": 219,
   "id": "b699e0ee-f6b5-485b-a7ec-93161d60eb75",
   "metadata": {
    "execution": {
     "iopub.execute_input": "2025-02-03T18:12:23.450610Z",
     "iopub.status.busy": "2025-02-03T18:12:23.449605Z",
     "iopub.status.idle": "2025-02-03T18:12:23.466224Z",
     "shell.execute_reply": "2025-02-03T18:12:23.465158Z"
    }
   },
   "outputs": [
    {
     "name": "stdout",
     "output_type": "stream",
     "text": [
      " int [1:20603] 1 2 3 6 7 8 10 12 14 15 ...\n",
      " int [1:14332] 4 5 9 13 16 18 19 20 23 24 ...\n"
     ]
    }
   ],
   "source": [
    "indx.keep.2<-which(adata@meta.data$Assigned_GFPbc == 'Genotype missing' & adata@meta.data$Assigned_GFPbc_demux_NO_CB != 'Doublet')\n",
    "\n",
    "str(indx.keep.2)\n",
    "\n",
    "indx.change.2<-which(adata@meta.data$Assigned_GFPbc == 'Genotype missing' & adata@meta.data$Assigned_GFPbc_demux_NO_CB == 'Doublet')\n",
    "\n",
    "str(indx.change.2)"
   ]
  },
  {
   "cell_type": "code",
   "execution_count": 220,
   "id": "9777e0ca-0e64-472b-b602-57f2b890333c",
   "metadata": {
    "execution": {
     "iopub.execute_input": "2025-02-03T18:12:27.553148Z",
     "iopub.status.busy": "2025-02-03T18:12:27.552100Z",
     "iopub.status.idle": "2025-02-03T18:12:27.561232Z",
     "shell.execute_reply": "2025-02-03T18:12:27.560147Z"
    }
   },
   "outputs": [],
   "source": [
    "adata@meta.data$Assigned_GFPbc_integral[indx.keep.2]<-as.character(adata@meta.data$Assigned_GFPbc_demux_NO_CB[indx.keep.2])"
   ]
  },
  {
   "cell_type": "markdown",
   "id": "1505bb0a-8666-49a2-9e1c-8bffa05c0f5d",
   "metadata": {},
   "source": [
    "## 3 Inside the 'Doublet' use the Cell Bender correction"
   ]
  },
  {
   "cell_type": "code",
   "execution_count": 221,
   "id": "a8ca1b06-a69e-4465-bd8f-9fbbac9b9ad0",
   "metadata": {
    "execution": {
     "iopub.execute_input": "2025-02-03T18:12:35.426610Z",
     "iopub.status.busy": "2025-02-03T18:12:35.425603Z",
     "iopub.status.idle": "2025-02-03T18:12:35.434324Z",
     "shell.execute_reply": "2025-02-03T18:12:35.433271Z"
    }
   },
   "outputs": [],
   "source": [
    "adata@meta.data$Assigned_GFPbc_integral[indx.change.2]<-as.character(adata@meta.data$Assigned_GFPbc_demux_CB[indx.change.2])"
   ]
  },
  {
   "cell_type": "code",
   "execution_count": 222,
   "id": "43fd2e86-240d-44b8-83f5-4567875cdae5",
   "metadata": {
    "execution": {
     "iopub.execute_input": "2025-02-03T18:12:35.984898Z",
     "iopub.status.busy": "2025-02-03T18:12:35.983974Z",
     "iopub.status.idle": "2025-02-03T18:12:35.993388Z",
     "shell.execute_reply": "2025-02-03T18:12:35.992307Z"
    }
   },
   "outputs": [
    {
     "data": {
      "text/html": [
       "37504"
      ],
      "text/latex": [
       "37504"
      ],
      "text/markdown": [
       "37504"
      ],
      "text/plain": [
       "[1] 37504"
      ]
     },
     "metadata": {},
     "output_type": "display_data"
    }
   ],
   "source": [
    "length(indx.keep)+length(indx.keep.2)+length(indx.change.2)"
   ]
  },
  {
   "cell_type": "code",
   "execution_count": 223,
   "id": "d69ff503-114d-4dac-9373-875c93a54610",
   "metadata": {
    "execution": {
     "iopub.execute_input": "2025-02-03T18:12:40.452387Z",
     "iopub.status.busy": "2025-02-03T18:12:40.451425Z",
     "iopub.status.idle": "2025-02-03T18:12:40.461188Z",
     "shell.execute_reply": "2025-02-03T18:12:40.460119Z"
    }
   },
   "outputs": [
    {
     "data": {
      "text/html": [
       "37504"
      ],
      "text/latex": [
       "37504"
      ],
      "text/markdown": [
       "37504"
      ],
      "text/plain": [
       "[1] 37504"
      ]
     },
     "metadata": {},
     "output_type": "display_data"
    }
   ],
   "source": [
    "dim(adata@meta.data)[1]"
   ]
  },
  {
   "cell_type": "markdown",
   "id": "16cea8ce-7598-4371-9629-de14ece3e57c",
   "metadata": {},
   "source": [
    "## Order the factor"
   ]
  },
  {
   "cell_type": "code",
   "execution_count": 224,
   "id": "dd46965a-3c22-4d9a-9c7b-bf4897012c77",
   "metadata": {
    "execution": {
     "iopub.execute_input": "2025-02-03T18:12:46.342040Z",
     "iopub.status.busy": "2025-02-03T18:12:46.341001Z",
     "iopub.status.idle": "2025-02-03T18:12:46.353521Z",
     "shell.execute_reply": "2025-02-03T18:12:46.352446Z"
    }
   },
   "outputs": [
    {
     "data": {
      "text/html": [
       "<style>\n",
       ".dl-inline {width: auto; margin:0; padding: 0}\n",
       ".dl-inline>dt, .dl-inline>dd {float: none; width: auto; display: inline-block}\n",
       ".dl-inline>dt::after {content: \":\\0020\"; padding-right: .5ex}\n",
       ".dl-inline>dt:not(:first-of-type) {padding-left: .5ex}\n",
       "</style><dl class=dl-inline><dt>chrGFP_R882H1</dt><dd>1101</dd><dt>chrGFP_R882H2</dt><dd>123</dd><dt>chrGFP_R882H3</dt><dd>2355</dd><dt>chrGFP_rs_R882H1</dt><dd>1381</dd><dt>chrGFP_rs_R882H2</dt><dd>706</dd><dt>chrGFP_rs_R882H3</dt><dd>864</dd><dt>chrGFP_rs1</dt><dd>872</dd><dt>chrGFP_rs2</dt><dd>776</dd><dt>chrGFP_rs3</dt><dd>7996</dd><dt>chrGFP_WTA</dt><dd>130</dd><dt>chrGFP_WTB</dt><dd>226</dd><dt>chrGFP_WTC</dt><dd>305</dd><dt>Doublet</dt><dd>10781</dd><dt>Negative</dt><dd>9888</dd></dl>\n"
      ],
      "text/latex": [
       "\\begin{description*}\n",
       "\\item[chrGFP\\textbackslash{}\\_R882H1] 1101\n",
       "\\item[chrGFP\\textbackslash{}\\_R882H2] 123\n",
       "\\item[chrGFP\\textbackslash{}\\_R882H3] 2355\n",
       "\\item[chrGFP\\textbackslash{}\\_rs\\textbackslash{}\\_R882H1] 1381\n",
       "\\item[chrGFP\\textbackslash{}\\_rs\\textbackslash{}\\_R882H2] 706\n",
       "\\item[chrGFP\\textbackslash{}\\_rs\\textbackslash{}\\_R882H3] 864\n",
       "\\item[chrGFP\\textbackslash{}\\_rs1] 872\n",
       "\\item[chrGFP\\textbackslash{}\\_rs2] 776\n",
       "\\item[chrGFP\\textbackslash{}\\_rs3] 7996\n",
       "\\item[chrGFP\\textbackslash{}\\_WTA] 130\n",
       "\\item[chrGFP\\textbackslash{}\\_WTB] 226\n",
       "\\item[chrGFP\\textbackslash{}\\_WTC] 305\n",
       "\\item[Doublet] 10781\n",
       "\\item[Negative] 9888\n",
       "\\end{description*}\n"
      ],
      "text/markdown": [
       "chrGFP_R882H1\n",
       ":   1101chrGFP_R882H2\n",
       ":   123chrGFP_R882H3\n",
       ":   2355chrGFP_rs_R882H1\n",
       ":   1381chrGFP_rs_R882H2\n",
       ":   706chrGFP_rs_R882H3\n",
       ":   864chrGFP_rs1\n",
       ":   872chrGFP_rs2\n",
       ":   776chrGFP_rs3\n",
       ":   7996chrGFP_WTA\n",
       ":   130chrGFP_WTB\n",
       ":   226chrGFP_WTC\n",
       ":   305Doublet\n",
       ":   10781Negative\n",
       ":   9888\n",
       "\n"
      ],
      "text/plain": [
       "   chrGFP_R882H1    chrGFP_R882H2    chrGFP_R882H3 chrGFP_rs_R882H1 \n",
       "            1101              123             2355             1381 \n",
       "chrGFP_rs_R882H2 chrGFP_rs_R882H3       chrGFP_rs1       chrGFP_rs2 \n",
       "             706              864              872              776 \n",
       "      chrGFP_rs3       chrGFP_WTA       chrGFP_WTB       chrGFP_WTC \n",
       "            7996              130              226              305 \n",
       "         Doublet         Negative \n",
       "           10781             9888 "
      ]
     },
     "metadata": {},
     "output_type": "display_data"
    }
   ],
   "source": [
    "summary(as.factor(adata@meta.data$Assigned_GFPbc_integral))"
   ]
  },
  {
   "cell_type": "code",
   "execution_count": 226,
   "id": "2280dd13-338b-4d8c-81a9-8ebb868be601",
   "metadata": {
    "execution": {
     "iopub.execute_input": "2025-02-03T18:13:10.709217Z",
     "iopub.status.busy": "2025-02-03T18:13:10.708164Z",
     "iopub.status.idle": "2025-02-03T18:13:10.715751Z",
     "shell.execute_reply": "2025-02-03T18:13:10.714706Z"
    }
   },
   "outputs": [],
   "source": [
    "#summary(droplevels(as.factor(adata@meta.data$Assigned_GFPbc[is.na(adata@meta.data$Assigned_GFPbc_integral)])))"
   ]
  },
  {
   "cell_type": "code",
   "execution_count": 227,
   "id": "6cb3228a-f63b-4a80-9b05-a97da5583132",
   "metadata": {
    "execution": {
     "iopub.execute_input": "2025-02-03T18:13:11.161250Z",
     "iopub.status.busy": "2025-02-03T18:13:11.160315Z",
     "iopub.status.idle": "2025-02-03T18:13:11.167078Z",
     "shell.execute_reply": "2025-02-03T18:13:11.166069Z"
    }
   },
   "outputs": [],
   "source": [
    "#summary(droplevels(as.factor(adata@meta.data$Assigned_GFPbc_demux_NO_CB[is.na(adata@meta.data$Assigned_GFPbc_integral)])))"
   ]
  },
  {
   "cell_type": "code",
   "execution_count": 228,
   "id": "eb8380bc-ac43-4d80-aa86-62181eaaee84",
   "metadata": {
    "execution": {
     "iopub.execute_input": "2025-02-03T18:13:11.830775Z",
     "iopub.status.busy": "2025-02-03T18:13:11.829847Z",
     "iopub.status.idle": "2025-02-03T18:13:11.836421Z",
     "shell.execute_reply": "2025-02-03T18:13:11.835419Z"
    }
   },
   "outputs": [],
   "source": [
    "#summary(droplevels(as.factor(adata@meta.data$Assigned_GFPbc_demux_CB[is.na(adata@meta.data$Assigned_GFPbc_integral)])))"
   ]
  },
  {
   "cell_type": "code",
   "execution_count": 229,
   "id": "d7fa3f0b-2855-4ae8-bf37-fe38e51a4761",
   "metadata": {
    "execution": {
     "iopub.execute_input": "2025-02-03T18:13:22.763039Z",
     "iopub.status.busy": "2025-02-03T18:13:22.761991Z",
     "iopub.status.idle": "2025-02-03T18:13:22.771059Z",
     "shell.execute_reply": "2025-02-03T18:13:22.770033Z"
    }
   },
   "outputs": [],
   "source": [
    "adata@meta.data$Assigned_GFPbc_integral<-factor(adata@meta.data$Assigned_GFPbc_integral,\n",
    "                                       levels = c(\"chrGFP_WTA\",\"chrGFP_WTB\",\"chrGFP_WTC\",\n",
    "                                                  \"chrGFP_rs1\",\"chrGFP_rs2\",\"chrGFP_rs3\",\n",
    "                                                  \"chrGFP_R882H1\",\"chrGFP_R882H2\",\"chrGFP_R882H3\",\n",
    "                                                  \"chrGFP_rs_R882H1\",\"chrGFP_rs_R882H2\",\"chrGFP_rs_R882H3\",\"Doublet\",\"Negative\"),\n",
    "                                       ordered=T)"
   ]
  },
  {
   "cell_type": "code",
   "execution_count": 230,
   "id": "f80f2a1b-2bbc-4e6c-871a-be700c19f3ee",
   "metadata": {
    "execution": {
     "iopub.execute_input": "2025-02-03T18:13:24.836549Z",
     "iopub.status.busy": "2025-02-03T18:13:24.835611Z",
     "iopub.status.idle": "2025-02-03T18:13:24.846800Z",
     "shell.execute_reply": "2025-02-03T18:13:24.845741Z"
    }
   },
   "outputs": [
    {
     "data": {
      "text/html": [
       "<style>\n",
       ".dl-inline {width: auto; margin:0; padding: 0}\n",
       ".dl-inline>dt, .dl-inline>dd {float: none; width: auto; display: inline-block}\n",
       ".dl-inline>dt::after {content: \":\\0020\"; padding-right: .5ex}\n",
       ".dl-inline>dt:not(:first-of-type) {padding-left: .5ex}\n",
       "</style><dl class=dl-inline><dt>chrGFP_WTA</dt><dd>130</dd><dt>chrGFP_WTB</dt><dd>226</dd><dt>chrGFP_WTC</dt><dd>305</dd><dt>chrGFP_rs1</dt><dd>872</dd><dt>chrGFP_rs2</dt><dd>776</dd><dt>chrGFP_rs3</dt><dd>7996</dd><dt>chrGFP_R882H1</dt><dd>1101</dd><dt>chrGFP_R882H2</dt><dd>123</dd><dt>chrGFP_R882H3</dt><dd>2355</dd><dt>chrGFP_rs_R882H1</dt><dd>1381</dd><dt>chrGFP_rs_R882H2</dt><dd>706</dd><dt>chrGFP_rs_R882H3</dt><dd>864</dd><dt>Doublet</dt><dd>10781</dd><dt>Negative</dt><dd>9888</dd></dl>\n"
      ],
      "text/latex": [
       "\\begin{description*}\n",
       "\\item[chrGFP\\textbackslash{}\\_WTA] 130\n",
       "\\item[chrGFP\\textbackslash{}\\_WTB] 226\n",
       "\\item[chrGFP\\textbackslash{}\\_WTC] 305\n",
       "\\item[chrGFP\\textbackslash{}\\_rs1] 872\n",
       "\\item[chrGFP\\textbackslash{}\\_rs2] 776\n",
       "\\item[chrGFP\\textbackslash{}\\_rs3] 7996\n",
       "\\item[chrGFP\\textbackslash{}\\_R882H1] 1101\n",
       "\\item[chrGFP\\textbackslash{}\\_R882H2] 123\n",
       "\\item[chrGFP\\textbackslash{}\\_R882H3] 2355\n",
       "\\item[chrGFP\\textbackslash{}\\_rs\\textbackslash{}\\_R882H1] 1381\n",
       "\\item[chrGFP\\textbackslash{}\\_rs\\textbackslash{}\\_R882H2] 706\n",
       "\\item[chrGFP\\textbackslash{}\\_rs\\textbackslash{}\\_R882H3] 864\n",
       "\\item[Doublet] 10781\n",
       "\\item[Negative] 9888\n",
       "\\end{description*}\n"
      ],
      "text/markdown": [
       "chrGFP_WTA\n",
       ":   130chrGFP_WTB\n",
       ":   226chrGFP_WTC\n",
       ":   305chrGFP_rs1\n",
       ":   872chrGFP_rs2\n",
       ":   776chrGFP_rs3\n",
       ":   7996chrGFP_R882H1\n",
       ":   1101chrGFP_R882H2\n",
       ":   123chrGFP_R882H3\n",
       ":   2355chrGFP_rs_R882H1\n",
       ":   1381chrGFP_rs_R882H2\n",
       ":   706chrGFP_rs_R882H3\n",
       ":   864Doublet\n",
       ":   10781Negative\n",
       ":   9888\n",
       "\n"
      ],
      "text/plain": [
       "      chrGFP_WTA       chrGFP_WTB       chrGFP_WTC       chrGFP_rs1 \n",
       "             130              226              305              872 \n",
       "      chrGFP_rs2       chrGFP_rs3    chrGFP_R882H1    chrGFP_R882H2 \n",
       "             776             7996             1101              123 \n",
       "   chrGFP_R882H3 chrGFP_rs_R882H1 chrGFP_rs_R882H2 chrGFP_rs_R882H3 \n",
       "            2355             1381              706              864 \n",
       "         Doublet         Negative \n",
       "           10781             9888 "
      ]
     },
     "metadata": {},
     "output_type": "display_data"
    }
   ],
   "source": [
    "summary(adata@meta.data$Assigned_GFPbc_integral)"
   ]
  },
  {
   "cell_type": "markdown",
   "id": "9f0f61e8-187c-46b4-b5e8-3b728fa819a6",
   "metadata": {},
   "source": [
    "## Show the genotype breakdown new"
   ]
  },
  {
   "cell_type": "markdown",
   "id": "d5469926-ac85-4bb0-8935-c437f5afe4b0",
   "metadata": {},
   "source": [
    "## Freq tables genotype factor vs time_point vs current_anot"
   ]
  },
  {
   "cell_type": "markdown",
   "id": "c1541bd2-1849-4510-af1c-888b826e7069",
   "metadata": {},
   "source": [
    "### genotype clone line vs my anot updated vs time_point"
   ]
  },
  {
   "cell_type": "code",
   "execution_count": 231,
   "id": "2f71d64f-ae60-4d75-9ee2-9646d8cb93c1",
   "metadata": {
    "execution": {
     "iopub.execute_input": "2025-02-03T18:14:25.950493Z",
     "iopub.status.busy": "2025-02-03T18:14:25.949422Z",
     "iopub.status.idle": "2025-02-03T18:14:25.959561Z",
     "shell.execute_reply": "2025-02-03T18:14:25.958510Z"
    }
   },
   "outputs": [],
   "source": [
    "met<-adata[[]]"
   ]
  },
  {
   "cell_type": "code",
   "execution_count": 232,
   "id": "409edae5-8b5f-4b56-877b-619447c27ce7",
   "metadata": {
    "execution": {
     "iopub.execute_input": "2025-02-03T18:14:26.859651Z",
     "iopub.status.busy": "2025-02-03T18:14:26.858712Z",
     "iopub.status.idle": "2025-02-03T18:14:26.869318Z",
     "shell.execute_reply": "2025-02-03T18:14:26.868266Z"
    }
   },
   "outputs": [
    {
     "data": {
      "text/html": [
       "<style>\n",
       ".list-inline {list-style: none; margin:0; padding: 0}\n",
       ".list-inline>li {display: inline-block}\n",
       ".list-inline>li:not(:last-child)::after {content: \"\\00b7\"; padding: 0 .5ex}\n",
       "</style>\n",
       "<ol class=list-inline><li>'orig.ident'</li><li>'nCount_RNA'</li><li>'nFeature_RNA'</li><li>'percent.mt'</li><li>'nCount_RNA_raw'</li><li>'nFeature_RNA_raw'</li><li>'nCount_ATAC'</li><li>'nFeature_ATAC'</li><li>'gex_raw_reads'</li><li>'gex_mapped_reads'</li><li>'gex_conf_intergenic_reads'</li><li>'gex_conf_exonic_reads'</li><li>'gex_conf_intronic_reads'</li><li>'gex_conf_exonic_unique_reads'</li><li>'gex_conf_exonic_antisense_reads'</li><li>'gex_conf_exonic_dup_reads'</li><li>'gex_exonic_umis'</li><li>'gex_conf_intronic_unique_reads'</li><li>'gex_conf_intronic_antisense_reads'</li><li>'gex_conf_intronic_dup_reads'</li><li>'gex_intronic_umis'</li><li>'gex_conf_txomic_unique_reads'</li><li>'gex_umis_count'</li><li>'gex_genes_count'</li><li>'atac_raw_reads'</li><li>'atac_unmapped_reads'</li><li>'atac_lowmapq'</li><li>'atac_dup_reads'</li><li>'atac_chimeric_reads'</li><li>'atac_mitochondrial_reads'</li><li>'atac_fragments'</li><li>'atac_TSS_fragments'</li><li>'atac_peak_region_fragments'</li><li>'atac_peak_region_cutsites'</li><li>'TSS.enrichment'</li><li>'TSS.percentile'</li><li>'scDblFinder.class'</li><li>'scDblFinder.score'</li><li>'scDblFinder.weighted'</li><li>'scDblFinder.cxds_score'</li><li>'scDblFinder.class_atac'</li><li>'scDblFinder.score_atac'</li><li>'scDblFinder.weighted_atac'</li><li>'scDblFinder.cxds_score_atac'</li><li>'No_assigned_GFPbc'</li><li>'Assigned_GFPbc'</li><li>'Assigned_GFPgenotype'</li><li>'DBL_comb'</li><li>'amulet_nFrags'</li><li>'amulet_uniqFrags'</li><li>'amulet_nAbove2'</li><li>'amulet_total.nAbove2'</li><li>'amulet_p.value'</li><li>'amulet_q.value'</li><li>'doublet_amulet'</li><li>'nCount_SCT'</li><li>'nFeature_SCT'</li><li>'SCT.weight'</li><li>'ATAC.weight'</li><li>'wsnn_res.0.2'</li><li>'seurat_clusters'</li><li>'doublet'</li><li>'wsnn_res.2'</li><li>'wsnn_res.0.5'</li><li>'wsnn_res.0.25'</li><li>'CellTypist_BMA_label'</li><li>'CellTypist_BMA_conf_score'</li><li>'CellTypist_IPSCs_label'</li><li>'CellTypist_IPSCs_conf_score'</li><li>'CellTypist_BMA_label_filtered'</li><li>'CellTypist_IPSCs_label_filtered'</li><li>'time_point'</li><li>'time'</li><li>'nucleosome_signal'</li><li>'nucleosome_percentile'</li><li>'FRiP'</li><li>'atac_pct_reads_in_peaks'</li><li>'my_anot'</li><li>'FOI'</li><li>'my_anot_updated'</li><li>'majority_voting_BMA'</li><li>'majority_voting_iPSCs'</li><li>'current_anot'</li><li>'Assignation_demux_NO_CB'</li><li>'Assigned_GFPbc_demux_NO_CB'</li><li>'Assignation_demux_CB'</li><li>'Assigned_GFPbc_demux_CB'</li><li>'Assigned_GFPbc_integral'</li></ol>\n"
      ],
      "text/latex": [
       "\\begin{enumerate*}\n",
       "\\item 'orig.ident'\n",
       "\\item 'nCount\\_RNA'\n",
       "\\item 'nFeature\\_RNA'\n",
       "\\item 'percent.mt'\n",
       "\\item 'nCount\\_RNA\\_raw'\n",
       "\\item 'nFeature\\_RNA\\_raw'\n",
       "\\item 'nCount\\_ATAC'\n",
       "\\item 'nFeature\\_ATAC'\n",
       "\\item 'gex\\_raw\\_reads'\n",
       "\\item 'gex\\_mapped\\_reads'\n",
       "\\item 'gex\\_conf\\_intergenic\\_reads'\n",
       "\\item 'gex\\_conf\\_exonic\\_reads'\n",
       "\\item 'gex\\_conf\\_intronic\\_reads'\n",
       "\\item 'gex\\_conf\\_exonic\\_unique\\_reads'\n",
       "\\item 'gex\\_conf\\_exonic\\_antisense\\_reads'\n",
       "\\item 'gex\\_conf\\_exonic\\_dup\\_reads'\n",
       "\\item 'gex\\_exonic\\_umis'\n",
       "\\item 'gex\\_conf\\_intronic\\_unique\\_reads'\n",
       "\\item 'gex\\_conf\\_intronic\\_antisense\\_reads'\n",
       "\\item 'gex\\_conf\\_intronic\\_dup\\_reads'\n",
       "\\item 'gex\\_intronic\\_umis'\n",
       "\\item 'gex\\_conf\\_txomic\\_unique\\_reads'\n",
       "\\item 'gex\\_umis\\_count'\n",
       "\\item 'gex\\_genes\\_count'\n",
       "\\item 'atac\\_raw\\_reads'\n",
       "\\item 'atac\\_unmapped\\_reads'\n",
       "\\item 'atac\\_lowmapq'\n",
       "\\item 'atac\\_dup\\_reads'\n",
       "\\item 'atac\\_chimeric\\_reads'\n",
       "\\item 'atac\\_mitochondrial\\_reads'\n",
       "\\item 'atac\\_fragments'\n",
       "\\item 'atac\\_TSS\\_fragments'\n",
       "\\item 'atac\\_peak\\_region\\_fragments'\n",
       "\\item 'atac\\_peak\\_region\\_cutsites'\n",
       "\\item 'TSS.enrichment'\n",
       "\\item 'TSS.percentile'\n",
       "\\item 'scDblFinder.class'\n",
       "\\item 'scDblFinder.score'\n",
       "\\item 'scDblFinder.weighted'\n",
       "\\item 'scDblFinder.cxds\\_score'\n",
       "\\item 'scDblFinder.class\\_atac'\n",
       "\\item 'scDblFinder.score\\_atac'\n",
       "\\item 'scDblFinder.weighted\\_atac'\n",
       "\\item 'scDblFinder.cxds\\_score\\_atac'\n",
       "\\item 'No\\_assigned\\_GFPbc'\n",
       "\\item 'Assigned\\_GFPbc'\n",
       "\\item 'Assigned\\_GFPgenotype'\n",
       "\\item 'DBL\\_comb'\n",
       "\\item 'amulet\\_nFrags'\n",
       "\\item 'amulet\\_uniqFrags'\n",
       "\\item 'amulet\\_nAbove2'\n",
       "\\item 'amulet\\_total.nAbove2'\n",
       "\\item 'amulet\\_p.value'\n",
       "\\item 'amulet\\_q.value'\n",
       "\\item 'doublet\\_amulet'\n",
       "\\item 'nCount\\_SCT'\n",
       "\\item 'nFeature\\_SCT'\n",
       "\\item 'SCT.weight'\n",
       "\\item 'ATAC.weight'\n",
       "\\item 'wsnn\\_res.0.2'\n",
       "\\item 'seurat\\_clusters'\n",
       "\\item 'doublet'\n",
       "\\item 'wsnn\\_res.2'\n",
       "\\item 'wsnn\\_res.0.5'\n",
       "\\item 'wsnn\\_res.0.25'\n",
       "\\item 'CellTypist\\_BMA\\_label'\n",
       "\\item 'CellTypist\\_BMA\\_conf\\_score'\n",
       "\\item 'CellTypist\\_IPSCs\\_label'\n",
       "\\item 'CellTypist\\_IPSCs\\_conf\\_score'\n",
       "\\item 'CellTypist\\_BMA\\_label\\_filtered'\n",
       "\\item 'CellTypist\\_IPSCs\\_label\\_filtered'\n",
       "\\item 'time\\_point'\n",
       "\\item 'time'\n",
       "\\item 'nucleosome\\_signal'\n",
       "\\item 'nucleosome\\_percentile'\n",
       "\\item 'FRiP'\n",
       "\\item 'atac\\_pct\\_reads\\_in\\_peaks'\n",
       "\\item 'my\\_anot'\n",
       "\\item 'FOI'\n",
       "\\item 'my\\_anot\\_updated'\n",
       "\\item 'majority\\_voting\\_BMA'\n",
       "\\item 'majority\\_voting\\_iPSCs'\n",
       "\\item 'current\\_anot'\n",
       "\\item 'Assignation\\_demux\\_NO\\_CB'\n",
       "\\item 'Assigned\\_GFPbc\\_demux\\_NO\\_CB'\n",
       "\\item 'Assignation\\_demux\\_CB'\n",
       "\\item 'Assigned\\_GFPbc\\_demux\\_CB'\n",
       "\\item 'Assigned\\_GFPbc\\_integral'\n",
       "\\end{enumerate*}\n"
      ],
      "text/markdown": [
       "1. 'orig.ident'\n",
       "2. 'nCount_RNA'\n",
       "3. 'nFeature_RNA'\n",
       "4. 'percent.mt'\n",
       "5. 'nCount_RNA_raw'\n",
       "6. 'nFeature_RNA_raw'\n",
       "7. 'nCount_ATAC'\n",
       "8. 'nFeature_ATAC'\n",
       "9. 'gex_raw_reads'\n",
       "10. 'gex_mapped_reads'\n",
       "11. 'gex_conf_intergenic_reads'\n",
       "12. 'gex_conf_exonic_reads'\n",
       "13. 'gex_conf_intronic_reads'\n",
       "14. 'gex_conf_exonic_unique_reads'\n",
       "15. 'gex_conf_exonic_antisense_reads'\n",
       "16. 'gex_conf_exonic_dup_reads'\n",
       "17. 'gex_exonic_umis'\n",
       "18. 'gex_conf_intronic_unique_reads'\n",
       "19. 'gex_conf_intronic_antisense_reads'\n",
       "20. 'gex_conf_intronic_dup_reads'\n",
       "21. 'gex_intronic_umis'\n",
       "22. 'gex_conf_txomic_unique_reads'\n",
       "23. 'gex_umis_count'\n",
       "24. 'gex_genes_count'\n",
       "25. 'atac_raw_reads'\n",
       "26. 'atac_unmapped_reads'\n",
       "27. 'atac_lowmapq'\n",
       "28. 'atac_dup_reads'\n",
       "29. 'atac_chimeric_reads'\n",
       "30. 'atac_mitochondrial_reads'\n",
       "31. 'atac_fragments'\n",
       "32. 'atac_TSS_fragments'\n",
       "33. 'atac_peak_region_fragments'\n",
       "34. 'atac_peak_region_cutsites'\n",
       "35. 'TSS.enrichment'\n",
       "36. 'TSS.percentile'\n",
       "37. 'scDblFinder.class'\n",
       "38. 'scDblFinder.score'\n",
       "39. 'scDblFinder.weighted'\n",
       "40. 'scDblFinder.cxds_score'\n",
       "41. 'scDblFinder.class_atac'\n",
       "42. 'scDblFinder.score_atac'\n",
       "43. 'scDblFinder.weighted_atac'\n",
       "44. 'scDblFinder.cxds_score_atac'\n",
       "45. 'No_assigned_GFPbc'\n",
       "46. 'Assigned_GFPbc'\n",
       "47. 'Assigned_GFPgenotype'\n",
       "48. 'DBL_comb'\n",
       "49. 'amulet_nFrags'\n",
       "50. 'amulet_uniqFrags'\n",
       "51. 'amulet_nAbove2'\n",
       "52. 'amulet_total.nAbove2'\n",
       "53. 'amulet_p.value'\n",
       "54. 'amulet_q.value'\n",
       "55. 'doublet_amulet'\n",
       "56. 'nCount_SCT'\n",
       "57. 'nFeature_SCT'\n",
       "58. 'SCT.weight'\n",
       "59. 'ATAC.weight'\n",
       "60. 'wsnn_res.0.2'\n",
       "61. 'seurat_clusters'\n",
       "62. 'doublet'\n",
       "63. 'wsnn_res.2'\n",
       "64. 'wsnn_res.0.5'\n",
       "65. 'wsnn_res.0.25'\n",
       "66. 'CellTypist_BMA_label'\n",
       "67. 'CellTypist_BMA_conf_score'\n",
       "68. 'CellTypist_IPSCs_label'\n",
       "69. 'CellTypist_IPSCs_conf_score'\n",
       "70. 'CellTypist_BMA_label_filtered'\n",
       "71. 'CellTypist_IPSCs_label_filtered'\n",
       "72. 'time_point'\n",
       "73. 'time'\n",
       "74. 'nucleosome_signal'\n",
       "75. 'nucleosome_percentile'\n",
       "76. 'FRiP'\n",
       "77. 'atac_pct_reads_in_peaks'\n",
       "78. 'my_anot'\n",
       "79. 'FOI'\n",
       "80. 'my_anot_updated'\n",
       "81. 'majority_voting_BMA'\n",
       "82. 'majority_voting_iPSCs'\n",
       "83. 'current_anot'\n",
       "84. 'Assignation_demux_NO_CB'\n",
       "85. 'Assigned_GFPbc_demux_NO_CB'\n",
       "86. 'Assignation_demux_CB'\n",
       "87. 'Assigned_GFPbc_demux_CB'\n",
       "88. 'Assigned_GFPbc_integral'\n",
       "\n",
       "\n"
      ],
      "text/plain": [
       " [1] \"orig.ident\"                        \"nCount_RNA\"                       \n",
       " [3] \"nFeature_RNA\"                      \"percent.mt\"                       \n",
       " [5] \"nCount_RNA_raw\"                    \"nFeature_RNA_raw\"                 \n",
       " [7] \"nCount_ATAC\"                       \"nFeature_ATAC\"                    \n",
       " [9] \"gex_raw_reads\"                     \"gex_mapped_reads\"                 \n",
       "[11] \"gex_conf_intergenic_reads\"         \"gex_conf_exonic_reads\"            \n",
       "[13] \"gex_conf_intronic_reads\"           \"gex_conf_exonic_unique_reads\"     \n",
       "[15] \"gex_conf_exonic_antisense_reads\"   \"gex_conf_exonic_dup_reads\"        \n",
       "[17] \"gex_exonic_umis\"                   \"gex_conf_intronic_unique_reads\"   \n",
       "[19] \"gex_conf_intronic_antisense_reads\" \"gex_conf_intronic_dup_reads\"      \n",
       "[21] \"gex_intronic_umis\"                 \"gex_conf_txomic_unique_reads\"     \n",
       "[23] \"gex_umis_count\"                    \"gex_genes_count\"                  \n",
       "[25] \"atac_raw_reads\"                    \"atac_unmapped_reads\"              \n",
       "[27] \"atac_lowmapq\"                      \"atac_dup_reads\"                   \n",
       "[29] \"atac_chimeric_reads\"               \"atac_mitochondrial_reads\"         \n",
       "[31] \"atac_fragments\"                    \"atac_TSS_fragments\"               \n",
       "[33] \"atac_peak_region_fragments\"        \"atac_peak_region_cutsites\"        \n",
       "[35] \"TSS.enrichment\"                    \"TSS.percentile\"                   \n",
       "[37] \"scDblFinder.class\"                 \"scDblFinder.score\"                \n",
       "[39] \"scDblFinder.weighted\"              \"scDblFinder.cxds_score\"           \n",
       "[41] \"scDblFinder.class_atac\"            \"scDblFinder.score_atac\"           \n",
       "[43] \"scDblFinder.weighted_atac\"         \"scDblFinder.cxds_score_atac\"      \n",
       "[45] \"No_assigned_GFPbc\"                 \"Assigned_GFPbc\"                   \n",
       "[47] \"Assigned_GFPgenotype\"              \"DBL_comb\"                         \n",
       "[49] \"amulet_nFrags\"                     \"amulet_uniqFrags\"                 \n",
       "[51] \"amulet_nAbove2\"                    \"amulet_total.nAbove2\"             \n",
       "[53] \"amulet_p.value\"                    \"amulet_q.value\"                   \n",
       "[55] \"doublet_amulet\"                    \"nCount_SCT\"                       \n",
       "[57] \"nFeature_SCT\"                      \"SCT.weight\"                       \n",
       "[59] \"ATAC.weight\"                       \"wsnn_res.0.2\"                     \n",
       "[61] \"seurat_clusters\"                   \"doublet\"                          \n",
       "[63] \"wsnn_res.2\"                        \"wsnn_res.0.5\"                     \n",
       "[65] \"wsnn_res.0.25\"                     \"CellTypist_BMA_label\"             \n",
       "[67] \"CellTypist_BMA_conf_score\"         \"CellTypist_IPSCs_label\"           \n",
       "[69] \"CellTypist_IPSCs_conf_score\"       \"CellTypist_BMA_label_filtered\"    \n",
       "[71] \"CellTypist_IPSCs_label_filtered\"   \"time_point\"                       \n",
       "[73] \"time\"                              \"nucleosome_signal\"                \n",
       "[75] \"nucleosome_percentile\"             \"FRiP\"                             \n",
       "[77] \"atac_pct_reads_in_peaks\"           \"my_anot\"                          \n",
       "[79] \"FOI\"                               \"my_anot_updated\"                  \n",
       "[81] \"majority_voting_BMA\"               \"majority_voting_iPSCs\"            \n",
       "[83] \"current_anot\"                      \"Assignation_demux_NO_CB\"          \n",
       "[85] \"Assigned_GFPbc_demux_NO_CB\"        \"Assignation_demux_CB\"             \n",
       "[87] \"Assigned_GFPbc_demux_CB\"           \"Assigned_GFPbc_integral\"          "
      ]
     },
     "metadata": {},
     "output_type": "display_data"
    }
   ],
   "source": [
    "colnames(met)"
   ]
  },
  {
   "cell_type": "code",
   "execution_count": 233,
   "id": "36790978-274a-4f72-af8e-c9484422ecff",
   "metadata": {
    "execution": {
     "iopub.execute_input": "2025-02-03T18:14:32.623946Z",
     "iopub.status.busy": "2025-02-03T18:14:32.622959Z",
     "iopub.status.idle": "2025-02-03T18:14:32.642652Z",
     "shell.execute_reply": "2025-02-03T18:14:32.641430Z"
    }
   },
   "outputs": [],
   "source": [
    "met.dt<-data.table(met,key=c(\"time_point\",\"current_anot\",\"Assigned_GFPbc_integral\"))"
   ]
  },
  {
   "cell_type": "code",
   "execution_count": 234,
   "id": "3634bc7b-9929-4ce8-906e-22faa5f8be25",
   "metadata": {
    "execution": {
     "iopub.execute_input": "2025-02-03T18:14:33.126744Z",
     "iopub.status.busy": "2025-02-03T18:14:33.125779Z",
     "iopub.status.idle": "2025-02-03T18:14:33.133093Z",
     "shell.execute_reply": "2025-02-03T18:14:33.132067Z"
    }
   },
   "outputs": [],
   "source": [
    "#str(met.dt)"
   ]
  },
  {
   "cell_type": "code",
   "execution_count": 235,
   "id": "a1c6bd80-1c76-4d5c-89f1-b2471b1855c6",
   "metadata": {
    "execution": {
     "iopub.execute_input": "2025-02-03T18:14:33.894193Z",
     "iopub.status.busy": "2025-02-03T18:14:33.893266Z",
     "iopub.status.idle": "2025-02-03T18:14:33.903490Z",
     "shell.execute_reply": "2025-02-03T18:14:33.902411Z"
    }
   },
   "outputs": [],
   "source": [
    "Freq.table<-as.data.frame(met.dt[,.(Freq=.N),by=key(met.dt)], stringsAsFactors=F)\n",
    "#Freq.table"
   ]
  },
  {
   "cell_type": "code",
   "execution_count": 236,
   "id": "735eaf19-4f31-48fc-b808-ab5b73a2c802",
   "metadata": {
    "execution": {
     "iopub.execute_input": "2025-02-03T18:14:38.001949Z",
     "iopub.status.busy": "2025-02-03T18:14:38.000167Z",
     "iopub.status.idle": "2025-02-03T18:14:38.024687Z",
     "shell.execute_reply": "2025-02-03T18:14:38.023505Z"
    }
   },
   "outputs": [],
   "source": [
    "met.dt<-data.table(met, key=c(\"time_point\",\"current_anot\"))\n",
    "Freq.TOTAL<-as.data.frame(met.dt[,.(TOTAL=.N),by=key(met.dt)], stringsAsFactors=F)\n",
    "#Freq.TOTAL"
   ]
  },
  {
   "cell_type": "code",
   "execution_count": 237,
   "id": "d31033d0-ce97-48fc-9813-5185487ec597",
   "metadata": {
    "execution": {
     "iopub.execute_input": "2025-02-03T18:14:38.920933Z",
     "iopub.status.busy": "2025-02-03T18:14:38.919936Z",
     "iopub.status.idle": "2025-02-03T18:14:38.931269Z",
     "shell.execute_reply": "2025-02-03T18:14:38.930219Z"
    }
   },
   "outputs": [],
   "source": [
    "Freq.table<-merge(Freq.table,\n",
    "                  Freq.TOTAL,\n",
    "                  by=c(\"time_point\",\"current_anot\"))\n",
    "Freq.table$Perc<-round((100*(Freq.table$Freq/Freq.table$TOTAL)),2)\n",
    "\n",
    "#Freq.table"
   ]
  },
  {
   "cell_type": "code",
   "execution_count": 238,
   "id": "a45a7365-0895-4039-903a-201805d88026",
   "metadata": {
    "execution": {
     "iopub.execute_input": "2025-02-03T18:14:38.933871Z",
     "iopub.status.busy": "2025-02-03T18:14:38.932946Z",
     "iopub.status.idle": "2025-02-03T18:14:38.944072Z",
     "shell.execute_reply": "2025-02-03T18:14:38.943004Z"
    }
   },
   "outputs": [
    {
     "name": "stdout",
     "output_type": "stream",
     "text": [
      "'data.frame':\t195 obs. of  6 variables:\n",
      " $ time_point             : Ord.factor w/ 4 levels \"Day_0\"<\"Day_8\"<..: 1 1 1 1 1 1 1 1 1 1 ...\n",
      " $ current_anot           : Ord.factor w/ 6 levels \"hESC\"<\"HemogenicEndothelium\"<..: 5 5 5 5 5 5 5 5 5 5 ...\n",
      " $ Assigned_GFPbc_integral: Ord.factor w/ 14 levels \"chrGFP_WTA\"<\"chrGFP_WTB\"<..: 1 2 3 4 5 6 7 8 9 10 ...\n",
      " $ Freq                   : int  2 1 5 3 6 8 25 5 78 12 ...\n",
      " $ TOTAL                  : int  380 380 380 380 380 380 380 380 380 380 ...\n",
      " $ Perc                   : num  0.53 0.26 1.32 0.79 1.58 ...\n"
     ]
    }
   ],
   "source": [
    "str(Freq.table)"
   ]
  },
  {
   "cell_type": "code",
   "execution_count": 239,
   "id": "3c3c3b6f-5b09-4ee7-aed0-a01414ec1422",
   "metadata": {
    "execution": {
     "iopub.execute_input": "2025-02-03T18:14:38.975526Z",
     "iopub.status.busy": "2025-02-03T18:14:38.974599Z",
     "iopub.status.idle": "2025-02-03T18:14:38.995472Z",
     "shell.execute_reply": "2025-02-03T18:14:38.994384Z"
    }
   },
   "outputs": [],
   "source": [
    "met.dt<-data.table(met, key=c(\"time_point\"))\n",
    "Freq.time_point<-as.data.frame(met.dt[,.(ntime=.N),by=key(met.dt)], stringsAsFactors=F)\n",
    "\n",
    "Freq.table<-merge(Freq.table,\n",
    "                  Freq.time_point,\n",
    "                  by=\"time_point\")\n",
    "\n",
    "#Freq.table"
   ]
  },
  {
   "cell_type": "code",
   "execution_count": 240,
   "id": "ece085ba-9f72-4311-bcd3-a6c784e90e51",
   "metadata": {
    "execution": {
     "iopub.execute_input": "2025-02-03T18:14:38.998134Z",
     "iopub.status.busy": "2025-02-03T18:14:38.997187Z",
     "iopub.status.idle": "2025-02-03T18:14:39.008910Z",
     "shell.execute_reply": "2025-02-03T18:14:39.007792Z"
    },
    "scrolled": true
   },
   "outputs": [
    {
     "name": "stdout",
     "output_type": "stream",
     "text": [
      "'data.frame':\t195 obs. of  7 variables:\n",
      " $ time_point             : Ord.factor w/ 4 levels \"Day_0\"<\"Day_8\"<..: 1 1 1 1 1 1 1 1 1 1 ...\n",
      " $ current_anot           : Ord.factor w/ 6 levels \"hESC\"<\"HemogenicEndothelium\"<..: 5 5 5 5 5 5 5 5 5 5 ...\n",
      " $ Assigned_GFPbc_integral: Ord.factor w/ 14 levels \"chrGFP_WTA\"<\"chrGFP_WTB\"<..: 1 2 3 4 5 6 7 8 9 10 ...\n",
      " $ Freq                   : int  2 1 5 3 6 8 25 5 78 12 ...\n",
      " $ TOTAL                  : int  380 380 380 380 380 380 380 380 380 380 ...\n",
      " $ Perc                   : num  0.53 0.26 1.32 0.79 1.58 ...\n",
      " $ ntime                  : int  13520 13520 13520 13520 13520 13520 13520 13520 13520 13520 ...\n"
     ]
    }
   ],
   "source": [
    "str(Freq.table)"
   ]
  },
  {
   "cell_type": "code",
   "execution_count": 241,
   "id": "1b7e7392-bb5b-4f5e-8c8d-1a960afa25ae",
   "metadata": {
    "execution": {
     "iopub.execute_input": "2025-02-03T18:14:56.351788Z",
     "iopub.status.busy": "2025-02-03T18:14:56.350677Z",
     "iopub.status.idle": "2025-02-03T18:14:56.359951Z",
     "shell.execute_reply": "2025-02-03T18:14:56.358896Z"
    }
   },
   "outputs": [],
   "source": [
    "Freq.TOTAL<-merge(Freq.TOTAL,\n",
    "                  Freq.time_point,\n",
    "                  by=\"time_point\")"
   ]
  },
  {
   "cell_type": "code",
   "execution_count": 242,
   "id": "8ca5abf4-a458-4c7b-bd7b-6262ddc0c9d4",
   "metadata": {
    "execution": {
     "iopub.execute_input": "2025-02-03T18:15:00.005667Z",
     "iopub.status.busy": "2025-02-03T18:15:00.004670Z",
     "iopub.status.idle": "2025-02-03T18:15:00.018328Z",
     "shell.execute_reply": "2025-02-03T18:15:00.017247Z"
    }
   },
   "outputs": [
    {
     "name": "stdout",
     "output_type": "stream",
     "text": [
      "'data.frame':\t159 obs. of  7 variables:\n",
      " $ time_point             : Ord.factor w/ 4 levels \"Day_0\"<\"Day_8\"<..: 1 1 1 1 1 1 1 1 1 1 ...\n",
      " $ current_anot           : Ord.factor w/ 6 levels \"hESC\"<\"HemogenicEndothelium\"<..: 5 5 5 5 5 5 5 5 5 5 ...\n",
      " $ Assigned_GFPbc_integral: Ord.factor w/ 14 levels \"chrGFP_WTA\"<\"chrGFP_WTB\"<..: 1 2 3 4 5 6 7 8 9 10 ...\n",
      " $ Freq                   : int  2 1 5 3 6 8 25 5 78 12 ...\n",
      " $ TOTAL                  : int  380 380 380 380 380 380 380 380 380 380 ...\n",
      " $ Perc                   : num  0.53 0.26 1.32 0.79 1.58 ...\n",
      " $ ntime                  : int  13520 13520 13520 13520 13520 13520 13520 13520 13520 13520 ...\n"
     ]
    }
   ],
   "source": [
    "Freq.table_filtered<-Freq.table[which(Freq.table$TOTAL >= 100),]\n",
    "\n",
    "str(Freq.table_filtered)"
   ]
  },
  {
   "cell_type": "code",
   "execution_count": 243,
   "id": "0dcf6011-a596-45d4-9bc4-7ec2393cc18e",
   "metadata": {
    "execution": {
     "iopub.execute_input": "2025-02-03T18:15:00.663709Z",
     "iopub.status.busy": "2025-02-03T18:15:00.662811Z",
     "iopub.status.idle": "2025-02-03T18:15:00.670219Z",
     "shell.execute_reply": "2025-02-03T18:15:00.669263Z"
    }
   },
   "outputs": [],
   "source": [
    "fill_colours<-c(brewer.pal(9, \"Greens\")[c(5,6,7)],brewer.pal(9, \"Reds\")[c(5,6,7)],brewer.pal(9, \"Purples\")[c(5,6,7)],brewer.pal(9, \"PuRd\")[c(5,6,7)],'gray','black')"
   ]
  },
  {
   "cell_type": "code",
   "execution_count": 244,
   "id": "f926d4e2-af55-40c7-9e2f-304ed476b49a",
   "metadata": {
    "execution": {
     "iopub.execute_input": "2025-02-03T18:15:02.188073Z",
     "iopub.status.busy": "2025-02-03T18:15:02.187163Z",
     "iopub.status.idle": "2025-02-03T18:15:02.195817Z",
     "shell.execute_reply": "2025-02-03T18:15:02.194842Z"
    }
   },
   "outputs": [],
   "source": [
    "library(forcats)\n",
    "library(cowplot)"
   ]
  },
  {
   "cell_type": "code",
   "execution_count": 246,
   "id": "104f8f14-0fd9-48cc-a7e8-9b9c1daff4a5",
   "metadata": {
    "execution": {
     "iopub.execute_input": "2025-02-03T18:16:57.069160Z",
     "iopub.status.busy": "2025-02-03T18:16:57.068101Z",
     "iopub.status.idle": "2025-02-03T18:16:57.782269Z",
     "shell.execute_reply": "2025-02-03T18:16:57.781121Z"
    }
   },
   "outputs": [
    {
     "name": "stdout",
     "output_type": "stream",
     "text": [
      "-------------------------------------->\t0 25 50 75 100\n"
     ]
    },
    {
     "data": {
      "image/png": "[encoded data removed]",
      "text/plain": [
       "plot without title"
      ]
     },
     "metadata": {
      "image/png": {
       "height": 420,
       "width": 420
      }
     },
     "output_type": "display_data"
    }
   ],
   "source": [
    "#### Stacked Graph #2---------------\n",
    "  \n",
    "  breaks.Rank<-(seq(0,100,by=25))\n",
    "  labels.Rank<-as.character(breaks.Rank)\n",
    "  \n",
    "  cat(\"-------------------------------------->\\t\")\n",
    "  cat(sprintf(as.character(labels.Rank)))\n",
    "  cat(\"\\n\")\n",
    "  \n",
    "  \n",
    "  stacked_barplot<-Freq.table_filtered %>%\n",
    "    mutate(myaxis = paste0(current_anot, \"\\n\", \"n=\", TOTAL), drop=F) %>%\n",
    "    mutate(myaxis=fct_reorder(myaxis,as.numeric(current_anot)), drop=F) %>%\n",
    "    ggplot(aes(x=myaxis, y=Perc, fill=Assigned_GFPbc_integral)) +\n",
    "    geom_bar(stat=\"identity\",colour='white')+\n",
    "    scale_y_continuous(name=paste(\"Percentage of cells in each cell type\",sep=\" \"),breaks=breaks.Rank,labels=labels.Rank,\n",
    "                       limits=c(breaks.Rank[1],breaks.Rank[length(breaks.Rank)]+1))+\n",
    "    scale_fill_manual(values=fill_colours,\n",
    "                      drop=F,\n",
    "                      name=\"Genotype\")\n",
    "\n",
    " stacked_barplot<-stacked_barplot+\n",
    "    theme_cowplot(font_size = 2)+\n",
    "    facet_grid(. ~ time_point+ntime, scales='free_x', space='free_x', switch=\"y\", labeller=labeller(paste0(Freq.table_filtered$time_point, \"\\n\", \"n=\", Freq.table_filtered$ntime)))+   \n",
    "    scale_x_discrete(name=\"current_anot\", drop=T)+\n",
    "    theme( strip.background = element_blank(),\n",
    "           strip.placement = \"outside\",\n",
    "           strip.text = element_text(size=6),\n",
    "           panel.spacing = unit(0.2, \"lines\"),\n",
    "           panel.background=element_rect(fill=\"white\"),\n",
    "           panel.border=element_rect(colour=\"white\",size=0,5),\n",
    "           panel.grid.major = element_blank(),\n",
    "           panel.grid.minor = element_blank())+\n",
    "        theme_classic()+\n",
    "            theme(axis.title.y=element_text(size=12, color=\"black\", family=\"sans\"),\n",
    "                  axis.title.x=element_blank(),\n",
    "                  axis.text.y=element_text(angle=0,size=10, color=\"black\", family=\"sans\"),\n",
    "                  axis.text.x=element_text(angle=45,size=6,vjust=1,hjust=1,color=\"black\", family=\"sans\"),\n",
    "                  axis.line.x = element_line(size = 0.2),\n",
    "                  axis.ticks.x = element_line(size = 0.2),\n",
    "                  axis.ticks.y = element_line(size = 0.2),\n",
    "                  axis.line.y = element_line(size = 0.2))+\n",
    "            theme(legend.title = element_blank(),\n",
    "                  legend.text = element_text(size=8, color=\"black\", family=\"sans\"),\n",
    "                  legend.key.size = unit(0.25, 'cm'), #change legend key size\n",
    "                  legend.key.height = unit(0.25, 'cm'), #change legend key height\n",
    "                  legend.key.width = unit(0.25, 'cm'), #change legend key width\n",
    "                  legend.position=\"bottom\")\n",
    "\n",
    "\n",
    "\n",
    "stacked_barplot"
   ]
  },
  {
   "cell_type": "code",
   "execution_count": 247,
   "id": "687142c5-d129-4aee-ad55-6bfdd5e2fa7f",
   "metadata": {
    "execution": {
     "iopub.execute_input": "2025-02-03T18:16:57.784829Z",
     "iopub.status.busy": "2025-02-03T18:16:57.783900Z",
     "iopub.status.idle": "2025-02-03T18:16:58.725790Z",
     "shell.execute_reply": "2025-02-03T18:16:58.724545Z"
    }
   },
   "outputs": [],
   "source": [
    "setwd(path_graphs)\n",
    "\n",
    "svgname<-paste(\"stacked_barplot_time_point_current_anot_vs_Assigned_GFPbc_integral\",\".png\",sep='')\n",
    "makesvg = TRUE\n",
    "\n",
    "if (makesvg == TRUE)\n",
    "{\n",
    "  ggsave(svgname, plot= stacked_barplot,\n",
    "         device=\"png\",\n",
    "        width=12, height=6)\n",
    "}"
   ]
  },
  {
   "cell_type": "markdown",
   "id": "79c9af01-2fe8-4e6c-9efc-32f849406eab",
   "metadata": {},
   "source": [
    "## subset for the cells that are genotyped"
   ]
  },
  {
   "cell_type": "code",
   "execution_count": 273,
   "id": "ace96cd1-6443-4be4-9e17-eb6bcb8617dc",
   "metadata": {
    "execution": {
     "iopub.execute_input": "2025-02-03T18:30:20.714866Z",
     "iopub.status.busy": "2025-02-03T18:30:20.713770Z",
     "iopub.status.idle": "2025-02-03T18:30:30.660179Z",
     "shell.execute_reply": "2025-02-03T18:30:30.659056Z"
    }
   },
   "outputs": [
    {
     "data": {
      "text/plain": [
       "An object of class Seurat \n",
       "445320 features across 16835 samples within 4 assays \n",
       "Active assay: SCT (31512 features, 3000 variable features)\n",
       " 3 layers present: counts, data, scale.data\n",
       " 3 other assays present: RNA, RNA_raw, ATAC\n",
       " 7 dimensional reductions calculated: pca, umap.rna, lsi, umap.atac, umap.wnn, harmony.rna, harmony.atac"
      ]
     },
     "metadata": {},
     "output_type": "display_data"
    }
   ],
   "source": [
    "adata_sub<-subset(adata, Assigned_GFPbc_integral != \"Doublet\" & Assigned_GFPbc_integral != \"Negative\")\n",
    "adata_sub"
   ]
  },
  {
   "cell_type": "code",
   "execution_count": 274,
   "id": "98f35f4b-df20-4324-92de-899106cd0d04",
   "metadata": {
    "execution": {
     "iopub.execute_input": "2025-02-03T18:30:30.662764Z",
     "iopub.status.busy": "2025-02-03T18:30:30.661871Z",
     "iopub.status.idle": "2025-02-03T18:30:30.679195Z",
     "shell.execute_reply": "2025-02-03T18:30:30.678212Z"
    }
   },
   "outputs": [],
   "source": [
    "met<-droplevels(adata_sub[[]])"
   ]
  },
  {
   "cell_type": "code",
   "execution_count": 275,
   "id": "41a304ba-1edf-44a5-99c1-d30c5cbf4cf2",
   "metadata": {
    "execution": {
     "iopub.execute_input": "2025-02-03T18:30:30.681735Z",
     "iopub.status.busy": "2025-02-03T18:30:30.680865Z",
     "iopub.status.idle": "2025-02-03T18:30:30.690687Z",
     "shell.execute_reply": "2025-02-03T18:30:30.689682Z"
    }
   },
   "outputs": [
    {
     "data": {
      "text/html": [
       "<style>\n",
       ".list-inline {list-style: none; margin:0; padding: 0}\n",
       ".list-inline>li {display: inline-block}\n",
       ".list-inline>li:not(:last-child)::after {content: \"\\00b7\"; padding: 0 .5ex}\n",
       "</style>\n",
       "<ol class=list-inline><li>'orig.ident'</li><li>'nCount_RNA'</li><li>'nFeature_RNA'</li><li>'percent.mt'</li><li>'nCount_RNA_raw'</li><li>'nFeature_RNA_raw'</li><li>'nCount_ATAC'</li><li>'nFeature_ATAC'</li><li>'gex_raw_reads'</li><li>'gex_mapped_reads'</li><li>'gex_conf_intergenic_reads'</li><li>'gex_conf_exonic_reads'</li><li>'gex_conf_intronic_reads'</li><li>'gex_conf_exonic_unique_reads'</li><li>'gex_conf_exonic_antisense_reads'</li><li>'gex_conf_exonic_dup_reads'</li><li>'gex_exonic_umis'</li><li>'gex_conf_intronic_unique_reads'</li><li>'gex_conf_intronic_antisense_reads'</li><li>'gex_conf_intronic_dup_reads'</li><li>'gex_intronic_umis'</li><li>'gex_conf_txomic_unique_reads'</li><li>'gex_umis_count'</li><li>'gex_genes_count'</li><li>'atac_raw_reads'</li><li>'atac_unmapped_reads'</li><li>'atac_lowmapq'</li><li>'atac_dup_reads'</li><li>'atac_chimeric_reads'</li><li>'atac_mitochondrial_reads'</li><li>'atac_fragments'</li><li>'atac_TSS_fragments'</li><li>'atac_peak_region_fragments'</li><li>'atac_peak_region_cutsites'</li><li>'TSS.enrichment'</li><li>'TSS.percentile'</li><li>'scDblFinder.class'</li><li>'scDblFinder.score'</li><li>'scDblFinder.weighted'</li><li>'scDblFinder.cxds_score'</li><li>'scDblFinder.class_atac'</li><li>'scDblFinder.score_atac'</li><li>'scDblFinder.weighted_atac'</li><li>'scDblFinder.cxds_score_atac'</li><li>'No_assigned_GFPbc'</li><li>'Assigned_GFPbc'</li><li>'Assigned_GFPgenotype'</li><li>'DBL_comb'</li><li>'amulet_nFrags'</li><li>'amulet_uniqFrags'</li><li>'amulet_nAbove2'</li><li>'amulet_total.nAbove2'</li><li>'amulet_p.value'</li><li>'amulet_q.value'</li><li>'doublet_amulet'</li><li>'nCount_SCT'</li><li>'nFeature_SCT'</li><li>'SCT.weight'</li><li>'ATAC.weight'</li><li>'wsnn_res.0.2'</li><li>'seurat_clusters'</li><li>'doublet'</li><li>'wsnn_res.2'</li><li>'wsnn_res.0.5'</li><li>'wsnn_res.0.25'</li><li>'CellTypist_BMA_label'</li><li>'CellTypist_BMA_conf_score'</li><li>'CellTypist_IPSCs_label'</li><li>'CellTypist_IPSCs_conf_score'</li><li>'CellTypist_BMA_label_filtered'</li><li>'CellTypist_IPSCs_label_filtered'</li><li>'time_point'</li><li>'time'</li><li>'nucleosome_signal'</li><li>'nucleosome_percentile'</li><li>'FRiP'</li><li>'atac_pct_reads_in_peaks'</li><li>'my_anot'</li><li>'FOI'</li><li>'my_anot_updated'</li><li>'majority_voting_BMA'</li><li>'majority_voting_iPSCs'</li><li>'current_anot'</li><li>'Assignation_demux_NO_CB'</li><li>'Assigned_GFPbc_demux_NO_CB'</li><li>'Assignation_demux_CB'</li><li>'Assigned_GFPbc_demux_CB'</li><li>'Assigned_GFPbc_integral'</li></ol>\n"
      ],
      "text/latex": [
       "\\begin{enumerate*}\n",
       "\\item 'orig.ident'\n",
       "\\item 'nCount\\_RNA'\n",
       "\\item 'nFeature\\_RNA'\n",
       "\\item 'percent.mt'\n",
       "\\item 'nCount\\_RNA\\_raw'\n",
       "\\item 'nFeature\\_RNA\\_raw'\n",
       "\\item 'nCount\\_ATAC'\n",
       "\\item 'nFeature\\_ATAC'\n",
       "\\item 'gex\\_raw\\_reads'\n",
       "\\item 'gex\\_mapped\\_reads'\n",
       "\\item 'gex\\_conf\\_intergenic\\_reads'\n",
       "\\item 'gex\\_conf\\_exonic\\_reads'\n",
       "\\item 'gex\\_conf\\_intronic\\_reads'\n",
       "\\item 'gex\\_conf\\_exonic\\_unique\\_reads'\n",
       "\\item 'gex\\_conf\\_exonic\\_antisense\\_reads'\n",
       "\\item 'gex\\_conf\\_exonic\\_dup\\_reads'\n",
       "\\item 'gex\\_exonic\\_umis'\n",
       "\\item 'gex\\_conf\\_intronic\\_unique\\_reads'\n",
       "\\item 'gex\\_conf\\_intronic\\_antisense\\_reads'\n",
       "\\item 'gex\\_conf\\_intronic\\_dup\\_reads'\n",
       "\\item 'gex\\_intronic\\_umis'\n",
       "\\item 'gex\\_conf\\_txomic\\_unique\\_reads'\n",
       "\\item 'gex\\_umis\\_count'\n",
       "\\item 'gex\\_genes\\_count'\n",
       "\\item 'atac\\_raw\\_reads'\n",
       "\\item 'atac\\_unmapped\\_reads'\n",
       "\\item 'atac\\_lowmapq'\n",
       "\\item 'atac\\_dup\\_reads'\n",
       "\\item 'atac\\_chimeric\\_reads'\n",
       "\\item 'atac\\_mitochondrial\\_reads'\n",
       "\\item 'atac\\_fragments'\n",
       "\\item 'atac\\_TSS\\_fragments'\n",
       "\\item 'atac\\_peak\\_region\\_fragments'\n",
       "\\item 'atac\\_peak\\_region\\_cutsites'\n",
       "\\item 'TSS.enrichment'\n",
       "\\item 'TSS.percentile'\n",
       "\\item 'scDblFinder.class'\n",
       "\\item 'scDblFinder.score'\n",
       "\\item 'scDblFinder.weighted'\n",
       "\\item 'scDblFinder.cxds\\_score'\n",
       "\\item 'scDblFinder.class\\_atac'\n",
       "\\item 'scDblFinder.score\\_atac'\n",
       "\\item 'scDblFinder.weighted\\_atac'\n",
       "\\item 'scDblFinder.cxds\\_score\\_atac'\n",
       "\\item 'No\\_assigned\\_GFPbc'\n",
       "\\item 'Assigned\\_GFPbc'\n",
       "\\item 'Assigned\\_GFPgenotype'\n",
       "\\item 'DBL\\_comb'\n",
       "\\item 'amulet\\_nFrags'\n",
       "\\item 'amulet\\_uniqFrags'\n",
       "\\item 'amulet\\_nAbove2'\n",
       "\\item 'amulet\\_total.nAbove2'\n",
       "\\item 'amulet\\_p.value'\n",
       "\\item 'amulet\\_q.value'\n",
       "\\item 'doublet\\_amulet'\n",
       "\\item 'nCount\\_SCT'\n",
       "\\item 'nFeature\\_SCT'\n",
       "\\item 'SCT.weight'\n",
       "\\item 'ATAC.weight'\n",
       "\\item 'wsnn\\_res.0.2'\n",
       "\\item 'seurat\\_clusters'\n",
       "\\item 'doublet'\n",
       "\\item 'wsnn\\_res.2'\n",
       "\\item 'wsnn\\_res.0.5'\n",
       "\\item 'wsnn\\_res.0.25'\n",
       "\\item 'CellTypist\\_BMA\\_label'\n",
       "\\item 'CellTypist\\_BMA\\_conf\\_score'\n",
       "\\item 'CellTypist\\_IPSCs\\_label'\n",
       "\\item 'CellTypist\\_IPSCs\\_conf\\_score'\n",
       "\\item 'CellTypist\\_BMA\\_label\\_filtered'\n",
       "\\item 'CellTypist\\_IPSCs\\_label\\_filtered'\n",
       "\\item 'time\\_point'\n",
       "\\item 'time'\n",
       "\\item 'nucleosome\\_signal'\n",
       "\\item 'nucleosome\\_percentile'\n",
       "\\item 'FRiP'\n",
       "\\item 'atac\\_pct\\_reads\\_in\\_peaks'\n",
       "\\item 'my\\_anot'\n",
       "\\item 'FOI'\n",
       "\\item 'my\\_anot\\_updated'\n",
       "\\item 'majority\\_voting\\_BMA'\n",
       "\\item 'majority\\_voting\\_iPSCs'\n",
       "\\item 'current\\_anot'\n",
       "\\item 'Assignation\\_demux\\_NO\\_CB'\n",
       "\\item 'Assigned\\_GFPbc\\_demux\\_NO\\_CB'\n",
       "\\item 'Assignation\\_demux\\_CB'\n",
       "\\item 'Assigned\\_GFPbc\\_demux\\_CB'\n",
       "\\item 'Assigned\\_GFPbc\\_integral'\n",
       "\\end{enumerate*}\n"
      ],
      "text/markdown": [
       "1. 'orig.ident'\n",
       "2. 'nCount_RNA'\n",
       "3. 'nFeature_RNA'\n",
       "4. 'percent.mt'\n",
       "5. 'nCount_RNA_raw'\n",
       "6. 'nFeature_RNA_raw'\n",
       "7. 'nCount_ATAC'\n",
       "8. 'nFeature_ATAC'\n",
       "9. 'gex_raw_reads'\n",
       "10. 'gex_mapped_reads'\n",
       "11. 'gex_conf_intergenic_reads'\n",
       "12. 'gex_conf_exonic_reads'\n",
       "13. 'gex_conf_intronic_reads'\n",
       "14. 'gex_conf_exonic_unique_reads'\n",
       "15. 'gex_conf_exonic_antisense_reads'\n",
       "16. 'gex_conf_exonic_dup_reads'\n",
       "17. 'gex_exonic_umis'\n",
       "18. 'gex_conf_intronic_unique_reads'\n",
       "19. 'gex_conf_intronic_antisense_reads'\n",
       "20. 'gex_conf_intronic_dup_reads'\n",
       "21. 'gex_intronic_umis'\n",
       "22. 'gex_conf_txomic_unique_reads'\n",
       "23. 'gex_umis_count'\n",
       "24. 'gex_genes_count'\n",
       "25. 'atac_raw_reads'\n",
       "26. 'atac_unmapped_reads'\n",
       "27. 'atac_lowmapq'\n",
       "28. 'atac_dup_reads'\n",
       "29. 'atac_chimeric_reads'\n",
       "30. 'atac_mitochondrial_reads'\n",
       "31. 'atac_fragments'\n",
       "32. 'atac_TSS_fragments'\n",
       "33. 'atac_peak_region_fragments'\n",
       "34. 'atac_peak_region_cutsites'\n",
       "35. 'TSS.enrichment'\n",
       "36. 'TSS.percentile'\n",
       "37. 'scDblFinder.class'\n",
       "38. 'scDblFinder.score'\n",
       "39. 'scDblFinder.weighted'\n",
       "40. 'scDblFinder.cxds_score'\n",
       "41. 'scDblFinder.class_atac'\n",
       "42. 'scDblFinder.score_atac'\n",
       "43. 'scDblFinder.weighted_atac'\n",
       "44. 'scDblFinder.cxds_score_atac'\n",
       "45. 'No_assigned_GFPbc'\n",
       "46. 'Assigned_GFPbc'\n",
       "47. 'Assigned_GFPgenotype'\n",
       "48. 'DBL_comb'\n",
       "49. 'amulet_nFrags'\n",
       "50. 'amulet_uniqFrags'\n",
       "51. 'amulet_nAbove2'\n",
       "52. 'amulet_total.nAbove2'\n",
       "53. 'amulet_p.value'\n",
       "54. 'amulet_q.value'\n",
       "55. 'doublet_amulet'\n",
       "56. 'nCount_SCT'\n",
       "57. 'nFeature_SCT'\n",
       "58. 'SCT.weight'\n",
       "59. 'ATAC.weight'\n",
       "60. 'wsnn_res.0.2'\n",
       "61. 'seurat_clusters'\n",
       "62. 'doublet'\n",
       "63. 'wsnn_res.2'\n",
       "64. 'wsnn_res.0.5'\n",
       "65. 'wsnn_res.0.25'\n",
       "66. 'CellTypist_BMA_label'\n",
       "67. 'CellTypist_BMA_conf_score'\n",
       "68. 'CellTypist_IPSCs_label'\n",
       "69. 'CellTypist_IPSCs_conf_score'\n",
       "70. 'CellTypist_BMA_label_filtered'\n",
       "71. 'CellTypist_IPSCs_label_filtered'\n",
       "72. 'time_point'\n",
       "73. 'time'\n",
       "74. 'nucleosome_signal'\n",
       "75. 'nucleosome_percentile'\n",
       "76. 'FRiP'\n",
       "77. 'atac_pct_reads_in_peaks'\n",
       "78. 'my_anot'\n",
       "79. 'FOI'\n",
       "80. 'my_anot_updated'\n",
       "81. 'majority_voting_BMA'\n",
       "82. 'majority_voting_iPSCs'\n",
       "83. 'current_anot'\n",
       "84. 'Assignation_demux_NO_CB'\n",
       "85. 'Assigned_GFPbc_demux_NO_CB'\n",
       "86. 'Assignation_demux_CB'\n",
       "87. 'Assigned_GFPbc_demux_CB'\n",
       "88. 'Assigned_GFPbc_integral'\n",
       "\n",
       "\n"
      ],
      "text/plain": [
       " [1] \"orig.ident\"                        \"nCount_RNA\"                       \n",
       " [3] \"nFeature_RNA\"                      \"percent.mt\"                       \n",
       " [5] \"nCount_RNA_raw\"                    \"nFeature_RNA_raw\"                 \n",
       " [7] \"nCount_ATAC\"                       \"nFeature_ATAC\"                    \n",
       " [9] \"gex_raw_reads\"                     \"gex_mapped_reads\"                 \n",
       "[11] \"gex_conf_intergenic_reads\"         \"gex_conf_exonic_reads\"            \n",
       "[13] \"gex_conf_intronic_reads\"           \"gex_conf_exonic_unique_reads\"     \n",
       "[15] \"gex_conf_exonic_antisense_reads\"   \"gex_conf_exonic_dup_reads\"        \n",
       "[17] \"gex_exonic_umis\"                   \"gex_conf_intronic_unique_reads\"   \n",
       "[19] \"gex_conf_intronic_antisense_reads\" \"gex_conf_intronic_dup_reads\"      \n",
       "[21] \"gex_intronic_umis\"                 \"gex_conf_txomic_unique_reads\"     \n",
       "[23] \"gex_umis_count\"                    \"gex_genes_count\"                  \n",
       "[25] \"atac_raw_reads\"                    \"atac_unmapped_reads\"              \n",
       "[27] \"atac_lowmapq\"                      \"atac_dup_reads\"                   \n",
       "[29] \"atac_chimeric_reads\"               \"atac_mitochondrial_reads\"         \n",
       "[31] \"atac_fragments\"                    \"atac_TSS_fragments\"               \n",
       "[33] \"atac_peak_region_fragments\"        \"atac_peak_region_cutsites\"        \n",
       "[35] \"TSS.enrichment\"                    \"TSS.percentile\"                   \n",
       "[37] \"scDblFinder.class\"                 \"scDblFinder.score\"                \n",
       "[39] \"scDblFinder.weighted\"              \"scDblFinder.cxds_score\"           \n",
       "[41] \"scDblFinder.class_atac\"            \"scDblFinder.score_atac\"           \n",
       "[43] \"scDblFinder.weighted_atac\"         \"scDblFinder.cxds_score_atac\"      \n",
       "[45] \"No_assigned_GFPbc\"                 \"Assigned_GFPbc\"                   \n",
       "[47] \"Assigned_GFPgenotype\"              \"DBL_comb\"                         \n",
       "[49] \"amulet_nFrags\"                     \"amulet_uniqFrags\"                 \n",
       "[51] \"amulet_nAbove2\"                    \"amulet_total.nAbove2\"             \n",
       "[53] \"amulet_p.value\"                    \"amulet_q.value\"                   \n",
       "[55] \"doublet_amulet\"                    \"nCount_SCT\"                       \n",
       "[57] \"nFeature_SCT\"                      \"SCT.weight\"                       \n",
       "[59] \"ATAC.weight\"                       \"wsnn_res.0.2\"                     \n",
       "[61] \"seurat_clusters\"                   \"doublet\"                          \n",
       "[63] \"wsnn_res.2\"                        \"wsnn_res.0.5\"                     \n",
       "[65] \"wsnn_res.0.25\"                     \"CellTypist_BMA_label\"             \n",
       "[67] \"CellTypist_BMA_conf_score\"         \"CellTypist_IPSCs_label\"           \n",
       "[69] \"CellTypist_IPSCs_conf_score\"       \"CellTypist_BMA_label_filtered\"    \n",
       "[71] \"CellTypist_IPSCs_label_filtered\"   \"time_point\"                       \n",
       "[73] \"time\"                              \"nucleosome_signal\"                \n",
       "[75] \"nucleosome_percentile\"             \"FRiP\"                             \n",
       "[77] \"atac_pct_reads_in_peaks\"           \"my_anot\"                          \n",
       "[79] \"FOI\"                               \"my_anot_updated\"                  \n",
       "[81] \"majority_voting_BMA\"               \"majority_voting_iPSCs\"            \n",
       "[83] \"current_anot\"                      \"Assignation_demux_NO_CB\"          \n",
       "[85] \"Assigned_GFPbc_demux_NO_CB\"        \"Assignation_demux_CB\"             \n",
       "[87] \"Assigned_GFPbc_demux_CB\"           \"Assigned_GFPbc_integral\"          "
      ]
     },
     "metadata": {},
     "output_type": "display_data"
    }
   ],
   "source": [
    "colnames(met)"
   ]
  },
  {
   "cell_type": "code",
   "execution_count": 276,
   "id": "d36ed6d9-4c44-416d-b2fe-009efb927736",
   "metadata": {
    "execution": {
     "iopub.execute_input": "2025-02-03T18:30:30.693122Z",
     "iopub.status.busy": "2025-02-03T18:30:30.692267Z",
     "iopub.status.idle": "2025-02-03T18:30:30.705511Z",
     "shell.execute_reply": "2025-02-03T18:30:30.704491Z"
    }
   },
   "outputs": [],
   "source": [
    "met.dt<-data.table(met,key=c(\"time_point\",\"current_anot\",\"Assigned_GFPbc_integral\"))"
   ]
  },
  {
   "cell_type": "code",
   "execution_count": 277,
   "id": "7b5440e3-f069-4def-a9da-e033f61badaf",
   "metadata": {
    "execution": {
     "iopub.execute_input": "2025-02-03T18:30:30.708010Z",
     "iopub.status.busy": "2025-02-03T18:30:30.707136Z",
     "iopub.status.idle": "2025-02-03T18:30:30.713483Z",
     "shell.execute_reply": "2025-02-03T18:30:30.712516Z"
    }
   },
   "outputs": [],
   "source": [
    "#str(met.dt)"
   ]
  },
  {
   "cell_type": "code",
   "execution_count": 278,
   "id": "bad6ae8b-c360-49cc-bbfc-a0799b2cfdc5",
   "metadata": {
    "execution": {
     "iopub.execute_input": "2025-02-03T18:30:30.715919Z",
     "iopub.status.busy": "2025-02-03T18:30:30.715058Z",
     "iopub.status.idle": "2025-02-03T18:30:30.723949Z",
     "shell.execute_reply": "2025-02-03T18:30:30.722939Z"
    }
   },
   "outputs": [],
   "source": [
    "Freq.table<-as.data.frame(met.dt[,.(Freq=.N),by=key(met.dt)], stringsAsFactors=F)\n",
    "#Freq.table"
   ]
  },
  {
   "cell_type": "code",
   "execution_count": 279,
   "id": "0c79c9d6-67b1-40de-a507-29ad6fda3bf7",
   "metadata": {
    "execution": {
     "iopub.execute_input": "2025-02-03T18:30:30.726422Z",
     "iopub.status.busy": "2025-02-03T18:30:30.725552Z",
     "iopub.status.idle": "2025-02-03T18:30:30.741217Z",
     "shell.execute_reply": "2025-02-03T18:30:30.740199Z"
    }
   },
   "outputs": [],
   "source": [
    "met.dt<-data.table(met, key=c(\"time_point\",\"current_anot\"))\n",
    "Freq.TOTAL<-as.data.frame(met.dt[,.(TOTAL=.N),by=key(met.dt)], stringsAsFactors=F)\n",
    "#Freq.TOTAL"
   ]
  },
  {
   "cell_type": "code",
   "execution_count": 280,
   "id": "5e7ab86a-1e14-4578-9ca0-070369976456",
   "metadata": {
    "execution": {
     "iopub.execute_input": "2025-02-03T18:30:30.743725Z",
     "iopub.status.busy": "2025-02-03T18:30:30.742842Z",
     "iopub.status.idle": "2025-02-03T18:30:30.752848Z",
     "shell.execute_reply": "2025-02-03T18:30:30.751885Z"
    }
   },
   "outputs": [],
   "source": [
    "Freq.table<-merge(Freq.table,\n",
    "                  Freq.TOTAL,\n",
    "                  by=c(\"time_point\",\"current_anot\"))\n",
    "Freq.table$Perc<-round((100*(Freq.table$Freq/Freq.table$TOTAL)),2)\n",
    "\n",
    "#Freq.table"
   ]
  },
  {
   "cell_type": "code",
   "execution_count": 281,
   "id": "0e970b06-41e0-4859-801a-1d2ec5e619df",
   "metadata": {
    "execution": {
     "iopub.execute_input": "2025-02-03T18:30:30.755275Z",
     "iopub.status.busy": "2025-02-03T18:30:30.754417Z",
     "iopub.status.idle": "2025-02-03T18:30:30.765100Z",
     "shell.execute_reply": "2025-02-03T18:30:30.764105Z"
    }
   },
   "outputs": [
    {
     "name": "stdout",
     "output_type": "stream",
     "text": [
      "'data.frame':\t155 obs. of  6 variables:\n",
      " $ time_point             : Ord.factor w/ 4 levels \"Day_0\"<\"Day_8\"<..: 1 1 1 1 1 1 1 1 1 1 ...\n",
      " $ current_anot           : Ord.factor w/ 6 levels \"hESC\"<\"HemogenicEndothelium\"<..: 5 5 5 5 5 5 5 5 5 5 ...\n",
      " $ Assigned_GFPbc_integral: Ord.factor w/ 12 levels \"chrGFP_WTA\"<\"chrGFP_WTB\"<..: 1 2 3 4 5 6 7 8 9 10 ...\n",
      " $ Freq                   : int  2 1 5 3 6 8 25 5 78 12 ...\n",
      " $ TOTAL                  : int  178 178 178 178 178 178 178 178 178 178 ...\n",
      " $ Perc                   : num  1.12 0.56 2.81 1.69 3.37 ...\n"
     ]
    }
   ],
   "source": [
    "str(Freq.table)"
   ]
  },
  {
   "cell_type": "code",
   "execution_count": 282,
   "id": "10c0d1ec-6979-423c-be3f-4d4434a36c93",
   "metadata": {
    "execution": {
     "iopub.execute_input": "2025-02-03T18:30:30.767601Z",
     "iopub.status.busy": "2025-02-03T18:30:30.766721Z",
     "iopub.status.idle": "2025-02-03T18:30:30.783050Z",
     "shell.execute_reply": "2025-02-03T18:30:30.782029Z"
    }
   },
   "outputs": [],
   "source": [
    "met.dt<-data.table(met, key=c(\"time_point\"))\n",
    "Freq.time_point<-as.data.frame(met.dt[,.(ntime=.N),by=key(met.dt)], stringsAsFactors=F)\n",
    "\n",
    "Freq.table<-merge(Freq.table,\n",
    "                  Freq.time_point,\n",
    "                  by=\"time_point\")\n",
    "\n",
    "#Freq.table"
   ]
  },
  {
   "cell_type": "code",
   "execution_count": 283,
   "id": "aba4dbeb-6cfd-4cb7-abe0-dc4320f0ea99",
   "metadata": {
    "execution": {
     "iopub.execute_input": "2025-02-03T18:30:30.785528Z",
     "iopub.status.busy": "2025-02-03T18:30:30.784663Z",
     "iopub.status.idle": "2025-02-03T18:30:30.795459Z",
     "shell.execute_reply": "2025-02-03T18:30:30.794450Z"
    },
    "scrolled": true
   },
   "outputs": [
    {
     "name": "stdout",
     "output_type": "stream",
     "text": [
      "'data.frame':\t155 obs. of  7 variables:\n",
      " $ time_point             : Ord.factor w/ 4 levels \"Day_0\"<\"Day_8\"<..: 1 1 1 1 1 1 1 1 1 1 ...\n",
      " $ current_anot           : Ord.factor w/ 6 levels \"hESC\"<\"HemogenicEndothelium\"<..: 5 5 5 5 5 5 5 5 5 5 ...\n",
      " $ Assigned_GFPbc_integral: Ord.factor w/ 12 levels \"chrGFP_WTA\"<\"chrGFP_WTB\"<..: 1 2 3 4 5 6 7 8 9 10 ...\n",
      " $ Freq                   : int  2 1 5 3 6 8 25 5 78 12 ...\n",
      " $ TOTAL                  : int  178 178 178 178 178 178 178 178 178 178 ...\n",
      " $ Perc                   : num  1.12 0.56 2.81 1.69 3.37 ...\n",
      " $ ntime                  : int  5852 5852 5852 5852 5852 5852 5852 5852 5852 5852 ...\n"
     ]
    }
   ],
   "source": [
    "str(Freq.table)"
   ]
  },
  {
   "cell_type": "code",
   "execution_count": 284,
   "id": "8f58846c-f033-4f43-a9e8-54ead6d2390a",
   "metadata": {
    "execution": {
     "iopub.execute_input": "2025-02-03T18:30:30.797902Z",
     "iopub.status.busy": "2025-02-03T18:30:30.797033Z",
     "iopub.status.idle": "2025-02-03T18:30:30.804605Z",
     "shell.execute_reply": "2025-02-03T18:30:30.803596Z"
    }
   },
   "outputs": [],
   "source": [
    "Freq.TOTAL<-merge(Freq.TOTAL,\n",
    "                  Freq.time_point,\n",
    "                  by=\"time_point\")"
   ]
  },
  {
   "cell_type": "code",
   "execution_count": 285,
   "id": "25b5b11e-4354-4595-8c84-a990216cd2b3",
   "metadata": {
    "execution": {
     "iopub.execute_input": "2025-02-03T18:30:30.807073Z",
     "iopub.status.busy": "2025-02-03T18:30:30.806208Z",
     "iopub.status.idle": "2025-02-03T18:30:30.818557Z",
     "shell.execute_reply": "2025-02-03T18:30:30.817536Z"
    }
   },
   "outputs": [
    {
     "name": "stdout",
     "output_type": "stream",
     "text": [
      "'data.frame':\t118 obs. of  7 variables:\n",
      " $ time_point             : Ord.factor w/ 4 levels \"Day_0\"<\"Day_8\"<..: 1 1 1 1 1 1 1 1 1 1 ...\n",
      " $ current_anot           : Ord.factor w/ 6 levels \"hESC\"<\"HemogenicEndothelium\"<..: 5 5 5 5 5 5 5 5 5 5 ...\n",
      " $ Assigned_GFPbc_integral: Ord.factor w/ 12 levels \"chrGFP_WTA\"<\"chrGFP_WTB\"<..: 1 2 3 4 5 6 7 8 9 10 ...\n",
      " $ Freq                   : int  2 1 5 3 6 8 25 5 78 12 ...\n",
      " $ TOTAL                  : int  178 178 178 178 178 178 178 178 178 178 ...\n",
      " $ Perc                   : num  1.12 0.56 2.81 1.69 3.37 ...\n",
      " $ ntime                  : int  5852 5852 5852 5852 5852 5852 5852 5852 5852 5852 ...\n"
     ]
    }
   ],
   "source": [
    "Freq.table_filtered<-Freq.table[which(Freq.table$TOTAL >= 50),]\n",
    "\n",
    "str(Freq.table_filtered)"
   ]
  },
  {
   "cell_type": "code",
   "execution_count": 286,
   "id": "4a4ab5fe-19f2-43f7-81a5-1788b1f42444",
   "metadata": {
    "execution": {
     "iopub.execute_input": "2025-02-03T18:30:30.821033Z",
     "iopub.status.busy": "2025-02-03T18:30:30.820178Z",
     "iopub.status.idle": "2025-02-03T18:30:30.827211Z",
     "shell.execute_reply": "2025-02-03T18:30:30.826248Z"
    }
   },
   "outputs": [],
   "source": [
    "fill_colours<-c(brewer.pal(9, \"Greens\")[c(5,6,7)],brewer.pal(9, \"Reds\")[c(5,6,7)],brewer.pal(9, \"Purples\")[c(5,6,7)],brewer.pal(9, \"PuRd\")[c(5,6,7)],'gray','black')"
   ]
  },
  {
   "cell_type": "code",
   "execution_count": 287,
   "id": "3b2aa4c1-78f7-425f-babf-d0eb51703629",
   "metadata": {
    "execution": {
     "iopub.execute_input": "2025-02-03T18:30:30.829641Z",
     "iopub.status.busy": "2025-02-03T18:30:30.828772Z",
     "iopub.status.idle": "2025-02-03T18:30:30.836851Z",
     "shell.execute_reply": "2025-02-03T18:30:30.835907Z"
    }
   },
   "outputs": [],
   "source": [
    "library(forcats)\n",
    "library(cowplot)"
   ]
  },
  {
   "cell_type": "code",
   "execution_count": 288,
   "id": "dd3967f6-e2a6-4f57-a905-af1921b176b4",
   "metadata": {
    "execution": {
     "iopub.execute_input": "2025-02-03T18:30:30.839328Z",
     "iopub.status.busy": "2025-02-03T18:30:30.838469Z",
     "iopub.status.idle": "2025-02-03T18:30:31.628381Z",
     "shell.execute_reply": "2025-02-03T18:30:31.627142Z"
    }
   },
   "outputs": [
    {
     "name": "stdout",
     "output_type": "stream",
     "text": [
      "-------------------------------------->\t0 25 50 75 100\n"
     ]
    },
    {
     "data": {
      "image/png": "[encoded data removed]",
      "text/plain": [
       "plot without title"
      ]
     },
     "metadata": {
      "image/png": {
       "height": 420,
       "width": 420
      }
     },
     "output_type": "display_data"
    }
   ],
   "source": [
    "#### Stacked Graph #2---------------\n",
    "  \n",
    "  breaks.Rank<-(seq(0,100,by=25))\n",
    "  labels.Rank<-as.character(breaks.Rank)\n",
    "  \n",
    "  cat(\"-------------------------------------->\\t\")\n",
    "  cat(sprintf(as.character(labels.Rank)))\n",
    "  cat(\"\\n\")\n",
    "  \n",
    "  \n",
    "  stacked_barplot<-Freq.table_filtered %>%\n",
    "    mutate(myaxis = paste0(current_anot, \"\\n\", \"n=\", TOTAL), drop=F) %>%\n",
    "    mutate(myaxis=fct_reorder(myaxis,as.numeric(current_anot)), drop=F) %>%\n",
    "    ggplot(aes(x=myaxis, y=Perc, fill=Assigned_GFPbc_integral)) +\n",
    "    geom_bar(stat=\"identity\",colour='white')+\n",
    "    scale_y_continuous(name=paste(\"Percentage of cells in each cell type\",sep=\" \"),breaks=breaks.Rank,labels=labels.Rank,\n",
    "                       limits=c(breaks.Rank[1],breaks.Rank[length(breaks.Rank)]+1))+\n",
    "    scale_fill_manual(values=fill_colours,\n",
    "                      drop=F,\n",
    "                      name=\"integrative assignation\")\n",
    "\n",
    " stacked_barplot<-stacked_barplot+\n",
    "    theme_cowplot(font_size = 2)+\n",
    "    facet_grid(. ~ time_point+ntime, scales='free_x', space='free_x', switch=\"y\", labeller=labeller(paste0(Freq.table_filtered$time_point, \"\\n\", \"n=\", Freq.table_filtered$ntime)))+   \n",
    "    scale_x_discrete(name=\"Seurat clusters\", drop=T)+\n",
    "    theme( strip.background = element_blank(),\n",
    "           strip.placement = \"outside\",\n",
    "           strip.text = element_text(size=6),\n",
    "           panel.spacing = unit(0.2, \"lines\"),\n",
    "           panel.background=element_rect(fill=\"white\"),\n",
    "           panel.border=element_rect(colour=\"white\",size=0,5),\n",
    "           panel.grid.major = element_blank(),\n",
    "           panel.grid.minor = element_blank())+\n",
    "        theme_classic()+\n",
    "            theme(axis.title.y=element_text(size=12, color=\"black\", family=\"sans\"),\n",
    "                  axis.title.x=element_blank(),\n",
    "                  axis.text.y=element_text(angle=0,size=10, color=\"black\", family=\"sans\"),\n",
    "                  axis.text.x=element_text(angle=45,size=6,vjust=1,hjust=1,color=\"black\", family=\"sans\"),\n",
    "                  axis.line.x = element_line(size = 0.2),\n",
    "                  axis.ticks.x = element_line(size = 0.2),\n",
    "                  axis.ticks.y = element_line(size = 0.2),\n",
    "                  axis.line.y = element_line(size = 0.2))+\n",
    "            theme(legend.title = element_blank(),\n",
    "                  legend.text = element_text(size=8, color=\"black\", family=\"sans\"),\n",
    "                  legend.key.size = unit(0.25, 'cm'), #change legend key size\n",
    "                  legend.key.height = unit(0.25, 'cm'), #change legend key height\n",
    "                  legend.key.width = unit(0.25, 'cm'), #change legend key width\n",
    "                  legend.position=\"bottom\")\n",
    "\n",
    "\n",
    "\n",
    "stacked_barplot"
   ]
  },
  {
   "cell_type": "code",
   "execution_count": 289,
   "id": "1ecf9ee7-44c3-49c8-8a62-d7aab48a4925",
   "metadata": {
    "execution": {
     "iopub.execute_input": "2025-02-03T18:30:43.777223Z",
     "iopub.status.busy": "2025-02-03T18:30:43.776130Z",
     "iopub.status.idle": "2025-02-03T18:30:44.731648Z",
     "shell.execute_reply": "2025-02-03T18:30:44.730468Z"
    }
   },
   "outputs": [],
   "source": [
    "setwd(path_graphs)\n",
    "\n",
    "svgname<-paste(\"stacked_barplot_time_point_current_anot_vs_Assigned_GFPbc_restricted_to_genotyped_cells_integrative_assignation\",\".png\",sep='')\n",
    "makesvg = TRUE\n",
    "\n",
    "if (makesvg == TRUE)\n",
    "{\n",
    "  ggsave(svgname, plot= stacked_barplot,\n",
    "         device=\"png\",\n",
    "        width=12, height=6)\n",
    "}"
   ]
  },
  {
   "cell_type": "markdown",
   "id": "a7044ee1-4cc2-4ecd-88dc-f70b8067c6a0",
   "metadata": {},
   "source": [
    "# Assess how much noise cell bender corrected per cell type and time point"
   ]
  },
  {
   "cell_type": "code",
   "execution_count": 290,
   "id": "a9974c32-4c5c-4d40-a7f7-6371be1632d6",
   "metadata": {
    "execution": {
     "iopub.execute_input": "2025-02-03T18:37:17.499264Z",
     "iopub.status.busy": "2025-02-03T18:37:17.498208Z",
     "iopub.status.idle": "2025-02-03T18:37:17.512890Z",
     "shell.execute_reply": "2025-02-03T18:37:17.511826Z"
    }
   },
   "outputs": [
    {
     "data": {
      "text/plain": [
       "An object of class Seurat \n",
       "12 features across 434347 samples within 1 assay \n",
       "Active assay: RNA (12 features, 0 variable features)\n",
       " 1 layer present: counts"
      ]
     },
     "metadata": {},
     "output_type": "display_data"
    }
   ],
   "source": [
    "merged_CB\n"
   ]
  },
  {
   "cell_type": "code",
   "execution_count": 291,
   "id": "92df3ee5-dd15-4b08-94de-65e0328c3523",
   "metadata": {
    "execution": {
     "iopub.execute_input": "2025-02-03T18:37:21.370118Z",
     "iopub.status.busy": "2025-02-03T18:37:21.369198Z",
     "iopub.status.idle": "2025-02-03T18:37:21.381259Z",
     "shell.execute_reply": "2025-02-03T18:37:21.380224Z"
    }
   },
   "outputs": [
    {
     "data": {
      "text/plain": [
       "An object of class Seurat \n",
       "12 features across 434347 samples within 1 assay \n",
       "Active assay: RNA (12 features, 0 variable features)\n",
       " 1 layer present: counts"
      ]
     },
     "metadata": {},
     "output_type": "display_data"
    }
   ],
   "source": [
    "merged"
   ]
  },
  {
   "cell_type": "code",
   "execution_count": 296,
   "id": "269f5b53-09c5-4aaf-ada3-cf09adb61d8f",
   "metadata": {
    "execution": {
     "iopub.execute_input": "2025-02-03T18:40:31.842452Z",
     "iopub.status.busy": "2025-02-03T18:40:31.841440Z",
     "iopub.status.idle": "2025-02-03T18:40:31.991066Z",
     "shell.execute_reply": "2025-02-03T18:40:31.989825Z"
    }
   },
   "outputs": [],
   "source": [
    "raw_mat     = GetAssayData(merged, layer = \"counts\", assay = \"RNA\")\n",
    "celb_mat    = GetAssayData(merged_CB, layer = \"counts\", assay = \"RNA\")"
   ]
  },
  {
   "cell_type": "code",
   "execution_count": 297,
   "id": "15f3d0fd-0534-4aef-9294-da7da3f5c5ca",
   "metadata": {
    "execution": {
     "iopub.execute_input": "2025-02-03T18:40:34.247023Z",
     "iopub.status.busy": "2025-02-03T18:40:34.246028Z",
     "iopub.status.idle": "2025-02-03T18:40:34.258475Z",
     "shell.execute_reply": "2025-02-03T18:40:34.257444Z"
    }
   },
   "outputs": [
    {
     "name": "stdout",
     "output_type": "stream",
     "text": [
      "Formal class 'dgCMatrix' [package \"Matrix\"] with 6 slots\n",
      "  ..@ i       : int [1:1012499] 4 0 6 8 9 10 11 6 2 10 ...\n",
      "  ..@ p       : int [1:434348] 0 0 1 6 7 7 8 10 11 12 ...\n",
      "  ..@ Dim     : int [1:2] 12 434347\n",
      "  ..@ Dimnames:List of 2\n",
      "  .. ..$ : chr [1:12] \"GFP-chrGFP-WTA\" \"GFP-chrGFP-WTB\" \"GFP-chrGFP-WTC\" \"GFP-chrGFP-rs1\" ...\n",
      "  .. ..$ : chr [1:434347] \"MCO_01326_AAACAGCCAAAGCCTC-1\" \"MCO_01326_AAACAGCCAAAGGTAC-1\" \"MCO_01326_AAACAGCCAAATACCT-1\" \"MCO_01326_AAACAGCCAACACCTA-1\" ...\n",
      "  ..@ x       : num [1:1012499] 1 1 1 1 1 1 1 1 1 2 ...\n",
      "  ..@ factors : list()\n"
     ]
    }
   ],
   "source": [
    "str(raw_mat)"
   ]
  },
  {
   "cell_type": "code",
   "execution_count": 298,
   "id": "b22443fd-664a-44ba-9bf2-bd1b8a4ac06b",
   "metadata": {
    "execution": {
     "iopub.execute_input": "2025-02-03T18:40:36.736046Z",
     "iopub.status.busy": "2025-02-03T18:40:36.735142Z",
     "iopub.status.idle": "2025-02-03T18:40:36.746771Z",
     "shell.execute_reply": "2025-02-03T18:40:36.745760Z"
    }
   },
   "outputs": [
    {
     "name": "stdout",
     "output_type": "stream",
     "text": [
      "Formal class 'dgCMatrix' [package \"Matrix\"] with 6 slots\n",
      "  ..@ i       : int [1:149215] 4 5 6 7 8 9 10 6 8 9 ...\n",
      "  ..@ p       : int [1:434348] 0 0 0 0 0 0 0 0 0 0 ...\n",
      "  ..@ Dim     : int [1:2] 12 434347\n",
      "  ..@ Dimnames:List of 2\n",
      "  .. ..$ : chr [1:12] \"GFP-chrGFP-WTA\" \"GFP-chrGFP-WTB\" \"GFP-chrGFP-WTC\" \"GFP-chrGFP-rs1\" ...\n",
      "  .. ..$ : chr [1:434347] \"MCO_01326_AAACAGCCAAAGCCTC-1\" \"MCO_01326_AAACAGCCAAAGGTAC-1\" \"MCO_01326_AAACAGCCAAATACCT-1\" \"MCO_01326_AAACAGCCAACACCTA-1\" ...\n",
      "  ..@ x       : num [1:149215] 1 1 1 1 17 1 1 1 26 2 ...\n",
      "  ..@ factors : list()\n"
     ]
    }
   ],
   "source": [
    "str(celb_mat)"
   ]
  },
  {
   "cell_type": "code",
   "execution_count": 299,
   "id": "f25fb47a-8162-4374-b49a-aa635b8fc927",
   "metadata": {
    "execution": {
     "iopub.execute_input": "2025-02-03T18:40:49.198527Z",
     "iopub.status.busy": "2025-02-03T18:40:49.197504Z",
     "iopub.status.idle": "2025-02-03T18:40:49.243927Z",
     "shell.execute_reply": "2025-02-03T18:40:49.242629Z"
    }
   },
   "outputs": [],
   "source": [
    "fract       = celb_mat/raw_mat"
   ]
  },
  {
   "cell_type": "code",
   "execution_count": 300,
   "id": "9bf86a02-9977-4bc3-bf11-0ba837a619d5",
   "metadata": {
    "execution": {
     "iopub.execute_input": "2025-02-03T18:40:49.647908Z",
     "iopub.status.busy": "2025-02-03T18:40:49.646983Z",
     "iopub.status.idle": "2025-02-03T18:40:49.658524Z",
     "shell.execute_reply": "2025-02-03T18:40:49.657495Z"
    }
   },
   "outputs": [
    {
     "name": "stdout",
     "output_type": "stream",
     "text": [
      "Formal class 'dgeMatrix' [package \"Matrix\"] with 4 slots\n",
      "  ..@ Dim     : int [1:2] 12 434347\n",
      "  ..@ Dimnames:List of 2\n",
      "  .. ..$ : chr [1:12] \"GFP-chrGFP-WTA\" \"GFP-chrGFP-WTB\" \"GFP-chrGFP-WTC\" \"GFP-chrGFP-rs1\" ...\n",
      "  .. ..$ : chr [1:434347] \"MCO_01326_AAACAGCCAAAGCCTC-1\" \"MCO_01326_AAACAGCCAAAGGTAC-1\" \"MCO_01326_AAACAGCCAAATACCT-1\" \"MCO_01326_AAACAGCCAACACCTA-1\" ...\n",
      "  ..@ x       : num [1:5212164] NaN NaN NaN NaN NaN NaN NaN NaN NaN NaN ...\n",
      "  ..@ factors : list()\n"
     ]
    }
   ],
   "source": [
    "str(fract)"
   ]
  },
  {
   "cell_type": "code",
   "execution_count": 302,
   "id": "5f95ea03-dd3d-4a17-882c-21f533d90c06",
   "metadata": {
    "execution": {
     "iopub.execute_input": "2025-02-03T18:41:39.400508Z",
     "iopub.status.busy": "2025-02-03T18:41:39.399499Z",
     "iopub.status.idle": "2025-02-03T18:41:39.433276Z",
     "shell.execute_reply": "2025-02-03T18:41:39.432196Z"
    }
   },
   "outputs": [
    {
     "data": {
      "text/html": [
       "<style>\n",
       ".dl-inline {width: auto; margin:0; padding: 0}\n",
       ".dl-inline>dt, .dl-inline>dd {float: none; width: auto; display: inline-block}\n",
       ".dl-inline>dt::after {content: \":\\0020\"; padding-right: .5ex}\n",
       ".dl-inline>dt:not(:first-of-type) {padding-left: .5ex}\n",
       "</style><dl class=dl-inline><dt>GFP-chrGFP-WTA</dt><dd>0.20052531246487</dd><dt>GFP-chrGFP-WTB</dt><dd>0.142460400138033</dd><dt>GFP-chrGFP-WTC</dt><dd>0.180309340866562</dd><dt>GFP-chrGFP-rs1</dt><dd>0.135260725622196</dd><dt>GFP-chrGFP-rs2</dt><dd>0.134912298998874</dd><dt>GFP-chrGFP-rs3</dt><dd>0.078552430041707</dd><dt>GFP-chrGFP-R882H1</dt><dd>0.0990335432380072</dd><dt>GFP-chrGFP-R882H2</dt><dd>0.147464171723658</dd><dt>GFP-chrGFP-R882H3</dt><dd>0.0930266324005832</dd><dt>GFP-chrGFP-rs-R882H1</dt><dd>0.10433288693891</dd><dt>GFP-chrGFP-rs-R882H2</dt><dd>0.117554993942648</dd><dt>GFP-chrGFP-rs-R882H3</dt><dd>0.115287802704233</dd></dl>\n"
      ],
      "text/latex": [
       "\\begin{description*}\n",
       "\\item[GFP-chrGFP-WTA] 0.20052531246487\n",
       "\\item[GFP-chrGFP-WTB] 0.142460400138033\n",
       "\\item[GFP-chrGFP-WTC] 0.180309340866562\n",
       "\\item[GFP-chrGFP-rs1] 0.135260725622196\n",
       "\\item[GFP-chrGFP-rs2] 0.134912298998874\n",
       "\\item[GFP-chrGFP-rs3] 0.078552430041707\n",
       "\\item[GFP-chrGFP-R882H1] 0.0990335432380072\n",
       "\\item[GFP-chrGFP-R882H2] 0.147464171723658\n",
       "\\item[GFP-chrGFP-R882H3] 0.0930266324005832\n",
       "\\item[GFP-chrGFP-rs-R882H1] 0.10433288693891\n",
       "\\item[GFP-chrGFP-rs-R882H2] 0.117554993942648\n",
       "\\item[GFP-chrGFP-rs-R882H3] 0.115287802704233\n",
       "\\end{description*}\n"
      ],
      "text/markdown": [
       "GFP-chrGFP-WTA\n",
       ":   0.20052531246487GFP-chrGFP-WTB\n",
       ":   0.142460400138033GFP-chrGFP-WTC\n",
       ":   0.180309340866562GFP-chrGFP-rs1\n",
       ":   0.135260725622196GFP-chrGFP-rs2\n",
       ":   0.134912298998874GFP-chrGFP-rs3\n",
       ":   0.078552430041707GFP-chrGFP-R882H1\n",
       ":   0.0990335432380072GFP-chrGFP-R882H2\n",
       ":   0.147464171723658GFP-chrGFP-R882H3\n",
       ":   0.0930266324005832GFP-chrGFP-rs-R882H1\n",
       ":   0.10433288693891GFP-chrGFP-rs-R882H2\n",
       ":   0.117554993942648GFP-chrGFP-rs-R882H3\n",
       ":   0.115287802704233\n",
       "\n"
      ],
      "text/plain": [
       "      GFP-chrGFP-WTA       GFP-chrGFP-WTB       GFP-chrGFP-WTC \n",
       "          0.20052531           0.14246040           0.18030934 \n",
       "      GFP-chrGFP-rs1       GFP-chrGFP-rs2       GFP-chrGFP-rs3 \n",
       "          0.13526073           0.13491230           0.07855243 \n",
       "   GFP-chrGFP-R882H1    GFP-chrGFP-R882H2    GFP-chrGFP-R882H3 \n",
       "          0.09903354           0.14746417           0.09302663 \n",
       "GFP-chrGFP-rs-R882H1 GFP-chrGFP-rs-R882H2 GFP-chrGFP-rs-R882H3 \n",
       "          0.10433289           0.11755499           0.11528780 "
      ]
     },
     "metadata": {},
     "output_type": "display_data"
    }
   ],
   "source": [
    "means       = rowMeans(fract, na.rm=T)\n",
    "means\n"
   ]
  },
  {
   "cell_type": "code",
   "execution_count": 303,
   "id": "4ada52e4-8137-47b3-8233-cf8ad45949c5",
   "metadata": {
    "execution": {
     "iopub.execute_input": "2025-02-03T18:43:07.811091Z",
     "iopub.status.busy": "2025-02-03T18:43:07.810071Z",
     "iopub.status.idle": "2025-02-03T18:43:13.293228Z",
     "shell.execute_reply": "2025-02-03T18:43:13.292007Z"
    }
   },
   "outputs": [
    {
     "name": "stderr",
     "output_type": "stream",
     "text": [
      "Warning message:\n",
      "\"Data is of class dgeMatrix. Coercing to dgCMatrix.\"\n"
     ]
    }
   ],
   "source": [
    "  CB_correction = CreateSeuratObject(counts = fract)\n"
   ]
  },
  {
   "cell_type": "code",
   "execution_count": 304,
   "id": "7cb34913-c205-4204-a04a-f1cc2f43c3df",
   "metadata": {
    "execution": {
     "iopub.execute_input": "2025-02-03T18:43:23.549105Z",
     "iopub.status.busy": "2025-02-03T18:43:23.548080Z",
     "iopub.status.idle": "2025-02-03T18:43:23.561187Z",
     "shell.execute_reply": "2025-02-03T18:43:23.560103Z"
    }
   },
   "outputs": [
    {
     "data": {
      "text/plain": [
       "An object of class Seurat \n",
       "12 features across 434347 samples within 1 assay \n",
       "Active assay: RNA (12 features, 0 variable features)\n",
       " 1 layer present: counts"
      ]
     },
     "metadata": {},
     "output_type": "display_data"
    }
   ],
   "source": [
    "CB_correction"
   ]
  },
  {
   "cell_type": "code",
   "execution_count": 305,
   "id": "872be31a-930b-43e1-845a-b2cd2c475e61",
   "metadata": {
    "execution": {
     "iopub.execute_input": "2025-02-03T18:44:02.179724Z",
     "iopub.status.busy": "2025-02-03T18:44:02.178687Z",
     "iopub.status.idle": "2025-02-03T18:44:02.188697Z",
     "shell.execute_reply": "2025-02-03T18:44:02.187616Z"
    }
   },
   "outputs": [
    {
     "name": "stdout",
     "output_type": "stream",
     "text": [
      " chr [1:434347] \"MCO_01326_AAACAGCCAAAGCCTC-1\" ...\n"
     ]
    }
   ],
   "source": [
    "str(row.names(CB_correction@meta.data))"
   ]
  },
  {
   "cell_type": "markdown",
   "id": "222967a0-8f99-42f1-a3d1-2c038bffade9",
   "metadata": {},
   "source": [
    "## Only use the barcodes that are part of my final object"
   ]
  },
  {
   "cell_type": "code",
   "execution_count": 306,
   "id": "c67c8906-6858-4ee4-9e4d-a3a7c49e00c1",
   "metadata": {
    "execution": {
     "iopub.execute_input": "2025-02-03T18:45:43.067251Z",
     "iopub.status.busy": "2025-02-03T18:45:43.066226Z",
     "iopub.status.idle": "2025-02-03T18:45:43.102641Z",
     "shell.execute_reply": "2025-02-03T18:45:43.101486Z"
    }
   },
   "outputs": [
    {
     "name": "stdout",
     "output_type": "stream",
     "text": [
      " chr [1:37492] \"MCO_01326_AAACAGCCACAGCCAT-1\" ...\n"
     ]
    }
   ],
   "source": [
    "joint.bcs <- intersect(colnames(adata), colnames(CB_correction))\n",
    "\n",
    "str(joint.bcs)"
   ]
  },
  {
   "cell_type": "code",
   "execution_count": 307,
   "id": "e0900aa1-064f-40df-89ea-0c3c7d75b0af",
   "metadata": {
    "execution": {
     "iopub.execute_input": "2025-02-03T18:45:44.463157Z",
     "iopub.status.busy": "2025-02-03T18:45:44.462136Z",
     "iopub.status.idle": "2025-02-03T18:45:47.551837Z",
     "shell.execute_reply": "2025-02-03T18:45:47.550685Z"
    }
   },
   "outputs": [
    {
     "data": {
      "text/plain": [
       "An object of class Seurat \n",
       "12 features across 37492 samples within 1 assay \n",
       "Active assay: RNA (12 features, 0 variable features)\n",
       " 1 layer present: counts"
      ]
     },
     "metadata": {},
     "output_type": "display_data"
    }
   ],
   "source": [
    "CB_correction_restricted <- subset(CB_correction, cells = joint.bcs)\n",
    "\n",
    "CB_correction_restricted"
   ]
  },
  {
   "cell_type": "code",
   "execution_count": 308,
   "id": "81f8408c-5260-4323-b83f-9ef8a89844ee",
   "metadata": {
    "execution": {
     "iopub.execute_input": "2025-02-03T18:47:30.820703Z",
     "iopub.status.busy": "2025-02-03T18:47:30.819621Z",
     "iopub.status.idle": "2025-02-03T18:47:30.832402Z",
     "shell.execute_reply": "2025-02-03T18:47:30.831314Z"
    }
   },
   "outputs": [
    {
     "data": {
      "text/html": [
       "<style>\n",
       ".list-inline {list-style: none; margin:0; padding: 0}\n",
       ".list-inline>li {display: inline-block}\n",
       ".list-inline>li:not(:last-child)::after {content: \"\\00b7\"; padding: 0 .5ex}\n",
       "</style>\n",
       "<ol class=list-inline><li>'orig.ident'</li><li>'nCount_RNA'</li><li>'nFeature_RNA'</li><li>'percent.mt'</li><li>'nCount_RNA_raw'</li><li>'nFeature_RNA_raw'</li><li>'nCount_ATAC'</li><li>'nFeature_ATAC'</li><li>'gex_raw_reads'</li><li>'gex_mapped_reads'</li><li>'gex_conf_intergenic_reads'</li><li>'gex_conf_exonic_reads'</li><li>'gex_conf_intronic_reads'</li><li>'gex_conf_exonic_unique_reads'</li><li>'gex_conf_exonic_antisense_reads'</li><li>'gex_conf_exonic_dup_reads'</li><li>'gex_exonic_umis'</li><li>'gex_conf_intronic_unique_reads'</li><li>'gex_conf_intronic_antisense_reads'</li><li>'gex_conf_intronic_dup_reads'</li><li>'gex_intronic_umis'</li><li>'gex_conf_txomic_unique_reads'</li><li>'gex_umis_count'</li><li>'gex_genes_count'</li><li>'atac_raw_reads'</li><li>'atac_unmapped_reads'</li><li>'atac_lowmapq'</li><li>'atac_dup_reads'</li><li>'atac_chimeric_reads'</li><li>'atac_mitochondrial_reads'</li><li>'atac_fragments'</li><li>'atac_TSS_fragments'</li><li>'atac_peak_region_fragments'</li><li>'atac_peak_region_cutsites'</li><li>'TSS.enrichment'</li><li>'TSS.percentile'</li><li>'scDblFinder.class'</li><li>'scDblFinder.score'</li><li>'scDblFinder.weighted'</li><li>'scDblFinder.cxds_score'</li><li>'scDblFinder.class_atac'</li><li>'scDblFinder.score_atac'</li><li>'scDblFinder.weighted_atac'</li><li>'scDblFinder.cxds_score_atac'</li><li>'No_assigned_GFPbc'</li><li>'Assigned_GFPbc'</li><li>'Assigned_GFPgenotype'</li><li>'DBL_comb'</li><li>'amulet_nFrags'</li><li>'amulet_uniqFrags'</li><li>'amulet_nAbove2'</li><li>'amulet_total.nAbove2'</li><li>'amulet_p.value'</li><li>'amulet_q.value'</li><li>'doublet_amulet'</li><li>'nCount_SCT'</li><li>'nFeature_SCT'</li><li>'SCT.weight'</li><li>'ATAC.weight'</li><li>'wsnn_res.0.2'</li><li>'seurat_clusters'</li><li>'doublet'</li><li>'wsnn_res.2'</li><li>'wsnn_res.0.5'</li><li>'wsnn_res.0.25'</li><li>'CellTypist_BMA_label'</li><li>'CellTypist_BMA_conf_score'</li><li>'CellTypist_IPSCs_label'</li><li>'CellTypist_IPSCs_conf_score'</li><li>'CellTypist_BMA_label_filtered'</li><li>'CellTypist_IPSCs_label_filtered'</li><li>'time_point'</li><li>'time'</li><li>'nucleosome_signal'</li><li>'nucleosome_percentile'</li><li>'FRiP'</li><li>'atac_pct_reads_in_peaks'</li><li>'my_anot'</li><li>'FOI'</li><li>'my_anot_updated'</li><li>'majority_voting_BMA'</li><li>'majority_voting_iPSCs'</li><li>'current_anot'</li><li>'Assignation_demux_NO_CB'</li><li>'Assigned_GFPbc_demux_NO_CB'</li><li>'Assignation_demux_CB'</li><li>'Assigned_GFPbc_demux_CB'</li><li>'Assigned_GFPbc_integral'</li></ol>\n"
      ],
      "text/latex": [
       "\\begin{enumerate*}\n",
       "\\item 'orig.ident'\n",
       "\\item 'nCount\\_RNA'\n",
       "\\item 'nFeature\\_RNA'\n",
       "\\item 'percent.mt'\n",
       "\\item 'nCount\\_RNA\\_raw'\n",
       "\\item 'nFeature\\_RNA\\_raw'\n",
       "\\item 'nCount\\_ATAC'\n",
       "\\item 'nFeature\\_ATAC'\n",
       "\\item 'gex\\_raw\\_reads'\n",
       "\\item 'gex\\_mapped\\_reads'\n",
       "\\item 'gex\\_conf\\_intergenic\\_reads'\n",
       "\\item 'gex\\_conf\\_exonic\\_reads'\n",
       "\\item 'gex\\_conf\\_intronic\\_reads'\n",
       "\\item 'gex\\_conf\\_exonic\\_unique\\_reads'\n",
       "\\item 'gex\\_conf\\_exonic\\_antisense\\_reads'\n",
       "\\item 'gex\\_conf\\_exonic\\_dup\\_reads'\n",
       "\\item 'gex\\_exonic\\_umis'\n",
       "\\item 'gex\\_conf\\_intronic\\_unique\\_reads'\n",
       "\\item 'gex\\_conf\\_intronic\\_antisense\\_reads'\n",
       "\\item 'gex\\_conf\\_intronic\\_dup\\_reads'\n",
       "\\item 'gex\\_intronic\\_umis'\n",
       "\\item 'gex\\_conf\\_txomic\\_unique\\_reads'\n",
       "\\item 'gex\\_umis\\_count'\n",
       "\\item 'gex\\_genes\\_count'\n",
       "\\item 'atac\\_raw\\_reads'\n",
       "\\item 'atac\\_unmapped\\_reads'\n",
       "\\item 'atac\\_lowmapq'\n",
       "\\item 'atac\\_dup\\_reads'\n",
       "\\item 'atac\\_chimeric\\_reads'\n",
       "\\item 'atac\\_mitochondrial\\_reads'\n",
       "\\item 'atac\\_fragments'\n",
       "\\item 'atac\\_TSS\\_fragments'\n",
       "\\item 'atac\\_peak\\_region\\_fragments'\n",
       "\\item 'atac\\_peak\\_region\\_cutsites'\n",
       "\\item 'TSS.enrichment'\n",
       "\\item 'TSS.percentile'\n",
       "\\item 'scDblFinder.class'\n",
       "\\item 'scDblFinder.score'\n",
       "\\item 'scDblFinder.weighted'\n",
       "\\item 'scDblFinder.cxds\\_score'\n",
       "\\item 'scDblFinder.class\\_atac'\n",
       "\\item 'scDblFinder.score\\_atac'\n",
       "\\item 'scDblFinder.weighted\\_atac'\n",
       "\\item 'scDblFinder.cxds\\_score\\_atac'\n",
       "\\item 'No\\_assigned\\_GFPbc'\n",
       "\\item 'Assigned\\_GFPbc'\n",
       "\\item 'Assigned\\_GFPgenotype'\n",
       "\\item 'DBL\\_comb'\n",
       "\\item 'amulet\\_nFrags'\n",
       "\\item 'amulet\\_uniqFrags'\n",
       "\\item 'amulet\\_nAbove2'\n",
       "\\item 'amulet\\_total.nAbove2'\n",
       "\\item 'amulet\\_p.value'\n",
       "\\item 'amulet\\_q.value'\n",
       "\\item 'doublet\\_amulet'\n",
       "\\item 'nCount\\_SCT'\n",
       "\\item 'nFeature\\_SCT'\n",
       "\\item 'SCT.weight'\n",
       "\\item 'ATAC.weight'\n",
       "\\item 'wsnn\\_res.0.2'\n",
       "\\item 'seurat\\_clusters'\n",
       "\\item 'doublet'\n",
       "\\item 'wsnn\\_res.2'\n",
       "\\item 'wsnn\\_res.0.5'\n",
       "\\item 'wsnn\\_res.0.25'\n",
       "\\item 'CellTypist\\_BMA\\_label'\n",
       "\\item 'CellTypist\\_BMA\\_conf\\_score'\n",
       "\\item 'CellTypist\\_IPSCs\\_label'\n",
       "\\item 'CellTypist\\_IPSCs\\_conf\\_score'\n",
       "\\item 'CellTypist\\_BMA\\_label\\_filtered'\n",
       "\\item 'CellTypist\\_IPSCs\\_label\\_filtered'\n",
       "\\item 'time\\_point'\n",
       "\\item 'time'\n",
       "\\item 'nucleosome\\_signal'\n",
       "\\item 'nucleosome\\_percentile'\n",
       "\\item 'FRiP'\n",
       "\\item 'atac\\_pct\\_reads\\_in\\_peaks'\n",
       "\\item 'my\\_anot'\n",
       "\\item 'FOI'\n",
       "\\item 'my\\_anot\\_updated'\n",
       "\\item 'majority\\_voting\\_BMA'\n",
       "\\item 'majority\\_voting\\_iPSCs'\n",
       "\\item 'current\\_anot'\n",
       "\\item 'Assignation\\_demux\\_NO\\_CB'\n",
       "\\item 'Assigned\\_GFPbc\\_demux\\_NO\\_CB'\n",
       "\\item 'Assignation\\_demux\\_CB'\n",
       "\\item 'Assigned\\_GFPbc\\_demux\\_CB'\n",
       "\\item 'Assigned\\_GFPbc\\_integral'\n",
       "\\end{enumerate*}\n"
      ],
      "text/markdown": [
       "1. 'orig.ident'\n",
       "2. 'nCount_RNA'\n",
       "3. 'nFeature_RNA'\n",
       "4. 'percent.mt'\n",
       "5. 'nCount_RNA_raw'\n",
       "6. 'nFeature_RNA_raw'\n",
       "7. 'nCount_ATAC'\n",
       "8. 'nFeature_ATAC'\n",
       "9. 'gex_raw_reads'\n",
       "10. 'gex_mapped_reads'\n",
       "11. 'gex_conf_intergenic_reads'\n",
       "12. 'gex_conf_exonic_reads'\n",
       "13. 'gex_conf_intronic_reads'\n",
       "14. 'gex_conf_exonic_unique_reads'\n",
       "15. 'gex_conf_exonic_antisense_reads'\n",
       "16. 'gex_conf_exonic_dup_reads'\n",
       "17. 'gex_exonic_umis'\n",
       "18. 'gex_conf_intronic_unique_reads'\n",
       "19. 'gex_conf_intronic_antisense_reads'\n",
       "20. 'gex_conf_intronic_dup_reads'\n",
       "21. 'gex_intronic_umis'\n",
       "22. 'gex_conf_txomic_unique_reads'\n",
       "23. 'gex_umis_count'\n",
       "24. 'gex_genes_count'\n",
       "25. 'atac_raw_reads'\n",
       "26. 'atac_unmapped_reads'\n",
       "27. 'atac_lowmapq'\n",
       "28. 'atac_dup_reads'\n",
       "29. 'atac_chimeric_reads'\n",
       "30. 'atac_mitochondrial_reads'\n",
       "31. 'atac_fragments'\n",
       "32. 'atac_TSS_fragments'\n",
       "33. 'atac_peak_region_fragments'\n",
       "34. 'atac_peak_region_cutsites'\n",
       "35. 'TSS.enrichment'\n",
       "36. 'TSS.percentile'\n",
       "37. 'scDblFinder.class'\n",
       "38. 'scDblFinder.score'\n",
       "39. 'scDblFinder.weighted'\n",
       "40. 'scDblFinder.cxds_score'\n",
       "41. 'scDblFinder.class_atac'\n",
       "42. 'scDblFinder.score_atac'\n",
       "43. 'scDblFinder.weighted_atac'\n",
       "44. 'scDblFinder.cxds_score_atac'\n",
       "45. 'No_assigned_GFPbc'\n",
       "46. 'Assigned_GFPbc'\n",
       "47. 'Assigned_GFPgenotype'\n",
       "48. 'DBL_comb'\n",
       "49. 'amulet_nFrags'\n",
       "50. 'amulet_uniqFrags'\n",
       "51. 'amulet_nAbove2'\n",
       "52. 'amulet_total.nAbove2'\n",
       "53. 'amulet_p.value'\n",
       "54. 'amulet_q.value'\n",
       "55. 'doublet_amulet'\n",
       "56. 'nCount_SCT'\n",
       "57. 'nFeature_SCT'\n",
       "58. 'SCT.weight'\n",
       "59. 'ATAC.weight'\n",
       "60. 'wsnn_res.0.2'\n",
       "61. 'seurat_clusters'\n",
       "62. 'doublet'\n",
       "63. 'wsnn_res.2'\n",
       "64. 'wsnn_res.0.5'\n",
       "65. 'wsnn_res.0.25'\n",
       "66. 'CellTypist_BMA_label'\n",
       "67. 'CellTypist_BMA_conf_score'\n",
       "68. 'CellTypist_IPSCs_label'\n",
       "69. 'CellTypist_IPSCs_conf_score'\n",
       "70. 'CellTypist_BMA_label_filtered'\n",
       "71. 'CellTypist_IPSCs_label_filtered'\n",
       "72. 'time_point'\n",
       "73. 'time'\n",
       "74. 'nucleosome_signal'\n",
       "75. 'nucleosome_percentile'\n",
       "76. 'FRiP'\n",
       "77. 'atac_pct_reads_in_peaks'\n",
       "78. 'my_anot'\n",
       "79. 'FOI'\n",
       "80. 'my_anot_updated'\n",
       "81. 'majority_voting_BMA'\n",
       "82. 'majority_voting_iPSCs'\n",
       "83. 'current_anot'\n",
       "84. 'Assignation_demux_NO_CB'\n",
       "85. 'Assigned_GFPbc_demux_NO_CB'\n",
       "86. 'Assignation_demux_CB'\n",
       "87. 'Assigned_GFPbc_demux_CB'\n",
       "88. 'Assigned_GFPbc_integral'\n",
       "\n",
       "\n"
      ],
      "text/plain": [
       " [1] \"orig.ident\"                        \"nCount_RNA\"                       \n",
       " [3] \"nFeature_RNA\"                      \"percent.mt\"                       \n",
       " [5] \"nCount_RNA_raw\"                    \"nFeature_RNA_raw\"                 \n",
       " [7] \"nCount_ATAC\"                       \"nFeature_ATAC\"                    \n",
       " [9] \"gex_raw_reads\"                     \"gex_mapped_reads\"                 \n",
       "[11] \"gex_conf_intergenic_reads\"         \"gex_conf_exonic_reads\"            \n",
       "[13] \"gex_conf_intronic_reads\"           \"gex_conf_exonic_unique_reads\"     \n",
       "[15] \"gex_conf_exonic_antisense_reads\"   \"gex_conf_exonic_dup_reads\"        \n",
       "[17] \"gex_exonic_umis\"                   \"gex_conf_intronic_unique_reads\"   \n",
       "[19] \"gex_conf_intronic_antisense_reads\" \"gex_conf_intronic_dup_reads\"      \n",
       "[21] \"gex_intronic_umis\"                 \"gex_conf_txomic_unique_reads\"     \n",
       "[23] \"gex_umis_count\"                    \"gex_genes_count\"                  \n",
       "[25] \"atac_raw_reads\"                    \"atac_unmapped_reads\"              \n",
       "[27] \"atac_lowmapq\"                      \"atac_dup_reads\"                   \n",
       "[29] \"atac_chimeric_reads\"               \"atac_mitochondrial_reads\"         \n",
       "[31] \"atac_fragments\"                    \"atac_TSS_fragments\"               \n",
       "[33] \"atac_peak_region_fragments\"        \"atac_peak_region_cutsites\"        \n",
       "[35] \"TSS.enrichment\"                    \"TSS.percentile\"                   \n",
       "[37] \"scDblFinder.class\"                 \"scDblFinder.score\"                \n",
       "[39] \"scDblFinder.weighted\"              \"scDblFinder.cxds_score\"           \n",
       "[41] \"scDblFinder.class_atac\"            \"scDblFinder.score_atac\"           \n",
       "[43] \"scDblFinder.weighted_atac\"         \"scDblFinder.cxds_score_atac\"      \n",
       "[45] \"No_assigned_GFPbc\"                 \"Assigned_GFPbc\"                   \n",
       "[47] \"Assigned_GFPgenotype\"              \"DBL_comb\"                         \n",
       "[49] \"amulet_nFrags\"                     \"amulet_uniqFrags\"                 \n",
       "[51] \"amulet_nAbove2\"                    \"amulet_total.nAbove2\"             \n",
       "[53] \"amulet_p.value\"                    \"amulet_q.value\"                   \n",
       "[55] \"doublet_amulet\"                    \"nCount_SCT\"                       \n",
       "[57] \"nFeature_SCT\"                      \"SCT.weight\"                       \n",
       "[59] \"ATAC.weight\"                       \"wsnn_res.0.2\"                     \n",
       "[61] \"seurat_clusters\"                   \"doublet\"                          \n",
       "[63] \"wsnn_res.2\"                        \"wsnn_res.0.5\"                     \n",
       "[65] \"wsnn_res.0.25\"                     \"CellTypist_BMA_label\"             \n",
       "[67] \"CellTypist_BMA_conf_score\"         \"CellTypist_IPSCs_label\"           \n",
       "[69] \"CellTypist_IPSCs_conf_score\"       \"CellTypist_BMA_label_filtered\"    \n",
       "[71] \"CellTypist_IPSCs_label_filtered\"   \"time_point\"                       \n",
       "[73] \"time\"                              \"nucleosome_signal\"                \n",
       "[75] \"nucleosome_percentile\"             \"FRiP\"                             \n",
       "[77] \"atac_pct_reads_in_peaks\"           \"my_anot\"                          \n",
       "[79] \"FOI\"                               \"my_anot_updated\"                  \n",
       "[81] \"majority_voting_BMA\"               \"majority_voting_iPSCs\"            \n",
       "[83] \"current_anot\"                      \"Assignation_demux_NO_CB\"          \n",
       "[85] \"Assigned_GFPbc_demux_NO_CB\"        \"Assignation_demux_CB\"             \n",
       "[87] \"Assigned_GFPbc_demux_CB\"           \"Assigned_GFPbc_integral\"          "
      ]
     },
     "metadata": {},
     "output_type": "display_data"
    }
   ],
   "source": [
    "colnames(adata@meta.data)"
   ]
  },
  {
   "cell_type": "markdown",
   "id": "3fd7ff45-e604-4168-8f3d-c8d77c312228",
   "metadata": {},
   "source": [
    "## Add metadata from adata"
   ]
  },
  {
   "cell_type": "code",
   "execution_count": 309,
   "id": "bf7ef3ba-fa83-4ad7-a770-6ae8f25ca921",
   "metadata": {
    "execution": {
     "iopub.execute_input": "2025-02-03T18:47:51.370677Z",
     "iopub.status.busy": "2025-02-03T18:47:51.369644Z",
     "iopub.status.idle": "2025-02-03T18:47:51.400720Z",
     "shell.execute_reply": "2025-02-03T18:47:51.399653Z"
    }
   },
   "outputs": [],
   "source": [
    "CB_correction_restricted<-AddMetaData(object= CB_correction_restricted,\n",
    "                  metadata= adata@meta.data$time_point,\n",
    "                  col.name = \"time_point\")"
   ]
  },
  {
   "cell_type": "code",
   "execution_count": 310,
   "id": "d9fa13ac-af16-4068-a6f8-65443c064dcf",
   "metadata": {
    "execution": {
     "iopub.execute_input": "2025-02-03T18:48:25.040471Z",
     "iopub.status.busy": "2025-02-03T18:48:25.039416Z",
     "iopub.status.idle": "2025-02-03T18:48:25.067765Z",
     "shell.execute_reply": "2025-02-03T18:48:25.066576Z"
    }
   },
   "outputs": [],
   "source": [
    "CB_correction_restricted<-AddMetaData(object= CB_correction_restricted,\n",
    "                  metadata= adata@meta.data$current_anot,\n",
    "                  col.name = \"current_anot\")"
   ]
  },
  {
   "cell_type": "code",
   "execution_count": 311,
   "id": "edc1e5c9-06bd-4c4d-b0a5-be2f22335818",
   "metadata": {
    "execution": {
     "iopub.execute_input": "2025-02-03T18:48:25.070392Z",
     "iopub.status.busy": "2025-02-03T18:48:25.069466Z",
     "iopub.status.idle": "2025-02-03T18:48:25.094985Z",
     "shell.execute_reply": "2025-02-03T18:48:25.093895Z"
    }
   },
   "outputs": [],
   "source": [
    "CB_correction_restricted<-AddMetaData(object= CB_correction_restricted,\n",
    "                  metadata= adata@meta.data$Assigned_GFPbc_integral,\n",
    "                  col.name = \"Assigned_GFPbc_integral\")"
   ]
  },
  {
   "cell_type": "code",
   "execution_count": 312,
   "id": "453fa85a-8617-4821-a7ba-341687e4af20",
   "metadata": {
    "execution": {
     "iopub.execute_input": "2025-02-03T18:51:19.179738Z",
     "iopub.status.busy": "2025-02-03T18:51:19.178687Z",
     "iopub.status.idle": "2025-02-03T18:51:19.193760Z",
     "shell.execute_reply": "2025-02-03T18:51:19.192688Z"
    }
   },
   "outputs": [
    {
     "data": {
      "text/plain": [
       "An object of class Seurat \n",
       "12 features across 37492 samples within 1 assay \n",
       "Active assay: RNA (12 features, 0 variable features)\n",
       " 1 layer present: counts"
      ]
     },
     "metadata": {},
     "output_type": "display_data"
    }
   ],
   "source": [
    "CB_correction_restricted"
   ]
  },
  {
   "cell_type": "code",
   "execution_count": 314,
   "id": "e9fa5e9b-daf4-49e2-9939-47ce36c67342",
   "metadata": {
    "execution": {
     "iopub.execute_input": "2025-02-03T18:52:14.141519Z",
     "iopub.status.busy": "2025-02-03T18:52:14.140482Z",
     "iopub.status.idle": "2025-02-03T18:52:14.149213Z",
     "shell.execute_reply": "2025-02-03T18:52:14.148199Z"
    }
   },
   "outputs": [],
   "source": [
    "barcodes<-Features(CB_correction_restricted)"
   ]
  },
  {
   "cell_type": "code",
   "execution_count": 319,
   "id": "1a35433c-473a-4ab4-a0e5-d6e7a3e36bca",
   "metadata": {
    "execution": {
     "iopub.execute_input": "2025-02-03T18:53:56.832485Z",
     "iopub.status.busy": "2025-02-03T18:53:56.831472Z",
     "iopub.status.idle": "2025-02-03T18:53:56.843852Z",
     "shell.execute_reply": "2025-02-03T18:53:56.842796Z"
    }
   },
   "outputs": [
    {
     "data": {
      "text/html": [
       "<style>\n",
       ".list-inline {list-style: none; margin:0; padding: 0}\n",
       ".list-inline>li {display: inline-block}\n",
       ".list-inline>li:not(:last-child)::after {content: \"\\00b7\"; padding: 0 .5ex}\n",
       "</style>\n",
       "<ol class=list-inline><li>'GFP-chrGFP-WTA'</li><li>'GFP-chrGFP-WTB'</li><li>'GFP-chrGFP-WTC'</li><li>'GFP-chrGFP-rs1'</li><li>'GFP-chrGFP-rs2'</li><li>'GFP-chrGFP-rs3'</li><li>'GFP-chrGFP-R882H1'</li><li>'GFP-chrGFP-R882H2'</li><li>'GFP-chrGFP-R882H3'</li><li>'GFP-chrGFP-rs-R882H1'</li><li>'GFP-chrGFP-rs-R882H2'</li><li>'GFP-chrGFP-rs-R882H3'</li></ol>\n"
      ],
      "text/latex": [
       "\\begin{enumerate*}\n",
       "\\item 'GFP-chrGFP-WTA'\n",
       "\\item 'GFP-chrGFP-WTB'\n",
       "\\item 'GFP-chrGFP-WTC'\n",
       "\\item 'GFP-chrGFP-rs1'\n",
       "\\item 'GFP-chrGFP-rs2'\n",
       "\\item 'GFP-chrGFP-rs3'\n",
       "\\item 'GFP-chrGFP-R882H1'\n",
       "\\item 'GFP-chrGFP-R882H2'\n",
       "\\item 'GFP-chrGFP-R882H3'\n",
       "\\item 'GFP-chrGFP-rs-R882H1'\n",
       "\\item 'GFP-chrGFP-rs-R882H2'\n",
       "\\item 'GFP-chrGFP-rs-R882H3'\n",
       "\\end{enumerate*}\n"
      ],
      "text/markdown": [
       "1. 'GFP-chrGFP-WTA'\n",
       "2. 'GFP-chrGFP-WTB'\n",
       "3. 'GFP-chrGFP-WTC'\n",
       "4. 'GFP-chrGFP-rs1'\n",
       "5. 'GFP-chrGFP-rs2'\n",
       "6. 'GFP-chrGFP-rs3'\n",
       "7. 'GFP-chrGFP-R882H1'\n",
       "8. 'GFP-chrGFP-R882H2'\n",
       "9. 'GFP-chrGFP-R882H3'\n",
       "10. 'GFP-chrGFP-rs-R882H1'\n",
       "11. 'GFP-chrGFP-rs-R882H2'\n",
       "12. 'GFP-chrGFP-rs-R882H3'\n",
       "\n",
       "\n"
      ],
      "text/plain": [
       " [1] \"GFP-chrGFP-WTA\"       \"GFP-chrGFP-WTB\"       \"GFP-chrGFP-WTC\"      \n",
       " [4] \"GFP-chrGFP-rs1\"       \"GFP-chrGFP-rs2\"       \"GFP-chrGFP-rs3\"      \n",
       " [7] \"GFP-chrGFP-R882H1\"    \"GFP-chrGFP-R882H2\"    \"GFP-chrGFP-R882H3\"   \n",
       "[10] \"GFP-chrGFP-rs-R882H1\" \"GFP-chrGFP-rs-R882H2\" \"GFP-chrGFP-rs-R882H3\""
      ]
     },
     "metadata": {},
     "output_type": "display_data"
    }
   ],
   "source": [
    "barcodes"
   ]
  },
  {
   "cell_type": "code",
   "execution_count": 325,
   "id": "7000115c-6bbf-4900-8f8b-cd71dfaa4048",
   "metadata": {
    "execution": {
     "iopub.execute_input": "2025-02-03T18:56:19.103117Z",
     "iopub.status.busy": "2025-02-03T18:56:19.102059Z",
     "iopub.status.idle": "2025-02-03T18:56:19.143017Z",
     "shell.execute_reply": "2025-02-03T18:56:19.141870Z"
    }
   },
   "outputs": [
    {
     "name": "stdout",
     "output_type": "stream",
     "text": [
      "'data.frame':\t37492 obs. of  12 variables:\n",
      " $ GFP-chrGFP-WTA      : num  NaN NaN 0 NaN NaN NaN NaN 0 NaN 0 ...\n",
      " $ GFP-chrGFP-WTB      : num  NaN NaN 0 0 NaN NaN NaN 0 0.5 NaN ...\n",
      " $ GFP-chrGFP-WTC      : num  NaN NaN NaN 0 0 NaN NaN NaN NaN 0.5 ...\n",
      " $ GFP-chrGFP-rs1      : num  0 NaN 0 NaN 1 0 0 NaN 0 0 ...\n",
      " $ GFP-chrGFP-rs2      : num  NaN NaN NaN 0 0 NaN NaN 0 NaN NaN ...\n",
      " $ GFP-chrGFP-rs3      : num  0 NaN 0 NaN 0 ...\n",
      " $ GFP-chrGFP-R882H1   : num  0.333 NaN 0 0 0 ...\n",
      " $ GFP-chrGFP-R882H2   : num  NaN NaN NaN NaN NaN NaN NaN NaN NaN NaN ...\n",
      " $ GFP-chrGFP-R882H3   : num  0.929 0 0 0 0.333 ...\n",
      " $ GFP-chrGFP-rs-R882H1: num  0.667 NaN 0 0 0 ...\n",
      " $ GFP-chrGFP-rs-R882H2: num  0.5 0 0 0 0 ...\n",
      " $ GFP-chrGFP-rs-R882H3: num  0.333 0 0 0 NaN ...\n",
      " chr [1:37492] \"MCO_01326_AAACAGCCACAGCCAT-1\" ...\n"
     ]
    }
   ],
   "source": [
    "corrections    = as.data.frame(t(GetAssayData(CB_correction_restricted, layer = \"counts\", assay = \"RNA\")))\n",
    "\n",
    "str(corrections)\n",
    "str(row.names(corrections))"
   ]
  },
  {
   "cell_type": "code",
   "execution_count": 326,
   "id": "a6494c64-4a99-46af-abc4-54ba2e727b58",
   "metadata": {
    "execution": {
     "iopub.execute_input": "2025-02-03T18:57:36.614291Z",
     "iopub.status.busy": "2025-02-03T18:57:36.613238Z",
     "iopub.status.idle": "2025-02-03T18:57:36.623424Z",
     "shell.execute_reply": "2025-02-03T18:57:36.622386Z"
    }
   },
   "outputs": [],
   "source": [
    "corrections$CellID<-row.names(corrections)"
   ]
  },
  {
   "cell_type": "code",
   "execution_count": 327,
   "id": "c95dd751-e39d-4533-a407-a39e17886ec5",
   "metadata": {
    "execution": {
     "iopub.execute_input": "2025-02-03T18:57:37.182815Z",
     "iopub.status.busy": "2025-02-03T18:57:37.181863Z",
     "iopub.status.idle": "2025-02-03T18:57:37.189573Z",
     "shell.execute_reply": "2025-02-03T18:57:37.188541Z"
    }
   },
   "outputs": [],
   "source": [
    "met<-CB_correction_restricted@meta.data"
   ]
  },
  {
   "cell_type": "code",
   "execution_count": 328,
   "id": "0111de5e-a207-4fa0-bc39-9f819ea9fda1",
   "metadata": {
    "execution": {
     "iopub.execute_input": "2025-02-03T18:57:37.743935Z",
     "iopub.status.busy": "2025-02-03T18:57:37.742985Z",
     "iopub.status.idle": "2025-02-03T18:57:37.750597Z",
     "shell.execute_reply": "2025-02-03T18:57:37.749537Z"
    }
   },
   "outputs": [],
   "source": [
    "met$CellID<-row.names(met)"
   ]
  },
  {
   "cell_type": "code",
   "execution_count": 329,
   "id": "0ca4197f-8093-4cbf-b0e0-0a9d13052313",
   "metadata": {
    "execution": {
     "iopub.execute_input": "2025-02-03T18:57:38.177128Z",
     "iopub.status.busy": "2025-02-03T18:57:38.176175Z",
     "iopub.status.idle": "2025-02-03T18:57:38.188014Z",
     "shell.execute_reply": "2025-02-03T18:57:38.186922Z"
    }
   },
   "outputs": [
    {
     "name": "stdout",
     "output_type": "stream",
     "text": [
      "'data.frame':\t37492 obs. of  7 variables:\n",
      " $ orig.ident             : Factor w/ 1 level \"MCO\": 1 1 1 1 1 1 1 1 1 1 ...\n",
      " $ nCount_RNA             : num  NaN NaN NaN NaN NaN NaN NaN NaN NaN NaN ...\n",
      " $ nFeature_RNA           : int  NA NA NA NA NA NA NA NA NA NA ...\n",
      " $ time_point             : Factor w/ 4 levels \"Day_0\",\"Day_8\",..: 1 1 1 1 1 1 1 1 1 1 ...\n",
      " $ current_anot           : Factor w/ 6 levels \"hESC\",\"HemogenicEndothelium\",..: 1 1 1 5 1 1 1 1 1 1 ...\n",
      " $ Assigned_GFPbc_integral: Factor w/ 14 levels \"chrGFP_WTA\",\"chrGFP_WTB\",..: 9 14 14 14 4 14 7 14 13 7 ...\n",
      " $ CellID                 : chr  \"MCO_01326_AAACAGCCACAGCCAT-1\" \"MCO_01326_AAACAGCCACCAGGTT-1\" \"MCO_01326_AAACAGCCACGGTACT-1\" \"MCO_01326_AAACAGCCAGCCGCTA-1\" ...\n"
     ]
    }
   ],
   "source": [
    "str(met)"
   ]
  },
  {
   "cell_type": "code",
   "execution_count": 330,
   "id": "f3e91c7c-470b-4b94-ae60-76e6a663ec3d",
   "metadata": {
    "execution": {
     "iopub.execute_input": "2025-02-03T18:58:17.209382Z",
     "iopub.status.busy": "2025-02-03T18:58:17.208263Z",
     "iopub.status.idle": "2025-02-03T18:58:17.578514Z",
     "shell.execute_reply": "2025-02-03T18:58:17.577270Z"
    }
   },
   "outputs": [],
   "source": [
    "corrections<-merge(corrections, met, by=\"CellID\")"
   ]
  },
  {
   "cell_type": "code",
   "execution_count": 331,
   "id": "d43566e8-d931-4d0d-9387-c3b2979b9637",
   "metadata": {
    "execution": {
     "iopub.execute_input": "2025-02-03T18:58:27.622967Z",
     "iopub.status.busy": "2025-02-03T18:58:27.621937Z",
     "iopub.status.idle": "2025-02-03T18:58:27.639012Z",
     "shell.execute_reply": "2025-02-03T18:58:27.637963Z"
    }
   },
   "outputs": [
    {
     "name": "stdout",
     "output_type": "stream",
     "text": [
      "'data.frame':\t37492 obs. of  19 variables:\n",
      " $ CellID                 : chr  \"MCO_01326_AAACAGCCACAGCCAT-1\" \"MCO_01326_AAACAGCCACCAGGTT-1\" \"MCO_01326_AAACAGCCACGGTACT-1\" \"MCO_01326_AAACAGCCAGCCGCTA-1\" ...\n",
      " $ GFP-chrGFP-WTA         : num  NaN NaN 0 NaN NaN NaN NaN 0 NaN 0 ...\n",
      " $ GFP-chrGFP-WTB         : num  NaN NaN 0 0 NaN NaN NaN 0 0.5 NaN ...\n",
      " $ GFP-chrGFP-WTC         : num  NaN NaN NaN 0 0 NaN NaN NaN NaN 0.5 ...\n",
      " $ GFP-chrGFP-rs1         : num  0 NaN 0 NaN 1 0 0 NaN 0 0 ...\n",
      " $ GFP-chrGFP-rs2         : num  NaN NaN NaN 0 0 NaN NaN 0 NaN NaN ...\n",
      " $ GFP-chrGFP-rs3         : num  0 NaN 0 NaN 0 ...\n",
      " $ GFP-chrGFP-R882H1      : num  0.333 NaN 0 0 0 ...\n",
      " $ GFP-chrGFP-R882H2      : num  NaN NaN NaN NaN NaN NaN NaN NaN NaN NaN ...\n",
      " $ GFP-chrGFP-R882H3      : num  0.929 0 0 0 0.333 ...\n",
      " $ GFP-chrGFP-rs-R882H1   : num  0.667 NaN 0 0 0 ...\n",
      " $ GFP-chrGFP-rs-R882H2   : num  0.5 0 0 0 0 ...\n",
      " $ GFP-chrGFP-rs-R882H3   : num  0.333 0 0 0 NaN ...\n",
      " $ orig.ident             : Factor w/ 1 level \"MCO\": 1 1 1 1 1 1 1 1 1 1 ...\n",
      " $ nCount_RNA             : num  NaN NaN NaN NaN NaN NaN NaN NaN NaN NaN ...\n",
      " $ nFeature_RNA           : int  NA NA NA NA NA NA NA NA NA NA ...\n",
      " $ time_point             : Factor w/ 4 levels \"Day_0\",\"Day_8\",..: 1 1 1 1 1 1 1 1 1 1 ...\n",
      " $ current_anot           : Factor w/ 6 levels \"hESC\",\"HemogenicEndothelium\",..: 1 1 1 5 1 1 1 1 1 1 ...\n",
      " $ Assigned_GFPbc_integral: Factor w/ 14 levels \"chrGFP_WTA\",\"chrGFP_WTB\",..: 9 14 14 14 4 14 7 14 13 7 ...\n"
     ]
    }
   ],
   "source": [
    "str(corrections)"
   ]
  },
  {
   "cell_type": "code",
   "execution_count": 333,
   "id": "e358e1bb-39ae-4b4d-9faa-700f758bbb09",
   "metadata": {
    "execution": {
     "iopub.execute_input": "2025-02-03T18:59:30.914287Z",
     "iopub.status.busy": "2025-02-03T18:59:30.913285Z",
     "iopub.status.idle": "2025-02-03T18:59:30.924662Z",
     "shell.execute_reply": "2025-02-03T18:59:30.923554Z"
    }
   },
   "outputs": [
    {
     "data": {
      "text/html": [
       "<style>\n",
       ".list-inline {list-style: none; margin:0; padding: 0}\n",
       ".list-inline>li {display: inline-block}\n",
       ".list-inline>li:not(:last-child)::after {content: \"\\00b7\"; padding: 0 .5ex}\n",
       "</style>\n",
       "<ol class=list-inline><li>2</li><li>3</li><li>4</li><li>5</li><li>6</li><li>7</li><li>8</li><li>9</li><li>10</li><li>11</li><li>12</li><li>13</li></ol>\n"
      ],
      "text/latex": [
       "\\begin{enumerate*}\n",
       "\\item 2\n",
       "\\item 3\n",
       "\\item 4\n",
       "\\item 5\n",
       "\\item 6\n",
       "\\item 7\n",
       "\\item 8\n",
       "\\item 9\n",
       "\\item 10\n",
       "\\item 11\n",
       "\\item 12\n",
       "\\item 13\n",
       "\\end{enumerate*}\n"
      ],
      "text/markdown": [
       "1. 2\n",
       "2. 3\n",
       "3. 4\n",
       "4. 5\n",
       "5. 6\n",
       "6. 7\n",
       "7. 8\n",
       "8. 9\n",
       "9. 10\n",
       "10. 11\n",
       "11. 12\n",
       "12. 13\n",
       "\n",
       "\n"
      ],
      "text/plain": [
       " [1]  2  3  4  5  6  7  8  9 10 11 12 13"
      ]
     },
     "metadata": {},
     "output_type": "display_data"
    }
   ],
   "source": [
    "indx.to.melt<-grep(\"^GFP-\",colnames(corrections))\n",
    "indx.to.melt"
   ]
  },
  {
   "cell_type": "code",
   "execution_count": 334,
   "id": "1cd29171-7ef1-47d7-8951-51607e70dceb",
   "metadata": {
    "execution": {
     "iopub.execute_input": "2025-02-03T19:01:03.616149Z",
     "iopub.status.busy": "2025-02-03T19:01:03.615057Z",
     "iopub.status.idle": "2025-02-03T19:01:04.532458Z",
     "shell.execute_reply": "2025-02-03T19:01:04.531320Z"
    }
   },
   "outputs": [
    {
     "name": "stderr",
     "output_type": "stream",
     "text": [
      "Warning message in melt(corrections, id.vars = colnames(corrections)[-indx.to.melt], :\n",
      "\"The melt generic in data.table has been passed a data.frame and will attempt to redirect to the relevant reshape2 method; please note that reshape2 is deprecated, and this redirection is now deprecated as well. To continue using melt methods from reshape2 while both libraries are attached, e.g. melt.list, you can prepend the namespace like reshape2::melt(corrections). In the next version, this warning will become an error.\"\n"
     ]
    },
    {
     "name": "stdout",
     "output_type": "stream",
     "text": [
      "'data.frame':\t449904 obs. of  9 variables:\n",
      " $ CellID                   : chr  \"MCO_01326_AAACAGCCACAGCCAT-1\" \"MCO_01326_AAACAGCCACCAGGTT-1\" \"MCO_01326_AAACAGCCACGGTACT-1\" \"MCO_01326_AAACAGCCAGCCGCTA-1\" ...\n",
      " $ orig.ident               : Factor w/ 1 level \"MCO\": 1 1 1 1 1 1 1 1 1 1 ...\n",
      " $ nCount_RNA               : num  NaN NaN NaN NaN NaN NaN NaN NaN NaN NaN ...\n",
      " $ nFeature_RNA             : int  NA NA NA NA NA NA NA NA NA NA ...\n",
      " $ time_point               : Factor w/ 4 levels \"Day_0\",\"Day_8\",..: 1 1 1 1 1 1 1 1 1 1 ...\n",
      " $ current_anot             : Factor w/ 6 levels \"hESC\",\"HemogenicEndothelium\",..: 1 1 1 5 1 1 1 1 1 1 ...\n",
      " $ Assigned_GFPbc_integral  : Factor w/ 14 levels \"chrGFP_WTA\",\"chrGFP_WTB\",..: 9 14 14 14 4 14 7 14 13 7 ...\n",
      " $ barcode                  : Factor w/ 12 levels \"GFP-chrGFP-WTA\",..: 1 1 1 1 1 1 1 1 1 1 ...\n",
      " $ percent_of_original_value: num  NaN NaN 0 NaN NaN NaN NaN 0 NaN 0 ...\n"
     ]
    }
   ],
   "source": [
    "corrections.m<-melt(corrections, id.vars=colnames(corrections)[-indx.to.melt], variable.name=\"barcode\", value.name=\"percent_of_original_value\")\n",
    "\n",
    "str(corrections.m)"
   ]
  },
  {
   "cell_type": "code",
   "execution_count": 335,
   "id": "b08f3962-0869-4420-9f34-97869b38ec83",
   "metadata": {
    "execution": {
     "iopub.execute_input": "2025-02-03T19:03:02.382593Z",
     "iopub.status.busy": "2025-02-03T19:03:02.381530Z",
     "iopub.status.idle": "2025-02-03T19:03:03.894861Z",
     "shell.execute_reply": "2025-02-03T19:03:03.893604Z"
    }
   },
   "outputs": [],
   "source": [
    "corrections.m$barcode<-gsub(\"^GFP-\",\"\",corrections.m$barcode)\n",
    "corrections.m$barcode<-gsub(\"-\",\"_\",corrections.m$barcode)"
   ]
  },
  {
   "cell_type": "code",
   "execution_count": 337,
   "id": "2f4e308c-b44e-4df9-ac08-69c390c4fca1",
   "metadata": {
    "execution": {
     "iopub.execute_input": "2025-02-03T19:03:47.577170Z",
     "iopub.status.busy": "2025-02-03T19:03:47.576109Z",
     "iopub.status.idle": "2025-02-03T19:03:47.603639Z",
     "shell.execute_reply": "2025-02-03T19:03:47.602486Z"
    }
   },
   "outputs": [
    {
     "data": {
      "text/html": [
       "<style>\n",
       ".dl-inline {width: auto; margin:0; padding: 0}\n",
       ".dl-inline>dt, .dl-inline>dd {float: none; width: auto; display: inline-block}\n",
       ".dl-inline>dt::after {content: \":\\0020\"; padding-right: .5ex}\n",
       ".dl-inline>dt:not(:first-of-type) {padding-left: .5ex}\n",
       "</style><dl class=dl-inline><dt>chrGFP_R882H1</dt><dd>37492</dd><dt>chrGFP_R882H2</dt><dd>37492</dd><dt>chrGFP_R882H3</dt><dd>37492</dd><dt>chrGFP_rs_R882H1</dt><dd>37492</dd><dt>chrGFP_rs_R882H2</dt><dd>37492</dd><dt>chrGFP_rs_R882H3</dt><dd>37492</dd><dt>chrGFP_rs1</dt><dd>37492</dd><dt>chrGFP_rs2</dt><dd>37492</dd><dt>chrGFP_rs3</dt><dd>37492</dd><dt>chrGFP_WTA</dt><dd>37492</dd><dt>chrGFP_WTB</dt><dd>37492</dd><dt>chrGFP_WTC</dt><dd>37492</dd></dl>\n"
      ],
      "text/latex": [
       "\\begin{description*}\n",
       "\\item[chrGFP\\textbackslash{}\\_R882H1] 37492\n",
       "\\item[chrGFP\\textbackslash{}\\_R882H2] 37492\n",
       "\\item[chrGFP\\textbackslash{}\\_R882H3] 37492\n",
       "\\item[chrGFP\\textbackslash{}\\_rs\\textbackslash{}\\_R882H1] 37492\n",
       "\\item[chrGFP\\textbackslash{}\\_rs\\textbackslash{}\\_R882H2] 37492\n",
       "\\item[chrGFP\\textbackslash{}\\_rs\\textbackslash{}\\_R882H3] 37492\n",
       "\\item[chrGFP\\textbackslash{}\\_rs1] 37492\n",
       "\\item[chrGFP\\textbackslash{}\\_rs2] 37492\n",
       "\\item[chrGFP\\textbackslash{}\\_rs3] 37492\n",
       "\\item[chrGFP\\textbackslash{}\\_WTA] 37492\n",
       "\\item[chrGFP\\textbackslash{}\\_WTB] 37492\n",
       "\\item[chrGFP\\textbackslash{}\\_WTC] 37492\n",
       "\\end{description*}\n"
      ],
      "text/markdown": [
       "chrGFP_R882H1\n",
       ":   37492chrGFP_R882H2\n",
       ":   37492chrGFP_R882H3\n",
       ":   37492chrGFP_rs_R882H1\n",
       ":   37492chrGFP_rs_R882H2\n",
       ":   37492chrGFP_rs_R882H3\n",
       ":   37492chrGFP_rs1\n",
       ":   37492chrGFP_rs2\n",
       ":   37492chrGFP_rs3\n",
       ":   37492chrGFP_WTA\n",
       ":   37492chrGFP_WTB\n",
       ":   37492chrGFP_WTC\n",
       ":   37492\n",
       "\n"
      ],
      "text/plain": [
       "   chrGFP_R882H1    chrGFP_R882H2    chrGFP_R882H3 chrGFP_rs_R882H1 \n",
       "           37492            37492            37492            37492 \n",
       "chrGFP_rs_R882H2 chrGFP_rs_R882H3       chrGFP_rs1       chrGFP_rs2 \n",
       "           37492            37492            37492            37492 \n",
       "      chrGFP_rs3       chrGFP_WTA       chrGFP_WTB       chrGFP_WTC \n",
       "           37492            37492            37492            37492 "
      ]
     },
     "metadata": {},
     "output_type": "display_data"
    }
   ],
   "source": [
    "summary(as.factor(corrections.m$barcode))"
   ]
  },
  {
   "cell_type": "code",
   "execution_count": 338,
   "id": "27e33f52-50b5-4de9-b257-b49e33a217d9",
   "metadata": {
    "execution": {
     "iopub.execute_input": "2025-02-03T19:03:47.606193Z",
     "iopub.status.busy": "2025-02-03T19:03:47.605307Z",
     "iopub.status.idle": "2025-02-03T19:03:47.617439Z",
     "shell.execute_reply": "2025-02-03T19:03:47.616419Z"
    }
   },
   "outputs": [],
   "source": [
    "corrections.m$barcode<-factor(corrections.m$barcode,\n",
    "                                       levels = c(\"chrGFP_WTA\",\"chrGFP_WTB\",\"chrGFP_WTC\",\n",
    "                                                  \"chrGFP_rs1\",\"chrGFP_rs2\",\"chrGFP_rs3\",\n",
    "                                                  \"chrGFP_R882H1\",\"chrGFP_R882H2\",\"chrGFP_R882H3\",\n",
    "                                                  \"chrGFP_rs_R882H1\",\"chrGFP_rs_R882H2\",\"chrGFP_rs_R882H3\",\"Doublet\",\"Negative\"),\n",
    "                                       ordered=T)"
   ]
  },
  {
   "cell_type": "code",
   "execution_count": 339,
   "id": "3ef162ab-cbb6-4dd3-99ad-0452774ab551",
   "metadata": {
    "execution": {
     "iopub.execute_input": "2025-02-03T19:03:47.619973Z",
     "iopub.status.busy": "2025-02-03T19:03:47.619073Z",
     "iopub.status.idle": "2025-02-03T19:03:47.636719Z",
     "shell.execute_reply": "2025-02-03T19:03:47.635619Z"
    }
   },
   "outputs": [
    {
     "data": {
      "text/html": [
       "<style>\n",
       ".dl-inline {width: auto; margin:0; padding: 0}\n",
       ".dl-inline>dt, .dl-inline>dd {float: none; width: auto; display: inline-block}\n",
       ".dl-inline>dt::after {content: \":\\0020\"; padding-right: .5ex}\n",
       ".dl-inline>dt:not(:first-of-type) {padding-left: .5ex}\n",
       "</style><dl class=dl-inline><dt>chrGFP_WTA</dt><dd>37492</dd><dt>chrGFP_WTB</dt><dd>37492</dd><dt>chrGFP_WTC</dt><dd>37492</dd><dt>chrGFP_rs1</dt><dd>37492</dd><dt>chrGFP_rs2</dt><dd>37492</dd><dt>chrGFP_rs3</dt><dd>37492</dd><dt>chrGFP_R882H1</dt><dd>37492</dd><dt>chrGFP_R882H2</dt><dd>37492</dd><dt>chrGFP_R882H3</dt><dd>37492</dd><dt>chrGFP_rs_R882H1</dt><dd>37492</dd><dt>chrGFP_rs_R882H2</dt><dd>37492</dd><dt>chrGFP_rs_R882H3</dt><dd>37492</dd><dt>Doublet</dt><dd>0</dd><dt>Negative</dt><dd>0</dd></dl>\n"
      ],
      "text/latex": [
       "\\begin{description*}\n",
       "\\item[chrGFP\\textbackslash{}\\_WTA] 37492\n",
       "\\item[chrGFP\\textbackslash{}\\_WTB] 37492\n",
       "\\item[chrGFP\\textbackslash{}\\_WTC] 37492\n",
       "\\item[chrGFP\\textbackslash{}\\_rs1] 37492\n",
       "\\item[chrGFP\\textbackslash{}\\_rs2] 37492\n",
       "\\item[chrGFP\\textbackslash{}\\_rs3] 37492\n",
       "\\item[chrGFP\\textbackslash{}\\_R882H1] 37492\n",
       "\\item[chrGFP\\textbackslash{}\\_R882H2] 37492\n",
       "\\item[chrGFP\\textbackslash{}\\_R882H3] 37492\n",
       "\\item[chrGFP\\textbackslash{}\\_rs\\textbackslash{}\\_R882H1] 37492\n",
       "\\item[chrGFP\\textbackslash{}\\_rs\\textbackslash{}\\_R882H2] 37492\n",
       "\\item[chrGFP\\textbackslash{}\\_rs\\textbackslash{}\\_R882H3] 37492\n",
       "\\item[Doublet] 0\n",
       "\\item[Negative] 0\n",
       "\\end{description*}\n"
      ],
      "text/markdown": [
       "chrGFP_WTA\n",
       ":   37492chrGFP_WTB\n",
       ":   37492chrGFP_WTC\n",
       ":   37492chrGFP_rs1\n",
       ":   37492chrGFP_rs2\n",
       ":   37492chrGFP_rs3\n",
       ":   37492chrGFP_R882H1\n",
       ":   37492chrGFP_R882H2\n",
       ":   37492chrGFP_R882H3\n",
       ":   37492chrGFP_rs_R882H1\n",
       ":   37492chrGFP_rs_R882H2\n",
       ":   37492chrGFP_rs_R882H3\n",
       ":   37492Doublet\n",
       ":   0Negative\n",
       ":   0\n",
       "\n"
      ],
      "text/plain": [
       "      chrGFP_WTA       chrGFP_WTB       chrGFP_WTC       chrGFP_rs1 \n",
       "           37492            37492            37492            37492 \n",
       "      chrGFP_rs2       chrGFP_rs3    chrGFP_R882H1    chrGFP_R882H2 \n",
       "           37492            37492            37492            37492 \n",
       "   chrGFP_R882H3 chrGFP_rs_R882H1 chrGFP_rs_R882H2 chrGFP_rs_R882H3 \n",
       "           37492            37492            37492            37492 \n",
       "         Doublet         Negative \n",
       "               0                0 "
      ]
     },
     "metadata": {},
     "output_type": "display_data"
    }
   ],
   "source": [
    "summary(corrections.m$barcode)"
   ]
  },
  {
   "cell_type": "code",
   "execution_count": 341,
   "id": "5a04331f-6eae-4623-aa26-abbc0b43eaed",
   "metadata": {
    "execution": {
     "iopub.execute_input": "2025-02-03T19:04:36.163743Z",
     "iopub.status.busy": "2025-02-03T19:04:36.162740Z",
     "iopub.status.idle": "2025-02-03T19:04:36.180892Z",
     "shell.execute_reply": "2025-02-03T19:04:36.179845Z"
    }
   },
   "outputs": [],
   "source": [
    "corrections.m$barcode<-droplevels(corrections.m$barcode)"
   ]
  },
  {
   "cell_type": "code",
   "execution_count": 342,
   "id": "3e6f1f69-c2ba-4606-ad2f-6d774c7cd4ac",
   "metadata": {
    "execution": {
     "iopub.execute_input": "2025-02-03T19:06:10.498899Z",
     "iopub.status.busy": "2025-02-03T19:06:10.497839Z",
     "iopub.status.idle": "2025-02-03T19:06:10.513572Z",
     "shell.execute_reply": "2025-02-03T19:06:10.512538Z"
    }
   },
   "outputs": [
    {
     "name": "stdout",
     "output_type": "stream",
     "text": [
      "'data.frame':\t449904 obs. of  9 variables:\n",
      " $ CellID                   : chr  \"MCO_01326_AAACAGCCACAGCCAT-1\" \"MCO_01326_AAACAGCCACCAGGTT-1\" \"MCO_01326_AAACAGCCACGGTACT-1\" \"MCO_01326_AAACAGCCAGCCGCTA-1\" ...\n",
      " $ orig.ident               : Factor w/ 1 level \"MCO\": 1 1 1 1 1 1 1 1 1 1 ...\n",
      " $ nCount_RNA               : num  NaN NaN NaN NaN NaN NaN NaN NaN NaN NaN ...\n",
      " $ nFeature_RNA             : int  NA NA NA NA NA NA NA NA NA NA ...\n",
      " $ time_point               : Factor w/ 4 levels \"Day_0\",\"Day_8\",..: 1 1 1 1 1 1 1 1 1 1 ...\n",
      " $ current_anot             : Factor w/ 6 levels \"hESC\",\"HemogenicEndothelium\",..: 1 1 1 5 1 1 1 1 1 1 ...\n",
      " $ Assigned_GFPbc_integral  : Factor w/ 14 levels \"chrGFP_WTA\",\"chrGFP_WTB\",..: 9 14 14 14 4 14 7 14 13 7 ...\n",
      " $ barcode                  : Ord.factor w/ 12 levels \"chrGFP_WTA\"<\"chrGFP_WTB\"<..: 1 1 1 1 1 1 1 1 1 1 ...\n",
      " $ percent_of_original_value: num  NaN NaN 0 NaN NaN NaN NaN 0 NaN 0 ...\n"
     ]
    }
   ],
   "source": [
    "str(corrections.m)"
   ]
  },
  {
   "cell_type": "code",
   "execution_count": 343,
   "id": "73417353-7157-4145-8d29-431671802c6d",
   "metadata": {
    "execution": {
     "iopub.execute_input": "2025-02-03T19:07:03.115026Z",
     "iopub.status.busy": "2025-02-03T19:07:03.113973Z",
     "iopub.status.idle": "2025-02-03T19:07:03.649565Z",
     "shell.execute_reply": "2025-02-03T19:07:03.648411Z"
    }
   },
   "outputs": [
    {
     "name": "stderr",
     "output_type": "stream",
     "text": [
      "Warning message:\n",
      "\"\u001b[1m\u001b[22mUsing `size` aesthetic for lines was deprecated in ggplot2 3.4.0.\n",
      "\u001b[36mℹ\u001b[39m Please use `linewidth` instead.\"\n",
      "Warning message:\n",
      "\"\u001b[1m\u001b[22mRemoved 212365 rows containing non-finite values (`stat_ydensity()`).\"\n"
     ]
    },
    {
     "data": {
      "image/png": "[encoded data removed]",
      "text/plain": [
       "plot without title"
      ]
     },
     "metadata": {
      "image/png": {
       "height": 420,
       "width": 420
      }
     },
     "output_type": "display_data"
    }
   ],
   "source": [
    " violin_plot<-ggplot(data=corrections.m,\n",
    "                aes(x=barcode, y=percent_of_original_value))+\n",
    "    geom_violin(scale = \"width\", adjust = 1, trim = FALSE, linetype = \"solid\", size=0.25, color='black', fill='white')\n",
    "\n",
    "\n",
    "\n",
    "\n",
    "\n",
    "   violin_plot\n",
    "   \n",
    "\n",
    "\n"
   ]
  },
  {
   "cell_type": "code",
   "execution_count": 344,
   "id": "0f4f2833-1f73-4ca9-9b84-18ff88301378",
   "metadata": {
    "execution": {
     "iopub.execute_input": "2025-02-03T19:08:43.685368Z",
     "iopub.status.busy": "2025-02-03T19:08:43.684320Z",
     "iopub.status.idle": "2025-02-03T19:08:44.943131Z",
     "shell.execute_reply": "2025-02-03T19:08:44.942010Z"
    }
   },
   "outputs": [
    {
     "name": "stderr",
     "output_type": "stream",
     "text": [
      "Warning message:\n",
      "\"\u001b[1m\u001b[22mRemoved 212365 rows containing non-finite values (`stat_ydensity()`).\"\n"
     ]
    },
    {
     "data": {
      "image/png": "[encoded data removed]",
      "text/plain": [
       "plot without title"
      ]
     },
     "metadata": {
      "image/png": {
       "height": 420,
       "width": 420
      }
     },
     "output_type": "display_data"
    }
   ],
   "source": [
    "violin_plot<-violin_plot+\n",
    "    theme_cowplot(font_size = 2)+\n",
    "    facet_grid(. ~ time_point, scales='free_x', space='free_x', switch=\"y\")+   \n",
    "    scale_x_discrete(name=\"Barcode\", drop=T)+\n",
    "    theme( strip.background = element_blank(),\n",
    "           strip.placement = \"outside\",\n",
    "           strip.text = element_text(size=6),\n",
    "           panel.spacing = unit(0.2, \"lines\"),\n",
    "           panel.background=element_rect(fill=\"white\"),\n",
    "           panel.border=element_rect(colour=\"white\",size=0,5),\n",
    "           panel.grid.major = element_blank(),\n",
    "           panel.grid.minor = element_blank())+\n",
    "        theme_classic()+\n",
    "            theme(axis.title.y=element_text(size=12, color=\"black\", family=\"sans\"),\n",
    "                  axis.title.x=element_blank(),\n",
    "                  axis.text.y=element_text(angle=0,size=10, color=\"black\", family=\"sans\"),\n",
    "                  axis.text.x=element_text(angle=45,size=6,vjust=1,hjust=1,color=\"black\", family=\"sans\"),\n",
    "                  axis.line.x = element_line(size = 0.2),\n",
    "                  axis.ticks.x = element_line(size = 0.2),\n",
    "                  axis.ticks.y = element_line(size = 0.2),\n",
    "                  axis.line.y = element_line(size = 0.2))+\n",
    "            theme(legend.title = element_blank(),\n",
    "                  legend.text = element_text(size=8, color=\"black\", family=\"sans\"),\n",
    "                  legend.key.size = unit(0.25, 'cm'), #change legend key size\n",
    "                  legend.key.height = unit(0.25, 'cm'), #change legend key height\n",
    "                  legend.key.width = unit(0.25, 'cm'), #change legend key width\n",
    "                  legend.position=\"none\")\n",
    "\n",
    "violin_plot"
   ]
  },
  {
   "cell_type": "markdown",
   "id": "f6404c97-0624-4ff1-9ba3-e9ac0941f164",
   "metadata": {},
   "source": [
    "# Save the new object"
   ]
  },
  {
   "cell_type": "code",
   "execution_count": 345,
   "id": "8fd92ad7-aa39-4ae9-b178-79fc986487c4",
   "metadata": {
    "execution": {
     "iopub.execute_input": "2025-02-03T19:12:23.636569Z",
     "iopub.status.busy": "2025-02-03T19:12:23.635573Z",
     "iopub.status.idle": "2025-02-03T19:25:59.251900Z",
     "shell.execute_reply": "2025-02-03T19:25:59.250447Z"
    }
   },
   "outputs": [],
   "source": [
    "setwd(\"/group/soranzo/manuel.tardaguila/2025_hESC_MK_multiome/processing_outputs/\")\n",
    "\n",
    "saveRDS(adata, file=\"merged_processed_presentation_updated_integrative_genotyping.rds\")"
   ]
  },
  {
   "cell_type": "code",
   "execution_count": null,
   "id": "1f333e17-2b17-4b34-a84f-ff20814909d2",
   "metadata": {},
   "outputs": [],
   "source": []
  }
 ],
 "metadata": {
  "kernelspec": {
   "display_name": "R [conda env:multiome_QC]",
   "language": "R",
   "name": "conda-env-multiome_QC-r"
  },
  "language_info": {
   "codemirror_mode": "r",
   "file_extension": ".r",
   "mimetype": "text/x-r-source",
   "name": "R",
   "pygments_lexer": "r",
   "version": "4.3.1"
  }
 },
 "nbformat": 4,
 "nbformat_minor": 5
}
